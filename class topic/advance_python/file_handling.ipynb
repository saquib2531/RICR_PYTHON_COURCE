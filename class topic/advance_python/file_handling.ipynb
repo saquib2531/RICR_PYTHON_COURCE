{
 "cells": [
  {
   "cell_type": "markdown",
   "id": "98fbf669",
   "metadata": {},
   "source": [
    "read(): reads the entire content of the files as a single line\n",
    "readline(): reads a single line from the file.\n",
    "readlines(): reads all lines from the file as a list of strings."
   ]
  },
  {
   "cell_type": "code",
   "execution_count": null,
   "id": "2745aced",
   "metadata": {},
   "outputs": [
    {
     "name": "stdout",
     "output_type": "stream",
     "text": [
      "Q9. Write a function list_intersection(list1, list2) that returns a list of elements \n",
      "that are present in both list1 and list2 \n",
      "Q10. Write a Python function that takes a list of strings as input and returns a \n",
      "tuple containing the shortest and longest word from the list, in that order. If \n",
      "there are multiple words of the same shortest or longest length, return the \n",
      "first shortest/longest word found.  \n",
      "Input:- \n",
      "words = [\"apple\", \"banana\", \"kiwi\", \"grapefruit\", \"orange\"] \n",
      "Output:- ('kiwi', 'grapefruit')\n"
     ]
    }
   ],
   "source": [
    "#reading the entire content of a file \n",
    "f=open('example.txt','r')\n",
    "content = f.read()\n",
    "print(content)\n",
    "f.close() "
   ]
  },
  {
   "cell_type": "code",
   "execution_count": 2,
   "id": "945abbdc",
   "metadata": {},
   "outputs": [
    {
     "name": "stdout",
     "output_type": "stream",
     "text": [
      "Q9. Write a function list_intersection(list1, list2) that returns a list of elements \n",
      " that are present in both list1 and list2 \n",
      " Q10. Write a Python function that takes a list of strings as input and returns a \n",
      " tuple containing the shortest and longest word from the list, in that order. If \n",
      " there are multiple words of the same shortest or longest length, return the \n",
      " first shortest/longest word found.  \n",
      " Input:- \n",
      " words = [\"apple\", \"banana\", \"kiwi\", \"grapefruit\", \"orange\"] \n",
      " Output:- ('kiwi', 'grapefruit') "
     ]
    }
   ],
   "source": [
    "f=open('example.txt','r')\n",
    "content =f.readlines()\n",
    "for i in content:\n",
    "    print(i,end=' ')\n",
    "f.close()"
   ]
  },
  {
   "cell_type": "code",
   "execution_count": 10,
   "id": "aaa9d472",
   "metadata": {},
   "outputs": [
    {
     "name": "stdout",
     "output_type": "stream",
     "text": [
      "Q9. Write a function list_intersection(list1, list2) that returns a list of elements \n",
      "\n",
      "that are present in both list1 and list2 \n",
      "\n"
     ]
    }
   ],
   "source": [
    "f=open('example.txt','r')\n",
    "content =f.readline()\n",
    "temp= f.readline() # for next line\n",
    "print(content)\n",
    "print(temp)\n",
    "f.close()\n"
   ]
  },
  {
   "cell_type": "code",
   "execution_count": null,
   "id": "ebea2e3d",
   "metadata": {},
   "outputs": [
    {
     "name": "stdout",
     "output_type": "stream",
     "text": [
      "Q9. Write \n"
     ]
    }
   ],
   "source": [
    "# using the with statement\n",
    "with open('example.txt','r') as file:\n",
    "    content= file.read() # by the help of read you can set the target of word to read as read(10)\n",
    "    print(content)\n"
   ]
  },
  {
   "cell_type": "code",
   "execution_count": 14,
   "id": "429705dc",
   "metadata": {},
   "outputs": [],
   "source": [
    "# write mode : 1. agr file created ni to wo first file banayga fir data dalega\n",
    "# 2. agr file pahle se saved h to uske sare content ko delete karga fir tumhari di hui data ko write karega\n",
    "\n",
    "# with open('example1.txt', 'w') as file :\n",
    "#     file.write('hello this is a new file') # follow 1\n",
    "with open('example1.txt', 'w') as file :\n",
    "    file.write('how are you') # follow 2\n"
   ]
  },
  {
   "cell_type": "code",
   "execution_count": null,
   "id": "fe601624",
   "metadata": {},
   "outputs": [],
   "source": [
    "with open('example1.txt','a') as file:\n",
    "    file.write('   lets play chess')# append mode curser ko last me shift kar deta h jisse wite statment uske bad lagata h\n"
   ]
  },
  {
   "cell_type": "markdown",
   "id": "107fc58c",
   "metadata": {},
   "source": [
    "file modes: r+,w+, a+\n",
    "1. read()= 'r'\n",
    "2. write()= 'w'\n",
    "3. append()= 'a'"
   ]
  },
  {
   "cell_type": "code",
   "execution_count": 21,
   "id": "e724cd98",
   "metadata": {},
   "outputs": [
    {
     "name": "stdout",
     "output_type": "stream",
     "text": [
      "original content = this is the updated liness   lets play chess\n",
      "\n",
      "this is the updated liness   lets play chess\n",
      "\n"
     ]
    }
   ],
   "source": [
    "# r+ mode read or write dono mode me open karega \n",
    "# seek() function se hm pointer ko move karte h\n",
    "with open('example1.txt','r+') as file:\n",
    "    content=file.read()\n",
    "    print('original content =',content)\n",
    "\n",
    "    file.seek(0)\n",
    "    file.write('this is the updated line')\n",
    "    file.seek(0)\n",
    "    content=file.read()\n",
    "    print(content)"
   ]
  },
  {
   "cell_type": "code",
   "execution_count": 23,
   "id": "d7b40f26",
   "metadata": {},
   "outputs": [
    {
     "name": "stdout",
     "output_type": "stream",
     "text": [
      "86\n"
     ]
    }
   ],
   "source": [
    "with open('example.txt','r+') as file:\n",
    "    # content=file.read()\n",
    "    # print(content)\n",
    "    x=len(file.readline())\n",
    "    print(x)"
   ]
  },
  {
   "cell_type": "code",
   "execution_count": 1,
   "id": "9d67e469",
   "metadata": {},
   "outputs": [
    {
     "name": "stdout",
     "output_type": "stream",
     "text": [
      "new content: this will be the new content.\n"
     ]
    }
   ],
   "source": [
    "#open the file in 'w+' mode (reading and writing, with truncation)\n",
    "with open('sample.txt','w+') as file:\n",
    "    file.write('this will be the new content.') # write new content \n",
    "    file.seek(0) # move the cursor to the begining\n",
    "    content=file.read() # read the file\n",
    "    print('new content:',content)"
   ]
  },
  {
   "cell_type": "code",
   "execution_count": 3,
   "id": "98639735",
   "metadata": {},
   "outputs": [
    {
     "name": "stdout",
     "output_type": "stream",
     "text": [
      "updated content: this will be the new content.\n",
      "Apended content.\n",
      "Apended content.\n"
     ]
    }
   ],
   "source": [
    "with open('sample.txt','a+') as file:\n",
    "    file.write('\\nApended content.')# add new content at the end \n",
    "    file.seek(0) # move the cursor to the begining of the file\n",
    "    content=file.read()#read the entire content\n",
    "    print('updated content:',content)\n",
    "    "
   ]
  },
  {
   "cell_type": "code",
   "execution_count": 11,
   "id": "308a2936",
   "metadata": {},
   "outputs": [
    {
     "name": "stdout",
     "output_type": "stream",
     "text": [
      "file created successfully!\n"
     ]
    }
   ],
   "source": [
    "# 'x' mode\n",
    "with open('sample1.txt','x') as file:\n",
    "    file.write('this is a new file created using \"x\" mode.')\n",
    "    print('file created successfully!')"
   ]
  },
  {
   "cell_type": "code",
   "execution_count": 10,
   "id": "0cd80558",
   "metadata": {},
   "outputs": [],
   "source": [
    "# delete can be done using os \n",
    "import os\n",
    "os.remove('sample1.txt')"
   ]
  },
  {
   "cell_type": "markdown",
   "id": "cea36d19",
   "metadata": {},
   "source": [
    "Questions"
   ]
  },
  {
   "cell_type": "markdown",
   "id": "37d291f9",
   "metadata": {},
   "source": [
    "1.create a file ame student.txt and write the following text into it:\n",
    "Alice second 85 in mathematics.\n",
    "Bob scored 78 in science.\n",
    "Charlie scored 92 in english."
   ]
  },
  {
   "cell_type": "code",
   "execution_count": 5,
   "id": "b4d4079d",
   "metadata": {},
   "outputs": [
    {
     "name": "stdout",
     "output_type": "stream",
     "text": [
      "Alice second 85 in mathematics.\n",
      "Bob scored 78 in science.\n",
      "Charlie scored 92 in english.\n"
     ]
    }
   ],
   "source": [
    "with open('student.txt','w+') as file:\n",
    "    file.write(\"Alice second 85 in mathematics.\\nBob scored 78 in science.\\nCharlie scored 92 in english.\")\n",
    "    file.seek(0)\n",
    "    print(file.read())"
   ]
  },
  {
   "cell_type": "markdown",
   "id": "5028d3d4",
   "metadata": {},
   "source": [
    "2. write a function to replace every occurance of a score greater than 80 with the word \"excellent\" int file students.txt"
   ]
  },
  {
   "cell_type": "code",
   "execution_count": 6,
   "id": "9f150a2c",
   "metadata": {},
   "outputs": [
    {
     "name": "stdout",
     "output_type": "stream",
     "text": [
      "['Alice second 85 in mathematics.\\n', 'Bob scored 78 in science.\\n', 'Charlie scored 92 in english.']\n",
      "Alice second excelent in mathematics.\n",
      "Bob scored 78 in science.\n",
      "Charlie scored excelent in english.\n"
     ]
    }
   ],
   "source": [
    "with open('student.txt','r') as file:\n",
    "    temp=file.readlines()\n",
    "print(temp)\n",
    "def fun(st):\n",
    "    x=st.split(\" \")\n",
    "    x1=[]\n",
    "    for i in x:\n",
    "        if i.isdigit() and int(i)>80:\n",
    "            x1.append('excelent')\n",
    "        else:\n",
    "            x1.append(i)\n",
    "    m=' '.join(x1)\n",
    "    return m\n",
    "with open('student.txt','r+') as file:\n",
    "    for i in temp:\n",
    "        file.write(fun(i))\n",
    "    file.seek(0)\n",
    "    print(file.read())\n",
    "\n"
   ]
  },
  {
   "cell_type": "markdown",
   "id": "46df2a40",
   "metadata": {},
   "source": [
    "3.check whether the word 'science' exiss in the file students.txt."
   ]
  },
  {
   "cell_type": "code",
   "execution_count": 28,
   "id": "d61c7bc2",
   "metadata": {},
   "outputs": [
    {
     "name": "stdout",
     "output_type": "stream",
     "text": [
      "True\n"
     ]
    }
   ],
   "source": [
    "file= open('student.txt','r')\n",
    "content=file.readlines()\n",
    "for i in content:\n",
    "    if 'science' in i:\n",
    "        print(True)\n",
    "file.close()"
   ]
  },
  {
   "cell_type": "markdown",
   "id": "ebb59b4d",
   "metadata": {},
   "source": [
    "4.write a function to find the first line where the word 'scored' appears in the file student.txt. print the nile number, or -1 if he word is not found."
   ]
  },
  {
   "cell_type": "code",
   "execution_count": 2,
   "id": "ffe206d1",
   "metadata": {},
   "outputs": [],
   "source": [
    "with open('student.txt','r') as file:\n",
    "    x=file.readline()\n",
    "    a=x.split(' ')\n",
    "    for i in range(len(a)-1):\n",
    "        if a[i]=='scored':\n",
    "            print(a[i+1])\n",
    "        else:\n",
    "            print(-1)\n",
    "file.close()"
   ]
  },
  {
   "cell_type": "markdown",
   "id": "0f0a60ec",
   "metadata": {},
   "source": [
    "create a file grades.txt containing grades separated by space (eg., A B C D A B). write a programe to count how many times the grade A appears in the file"
   ]
  }
 ],
 "metadata": {
  "kernelspec": {
   "display_name": "Python 3",
   "language": "python",
   "name": "python3"
  },
  "language_info": {
   "codemirror_mode": {
    "name": "ipython",
    "version": 3
   },
   "file_extension": ".py",
   "mimetype": "text/x-python",
   "name": "python",
   "nbconvert_exporter": "python",
   "pygments_lexer": "ipython3",
   "version": "3.11.9"
  }
 },
 "nbformat": 4,
 "nbformat_minor": 5
}
