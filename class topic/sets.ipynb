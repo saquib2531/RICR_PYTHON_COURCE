{
 "cells": [
  {
   "cell_type": "code",
   "execution_count": 5,
   "id": "da731286",
   "metadata": {},
   "outputs": [
    {
     "name": "stdout",
     "output_type": "stream",
     "text": [
      "{1, 2, (4, 5, 6, 7, 8)}\n"
     ]
    }
   ],
   "source": [
    "s={1,2}\n",
    "s.add((4,5,6,7,8))\n",
    "print(s)"
   ]
  },
  {
   "cell_type": "code",
   "execution_count": 6,
   "id": "826cd8dc",
   "metadata": {},
   "outputs": [
    {
     "name": "stdout",
     "output_type": "stream",
     "text": [
      "{1, 2, 4, 5, 6, 7, 8}\n"
     ]
    }
   ],
   "source": [
    "s={1,2}\n",
    "s.update((4,5,6,7,8,2))\n",
    "print(s)"
   ]
  },
  {
   "cell_type": "code",
   "execution_count": 7,
   "id": "2de6c208",
   "metadata": {},
   "outputs": [
    {
     "name": "stdout",
     "output_type": "stream",
     "text": [
      "{0, 1, 2, 3, 4, 5, 6, 6.7, 8, (3, 5, 6), 9, 10, 's', 'i', '@', 56, 67, 'h', 'o', 90, 'd', 'u', 'j'}\n"
     ]
    }
   ],
   "source": [
    "s={0,2,1,3,4,5,6,False,4,5,6.7,0}\n",
    "s.update([8,(3,5,6),9],{10,2,3},(90,67,56),'hi','jius@odsuh')\n",
    "print(s)"
   ]
  },
  {
   "cell_type": "code",
   "execution_count": 8,
   "id": "777f6329",
   "metadata": {},
   "outputs": [
    {
     "name": "stdout",
     "output_type": "stream",
     "text": [
      "{0, 1, 2, 3, 5, 6}\n"
     ]
    }
   ],
   "source": [
    "s={0, 1, 2, 3, 4, 5, 6}\n",
    "s.remove(4)\n",
    "print(s)"
   ]
  },
  {
   "cell_type": "code",
   "execution_count": 10,
   "id": "4358135f",
   "metadata": {},
   "outputs": [
    {
     "ename": "KeyError",
     "evalue": "4",
     "output_type": "error",
     "traceback": [
      "\u001b[1;31m---------------------------------------------------------------------------\u001b[0m",
      "\u001b[1;31mKeyError\u001b[0m                                  Traceback (most recent call last)",
      "Cell \u001b[1;32mIn[10], line 2\u001b[0m\n\u001b[0;32m      1\u001b[0m s\u001b[38;5;241m=\u001b[39m{\u001b[38;5;241m0\u001b[39m, \u001b[38;5;241m1\u001b[39m, \u001b[38;5;241m2\u001b[39m, \u001b[38;5;241m3\u001b[39m, \u001b[38;5;241m5\u001b[39m, \u001b[38;5;241m6\u001b[39m}\n\u001b[1;32m----> 2\u001b[0m \u001b[43ms\u001b[49m\u001b[38;5;241;43m.\u001b[39;49m\u001b[43mremove\u001b[49m\u001b[43m(\u001b[49m\u001b[38;5;241;43m4\u001b[39;49m\u001b[43m)\u001b[49m\n\u001b[0;32m      3\u001b[0m \u001b[38;5;28mprint\u001b[39m(s)\n",
      "\u001b[1;31mKeyError\u001b[0m: 4"
     ]
    }
   ],
   "source": [
    "s={0, 1, 2, 3, 5, 6}\n",
    "s.remove(4)\n",
    "print(s)"
   ]
  },
  {
   "cell_type": "code",
   "execution_count": 9,
   "id": "f687f93d",
   "metadata": {},
   "outputs": [
    {
     "name": "stdout",
     "output_type": "stream",
     "text": [
      "{0, 1, 2, 3, 5, 6}\n"
     ]
    }
   ],
   "source": [
    "s={0, 1, 2, 3, 5, 6}\n",
    "s.discard(4)\n",
    "print(s)"
   ]
  },
  {
   "cell_type": "markdown",
   "id": "269fdb7f",
   "metadata": {},
   "source": [
    "sets:\n",
    "properties:\n",
    "- stores unique and ummutable elements\n",
    "- inclosed by {}\n",
    "- set itself is mutable\n",
    "- set in unordered so, indexing is not possible\n"
   ]
  },
  {
   "cell_type": "code",
   "execution_count": null,
   "id": "1dd5e8df",
   "metadata": {},
   "outputs": [
    {
     "name": "stdout",
     "output_type": "stream",
     "text": [
      "<class 'set'>\n",
      "<class 'dict'>\n",
      "<class 'set'>\n"
     ]
    }
   ],
   "source": [
    "#creation of sets\n",
    "s=set() #emplty set having data type set\n",
    "print(type(s))\n",
    "s={} # not set gives data type disctionary \n",
    "print(type(s))\n",
    "s={1,2,3,4}\n",
    "print(type(s)) #if it is having element it will give data type set \n"
   ]
  },
  {
   "cell_type": "code",
   "execution_count": 3,
   "id": "8da88333",
   "metadata": {},
   "outputs": [
    {
     "name": "stdout",
     "output_type": "stream",
     "text": [
      "{1, 2, 3, 4}\n"
     ]
    }
   ],
   "source": [
    "#sets of integer\n",
    "s={1,2,3,4}\n",
    "print(s)"
   ]
  },
  {
   "cell_type": "code",
   "execution_count": 9,
   "id": "7cb8b4af",
   "metadata": {},
   "outputs": [
    {
     "name": "stdout",
     "output_type": "stream",
     "text": [
      "{1}\n",
      "{(1, 2, 3, 4), 1}\n"
     ]
    }
   ],
   "source": [
    "#addition of elemets in empty set or set\n",
    "# there are two methods of add an element\n",
    "#add(): it add only one element at a time\n",
    "s=set()\n",
    "s.add(1)\n",
    "print(s)\n",
    "\n",
    "s.add((1,2,3,4)) # it can add the whole tpl\n",
    "print(s)\n",
    "# s.add([1,2,3,4,5,6,7,8]) it only add immutable\n",
    "# print(s)\n",
    "\n"
   ]
  },
  {
   "cell_type": "code",
   "execution_count": 13,
   "id": "8aeaa3c8",
   "metadata": {},
   "outputs": [
    {
     "name": "stdout",
     "output_type": "stream",
     "text": [
      "{1, 2, 3, 4, 6, 7, 8}\n",
      "{1, 2, 3, 4, 33, 6, 7, 8, 34, 11, 44, 12, 22, 23, 56}\n"
     ]
    }
   ],
   "source": [
    "# updat(): add the sequence of element but the sequence should be immutable\n",
    "s=set()\n",
    "s.update([1,2,3,4,6,7,8])\n",
    "print(s)\n",
    "\n",
    "# t=set()\n",
    "# t.update([1,2,3,[1,2,3,4],6,7])  # it will give error because list is mutable\n",
    "# print(t)\n",
    "\n",
    "s.update([1,2,3,4],(11,22,33,44),{12,23,34,56})\n",
    "print(s)"
   ]
  },
  {
   "cell_type": "code",
   "execution_count": 16,
   "id": "86db8d22",
   "metadata": {},
   "outputs": [
    {
     "name": "stdout",
     "output_type": "stream",
     "text": [
      "{1, 2, 4, 33, 6, 7, 8, 34, 11, 44, 12, 22, 23, 56}\n"
     ]
    }
   ],
   "source": [
    "# removel of element\n",
    "# there are several functions for removal of element\n",
    "# remove()\n",
    "s={1, 2, 3, 4, 33, 6, 7, 8, 34, 11, 44, 12, 22, 23, 56}\n",
    "s.remove(3)\n",
    "print(s)\n",
    "\n",
    "# s.remove(3)  # it element is not in the set it will give error\n",
    "# print(s)"
   ]
  },
  {
   "cell_type": "code",
   "execution_count": 17,
   "id": "b230b897",
   "metadata": {},
   "outputs": [
    {
     "name": "stdout",
     "output_type": "stream",
     "text": [
      "{1, 2, 4, 33, 6, 7, 8, 34, 11, 44, 12, 22, 23, 56}\n",
      "{1, 2, 4, 33, 6, 7, 8, 34, 11, 44, 12, 22, 23, 56}\n"
     ]
    }
   ],
   "source": [
    "# discard()\n",
    "s={1, 2, 3, 4, 33, 6, 7, 8, 34, 11, 44, 12, 22, 23, 56}\n",
    "s.discard(3)\n",
    "print(s)\n",
    "\n",
    "s.discard(3)  # if element is not present in set it will not give eroor\n",
    "print(s)"
   ]
  },
  {
   "cell_type": "code",
   "execution_count": 18,
   "id": "858e130a",
   "metadata": {},
   "outputs": [
    {
     "name": "stdout",
     "output_type": "stream",
     "text": [
      "1\n",
      "{2, 3, 4, 33, 6, 7, 8, 34, 11, 44, 12, 22, 23, 56}\n"
     ]
    }
   ],
   "source": [
    "# pop: remove the random element from the set and can be stored \n",
    "s={1, 2, 3, 4, 33, 6, 7, 8, 34, 11, 44, 12, 22, 23, 56}\n",
    "a=s.pop()\n",
    "print(a)\n",
    "print(s)\n"
   ]
  },
  {
   "cell_type": "code",
   "execution_count": 19,
   "id": "72960c4a",
   "metadata": {},
   "outputs": [
    {
     "name": "stdout",
     "output_type": "stream",
     "text": [
      "set()\n"
     ]
    }
   ],
   "source": [
    "# clear() : clear all the element from the set\n",
    "s={1, 2, 3, 4, 33, 6, 7, 8, 34, 11, 44, 12, 22, 23, 56}\n",
    "s.clear()\n",
    "print(s)"
   ]
  },
  {
   "cell_type": "code",
   "execution_count": null,
   "id": "9dc83bff",
   "metadata": {},
   "outputs": [
    {
     "ename": "NameError",
     "evalue": "name 's' is not defined",
     "output_type": "error",
     "traceback": [
      "\u001b[1;31m---------------------------------------------------------------------------\u001b[0m",
      "\u001b[1;31mNameError\u001b[0m                                 Traceback (most recent call last)",
      "Cell \u001b[1;32mIn[20], line 4\u001b[0m\n\u001b[0;32m      2\u001b[0m s\u001b[38;5;241m=\u001b[39m{\u001b[38;5;241m1\u001b[39m, \u001b[38;5;241m2\u001b[39m, \u001b[38;5;241m3\u001b[39m, \u001b[38;5;241m4\u001b[39m, \u001b[38;5;241m33\u001b[39m, \u001b[38;5;241m6\u001b[39m, \u001b[38;5;241m7\u001b[39m, \u001b[38;5;241m8\u001b[39m, \u001b[38;5;241m34\u001b[39m, \u001b[38;5;241m11\u001b[39m, \u001b[38;5;241m44\u001b[39m, \u001b[38;5;241m12\u001b[39m, \u001b[38;5;241m22\u001b[39m, \u001b[38;5;241m23\u001b[39m, \u001b[38;5;241m56\u001b[39m}\n\u001b[0;32m      3\u001b[0m \u001b[38;5;28;01mdel\u001b[39;00m(s)\n\u001b[1;32m----> 4\u001b[0m \u001b[38;5;28mprint\u001b[39m(\u001b[43ms\u001b[49m)\n",
      "\u001b[1;31mNameError\u001b[0m: name 's' is not defined"
     ]
    }
   ],
   "source": [
    "# del() : delet whole set\n",
    "s={1, 2, 3, 4, 33, 6, 7, 8, 34, 11, 44, 12, 22, 23, 56}\n",
    "del(s)\n",
    "print(s)  # gies error because the set does not exists\n"
   ]
  },
  {
   "cell_type": "code",
   "execution_count": 1,
   "id": "21954a45",
   "metadata": {},
   "outputs": [
    {
     "name": "stdout",
     "output_type": "stream",
     "text": [
      "5\n"
     ]
    }
   ],
   "source": [
    "lst=[3,5,7,3,5,8,7,9]\n",
    "s=set(lst)\n",
    "x=len(s)\n",
    "print(x)"
   ]
  },
  {
   "cell_type": "code",
   "execution_count": 9,
   "id": "d345f8a5",
   "metadata": {},
   "outputs": [
    {
     "name": "stdout",
     "output_type": "stream",
     "text": [
      "if you work hard you will sucess one day 9\n",
      "{'if', 'day', 'work', 'hard', 'sucess', 'you', 'one', 'will'}\n",
      "8\n"
     ]
    }
   ],
   "source": [
    "n=(input())\n",
    "y=n.split()\n",
    "print(n,len(y))\n",
    "s=set(y)\n",
    "print(s)\n",
    "print(len(s))"
   ]
  },
  {
   "cell_type": "code",
   "execution_count": null,
   "id": "f3174336",
   "metadata": {},
   "outputs": [],
   "source": [
    "lst=[1, 2, 3, 4, 5, 6, 7]\n",
    "x=max(lst)\n",
    "print"
   ]
  },
  {
   "cell_type": "code",
   "execution_count": 11,
   "id": "6f0d7d8f",
   "metadata": {},
   "outputs": [
    {
     "name": "stdout",
     "output_type": "stream",
     "text": [
      "[1, 2, 3, 4, 33, 6, 5, 7]\n",
      "6\n"
     ]
    }
   ],
   "source": [
    "lst=[1, 2, 3, 4, 33,2,4,6,4,2,3,5,2,4,4,2,4,5, 6, 7]\n",
    "lst=set(lst)\n",
    "lst=list(lst)\n",
    "print(lst)\n",
    "x=lst.sort()\n",
    "print(lst[-3])"
   ]
  },
  {
   "cell_type": "markdown",
   "id": "741aab53",
   "metadata": {},
   "source": []
  },
  {
   "cell_type": "code",
   "execution_count": null,
   "id": "161376ae",
   "metadata": {},
   "outputs": [
    {
     "name": "stdout",
     "output_type": "stream",
     "text": [
      "{2, 3, 4, 5, 6, 7, 18}\n"
     ]
    }
   ],
   "source": [
    "l1=[1,2,1,3,4]\n",
    "l2=[18,4,5,6,4,3]\n",
    "l3=[3,8,9,8,7,9]\n",
    "s=set()\n",
    "for i in l1:\n",
    "    if l1.count(i)==1:\n",
    "        s.add(i)\n",
    "for i in l2:\n",
    "    if l2.count(i)==1:\n",
    "        s.add(i)\n",
    "for i in l3:\n",
    "    if l3.count(i)==1:\n",
    "        s.add(i)        \n",
    "print(s)"
   ]
  },
  {
   "cell_type": "markdown",
   "id": "3bf77a86",
   "metadata": {},
   "source": [
    "sare list ke kisi v element ka count 1 se jada ho to us element ko output list se remove karna h"
   ]
  },
  {
   "cell_type": "code",
   "execution_count": 3,
   "id": "a32f34da",
   "metadata": {},
   "outputs": [
    {
     "name": "stdout",
     "output_type": "stream",
     "text": [
      "{2, 3, 5, 6, 7, 18}\n"
     ]
    }
   ],
   "source": [
    "l1=[1,2,1,3,4]\n",
    "l2=[18,4,5,6,4,3]\n",
    "l3=[3,8,9,8,7,9]\n",
    "s=set()\n",
    "x=set()\n",
    "for i in l1:\n",
    "    if l1.count(i)==1:\n",
    "        s.add(i)\n",
    "    else:\n",
    "        x.add(i)\n",
    "for i in l2:\n",
    "    if l2.count(i)==1:\n",
    "        s.add(i)\n",
    "    else:\n",
    "        x.add(i)\n",
    "for i in l3:\n",
    "    if l3.count(i)==1:\n",
    "        s.add(i) \n",
    "    else:\n",
    "        x.add(i)       \n",
    "for i in x:\n",
    "    if i in s:\n",
    "        s.remove(i)\n",
    "print(s)"
   ]
  },
  {
   "cell_type": "code",
   "execution_count": 8,
   "id": "aef19249",
   "metadata": {},
   "outputs": [
    {
     "name": "stdout",
     "output_type": "stream",
     "text": [
      "{2, 3, 5, 6, 7, 18}\n"
     ]
    }
   ],
   "source": [
    "l1=[1,2,1,3,4]\n",
    "l2=[18,4,5,6,4,3]\n",
    "l3=[3,8,9,8,7,9]\n",
    "s=set()\n",
    "for i in l1:\n",
    "    if l1.count(i)==1:\n",
    "        s.add(i)\n",
    "    else:\n",
    "        s.discard(i)\n",
    "for i in l2:\n",
    "    if l2.count(i)==1:\n",
    "        s.add(i)\n",
    "    else:\n",
    "        s.discard(i)\n",
    "for i in l3:\n",
    "    if l3.count(i)==1:\n",
    "        s.add(i) \n",
    "    else:\n",
    "        s.discard(i)       \n",
    "print(s)"
   ]
  },
  {
   "cell_type": "code",
   "execution_count": 11,
   "id": "14d259b7",
   "metadata": {},
   "outputs": [
    {
     "name": "stdout",
     "output_type": "stream",
     "text": [
      "{2, 3, 5, 6, 7, 18}\n"
     ]
    }
   ],
   "source": [
    "l1=[1,2,1,3,4]\n",
    "l2=[18,4,5,6,4,3]\n",
    "l3=[3,8,9,8,7,9]\n",
    "s=set()\n",
    "s.update(l1,l2,l3)\n",
    "for i in l1:\n",
    "    if l1.count(i)>1:\n",
    "        s.discard(i)\n",
    "for i in l2:\n",
    "    if l2.count(i)>1:\n",
    "        s.discard(i)\n",
    "for i in l3:\n",
    "    if l3.count(i)>1:\n",
    "        s.discard(i)   \n",
    "print(s)\n",
    "\n"
   ]
  }
 ],
 "metadata": {
  "kernelspec": {
   "display_name": "Python 3",
   "language": "python",
   "name": "python3"
  },
  "language_info": {
   "codemirror_mode": {
    "name": "ipython",
    "version": 3
   },
   "file_extension": ".py",
   "mimetype": "text/x-python",
   "name": "python",
   "nbconvert_exporter": "python",
   "pygments_lexer": "ipython3",
   "version": "3.11.9"
  }
 },
 "nbformat": 4,
 "nbformat_minor": 5
}
