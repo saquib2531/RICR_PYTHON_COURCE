{
 "cells": [
  {
   "cell_type": "markdown",
   "id": "1cbc1faa",
   "metadata": {},
   "source": [
    "class:\n",
    "a class is a blueprint"
   ]
  }
 ],
 "metadata": {
  "language_info": {
   "name": "python"
  }
 },
 "nbformat": 4,
 "nbformat_minor": 5
}
