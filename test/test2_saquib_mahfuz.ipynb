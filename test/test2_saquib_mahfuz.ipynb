{
 "cells": [
  {
   "cell_type": "markdown",
   "id": "f2482ce3",
   "metadata": {},
   "source": [
    "Q1. Write a program to input electricity unit charges and calculate total\n",
    "electricity bill\n",
    "according to the given condition:\n",
    "• For first 50 units Rs. 0.50/unit\n",
    "• For next 150 units Rs. 0.75/unit\n",
    "• For next 250 units Rs. 1.20/unit\n",
    "• For unit above 450 Rs. 1.50/unit\n",
    "• An additional surcharge of 20% is added to the bill"
   ]
  },
  {
   "cell_type": "code",
   "execution_count": 3,
   "id": "aa152684",
   "metadata": {},
   "outputs": [
    {
     "name": "stdout",
     "output_type": "stream",
     "text": [
      "160.0\n"
     ]
    }
   ],
   "source": [
    "n=float(input())\n",
    "if n<=50:\n",
    "    u=n*0.50\n",
    "elif n<=200:\n",
    "    u=(50*0.50)+((n-50)*0.75)\n",
    "elif n<=450:\n",
    "    u=(50*0.50)+((150-50)*0.75)+((n-200)*1.20)\n",
    "else:\n",
    "    u=(50*0.50)+((150-50)*0.75)+(250*1.20)+((n-450)*1.50)\n",
    "print(u)"
   ]
  }
 ],
 "metadata": {
  "kernelspec": {
   "display_name": "Python 3",
   "language": "python",
   "name": "python3"
  },
  "language_info": {
   "codemirror_mode": {
    "name": "ipython",
    "version": 3
   },
   "file_extension": ".py",
   "mimetype": "text/x-python",
   "name": "python",
   "nbconvert_exporter": "python",
   "pygments_lexer": "ipython3",
   "version": "3.11.9"
  }
 },
 "nbformat": 4,
 "nbformat_minor": 5
}
