{
 "cells": [
  {
   "cell_type": "markdown",
   "metadata": {},
   "source": [
    "Q3. Write a python program which takes three integers as an input from the\n",
    "user and print them in ascending order."
   ]
  },
  {
   "cell_type": "code",
   "execution_count": 8,
   "metadata": {},
   "outputs": [
    {
     "name": "stdout",
     "output_type": "stream",
     "text": [
      "1 2 3\n"
     ]
    }
   ],
   "source": [
    "x=int(input('enter 1st no.'))\n",
    "y=int(input('enter 2nd no.'))\n",
    "z=int(input('enter 3rd no.'))\n",
    "if x<y and y<z:\n",
    "    print(x,y,z)\n",
    "elif x<z and z<y:\n",
    "    print(x,z,y)\n",
    "elif y<x  and x<z:\n",
    "    print(y,x,z)\n",
    "elif y<z and z<x:\n",
    "    print(y,z,x)\n",
    "elif z<x and x<y:\n",
    "    print(z,x,y)\n",
    "elif z<y and y<x:\n",
    "    print(z,y,x)"
   ]
  },
  {
   "cell_type": "markdown",
   "metadata": {},
   "source": [
    "Q4. Write a program which takes a year as input and check whether this year is\n",
    "a leap year or not.\n"
   ]
  },
  {
   "cell_type": "code",
   "execution_count": 3,
   "metadata": {},
   "outputs": [
    {
     "name": "stdout",
     "output_type": "stream",
     "text": [
      "leap year\n"
     ]
    }
   ],
   "source": [
    "n=int(input('enter the year'))\n",
    "if (n%400==0) or (n%4==0 and n%100!=0):\n",
    "    print('leap year')\n",
    "else:\n",
    "    print('not leap year')"
   ]
  },
  {
   "cell_type": "markdown",
   "metadata": {},
   "source": [
    "Q6. Write a program to check whether a number is Armstrong or not."
   ]
  },
  {
   "cell_type": "code",
   "execution_count": 4,
   "metadata": {},
   "outputs": [
    {
     "name": "stdout",
     "output_type": "stream",
     "text": [
      "Armstrong \n"
     ]
    }
   ],
   "source": [
    "n=int(input('enter the no.'))\n",
    "y=n\n",
    "x=0\n",
    "for i in range(3):\n",
    "    r=n%10\n",
    "    r=r**3\n",
    "    x+=r\n",
    "    n//=10\n",
    "if x==y:\n",
    "    print('Armstrong ')\n",
    "else:\n",
    "    print('not armstrong')\n"
   ]
  },
  {
   "cell_type": "markdown",
   "metadata": {},
   "source": [
    "Q8. Write a python program which check Whether the given number\n",
    "as an input is a Palindrome or not."
   ]
  },
  {
   "cell_type": "code",
   "execution_count": 24,
   "metadata": {},
   "outputs": [
    {
     "name": "stdout",
     "output_type": "stream",
     "text": [
      "nor palindrom\n"
     ]
    }
   ],
   "source": [
    "n=int(input('enter the no.'))\n",
    "y=n\n",
    "x=0\n",
    "for i in range(3):\n",
    "    r=n%10\n",
    "    x=(x*10)+r\n",
    "    n//=10\n",
    "if x==y:\n",
    "    print('palindrom')\n",
    "else:\n",
    "    print('nor palindrom')\n"
   ]
  },
  {
   "cell_type": "markdown",
   "metadata": {},
   "source": [
    "Q9. Write a python program to generate all the factors of the given number\n",
    "and Check count of even and odd factors. Using ‘for’ loop."
   ]
  },
  {
   "cell_type": "code",
   "execution_count": 9,
   "metadata": {},
   "outputs": [
    {
     "name": "stdout",
     "output_type": "stream",
     "text": [
      "1,2,3,4,6,12,\n",
      " count even 4 \n",
      " count odd 2\n"
     ]
    }
   ],
   "source": [
    "n=int(input('enter the no.'))\n",
    "x=0\n",
    "y=0\n",
    "for i in range(1,n+1):\n",
    "    if n%i==0:\n",
    "        print(i,end=',')\n",
    "        if i%2==0:\n",
    "            x+=1\n",
    "        elif i%2!=0:\n",
    "            y+=1\n",
    "print('\\n','count even',x,'\\n','count odd',y)\n",
    "\n",
    "\n",
    "\n"
   ]
  },
  {
   "cell_type": "markdown",
   "metadata": {},
   "source": [
    "Q10. Write a program that reads 2 numbers and an arithmetic operator like +, -\n",
    ", *, /, % and display the computed result:\n"
   ]
  },
  {
   "cell_type": "code",
   "execution_count": 34,
   "metadata": {},
   "outputs": [
    {
     "name": "stdout",
     "output_type": "stream",
     "text": [
      "invalid operator\n"
     ]
    }
   ],
   "source": [
    "x=float(input('enter 1st no.'))\n",
    "o=input('enter operator')\n",
    "y=float(input('enter 2nd no.'))\n",
    "if o=='+':\n",
    "    print(x+y)\n",
    "elif o=='-':\n",
    "    print(x-y)\n",
    "elif o=='*':\n",
    "    print(x*y)\n",
    "elif o=='/':\n",
    "    print(x/y)\n",
    "elif o=='//':\n",
    "    print(x//y)\n",
    "elif o=='%':\n",
    "    print(x%y)\n",
    "else:\n",
    "    print('invalid operator')"
   ]
  },
  {
   "cell_type": "markdown",
   "metadata": {},
   "source": [
    "Q7. Write a Python program to calculate the final price of a product after\n",
    "applying a series of discounts based on the following conditions:\n",
    "• If the product price is above Rs1000, apply a 10% discount.\n",
    "• If the customer is a member, apply an additional 5% discount.\n",
    "• If the purchase is made during a sale period, apply an additional 7% discount.\n"
   ]
  },
  {
   "cell_type": "code",
   "execution_count": 16,
   "metadata": {},
   "outputs": [
    {
     "name": "stdout",
     "output_type": "stream",
     "text": [
      "1350.0\n"
     ]
    }
   ],
   "source": [
    "p=int(input('Enter the product price'))\n",
    "x=input('Is Customer member Yes or No')\n",
    "y=input('Sale period Yes or No')\n",
    "if p>1000 :\n",
    "    p=p-(p*0.1)\n",
    "elif x=='Yes':\n",
    "    p=p-(p*0.1)+(p*0.5)\n",
    "print(p)\n",
    "\n",
    "\n",
    "\n"
   ]
  },
  {
   "cell_type": "markdown",
   "metadata": {},
   "source": [
    "2     *\n",
    "    * * *\n",
    "  * * * * *\n",
    "* * * * * * *\n",
    "* * * * * * *\n",
    "  * * * * *\n",
    "    * * *\n",
    "      *"
   ]
  },
  {
   "cell_type": "code",
   "execution_count": 47,
   "metadata": {},
   "outputs": [
    {
     "name": "stdout",
     "output_type": "stream",
     "text": [
      "        * \n",
      "      * * * \n",
      "    * * * * * \n",
      "  * * * * * * * \n",
      "* * * * * * * * * \n",
      "* * * * * * * * * \n",
      "  * * * * * * * \n",
      "    * * * * * \n",
      "      * * * \n",
      "        * \n"
     ]
    }
   ],
   "source": [
    "n=int(input())\n",
    "nsp=n-1\n",
    "nst=1\n",
    "xnsp=0\n",
    "xnst=n+(n-1)\n",
    "for i in range(n):\n",
    "    for j in range(nsp):\n",
    "        print(' ',end=' ')\n",
    "    for j in range(nst):\n",
    "        print('*',end=' ')\n",
    "    print()\n",
    "    nst+=2\n",
    "    nsp-=1\n",
    "for i in range(n):\n",
    "    for j in range(xnsp):\n",
    "        print(' ',end=' ')\n",
    "    for j in range(xnst):\n",
    "        print('*',end=' ')\n",
    "    print()\n",
    "    xnsp+=1\n",
    "    xnst-=2\n",
    "\n"
   ]
  },
  {
   "cell_type": "markdown",
   "metadata": {},
   "source": [
    "    *\n",
    "   * *\n",
    "  *   *\n",
    " *     *\n",
    "  *   *\n",
    "   * *\n",
    "    *\n"
   ]
  },
  {
   "cell_type": "code",
   "execution_count": 48,
   "metadata": {},
   "outputs": [
    {
     "name": "stdout",
     "output_type": "stream",
     "text": [
      "      * \n",
      "    * * \n",
      "  * * * \n",
      "* * * * \n",
      "* * * * * \n",
      "* * * * * * \n",
      "* * * * * * * \n"
     ]
    }
   ],
   "source": [
    "n=int(input())\n",
    "nst=1\n",
    "nsp=3\n",
    "for i in range(n):\n",
    "    for j in range(nsp):\n",
    "        print(' ',end=' ')\n",
    "    for j in range(nst):\n",
    "        print('*',end=' ')\n",
    "    print()\n",
    "    nst+=1\n",
    "    nsp-=1"
   ]
  }
 ],
 "metadata": {
  "kernelspec": {
   "display_name": "Python 3",
   "language": "python",
   "name": "python3"
  },
  "language_info": {
   "codemirror_mode": {
    "name": "ipython",
    "version": 3
   },
   "file_extension": ".py",
   "mimetype": "text/x-python",
   "name": "python",
   "nbconvert_exporter": "python",
   "pygments_lexer": "ipython3",
   "version": "3.11.9"
  }
 },
 "nbformat": 4,
 "nbformat_minor": 2
}
