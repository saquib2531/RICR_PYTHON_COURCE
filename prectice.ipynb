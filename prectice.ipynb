{
 "cells": [
  {
   "cell_type": "code",
   "execution_count": 1,
   "metadata": {},
   "outputs": [
    {
     "data": {
      "text/plain": [
       "-4"
      ]
     },
     "execution_count": 1,
     "metadata": {},
     "output_type": "execute_result"
    }
   ],
   "source": [
    "-7//2"
   ]
  },
  {
   "cell_type": "code",
   "execution_count": 1,
   "metadata": {},
   "outputs": [
    {
     "data": {
      "text/plain": [
       "512"
      ]
     },
     "execution_count": 1,
     "metadata": {},
     "output_type": "execute_result"
    }
   ],
   "source": [
    "2**3**2"
   ]
  },
  {
   "cell_type": "code",
   "execution_count": 1,
   "metadata": {},
   "outputs": [
    {
     "name": "stdout",
     "output_type": "stream",
     "text": [
      "*****\n",
      "****\n",
      "***\n",
      "**\n",
      "*\n"
     ]
    }
   ],
   "source": [
    "for i in range(5, 0, -1):\n",
    "    print('*' * i)"
   ]
  },
  {
   "cell_type": "code",
   "execution_count": 2,
   "metadata": {},
   "outputs": [
    {
     "name": "stdout",
     "output_type": "stream",
     "text": [
      "0 1 2 End\n"
     ]
    }
   ],
   "source": [
    "x = 0\n",
    "while x < 3:\n",
    "    print(x, end=\" \")\n",
    "    x += 1\n",
    "else:\n",
    "    print(\"End\")"
   ]
  },
  {
   "cell_type": "code",
   "execution_count": 5,
   "metadata": {},
   "outputs": [
    {
     "name": "stdout",
     "output_type": "stream",
     "text": [
      "False\n"
     ]
    }
   ],
   "source": [
    "result = not (5 > 3 or 2 < 1) and (3 != 3 and 4 >= 4)\n",
    "print(result)"
   ]
  },
  {
   "cell_type": "code",
   "execution_count": 6,
   "metadata": {},
   "outputs": [
    {
     "name": "stdout",
     "output_type": "stream",
     "text": [
      "-5\n"
     ]
    }
   ],
   "source": [
    "print(-23//5)"
   ]
  },
  {
   "cell_type": "code",
   "execution_count": 9,
   "metadata": {},
   "outputs": [
    {
     "name": "stdout",
     "output_type": "stream",
     "text": [
      "12\n"
     ]
    }
   ],
   "source": [
    "result = 0\n",
    "for i in range(5, 1, -1):\n",
    "    result += i\n",
    "    if i % 2 == 0:\n",
    "        continue\n",
    "    result -= 1\n",
    "print(result)"
   ]
  },
  {
   "cell_type": "code",
   "execution_count": 10,
   "metadata": {},
   "outputs": [
    {
     "ename": "SyntaxError",
     "evalue": "cannot assign to expression here. Maybe you meant '==' instead of '='? (4185385398.py, line 2)",
     "output_type": "error",
     "traceback": [
      "\u001b[1;36m  Cell \u001b[1;32mIn[10], line 2\u001b[1;36m\u001b[0m\n\u001b[1;33m    num-2=43\u001b[0m\n\u001b[1;37m    ^\u001b[0m\n\u001b[1;31mSyntaxError\u001b[0m\u001b[1;31m:\u001b[0m cannot assign to expression here. Maybe you meant '==' instead of '='?\n"
     ]
    }
   ],
   "source": [
    "num=5\n",
    "num-2=43"
   ]
  },
  {
   "cell_type": "code",
   "execution_count": 1,
   "metadata": {},
   "outputs": [
    {
     "ename": "NameError",
     "evalue": "name 'os' is not defined",
     "output_type": "error",
     "traceback": [
      "\u001b[1;31m---------------------------------------------------------------------------\u001b[0m",
      "\u001b[1;31mNameError\u001b[0m                                 Traceback (most recent call last)",
      "Cell \u001b[1;32mIn[1], line 12\u001b[0m\n\u001b[0;32m      9\u001b[0m     \u001b[38;5;28;01mreturn\u001b[39;00m dp[n]\n\u001b[0;32m     11\u001b[0m \u001b[38;5;28;01mif\u001b[39;00m \u001b[38;5;18m__name__\u001b[39m \u001b[38;5;241m==\u001b[39m \u001b[38;5;124m'\u001b[39m\u001b[38;5;124m__main__\u001b[39m\u001b[38;5;124m'\u001b[39m:\n\u001b[1;32m---> 12\u001b[0m     fptr \u001b[38;5;241m=\u001b[39m \u001b[38;5;28mopen\u001b[39m(\u001b[43mos\u001b[49m\u001b[38;5;241m.\u001b[39menviron[\u001b[38;5;124m'\u001b[39m\u001b[38;5;124mOUTPUT_PATH\u001b[39m\u001b[38;5;124m'\u001b[39m], \u001b[38;5;124m'\u001b[39m\u001b[38;5;124mw\u001b[39m\u001b[38;5;124m'\u001b[39m)\n\u001b[0;32m     14\u001b[0m     first_multiple_input \u001b[38;5;241m=\u001b[39m \u001b[38;5;28minput\u001b[39m()\u001b[38;5;241m.\u001b[39mrstrip()\u001b[38;5;241m.\u001b[39msplit()\n\u001b[0;32m     16\u001b[0m     n \u001b[38;5;241m=\u001b[39m \u001b[38;5;28mint\u001b[39m(first_multiple_input[\u001b[38;5;241m0\u001b[39m])\n",
      "\u001b[1;31mNameError\u001b[0m: name 'os' is not defined"
     ]
    }
   ],
   "source": [
    "def getWays(n, c):\n",
    "    dp = [0] * (n + 1)\n",
    "    dp[0] = 1  # Base case: one way to make 0 amount\n",
    "    \n",
    "    for coin in c:\n",
    "        for amount in range(coin, n + 1):\n",
    "            dp[amount] += dp[amount - coin]\n",
    "    \n",
    "    return dp[n]\n",
    "\n",
    "if __name__ == '__main__':\n",
    "    fptr = open(os.environ['OUTPUT_PATH'], 'w')\n",
    "\n",
    "    first_multiple_input = input().rstrip().split()\n",
    "\n",
    "    n = int(first_multiple_input[0])\n",
    "    m = int(first_multiple_input[1])\n",
    "    c = list(map(int, input().rstrip().split()))\n",
    "\n",
    "    ways = getWays(n, c)\n",
    "\n",
    "    fptr.write(str(ways) + '\\n')\n",
    "    fptr.close()"
   ]
  },
  {
   "cell_type": "code",
   "execution_count": 1,
   "metadata": {},
   "outputs": [],
   "source": [
    "def largestRectangle(h):\n",
    "    \"\"\"\n",
    "    Calculates the largest rectangle area that can be formed within the bounds of consecutive buildings.\n",
    "\n",
    "    Args:\n",
    "        h: A list of building heights.\n",
    "\n",
    "    Returns:\n",
    "        The area of the largest rectangle.\n",
    "    \"\"\"\n",
    "\n",
    "    stack = []\n",
    "    max_area = 0\n",
    "    n = len(h)\n",
    "    i = 0\n",
    "\n",
    "    while i < n:\n",
    "        if not stack or h[i] >= h[stack[-1]]:\n",
    "            stack.append(i)\n",
    "            i += 1\n",
    "        else:\n",
    "            top = stack.pop()\n",
    "            width = i if not stack else i - stack[-1] - 1\n",
    "            max_area = max(max_area, h[top] * width)\n",
    "\n",
    "    while stack:\n",
    "        top = stack.pop()\n",
    "        width = i if not stack else i - stack[-1] - 1\n",
    "        max_area = max(max_area, h[top] * width)\n",
    "\n",
    "    return max_area"
   ]
  },
  {
   "cell_type": "code",
   "execution_count": 2,
   "metadata": {},
   "outputs": [],
   "source": [
    "def candies(n, arr):\n",
    "    \"\"\"\n",
    "    Calculates the minimum number of candies Alice must buy.\n",
    "\n",
    "    Args:\n",
    "        n: The number of children.\n",
    "        arr: A list of ratings.\n",
    "\n",
    "    Returns:\n",
    "        The minimum number of candies.\n",
    "    \"\"\"\n",
    "\n",
    "    candies_arr = [1] * n\n",
    "\n",
    "    # Left to right pass\n",
    "    for i in range(1, n):\n",
    "        if arr[i] > arr[i - 1]:\n",
    "            candies_arr[i] = candies_arr[i - 1] + 1\n",
    "\n",
    "    # Right to left pass\n",
    "    for i in range(n - 2, -1, -1):\n",
    "        if arr[i] > arr[i + 1]:\n",
    "            candies_arr[i] = max(candies_arr[i], candies_arr[i + 1] + 1)\n",
    "\n",
    "    return sum(candies_arr)"
   ]
  },
  {
   "cell_type": "code",
   "execution_count": 3,
   "metadata": {},
   "outputs": [],
   "source": [
    "def fizzBuzz(n):\n",
    "    # Write your code here\n",
    "    for i in range(n+1):\n",
    "        if i%3==0 and i%5==0:\n",
    "            i='FizzBuzz'\n",
    "        elif i%3==0:\n",
    "            i='Fizz'\n",
    "        elif i%5==0:\n",
    "            i='Buzz'"
   ]
  },
  {
   "cell_type": "code",
   "execution_count": 7,
   "metadata": {},
   "outputs": [],
   "source": [
    "n=7\n",
    "def fizzBuzz(n):\n",
    "    for i in range(1, n + 1):\n",
    "        if i % 3 == 0 and i % 5 == 0:\n",
    "            print(\"FizzBuzz\")\n",
    "        elif i % 3 == 0:\n",
    "            print(\"Fizz\")\n",
    "        elif i % 5 == 0:\n",
    "            print(\"Buzz\")\n",
    "        else:\n",
    "            print(i)"
   ]
  },
  {
   "cell_type": "code",
   "execution_count": 16,
   "metadata": {},
   "outputs": [
    {
     "name": "stdout",
     "output_type": "stream",
     "text": [
      "Weird\n"
     ]
    }
   ],
   "source": [
    "import math\n",
    "import os\n",
    "import random\n",
    "import re\n",
    "import sys\n",
    "\n",
    "\n",
    "\n",
    "if __name__ == '__main__':\n",
    "    n = int(input().strip())\n",
    "    if n%2!=0:\n",
    "        print('Weird')\n",
    "    elif n>=2 and n<=5 and n%2==0:\n",
    "        print('Not Weird')\n",
    "    elif n>=6 and n<=20 and n%2==0:\n",
    "        print('Weird')\n",
    "    elif n>20 and n%2==0 :\n",
    "        print('Not Weird')"
   ]
  }
 ],
 "metadata": {
  "kernelspec": {
   "display_name": "Python 3",
   "language": "python",
   "name": "python3"
  },
  "language_info": {
   "codemirror_mode": {
    "name": "ipython",
    "version": 3
   },
   "file_extension": ".py",
   "mimetype": "text/x-python",
   "name": "python",
   "nbconvert_exporter": "python",
   "pygments_lexer": "ipython3",
   "version": "3.11.9"
  }
 },
 "nbformat": 4,
 "nbformat_minor": 2
}
