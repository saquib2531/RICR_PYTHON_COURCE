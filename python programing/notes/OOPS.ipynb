{
 "cells": [
  {
   "cell_type": "markdown",
   "metadata": {
    "id": "wKOChEOdrfAt"
   },
   "source": [
    "## **Class:**\n",
    "\n",
    "A class is a blueprint or a template for creating objects. It defines the attributes (variables) and methods (functions) that an object of that class will have. Classes act as a blueprint that encapsulates data and the operations that can be performed on that data. They provide a way to define a new type, which can have its own attributes and behaviors\n",
    "\n",
    "In Python, a class is defined using the **class** keyword followed by the class name. Here's a basic example of a class definition:\n",
    "\n",
    "\n"
   ]
  },
  {
   "cell_type": "code",
   "execution_count": 1,
   "metadata": {
    "id": "JpwwTTYlXhMO"
   },
   "outputs": [],
   "source": [
    "class Car:\n",
    "    def __init__(self, brand, model, year):\n",
    "        self.brand = brand\n",
    "        self.model = model\n",
    "        self.year = year\n",
    "\n",
    "    def start_engine(self):\n",
    "        print(\"The car engine has started.\")\n",
    "\n",
    "    def stop_engine(self):\n",
    "        print(\"The car engine has stopped.\")"
   ]
  },
  {
   "cell_type": "markdown",
   "metadata": {
    "id": "64doe7pItSwu"
   },
   "source": [
    "**Objects:**\n",
    "\n",
    "* An object is an instance of a class. It represents a specific occurrence of the class and can have its own unique state and behavior. When you create an object from a class, you are instantiating the class.\n",
    "\n",
    "* To create an object in Python, you call the class as if it were a function, passing any required arguments defined in the class's constructor. Here's an example of creating objects from the Car class\n",
    "* every time you create an object it will get created on  two different addresses in heap memory"
   ]
  },
  {
   "cell_type": "code",
   "execution_count": null,
   "metadata": {
    "id": "QVFO9XoZuIAG"
   },
   "outputs": [],
   "source": [
    "my_car = Car(\"Toyota\", \"Corolla\", 2022)\n",
    "your_car = Car(\"Honda\", \"Civic\", 2023)"
   ]
  },
  {
   "cell_type": "markdown",
   "metadata": {
    "id": "jXRV_088Kh6t"
   },
   "source": [
    "**Self:**\n",
    "* self is the default variable which is always pointing to current object (like this keyword\n",
    "in Java)\n",
    "* By using self we can access instance variables and instance methods of object.\n",
    "\n",
    "### Note:\n",
    "* self should be first parameter inside constructor\n",
    "def __init__(self):\n",
    "* self should be first parameter inside instance methods\n",
    "def talk(self):"
   ]
  },
  {
   "cell_type": "markdown",
   "metadata": {
    "id": "Aj19IwuOvHKZ"
   },
   "source": [
    "### **Constructor in Python**\n",
    "Constructor is a special method in python.\n",
    "* The name of the constructor should be __init__(self)\n",
    "* Constructor will be executed automatically at the time of object creation.\n",
    "* The main purpose of constructor is to declare and initialize instance variables.\n",
    "* Per object constructor will be exeucted only once.\n",
    "* Constructor can take atleast one argument(atleast self)\n",
    "*Constructor is optional and if we are not providing any constructor then python will provide default constructor."
   ]
  },
  {
   "cell_type": "code",
   "execution_count": null,
   "metadata": {
    "id": "sGOpD6p-vbOl"
   },
   "outputs": [],
   "source": [
    "class Person:\n",
    "    def __init__(self, name, age):\n",
    "        self.name = name\n",
    "        self.age = age"
   ]
  },
  {
   "cell_type": "code",
   "execution_count": null,
   "metadata": {
    "id": "AE1CGYDmxZvM"
   },
   "outputs": [],
   "source": [
    "class Person:\n",
    "    def __init__(self, name=\"Unknown\", age=0):\n",
    "        self.name = name\n",
    "        self.age = age"
   ]
  },
  {
   "cell_type": "code",
   "execution_count": 2,
   "metadata": {
    "colab": {
     "base_uri": "https://localhost:8080/"
    },
    "executionInfo": {
     "elapsed": 479,
     "status": "ok",
     "timestamp": 1686815897181,
     "user": {
      "displayName": "Shailesh_8708",
      "userId": "09980080955334165381"
     },
     "user_tz": -330
    },
    "id": "4-cK_ePyBd-E",
    "outputId": "67daae53-6f46-4db2-b075-a9ae5f4d8fd3"
   },
   "outputs": [
    {
     "name": "stdout",
     "output_type": "stream",
     "text": [
      "<__main__.Human object at 0x0000018BBF97B6D0>\n"
     ]
    }
   ],
   "source": [
    "class Human:\n",
    "  def __init__(self,name,age,weight):\n",
    "    self.name=name\n",
    "    self.age=age\n",
    "    self.weight=weight\n",
    "\n",
    "\n",
    "  def person(self):\n",
    "    print(\"name of person is \",self.name,\"age of the person is \",self.age,\"weight of the person is \",self.weight)\n",
    "\n",
    "\n",
    "human1=Human(\"shailesh\",20,60)\n",
    "print(human1)\n"
   ]
  },
  {
   "cell_type": "markdown",
   "metadata": {
    "id": "1kKHAc91HMTs"
   },
   "source": [
    "**Types of variable in class ->**\n",
    "*  instance and class(static) variable ->if you define a variable inside the init method then it is called instance variable and if you define it outside the init method then it is called class variables"
   ]
  },
  {
   "cell_type": "code",
   "execution_count": 4,
   "metadata": {
    "colab": {
     "base_uri": "https://localhost:8080/"
    },
    "executionInfo": {
     "elapsed": 749,
     "status": "ok",
     "timestamp": 1687006592275,
     "user": {
      "displayName": "Shailesh_8708",
      "userId": "09980080955334165381"
     },
     "user_tz": -330
    },
    "id": "WXV1yTJr3N5e",
    "outputId": "0f2bce30-8ef1-4d97-a314-e6cb05d0265e"
   },
   "outputs": [
    {
     "name": "stdout",
     "output_type": "stream",
     "text": [
      "honda  colour  yellow 4\n"
     ]
    }
   ],
   "source": [
    "class car:\n",
    "  wheel=4\n",
    "  def __init__(self):\n",
    "    self.name=\"honda\"\n",
    "    self.colour=\"white\"\n",
    "  def update(self):\n",
    "    self.colour=\"yellow\"\n",
    "\n",
    "\n",
    "obj1=car()\n",
    "obj2=car()\n",
    "obj1.update()\n",
    "obj1.wheel=9\n",
    "# car.wheel=5\n",
    "print(obj1.name,\" colour \",obj1.colour,obj2.wheel)\n",
    "#make to object and also write compare function to compare there colour"
   ]
  },
  {
   "cell_type": "markdown",
   "metadata": {
    "id": "If85L1YDSJk3"
   },
   "source": [
    "thre"
   ]
  },
  {
   "cell_type": "markdown",
   "metadata": {
    "id": "XvET-Njt3_KT"
   },
   "source": [
    "\n",
    "# Types of Method in Python\n",
    "**Instance Methods:**\n",
    "\n",
    "* Instance methods are defined within a class and operate on individual instances (objects) of that class.\n",
    "\n",
    "* They have access to the instance attributes and can modify them.\n",
    "\n",
    "* Instance methods are commonly used to perform actions specific to each instance"
   ]
  },
  {
   "cell_type": "code",
   "execution_count": null,
   "metadata": {
    "id": "LLzLTQyI3066"
   },
   "outputs": [],
   "source": [
    "class Circle:\n",
    "    def __init__(self, radius):\n",
    "        self.radius = radius\n",
    "\n",
    "    def calculate_area(self):\n",
    "        return 3.14 * self.radius * self.radius\n",
    "\n",
    "\n",
    "circle = Circle(5)\n",
    "\n",
    "area = circle.calculate_area()\n",
    "print(area)  # Output: 78.5"
   ]
  },
  {
   "cell_type": "markdown",
   "metadata": {
    "id": "s5OY8k-Z4sK5"
   },
   "source": [
    "**Class Methods:**\n",
    "\n",
    "* Class methods are defined within a class and operate on the class itself, rather than its instances.\n",
    "\n",
    "* They are denoted by the @classmethod decorator.\n",
    "\n",
    "* Class methods have access to class-level attributes and can be used for tasks related to the class.\n",
    "\n",
    "* They are often used for alternative constructors or for performing operations that involve the entire class."
   ]
  },
  {
   "cell_type": "code",
   "execution_count": null,
   "metadata": {
    "colab": {
     "base_uri": "https://localhost:8080/"
    },
    "executionInfo": {
     "elapsed": 7,
     "status": "ok",
     "timestamp": 1687258799397,
     "user": {
      "displayName": "Shailesh_8708",
      "userId": "09980080955334165381"
     },
     "user_tz": -330
    },
    "id": "IjEmXf7b4MDb",
    "outputId": "637cb466-c37a-4292-aca3-45865fc1caa3"
   },
   "outputs": [
    {
     "name": "stdout",
     "output_type": "stream",
     "text": [
      "4 6\n",
      "9 9\n"
     ]
    }
   ],
   "source": [
    "class Rectangle:\n",
    "    width = 0\n",
    "    height = 0\n",
    "\n",
    "    def __init__(self, width, height):\n",
    "        self.width = width\n",
    "        self.height = height\n",
    "\n",
    "    @classmethod\n",
    "    def create_square(cls, side_length):\n",
    "        return cls(side_length, side_length)\n",
    "\n",
    "\n",
    "# Create a rectangle object using the class constructor\n",
    "rectangle = Rectangle(4, 6)\n",
    "print(rectangle.width, rectangle.height)  # Output: 4 6\n",
    "\n",
    "# Create a square object using the class method\n",
    "square = Rectangle.create_square(5)\n",
    "#square1=rectangle.create_square(9)\n",
    "print(square.width, square .height)  # Output: 5 5"
   ]
  },
  {
   "cell_type": "markdown",
   "metadata": {
    "id": "hcFLDJEO5DSf"
   },
   "source": [
    "**Static Methods:**\n",
    "\n",
    "* Static methods are defined within a class but don't operate on instances or the class itself.\n",
    "\n",
    "* They are denoted by the @staticmethod decorator.\n",
    "\n",
    "* Static methods are independent of specific instances or class-level attributes.\n",
    "\n",
    "* They are often used for utility functions or operations that are not specific to instances or the class."
   ]
  },
  {
   "cell_type": "code",
   "execution_count": null,
   "metadata": {
    "id": "KRV3XObx5Slm"
   },
   "outputs": [],
   "source": [
    "class MathUtils:\n",
    "    @staticmethod\n",
    "    def add(a, b):\n",
    "        return a + b\n",
    "\n",
    "result = MathUtils.add(3, 5)\n",
    "print(result)  # Output: 8"
   ]
  },
  {
   "cell_type": "markdown",
   "metadata": {
    "id": "GK9VgH5L0LUX"
   },
   "source": [
    "Let's consider a real-life example of a Person class to understand the differences between class methods, instance methods, and static methods in Python's OOP."
   ]
  },
  {
   "cell_type": "code",
   "execution_count": null,
   "metadata": {
    "id": "p0b8okqD7PAD"
   },
   "outputs": [],
   "source": [
    "class Person:\n",
    "    def __init__(self, name, age):\n",
    "        self.name = name\n",
    "        self.age = age\n",
    "\n",
    "\n",
    "    def greet(self):\n",
    "        print(f\"Hello, my name is {self.name}!\")\n",
    "\n",
    "    @classmethod\n",
    "    def from_birth_year(cls, name, birth_year):\n",
    "        age = cls.calculate_age(birth_year)\n",
    "        return cls(name, age)\n",
    "\n",
    "    @staticmethod\n",
    "    def calculate_age(birth_year):\n",
    "        current_year = 2023 # Current year as an example\n",
    "        print(name)\n",
    "        return current_year - birth_year\n"
   ]
  },
  {
   "cell_type": "markdown",
   "metadata": {
    "id": "KvbLKSBj0dxm"
   },
   "source": [
    "**Instance Method:**\n",
    "\n",
    "The greet() method is an instance method because it operates on individual instances of the Person class.\n",
    "It is used to greet a specific person and can access the instance's attributes (name, age)."
   ]
  },
  {
   "cell_type": "code",
   "execution_count": null,
   "metadata": {
    "colab": {
     "base_uri": "https://localhost:8080/"
    },
    "executionInfo": {
     "elapsed": 13,
     "status": "ok",
     "timestamp": 1687432142192,
     "user": {
      "displayName": "Shailesh_8708",
      "userId": "09980080955334165381"
     },
     "user_tz": -330
    },
    "id": "DRBWhrTh0dRG",
    "outputId": "35008c0f-febd-40d0-a3f9-7e5733862a37"
   },
   "outputs": [
    {
     "name": "stdout",
     "output_type": "stream",
     "text": [
      "Hello, my name is Alice!\n"
     ]
    }
   ],
   "source": [
    "person = Person(\"Alice\", 25)\n",
    "person.greet()  # Output: Hello, my name is Alice!"
   ]
  },
  {
   "cell_type": "markdown",
   "metadata": {
    "id": "LHytScDl07P2"
   },
   "source": [
    "**Class Method:**\n",
    "\n",
    "* The from_birth_year() method is a class method because it operates on the class itself.\n",
    "* It is used as an alternative constructor to create a Person object based on the birth year instead of the age.\n",
    "* The class method from_birth_year() uses the calculate_age() method to calculate the age."
   ]
  },
  {
   "cell_type": "code",
   "execution_count": null,
   "metadata": {
    "colab": {
     "base_uri": "https://localhost:8080/"
    },
    "executionInfo": {
     "elapsed": 5,
     "status": "ok",
     "timestamp": 1687433237499,
     "user": {
      "displayName": "Shailesh_8708",
      "userId": "09980080955334165381"
     },
     "user_tz": -330
    },
    "id": "umwmmDAC59Y3",
    "outputId": "1b512ca3-b4cc-415d-cf78-33ed592f6bd4"
   },
   "outputs": [
    {
     "name": "stdout",
     "output_type": "stream",
     "text": [
      "Hello, my name is Bob!\n",
      "33\n",
      "33\n"
     ]
    }
   ],
   "source": [
    "person1 = Person.from_birth_year(\"Bob\", 1990)\n",
    "Person.calculate_age(1994)\n",
    "person.greet() # Output: Hello, my name is Bob!\n",
    "print(person.age)  # Output: 33"
   ]
  },
  {
   "cell_type": "markdown",
   "metadata": {
    "id": "HaBlv0h71mZm"
   },
   "source": [
    "Static Method:\n",
    "\n",
    "* The calculate_age() method is a static method because it is independent of specific instances or the class itself.\n",
    "* It is used to calculate the age based on the birth year and the current year.\n",
    "* Static methods do not have access to instance attributes or class attributes directly."
   ]
  },
  {
   "cell_type": "code",
   "execution_count": null,
   "metadata": {
    "id": "Mdvy6wDW1rAd"
   },
   "outputs": [],
   "source": [
    "age = Person.calculate_age(1985)\n",
    "print(age)  # Output: 38"
   ]
  },
  {
   "cell_type": "markdown",
   "metadata": {
    "id": "-oWy5WEJ156E"
   },
   "source": [
    "# **Key Differences and Use Cases:**\n",
    "\n",
    "**Instance Method:**\n",
    "\n",
    "* Operates on individual instances and can access instance-specific attributes.\n",
    "* Use when performing actions specific to each instance or when modifying instance attributes.\n",
    "\n",
    "**Class Method:**\n",
    "\n",
    "* Operates on the class itself and can access class-level attributes or perform class-level operations.\n",
    "* Use when creating alternative constructors, manipulating class-level attributes, or performing class-level operations.\n",
    "\n",
    "**Static Method:**\n",
    "\n",
    "* Independent of instances and the class, operates as a utility function related to the class.\n",
    "* Use for general-purpose operations that do not require access to instance or class attributes.\n",
    "\n",
    "In our example, the instance method greet() is used to greet a specific person, the class method from_birth_year() is used to create a person object based on birth year, and the static method calculate_age() is used to calculate the age independently. Each method serves a distinct purpose and offers different capabilities in the context of the Person class."
   ]
  },
  {
   "cell_type": "markdown",
   "metadata": {
    "id": "9h_YdyiS29gF"
   },
   "source": [
    "**Let's elaborate on the usage of a class method as an alternative constructor in the context of the Person class example.**\n",
    "* In object-oriented programming, a class method can be used as an alternative way to construct objects of a class, providing flexibility and convenience for object creation.\n",
    "\n",
    "* Here's how the class method from_birth_year() serves as an alternative constructor in the Person class:"
   ]
  },
  {
   "cell_type": "code",
   "execution_count": null,
   "metadata": {
    "id": "3Mm7IBV328dT"
   },
   "outputs": [],
   "source": [
    "class Person:\n",
    "    def __init__(self, name, age):\n",
    "        self.name = name\n",
    "        self.age = age\n",
    "\n",
    "    @classmethod\n",
    "    def from_birth_year(cls, name, birth_year):\n",
    "        age = cls.calculate_age(birth_year)\n",
    "        return cls(name, age)"
   ]
  },
  {
   "cell_type": "markdown",
   "metadata": {
    "id": "indjKXO33xGA"
   },
   "source": [
    "* The from_birth_year() class method takes two parameters: name (representing the person's name) and birth_year (representing the year the person was born). It calculates the age based on the provided birth year and then constructs and returns a Person object using the name and calculated age.\n",
    "\n",
    "\n",
    "* By providing this class method, we offer an alternative way to create a Person object without directly specifying the age. This can be useful when we know the person's birth year but not the exact age or want to simplify the process of object creation.\n",
    "\n",
    "Let's see an example usage:"
   ]
  },
  {
   "cell_type": "code",
   "execution_count": null,
   "metadata": {
    "id": "yEnY6DQc2gfK"
   },
   "outputs": [],
   "source": [
    "person = Person.from_birth_year(\"Alice\", 1995)"
   ]
  },
  {
   "cell_type": "markdown",
   "metadata": {
    "id": "YuoNirje4O52"
   },
   "source": [
    "* In the above code, we call the from_birth_year() class method directly on the Person class, passing the person's name (\"Alice\") and the birth year (1995) as arguments. The class method internally calculates the age based on the birth year and constructs a Person object with the name \"Alice\" and the calculated age. The resulting person object is then assigned to the variable person.\n",
    "\n",
    "* Using the class method as an alternative constructor provides a more expressive and intuitive way to create objects, especially when different input parameters or calculations are involved. It promotes flexibility and enhances the readability of the code, making it easier to understand the intent of object creation."
   ]
  },
  {
   "cell_type": "markdown",
   "metadata": {
    "id": "txF1DRt9Eq2y"
   },
   "source": [
    "# Inheritance\n",
    "Inheritance is a fundamental concept in object-oriented programming (OOP) that allows classes to acquire properties and behaviors from other classes. It enables code reuse , where a derived class inherits from a base class.\n",
    "\n",
    "## **Advantages of Inheritance:**\n",
    "\n",
    "* **Code Reusability:** Inheritance allows the derived class to inherit attributes and methods from the base class, reducing code duplication and promoting efficient code reuse.\n",
    "\n",
    "* **Modularity:** Inheritance promotes modular design by separating common attributes and behaviors into a base class, which can be inherited by multiple derived classes.\n",
    "\n",
    "* **Extensibility:** Derived classes can add their own unique attributes and behaviors while inheriting the common features of the base class.\n",
    "\n",
    "* **Polymorphism:** Inheritance plays a crucial role in achieving polymorphism, where objects of different derived classes can be treated as objects of the base class, providing flexibility and modifiability.\n",
    "\n",
    "##**Types of Inheritance:**\n",
    "\n",
    "###Single Inheritance:\n",
    "Single inheritance occurs when a derived class inherits from a single base class.\n",
    "\n",
    "**Example:**"
   ]
  },
  {
   "cell_type": "code",
   "execution_count": null,
   "metadata": {
    "id": "7IWTI84EG9rr"
   },
   "outputs": [],
   "source": [
    "class Vehicle:\n",
    "    def drive(self):\n",
    "        print(\"Driving...\")\n",
    "\n",
    "\n",
    "\n",
    "class Car(Vehicle):\n",
    "    def park(self):\n",
    "        print(\"Parking...\")\n",
    "\n",
    "\n",
    "\n",
    "my_car = Car()\n",
    "my_car.drive()\n",
    "my_car.park()"
   ]
  },
  {
   "cell_type": "markdown",
   "metadata": {
    "id": "-X7mlq-RHD25"
   },
   "source": [
    "###Multiple Inheritance:\n",
    "Multiple inheritance occurs when a derived class inherits from multiple base classes.\n",
    "It allows the derived class to inherit attributes and methods from multiple parent classes.\n",
    "\n",
    "Example:"
   ]
  },
  {
   "cell_type": "code",
   "execution_count": null,
   "metadata": {
    "colab": {
     "base_uri": "https://localhost:8080/"
    },
    "executionInfo": {
     "elapsed": 885,
     "status": "ok",
     "timestamp": 1687433402933,
     "user": {
      "displayName": "Shailesh_8708",
      "userId": "09980080955334165381"
     },
     "user_tz": -330
    },
    "id": "_zl1CAJPHDCh",
    "outputId": "ec5367c6-bd9c-4ce3-cabd-8ed9effc4fdd"
   },
   "outputs": [
    {
     "name": "stdout",
     "output_type": "stream",
     "text": [
      "Eating...\n",
      "Flying...\n"
     ]
    }
   ],
   "source": [
    "class Animal:\n",
    "    def eat(self):\n",
    "        print(\"Eating...\")\n",
    "\n",
    "\n",
    "class Flyable:\n",
    "    def fly(self):\n",
    "        print(\"Flying...\")\n",
    "\n",
    "\n",
    "class Bird(Animal, Flyable):\n",
    "    pass\n",
    "\n",
    "my_bird = Bird()\n",
    "my_bird.eat()\n",
    "my_bird.fly()\n"
   ]
  },
  {
   "cell_type": "markdown",
   "metadata": {
    "id": "JZlo3FOUHZas"
   },
   "source": [
    "###Multilevel Inheritance\n",
    "* Multilevel inheritance involves a chain of inheritance with multiple levels.\n",
    "A derived class inherits from a base class, which itself can inherit from another base class.\n",
    "* It allows the derived class to access attributes and methods from both the immediate parent class and the base class.\n",
    "Example:"
   ]
  },
  {
   "cell_type": "code",
   "execution_count": null,
   "metadata": {
    "colab": {
     "base_uri": "https://localhost:8080/"
    },
    "executionInfo": {
     "elapsed": 5,
     "status": "ok",
     "timestamp": 1687001478617,
     "user": {
      "displayName": "Shailesh_8708",
      "userId": "09980080955334165381"
     },
     "user_tz": -330
    },
    "id": "SRrROQnpH2AB",
    "outputId": "0be34c44-88ad-4fb0-eebe-c03aece71b23"
   },
   "outputs": [
    {
     "name": "stdout",
     "output_type": "stream",
     "text": [
      "Eating...\n",
      "Barking...\n",
      "Running...\n"
     ]
    }
   ],
   "source": [
    "class Animal:\n",
    "    def eat(self):\n",
    "        print(\"Eating...\")\n",
    "\n",
    "\n",
    "class Dog(Animal):\n",
    "    def bark(self):\n",
    "        print(\"Barking...\")\n",
    "\n",
    "class Bulldog(Dog):\n",
    "    def run(self):\n",
    "        print(\"Running...\")\n",
    "\n",
    "my_dog = Bulldog()\n",
    "my_dog.eat()\n",
    "my_dog.bark()\n",
    "my_dog.run()"
   ]
  },
  {
   "cell_type": "markdown",
   "metadata": {
    "id": "xR-Gpy9oIHxy"
   },
   "source": [
    "###Hierarchical Inheritance:\n",
    "* Hierarchical inheritance occurs when multiple derived classes inherit from a single base class.\n",
    "* It represents a hierarchy where multiple classes share common attributes and behaviors from the base class.\n",
    "\n",
    "Example:"
   ]
  },
  {
   "cell_type": "code",
   "execution_count": null,
   "metadata": {
    "id": "41NLsW_AINYI"
   },
   "outputs": [],
   "source": [
    "class Shape:\n",
    "    def draw(self):\n",
    "        print(\"Drawing...\")\n",
    "\n",
    "\n",
    "\n",
    "class Circle(Shape):\n",
    "    def calculate_area(self):\n",
    "        print(\"Calculating area for Circle...\")\n",
    "\n",
    "\n",
    "\n",
    "class Rectangle(Shape):\n",
    "    def calculate_area(self):\n",
    "        print(\"Calculating area for Rectangle...\")\n",
    "\n",
    "\n",
    "\n",
    "\n",
    "my_circle = Circle()\n",
    "my_circle.draw()\n",
    "my_circle.calculate_area()\n",
    "\n",
    "\n",
    "my_rectangle = Rectangle()\n",
    "my_rectangle.draw()\n",
    "my_rectangle.calculate_area()\n"
   ]
  },
  {
   "cell_type": "markdown",
   "metadata": {
    "id": "TrUnbkWsIcU0"
   },
   "source": [
    "###Hybrid Inheritance:\n",
    "\n",
    "* Hybrid inheritance is a combination of multiple inheritance and multilevel inheritance.\n",
    "* It involves multiple base classes and allows for the creation of complex class hierarchies.\n",
    "\n",
    "Example:"
   ]
  },
  {
   "cell_type": "code",
   "execution_count": null,
   "metadata": {
    "id": "5CBOR-z4IirT"
   },
   "outputs": [],
   "source": [
    "class A:\n",
    "    def method_A(self):\n",
    "        print(\"Method A...\")\n",
    "\n",
    "class B(A):\n",
    "    def method_B(self):\n",
    "        print(\"Method B...\")\n",
    "\n",
    "class C(A):\n",
    "    def method_C(self):\n",
    "        print(\"Method C...\")\n",
    "\n",
    "class D(B, C):\n",
    "    def method_D(self):\n",
    "        print(\"Method D...\")\n",
    "\n",
    "my_object = D()\n",
    "my_object.method_A()\n",
    "my_object.method_B()\n",
    "my_object.method_C()\n",
    "my_object.method_D()\n"
   ]
  },
  {
   "cell_type": "markdown",
   "metadata": {
    "id": "Q7UMuweqIw7T"
   },
   "source": [
    "In conclusion, inheritance is a powerful concept in Python's object-oriented programming paradigm. It allows for code reuse, modularity, and extensibility. By understanding the different types of inheritance, you can design and implement complex class hierarchies to model real-world relationships and solve various programming problems."
   ]
  },
  {
   "cell_type": "markdown",
   "metadata": {
    "id": "UXwHuYlr7JW4"
   },
   "source": [
    "Let's explore how the super() method is used in different types of inheritance, along with examples:"
   ]
  },
  {
   "cell_type": "markdown",
   "metadata": {
    "id": "CxfP0-K57P1v"
   },
   "source": [
    "## Single Inheritance:\n",
    "In single inheritance, a derived class inherits from a single base class. We can use super() to call the constructor or methods of the parent class."
   ]
  },
  {
   "cell_type": "code",
   "execution_count": null,
   "metadata": {
    "colab": {
     "base_uri": "https://localhost:8080/"
    },
    "executionInfo": {
     "elapsed": 5,
     "status": "ok",
     "timestamp": 1687600561281,
     "user": {
      "displayName": "Shailesh_8708",
      "userId": "09980080955334165381"
     },
     "user_tz": -330
    },
    "id": "F7Vo48t07JDS",
    "outputId": "32f11d1d-bdfa-45e5-ce61-26a05ed720ee"
   },
   "outputs": [
    {
     "name": "stdout",
     "output_type": "stream",
     "text": [
      "BaseClass constructor\n",
      "DerivedClass constructor\n"
     ]
    }
   ],
   "source": [
    "class BaseClass:\n",
    "    def __init__(self):\n",
    "        print(\"BaseClass constructor\")\n",
    "\n",
    "class DerivedClass(BaseClass):\n",
    "    def __init__(self):\n",
    "        super().__init__()  # Calling the parent class constructor\n",
    "        print(\"DerivedClass constructor\")\n",
    "\n",
    "obj = DerivedClass()  # Output: BaseClass constructor\n",
    "                      # DerivedClass constructor\n"
   ]
  },
  {
   "cell_type": "markdown",
   "metadata": {
    "id": "f6rgwBKP7W2f"
   },
   "source": [
    "## Multiple Inheritance:\n",
    "Multiple inheritance allows a derived class to inherit from multiple base classes. In this case, super() is used to call the methods of all the parent classes in a specific order."
   ]
  },
  {
   "cell_type": "code",
   "execution_count": null,
   "metadata": {
    "colab": {
     "base_uri": "https://localhost:8080/"
    },
    "executionInfo": {
     "elapsed": 22,
     "status": "ok",
     "timestamp": 1687600572130,
     "user": {
      "displayName": "Shailesh_8708",
      "userId": "09980080955334165381"
     },
     "user_tz": -330
    },
    "id": "yDGi38M_7ewX",
    "outputId": "8d85032b-bd0e-4a16-82fe-de75d9abb3e9"
   },
   "outputs": [
    {
     "name": "stdout",
     "output_type": "stream",
     "text": [
      "BaseClass1\n",
      "BaseClass2\n"
     ]
    }
   ],
   "source": [
    "class BaseClass1:\n",
    "    def display(self):\n",
    "        print(\"BaseClass1\")\n",
    "\n",
    "class BaseClass2:\n",
    "    def display(self):\n",
    "        print(\"BaseClass2\")\n",
    "\n",
    "class DerivedClass(BaseClass1, BaseClass2):\n",
    "    def display(self):\n",
    "        super().display()  # Calling the display method of the first parent class\n",
    "        BaseClass2.display(self)  # Calling the display method of the second parent class\n",
    "\n",
    "obj = DerivedClass()\n",
    "obj.display()  # Output: BaseClass1\n",
    "               #         BaseClass2\n"
   ]
  },
  {
   "cell_type": "code",
   "execution_count": null,
   "metadata": {
    "id": "CBciz9MPUw5S"
   },
   "outputs": [],
   "source": []
  },
  {
   "cell_type": "code",
   "execution_count": null,
   "metadata": {
    "colab": {
     "base_uri": "https://localhost:8080/"
    },
    "executionInfo": {
     "elapsed": 6,
     "status": "ok",
     "timestamp": 1690007993975,
     "user": {
      "displayName": "Shailesh_8708",
      "userId": "09980080955334165381"
     },
     "user_tz": -330
    },
    "id": "V7SsuzeYU0Ay",
    "outputId": "da5a7086-d12a-42c1-9abd-781dbb2e8933"
   },
   "outputs": [
    {
     "name": "stdout",
     "output_type": "stream",
     "text": [
      "1\n"
     ]
    }
   ],
   "source": [
    "print(1%12)"
   ]
  },
  {
   "cell_type": "markdown",
   "metadata": {
    "id": "uWKqApAB8bGH"
   },
   "source": [
    "## Multilevel Inheritance:\n",
    "Multilevel inheritance involves a chain of inheritance where one class inherits from another and is then inherited by another class. The super() method is used to access methods in each level of inheritance."
   ]
  },
  {
   "cell_type": "code",
   "execution_count": null,
   "metadata": {
    "id": "aa0x_0fS8N45"
   },
   "outputs": [],
   "source": [
    "class BaseClass:\n",
    "    def display(self):\n",
    "        print(\"BaseClass\")\n",
    "\n",
    "class IntermediateClass(BaseClass):\n",
    "    def display(self):\n",
    "        super().display()  # Calling the display method of the parent class\n",
    "        print(\"IntermediateClass\")\n",
    "\n",
    "class DerivedClass(IntermediateClass):\n",
    "    def display(self):\n",
    "        super().display()  # Calling the display method of the parent class\n",
    "        print(\"DerivedClass\")\n",
    "\n",
    "obj = DerivedClass()\n",
    "obj.display()  # Output: BaseClass\n",
    "               #         IntermediateClass\n",
    "               #         DerivedClass\n"
   ]
  },
  {
   "cell_type": "markdown",
   "metadata": {
    "id": "LZ8Sdjfx98e3"
   },
   "source": [
    "## Hierarchical Inheritance:\n",
    "Hierarchical inheritance involves a single base class that is inherited by multiple derived classes. In this case, super() can be used to call the methods of the parent class from each derived class."
   ]
  },
  {
   "cell_type": "code",
   "execution_count": null,
   "metadata": {
    "id": "2nyFfhGV-EvW"
   },
   "outputs": [],
   "source": [
    "class BaseClass:\n",
    "    def display(self):\n",
    "        print(\"BaseClass\")\n",
    "\n",
    "class DerivedClass1(BaseClass):\n",
    "    def display(self):\n",
    "        super().display()  # Calling the display method of the parent class\n",
    "        print(\"DerivedClass1\")\n",
    "\n",
    "class DerivedClass2(BaseClass):\n",
    "    def display(self):\n",
    "        super().display()  # Calling the display method of the parent class\n",
    "        print(\"DerivedClass2\")\n",
    "\n",
    "obj1 = DerivedClass1()\n",
    "obj1.display()  # Output: BaseClass\n",
    "                #         DerivedClass1\n",
    "\n",
    "obj2 = DerivedClass2()\n",
    "obj2.display()  # Output: BaseClass\n",
    "                #         DerivedClass2\n"
   ]
  },
  {
   "cell_type": "markdown",
   "metadata": {
    "id": "nXIIXV4A-M4j"
   },
   "source": [
    "## Hybrid Inheritance:\n",
    "Hybrid inheritance combines multiple types of inheritance, such as single, multiple, or hierarchical inheritance. It allows for a complex class hierarchy, and the super() method can be used to call methods from different levels of inheritance."
   ]
  },
  {
   "cell_type": "code",
   "execution_count": null,
   "metadata": {
    "id": "TBNWlomN-QG1"
   },
   "outputs": [],
   "source": [
    "class BaseClass:\n",
    "    def display(self):\n",
    "        print(\"BaseClass\")\n",
    "\n",
    "class DerivedClass1(BaseClass):\n",
    "    def display(self):\n",
    "        super().display()  # Calling the display method of the parent class\n",
    "        print(\"DerivedClass1\")\n",
    "\n",
    "class DerivedClass2(BaseClass):\n",
    "    def display(self):\n",
    "        super().display()  # Calling the display method of the parent class\n",
    "        print(\"DerivedClass2\")\n",
    "\n",
    "class SubDerivedClass(DerivedClass1, DerivedClass2):\n",
    "    def display(self):\n",
    "        super().display()  # Calling the display method of the first parent class\n",
    "        DerivedClass2.display(self)  # Calling the display method of the second parent class\n",
    "\n",
    "obj = SubDerivedClass()\n",
    "obj.display()  # Output: BaseClass\n",
    "               #         DerivedClass1\n",
    "               #         DerivedClass2\n"
   ]
  },
  {
   "cell_type": "markdown",
   "metadata": {
    "id": "CHGCHjPbKZB1"
   },
   "source": [
    "## Polymorphism\n",
    "poly means many. Morphs means forms.\n",
    "\n",
    "Polymorphism means 'Many Forms'.\n",
    "\n",
    "* **Eg1:** Yourself is best example of polymorphism.In front of Your parents You will have one\n",
    "type of behaviour and with friends another type of behaviour.Same person but different\n",
    "behaviours at different places,which is nothing but polymorphism.\n",
    "\n",
    "* **Eg2:** + operator acts as concatenation and arithmetic addition\n",
    "Eg3: * operator acts as multiplication and repetition operator\n",
    "* **Eg4:** The Same method with different implementations in Parent class and child\n",
    "classes.(overriding)"
   ]
  },
  {
   "cell_type": "markdown",
   "metadata": {
    "id": "AaFkK1kRLd_d"
   },
   "source": [
    "##Overloading:\n",
    "Overloading refers to the ability to define multiple methods with the same name but different parameters or argument types. It allows a single function or method name to have different behaviors based on the arguments provided."
   ]
  },
  {
   "cell_type": "markdown",
   "metadata": {
    "id": "EYmW10e0Q6Ar"
   },
   "source": [
    "There are 3 types of Overloading\n",
    "* 1) Operator Overloading\n",
    "* 2) Method Overloading\n",
    "* 3) Constructor Overloading\n",
    "\n",
    "## Operator Overloading:\n",
    "We can use the same operator for multiple purposes, which is nothing but operator overloading.\n",
    "Python supports operator overloading.\n",
    "* **Eg 1:** + operator can be used for Arithmetic addition and String concatenation\n",
    " print(10+20)#30\n",
    " print('coding'+'Thinker')#codingThinker\n",
    "* **Eg 2:** * operator can be used for multiplication and string repetition purposes.\n",
    " print(10 * 20)#200\n",
    " print('CT' * 3)#CTCTCT"
   ]
  },
  {
   "cell_type": "code",
   "execution_count": null,
   "metadata": {
    "id": "rIKFFfKkrhLX"
   },
   "outputs": [],
   "source": [
    "class Student:\n",
    "    def __init__(self,name,marks):\n",
    "        self.name=name\n",
    "        self.marks=marks\n",
    "    def __gt__(self,other):\n",
    "        return self.marks>other.marks\n",
    "    def __le__(self,other):\n",
    "        return self.marks<=other.marks\n",
    "\n",
    "print(\"10>20 =\",10>20)\n",
    "s1=Student(\"Shailesh\",100)\n",
    "s2=Student(\"Ravi\",200)\n",
    "print(\"s1>s2=\",s1>s2)\n",
    "print(\"s1<s2=\",s1<s2)\n",
    "print(\"s1<=s2=\",s1<=s2)\n",
    "print(\"s1>=s2=\",s1>=s2)"
   ]
  },
  {
   "cell_type": "code",
   "execution_count": null,
   "metadata": {
    "id": "rXaKGwgfsz3M"
   },
   "outputs": [],
   "source": [
    "class Employee:\n",
    "    def __init__(self,name,salary):\n",
    "        self.name=name\n",
    "        self.salary=salary\n",
    "    def __mul__(self,other):\n",
    "        return self.salary*other.days\n",
    "\n",
    "class TimeSheet:\n",
    "    def __init__(self,name,days):\n",
    "        self.name=name\n",
    "        self.days=days\n",
    "\n",
    "e=Employee('Shailesh',500)\n",
    "t=TimeSheet('Shailesh',25)\n",
    "print('This Month Salary:',e*t)"
   ]
  },
  {
   "cell_type": "markdown",
   "metadata": {
    "id": "AdRNnYkyRu8p"
   },
   "source": [
    "## **Method Overloading:**\n",
    "* in Python Method overloading is not possible.\n",
    "* If we are trying to declare multiple methods with same name and different number ofarguments then Python will always consider only last method."
   ]
  },
  {
   "cell_type": "code",
   "execution_count": null,
   "metadata": {
    "colab": {
     "base_uri": "https://localhost:8080/",
     "height": 218
    },
    "executionInfo": {
     "elapsed": 19,
     "status": "error",
     "timestamp": 1687859526042,
     "user": {
      "displayName": "Shailesh_8708",
      "userId": "09980080955334165381"
     },
     "user_tz": -330
    },
    "id": "NMrL_XCLR6dp",
    "outputId": "6b8a0a6d-704a-4cf8-a821-fe7ef3617cfb"
   },
   "outputs": [
    {
     "ename": "TypeError",
     "evalue": "ignored",
     "output_type": "error",
     "traceback": [
      "\u001b[0;31m---------------------------------------------------------------------------\u001b[0m",
      "\u001b[0;31mTypeError\u001b[0m                                 Traceback (most recent call last)",
      "\u001b[0;32m<ipython-input-1-8d7bb6830138>\u001b[0m in \u001b[0;36m<cell line: 9>\u001b[0;34m()\u001b[0m\n\u001b[1;32m      7\u001b[0m \u001b[0;34m\u001b[0m\u001b[0m\n\u001b[1;32m      8\u001b[0m \u001b[0mcalc\u001b[0m \u001b[0;34m=\u001b[0m \u001b[0mCalculator\u001b[0m\u001b[0;34m(\u001b[0m\u001b[0;34m)\u001b[0m\u001b[0;34m\u001b[0m\u001b[0;34m\u001b[0m\u001b[0m\n\u001b[0;32m----> 9\u001b[0;31m \u001b[0mprint\u001b[0m\u001b[0;34m(\u001b[0m\u001b[0mcalc\u001b[0m\u001b[0;34m.\u001b[0m\u001b[0madd\u001b[0m\u001b[0;34m(\u001b[0m\u001b[0;36m2\u001b[0m\u001b[0;34m,\u001b[0m \u001b[0;36m3\u001b[0m\u001b[0;34m)\u001b[0m\u001b[0;34m)\u001b[0m        \u001b[0;31m# Outputs: 5\u001b[0m\u001b[0;34m\u001b[0m\u001b[0;34m\u001b[0m\u001b[0m\n\u001b[0m\u001b[1;32m     10\u001b[0m \u001b[0mprint\u001b[0m\u001b[0;34m(\u001b[0m\u001b[0mcalc\u001b[0m\u001b[0;34m.\u001b[0m\u001b[0madd\u001b[0m\u001b[0;34m(\u001b[0m\u001b[0;36m2\u001b[0m\u001b[0;34m,\u001b[0m \u001b[0;36m3\u001b[0m\u001b[0;34m,\u001b[0m \u001b[0;36m4\u001b[0m\u001b[0;34m)\u001b[0m\u001b[0;34m)\u001b[0m     \u001b[0;31m# Outputs: 9\u001b[0m\u001b[0;34m\u001b[0m\u001b[0;34m\u001b[0m\u001b[0m\n",
      "\u001b[0;31mTypeError\u001b[0m: Calculator.add() missing 1 required positional argument: 'c'"
     ]
    }
   ],
   "source": [
    "class Calculator:\n",
    "    def add(self, a, b):\n",
    "        return a + b\n",
    "\n",
    "    def add(self, a, b, c):\n",
    "        return a + b + c\n",
    "\n",
    "calc = Calculator()\n",
    "print(calc.add(2, 3))        # Outputs: 5\n",
    "print(calc.add(2, 3, 4))     # Outputs: 9\n"
   ]
  },
  {
   "cell_type": "markdown",
   "metadata": {
    "id": "jMboN-mtSZv5"
   },
   "source": [
    "## Constructor Overloading:\n",
    "Constructor overloading is not possible in Python."
   ]
  },
  {
   "cell_type": "markdown",
   "metadata": {
    "id": "O0mkQ5G5L3AR"
   },
   "source": [
    "## Overriding:\n",
    "* What ever members available in the parent class are bydefault available to the child\n",
    "class through inheritance. If the child class not satisfied with parent class\n",
    "implementation then child class is allowed to redefine that method in the child class\n",
    "based on its requirement. This concept is called overriding.\n",
    "* Overriding concept applicable for both methods and constructors.\n"
   ]
  },
  {
   "cell_type": "markdown",
   "metadata": {
    "id": "EmamxO9VuDuR"
   },
   "source": [
    "## Method Overrriding"
   ]
  },
  {
   "cell_type": "code",
   "execution_count": null,
   "metadata": {
    "id": "31fmHqlYL5hN"
   },
   "outputs": [],
   "source": [
    "class P:\n",
    "    def property(self):\n",
    "        print('Gold+Land+Cash+Power')\n",
    "    def marry(self):\n",
    "        print('Neha')\n",
    "class C(P):\n",
    "    def marry(self):\n",
    "        print('Yashi')\n",
    "\n",
    "c=C()\n",
    "c.property()\n",
    "c.marry()"
   ]
  },
  {
   "cell_type": "markdown",
   "metadata": {
    "id": "990DnXPzvJ7g"
   },
   "source": [
    "## Constructor Overrriding"
   ]
  },
  {
   "cell_type": "code",
   "execution_count": null,
   "metadata": {
    "id": "YiMAJ07duiGK"
   },
   "outputs": [],
   "source": [
    "class P:\n",
    "    def __init__(self):\n",
    "        print('Parent Constructor')\n",
    "\n",
    "class C(P):\n",
    "    def __init__(self):\n",
    "        print('Child Constructor')\n",
    "\n",
    "c=C()"
   ]
  },
  {
   "cell_type": "code",
   "execution_count": null,
   "metadata": {
    "id": "kKbvpEEYvI0Z"
   },
   "outputs": [],
   "source": [
    "class Person:\n",
    "    def __init__(self,name,age):\n",
    "        self.name=name\n",
    "        self.age=age\n",
    "\n",
    "class Employee(Person):\n",
    "    def __init__(self,name,age,eno,esal):\n",
    "        super().__init__(name,age)\n",
    "        self.eno=eno\n",
    "        self.esal=esal\n",
    "\n",
    "    def display(self):\n",
    "        print('Employee Name:',self.name)\n",
    "        print('Employee Age:',self.age)\n",
    "        print('Employee Number:',self.eno)\n",
    "        print('Employee Salary:',self.esal)\n",
    "\n",
    "e1=Employee('Shailesh',48,872425,26000)\n",
    "e1.display()\n",
    "e2=Employee('Sunny',39,872426,36000)\n",
    "e2.display()"
   ]
  },
  {
   "cell_type": "markdown",
   "metadata": {
    "id": "_og6xFF2vdrn"
   },
   "source": [
    "## Public, Protected and Private Attributes:"
   ]
  },
  {
   "cell_type": "markdown",
   "metadata": {
    "id": "ogmXXBgIvqzY"
   },
   "source": [
    "* By default every attribute is public. We can access from anywhere either within the class\n",
    "or from outside of the class.\n",
    "Eg: name = 'Shailesh'\n",
    "\n",
    "\n",
    "* Protected attributes can be accessed within the class anywhere but from outside of the\n",
    "class only in child classes. We can specify an attribute as protected by prefexing with _\n",
    "symbol.\n",
    "\n",
    "**Syntax:**.  _variablename = value\n",
    "Eg: _name='shailesh'\n",
    "\n",
    "* But it is just convention and in reality does not exists protected attributes.\n",
    "\n",
    "\n",
    "* private attributes can be accessed only within the class.i.e from outside of the class we\n",
    "cannot access. We can declare a variable as private explicitly by prefexing with 2\n",
    "underscore symbols.\n",
    "\n",
    "**syntax:** __variablename=value\n",
    "\n",
    "\n",
    "Eg: __name='Shailesh'"
   ]
  },
  {
   "cell_type": "code",
   "execution_count": null,
   "metadata": {
    "colab": {
     "base_uri": "https://localhost:8080/",
     "height": 288
    },
    "executionInfo": {
     "elapsed": 418,
     "status": "error",
     "timestamp": 1687867838783,
     "user": {
      "displayName": "Shailesh_8708",
      "userId": "09980080955334165381"
     },
     "user_tz": -330
    },
    "id": "goN43fHMvfxe",
    "outputId": "4f99db8a-9c4c-479b-962c-0c4a5969fa69"
   },
   "outputs": [
    {
     "name": "stdout",
     "output_type": "stream",
     "text": [
      "10\n",
      "20\n",
      "30\n",
      "10\n",
      "20\n"
     ]
    },
    {
     "ename": "AttributeError",
     "evalue": "ignored",
     "output_type": "error",
     "traceback": [
      "\u001b[0;31m---------------------------------------------------------------------------\u001b[0m",
      "\u001b[0;31mAttributeError\u001b[0m                            Traceback (most recent call last)",
      "\u001b[0;32m<ipython-input-2-f766544dae53>\u001b[0m in \u001b[0;36m<cell line: 14>\u001b[0;34m()\u001b[0m\n\u001b[1;32m     12\u001b[0m \u001b[0mprint\u001b[0m\u001b[0;34m(\u001b[0m\u001b[0mTest\u001b[0m\u001b[0;34m.\u001b[0m\u001b[0mx\u001b[0m\u001b[0;34m)\u001b[0m\u001b[0;34m\u001b[0m\u001b[0;34m\u001b[0m\u001b[0m\n\u001b[1;32m     13\u001b[0m \u001b[0mprint\u001b[0m\u001b[0;34m(\u001b[0m\u001b[0mTest\u001b[0m\u001b[0;34m.\u001b[0m\u001b[0m_y\u001b[0m\u001b[0;34m)\u001b[0m\u001b[0;34m\u001b[0m\u001b[0;34m\u001b[0m\u001b[0m\n\u001b[0;32m---> 14\u001b[0;31m \u001b[0mprint\u001b[0m\u001b[0;34m(\u001b[0m\u001b[0mTest\u001b[0m\u001b[0;34m.\u001b[0m\u001b[0m__z\u001b[0m\u001b[0;34m)\u001b[0m\u001b[0;34m\u001b[0m\u001b[0;34m\u001b[0m\u001b[0m\n\u001b[0m",
      "\u001b[0;31mAttributeError\u001b[0m: type object 'Test' has no attribute '__z'"
     ]
    }
   ],
   "source": [
    "class Test:\n",
    "    x=10\n",
    "    _y=20\n",
    "    __z=30\n",
    "    def m1(self):\n",
    "        print(Test.x)\n",
    "        print(Test._y)\n",
    "        print(Test.__z)\n",
    "\n",
    "t=Test()\n",
    "t.m1()\n",
    "print(Test.x)\n",
    "print(Test._y)\n",
    "print(Test.__z)"
   ]
  },
  {
   "cell_type": "markdown",
   "metadata": {
    "id": "f0xU5h3ZBO3h"
   },
   "source": [
    "* We cannot access private variables directly from outside of the class.\n",
    "* But we can access indirectly as follows\n",
    "\n",
    "objectreference._classname__variablename"
   ]
  },
  {
   "cell_type": "code",
   "execution_count": null,
   "metadata": {
    "id": "ATkptcS3BmJo"
   },
   "outputs": [],
   "source": [
    "class Test:\n",
    "    def __init__(self):\n",
    "        self.__x=10\n",
    "t=Test()\n",
    "print(t._Test__x)#10"
   ]
  }
 ],
 "metadata": {
  "colab": {
   "authorship_tag": "ABX9TyOd1ThBPAcTKlr82zjMDlyd",
   "provenance": []
  },
  "kernelspec": {
   "display_name": "Python 3",
   "name": "python3"
  },
  "language_info": {
   "codemirror_mode": {
    "name": "ipython",
    "version": 3
   },
   "file_extension": ".py",
   "mimetype": "text/x-python",
   "name": "python",
   "nbconvert_exporter": "python",
   "pygments_lexer": "ipython3",
   "version": "3.11.9"
  }
 },
 "nbformat": 4,
 "nbformat_minor": 0
}
