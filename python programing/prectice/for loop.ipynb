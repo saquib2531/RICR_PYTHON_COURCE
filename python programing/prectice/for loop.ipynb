{
 "cells": [
  {
   "cell_type": "markdown",
   "metadata": {},
   "source": [
    "1. Write a python program that take a number from user then add all \n",
    "the natural number which are divisible by 3 or 5 both till that input \n",
    "number.\n",
    "Sample input:\n",
    "Enter a number: 10\n",
    "Output: 33"
   ]
  },
  {
   "cell_type": "code",
   "execution_count": 27,
   "metadata": {},
   "outputs": [
    {
     "name": "stdout",
     "output_type": "stream",
     "text": [
      "45\n"
     ]
    }
   ],
   "source": [
    "n=int(input('enter the no.'))\n",
    "x=0\n",
    "for i in range(1,n+1):\n",
    "    if i%3==0 and i%5==0:\n",
    "        x+=i\n",
    "print(x)\n"
   ]
  },
  {
   "cell_type": "markdown",
   "metadata": {},
   "source": [
    "2. Write a python program that takes input from user then print the \n",
    "table of the entered number using for loop\n",
    "Example: If user enters ‘5’ then, \n",
    "Output: 5 x 1 = 5\n",
    " 5 x 2=10\n",
    " 5 x 3 =15\n",
    " 5 x 4 =20\n",
    " 5 x 5 = 25\n",
    " 5 x 6 = 30\n",
    " 5 x 7 = 35 \n",
    " 5 x 8 = 40\n",
    " 5 x 9 = 45\n",
    " 5 x 10 =50"
   ]
  },
  {
   "cell_type": "code",
   "execution_count": 28,
   "metadata": {},
   "outputs": [
    {
     "name": "stdout",
     "output_type": "stream",
     "text": [
      "5 * 1 = 5\n",
      "5 * 2 = 10\n",
      "5 * 3 = 15\n",
      "5 * 4 = 20\n",
      "5 * 5 = 25\n",
      "5 * 6 = 30\n",
      "5 * 7 = 35\n",
      "5 * 8 = 40\n",
      "5 * 9 = 45\n",
      "5 * 10 = 50\n"
     ]
    }
   ],
   "source": [
    "for i in range(1,11):\n",
    "    \n",
    "    print(5,'*',i,'=',i*5)"
   ]
  },
  {
   "cell_type": "markdown",
   "metadata": {},
   "source": [
    "3. Write a python program that print the given series.\n",
    "Expected Output: 20, 16, 12, 8, 4, 0"
   ]
  },
  {
   "cell_type": "code",
   "execution_count": 29,
   "metadata": {},
   "outputs": [
    {
     "name": "stdout",
     "output_type": "stream",
     "text": [
      "20,16,12,8,4,0,"
     ]
    }
   ],
   "source": [
    "for i in range(20,-1,-4):\n",
    "    print(i,end=',')"
   ]
  },
  {
   "cell_type": "markdown",
   "metadata": {},
   "source": [
    "4. Write a python program to generate all the factors of the given \n",
    "number. Using for loop\n",
    "Input: 12\n",
    "Output: 1, 2, 3, 4, 12"
   ]
  },
  {
   "cell_type": "code",
   "execution_count": 34,
   "metadata": {},
   "outputs": [
    {
     "name": "stdout",
     "output_type": "stream",
     "text": [
      "1,2,3,4,6,12,"
     ]
    }
   ],
   "source": [
    "n=int(input('enter the no.'))\n",
    "for i in range(1,n+1):\n",
    "    if n%i==0:\n",
    "        print(i,end=',')"
   ]
  },
  {
   "cell_type": "markdown",
   "metadata": {},
   "source": [
    "5. Write a Python program to find the sum of digit of a given number\n",
    "using for loop. (between 100 and 999).\n",
    "Input: 123\n",
    "Output: 6"
   ]
  },
  {
   "cell_type": "code",
   "execution_count": 40,
   "metadata": {},
   "outputs": [
    {
     "name": "stdout",
     "output_type": "stream",
     "text": [
      "6\n"
     ]
    }
   ],
   "source": [
    "n=int(input('enter the no.'))\n",
    "x=0\n",
    "for i in range(3):\n",
    "    r=n%10\n",
    "    x+=r\n",
    "    n//=10\n",
    "print(x)\n"
   ]
  },
  {
   "cell_type": "markdown",
   "metadata": {},
   "source": [
    "6. write a python program that takes number from user then prints \n",
    "count of even and odd number from 1 to till that number\n",
    "Sample input:\n",
    "Enter a number: 10\n",
    "Output:\n",
    "Count_of_even_no.s = 5\n",
    "Count_of_odd_no.s = 5"
   ]
  },
  {
   "cell_type": "code",
   "execution_count": 1,
   "metadata": {},
   "outputs": [
    {
     "name": "stdout",
     "output_type": "stream",
     "text": [
      "Count_of_even_no.s = 5\n",
      "Count_of_odd_no.s = 5\n"
     ]
    }
   ],
   "source": [
    "evn=0\n",
    "odd=0\n",
    "for i in range(1,11):\n",
    "    if i%2==0:\n",
    "        evn+=1\n",
    "    else:\n",
    "        odd+=1\n",
    "print('Count_of_even_no.s =',evn)\n",
    "print('Count_of_odd_no.s =',odd)"
   ]
  },
  {
   "cell_type": "markdown",
   "metadata": {},
   "source": [
    "7. Write a Python program to count how many numbers between 1 \n",
    "and 200 are divisible by 5 but not by 2."
   ]
  },
  {
   "cell_type": "code",
   "execution_count": 5,
   "metadata": {},
   "outputs": [
    {
     "name": "stdout",
     "output_type": "stream",
     "text": [
      "20\n"
     ]
    }
   ],
   "source": [
    "x=0\n",
    "for i in range(1,201):\n",
    "    if i%5==0 and i%2!=0:\n",
    "       \n",
    "        x+=1\n",
    "        \n",
    "print(x)"
   ]
  },
  {
   "cell_type": "markdown",
   "metadata": {},
   "source": [
    "8. Write a Python program to find the reverse of a given number\n",
    "using for loop. (between 100 and 999).\n",
    "Input: 897\n",
    "Output: 798\n"
   ]
  },
  {
   "cell_type": "code",
   "execution_count": 7,
   "metadata": {},
   "outputs": [
    {
     "name": "stdout",
     "output_type": "stream",
     "text": [
      "798\n"
     ]
    }
   ],
   "source": [
    "x=0\n",
    "n=int(input('enter the no.'))\n",
    "for i in range(3):\n",
    "    r=n%10\n",
    "    x=(x*10)+r\n",
    "    n//=10\n",
    "print(x)\n"
   ]
  },
  {
   "cell_type": "markdown",
   "metadata": {},
   "source": [
    "9. Write a python program to input a number and calculate the \n",
    "‘double’ factorial using for loop.\n",
    "Explanation: Double factorial,\n",
    "• For an even integer n, the double factorial is the product of all \n",
    "even integers less than or equal to n.\n",
    "• For an odd integer p, the double factorial is the product of all \n",
    "odd integers less than or equal to p."
   ]
  },
  {
   "cell_type": "code",
   "execution_count": 12,
   "metadata": {},
   "outputs": [
    {
     "name": "stdout",
     "output_type": "stream",
     "text": [
      "48\n"
     ]
    }
   ],
   "source": [
    "x=1\n",
    "n=int(input('enter the no.'))\n",
    "for i in range(n,0,-2):\n",
    "    if i%2==0:\n",
    "        x*=i\n",
    "    else:\n",
    "        x*=i\n",
    "print(x)"
   ]
  },
  {
   "cell_type": "markdown",
   "metadata": {},
   "source": [
    "10. Write a python program which takes number as an input and \n",
    "check whether that number is prime or not.\n",
    "Input: 13\n",
    "Output: prime"
   ]
  },
  {
   "cell_type": "code",
   "execution_count": 21,
   "metadata": {},
   "outputs": [
    {
     "name": "stdout",
     "output_type": "stream",
     "text": [
      "not prime\n"
     ]
    }
   ],
   "source": [
    "n=int(input('enter the no.'))\n",
    "for i in range(n-1,1,-1):\n",
    "    if n%i==0:\n",
    "        print('not prime')\n",
    "        break\n",
    "else:\n",
    "    print('prime')"
   ]
  },
  {
   "cell_type": "markdown",
   "metadata": {},
   "source": [
    "1. How can you use a for loop to print numbers from 5 to 15?"
   ]
  },
  {
   "cell_type": "code",
   "execution_count": 4,
   "metadata": {},
   "outputs": [
    {
     "name": "stdout",
     "output_type": "stream",
     "text": [
      "5 6 7 8 9 10 11 12 13 14 15 "
     ]
    }
   ],
   "source": [
    "for i in range(5,16):\n",
    "    print(i,end=' ')"
   ]
  },
  {
   "cell_type": "markdown",
   "metadata": {},
   "source": [
    "2. Write a for loop to print the first 12 even numbers."
   ]
  },
  {
   "cell_type": "code",
   "execution_count": 5,
   "metadata": {},
   "outputs": [
    {
     "name": "stdout",
     "output_type": "stream",
     "text": [
      "2,4,6,8,10,12,14,16,18,20,22,24,"
     ]
    }
   ],
   "source": [
    "for i in range(1,25):\n",
    "    if i%2==0:\n",
    "        print(i,end=',')"
   ]
  },
  {
   "cell_type": "markdown",
   "metadata": {},
   "source": [
    "3. How can you print the first 7 odd numbers using a for loop?"
   ]
  },
  {
   "cell_type": "code",
   "execution_count": 6,
   "metadata": {},
   "outputs": [
    {
     "name": "stdout",
     "output_type": "stream",
     "text": [
      "1,3,5,7,9,11,13,"
     ]
    }
   ],
   "source": [
    "for i in range(1,14):\n",
    "    if i%2!=0:\n",
    "        print(i,end=',')\n"
   ]
  },
  {
   "cell_type": "markdown",
   "metadata": {},
   "source": [
    "4. Use a for loop to print the numbers from 20 to 1 in reverse order."
   ]
  },
  {
   "cell_type": "code",
   "execution_count": 7,
   "metadata": {},
   "outputs": [
    {
     "name": "stdout",
     "output_type": "stream",
     "text": [
      "20,19,18,17,16,15,14,13,12,11,10,9,8,7,6,5,4,3,2,1,"
     ]
    }
   ],
   "source": [
    "for i in range(20,0,-1):\n",
    "    print(i,end=',')"
   ]
  },
  {
   "cell_type": "markdown",
   "metadata": {},
   "source": [
    "5. Write a program using a for loop to print the square of numbers from 2 to 12."
   ]
  },
  {
   "cell_type": "code",
   "execution_count": 8,
   "metadata": {},
   "outputs": [
    {
     "name": "stdout",
     "output_type": "stream",
     "text": [
      "4,9,16,25,36,49,64,81,100,121,144,"
     ]
    }
   ],
   "source": [
    "for i in range(2,13):\n",
    "    i=i**2\n",
    "    print(i,end=',')"
   ]
  },
  {
   "cell_type": "markdown",
   "metadata": {},
   "source": [
    "6. How can you print the first 6 cubes of natural numbers using a for loop?"
   ]
  },
  {
   "cell_type": "code",
   "execution_count": 9,
   "metadata": {},
   "outputs": [
    {
     "name": "stdout",
     "output_type": "stream",
     "text": [
      "1,8,27,64,125,216,"
     ]
    }
   ],
   "source": [
    "for i in range(1,7):\n",
    "    i=i**3\n",
    "    print(i,end=',')"
   ]
  },
  {
   "cell_type": "markdown",
   "metadata": {},
   "source": [
    "7. Write a for loop that prints multiples of 5 from 1 to 50."
   ]
  },
  {
   "cell_type": "code",
   "execution_count": 10,
   "metadata": {},
   "outputs": [
    {
     "name": "stdout",
     "output_type": "stream",
     "text": [
      "5\n",
      "10\n",
      "15\n",
      "20\n",
      "25\n",
      "30\n",
      "35\n",
      "40\n",
      "45\n",
      "50\n"
     ]
    }
   ],
   "source": [
    "for i in range(1,11):\n",
    "    i*=5\n",
    "    print(i)"
   ]
  },
  {
   "cell_type": "markdown",
   "metadata": {},
   "source": [
    "8. How can you print numbers from 1 to 30, but only display numbers that are divisible by\n",
    "both 3 and 4?"
   ]
  },
  {
   "cell_type": "code",
   "execution_count": 11,
   "metadata": {},
   "outputs": [
    {
     "name": "stdout",
     "output_type": "stream",
     "text": [
      "12,24,"
     ]
    }
   ],
   "source": [
    "for i in range(1,31):\n",
    "    if i%3==0 and i%4==0:\n",
    "        print(i,end=',')"
   ]
  },
  {
   "cell_type": "markdown",
   "metadata": {},
   "source": [
    "9. Write a for loop to print numbers from 1 to 40, but skip numbers that are divisible\n",
    "by 7."
   ]
  },
  {
   "cell_type": "code",
   "execution_count": 12,
   "metadata": {},
   "outputs": [
    {
     "name": "stdout",
     "output_type": "stream",
     "text": [
      "1,2,3,4,5,6,8,9,10,11,12,13,15,16,17,18,19,20,22,23,24,25,26,27,29,30,31,32,33,34,36,37,38,39,40,"
     ]
    }
   ],
   "source": [
    "for i in range(1,41):\n",
    "    if i%7==0:\n",
    "        continue\n",
    "    print(i,end=',')"
   ]
  },
  {
   "cell_type": "markdown",
   "metadata": {},
   "source": [
    "10. Write a for loop to find and print the sum of squares of the first 6 natural numbers."
   ]
  },
  {
   "cell_type": "code",
   "execution_count": 13,
   "metadata": {},
   "outputs": [
    {
     "name": "stdout",
     "output_type": "stream",
     "text": [
      "91\n"
     ]
    }
   ],
   "source": [
    "x=0\n",
    "for i in range(1,7):\n",
    "    i=i**2\n",
    "    x+=i\n",
    "print(x)"
   ]
  },
  {
   "cell_type": "markdown",
   "metadata": {},
   "source": [
    "11. WAP to count how many numbers between 1 and 60 are odd using a for loop?"
   ]
  },
  {
   "cell_type": "code",
   "execution_count": 15,
   "metadata": {},
   "outputs": [
    {
     "name": "stdout",
     "output_type": "stream",
     "text": [
      "60\n"
     ]
    }
   ],
   "source": [
    "x=0\n",
    "for i in range(1,61):\n",
    "    x+=1\n",
    "print(x)\n"
   ]
  },
  {
   "cell_type": "markdown",
   "metadata": {},
   "source": [
    "12. Write a for loop to print numbers from 1 to 30, but replace numbers divisible by 5 with\n",
    "\"Five\"."
   ]
  },
  {
   "cell_type": "code",
   "execution_count": 22,
   "metadata": {},
   "outputs": [
    {
     "name": "stdout",
     "output_type": "stream",
     "text": [
      "1\n",
      "2\n",
      "3\n",
      "4\n",
      "five\n",
      "6\n",
      "7\n",
      "8\n",
      "9\n",
      "five\n",
      "11\n",
      "12\n",
      "13\n",
      "14\n",
      "five\n",
      "16\n",
      "17\n",
      "18\n",
      "19\n",
      "five\n",
      "21\n",
      "22\n",
      "23\n",
      "24\n",
      "five\n",
      "26\n",
      "27\n",
      "28\n",
      "29\n",
      "five\n"
     ]
    }
   ],
   "source": [
    "\n",
    "for i in range(1,31):\n",
    "   if i%5==0:\n",
    "      i='five'\n",
    "   print(i)\n",
    "\n",
    "      \n",
    "    \n",
    "        \n"
   ]
  },
  {
   "cell_type": "markdown",
   "metadata": {},
   "source": [
    "13. How can you calculate the sum of digits of a number (input by user) using a for loop?"
   ]
  },
  {
   "cell_type": "markdown",
   "metadata": {},
   "source": [
    "14. Write a for loop to print the first 8 powers of 3 (3^1 to 3^8)."
   ]
  },
  {
   "cell_type": "code",
   "execution_count": 24,
   "metadata": {},
   "outputs": [
    {
     "name": "stdout",
     "output_type": "stream",
     "text": [
      "3,9,27,81,243,729,2187,6561,"
     ]
    }
   ],
   "source": [
    "for i in range(1,9):\n",
    "    i=3**i\n",
    "    print(i,end=',')"
   ]
  }
 ],
 "metadata": {
  "kernelspec": {
   "display_name": "Python 3",
   "language": "python",
   "name": "python3"
  },
  "language_info": {
   "codemirror_mode": {
    "name": "ipython",
    "version": 3
   },
   "file_extension": ".py",
   "mimetype": "text/x-python",
   "name": "python",
   "nbconvert_exporter": "python",
   "pygments_lexer": "ipython3",
   "version": "3.11.9"
  }
 },
 "nbformat": 4,
 "nbformat_minor": 2
}
