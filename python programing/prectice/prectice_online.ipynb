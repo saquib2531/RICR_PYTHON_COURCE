{
 "cells": [
  {
   "cell_type": "markdown",
   "metadata": {},
   "source": [
    "my first program\n",
    "- print(\"hello world\")\n",
    "here , print = function\n",
    "      () = parentheses\n",
    "      \"\" =\n",
    "      hello world = need to print\n",
    "      "
   ]
  },
  {
   "cell_type": "code",
   "execution_count": 8,
   "metadata": {},
   "outputs": [
    {
     "name": "stdout",
     "output_type": "stream",
     "text": [
      "hello world\n"
     ]
    }
   ],
   "source": [
    "print(\"hello world\")"
   ]
  },
  {
   "cell_type": "markdown",
   "metadata": {},
   "source": [
    "for multiple print statement \n",
    "- print(\"my name is saquib\",\"i am 21 year's old\")\n",
    "- comma(,) seperats the sentance but not change the line. "
   ]
  },
  {
   "cell_type": "code",
   "execution_count": 9,
   "metadata": {},
   "outputs": [
    {
     "name": "stdout",
     "output_type": "stream",
     "text": [
      "my name is saquib. i am 21 year's lod.\n"
     ]
    }
   ],
   "source": [
    "print(\"my name is saquib.\",\"i am 21 year's lod.\")"
   ]
  },
  {
   "cell_type": "markdown",
   "metadata": {},
   "source": [
    "for changing the line the print function should be written according to needs of line.\n",
    "- print(\"i am saquib.\")\n",
    "- print(\"i am 21 year's old.)"
   ]
  },
  {
   "cell_type": "code",
   "execution_count": 10,
   "metadata": {},
   "outputs": [
    {
     "name": "stdout",
     "output_type": "stream",
     "text": [
      "i am saquib.\n",
      "i am 21 year's old.\n"
     ]
    }
   ],
   "source": [
    "print(\"i am saquib.\")\n",
    "print(\"i am 21 year's old.\")"
   ]
  },
  {
   "cell_type": "markdown",
   "metadata": {},
   "source": [
    "we can print numbers as well as operators"
   ]
  },
  {
   "cell_type": "code",
   "execution_count": 11,
   "metadata": {},
   "outputs": [
    {
     "name": "stdout",
     "output_type": "stream",
     "text": [
      "25\n",
      "28\n",
      "22\n",
      "50\n",
      "5.0\n"
     ]
    }
   ],
   "source": [
    "print(25)\n",
    "print(25+3)\n",
    "print(25-3)\n",
    "print(25*2)\n",
    "print(25/5)"
   ]
  },
  {
   "cell_type": "markdown",
   "metadata": {},
   "source": [
    "1.Even or Odd:  Prompt the user to enter an integer. Print \"Even\" if the number is even, and \"Odd\" if the number is odd.\n",
    "\n",
    "output:even and odd\n",
    "input:1\n",
    "condition:even = input%2==0, odd = input%2!=0\n",
    "frame:"
   ]
  },
  {
   "cell_type": "code",
   "execution_count": 2,
   "metadata": {},
   "outputs": [
    {
     "name": "stdout",
     "output_type": "stream",
     "text": [
      "Even\n"
     ]
    }
   ],
   "source": [
    "x = int(input(\"Enter value\"))\n",
    "if x%2==0 :\n",
    "    print(\"Even\")\n",
    "else:\n",
    "    print(\"odd \")"
   ]
  },
  {
   "cell_type": "markdown",
   "metadata": {},
   "source": [
    "2.Positive, Negative, or Zero: Prompt the user to enter a number. Print \"Positive\" if the number is positive, \"Negative\" if the number is negative, and \"Zero\" if the number is zero."
   ]
  },
  {
   "cell_type": "code",
   "execution_count": 3,
   "metadata": {},
   "outputs": [
    {
     "name": "stdout",
     "output_type": "stream",
     "text": [
      "Zero\n"
     ]
    }
   ],
   "source": [
    "x=int(input(\"Enter the no.\"))\n",
    "if x>0 :\n",
    "    print(\"Positive\")\n",
    "elif x<0 :\n",
    "    print(\"Negative\")\n",
    "else:\n",
    "    print(\"Zero\")\n"
   ]
  },
  {
   "cell_type": "markdown",
   "metadata": {},
   "source": [
    "3.Largest of Two Numbers: Prompt the user to enter two numbers. Print the larger of the two numbers."
   ]
  },
  {
   "cell_type": "code",
   "execution_count": 5,
   "metadata": {},
   "outputs": [
    {
     "name": "stdout",
     "output_type": "stream",
     "text": [
      "60\n"
     ]
    }
   ],
   "source": [
    "x=int(input(\"Enter the no.\"))\n",
    "y=int(input(\"Enter the no.\"))\n",
    "if x>y :\n",
    "    print(x)\n",
    "else:\n",
    "    print(y)"
   ]
  },
  {
   "cell_type": "markdown",
   "metadata": {},
   "source": [
    "4.Vowel or Consonant: Prompt the user to enter a single character. Print \"Vowel\" if the character is a vowel (a, e, i, o, u, case-insensitive), and \"Consonant\" otherwise."
   ]
  },
  {
   "cell_type": "code",
   "execution_count": 12,
   "metadata": {},
   "outputs": [
    {
     "name": "stdout",
     "output_type": "stream",
     "text": [
      "Consonant\n"
     ]
    }
   ],
   "source": [
    "x=input(\"Enter the charecter\")\n",
    "if x=='a' or x=='e' or x=='i' or x=='o' or x=='u' or  x=='A' or  x=='E' or x=='I' or x=='O' or x=='U' :\n",
    "    print(\"Vowel\")\n",
    "else:\n",
    "    print(\"Consonant\")"
   ]
  },
  {
   "cell_type": "markdown",
   "metadata": {},
   "source": [
    "5.Absolute Value: Prompt the user to enter a number. Print the absolute value of that number."
   ]
  },
  {
   "cell_type": "code",
   "execution_count": 23,
   "metadata": {},
   "outputs": [
    {
     "name": "stdout",
     "output_type": "stream",
     "text": [
      "8\n"
     ]
    }
   ],
   "source": [
    "x=int(input(\"Enter the no.\"))\n",
    "if x>0 :\n",
    "    print(x)\n",
    "else:\n",
    "    print(-x)"
   ]
  },
  {
   "cell_type": "markdown",
   "metadata": {},
   "source": [
    "6.Divisible by 5: Prompt the user to enter an integer. Print \"Divisible by 5\" if the number is divisible by 5, and \"Not divisible by 5\" otherwise."
   ]
  },
  {
   "cell_type": "code",
   "execution_count": 25,
   "metadata": {},
   "outputs": [
    {
     "name": "stdout",
     "output_type": "stream",
     "text": [
      "Not divisible by 5\n"
     ]
    }
   ],
   "source": [
    "x=int(input(\"Enter the no.\"))\n",
    "if x%5==0 :\n",
    "    print(\"number is divisible by 5\")\n",
    "else:\n",
    "    print(\"Not divisible by 5\")"
   ]
  },
  {
   "cell_type": "markdown",
   "metadata": {},
   "source": [
    "7.Leap Year: Prompt the user to enter a year. Print \"Leap Year\" if it's a leap year, and \"Not a Leap Year\" otherwise."
   ]
  },
  {
   "cell_type": "code",
   "execution_count": 27,
   "metadata": {},
   "outputs": [
    {
     "name": "stdout",
     "output_type": "stream",
     "text": [
      "leap year\n"
     ]
    }
   ],
   "source": [
    "x=int(input(\"Enter your year\"))\n",
    "if x%400==0:\n",
    "    print(\"leap year\")\n",
    "else:\n",
    "    print(\"not leap year\")"
   ]
  },
  {
   "cell_type": "markdown",
   "metadata": {},
   "source": [
    "8.Grading System: Prompt the user to enter a student's score (0-100). Print the corresponding letter grade based on the ranges provided earlier (A, B, C, D, F).\n"
   ]
  },
  {
   "cell_type": "code",
   "execution_count": 4,
   "metadata": {},
   "outputs": [
    {
     "name": "stdout",
     "output_type": "stream",
     "text": [
      "gradeD\n"
     ]
    }
   ],
   "source": [
    "x=float(input('Enter score '))\n",
    "if x>=90 and x<100 :\n",
    "    print('gradeA')\n",
    "elif x>=70 :\n",
    "    print('gradeB')\n",
    "elif x>=50:\n",
    "    print('gradeC')\n",
    "elif x>=30 :\n",
    "    print('gradeD')\n",
    "else:\n",
    "    print('gradeF')"
   ]
  },
  {
   "cell_type": "markdown",
   "metadata": {},
   "source": [
    "9.Triangle Type: Prompt the user to enter the lengths of three sides of a triangle. Print \"Equilateral\" if it's an equilateral triangle, \"Isosceles\" if it's an isosceles triangle, and \"Scalene\" if it's a scalene triangle."
   ]
  },
  {
   "cell_type": "code",
   "execution_count": 12,
   "metadata": {},
   "outputs": [
    {
     "name": "stdout",
     "output_type": "stream",
     "text": [
      "Isosceles\n"
     ]
    }
   ],
   "source": [
    "x=float(input('Enter 1st side'))\n",
    "y=float(input('Enter 2nd side'))\n",
    "z=float(input('Enter 3rd side'))\n",
    "if x==y and y==z and z==x:\n",
    "    print('Equilateral')\n",
    "elif x==y or y==z or z==x:\n",
    "    print('Isosceles')\n",
    "else:\n",
    "    print('scalene')"
   ]
  },
  {
   "cell_type": "markdown",
   "metadata": {},
   "source": [
    "10.Check Range: Prompt the user to enter a number. Print \"In range\" if the number is between 10 and 50 (inclusive), and \"Out of range\" otherwise."
   ]
  },
  {
   "cell_type": "code",
   "execution_count": 14,
   "metadata": {},
   "outputs": [
    {
     "name": "stdout",
     "output_type": "stream",
     "text": [
      "In Range\n"
     ]
    }
   ],
   "source": [
    "x= int(input('Enter the no.'))\n",
    "if x>=10 and x<=50:\n",
    "    print('In Range')\n",
    "else:\n",
    "    print('Out of range')"
   ]
  },
  {
   "cell_type": "markdown",
   "metadata": {},
   "source": [
    "11.Divisible by 3 and 7: Prompt the user to enter a number. Print \"Divisible by both 3 and 7\" if the number is divisible by both 3 and 7, and \"Not divisible by both\" otherwise."
   ]
  },
  {
   "cell_type": "code",
   "execution_count": 16,
   "metadata": {},
   "outputs": [
    {
     "name": "stdout",
     "output_type": "stream",
     "text": [
      "divisible by 3 and 7\n"
     ]
    }
   ],
   "source": [
    "x=int(input('Enter the no.'))\n",
    "if x%3==0 and x%7==0:\n",
    "    print('divisible by 3 and 7')\n",
    "else:\n",
    "    print('not divisible by both')"
   ]
  },
  {
   "cell_type": "markdown",
   "metadata": {},
   "source": [
    "12.Check Range (Inclusive/Exclusive): Prompt the user to enter a number and two range values (start and end). Print \"In range\" if the number is within the range (inclusive of start, exclusive of end), and \"Out of range\" otherwise."
   ]
  },
  {
   "cell_type": "code",
   "execution_count": null,
   "metadata": {},
   "outputs": [],
   "source": []
  },
  {
   "cell_type": "markdown",
   "metadata": {},
   "source": [
    "13.Smallest of Two: Prompt the user to enter two numbers. Print the smaller of the two numbers."
   ]
  },
  {
   "cell_type": "code",
   "execution_count": 2,
   "metadata": {},
   "outputs": [
    {
     "name": "stdout",
     "output_type": "stream",
     "text": [
      "33\n"
     ]
    }
   ],
   "source": [
    "x=int(input('Enter 1st no.'))\n",
    "y=int(input('Enter 2nd no.'))\n",
    "if x<y:\n",
    "    print(x)\n",
    "else:\n",
    "    print(y)"
   ]
  },
  {
   "cell_type": "markdown",
   "metadata": {},
   "source": [
    "14.Century Year: Prompt the user to enter a year. Print \"Century Year\" if it's a century year (divisible by 100), and \"Not a Century Year\" otherwise."
   ]
  },
  {
   "cell_type": "code",
   "execution_count": null,
   "metadata": {},
   "outputs": [],
   "source": [
    "x=int(input('Enter a year'))\n",
    "if x%100==100:\n",
    "    print('Century year')\n",
    "else:\n",
    "    print('not Century year')"
   ]
  },
  {
   "cell_type": "markdown",
   "metadata": {},
   "source": [
    "15.Quadrant: Prompt the user to enter the x and y coordinates of a point. Print the quadrant the point lies in (I, II, III, or IV)."
   ]
  },
  {
   "cell_type": "code",
   "execution_count": null,
   "metadata": {},
   "outputs": [],
   "source": []
  },
  {
   "cell_type": "markdown",
   "metadata": {},
   "source": [
    "16.Perfect Square: Prompt the user to enter a number. Print \"Perfect Square\" if it's a perfect square, and \"Not a Perfect Square\" otherwise.\n",
    "\n",
    "17.Power of 2: Prompt the user to enter a number. Print \"Power of 2\" if it's a power of 2, and \"Not a Power of 2\" otherwise.\n",
    "\n",
    "18.Angle Type: Prompt the user to enter the measure of an angle (in degrees). Print \"Acute\" if it's an acute angle, \"Obtuse\" if it's obtuse, and \"Right\" if it's a right angle.\n",
    "\n",
    "19.Case Check: Prompt the user to enter a character. Print \"Uppercase\" if it's an uppercase letter, \"Lowercase\" if it's lowercase, and \"Not an alphabet\" otherwise.\n",
    "\n",
    "20.Multiple Of: Prompt the user to enter two numbers. Print \"Multiple\" if the first number is a multiple of the second, and \"Not a Multiple\" otherwise.\n",
    "\n",
    "Medium (30 Questions)\n",
    "\n",
    "21.Largest of Three Numbers: Prompt the user to enter three numbers. Print the largest of the three.\n",
    "\n",
    "22.Quadratic Equation Roots: Prompt the user to enter the coefficients (a, b, c) of a quadratic equation. Print the roots of the equation, handling real and imaginary cases.\n",
    "\n",
    "23.Day of the Week: Prompt the user to enter a number (1-7). Print the corresponding day of the week.\n",
    "\n",
    "24.Month Name: Prompt the user to enter a number (1-12). Print the corresponding month name.\n",
    "\n",
    "25.Character Type: Prompt the user to enter a character. Print \"Alphabet\" if it's an alphabet, \"Digit\" if it's a digit, and \"Special Character\" otherwise.\n",
    "\n",
    "26.Valid Triangle: Prompt the user to enter three side lengths. Print \"Valid Triangle\" if the triangle is valid, and \"Invalid Triangle\" otherwise.\n",
    "\n",
    "27.Divisible by Both: Prompt the user to enter a number. Print \"Divisible by both 3 and 5\" if it's divisible by both 3 and 5, and \"Not divisible by both\" otherwise.\n",
    "\n",
    "28.Age Eligibility: Prompt the user to enter their age. Print \"Eligible to vote\" if they are 18 or older, and \"Not eligible to vote\" otherwise.\n",
    "\n",
    "29.Discount Calculation: Prompt the user to enter the purchase amount. Calculate and print the final price after a 10% discount if the purchase is over $100.\n",
    "\n",
    "30.Bonus Calculation: Prompt the user to enter their salary and years of service. Calculate and print their bonus (5% of salary) if they have worked for more than 5 years.\n",
    "\n",
    "31.Palindrome Check: Prompt the user to enter a number. Print \"Palindrome\" if it's a palindrome, and \"Not a Palindrome\" otherwise.\n",
    "\n",
    "32.Second Largest: Prompt the user to enter three numbers. Print the second largest of the three.\n",
    "\n",
    "33.Quadrilateral Type: Prompt the user to enter the lengths of four sides of a quadrilateral. Determine and print the type of quadrilateral (square, rectangle, rhombus, parallelogram, or other).\n",
    "\n",
    "34.Temperature Conversion: Prompt the user to enter a temperature and its unit (C or F). Convert the temperature to the other unit and print the result.\n",
    "\n",
    "35.Leap Year (Concise): Prompt the user to enter a year. Print \"Leap Year\" if it's a leap year, and \"Not a Leap Year\" otherwise (using a more concise leap year check).\n",
    "\n",
    "36.Triangle Area: Prompt the user to enter the base and height of a triangle. Calculate and print its area.\n",
    "\n",
    "37.Sphere Volume: Prompt the user to enter the radius of a sphere. Calculate and print its volume.\n",
    "\n",
    "38.Prime Check (Basic): Prompt the user to enter a number. Print \"Prime\" if it's prime (basic check), and \"Not Prime\" otherwise.\n",
    "\n",
    "39.Largest of Four: Prompt the user to enter four numbers. Print the largest of the four.\n",
    "\n",
    "40.Empty String Check: Prompt the user to enter a string. Print \"Empty\" if the string is empty, and \"Not Empty\" otherwise.\n",
    "\n",
    "41.Sign of Product: Prompt the user to enter three numbers. Determine and print the sign of their product (positive, negative, or zero) without actually multiplying them.\n",
    "\n",
    "42.Tolerance Check: Prompt the user to enter two numbers and a tolerance value. Print \"Within Tolerance\" if the absolute difference between the two numbers is less than or equal to the tolerance, and \"Outside Tolerance\" otherwise.\n",
    "\n",
    "43.Middle Number: Prompt the user to enter three distinct numbers. Print the middle number.\n",
    "\n",
    "44.Valid Date Check (Basic): Prompt the user to enter a day, month, and year. Perform a basic check to see if the date is valid (e.g., month within 1-12, day within valid range for the month).\n",
    "\n",
    "45.Day of Week (Zeller's Congruence - Optional): Prompt the user to enter a date (day, month, year). Calculate and print the day of the week using Zeller's Congruence (or any other method).\n",
    "\n",
    "46.Common/Leap Year: Prompt the user to enter a year. Print \"Common Year\" if it's a common year, and \"Leap Year\" if it's a leap year.\n",
    "\n",
    "47.Anagram Check (Case-Insensitive): Prompt the user to enter two strings. Check if they are anagrams of each other (case-insensitive) and print the result.\n",
    "\n",
    "48.Trapezoid Area: Prompt the user to enter the lengths of the two bases and the height of a trapezoid. Calculate and print its area.\n",
    "\n",
    "49.Cube Surface Area: Prompt the user to enter the side length of a cube. Calculate and print its surface area.\n",
    "\n",
    "50.Abundant/Deficient/Perfect: Prompt the user to enter a number. Print \"Abundant\" if it's abundant, \"Deficient\" if"
   ]
  }
 ],
 "metadata": {
  "kernelspec": {
   "display_name": "Python 3",
   "language": "python",
   "name": "python3"
  },
  "language_info": {
   "codemirror_mode": {
    "name": "ipython",
    "version": 3
   },
   "file_extension": ".py",
   "mimetype": "text/x-python",
   "name": "python",
   "nbconvert_exporter": "python",
   "pygments_lexer": "ipython3",
   "version": "3.11.9"
  }
 },
 "nbformat": 4,
 "nbformat_minor": 2
}
