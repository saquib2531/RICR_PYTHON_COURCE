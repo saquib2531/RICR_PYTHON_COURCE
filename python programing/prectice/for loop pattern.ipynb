{
 "cells": [
  {
   "cell_type": "markdown",
   "metadata": {},
   "source": [
    "Note: Write a python program to generate the following pattern \n",
    "using for loop by taking ‘n’ as an input. (given patten for n = 5)\n"
   ]
  },
  {
   "cell_type": "markdown",
   "metadata": {},
   "source": [
    "1.\n",
    "* * * * *\n",
    "* * * * *\n",
    "* * * * *\n",
    "* * * * *\n",
    "* * * * *"
   ]
  },
  {
   "cell_type": "code",
   "execution_count": 1,
   "metadata": {},
   "outputs": [
    {
     "name": "stdout",
     "output_type": "stream",
     "text": [
      "* * * \n",
      "* * * \n",
      "* * * \n"
     ]
    }
   ],
   "source": [
    "n=int(input())\n",
    "for i in range(n):\n",
    "    for j in range(n):\n",
    "        print('*',end=' ')\n",
    "    print()"
   ]
  },
  {
   "cell_type": "code",
   "execution_count": 8,
   "metadata": {},
   "outputs": [
    {
     "name": "stdout",
     "output_type": "stream",
     "text": [
      "* * * \n",
      "* * * \n",
      "* * * \n"
     ]
    }
   ],
   "source": [
    "n=int(input())\n",
    "for i in range(n):\n",
    "    for j in range(n):\n",
    "        print('*',end=' ')\n",
    "    print()\n"
   ]
  },
  {
   "cell_type": "markdown",
   "metadata": {},
   "source": [
    "2.\n",
    "*\n",
    "* *\n",
    "* * *\n",
    "* * * *\n",
    "* * * * *"
   ]
  },
  {
   "cell_type": "code",
   "execution_count": 2,
   "metadata": {},
   "outputs": [
    {
     "name": "stdout",
     "output_type": "stream",
     "text": [
      "* \n",
      "* * \n",
      "* * * \n"
     ]
    }
   ],
   "source": [
    "n=int(input())\n",
    "for i in range(1,n+1):\n",
    "    for j in range(i):\n",
    "        i-j+1\n",
    "        print('*',end=' ')\n",
    "    print()"
   ]
  },
  {
   "cell_type": "code",
   "execution_count": 9,
   "metadata": {},
   "outputs": [
    {
     "name": "stdout",
     "output_type": "stream",
     "text": [
      "* \n",
      "* * \n",
      "* * * \n",
      "* * * * \n"
     ]
    }
   ],
   "source": [
    "n=int(input())\n",
    "for i in range (1,n+1):\n",
    "    for j in range(i):\n",
    "        i-j+1\n",
    "        print('*',end=' ')\n",
    "    print()"
   ]
  },
  {
   "cell_type": "code",
   "execution_count": 6,
   "metadata": {},
   "outputs": [
    {
     "name": "stdout",
     "output_type": "stream",
     "text": [
      "* \n",
      "* * \n",
      "* * * \n",
      "* * * * \n",
      "* * * * * \n"
     ]
    }
   ],
   "source": [
    "n=int(input())\n",
    "\n",
    "nst=1\n",
    "for i in range(n):\n",
    "    for j in range(nst):\n",
    "        print('*',end=' ')\n",
    "    \n",
    "    \n",
    "    print()\n",
    "    nst+=1\n"
   ]
  },
  {
   "cell_type": "markdown",
   "metadata": {},
   "source": [
    "3.\n",
    "* * * * *\n",
    "* * * *\n",
    "* * *\n",
    "* *\n",
    "*"
   ]
  },
  {
   "cell_type": "code",
   "execution_count": 3,
   "metadata": {},
   "outputs": [
    {
     "name": "stdout",
     "output_type": "stream",
     "text": [
      "* * * \n",
      "* * \n",
      "* \n"
     ]
    }
   ],
   "source": [
    "n=int(input())\n",
    "nst=n\n",
    "for i in range(n):\n",
    "    for j in range(nst):\n",
    "        print('*',end=' ')\n",
    "    print()\n",
    "    nst-=1\n"
   ]
  },
  {
   "cell_type": "code",
   "execution_count": 7,
   "metadata": {},
   "outputs": [
    {
     "name": "stdout",
     "output_type": "stream",
     "text": [
      "* * * * * \n",
      "* * * * \n",
      "* * * \n",
      "* * \n",
      "* \n"
     ]
    }
   ],
   "source": [
    "n=int(input())\n",
    "nst=n\n",
    "for i in range(n):\n",
    "    for j in range(nst):\n",
    "        print('*',end=' ')\n",
    "    print()\n",
    "    nst-=1"
   ]
  },
  {
   "cell_type": "markdown",
   "metadata": {},
   "source": [
    "4.\n",
    "        *\n",
    "      * *\n",
    "    * * *\n",
    "  * * * *\n",
    "* * * * *"
   ]
  },
  {
   "cell_type": "code",
   "execution_count": 4,
   "metadata": {},
   "outputs": [
    {
     "name": "stdout",
     "output_type": "stream",
     "text": [
      "        * \n",
      "      * * \n",
      "    * * * \n",
      "  * * * * \n",
      "* * * * * \n"
     ]
    }
   ],
   "source": [
    "n=int(input())\n",
    "nst=1\n",
    "nsp=n-1\n",
    "for i in range(n):\n",
    "    for j in range(nsp):\n",
    "        print(' ',end=' ')\n",
    "    for j in range(nst):\n",
    "        print('*',end=' ')\n",
    "    print()\n",
    "    nst+=1\n",
    "    nsp-=1\n",
    "\n"
   ]
  },
  {
   "cell_type": "code",
   "execution_count": 8,
   "metadata": {},
   "outputs": [
    {
     "name": "stdout",
     "output_type": "stream",
     "text": [
      "        * \n",
      "      * * \n",
      "    * * * \n",
      "  * * * * \n",
      "* * * * * \n"
     ]
    }
   ],
   "source": [
    "n=int(input())\n",
    "nst=1\n",
    "nsp=n-1\n",
    "for i in range(n):\n",
    "    for j in range(nsp):\n",
    "        print(' ',end=' ')\n",
    "    for j in range(nst):\n",
    "        print('*',end=' ')\n",
    "    print()\n",
    "    nst+=1\n",
    "    nsp-=1"
   ]
  },
  {
   "cell_type": "markdown",
   "metadata": {},
   "source": [
    "5.\n",
    "* * * * *\n",
    "  * * * *\n",
    "    * * *\n",
    "      * *\n",
    "        *\n"
   ]
  },
  {
   "cell_type": "code",
   "execution_count": 9,
   "metadata": {},
   "outputs": [
    {
     "name": "stdout",
     "output_type": "stream",
     "text": [
      "* * * * * \n",
      "  * * * * \n",
      "    * * * \n",
      "      * * \n",
      "        * \n"
     ]
    }
   ],
   "source": [
    "n=int(input())\n",
    "nst=n\n",
    "nsp=0\n",
    "for i in range(n):\n",
    "    for j in range(nsp):\n",
    "        print(' ',end=' ')\n",
    "    for j in range(nst):\n",
    "        print('*',end=' ')\n",
    "    print()\n",
    "    nst-=1\n",
    "    nsp+=1"
   ]
  },
  {
   "cell_type": "code",
   "execution_count": 10,
   "metadata": {},
   "outputs": [
    {
     "name": "stdout",
     "output_type": "stream",
     "text": [
      "* * * * * \n",
      "  * * * * \n",
      "    * * * \n",
      "      * * \n",
      "        * \n"
     ]
    }
   ],
   "source": [
    "n=int(input())\n",
    "nst=n\n",
    "nsp=0\n",
    "for i in range(n):\n",
    "    for j in range(nsp):\n",
    "        print(' ',end=' ')\n",
    "    for j in range(nst):\n",
    "        print('*',end=' ')\n",
    "\n",
    "    print()\n",
    "    nst-=1\n",
    "    nsp+=1"
   ]
  },
  {
   "cell_type": "markdown",
   "metadata": {},
   "source": [
    "6.\n",
    "        *\n",
    "      * * *\n",
    "    * * * * *\n",
    "  * * * * * * *\n",
    "* * * * * * * * *"
   ]
  },
  {
   "cell_type": "code",
   "execution_count": 11,
   "metadata": {},
   "outputs": [
    {
     "name": "stdout",
     "output_type": "stream",
     "text": [
      "        * \n",
      "      * * * \n",
      "    * * * * * \n",
      "  * * * * * * * \n",
      "* * * * * * * * * \n"
     ]
    }
   ],
   "source": [
    "n=int(input())\n",
    "nst=1\n",
    "nsp=n-1\n",
    "for i in range(n):\n",
    "    for j in range(nsp):\n",
    "        print(' ',end=' ')\n",
    "    for j in range(nst):\n",
    "        print('*',end=' ')\n",
    "    print()\n",
    "    nsp-=1\n",
    "    nst+=2\n"
   ]
  },
  {
   "cell_type": "code",
   "execution_count": 10,
   "metadata": {},
   "outputs": [
    {
     "name": "stdout",
     "output_type": "stream",
     "text": [
      "        * \n",
      "      * * * \n",
      "    * * * * * \n",
      "  * * * * * * * \n",
      "* * * * * * * * * \n"
     ]
    }
   ],
   "source": [
    "n=int(input())\n",
    "nst=1\n",
    "nsp=n-1\n",
    "for i in range(n):\n",
    "    for j in range(nsp):\n",
    "        print(' ',end=' ')\n",
    "    for j in range(nst):\n",
    "        print('*',end=' ')\n",
    "    print()\n",
    "    nst+=2\n",
    "    nsp-=1\n",
    "    "
   ]
  },
  {
   "cell_type": "markdown",
   "metadata": {},
   "source": [
    "7.\n",
    "* * * * * * * * *\n",
    "  * * * * * * *\n",
    "    * * * * *\n",
    "      * * *\n",
    "        *"
   ]
  },
  {
   "cell_type": "code",
   "execution_count": 3,
   "metadata": {},
   "outputs": [
    {
     "name": "stdout",
     "output_type": "stream",
     "text": [
      "* * * * * * * * * \n",
      "  * * * * * * * \n",
      "    * * * * * \n",
      "      * * * \n",
      "        * \n"
     ]
    }
   ],
   "source": [
    "n=int(input())\n",
    "nst=n*2-1\n",
    "nsp=0\n",
    "for i in range(n):\n",
    "    for j in range(nsp):\n",
    "        print(' ',end=' ')\n",
    "    for j in range(nst):\n",
    "        print('*',end=' ')\n",
    "    \n",
    "    print()\n",
    "    nst-=2\n",
    "    nsp+=1\n"
   ]
  },
  {
   "cell_type": "code",
   "execution_count": 1,
   "metadata": {},
   "outputs": [
    {
     "name": "stdout",
     "output_type": "stream",
     "text": [
      "* * * * * * * * * * * \n",
      "  * * * * * * * * * \n",
      "    * * * * * * * \n",
      "      * * * * * \n",
      "        * * * \n",
      "          * \n"
     ]
    }
   ],
   "source": [
    "n=int(input())\n",
    "nst=n+(n-1)\n",
    "nsp=0\n",
    "for i in range(n):\n",
    "    for j in range(nsp):\n",
    "        print(' ',end=' ')\n",
    "    for j in range(nst):\n",
    "        print('*',end=' ')\n",
    "    \n",
    "    print()\n",
    "    nst-=2\n",
    "    nsp+=1"
   ]
  },
  {
   "cell_type": "markdown",
   "metadata": {},
   "source": [
    "8.\n",
    "*\n",
    "* *\n",
    "* * *\n",
    "* * * *\n",
    "* * * * *\n",
    "* * * * *\n",
    "* * * *\n",
    "* * *\n",
    "* *\n",
    "*"
   ]
  },
  {
   "cell_type": "code",
   "execution_count": null,
   "metadata": {},
   "outputs": [],
   "source": [
    "n=int(input())\n",
    "x=n//2\n",
    "nst=1\n",
    "nsp=n-1\n",
    "xnst=n\n",
    "xnsp=0\n",
    "for i in range(n):\n",
    "    for j in range(nst):\n",
    "        print('*',end=' ')\n",
    "    for j in range(nsp):\n",
    "        print(' ',end=' ')\n",
    "    print()\n",
    "    nst+=1\n",
    "    nsp-=1\n",
    "for i in range(n):\n",
    "    for j in range(nst):\n",
    "        print('*',end=' ')\n",
    "    for j in range(nsp):\n",
    "        print(' ',end=0)\n"
   ]
  },
  {
   "cell_type": "code",
   "execution_count": 4,
   "metadata": {},
   "outputs": [
    {
     "name": "stdout",
     "output_type": "stream",
     "text": [
      "* \n",
      "* * \n",
      "* * \n",
      "* \n"
     ]
    }
   ],
   "source": [
    "n=int(input())\n",
    "x=n//2\n",
    "xnst=x\n",
    "nst=1\n",
    "for i in range(x):\n",
    "    for j in range(nst):\n",
    "        print('*',end=' ')\n",
    "    print()\n",
    "    nst+=1\n",
    "for i in range(x):\n",
    "    for j in range(xnst):\n",
    "        print('*',end=' ')\n",
    "    print()\n",
    "    xnst-=1"
   ]
  },
  {
   "cell_type": "markdown",
   "metadata": {},
   "source": [
    "9.\n",
    "        *\n",
    "      * *\n",
    "    * * *\n",
    "  * * * *\n",
    "* * * * *\n",
    "* * * * *\n",
    "  * * * *\n",
    "    * * *\n",
    "      * *\n",
    "        *"
   ]
  },
  {
   "cell_type": "code",
   "execution_count": 34,
   "metadata": {},
   "outputs": [
    {
     "name": "stdout",
     "output_type": "stream",
     "text": [
      "        * \n",
      "      * * \n",
      "    * * * \n",
      "  * * * * \n",
      "* * * * * \n",
      "* * * * * \n",
      "  * * * * \n",
      "    * * * \n",
      "      * * \n",
      "        * \n"
     ]
    }
   ],
   "source": [
    "n=int(input())\n",
    "x=n//2\n",
    "xnst=x\n",
    "xnsp=0\n",
    "nst=1\n",
    "nsp=x-1\n",
    "for i in range(x):\n",
    "    for j in range(nsp):\n",
    "        print(' ',end=' ')\n",
    "    for j in range(nst):\n",
    "        print('*',end=' ')\n",
    "    print()\n",
    "    nsp-=1\n",
    "    nst+=1\n",
    "for i in range(x):\n",
    "    for j in range(xnsp):\n",
    "        print(' ',end=' ')\n",
    "    for j in range(xnst):\n",
    "        print('*',end=' ')\n",
    "    \n",
    "    print()\n",
    "    xnsp+=1\n",
    "    xnst-=1"
   ]
  },
  {
   "cell_type": "code",
   "execution_count": 19,
   "metadata": {},
   "outputs": [
    {
     "name": "stdout",
     "output_type": "stream",
     "text": [
      "1 1 1 1 1 \n",
      "2 2 2 2 2 \n",
      "3 3 3 3 3 \n",
      "4 4 4 4 4 \n",
      "5 5 5 5 5 \n"
     ]
    }
   ],
   "source": [
    "n=int(input())\n",
    "for i in range(1,n+1):\n",
    "    for j in range(1,n+1):\n",
    "        print(i,end=' ')\n",
    "    print()"
   ]
  }
 ],
 "metadata": {
  "kernelspec": {
   "display_name": "Python 3",
   "language": "python",
   "name": "python3"
  },
  "language_info": {
   "codemirror_mode": {
    "name": "ipython",
    "version": 3
   },
   "file_extension": ".py",
   "mimetype": "text/x-python",
   "name": "python",
   "nbconvert_exporter": "python",
   "pygments_lexer": "ipython3",
   "version": "3.11.9"
  }
 },
 "nbformat": 4,
 "nbformat_minor": 2
}
