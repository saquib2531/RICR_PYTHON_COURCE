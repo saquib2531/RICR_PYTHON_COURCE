{
 "cells": [
  {
   "cell_type": "markdown",
   "metadata": {},
   "source": [
    "Q1. Write a program that prints number from 1 to 10 number with \n",
    "their square."
   ]
  },
  {
   "cell_type": "code",
   "execution_count": 8,
   "metadata": {},
   "outputs": [
    {
     "name": "stdout",
     "output_type": "stream",
     "text": [
      "1,2,3,4,5,6,7,8,9,10,"
     ]
    }
   ],
   "source": [
    "i=1\n",
    "while i<=10:\n",
    "    print(i,end=',')\n",
    "    i+=1"
   ]
  },
  {
   "cell_type": "markdown",
   "metadata": {},
   "source": [
    "Q2. Write a program that prints a table of a number, take that \n",
    "number from the user.\n",
    "Sample input:\n",
    "Enter a number: 5\n",
    "Output:\n",
    "5 x 1 = 5\n",
    "5 x 2 = 10\n",
    "5 x 3 = 15\n",
    "5 x 4 = 20\n",
    "5 x 5 = 25\n",
    "5 x 6 = 30\n",
    "5 x 7 = 35\n",
    "5 x 8 = 40\n",
    "5 x 9 = 45\n",
    "5 x 10 = 50"
   ]
  },
  {
   "cell_type": "code",
   "execution_count": 10,
   "metadata": {},
   "outputs": [
    {
     "name": "stdout",
     "output_type": "stream",
     "text": [
      "5 * 1 = 5\n",
      "5 * 2 = 10\n",
      "5 * 3 = 15\n",
      "5 * 4 = 20\n",
      "5 * 5 = 25\n",
      "5 * 6 = 30\n",
      "5 * 7 = 35\n",
      "5 * 8 = 40\n",
      "5 * 9 = 45\n",
      "5 * 10 = 50\n"
     ]
    }
   ],
   "source": [
    "i=1\n",
    "while i<=10:\n",
    "    print(5,'*',i,'=',i*5)\n",
    "    i+=1"
   ]
  },
  {
   "cell_type": "markdown",
   "metadata": {},
   "source": [
    "Q3. Write a program that calculates the product of all numbers \n",
    "between 1 to 10 using a while loop."
   ]
  },
  {
   "cell_type": "code",
   "execution_count": 11,
   "metadata": {},
   "outputs": [
    {
     "name": "stdout",
     "output_type": "stream",
     "text": [
      "3628800\n"
     ]
    }
   ],
   "source": [
    "i=1\n",
    "x=1\n",
    "while i<=10:\n",
    "    x*=i\n",
    "    i+=1\n",
    "print(x)"
   ]
  },
  {
   "cell_type": "markdown",
   "metadata": {},
   "source": [
    "Q4. Write a program that prints numbers divisible of 7 between 1 to \n",
    "70 "
   ]
  },
  {
   "cell_type": "code",
   "execution_count": 12,
   "metadata": {},
   "outputs": [
    {
     "name": "stdout",
     "output_type": "stream",
     "text": [
      "7,14,21,28,35,42,49,56,63,70,"
     ]
    }
   ],
   "source": [
    "i=1\n",
    "while i<=70:\n",
    "    if i%7==0:\n",
    "        print(i,end=',')\n",
    "    i+=1"
   ]
  },
  {
   "cell_type": "markdown",
   "metadata": {},
   "source": [
    "Q5. Write a program that takes input from the user and print the \n",
    "reverse counting of that number.\n",
    "Sample Input: 5\n",
    "Sample output: 5 4 3 2 1\n",
    "Note: Write the dry run and generate output of all the below \n",
    "programs by using paper and pen in your notebook."
   ]
  },
  {
   "cell_type": "code",
   "execution_count": 13,
   "metadata": {},
   "outputs": [
    {
     "name": "stdout",
     "output_type": "stream",
     "text": [
      "5,4,3,2,1,"
     ]
    }
   ],
   "source": [
    "n=int(input('enter the no.'))\n",
    "i=n\n",
    "while i>=1:\n",
    "    print(i,end=',')\n",
    "    i-=1"
   ]
  },
  {
   "cell_type": "markdown",
   "metadata": {},
   "source": [
    "Q6. i = 1\n",
    "while i < 20:\n",
    "print(i)\n",
    "i *= 2"
   ]
  },
  {
   "cell_type": "code",
   "execution_count": 15,
   "metadata": {},
   "outputs": [
    {
     "name": "stdout",
     "output_type": "stream",
     "text": [
      "1\n",
      "2\n",
      "4\n",
      "8\n",
      "16\n"
     ]
    }
   ],
   "source": [
    "i = 1\n",
    "while i < 20:\n",
    "    print(i)\n",
    "    i *= 2"
   ]
  },
  {
   "cell_type": "markdown",
   "metadata": {},
   "source": [
    " Q7.\n",
    "num = 3\n",
    "while num ** 2 < 100:\n",
    "print(num+1)\n",
    "num += 2"
   ]
  },
  {
   "cell_type": "markdown",
   "metadata": {},
   "source": [
    "Q8.\n",
    "i = 2\n",
    "while i > -10:\n",
    "print(i+2)\n",
    "i -= 2"
   ]
  },
  {
   "cell_type": "markdown",
   "metadata": {},
   "source": [
    "Q9. \n",
    "a = 5\n",
    "ans = 1\n",
    "while a != 1:\n",
    "ans *= a\n",
    "print(ans)\n",
    "a -= 1"
   ]
  },
  {
   "cell_type": "markdown",
   "metadata": {},
   "source": [
    "Q10.\n",
    "i = -10\n",
    "while i < 0:\n",
    "print(i**2)\n",
    "i += 2\n"
   ]
  },
  {
   "cell_type": "markdown",
   "metadata": {},
   "source": [
    "assignment 2"
   ]
  },
  {
   "cell_type": "markdown",
   "metadata": {},
   "source": [
    "Q1.\n",
    "x=5\n",
    "While (x<10):\n",
    "print(x+10)\n",
    "x+=2"
   ]
  },
  {
   "cell_type": "markdown",
   "metadata": {},
   "source": [
    "Q2.\n",
    "x=10\n",
    "y=0\n",
    "While x>y:\n",
    "x=x-4\n",
    "y+=4\n",
    "print(x)"
   ]
  },
  {
   "cell_type": "markdown",
   "metadata": {},
   "source": [
    "Q3.\n",
    "n = 3\n",
    "while n >= 0:\n",
    " if n == 0:\n",
    " print(\"Blast off!\")\n",
    " else:\n",
    " print(n)\n",
    " n -= 1\n",
    "\n"
   ]
  },
  {
   "cell_type": "markdown",
   "metadata": {},
   "source": [
    "Q4.\n",
    "total = 0\n",
    "num = 5\n",
    "while num > 0:\n",
    " total += num\n",
    " num -= 1\n",
    "print(\"Total:\", total)"
   ]
  },
  {
   "cell_type": "markdown",
   "metadata": {},
   "source": [
    "Q5.\n",
    "num = 10\n",
    "while num >= 0:\n",
    " if num > 5:\n",
    " print(num, \"is greater than 5\")\n",
    " elif num == 5:\n",
    " print(num, \"is equal to 5\")\n",
    " else:\n",
    " print(num, \"is less than 5\")\n",
    " num -= 1"
   ]
  },
  {
   "cell_type": "markdown",
   "metadata": {},
   "source": [
    "Q6.\n",
    "n = 1\n",
    "while n <= 15:\n",
    " if n % 3 == 0 and n % 2 == 0:\n",
    " print(n, \"is a multiple of both 3 and 2\")\n",
    " n += 1"
   ]
  },
  {
   "cell_type": "markdown",
   "metadata": {},
   "source": [
    "Q7.\n",
    "num = 12\n",
    "divisor = 1\n",
    "while divisor <= num:\n",
    " if num % divisor == 0:\n",
    " print(divisor)\n",
    " divisor += 1"
   ]
  },
  {
   "cell_type": "markdown",
   "metadata": {},
   "source": [
    "Q8.\n",
    "a = 2\n",
    "b = 3\n",
    "while a <= 20:\n",
    " if a % b == 0:\n",
    " print(a, \"is divisible by\", b)\n",
    " a += 2\n",
    " b += 1"
   ]
  },
  {
   "cell_type": "markdown",
   "metadata": {},
   "source": [
    "Q9. Write a program to generate squares of even numbers between 1 to 10.\n",
    "Output: 4,16,36,64,100"
   ]
  },
  {
   "cell_type": "code",
   "execution_count": 20,
   "metadata": {},
   "outputs": [
    {
     "name": "stdout",
     "output_type": "stream",
     "text": [
      "4,16,36,64,100,"
     ]
    }
   ],
   "source": [
    "i=1\n",
    "x=1\n",
    "while i<=10:\n",
    "    if i%2==0:\n",
    "        x=i**2\n",
    "        print(x,end=',')\n",
    "    i+=1"
   ]
  },
  {
   "cell_type": "markdown",
   "metadata": {},
   "source": [
    "Q10. Write a program to print Multiples of 3 and 5 between 1 to 30.\n",
    "Output: 15, 30\n"
   ]
  },
  {
   "cell_type": "code",
   "execution_count": 4,
   "metadata": {},
   "outputs": [
    {
     "name": "stdout",
     "output_type": "stream",
     "text": [
      "15,30,"
     ]
    }
   ],
   "source": [
    "i=1\n",
    "while i<=30:\n",
    "    if i%3==0 and i%5==0:\n",
    "        print(i,end=',')\n",
    "    i+=1"
   ]
  },
  {
   "cell_type": "markdown",
   "metadata": {},
   "source": [
    "Q11. Write a program to calculate the sum of numbers from 1 to 10 using a while\n",
    "loop.\n",
    "Output: 55"
   ]
  },
  {
   "cell_type": "code",
   "execution_count": 5,
   "metadata": {},
   "outputs": [
    {
     "name": "stdout",
     "output_type": "stream",
     "text": [
      "55\n"
     ]
    }
   ],
   "source": [
    "i=1\n",
    "x=0\n",
    "while i<=10:\n",
    "    x+=i\n",
    "    i+=1\n",
    "print(x)"
   ]
  },
  {
   "cell_type": "markdown",
   "metadata": {},
   "source": [
    "Q12. Write a program to calculate Sum of Odd Numbers up to 30 using while loop"
   ]
  },
  {
   "cell_type": "code",
   "execution_count": 10,
   "metadata": {},
   "outputs": [
    {
     "name": "stdout",
     "output_type": "stream",
     "text": [
      "225\n"
     ]
    }
   ],
   "source": [
    "i=1\n",
    "x=0\n",
    "while i<=30:\n",
    "    if i%2!=0:\n",
    "        x+=i\n",
    "       \n",
    "    i+=1\n",
    "   \n",
    "print(x)"
   ]
  },
  {
   "cell_type": "markdown",
   "metadata": {},
   "source": [
    "assignment-3"
   ]
  },
  {
   "cell_type": "markdown",
   "metadata": {},
   "source": [
    "Q1. Write a python program to find the Sum of the Digits of a given \n",
    "number as an input.\n",
    "Input Output Explanation\n",
    "123 6 1+2+3 = 6\n",
    "456 15 4+5+6 = 15\n",
    "789 24 7+8+9 = 24"
   ]
  },
  {
   "cell_type": "code",
   "execution_count": null,
   "metadata": {},
   "outputs": [
    {
     "name": "stdout",
     "output_type": "stream",
     "text": [
      "15\n"
     ]
    }
   ],
   "source": [
    "n=int(input())\n",
    "x=0\n",
    "i=1\n",
    "while n>0:\n",
    "    r=n%10\n",
    "    x+=r\n",
    "    n//=10\n",
    "print(x)"
   ]
  },
  {
   "cell_type": "code",
   "execution_count": 20,
   "metadata": {},
   "outputs": [
    {
     "name": "stdout",
     "output_type": "stream",
     "text": [
      "15\n"
     ]
    }
   ],
   "source": [
    "n=int(input())\n",
    "x=0\n",
    "for i in range(3):\n",
    "    r=n%10\n",
    "    x+=r\n",
    "    n//=10\n",
    "print(x)"
   ]
  },
  {
   "cell_type": "markdown",
   "metadata": {},
   "source": [
    "Q2. Write a python program which finds the reverse of a given \n",
    "number.\n",
    "Input Output Explanation\n",
    "123 321 Reverse of 123 is 321.\n",
    "456 654 Reverse of 456 is 654.\n",
    "789 987 Reverse of 789 is 987.\n"
   ]
  },
  {
   "cell_type": "code",
   "execution_count": 25,
   "metadata": {},
   "outputs": [
    {
     "name": "stdout",
     "output_type": "stream",
     "text": [
      "654\n"
     ]
    }
   ],
   "source": [
    "n=int(input())\n",
    "i=1\n",
    "x=0\n",
    "while n>0:\n",
    "    r=n%10\n",
    "    x=(x*10)+r\n",
    "    n//=10\n",
    "print(x)"
   ]
  },
  {
   "cell_type": "markdown",
   "metadata": {},
   "source": [
    "Q3. Write a python program which find the Factors of a given number\n",
    "as an input.\n",
    "Explanation: Given an integer input, the objective is to find all the factors\n",
    "ofthe number by checking divisibility.\n",
    "Input Output Explanation\n",
    "12 1, 2, 3, 4, 6, 12 Factors of 12 are 1, 2, 3, 4, 6, and 12.\n",
    "15 1, 3, 5, 15 Factors of 15 are 1, 3, 5, and 15.\n",
    "18 1, 2, 3, 6, 9, 18 Factors of 18 are 1, 2, 3, 6, 9, and 18.\n"
   ]
  },
  {
   "cell_type": "code",
   "execution_count": 29,
   "metadata": {},
   "outputs": [
    {
     "name": "stdout",
     "output_type": "stream",
     "text": [
      "1,3,5,15,"
     ]
    }
   ],
   "source": [
    "n=int(input())\n",
    "i=1\n",
    "while i<=n:\n",
    "    if n%i==0:\n",
    "        print(i,end=',')\n",
    "    i+=1\n"
   ]
  },
  {
   "cell_type": "markdown",
   "metadata": {},
   "source": [
    "Q5. Write a python program which check Whether the given number\n",
    "as an input is a Palindrome or not.\n",
    "Explanation: palindrome numbers are those whose reverse is equal to the \n",
    "original number.\n",
    "Input Output Explanation\n",
    "121 Palindrome Reverse of 121 is 121, so it’s a palindrome.\n",
    "123 Not a Palindrome Reverse of 123 is 321, so it’s not a palindrome.\n",
    "1331 Palindrome Reverse of 1331 is 1331, so it’s a palindrome"
   ]
  },
  {
   "cell_type": "code",
   "execution_count": 40,
   "metadata": {},
   "outputs": [
    {
     "name": "stdout",
     "output_type": "stream",
     "text": [
      "not palindrome\n"
     ]
    }
   ],
   "source": [
    "n=int(input())\n",
    "i=0\n",
    "x=n\n",
    "while n>0:\n",
    "    r=n%10\n",
    "    i=(i*10)+r\n",
    "    n//=10\n",
    "\n",
    "if i==x:\n",
    "    print('palindrome')\n",
    "else:\n",
    "    print('not palindrome')"
   ]
  },
  {
   "cell_type": "markdown",
   "metadata": {},
   "source": [
    "Q6. Write a python program which finds Factorial of a Number.\n",
    "Input Output Explanation\n",
    "5 120 Factorial of 5 is 5! = 5×4×3×2×1 = 120.\n",
    "6 720 Factorial of 6 is 6! = 6×5×4×3×2×1 = 720.\n",
    "0 1 Factorial of 0 is 1 (by definition).\n"
   ]
  },
  {
   "cell_type": "code",
   "execution_count": 45,
   "metadata": {},
   "outputs": [
    {
     "name": "stdout",
     "output_type": "stream",
     "text": [
      "1\n"
     ]
    }
   ],
   "source": [
    "n=int(input())\n",
    "i=1\n",
    "x=1\n",
    "while i<=n:\n",
    "    x*=i\n",
    "    i+=1\n",
    "print(x)\n",
    "    "
   ]
  },
  {
   "cell_type": "markdown",
   "metadata": {},
   "source": [
    "Q7. Check Whether or Not the Number is an Armstrong Number.\n",
    "Explanation: An Armstrong number is a number that equals the sum of its \n",
    "digits, each raised to a power (length of that number or count of digit in that \n",
    "number).\n",
    "Input Output Explanation\n",
    "153 Armstrong 1³ + 5³ + 3³ = 153.\n",
    "123 Not Armstrong 1³ + 2³ + 3³ ≠ 123.\n",
    "370 Armstrong 3³ + 7³ + 0³ = 370."
   ]
  },
  {
   "cell_type": "code",
   "execution_count": null,
   "metadata": {},
   "outputs": [
    {
     "name": "stdout",
     "output_type": "stream",
     "text": [
      "36\n",
      "Not Armstrong\n"
     ]
    }
   ],
   "source": [
    "n=int(input())\n",
    "y=n\n",
    "x=0\n",
    "i=1\n",
    "while n>0:\n",
    "    r=n%10\n",
    "    r=r**3\n",
    "    x+=r\n",
    "    n//=10\n",
    "if y==x:\n",
    "    print('Armstrong ')\n",
    "else:\n",
    "    print('Not Armstrong')"
   ]
  }
 ],
 "metadata": {
  "kernelspec": {
   "display_name": "Python 3",
   "language": "python",
   "name": "python3"
  },
  "language_info": {
   "codemirror_mode": {
    "name": "ipython",
    "version": 3
   },
   "file_extension": ".py",
   "mimetype": "text/x-python",
   "name": "python",
   "nbconvert_exporter": "python",
   "pygments_lexer": "ipython3",
   "version": "3.11.9"
  }
 },
 "nbformat": 4,
 "nbformat_minor": 2
}
