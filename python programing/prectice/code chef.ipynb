{
 "cells": [
  {
   "cell_type": "markdown",
   "metadata": {},
   "source": [
    "Cricket World Cup Qualifier\n",
    "The cricket World Cup has started in Chefland. There are many teams participating in the group stage matches. Any team that scores 12 or more points in the group stage matches qualifies for the next stage.\n",
    "\n",
    "You know the score that a particular team has scored in the group stage matches. Determine if the team has qualified for the next stage or not.\n",
    "\n",
    "Input Format\n",
    "The first and only line of input consists of an integer X denoting the total points scored by the given team in the group stage matches.\n",
    "\n",
    "Output Format\n",
    "Output Yes, if the team has qualified for the next stage, and No otherwise.\n",
    "\n",
    "You may print each character of the string in uppercase or lowercase (for example, the strings YES, yEs, yes, and yeS will all be treated as identical).\n",
    "\n",
    "Constraints\n",
    "1≤X≤20\n",
    "Sample 1:\n",
    "Input 3\n",
    "Output No\n",
    "Explanation:\n",
    "The team has not scored ≥12 points. Hence it does not qualify.\n",
    "\n",
    "Sample 2:\n",
    "Input 17\n",
    "Output Yes\n",
    "\n",
    "\n",
    "Explanation:\n",
    "The team has scored ≥12 points. Hence it does qualify.\n",
    "\n",
    "Did you like the problem?\n",
    "\n"
   ]
  },
  {
   "cell_type": "code",
   "execution_count": 2,
   "metadata": {},
   "outputs": [
    {
     "name": "stdout",
     "output_type": "stream",
     "text": [
      "Yes\n"
     ]
    }
   ],
   "source": [
    "x=int(input('total points scored'))\n",
    "if x>=12:\n",
    "    print('Yes')\n",
    "else:\n",
    "    print('No')"
   ]
  },
  {
   "cell_type": "markdown",
   "metadata": {},
   "source": [
    "Lucky Seven\n",
    "Chef considers the number 7 lucky. As a result, he believes that the 7-th letter he sees on a day is his lucky letter of the day.\n",
    "\n",
    "You are given a string S of length 10, denoting the first 10 letters Chef saw today.What is Chef's lucky letter?\n",
    "\n",
    "Input Format\n",
    "The only line of input contains a string S, of length 10.\n",
    "Output Format\n",
    "Print a single character: Chef's lucky letter .\n",
    "Constraints S has a length of 10 S contains only lowercase Latin letters (i.e, the characters 'a' to 'z')\n",
    "Sample 1:\n",
    "Input proceeding\n",
    "Output d\n",
    "\n",
    "\n",
    "Explanation:\n",
    "The 7-th character of \"proceeding\" is 'd', and hence that is Chef's lucky letter.\n",
    "\n",
    "Sample 2:\n",
    "Input outofsight\n",
    "Output i\n",
    "\n",
    "\n",
    "Explanation:\n",
    "The 7-th character of \"outofsight\" is 'i', and hence that is Chef's lucky letter.\n",
    "\n",
    "Did you like the problem?\n",
    "\n"
   ]
  },
  {
   "cell_type": "code",
   "execution_count": null,
   "metadata": {},
   "outputs": [
    {
     "name": "stdout",
     "output_type": "stream",
     "text": [
      "i\n"
     ]
    }
   ],
   "source": [
    "x=input()\n",
    "for i in range (1):\n",
    "    print(x[6])\n"
   ]
  },
  {
   "cell_type": "markdown",
   "metadata": {},
   "source": [
    "In a particular week, Chef finds X days to be rainy and Y days to be cloudy.Find the number of clear days in the week.\n",
    "Explanation:\n",
    "There are 7 days in a week. If there are 2 rainy days and 3 cloudy days, then the remaining =7−2−3=2 days are clear.\n",
    "\n",
    "Sample 1:\n",
    "Input 2 3\n",
    "Output 2"
   ]
  },
  {
   "cell_type": "code",
   "execution_count": 7,
   "metadata": {},
   "outputs": [
    {
     "name": "stdout",
     "output_type": "stream",
     "text": [
      "2\n"
     ]
    }
   ],
   "source": [
    "x=int(input())\n",
    "y=int(input())\n",
    "z=7-x-y\n",
    "print(z)"
   ]
  },
  {
   "cell_type": "code",
   "execution_count": 9,
   "metadata": {},
   "outputs": [
    {
     "name": "stdout",
     "output_type": "stream",
     "text": [
      "1\n",
      "2\n",
      "Fizz\n",
      "4\n",
      "Buzz\n",
      "Fizz\n",
      "7\n",
      "8\n",
      "Fizz\n",
      "Buzz\n",
      "11\n",
      "Fizz\n",
      "13\n",
      "14\n",
      "FizzBuzz\n"
     ]
    }
   ],
   "source": [
    "x=int(input())\n",
    "for i in range(1,x+1):\n",
    "    if i%3==0 and i%5==0:\n",
    "        i='FizzBuzz'\n",
    "    elif i%3==0:\n",
    "        i='Fizz'\n",
    "    elif i%5==0:\n",
    "        i='Buzz'\n",
    "    print(i)"
   ]
  },
  {
   "cell_type": "code",
   "execution_count": 10,
   "metadata": {},
   "outputs": [
    {
     "ename": "IndentationError",
     "evalue": "expected an indented block after function definition on line 1 (3597427226.py, line 3)",
     "output_type": "error",
     "traceback": [
      "\u001b[1;36m  Cell \u001b[1;32mIn[10], line 3\u001b[1;36m\u001b[0m\n\u001b[1;33m    for i in range(n-1,-1):\u001b[0m\n\u001b[1;37m    ^\u001b[0m\n\u001b[1;31mIndentationError\u001b[0m\u001b[1;31m:\u001b[0m expected an indented block after function definition on line 1\n"
     ]
    }
   ],
   "source": [
    "def pos(n):\n",
    "    ## Write the code\n",
    "for i in range(n-1,-1):\n",
    "    i-=1\n",
    "    print(i,end=' ')\n",
    "        \n",
    "    \n",
    "def neg(n):\n",
    "    ##Write the code\n",
    "for i in range(n,-1):\n",
    "    i+=1\n",
    "    print(i,end=' ')"
   ]
  }
 ],
 "metadata": {
  "kernelspec": {
   "display_name": "Python 3",
   "language": "python",
   "name": "python3"
  },
  "language_info": {
   "codemirror_mode": {
    "name": "ipython",
    "version": 3
   },
   "file_extension": ".py",
   "mimetype": "text/x-python",
   "name": "python",
   "nbconvert_exporter": "python",
   "pygments_lexer": "ipython3",
   "version": "3.11.9"
  }
 },
 "nbformat": 4,
 "nbformat_minor": 2
}
