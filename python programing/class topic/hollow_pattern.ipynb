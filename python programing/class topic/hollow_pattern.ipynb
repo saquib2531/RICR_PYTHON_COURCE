{
 "cells": [
  {
   "cell_type": "code",
   "execution_count": 1,
   "id": "7fa21f82",
   "metadata": {},
   "outputs": [
    {
     "name": "stdout",
     "output_type": "stream",
     "text": [
      "        * \n",
      "      * * \n",
      "    *   * \n",
      "  *     * \n",
      "* * * * * \n"
     ]
    }
   ],
   "source": [
    "n=int(input())\n",
    "for i in range(n):\n",
    "    for j in range(n):\n",
    "        if i==n-1 or j==n-1 or i+j==n-1:\n",
    "            print('*',end=' ')\n",
    "        else:\n",
    "            print(' ',end=' ')\n",
    "    print()"
   ]
  },
  {
   "cell_type": "code",
   "execution_count": null,
   "id": "02216a1a",
   "metadata": {},
   "outputs": [
    {
     "name": "stdout",
     "output_type": "stream",
     "text": [
      "*         \n",
      "* *       \n",
      "*   *     \n",
      "*     *   \n",
      "* * * * * \n"
     ]
    }
   ],
   "source": [
    "n=int(input())\n",
    "for i in range(n):\n",
    "    for j in range(n):\n",
    "        if j==0 or i==n-1 or i==j:\n",
    "            print('*',end=' ')\n",
    "        else: \n",
    "            print(' ',end=' ')\n",
    "    print()\n"
   ]
  },
  {
   "cell_type": "code",
   "execution_count": 3,
   "id": "e7c7830b",
   "metadata": {},
   "outputs": [
    {
     "name": "stdout",
     "output_type": "stream",
     "text": [
      "* * * * * \n",
      "*     *   \n",
      "*   *     \n",
      "* *       \n",
      "*         \n"
     ]
    }
   ],
   "source": [
    "n=int(input())\n",
    "for i in range(n):\n",
    "    for j in range(n):\n",
    "        if i==0 or j==0 or i+j==n-1:\n",
    "            print('*',end=' ')\n",
    "        else:\n",
    "            print(' ',end=' ')\n",
    "    print()"
   ]
  },
  {
   "cell_type": "code",
   "execution_count": 4,
   "id": "69d88a58",
   "metadata": {},
   "outputs": [
    {
     "name": "stdout",
     "output_type": "stream",
     "text": [
      "* * * * * \n",
      "  *     * \n",
      "    *   * \n",
      "      * * \n",
      "        * \n"
     ]
    }
   ],
   "source": [
    "n=int(input())\n",
    "for i in range(n):\n",
    "    for j in range(n):\n",
    "        if i==0 or j==n-1 or i==j:\n",
    "            print('*',end=' ')\n",
    "        else:\n",
    "            print(' ',end=' ')\n",
    "    print()"
   ]
  },
  {
   "cell_type": "code",
   "execution_count": 5,
   "id": "03440149",
   "metadata": {},
   "outputs": [
    {
     "name": "stdout",
     "output_type": "stream",
     "text": [
      "* * * * * \n",
      "* *   * * \n",
      "*   *   * \n",
      "* *   * * \n",
      "* * * * * \n"
     ]
    }
   ],
   "source": [
    "n=int(input())\n",
    "for i in range(n):\n",
    "    for j in range(n):\n",
    "        if i==0 or j==0 or j==n-1 or i==n-1 or i+j==n-1 or i==j:\n",
    "            print('*',end=' ')\n",
    "        else:\n",
    "            print(' ',end=' ')\n",
    "    print()"
   ]
  },
  {
   "cell_type": "code",
   "execution_count": 7,
   "id": "69475126",
   "metadata": {},
   "outputs": [
    {
     "name": "stdout",
     "output_type": "stream",
     "text": [
      "* * * * \n",
      "*     * \n",
      "*     * \n",
      "* * * * \n"
     ]
    }
   ],
   "source": [
    "n=int(input())\n",
    "for i in range(n):\n",
    "    for j in range(n):\n",
    "        if j==0 or i==0 or j==n-1 or i==n-1:\n",
    "            print('*',end=' ')\n",
    "        else:\n",
    "            print(' ',end=' ')\n",
    "    print()"
   ]
  },
  {
   "cell_type": "code",
   "execution_count": null,
   "id": "3c220220",
   "metadata": {},
   "outputs": [
    {
     "name": "stdout",
     "output_type": "stream",
     "text": [
      "        * \n",
      "      *   \n",
      "    *     \n",
      "  *       \n",
      "* * * * * \n"
     ]
    }
   ],
   "source": [
    "n=int(input())\n",
    "for i in range(n):\n",
    "    for j in range(n):\n",
    "        if i+j==n-1 or i==n-1:\n",
    "            print('*',end=' ')\n",
    "        else:\n",
    "            print(' ',end=' ')\n",
    "    print()\n",
    " "
   ]
  },
  {
   "cell_type": "markdown",
   "id": "a7c6f247",
   "metadata": {},
   "source": [
    "A"
   ]
  },
  {
   "cell_type": "markdown",
   "id": "8f93a6cf",
   "metadata": {},
   "source": [
    "B"
   ]
  },
  {
   "cell_type": "markdown",
   "id": "b15a38d5",
   "metadata": {},
   "source": [
    "C"
   ]
  },
  {
   "cell_type": "markdown",
   "id": "da6ed60b",
   "metadata": {},
   "source": [
    "D"
   ]
  },
  {
   "cell_type": "markdown",
   "id": "b3c81822",
   "metadata": {},
   "source": [
    "E"
   ]
  },
  {
   "cell_type": "code",
   "execution_count": 14,
   "id": "09d9b286",
   "metadata": {},
   "outputs": [
    {
     "name": "stdout",
     "output_type": "stream",
     "text": [
      "* * * * * \n",
      "*         \n",
      "* * * * * \n",
      "*         \n",
      "* * * * * \n"
     ]
    }
   ],
   "source": [
    "n=int(input())\n",
    "for i in range(n):\n",
    "    for j in range(n):\n",
    "        if j==0 or i==0 or i==n//2 or i==n-1:\n",
    "            print('*',end=' ')\n",
    "        else:\n",
    "            print(' ',end=' ')\n",
    "    print()\n"
   ]
  },
  {
   "cell_type": "markdown",
   "id": "ad6e4693",
   "metadata": {},
   "source": [
    "F"
   ]
  },
  {
   "cell_type": "code",
   "execution_count": 15,
   "id": "7e52793e",
   "metadata": {},
   "outputs": [
    {
     "name": "stdout",
     "output_type": "stream",
     "text": [
      "* * * * * \n",
      "*         \n",
      "* * * * * \n",
      "*         \n",
      "*         \n"
     ]
    }
   ],
   "source": [
    "n=int(input())\n",
    "for i in range(n):\n",
    "    for j in range(n):\n",
    "        if i==0 or j==0 or i==n//2:\n",
    "            print('*',end=' ')\n",
    "        else:\n",
    "            print(' ',end=' ')\n",
    "    print()\n"
   ]
  },
  {
   "cell_type": "markdown",
   "id": "e89c4322",
   "metadata": {},
   "source": [
    "G"
   ]
  },
  {
   "cell_type": "markdown",
   "id": "e7748630",
   "metadata": {},
   "source": [
    "H"
   ]
  },
  {
   "cell_type": "code",
   "execution_count": 16,
   "id": "88a7cf61",
   "metadata": {},
   "outputs": [
    {
     "name": "stdout",
     "output_type": "stream",
     "text": [
      "*       * \n",
      "*       * \n",
      "* * * * * \n",
      "*       * \n",
      "*       * \n"
     ]
    }
   ],
   "source": [
    "n=int(input())\n",
    "for i in range(n):\n",
    "    for j in range(n):\n",
    "        if j==0 or j==n-1 or i==n//2:\n",
    "            print('*',end=' ')\n",
    "        else:\n",
    "            print(' ',end=' ')\n",
    "    print()\n"
   ]
  },
  {
   "cell_type": "code",
   "execution_count": 17,
   "id": "93cf65d5",
   "metadata": {},
   "outputs": [
    {
     "name": "stdout",
     "output_type": "stream",
     "text": [
      "* * * * * \n",
      "    *     \n",
      "    *     \n",
      "    *     \n",
      "* * * * * \n"
     ]
    }
   ],
   "source": [
    "n=int(input())\n",
    "for i in range(n):\n",
    "    for j in range(n):\n",
    "        if i==0 or i==n-1 or j==n//2:\n",
    "            print('*',end=' ')\n",
    "        else:\n",
    "            print(' ',end=' ')\n",
    "    print()\n"
   ]
  },
  {
   "cell_type": "markdown",
   "id": "2efbcfa2",
   "metadata": {},
   "source": [
    "J"
   ]
  },
  {
   "cell_type": "markdown",
   "id": "ed275c99",
   "metadata": {},
   "source": [
    "K"
   ]
  },
  {
   "cell_type": "markdown",
   "id": "7531bf69",
   "metadata": {},
   "source": [
    "L"
   ]
  },
  {
   "cell_type": "code",
   "execution_count": 18,
   "id": "5b5f53c2",
   "metadata": {},
   "outputs": [
    {
     "name": "stdout",
     "output_type": "stream",
     "text": [
      "*         \n",
      "*         \n",
      "*         \n",
      "*         \n",
      "* * * * * \n"
     ]
    }
   ],
   "source": [
    "n=int(input())\n",
    "for i in range(n):\n",
    "    for j in range(n):\n",
    "        if i==n-1 or j==0:\n",
    "            print('*',end=' ')\n",
    "        else:\n",
    "            print(' ',end=' ')\n",
    "    print()\n"
   ]
  },
  {
   "cell_type": "markdown",
   "id": "d259c522",
   "metadata": {},
   "source": [
    "M"
   ]
  },
  {
   "cell_type": "markdown",
   "id": "5c25c8c0",
   "metadata": {},
   "source": [
    "N"
   ]
  },
  {
   "cell_type": "markdown",
   "id": "d48e85f9",
   "metadata": {},
   "source": [
    "O"
   ]
  },
  {
   "cell_type": "markdown",
   "id": "efda32a5",
   "metadata": {},
   "source": [
    "P"
   ]
  },
  {
   "cell_type": "code",
   "execution_count": null,
   "id": "4277d5a4",
   "metadata": {},
   "outputs": [
    {
     "ename": "SyntaxError",
     "evalue": "expected ':' (848144054.py, line 6)",
     "output_type": "error",
     "traceback": [
      "\u001b[1;36m  Cell \u001b[1;32mIn[1], line 6\u001b[1;36m\u001b[0m\n\u001b[1;33m    elif i\u001b[0m\n\u001b[1;37m          ^\u001b[0m\n\u001b[1;31mSyntaxError\u001b[0m\u001b[1;31m:\u001b[0m expected ':'\n"
     ]
    }
   ],
   "source": [
    "n=int(input())\n",
    "for i in range(n):\n",
    "    for j in range(n):\n",
    "        "
   ]
  },
  {
   "cell_type": "markdown",
   "id": "9b6857db",
   "metadata": {},
   "source": [
    "Q"
   ]
  }
 ],
 "metadata": {
  "kernelspec": {
   "display_name": "Python 3",
   "language": "python",
   "name": "python3"
  },
  "language_info": {
   "codemirror_mode": {
    "name": "ipython",
    "version": 3
   },
   "file_extension": ".py",
   "mimetype": "text/x-python",
   "name": "python",
   "nbconvert_exporter": "python",
   "pygments_lexer": "ipython3",
   "version": "3.11.9"
  }
 },
 "nbformat": 4,
 "nbformat_minor": 5
}
