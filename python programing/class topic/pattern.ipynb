{
 "cells": [
  {
   "cell_type": "markdown",
   "id": "b0973817",
   "metadata": {},
   "source": [
    "* * * * *"
   ]
  },
  {
   "cell_type": "code",
   "execution_count": 1,
   "id": "1f8b3c40",
   "metadata": {},
   "outputs": [
    {
     "name": "stdout",
     "output_type": "stream",
     "text": [
      "* * * * * "
     ]
    }
   ],
   "source": [
    "for i in range(5):\n",
    "    print('*',end=' ')"
   ]
  },
  {
   "cell_type": "markdown",
   "id": "72b1201e",
   "metadata": {},
   "source": [
    "* * * * * \n",
    "* * * * * \n",
    "* * * * * \n",
    "* * * * * \n",
    "* * * * *"
   ]
  },
  {
   "cell_type": "code",
   "execution_count": 2,
   "id": "c757375a",
   "metadata": {},
   "outputs": [
    {
     "name": "stdout",
     "output_type": "stream",
     "text": [
      "* * * * * \n",
      "* * * * * \n",
      "* * * * * \n",
      "* * * * * \n",
      "* * * * * \n"
     ]
    }
   ],
   "source": [
    "for i in range(5):\n",
    "    for j in range(5):\n",
    "        print('*',end=' ')\n",
    "    print()"
   ]
  },
  {
   "cell_type": "markdown",
   "id": "a89d6906",
   "metadata": {},
   "source": [
    "* * * * * * \n",
    "* * * * * * \n",
    "* * * * * *"
   ]
  },
  {
   "cell_type": "code",
   "execution_count": 4,
   "id": "5d4ea776",
   "metadata": {},
   "outputs": [
    {
     "name": "stdout",
     "output_type": "stream",
     "text": [
      "* * * * * * \n",
      "* * * * * * \n",
      "* * * * * * \n"
     ]
    }
   ],
   "source": [
    "for i in range(3):\n",
    "    for j in range(6):\n",
    "        print('*',end=' ')\n",
    "    print()"
   ]
  },
  {
   "cell_type": "markdown",
   "id": "6efea05c",
   "metadata": {},
   "source": [
    "* \n",
    "* * \n",
    "* * * \n",
    "* * * * \n",
    "* * * * * "
   ]
  },
  {
   "cell_type": "code",
   "execution_count": 6,
   "id": "1bd04ece",
   "metadata": {},
   "outputs": [
    {
     "name": "stdout",
     "output_type": "stream",
     "text": [
      "* \n",
      "* * \n",
      "* * * \n",
      "* * * * \n",
      "* * * * * \n"
     ]
    }
   ],
   "source": [
    "n=int(input('enter no. of rows'))\n",
    "nst=1\n",
    "for i in range(n):\n",
    "    for j in range(nst):\n",
    "        print('*',end=' ')\n",
    "    nst+=1\n",
    "    print()"
   ]
  },
  {
   "cell_type": "markdown",
   "id": "51b030dc",
   "metadata": {},
   "source": [
    "* * * * * \n",
    "* * * *   \n",
    "* * *     \n",
    "* *       \n",
    "*         "
   ]
  },
  {
   "cell_type": "code",
   "execution_count": 10,
   "id": "fa1fe7c5",
   "metadata": {},
   "outputs": [
    {
     "name": "stdout",
     "output_type": "stream",
     "text": [
      "* * * * * \n",
      "* * * * \n",
      "* * * \n",
      "* * \n",
      "* \n"
     ]
    }
   ],
   "source": [
    "n=int(input('enter no. of rows'))\n",
    "nst=n\n",
    "nsp=0\n",
    "for i in range(n):\n",
    "    for j in range(nst):\n",
    "        print('*',end=' ')\n",
    "    # for j in range(nsp):\n",
    "    #     print(' ',end=' ')\n",
    "    # nsp+=1\n",
    "    nst-=1\n",
    "    print()"
   ]
  },
  {
   "cell_type": "markdown",
   "id": "5d5cceaa",
   "metadata": {},
   "source": [
    "* * * * * \n",
    "  * * * * \n",
    "    * * * \n",
    "      * * \n",
    "        * "
   ]
  },
  {
   "cell_type": "code",
   "execution_count": 9,
   "id": "43080725",
   "metadata": {},
   "outputs": [
    {
     "name": "stdout",
     "output_type": "stream",
     "text": [
      "* * * * * \n",
      "  * * * * \n",
      "    * * * \n",
      "      * * \n",
      "        * \n"
     ]
    }
   ],
   "source": [
    "n=int(input('enter no. of rows'))\n",
    "nst=n\n",
    "nsp=0\n",
    "for i in range(n):\n",
    "    for j in range(nsp):\n",
    "        print(' ',end=' ')\n",
    "    for j in range(nst):\n",
    "        print('*',end=' ')\n",
    "    nsp+=1\n",
    "    nst-=1\n",
    "    print()"
   ]
  },
  {
   "cell_type": "code",
   "execution_count": 11,
   "id": "09545087",
   "metadata": {},
   "outputs": [
    {
     "name": "stdout",
     "output_type": "stream",
     "text": [
      "        * \n",
      "      * * \n",
      "    * * * \n",
      "  * * * * \n",
      "* * * * * \n"
     ]
    }
   ],
   "source": [
    "n=int(input('enter no. of rows'))\n",
    "nst=1\n",
    "nsp=n-1\n",
    "for i in range(n):\n",
    "    for j in range(nsp):\n",
    "        print(' ',end=' ')\n",
    "    for j in range(nst):\n",
    "        print('*',end=' ')\n",
    "    nsp-=1\n",
    "    nst+=1\n",
    "    print()"
   ]
  },
  {
   "cell_type": "code",
   "execution_count": 12,
   "id": "c42fbbed",
   "metadata": {},
   "outputs": [
    {
     "name": "stdout",
     "output_type": "stream",
     "text": [
      "        * \n",
      "      * * * \n",
      "    * * * * * \n",
      "  * * * * * * * \n",
      "* * * * * * * * * \n"
     ]
    }
   ],
   "source": [
    "n=int(input('enter no. of rows'))\n",
    "nst=1\n",
    "nsp=n-1\n",
    "for i in range(n):\n",
    "    for j in range(nsp):\n",
    "        print(' ',end=' ')\n",
    "    for j in range(nst):\n",
    "        print('*',end=' ')\n",
    "    nsp-=1\n",
    "    nst+=2\n",
    "    print()"
   ]
  },
  {
   "cell_type": "code",
   "execution_count": 14,
   "id": "47471c47",
   "metadata": {},
   "outputs": [
    {
     "name": "stdout",
     "output_type": "stream",
     "text": [
      "* * * * * * * * * \n",
      "  * * * * * * * \n",
      "    * * * * * \n",
      "      * * * \n",
      "        * \n"
     ]
    }
   ],
   "source": [
    "n=int(input())\n",
    "nst=(n*2)-1\n",
    "nsp=0\n",
    "for i in range(n):\n",
    "    for j in range(nsp):\n",
    "        print(' ',end=' ')\n",
    "    for j in range(nst):\n",
    "        print('*',end=' ')\n",
    "    \n",
    "    nsp+=1\n",
    "    nst-=2\n",
    "    print()"
   ]
  },
  {
   "cell_type": "code",
   "execution_count": 2,
   "id": "6a02c220",
   "metadata": {},
   "outputs": [
    {
     "name": "stdout",
     "output_type": "stream",
     "text": [
      "* \n",
      "* * \n",
      "* * * \n",
      "* * * * \n",
      "* * * * * \n",
      "* * * * * \n",
      "* * * * \n",
      "* * * \n",
      "* * \n",
      "* \n"
     ]
    }
   ],
   "source": [
    "n=int(input())\n",
    "nst=1\n",
    "for i in range(n):\n",
    "    for i in range(nst):\n",
    "        print('*',end=' ')\n",
    "    nst+=1\n",
    "    print()\n",
    "nst=n\n",
    "for i in range(n):\n",
    "    for i in range(nst):\n",
    "        print('*',end=' ')\n",
    "    nst-=1\n",
    "    print()"
   ]
  },
  {
   "cell_type": "code",
   "execution_count": 4,
   "id": "0764ea37",
   "metadata": {},
   "outputs": [
    {
     "name": "stdout",
     "output_type": "stream",
     "text": [
      "        * \n",
      "      * * \n",
      "    * * * \n",
      "  * * * * \n",
      "* * * * * \n",
      "* * * * * \n",
      "  * * * * \n",
      "    * * * \n",
      "      * * \n",
      "        * \n"
     ]
    }
   ],
   "source": [
    "n=int(input())\n",
    "nst=1\n",
    "nsp=n-1\n",
    "for i in range(n):\n",
    "    for j in range(nsp):\n",
    "        print(' ',end=' ')\n",
    "    for j in range(nst):\n",
    "        print('*',end=' ')\n",
    "    nst+=1\n",
    "    nsp-=1\n",
    "    print()\n",
    "nst=n\n",
    "nsp=0\n",
    "for i in range(n):\n",
    "    for j in range(nsp):\n",
    "        print(' ',end=' ')\n",
    "    for j in range(nst):\n",
    "        print('*',end=' ')\n",
    "    nst-=1\n",
    "    nsp+=1\n",
    "    print()"
   ]
  },
  {
   "cell_type": "code",
   "execution_count": null,
   "id": "51fd540b",
   "metadata": {},
   "outputs": [
    {
     "name": "stdout",
     "output_type": "stream",
     "text": [
      "* * * * * \n",
      "*       * \n",
      "*       * \n",
      "*       * \n",
      "* * * * * \n"
     ]
    }
   ],
   "source": [
    "n=int(input())\n",
    "nst=n\n",
    "for i in range(n):\n",
    "    if i==0 or i==n-1:\n",
    "        for j in range(nst):\n",
    "            print('*',end=' ')\n",
    "        print()\n",
    "    else:\n",
    "        nstf=1\n",
    "        nsp=n-2\n",
    "        for j in range(nstf):\n",
    "            print('*',end=' ')\n",
    "        for j in range(nsp):\n",
    "            print(' ',end=' ')\n",
    "        for j in range(nstf):\n",
    "            print('*',end=' ')\n",
    "        print()"
   ]
  },
  {
   "cell_type": "code",
   "execution_count": null,
   "id": "3a801071",
   "metadata": {},
   "outputs": [
    {
     "name": "stdout",
     "output_type": "stream",
     "text": [
      "* \n",
      "* * \n",
      "*   * \n",
      "*     * \n",
      "*       * \n",
      "* * * * * * \n"
     ]
    }
   ],
   "source": [
    "n=int(input())\n",
    "nst=1\n",
    "nsp=0\n",
    "for i in range(n):\n",
    "    if i==0:\n",
    "        for j in range(nst):\n",
    "            print('*',end=' ')\n",
    "        print()\n",
    "    else:\n",
    "        for j in range(nst):\n",
    "            print('*',end=' ')\n",
    "        for j in range(nsp):\n",
    "            print(' ',end=' ')\n",
    "        for j in range(nst):\n",
    "            print('*',end=' ')\n",
    "        nsp+=1\n",
    "        print()\n",
    "    if i==n-1:\n",
    "        for i in range(n+1):\n",
    "            print('*',end=' ')\n",
    "        print()"
   ]
  },
  {
   "cell_type": "code",
   "execution_count": null,
   "id": "59a2eba6",
   "metadata": {},
   "outputs": [
    {
     "name": "stdout",
     "output_type": "stream",
     "text": [
      "* * * * * * \n",
      "*       * \n",
      "*     * \n",
      "*   * \n",
      "* * \n",
      "*\n"
     ]
    }
   ],
   "source": [
    "n=int(input())\n",
    "nst=1\n",
    "nsp=n-2\n",
    "for i in range(n):\n",
    "    if i==0:\n",
    "        for j in range(n+1):\n",
    "            print('*',end=' ')\n",
    "        print()\n",
    "    else:\n",
    "        for j in range(nst):\n",
    "            print('*',end=' ')\n",
    "        for j in range(nsp):\n",
    "            print(' ',end=' ')\n",
    "        for j in range(nst):\n",
    "            print('*',end=' ')\n",
    "        print()\n",
    "        nsp-=1\n",
    "print('*')  "
   ]
  },
  {
   "cell_type": "code",
   "execution_count": 67,
   "id": "31e0d681",
   "metadata": {},
   "outputs": [
    {
     "name": "stdout",
     "output_type": "stream",
     "text": [
      "* * * * * * * \n",
      "  *         * \n",
      "    *       * \n",
      "      *     * \n",
      "        *   * \n",
      "          * * \n",
      "            * "
     ]
    }
   ],
   "source": [
    "n=int(input())\n",
    "nst=1\n",
    "nsp=1\n",
    "nspf=n-3\n",
    "for i in range(n):\n",
    "    if i==0:\n",
    "        for j in range(n):\n",
    "            print('*',end=' ')\n",
    "        print()\n",
    "    elif i==n-1:\n",
    "        sp=n-1\n",
    "        for i in range(sp):\n",
    "            print(' ',end=' ')\n",
    "        for i in range(nst):\n",
    "            print('*',end=' ')\n",
    "    else: \n",
    "        for j in range(nsp):\n",
    "            print(' ',end=' ')\n",
    "        for j in range(nst):\n",
    "            print('*',end=' ')\n",
    "        for j in range(nspf):\n",
    "            print(' ',end=' ')\n",
    "        for j in range(nst):\n",
    "            print('*',end=' ')\n",
    "        print()\n",
    "        nsp+=1\n",
    "        nspf-=1\n"
   ]
  },
  {
   "cell_type": "code",
   "execution_count": 75,
   "id": "5155f729",
   "metadata": {},
   "outputs": [
    {
     "name": "stdout",
     "output_type": "stream",
     "text": [
      "          * \n",
      "        * * \n",
      "      *   * \n",
      "    *     * \n",
      "  *       * \n",
      "* * * * * * "
     ]
    }
   ],
   "source": [
    "n=int(input())\n",
    "nst=1\n",
    "nsp=n-1\n",
    "nspf=0\n",
    "for i in range(n):\n",
    "    if i==0:\n",
    "        for j in range(nsp):\n",
    "            print(' ',end=' ')\n",
    "        for j in range(nst):\n",
    "            print('*',end=' ')\n",
    "        print()\n",
    "        nsp-=1\n",
    "    elif i==n-1:\n",
    "        for j in range(n):\n",
    "            print('*',end=' ')\n",
    "    else:\n",
    "        for j in range(nsp):\n",
    "            print(' ',end=' ')\n",
    "        for j in range(nst):\n",
    "            print('*',end=' ')\n",
    "        for j in range(nspf):\n",
    "            print(' ',end=' ')\n",
    "        for j in range(nst):\n",
    "            print('*',end=' ')\n",
    "        print()\n",
    "        nsp-=1\n",
    "        nspf+=1"
   ]
  },
  {
   "cell_type": "code",
   "execution_count": null,
   "id": "d5b90045",
   "metadata": {},
   "outputs": [],
   "source": [
    "for i in range(5):\n",
    "    if i==0:\n",
    "        for j in range(1):\n",
    "            print(' ',end=' ')\n",
    "        for j in range(2):\n",
    "            print('*',end=' ')\n",
    "        for j in range(1):\n",
    "            print(' ',end=' ')\n",
    "        for j in range(2):\n",
    "            print('*',end=' ')\n",
    "        print()\n",
    "    elif i==1:\n",
    "        for j in range(1):\n",
    "            print('*',end=' ')\n",
    "        for j in range(2):\n",
    "            print(' ',end=' ')\n",
    "        for j in range(1):\n",
    "            print('*',end=' ')\n",
    "        for j in range(2):\n",
    "            print(' ',end=' ')\n",
    "        for j in range(1):\n",
    "            print('*',end=' ')\n",
    "        print()\n",
    "    elif i==2:\n",
    "        for j in range(1):\n",
    "            print(' ',end=' ')\n",
    "        for j in range(1):\n",
    "            print('*',end=' ')\n",
    "        for j in range(3):\n",
    "            print(' ',end=' ')\n",
    "        for j in range(1):\n",
    "            print('*',end=' ')\n",
    "        print()\n",
    "    elif i==3:\n",
    "        for j in range(2):\n",
    "            print(' ',end=' ')\n",
    "        for j in range(1):\n",
    "            print('*',end=' ')\n",
    "        for j in range(1):\n",
    "            print(' ',end=' ')\n",
    "        for j in range(1):\n",
    "            print('*',end=' ')\n",
    "        print()\n",
    "    elif i==4:\n",
    "        for j in range(3):\n",
    "            print(' ',end=' ')\n",
    "        for j in range(1):\n",
    "            print('*',end=' ')\n",
    "        \n",
    "        print()       \n",
    "        \n",
    "\n",
    "            "
   ]
  },
  {
   "cell_type": "code",
   "execution_count": 13,
   "id": "de81661e",
   "metadata": {},
   "outputs": [
    {
     "name": "stdout",
     "output_type": "stream",
     "text": [
      "* \n",
      "* * \n",
      "* * * \n",
      "* * \n",
      "* \n"
     ]
    }
   ],
   "source": [
    "n=int(input())\n",
    "nst=1\n",
    "if n%2==0:\n",
    "    n-=1\n",
    "for i in range(n):\n",
    "    for j in range(nst):\n",
    "        print('*',end=' ')\n",
    "    print()\n",
    "    if i<n//2:\n",
    "        nst+=1\n",
    "    else:\n",
    "        nst-=1\n"
   ]
  },
  {
   "cell_type": "code",
   "execution_count": 20,
   "id": "8820c1f7",
   "metadata": {},
   "outputs": [
    {
     "name": "stdout",
     "output_type": "stream",
     "text": [
      "      * \n",
      "    * * * \n",
      "  * * * * * \n",
      "* * * * * * * \n",
      "  * * * * * \n",
      "    * * * \n",
      "      * \n"
     ]
    }
   ],
   "source": [
    "n=int(input())\n",
    "nst=1\n",
    "nsp=n//2\n",
    "if n%2==0:\n",
    "    n+=1\n",
    "for i in range(n):\n",
    "    for j in range(nsp):\n",
    "        print(' ',end=' ')\n",
    "    for j in range(nst):\n",
    "        print('*',end=' ')\n",
    "    print()\n",
    "    if i<n//2:\n",
    "        nst+=2\n",
    "        nsp-=1\n",
    "    else:\n",
    "        nst-=2\n",
    "        nsp+=1\n"
   ]
  },
  {
   "cell_type": "code",
   "execution_count": 22,
   "id": "233de641",
   "metadata": {},
   "outputs": [
    {
     "name": "stdout",
     "output_type": "stream",
     "text": [
      "          * \n",
      "        * * \n",
      "      * * * \n",
      "    * * * * \n",
      "  * * * * * \n",
      "* * * * * * \n",
      "  * * * * * \n",
      "    * * * * \n",
      "      * * * \n",
      "        * * \n",
      "          * \n"
     ]
    }
   ],
   "source": [
    "n=int(input())\n",
    "nst=1\n",
    "nsp=n//2\n",
    "if n%2==0:\n",
    "    n+=1\n",
    "for i in range(n):\n",
    "    for j in range(nsp):\n",
    "        print(' ',end=' ')\n",
    "    for j in range(nst):\n",
    "        print('*',end=' ')\n",
    "    print()\n",
    "    if i<n//2:\n",
    "        nst+=1\n",
    "        nsp-=1\n",
    "    else:\n",
    "        nst-=1\n",
    "        nsp+=1\n"
   ]
  },
  {
   "cell_type": "code",
   "execution_count": 17,
   "id": "d87d702f",
   "metadata": {},
   "outputs": [
    {
     "name": "stdout",
     "output_type": "stream",
     "text": [
      "*               * \n",
      "* *           * * \n",
      "* * *       * * * \n",
      "* * * *   * * * * \n",
      "* * * * * * * * * \n"
     ]
    }
   ],
   "source": [
    "n=int(input())\n",
    "nst=1\n",
    "nsp=(n*2)-3\n",
    "for i in range(n):\n",
    "    for j in range(nst):\n",
    "        print('*',end=' ')\n",
    "    for j in range(nsp):\n",
    "        print(' ',end=' ')\n",
    "    if i == n-1:\n",
    "        nst-=1\n",
    "    for j in range(nst):\n",
    "        print('*',end=' ')\n",
    "    print()\n",
    "    \n",
    "    nst+=1\n",
    "    nsp-=2\n",
    "    \n",
    "\n"
   ]
  },
  {
   "cell_type": "code",
   "execution_count": 28,
   "id": "4218b626",
   "metadata": {},
   "outputs": [
    {
     "name": "stdout",
     "output_type": "stream",
     "text": [
      "*               * \n",
      "* *           * * \n",
      "* * *       * * * \n",
      "* * * *   * * * * \n",
      "* * * * * * * * * \n",
      "* * * *   * * * * \n",
      "* * *       * * * \n",
      "* *           * * \n",
      "*               * \n"
     ]
    }
   ],
   "source": [
    "n=int(input())\n",
    "nst=1\n",
    "nsp=n-2\n",
    "for i in range(n):\n",
    "    for j in range(nst):\n",
    "        print('*',end=' ')\n",
    "    for j in range(nsp):\n",
    "        print(' ',end=' ')\n",
    "    if i==n//2:\n",
    "        nst-=1\n",
    "    for j in range(nst):\n",
    "        print('*',end=' ')\n",
    "    if i==n//2:\n",
    "        nst+=1\n",
    "    print()\n",
    "    if i<n//2:\n",
    "        nst+=1\n",
    "        nsp-=2\n",
    "    else:\n",
    "        nst-=1\n",
    "        nsp+=2\n",
    "    "
   ]
  }
 ],
 "metadata": {
  "kernelspec": {
   "display_name": "Python 3",
   "language": "python",
   "name": "python3"
  },
  "language_info": {
   "codemirror_mode": {
    "name": "ipython",
    "version": 3
   },
   "file_extension": ".py",
   "mimetype": "text/x-python",
   "name": "python",
   "nbconvert_exporter": "python",
   "pygments_lexer": "ipython3",
   "version": "3.11.9"
  }
 },
 "nbformat": 4,
 "nbformat_minor": 5
}
