{
 "cells": [
  {
   "cell_type": "code",
   "execution_count": 1,
   "id": "5f539333",
   "metadata": {},
   "outputs": [
    {
     "name": "stdout",
     "output_type": "stream",
     "text": [
      "nCr = 40.0\n"
     ]
    }
   ],
   "source": [
    "def fact(x):\n",
    "    ans=1\n",
    "    for i in range(1,x+1):\n",
    "        ans*=i\n",
    "    return ans\n",
    "n=int(input('enter n value'))\n",
    "r=int(input('enter the r value'))\n",
    "n_fact=fact(n)\n",
    "r_fact=fact(r)\n",
    "nminusr=fact(n-r)\n",
    "\n",
    "print('nCr =',n_fact/r_fact*nminusr)\n"
   ]
  },
  {
   "cell_type": "code",
   "execution_count": 3,
   "id": "edc60587",
   "metadata": {},
   "outputs": [
    {
     "name": "stdout",
     "output_type": "stream",
     "text": [
      "21 saq22\n",
      "SAQUIB\n"
     ]
    }
   ],
   "source": [
    "#positional argument must be passed in correct position order\n",
    "def fun(name,age,id1):\n",
    "    print(age,id1)\n",
    "    print(name.upper())\n",
    "fun('saquib',21,'saq22')\n",
    "# fun(21,'saquib','saq22')"
   ]
  },
  {
   "cell_type": "code",
   "execution_count": null,
   "id": "774eac7c",
   "metadata": {},
   "outputs": [
    {
     "name": "stdout",
     "output_type": "stream",
     "text": [
      "21 saq22\n",
      "SAQUIB\n",
      "21 saq22\n",
      "SAQUIB\n"
     ]
    }
   ],
   "source": [
    "#keyword argument can be passed out of the order\n",
    "def fun(name,age,id1):\n",
    "    print(age,id1)\n",
    "    print(name.upper())\n",
    "fun(name='saquib',age=21,id1='saq22')\n",
    "# fun(age=21,name='saquib',id1='saq22')"
   ]
  },
  {
   "cell_type": "code",
   "execution_count": null,
   "id": "f38a6354",
   "metadata": {},
   "outputs": [
    {
     "name": "stdout",
     "output_type": "stream",
     "text": [
      "21 saq22\n",
      "SAQUIB\n"
     ]
    },
    {
     "ename": "TypeError",
     "evalue": "fun() got multiple values for argument 'name'",
     "output_type": "error",
     "traceback": [
      "\u001b[1;31m---------------------------------------------------------------------------\u001b[0m",
      "\u001b[1;31mTypeError\u001b[0m                                 Traceback (most recent call last)",
      "Cell \u001b[1;32mIn[7], line 7\u001b[0m\n\u001b[0;32m      5\u001b[0m     \u001b[38;5;28mprint\u001b[39m(name\u001b[38;5;241m.\u001b[39mupper())\n\u001b[0;32m      6\u001b[0m fun(\u001b[38;5;124m'\u001b[39m\u001b[38;5;124msaquib\u001b[39m\u001b[38;5;124m'\u001b[39m,id1\u001b[38;5;241m=\u001b[39m\u001b[38;5;124m'\u001b[39m\u001b[38;5;124msaq22\u001b[39m\u001b[38;5;124m'\u001b[39m,age\u001b[38;5;241m=\u001b[39m\u001b[38;5;241m21\u001b[39m)\n\u001b[1;32m----> 7\u001b[0m \u001b[43mfun\u001b[49m\u001b[43m(\u001b[49m\u001b[38;5;241;43m21\u001b[39;49m\u001b[43m,\u001b[49m\u001b[43mname\u001b[49m\u001b[38;5;241;43m=\u001b[39;49m\u001b[38;5;124;43m'\u001b[39;49m\u001b[38;5;124;43msaquib\u001b[39;49m\u001b[38;5;124;43m'\u001b[39;49m\u001b[43m,\u001b[49m\u001b[43mid1\u001b[49m\u001b[38;5;241;43m=\u001b[39;49m\u001b[38;5;124;43m'\u001b[39;49m\u001b[38;5;124;43msaq22\u001b[39;49m\u001b[38;5;124;43m'\u001b[39;49m\u001b[43m)\u001b[49m\n",
      "\u001b[1;31mTypeError\u001b[0m: fun() got multiple values for argument 'name'"
     ]
    }
   ],
   "source": [
    "#can also send mix of positional and keyword argument in that case\n",
    "#positional argument must precede keyword argument\n",
    "def fun(name,age,id1):\n",
    "    print(age,id1)\n",
    "    print(name.upper())\n",
    "fun('saquib',id1='saq22',age=21)\n",
    "# fun(21,name='saquib',id1='saq22') #gives error(fun() got multiple values for argument 'name') because after atleast 1 positional argument keyword argument can be use"
   ]
  },
  {
   "cell_type": "code",
   "execution_count": 13,
   "id": "e45efa30",
   "metadata": {},
   "outputs": [
    {
     "name": "stdout",
     "output_type": "stream",
     "text": [
      "6\n",
      "106\n"
     ]
    }
   ],
   "source": [
    "def sum(a,b):\n",
    "    return a+b\n",
    "sum(2,3)\n",
    "#for multiple elements so that it can be add\n",
    "def sum(*num):\n",
    "    # print(type(num))\n",
    "    ans=0\n",
    "    for i in num:\n",
    "        ans+=i\n",
    "    print(ans)\n",
    "sum(1,2,3)\n",
    "sum(1,2,3,4,5,76,7,8)"
   ]
  },
  {
   "cell_type": "code",
   "execution_count": 14,
   "id": "faeab944",
   "metadata": {},
   "outputs": [
    {
     "name": "stdout",
     "output_type": "stream",
     "text": [
      "60\n",
      "150\n",
      "150\n",
      "60\n"
     ]
    }
   ],
   "source": [
    "def sum1(* num):\n",
    "    sum=0\n",
    "    for i in num:\n",
    "        sum+=i\n",
    "    print(sum)\n",
    "\n",
    "lst=[10,20,30]\n",
    "tpl=(10,20,30,40,50)\n",
    "st={10,20,30,40,50}\n",
    "dict1={10:5,20:10,30:15}\n",
    "sum1(* lst)\n",
    "sum1(* tpl)\n",
    "sum1(* st)\n",
    "sum1(* dict1)\n"
   ]
  },
  {
   "cell_type": "code",
   "execution_count": 16,
   "id": "095d3787",
   "metadata": {},
   "outputs": [
    {
     "name": "stdout",
     "output_type": "stream",
     "text": [
      "<class 'dict'>\n",
      "a 10 b 20 c 30 d 40 "
     ]
    }
   ],
   "source": [
    "#for variable length keword argument we use **args( ** accepts as a dict)\n",
    "def print_it(** num):\n",
    "    print(type(num))\n",
    "    for name,value in num.items():\n",
    "        print(name,value, end=' ')\n",
    "print_it(a=10,b=20,c=30,d=40)\n"
   ]
  },
  {
   "cell_type": "code",
   "execution_count": 17,
   "id": "305e3293",
   "metadata": {},
   "outputs": [
    {
     "name": "stdout",
     "output_type": "stream",
     "text": [
      "113.14\n",
      "63.14\n",
      "110\n"
     ]
    }
   ],
   "source": [
    "def fun(a,b=100,c=3.14):# can be set as defult value assigned by programmer\n",
    "    print(a+b+c)\n",
    "w=fun(10)\n",
    "x=fun(10,50)\n",
    "z=fun(20,30,60)\n"
   ]
  },
  {
   "cell_type": "code",
   "execution_count": 29,
   "id": "fc53d543",
   "metadata": {},
   "outputs": [
    {
     "name": "stdout",
     "output_type": "stream",
     "text": [
      "120\n"
     ]
    }
   ],
   "source": [
    "def fact(n):\n",
    "    if n>=1:\n",
    "\n",
    "        ans=1\n",
    "        for i in range(1,n+1):\n",
    "            ans*=i\n",
    "        print(ans)\n",
    "fact(int(input()))"
   ]
  },
  {
   "cell_type": "code",
   "execution_count": 32,
   "id": "25a44119",
   "metadata": {},
   "outputs": [
    {
     "data": {
      "text/plain": [
       "(4, 12)"
      ]
     },
     "execution_count": 32,
     "metadata": {},
     "output_type": "execute_result"
    }
   ],
   "source": [
    "def st(* n):\n",
    "    upper=0\n",
    "    lower=0\n",
    "    for i in n:\n",
    "        if i==' ':\n",
    "            upper-=1\n",
    "        if i==i.upper():\n",
    "            upper+=1\n",
    "        else:\n",
    "            lower+=1\n",
    "    return upper,lower\n",
    "x=\"The Quick Brown Fox\"\n",
    "st(* x)\n",
    "\n",
    "\n"
   ]
  },
  {
   "cell_type": "markdown",
   "id": "589c5eeb",
   "metadata": {},
   "source": [
    "wap which will create a function to check if elements of a given list are sum of prime no."
   ]
  },
  {
   "cell_type": "code",
   "execution_count": 1,
   "id": "9f0ef331",
   "metadata": {},
   "outputs": [
    {
     "data": {
      "text/plain": [
       "(18, 19)"
      ]
     },
     "execution_count": 1,
     "metadata": {},
     "output_type": "execute_result"
    }
   ],
   "source": [
    "def is_prime(* n):\n",
    "    prime=0\n",
    "    not_prime=0\n",
    "    for j in n:\n",
    "        if j<=1:\n",
    "            not_prime+=1\n",
    "        for i in range(2,j):\n",
    "            if j%i==0:\n",
    "                not_prime+=j\n",
    "                break\n",
    "        else:\n",
    "            prime+=j\n",
    "    return prime,not_prime\n",
    "x=[1,2,3,4,5,6,7,8]\n",
    "is_prime(* x)\n"
   ]
  },
  {
   "cell_type": "code",
   "execution_count": 2,
   "id": "60e8a2ce",
   "metadata": {},
   "outputs": [
    {
     "data": {
      "text/plain": [
       "17"
      ]
     },
     "execution_count": 2,
     "metadata": {},
     "output_type": "execute_result"
    }
   ],
   "source": [
    "def sum_prime(* n):\n",
    "    prime=0\n",
    "    for i in n:\n",
    "        if i==1:\n",
    "            continue\n",
    "        for j in range(2,i):\n",
    "            if i%j==0:\n",
    "                break\n",
    "        else:\n",
    "            prime+=i\n",
    "    return prime\n",
    "x=[1,2,3,4,5,6,7,8]\n",
    "sum_prime(* x)\n"
   ]
  },
  {
   "cell_type": "code",
   "execution_count": null,
   "id": "56aadb38",
   "metadata": {},
   "outputs": [
    {
     "name": "stdout",
     "output_type": "stream",
     "text": [
      "<class 'function'>\n",
      "27\n",
      "<class 'int'>\n"
     ]
    }
   ],
   "source": [
    "#lambda arguments:expression \n",
    "# they can be assigndd to a variable and then used\n",
    "x=lambda n:n*n*n\n",
    "print(type(x)) # bidefault lamda function return karta h \n",
    "print(x(3))\n",
    "print(type(x(3)))"
   ]
  },
  {
   "cell_type": "code",
   "execution_count": null,
   "id": "5fbd248c",
   "metadata": {},
   "outputs": [
    {
     "data": {
      "text/plain": [
       "27"
      ]
     },
     "execution_count": 4,
     "metadata": {},
     "output_type": "execute_result"
    }
   ],
   "source": [
    "(lambda n:n*n*n)(3) # other way to assign lambda in one line"
   ]
  },
  {
   "cell_type": "code",
   "execution_count": 11,
   "id": "ca4fd005",
   "metadata": {},
   "outputs": [
    {
     "name": "stdout",
     "output_type": "stream",
     "text": [
      "2.0\n",
      "<class 'function'>\n",
      "1.3333333333333333\n"
     ]
    }
   ],
   "source": [
    "x=lambda a,b,c:(a+b+c)/3\n",
    "print(x(int(input()),int(input()),int(input())))\n",
    "\n",
    "a=int(input('enter:'))\n",
    "b=int(input('enter:'))\n",
    "c=int(input('enter:'))\n",
    "x=lambda a,b,c:(a+b+c)/3\n",
    "print(type(x))\n",
    "print(x(a,b,c))"
   ]
  },
  {
   "cell_type": "markdown",
   "id": "4f0611f6",
   "metadata": {},
   "source": [
    "wap which will take str as a input and check wether the string start with a or not"
   ]
  },
  {
   "cell_type": "code",
   "execution_count": null,
   "id": "c41449b3",
   "metadata": {},
   "outputs": [
    {
     "name": "stdout",
     "output_type": "stream",
     "text": [
      "True\n"
     ]
    }
   ],
   "source": [
    "a=input()\n",
    "x=lambda a:True if a[0]=='a' else False\n",
    "print(x(a))\n",
    "# x=input()\n",
    "# a= lambda x:x[0]=='a'\n",
    "# print(a(x))"
   ]
  },
  {
   "cell_type": "code",
   "execution_count": 21,
   "id": "4bfdc0ba",
   "metadata": {},
   "outputs": [
    {
     "name": "stdout",
     "output_type": "stream",
     "text": [
      "Not Divisible\n"
     ]
    }
   ],
   "source": [
    "x=int(input())\n",
    "y=lambda x:'Divisible' if x%5==0 else 'Not Divisible'\n",
    "print(y(x))"
   ]
  },
  {
   "cell_type": "markdown",
   "id": "1f61c15a",
   "metadata": {},
   "source": [
    "write a program which will take a str as an input from user and check if any vowel are present in string or not"
   ]
  },
  {
   "cell_type": "code",
   "execution_count": null,
   "id": "f5624c7c",
   "metadata": {},
   "outputs": [
    {
     "name": "stdout",
     "output_type": "stream",
     "text": [
      "False\n"
     ]
    }
   ],
   "source": [
    "# y=input()\n",
    "# x=lambda y:True if 'a' in y  or 'e' in y  or 'i' in y  or 'o' in y or 'u' in y or 'A' in y or 'E' in y or 'I' in y or 'O' in y or 'U' in y else False\n",
    "# print(x(y))\n",
    "\n",
    "\n",
    "Y=input().lower()\n",
    "x=lambda y:True if 'a' in y or 'e' in y or 'i' in y  or 'o' in y  or 'u' in y   in y else False\n",
    "print(x(y))"
   ]
  },
  {
   "cell_type": "code",
   "execution_count": 39,
   "id": "d01198fb",
   "metadata": {},
   "outputs": [
    {
     "name": "stdout",
     "output_type": "stream",
     "text": [
      "list of cube:- [1, 8, 27, 64, 125]\n",
      "list of square:- [1, 4, 9, 16, 25]\n"
     ]
    }
   ],
   "source": [
    "#higher order function \n",
    "def cube(x):\n",
    "    return x**3\n",
    "def square(x):\n",
    "    return x**2\n",
    "def transform(fun,seq):\n",
    "    lst1=[]\n",
    "    for i in seq:\n",
    "        lst1.append(fun(i))\n",
    "    return lst1\n",
    "lst=[1,2,3,4,5]\n",
    "print(f'list of cube:- {transform(cube,lst)}')\n",
    "print(f'list of square:- {transform(square,lst)}')\n"
   ]
  },
  {
   "cell_type": "markdown",
   "id": "3d65dc73",
   "metadata": {},
   "source": [
    "take str input to user and creat 2 function 1.remove vowle 2.remove consonent"
   ]
  },
  {
   "cell_type": "code",
   "execution_count": 8,
   "id": "a77df2b2",
   "metadata": {},
   "outputs": [
    {
     "name": "stdout",
     "output_type": "stream",
     "text": [
      "hello\n",
      "vovel removed:- hll\n",
      "hellocons removed:- eo\n"
     ]
    }
   ],
   "source": [
    "n=input().lower()\n",
    "print(n)\n",
    "def remove_vowel(x):\n",
    "    v=\"\"\n",
    "    for i in x:\n",
    "        if i!='a' and i!='e' and i!='i' and i!='o' and i!='u':\n",
    "            v+=i\n",
    "    return v\n",
    "def remove_cons(x):\n",
    "    c=\"\"\n",
    "    for i in x:\n",
    "        if i=='a' or i=='e' or i=='i' or i=='o' or i=='u':\n",
    "            c+=i\n",
    "    return c\n",
    "def transform(fun,seq):\n",
    "    return (fun(seq))\n",
    "print(f'vovel removed:- {transform(remove_vowel,n)}')\n",
    "print(f'hellocons removed:- {transform(remove_cons,n)}')"
   ]
  },
  {
   "cell_type": "code",
   "execution_count": 9,
   "id": "b7e62acb",
   "metadata": {},
   "outputs": [
    {
     "name": "stdout",
     "output_type": "stream",
     "text": [
      "[1, 4, 9, 16, 25, 36]\n"
     ]
    }
   ],
   "source": [
    "#map function \n",
    "# syntex:-map(function, sequence)\n",
    "# ir returns objects and can be changed in any type such as list,tuple etc\n",
    "\n",
    "#square the items of list \n",
    "lst=[1,2,3,4,5,6]\n",
    "x=list(map(lambda x:x**2,lst))\n",
    "print(x)"
   ]
  },
  {
   "cell_type": "code",
   "execution_count": 13,
   "id": "b96f5fc6",
   "metadata": {},
   "outputs": [
    {
     "name": "stdout",
     "output_type": "stream",
     "text": [
      "[4.90625, 32.556776000000006, 68.773536, 376.49385, 1741.4518500000004, 452.16]\n"
     ]
    }
   ],
   "source": [
    "#calculate the area of circles using the given list of radius\n",
    "lst=[1.25,3.22,4.68,10.95,23.55,12]\n",
    "x=list(map(lambda x:x**2*3.14,lst))\n",
    "print(x)"
   ]
  },
  {
   "cell_type": "code",
   "execution_count": null,
   "id": "09bd3fb9",
   "metadata": {},
   "outputs": [
    {
     "name": "stdout",
     "output_type": "stream",
     "text": [
      "<class 'str'>\n",
      "[1, 1, 1, 1, 1, 1]\n"
     ]
    }
   ],
   "source": [
    "# find the length of all the strings in a list taken from the user\n",
    "n=eval(input())\n",
    "x=list(map(lambda x:len(x),n))\n",
    "print(x)"
   ]
  },
  {
   "cell_type": "code",
   "execution_count": 24,
   "id": "99cfaddc",
   "metadata": {},
   "outputs": [
    {
     "name": "stdout",
     "output_type": "stream",
     "text": [
      "[5, 7, 9, 12]\n"
     ]
    }
   ],
   "source": [
    "#filter()\n",
    "# syntax:- filter(function,sequance)\n",
    "\n",
    "# make a list of all the elements grater than 4\n",
    "\n",
    "lst=[2,4,5,7,2,3,9,1,12]\n",
    "x=list(filter(lambda x:x>4,lst))\n",
    "print(x)"
   ]
  },
  {
   "cell_type": "code",
   "execution_count": 25,
   "id": "e217cd7b",
   "metadata": {},
   "outputs": [
    {
     "name": "stdout",
     "output_type": "stream",
     "text": [
      "[15, 10, 25, 45]\n"
     ]
    }
   ],
   "source": [
    "# make list of all element divisible by 5\n",
    "lst=[12,14,15,10,11,25,45]\n",
    "x=list(filter(lambda x:x%5==0,lst))\n",
    "print(x)"
   ]
  },
  {
   "cell_type": "code",
   "execution_count": 26,
   "id": "7af2b1d1",
   "metadata": {},
   "outputs": [
    {
     "name": "stdout",
     "output_type": "stream",
     "text": [
      "('mango', 'table', 'maths')\n"
     ]
    }
   ],
   "source": [
    "#select those strings which contain 'a'\n",
    "tup=('mango','hello','RICR','Coding','table','maths')\n",
    "x=tuple(filter(lambda x:'a' in x,tup))\n",
    "print(x)"
   ]
  },
  {
   "cell_type": "code",
   "execution_count": 27,
   "id": "0714d37f",
   "metadata": {},
   "outputs": [
    {
     "name": "stdout",
     "output_type": "stream",
     "text": [
      "['Tata', 'Bata']\n"
     ]
    }
   ],
   "source": [
    "#filter out the strings which have last letter 'a'\n",
    "lst=['Ambani','Adani','Tata','Bata']\n",
    "x=list(filter(lambda x:x[-1]=='a',lst))\n",
    "print(x)"
   ]
  },
  {
   "cell_type": "code",
   "execution_count": 28,
   "id": "7eca025d",
   "metadata": {},
   "outputs": [
    {
     "name": "stdout",
     "output_type": "stream",
     "text": [
      "35\n"
     ]
    }
   ],
   "source": [
    "# return the sum of list\n",
    "from functools import reduce\n",
    "l=[2,3,4,5,6,7,8]\n",
    "y=reduce(lambda x,y:x+y,l)\n",
    "print(y)"
   ]
  },
  {
   "cell_type": "markdown",
   "id": "8c43aea2",
   "metadata": {},
   "source": [
    "reduce ke help se 1 list h uska max of a list nikalna h"
   ]
  }
 ],
 "metadata": {
  "kernelspec": {
   "display_name": "Python 3",
   "language": "python",
   "name": "python3"
  },
  "language_info": {
   "codemirror_mode": {
    "name": "ipython",
    "version": 3
   },
   "file_extension": ".py",
   "mimetype": "text/x-python",
   "name": "python",
   "nbconvert_exporter": "python",
   "pygments_lexer": "ipython3",
   "version": "3.11.9"
  }
 },
 "nbformat": 4,
 "nbformat_minor": 5
}
