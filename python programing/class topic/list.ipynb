{
 "cells": [
  {
   "cell_type": "code",
   "execution_count": null,
   "metadata": {},
   "outputs": [],
   "source": [
    "x=[2,3,4,6,'hii']\n",
    "print (type(x))\n",
    "empty_list=[]\n",
    "print(type(empty_list))\n",
    "list_str=['one','two','three']\n",
    "print(type(list_str))\n",
    "list_int=[1,2,3,4,5]\n",
    "print(type(list_int))\n",
    "list_list=[[1,2,3,5,6,],[2,3,4]]\n",
    "print(type(list_list))\n",
    "lst_mixed=[1,'ramu',-1]\n",
    "print(lst_mixed)"
   ]
  },
  {
   "cell_type": "code",
   "execution_count": null,
   "metadata": {},
   "outputs": [],
   "source": [
    "lst=['q','c','r','e','x']\n",
    "print(lst[0])\n",
    "print(lst[2])\n",
    "print(lst[4])\n",
    "print(lst[-1])"
   ]
  },
  {
   "cell_type": "markdown",
   "metadata": {},
   "source": [
    "slicing"
   ]
  },
  {
   "cell_type": "code",
   "execution_count": null,
   "metadata": {},
   "outputs": [],
   "source": [
    "x=[3,5,7,17,11,15,12,9]\n",
    "print(x[2:6:2])\n",
    "print(x[6:1:-3])\n",
    "\n",
    "print(x[-7:6:3])\n",
    "print(x[6:-6:2])\n"
   ]
  },
  {
   "cell_type": "code",
   "execution_count": null,
   "metadata": {},
   "outputs": [],
   "source": [
    "#updation of list element\n",
    "x=[1,2,3,4,5,6,7,12,[1,3,4,6]]\n",
    "print(x)\n",
    "x[4]=19\n",
    "print(x)\n",
    "#append add the value in last of the list\n",
    "x.append(859)\n",
    "print(x)\n",
    "#for specific position we use insert.in negative the index will add ex if you are given on -2 it will be add on -3\n",
    "#it works n two part 1st it will step the index wich is on it and then add eg. given below\n",
    "x.insert(3,36628)\n",
    "print(x)\n",
    "x.insert(-2,555)\n",
    "print(x)\n",
    "#extend method:one by one element add karne ke liy use karte hai.\n",
    "l1=[1,2,3,[4,5,6]]\n",
    "l2=[8,9,0,3,5]\n",
    "l1.extend(l2)\n",
    "print(l1)\n",
    "l2.extend(l1)\n",
    "print(l2)\n"
   ]
  },
  {
   "cell_type": "code",
   "execution_count": null,
   "metadata": {},
   "outputs": [],
   "source": [
    "x=[3,5,7,8,3,2,1]\n",
    "x.append([5,7,9])\n",
    "print(x)\n",
    "x.append(7)\n",
    "print(x)\n",
    "x.insert(3,[5,7,8])\n",
    "print(x)\n",
    "x.insert(-3,[2,5])\n",
    "print(x)"
   ]
  },
  {
   "cell_type": "code",
   "execution_count": null,
   "metadata": {},
   "outputs": [],
   "source": [
    "#deletion of element \n",
    "x=[3,5,7,8,3,2,1]\n",
    "del x[2]#2= element index\n",
    "print(x)\n",
    "#deletion of lst\n",
    "del x\n",
    "print(x)\n",
    "# it will show the error of nameerror because tha x named list is deleted on 6 line \n"
   ]
  },
  {
   "cell_type": "code",
   "execution_count": null,
   "metadata": {},
   "outputs": [],
   "source": [
    "#pop method \n",
    "# we can delete element using pop from the given index, pop return the deleted element \n",
    "# it delete according to index value of the given list.\n",
    "x=[1, 2, 3, 36628, 4, 19, 6, 7, 12, 555, [1, 3, 4, 6], 859]\n",
    "a=x.pop(3)\n",
    "print(x)\n",
    "print(a)\n"
   ]
  },
  {
   "cell_type": "code",
   "execution_count": null,
   "metadata": {},
   "outputs": [],
   "source": [
    "# remove method\n",
    "#remove the first occurance of given an item from list \n",
    "# it dosenot follow index value only follow the element\n",
    "#if value is not present in the list then it show the error (value error),so the element we are remoing should be present in the list\n",
    "x=[1, 2, 3, 36628, 4, 19, 6, 7, 12, 555, [1, 3, 4, 6], 859]\n",
    "print(x)\n",
    "x.remove(2)\n",
    "print(x)"
   ]
  },
  {
   "cell_type": "markdown",
   "metadata": {},
   "source": [
    "Q. take an input form user and check wether it is prime or not."
   ]
  },
  {
   "cell_type": "code",
   "execution_count": 9,
   "metadata": {},
   "outputs": [
    {
     "data": {
      "text/plain": [
       "False"
      ]
     },
     "execution_count": 9,
     "metadata": {},
     "output_type": "execute_result"
    }
   ],
   "source": [
    "n=int(input())\n",
    "def is_prime(n):\n",
    "    if n<2:\n",
    "        return False\n",
    "    for i in range(2,n):\n",
    "        if n%i==0:\n",
    "            return False\n",
    "    else:\n",
    "        return True\n",
    "is_prime(n)"
   ]
  },
  {
   "cell_type": "code",
   "execution_count": 26,
   "metadata": {},
   "outputs": [
    {
     "name": "stdout",
     "output_type": "stream",
     "text": [
      "False\n"
     ]
    }
   ],
   "source": [
    "n=int(input())\n",
    "if n<2:\n",
    "    print(False)\n",
    "else:\n",
    "    for i in range(2,n):\n",
    "        if n%i==0:\n",
    "            print(False)\n",
    "            break\n",
    "    else:\n",
    "        print(True)"
   ]
  },
  {
   "cell_type": "code",
   "execution_count": null,
   "metadata": {},
   "outputs": [
    {
     "name": "stdout",
     "output_type": "stream",
     "text": [
      "False\n",
      "True\n"
     ]
    }
   ],
   "source": [
    "n=int(input())\n",
    "if n==1:\n",
    "    print(False)\n",
    "    \n",
    "for i in range(2,n):\n",
    "    if n%i==0:\n",
    "        print(False)\n",
    "        break\n",
    "else:\n",
    "    print(True)"
   ]
  },
  {
   "cell_type": "code",
   "execution_count": 2,
   "metadata": {},
   "outputs": [
    {
     "name": "stdout",
     "output_type": "stream",
     "text": [
      "prime \n"
     ]
    }
   ],
   "source": [
    "n=int(input('enter the no.'))\n",
    "for i in range(n-1,1,-1):\n",
    "    if n%i==0:\n",
    "        print('not prime no.')\n",
    "        break\n",
    "else:\n",
    "    print('prime ')"
   ]
  },
  {
   "cell_type": "code",
   "execution_count": null,
   "metadata": {},
   "outputs": [],
   "source": [
    "#count method\n",
    "#the count method in a list is used to count the number of times a specific element appears in the list \n",
    "x=[1, 2, 3, 36628, 4, 19, 6, 7, 12, 555, [1, 3, 4, 6], 859]\n",
    "print(x.count(3))"
   ]
  },
  {
   "cell_type": "code",
   "execution_count": null,
   "metadata": {},
   "outputs": [],
   "source": [
    "#reverse method\n",
    "#reverse is reverses the entire element of the list \n",
    "\n",
    "x=[1, 2, 3, 36628, 4, 19, 6, 7, 12, 555, [1, 3, 4, 6], 859]\n",
    "print(x[10][1])\n",
    "x.reverse()\n",
    "#print(x[::-1])\n",
    "#print(a)\n",
    "print(x)"
   ]
  },
  {
   "cell_type": "code",
   "execution_count": null,
   "metadata": {},
   "outputs": [],
   "source": [
    "#index method\n",
    "#to check the element is present at which index but make sure the element is present in the list \n",
    "# it show the first occurance of the element \n",
    "x=[1, 2, 3, 36628, 4, 19, 6, 7, 12, 555, [1, 3, 4, 6], 859]\n",
    "print(x.index(36628))\n",
    "print(x)"
   ]
  },
  {
   "cell_type": "markdown",
   "metadata": {},
   "source": [
    "x=[3,5,7,2,9,11,4,18]\n",
    "this is the list prind the itartion of the elements in list\n",
    "output= 3 5 7 2 9 11 4 18 "
   ]
  },
  {
   "cell_type": "code",
   "execution_count": 19,
   "metadata": {},
   "outputs": [
    {
     "name": "stdout",
     "output_type": "stream",
     "text": [
      "3 5 7 2 9 11 4 18 "
     ]
    }
   ],
   "source": [
    "x=[3,5,7,2,9,11,4,18]\n",
    "\n",
    "for i in range(len(x)):\n",
    "    #print(i,end='')\n",
    "    print(x[i],end=' ')"
   ]
  },
  {
   "cell_type": "markdown",
   "metadata": {},
   "source": [
    "print the sum of all even no. in the given list\n",
    "x=[3,5,7,2,9,11,4,18]"
   ]
  },
  {
   "cell_type": "code",
   "execution_count": 20,
   "metadata": {},
   "outputs": [
    {
     "name": "stdout",
     "output_type": "stream",
     "text": [
      "24\n"
     ]
    }
   ],
   "source": [
    "x=[3,5,7,2,9,11,4,18]\n",
    "z=0\n",
    "for i in range(len(x)):\n",
    "    if x[i]%2==0:\n",
    "        z+=x[i]\n",
    "print(z)"
   ]
  },
  {
   "cell_type": "markdown",
   "metadata": {},
   "source": [
    "add 1 if the element is even in the given list\n",
    "x=[3,5,7,2,9,11,4,18]"
   ]
  },
  {
   "cell_type": "code",
   "execution_count": 21,
   "metadata": {},
   "outputs": [
    {
     "name": "stdout",
     "output_type": "stream",
     "text": [
      "[3, 5, 7, 3, 9, 11, 5, 19]\n"
     ]
    }
   ],
   "source": [
    "x=[3,5,7,2,9,11,4,18]\n",
    "for i in range(len(x)):\n",
    "    if x[i]%2==0:\n",
    "        x[i]+=1\n",
    "print(x)"
   ]
  },
  {
   "cell_type": "markdown",
   "metadata": {},
   "source": [
    "check the list of element if the index is even then add 2 else index is odd then sub 2"
   ]
  },
  {
   "cell_type": "code",
   "execution_count": 22,
   "metadata": {},
   "outputs": [
    {
     "name": "stdout",
     "output_type": "stream",
     "text": [
      "[4, 2, 8, 6, 12, 10, 16, 14, 20, 18]\n"
     ]
    }
   ],
   "source": [
    "x=[2,4,6,8,10,12,14,16,18,20]\n",
    "for i in range(len(x)):\n",
    "    if i%2==0:\n",
    "        x[i]+=2\n",
    "    elif i%2!=0:\n",
    "        x[i]-=2\n",
    "print(x)"
   ]
  },
  {
   "cell_type": "markdown",
   "metadata": {},
   "source": [
    "swap the element of list with the upcoming element"
   ]
  },
  {
   "cell_type": "code",
   "execution_count": 23,
   "metadata": {},
   "outputs": [
    {
     "name": "stdout",
     "output_type": "stream",
     "text": [
      "[4, 2, 8, 6, 12, 10, 16, 14, 20, 18]\n"
     ]
    }
   ],
   "source": [
    "x=[2,4,6,8,10,12,14,16,18,20]\n",
    "for i in range(0,len(x),2):\n",
    "    x[i],x[i+1]=x[i+1],x[i]\n",
    "print(x)"
   ]
  },
  {
   "cell_type": "markdown",
   "metadata": {},
   "source": [
    "1.wap which will increase all the odd values with 5 and decrease even values with 7"
   ]
  },
  {
   "cell_type": "code",
   "execution_count": null,
   "metadata": {},
   "outputs": [],
   "source": [
    "#w.r.t element\n",
    "x=[3,5,2,7,8,4,12,17,19,22]\n",
    "for i in range(len(x)):\n",
    "    if x[i]%2==0:\n",
    "        x[i]-=7\n",
    "    else:\n",
    "        x[i]+=5\n",
    "print(x)\n"
   ]
  },
  {
   "cell_type": "code",
   "execution_count": null,
   "metadata": {},
   "outputs": [],
   "source": [
    "# w.r.t. index\n",
    "x=[3,5,2,7,8,4,12,17,19,22]\n",
    "for i in range(len(x)):\n",
    "    if i%2==0:\n",
    "        x[i]-=7\n",
    "    else:\n",
    "        x[i]+=5\n",
    "print(x)"
   ]
  },
  {
   "cell_type": "markdown",
   "metadata": {},
   "source": [
    "2.wap which will print the sum of all the value present at even index"
   ]
  },
  {
   "cell_type": "code",
   "execution_count": null,
   "metadata": {},
   "outputs": [],
   "source": [
    "x=[3,5,2,7,8,4,12,17,19,22]\n",
    "y=0\n",
    "for i in range(len(x)):\n",
    "    if i%2==0:\n",
    "        y+=x[i]\n",
    "        \n",
    "print(y)\n",
    "\n"
   ]
  },
  {
   "cell_type": "markdown",
   "metadata": {},
   "source": [
    "3.wap which will print the sum of all the value present at odd index"
   ]
  },
  {
   "cell_type": "code",
   "execution_count": null,
   "metadata": {},
   "outputs": [],
   "source": [
    "x=[3,5,2,7,8,4,12,17,19,22]\n",
    "y=0\n",
    "for i in range(len(x)):\n",
    "    if i%2!=0:\n",
    "        y+=x[i]\n",
    "        \n",
    "print(y)"
   ]
  },
  {
   "cell_type": "markdown",
   "metadata": {},
   "source": [
    "4.wap which will replace values which are at even index and value is also even with 'even'"
   ]
  },
  {
   "cell_type": "code",
   "execution_count": null,
   "metadata": {},
   "outputs": [],
   "source": [
    "x=[3,5,2,7,8,4,12,17,19,22]\n",
    "for i in range(len(x)):\n",
    "    if i%2==0 and x[i]%2==0:\n",
    "        x[i]='even'\n",
    "print(x)"
   ]
  },
  {
   "cell_type": "markdown",
   "metadata": {},
   "source": [
    "5.wap which will replace values which are at odd index and value is also odd with 'odd'"
   ]
  },
  {
   "cell_type": "code",
   "execution_count": null,
   "metadata": {},
   "outputs": [],
   "source": [
    "x=[3,5,2,7,8,4,12,17,19,22]\n",
    "for i in range(len(x)):\n",
    "    if i%2!=0 and x[i]%2!=0:\n",
    "        x[i]='odd'\n",
    "print(x)"
   ]
  },
  {
   "cell_type": "markdown",
   "metadata": {},
   "source": [
    "wap which replace numbers of list with fiz if list no. is div by 5 otherwise if list no. is div 3 replace it with buzz if both replace with fiz buzz else no. unchange"
   ]
  },
  {
   "cell_type": "code",
   "execution_count": null,
   "metadata": {},
   "outputs": [],
   "source": [
    "x=[3,5,2,7,8,4,12,17,30,19,22,28,24,54,67,734,4232,15,4,56,4]\n",
    "for i in range(len(x)):\n",
    "    if x[i]%3==0 and x[i]%5==0:\n",
    "        x[i]='fizzbuzz'\n",
    "     \n",
    "    elif x[i]%5==0:\n",
    "        x[i]='buzz'\n",
    "    elif x[i]%3==0:\n",
    "        x[i]='fizz'\n",
    "print(x)"
   ]
  },
  {
   "cell_type": "markdown",
   "metadata": {},
   "source": [
    "cout of 3 multiple and sum\n"
   ]
  },
  {
   "cell_type": "code",
   "execution_count": null,
   "metadata": {},
   "outputs": [],
   "source": [
    "#multiples\n",
    "x=[3,5,2,7,8,4,12,17,19,22,28,24,54,67,734,4232,15,4,56,4]\n",
    "y=0\n",
    "z=0\n",
    "for i in range(len(x)):\n",
    "    if x[i]%3==0:\n",
    "        \n",
    "        y+=x[i]\n",
    "        z+=1\n",
    "        \n",
    "print(' sum =',y,'\\n','count =',z)\n",
    "\n"
   ]
  },
  {
   "cell_type": "code",
   "execution_count": null,
   "metadata": {},
   "outputs": [],
   "source": [
    "#factor\n",
    "x=[3,5,2,7,8,4,12,17,19,22,28,24,54,67,734,4232,15,4,56,4]\n",
    "y=0\n",
    "z=0\n",
    "for i in range(len(x)):\n",
    "    if 3%x[i]==0:\n",
    "        \n",
    "        y+=x[i]\n",
    "        z+=1\n",
    "        \n",
    "print(' sum =',y,'\\n','count =',z)"
   ]
  },
  {
   "cell_type": "code",
   "execution_count": null,
   "metadata": {},
   "outputs": [],
   "source": [
    "x=[3,5,2,7,8,4,12,17,19,22]\n",
    "x.pop(3)\n",
    "x.insert(-3,5)\n",
    "x.remove(8)\n",
    "x.append(80)\n",
    "x.insert(-2,5)\n",
    "x.insert(-14,61)\n",
    "x.insert(15,75)\n",
    "print(x)"
   ]
  },
  {
   "cell_type": "code",
   "execution_count": null,
   "metadata": {},
   "outputs": [],
   "source": [
    "#sorting \n",
    "x=[3,5,2,7,8,4,12,17,19,22]\n",
    "x.sort() # change in original list \n",
    "print(x)\n",
    "x=[3,5,2,7,8,4,12,17,19,22]\n",
    "s=sorted(x)#does not change the original list \n",
    "print(s)\n",
    "print(x)"
   ]
  },
  {
   "cell_type": "markdown",
   "metadata": {},
   "source": [
    "the sorted() optional argument reverse=True,eg, sorted(list,revers=True),makes it sort backwards"
   ]
  },
  {
   "cell_type": "code",
   "execution_count": 29,
   "metadata": {},
   "outputs": [
    {
     "name": "stdout",
     "output_type": "stream",
     "text": [
      "[22, 19, 17, 12, 8, 7, 5, 4, 3, 2]\n"
     ]
    }
   ],
   "source": [
    "x=[3,5,2,7,8,4,12,17,19,22]\n",
    "x.sort (reverse=True)# reverse the entire list\n",
    "print(x)"
   ]
  },
  {
   "cell_type": "code",
   "execution_count": null,
   "metadata": {},
   "outputs": [],
   "source": [
    "x=int(input())\n",
    "x.insert"
   ]
  },
  {
   "cell_type": "code",
   "execution_count": null,
   "metadata": {},
   "outputs": [],
   "source": [
    "N = int(input())\n",
    "N=[]\n",
    "N.insert(0,5)\n",
    "N.insert(1,10)\n",
    "N.insert(0,6)\n",
    "print(N)\n",
    "N.remove(6)\n",
    "N.append(9)\n",
    "N.append(1)\n",
    "N.sort()\n",
    "print(N)\n",
    "N.pop()\n",
    "N.reverse()\n",
    "print(N)\n"
   ]
  },
  {
   "cell_type": "code",
   "execution_count": null,
   "metadata": {},
   "outputs": [],
   "source": [
    "#min(list)\n",
    "# min function returns the minimum number in the list\n",
    "x=[5,3,4,6,7,3,8,2]\n",
    "y=min(x)\n",
    "print(y)\n",
    "x=[5,3,4,6,7,3,8,[3,45,6],2]\n",
    "z=min(x)\n",
    "print(z)# it will return error"
   ]
  },
  {
   "cell_type": "code",
   "execution_count": null,
   "metadata": {},
   "outputs": [],
   "source": [
    "#max(list)\n",
    "# max function returns the maximum number in the list\n",
    "x=[5,3,4,6,7,3,8,2]\n",
    "y=max(x)\n",
    "print(y)\n"
   ]
  },
  {
   "cell_type": "code",
   "execution_count": null,
   "metadata": {},
   "outputs": [],
   "source": [
    "# list extend using \"+\"\n",
    "a=[1,2,3,4,5]\n",
    "b=[4,5,6,7,[8,9,],1,2,4]\n",
    "y=a+b\n",
    "print(y)"
   ]
  },
  {
   "cell_type": "code",
   "execution_count": null,
   "metadata": {},
   "outputs": [],
   "source": [
    "# list repeatarion using '*'\n",
    "a=[1,2,3,4,5]\n",
    "b=a*4\n",
    "print(b)"
   ]
  },
  {
   "cell_type": "code",
   "execution_count": null,
   "metadata": {},
   "outputs": [],
   "source": [
    "# membership operator\n",
    "#in ,not in\n",
    "x=['apple','banana','cherry']\n",
    "print('apple' in x)\n",
    "print('orange'not in x)\n",
    "print('apple'not in x)\n",
    "print('orange' in x)"
   ]
  },
  {
   "cell_type": "code",
   "execution_count": null,
   "metadata": {},
   "outputs": [],
   "source": [
    "#lisr having multiple references\n",
    "#when we use only asignment operator then it is known as shellow copy\n",
    "x=[1,2,3,4,5]\n",
    "b=x\n",
    "b.append(6)\n",
    "x.append('h')\n",
    "print(x)\n",
    "print(b)"
   ]
  },
  {
   "cell_type": "code",
   "execution_count": null,
   "metadata": {},
   "outputs": [],
   "source": [
    "#if we wan that their will be  no change in our original list\n",
    "x=[1,2,3,4,5]\n",
    "b=x.copy()\n",
    "x.append('h')\n",
    "print(x)\n",
    "print(b)"
   ]
  },
  {
   "cell_type": "markdown",
   "metadata": {},
   "source": [
    "WAP which will finds the sum of squares of all the elements of the given list"
   ]
  },
  {
   "cell_type": "code",
   "execution_count": null,
   "metadata": {},
   "outputs": [],
   "source": [
    "x=[2,4,5,8,1]\n",
    "y=0\n",
    "for i in range(len(x)):\n",
    "    x[i]=x[i]**2\n",
    "    y+=x[i]\n",
    "print(x)\n",
    "print(y)\n"
   ]
  },
  {
   "cell_type": "code",
   "execution_count": null,
   "metadata": {},
   "outputs": [],
   "source": [
    "x=[1,2,3,4,5,6,7,9,12,11]\n",
    "y=[]\n",
    "for i in range(len(x)):\n",
    "    if x[i]%2==0:\n",
    "        y.append(x[i])\n",
    "print(y)\n",
    "    \n"
   ]
  },
  {
   "cell_type": "code",
   "execution_count": null,
   "metadata": {},
   "outputs": [],
   "source": [
    "x=[1,2,3,4,5,6,7,9,12,11]\n",
    "z=0\n",
    "y=[x[i]**2 for i in range(len(x)) if x[i]%2==0]\n",
    "#y=sum([x[i]**2 for i in range(len(x)) if x[i]%2==0])\n",
    "print(sum(y))"
   ]
  },
  {
   "cell_type": "code",
   "execution_count": null,
   "metadata": {},
   "outputs": [],
   "source": [
    "#list comprehension\n",
    "x=[1,2,3,4,5,6,7,9,12,11]\n",
    "y=[x[i]**2 for i in range(len(x)) ]\n",
    "print(y)"
   ]
  },
  {
   "cell_type": "code",
   "execution_count": null,
   "metadata": {},
   "outputs": [],
   "source": [
    "x=[1,2,3,4,5,6,7,9,12,11]\n",
    "y=[x[i]**2 for i in range(len(x)) if x[i]%2==0]\n",
    "print(y)"
   ]
  },
  {
   "cell_type": "code",
   "execution_count": null,
   "metadata": {},
   "outputs": [],
   "source": [
    "x=[1,2,3,4,5,0,-8,-8,-9,0,6,-5]\n",
    "positive=[x[i] for i in range(len(x)) if x[i]>=0]\n",
    "print(positive)\n",
    "negative=[x[i] for i in range(len(x)) if x[i]<0]\n",
    "print(negative)\n"
   ]
  },
  {
   "cell_type": "markdown",
   "metadata": {},
   "source": [
    "find union of two lists "
   ]
  },
  {
   "cell_type": "code",
   "execution_count": null,
   "metadata": {},
   "outputs": [],
   "source": [
    "x1=[3,5,3,7,9,12]\n",
    "x2=[2,8,7,9,11,13,8]\n",
    "y=[]\n",
    "for i in range(len(x1)):\n",
    "    if x1[i] not in y:\n",
    "        y.append(x1[i])\n",
    "for i in range(len(x2)):\n",
    "    if x2[i] not in y:\n",
    "        y.append(x2[i])\n",
    "print(y)"
   ]
  },
  {
   "cell_type": "markdown",
   "metadata": {},
   "source": [
    "find intersection of two lists\n",
    "nite:common elements"
   ]
  },
  {
   "cell_type": "code",
   "execution_count": null,
   "metadata": {},
   "outputs": [],
   "source": [
    "x1=[3,5,3,7,9,12]\n",
    "x2=[2,8,7,9,11,13,8]\n",
    "y=[]\n",
    "for i in range(len(x1)):\n",
    "   if x1[i] in x2 and x1[i] not in y:\n",
    "      y.append(x1[i])\n",
    "print(y)"
   ]
  },
  {
   "cell_type": "markdown",
   "metadata": {},
   "source": [
    "add same index value of both list and make another list"
   ]
  },
  {
   "cell_type": "code",
   "execution_count": null,
   "metadata": {},
   "outputs": [],
   "source": [
    "x1=[3,5,3,7,9,12,7]\n",
    "x2=[2,8,7,9,11,13,8]\n",
    "y=[]\n",
    "for i in range(len(x1)):\n",
    "    z=x1[i]+x2[i]\n",
    "    y.append(z)\n",
    "print(y)"
   ]
  },
  {
   "cell_type": "markdown",
   "metadata": {},
   "source": [
    "prin minimum no. of same index value of both list"
   ]
  },
  {
   "cell_type": "code",
   "execution_count": null,
   "metadata": {},
   "outputs": [],
   "source": [
    "x1=[3,5,3,7,9,12,7,9]\n",
    "x2=[2,8,7,9,11,13,8,9]\n",
    "y=[]\n",
    "for i in range(len(x1)):\n",
    "    if x1[i]>x2[i]:\n",
    "        y.append(x2[i])\n",
    "    else:\n",
    "        y.append(x1[i])\n",
    "print(y)"
   ]
  },
  {
   "cell_type": "code",
   "execution_count": 3,
   "metadata": {},
   "outputs": [
    {
     "name": "stdout",
     "output_type": "stream",
     "text": [
      "sorted\n"
     ]
    }
   ],
   "source": [
    "x=[3,5,7,9,11,12,13,15]\n",
    "x1=[3,5,8,12,7,15,14]\n",
    "x2=[3,5,7,9,11,13,15,14]\n",
    "for i in range(len(x)-1):\n",
    "    # print(x[i+1])\n",
    "    if x[i]>x[i+1]:\n",
    "        print('not sorted')\n",
    "        break\n",
    "else:\n",
    "    print('sorted')\n",
    "# for i in range(len(x1)-1):\n",
    "#     if x1[i]>x1[i+1]:\n",
    "#         print('not sorted')\n",
    "#         break\n",
    "# else:\n",
    "#     print('sorted')\n",
    "# for i in range(len(x2)-1):\n",
    "#     if x2[i]>x2[i+1]:\n",
    "#         print('not sorted')\n",
    "#         break\n",
    "# else:\n",
    "#     print('sorted')"
   ]
  },
  {
   "cell_type": "code",
   "execution_count": null,
   "metadata": {},
   "outputs": [],
   "source": [
    "lst=[3,5,7,9,11]\n",
    "for i in lst:\n",
    "    print(i)"
   ]
  },
  {
   "cell_type": "markdown",
   "metadata": {},
   "source": [
    "x=[[3,5,7,9,],[5,4,3,2],[8,2,5],[7,29]]\n",
    "calculate the sum of all elements in the list"
   ]
  },
  {
   "cell_type": "code",
   "execution_count": null,
   "metadata": {},
   "outputs": [],
   "source": [
    "x=[[3,5,7,9,],[5,4,3,2],[8,2,5],[7,29]]\n",
    "sum=0\n",
    "for i in range(len(x)):\n",
    "    z=x[i]\n",
    "    for j in z:\n",
    "        sum+=j\n",
    "print(sum)\n"
   ]
  },
  {
   "cell_type": "code",
   "execution_count": null,
   "metadata": {},
   "outputs": [],
   "source": [
    "x=[[3,5,7,9,],[5,4,3,2],[8,2,5],[7,29]]\n",
    "y=[]\n",
    "for i in range(len(x)):\n",
    "    z=x[i]\n",
    "    s=0\n",
    "    for j in z:\n",
    "        s+=j\n",
    "    y.append(s)\n",
    "print(y)"
   ]
  },
  {
   "cell_type": "code",
   "execution_count": null,
   "metadata": {},
   "outputs": [],
   "source": [
    "x=[[3,5,7,9,],[5,4,3,2],[8,2,5],[7,29]]\n",
    "y=[]\n",
    "for i in range(len(x)):\n",
    "    z=x[i]\n",
    "    y.append(sum(z))\n",
    "print(y)"
   ]
  },
  {
   "cell_type": "code",
   "execution_count": null,
   "metadata": {},
   "outputs": [],
   "source": [
    "y=[]\n",
    "x=[[3,5,7,9,],[5,4,3,2],[8,2,5],[7,29]]\n",
    "for i in x:\n",
    "    y.append(sum(i))\n",
    "print(y)"
   ]
  },
  {
   "cell_type": "code",
   "execution_count": null,
   "metadata": {},
   "outputs": [],
   "source": [
    "y=[]\n",
    "x=[[3,5,7,9,],[5,4,3,2],[8,2,5],[7,29]]\n",
    "for i in x:\n",
    "    y.append(sum(i))\n",
    "y.index(max(y))"
   ]
  },
  {
   "cell_type": "code",
   "execution_count": null,
   "metadata": {},
   "outputs": [],
   "source": [
    "x=[[3,5,7,9,],[5,4,3,2],[8,2,5],[7,29]]\n",
    "y=[]\n",
    "for i in range(len(x)):\n",
    "    z=x[i]\n",
    "    l=0\n",
    "    for j in z:\n",
    "        \n",
    "        l+=j\n",
    "    y.append(l)\n",
    "for m in range(len(y)-1):\n",
    "    \n",
    "    if y[i]>y[i-1]:\n",
    "        n=i\n",
    "print(i)\n"
   ]
  },
  {
   "cell_type": "code",
   "execution_count": null,
   "metadata": {},
   "outputs": [],
   "source": [
    "x=[3,5,7,9,11,13,7,12]\n",
    "# x=[-5,-7,-8,-12,-3]\n",
    "a=x[0]\n",
    "for i in range(len(x)):\n",
    "    if x[i]>a:\n",
    "        a=x[i]\n",
    "print(a)"
   ]
  },
  {
   "cell_type": "code",
   "execution_count": null,
   "metadata": {},
   "outputs": [],
   "source": [
    "7 \n",
    "a=x[0]\n",
    "for i in x:\n",
    "    if i>a:\n",
    "        a=i\n",
    "print(a)\n",
    "print('hello')"
   ]
  },
  {
   "cell_type": "code",
   "execution_count": null,
   "metadata": {},
   "outputs": [],
   "source": [
    "x=[3,5,7,9,11,13,7,12]\n",
    "if x[0]>x[1]:\n",
    "    lgst=x[0]\n",
    "    seclgst=x[1]\n",
    "else:\n",
    "    lgst=x[1]\n",
    "    seclgst=[0]\n",
    "for i in range(2,len(x)):\n",
    "    if x[i]>=lgst:\n",
    "        seclgst= lgst\n",
    "        lgst=x[i]\n",
    "    elif x[i]>seclgst:\n",
    "        seclgst = x[i]\n",
    "print(seclgst)"
   ]
  },
  {
   "cell_type": "markdown",
   "metadata": {},
   "source": [
    "lst=[33,24,12,22,1,20,5]\n",
    "output=[33,24,22,20,5]\n",
    "wap print the element of given list which have not grater no. then the all element of lst\n"
   ]
  },
  {
   "cell_type": "code",
   "execution_count": null,
   "metadata": {},
   "outputs": [],
   "source": [
    "lst=[33,24,12,22,1,20,5]\n",
    "x=[5]\n",
    "a=lst[-1]\n",
    "for i in range(-2,-len(lst)-1,-1):\n",
    "    if lst[i]>a:\n",
    "        a=lst[i]\n",
    "        x.append(a)\n",
    "x.reverse()\n",
    "print(x)\n"
   ]
  },
  {
   "cell_type": "code",
   "execution_count": null,
   "metadata": {},
   "outputs": [],
   "source": [
    "lst=[33,24,12,22,1,20,5]\n",
    "x=[]\n",
    "x.append(lst[-1])\n",
    "a=lst[-1]\n",
    "for i in range(-2,-len(lst)-1,-1):\n",
    "    if lst[i]>a:\n",
    "        a=lst[i]\n",
    "        x.append(a)\n",
    "x.reverse()\n",
    "print(x)"
   ]
  },
  {
   "cell_type": "code",
   "execution_count": null,
   "metadata": {},
   "outputs": [],
   "source": [
    "x=[3,5,2,7,14,15,12,5]\n",
    "y=[i+10 if i%2==0 else i+15 for i in x]\n",
    "print(y)"
   ]
  },
  {
   "cell_type": "markdown",
   "metadata": {},
   "source": [
    "x=[[3,5,7,9],[5,7,11,15],[3,7,9,15,22]]\n",
    "give output of sum of even index element and sum of odd index element\n"
   ]
  },
  {
   "cell_type": "code",
   "execution_count": null,
   "metadata": {},
   "outputs": [],
   "source": [
    "x=[[3,5,7,9],[5,7,11,15],[3,7,9,15,22]]\n",
    "evn=0\n",
    "odd=0\n",
    "for i in x:\n",
    "    for j in range(len(i)):\n",
    "        if j%2==0:\n",
    "            evn+=i[j]\n",
    "        else:\n",
    "            odd+=i[j]\n",
    "print('even',evn)\n",
    "print('odd',odd)"
   ]
  },
  {
   "cell_type": "code",
   "execution_count": null,
   "metadata": {},
   "outputs": [],
   "source": [
    "x=[[3,5,7,9],[5,7,11,15],[3,7,9,15,22]]\n",
    "evn=0\n",
    "odd=0\n",
    "for i in range(len(x)):\n",
    "    for j in range(len(x[i])):\n",
    "        if j%2==0:\n",
    "            evn+=x[i][j]\n",
    "        else:\n",
    "            odd+=x[i][j]\n",
    "print('even',evn)\n",
    "print('odd',odd)"
   ]
  },
  {
   "cell_type": "code",
   "execution_count": null,
   "metadata": {},
   "outputs": [],
   "source": [
    "x=[[3,5,7,9],[2,8,12,19],[7,9,12,18],[3,2,1,5]]\n",
    "#output =[ [8,12,19,9],[2,3,5,7],[2,1,5,18],[3,7,9,12]]  \n",
    "for i in range(len(x)):    \n",
    "    for j in range(3):\n",
    "        if i%2==0:\n",
    "            x[i][j],x[i+1][j+1]=x[i+1][j+1],x[i][j]\n",
    "            \n",
    "print(x)\n",
    "\n"
   ]
  },
  {
   "cell_type": "code",
   "execution_count": 1,
   "metadata": {},
   "outputs": [
    {
     "name": "stdout",
     "output_type": "stream",
     "text": [
      "[[8, 12, 19, 9], [2, 3, 5, 7], [2, 1, 5, 18], [3, 7, 9, 12]]\n"
     ]
    }
   ],
   "source": [
    "x=[[3,5,7,9],[2,8,12,19],[7,9,12,18],[3,2,1,5]]\n",
    "y=[]\n",
    "for i in range(len(x)):\n",
    "    y.append(x[i])\n",
    "for i in range(len(y)):    \n",
    "    for j in range(3):\n",
    "        if i%2==0:\n",
    "            y[i][j],y[i+1][j+1]=y[i+1][j+1],y[i][j]\n",
    "            \n",
    "print(y)"
   ]
  },
  {
   "cell_type": "code",
   "execution_count": 5,
   "metadata": {},
   "outputs": [
    {
     "name": "stdout",
     "output_type": "stream",
     "text": [
      "a e\n",
      "b a\n",
      "c y\n"
     ]
    }
   ],
   "source": [
    "x=('apple','banana','cherry')\n",
    "for i in range(len(x)):\n",
    "    print(x[i][0],x[i][-1])"
   ]
  },
  {
   "cell_type": "code",
   "execution_count": null,
   "metadata": {},
   "outputs": [
    {
     "name": "stdout",
     "output_type": "stream",
     "text": [
      "blue\n"
     ]
    }
   ],
   "source": [
    "x=('red','green','blue','yellow')\n",
    "if x[-2]=='blue':\n",
    "    print(x[-2])\n",
    "else:\n",
    "    print('not ')"
   ]
  },
  {
   "cell_type": "code",
   "execution_count": 6,
   "metadata": {},
   "outputs": [
    {
     "name": "stdout",
     "output_type": "stream",
     "text": [
      "('c', 'd', 'e')\n",
      "3\n"
     ]
    }
   ],
   "source": [
    "tpl = ('a', 'b', 'c', 'd', 'e')\n",
    "s=0\n",
    "z=tpl[2:5]\n",
    "print(z)\n",
    "for i in range(len(z)):\n",
    "    s+=i\n",
    "print(s)\n",
    "\n",
    "\n",
    "\n",
    "\n"
   ]
  },
  {
   "cell_type": "markdown",
   "metadata": {},
   "source": [
    "Q4. Write a python program to concatenate the given tuples. Print\n",
    "the result and then sort the tuple and print it.\n",
    "t1 = ('a', 'b', 'c')\n",
    "t2 = ('d', 'e', 'f')\n",
    "Output: ('a', 'b', 'c', 'd', 'e', 'f')\n",
    "('a', 'b', 'c', 'd', 'e', 'f')\n"
   ]
  },
  {
   "cell_type": "code",
   "execution_count": 7,
   "metadata": {},
   "outputs": [
    {
     "name": "stdout",
     "output_type": "stream",
     "text": [
      "('a', 'b', 'c', 'd', 'e', 'f')\n",
      "['a', 'b', 'c', 'd', 'e', 'f']\n"
     ]
    }
   ],
   "source": [
    "t1 = ('a', 'b', 'c')\n",
    "t2 = ('d', 'e', 'f')\n",
    "s=t1+t2\n",
    "t=sorted(s)\n",
    "print(s)\n",
    "print(t)"
   ]
  },
  {
   "cell_type": "markdown",
   "metadata": {},
   "source": [
    "Q5. Write a program to count how many times 5 appears and find\n",
    "the index of the first occurrence of 3. Print both results.\n",
    "t = (1, 2, 3, 4, 5, 5, 5, 6)."
   ]
  },
  {
   "cell_type": "code",
   "execution_count": null,
   "metadata": {},
   "outputs": [
    {
     "name": "stdout",
     "output_type": "stream",
     "text": [
      "count= 3\n",
      "index 2\n"
     ]
    }
   ],
   "source": [
    "t = (1, 2, 3, 4, 5, 5, 5, 6)\n",
    "c=t.count(5)\n",
    "print('count=',c)\n",
    "for i in range(len(t)):\n",
    "    if t[i]==3:\n",
    "        print('index=',i)"
   ]
  },
  {
   "cell_type": "markdown",
   "metadata": {},
   "source": [
    "Q6. Write a program to create a tuple with elements ('cat', 'dog',\n",
    "'mouse', 'elephant'). Slice it to get the first two elements and print\n",
    "them and also print the after sorting the tuple."
   ]
  },
  {
   "cell_type": "code",
   "execution_count": 13,
   "metadata": {},
   "outputs": [
    {
     "name": "stdout",
     "output_type": "stream",
     "text": [
      "first two element = ('cat', 'dog', 'mouse')\n",
      "['cat', 'dog', 'elephant', 'mouse']\n"
     ]
    }
   ],
   "source": [
    "t=('cat', 'dog','mouse', 'elephant')\n",
    "s=t[:3]\n",
    "print('first two element =',s)\n",
    "y=sorted(t)\n",
    "print(y)"
   ]
  },
  {
   "cell_type": "markdown",
   "metadata": {},
   "source": [
    "Q7. Write a python program which prints the last element of given\n",
    "tuple and check if 'Hello' is in the tuple. Print the results.\n",
    "tpl = ('python', 'java', 'c++', 'ruby')\n",
    "Output: ‘ruby’\n",
    "False"
   ]
  },
  {
   "cell_type": "code",
   "execution_count": 14,
   "metadata": {},
   "outputs": [
    {
     "name": "stdout",
     "output_type": "stream",
     "text": [
      "ruby\n",
      "False\n"
     ]
    }
   ],
   "source": [
    "tpl = ('python', 'java', 'c++', 'ruby')\n",
    "print(tpl[-1])\n",
    "print('hello' in tpl)"
   ]
  },
  {
   "cell_type": "markdown",
   "metadata": {},
   "source": [
    "Q8. Write a python program to create a tuple with elements ('hello',\n",
    "'world', 'python'). Print its length then add ‘3’ as int at the last of\n",
    "tuple and Print\n",
    "Output: 3\n",
    "[‘hello’,’world’,’python’,3]"
   ]
  },
  {
   "cell_type": "code",
   "execution_count": 16,
   "metadata": {},
   "outputs": [
    {
     "name": "stdout",
     "output_type": "stream",
     "text": [
      "3\n",
      "['hello', 'world', 'python', 3]\n"
     ]
    }
   ],
   "source": [
    "tpl=('hello','world', 'python')\n",
    "print(len(tpl))\n",
    "x=list(tpl)\n",
    "x.append(3)\n",
    "print(x)\n"
   ]
  },
  {
   "cell_type": "markdown",
   "metadata": {},
   "source": [
    "Q9. Write a python program which access first six elements of the\n",
    "given tuple, then count how many times 5 appears in the new tuple.\n",
    "Print both results.\n",
    "t = (1, 2, 5, 5, 6, 3, 4, 5, 5, 5, 6)"
   ]
  },
  {
   "cell_type": "code",
   "execution_count": 18,
   "metadata": {},
   "outputs": [
    {
     "name": "stdout",
     "output_type": "stream",
     "text": [
      "(1, 2, 5, 5, 6, 3)\n",
      "2\n"
     ]
    }
   ],
   "source": [
    "t = (1, 2, 5, 5, 6, 3, 4, 5, 5, 5, 6)\n",
    "z=t[0:6]\n",
    "c=z.count(5)\n",
    "print(z)\n",
    "print(c)"
   ]
  },
  {
   "cell_type": "markdown",
   "metadata": {},
   "source": [
    "Q10. Write a python program in which concatenate the given tuples\n",
    "and print the resulting tuple and the third element of generated\n",
    "tuple.\n",
    "t1 = ('java', 'python')\n",
    "t2 = ('c', 'ruby')"
   ]
  },
  {
   "cell_type": "code",
   "execution_count": 19,
   "metadata": {},
   "outputs": [
    {
     "name": "stdout",
     "output_type": "stream",
     "text": [
      "('java', 'python', 'c', 'ruby')\n",
      "c\n"
     ]
    }
   ],
   "source": [
    "t1 = ('java', 'python')\n",
    "t2 = ('c', 'ruby')\n",
    "t=t1+t2\n",
    "print(t)\n",
    "print(t[2])"
   ]
  },
  {
   "cell_type": "markdown",
   "metadata": {},
   "source": [
    "Q1. Write a Python program to check if a specified element appears\n",
    "in a tuple of tuples.\n",
    "Original Tuple:\n",
    "(('Red', 'White', 'Blue'), ('Green', 'Pink', 'Purple'), ('Orange', 'Yellow',\n",
    "'Lime'))\n",
    "Check if White presenet in said tuple of tuples!\n",
    "True\n",
    "Check if White presenet in said tuple of tuples!\n",
    "True\n",
    "Check if Olive presenet in said tuple of tuples!\n",
    "False"
   ]
  },
  {
   "cell_type": "code",
   "execution_count": 37,
   "metadata": {},
   "outputs": [
    {
     "name": "stdout",
     "output_type": "stream",
     "text": [
      "False\n"
     ]
    }
   ],
   "source": [
    "tpl=(('Red', 'White', 'Blue'), ('Green', 'Pink', 'Purple'), ('Orange', 'Yellow','Lime'))\n",
    "# y=int(input())\n",
    "# for i in tpl:\n",
    "#     for j in range(len(i)):\n",
    "#         print('White' in tpl[i][y])\n",
    "print('Red' in tpl)"
   ]
  },
  {
   "cell_type": "markdown",
   "metadata": {},
   "source": [
    "Q1. Write a Python program to check if a specified element appears\n",
    "in a tuple of tuples.\n",
    "Original Tuple:\n",
    "(('Red', 'White', 'Blue'), ('Green', 'Pink', 'Purple'), ('Orange', 'Yellow',\n",
    "'Lime'))\n",
    "Check if White presenet in said tuple of tuples!\n",
    "True\n",
    "Check if White presenet in said tuple of tuples!\n",
    "True\n",
    "Check if Olive presenet in said tuple of tuples!\n",
    "False\n",
    "Q2. WAP to check the tuple contain any duplicate element\n",
    "Q3. WAP to check if all the element of a tuple are in descending\n",
    "order or not.\n",
    "Q4. WAP to check if the elements in the first half of a tuple are\n",
    "sorted in ascending or not.\n",
    "Q5. WAP to inputs name of n students and store them in a tuple .\n",
    "Also, input a name from the user and if this student is present in the\n",
    "tuple or not. Example:\n",
    "Input:-\n",
    "How many student?=5\n",
    "Enter name of student 1: Anaya\n",
    "Enter name of student 2:Ausha\n",
    "Enter name of student 3:Kirat\n",
    "Enter name of student 4:Kyle\n",
    "Enter name of student 5:Suji\n",
    "Output:-\n",
    "Enter name to be Searched for : Suji\n",
    "Suji exists in a tuple\n",
    "Q6. Python program to find unique numbers in a given tuple –\n",
    "original tuple: (1, 9, 1, 6, 3, 4, 5, 1, 1, 2, 5, 6, 7, 8, 9, 2)\n",
    "Unique numbers: (1, 9, 6, 3, 4, 5, 2, 7, 8)\n",
    "Q7. Write a Python program to convert a tuple of string values to a\n",
    "tuple of integer values.\n",
    "Original tuple values:\n",
    "(('333', '33'), ('1416', '55'))\n",
    "New tuple values:\n",
    "((333, 33), (1416, 55))\n",
    "Q8. Write a Python program to calculate the product, multiplying all\n",
    "the numbers in a given tuple.\n",
    "Original Tuple:\n",
    "(4, 3, 2, 2, -1, 18)\n",
    "Product - multiplying all the numbers of the said tuple: -864\n",
    "Original Tuple:\n",
    "(2, 4, 8, 8, 3, 2, 9)\n",
    "Product - multiplying all the numbers of the said tuple:"
   ]
  }
 ],
 "metadata": {
  "kernelspec": {
   "display_name": "Python 3",
   "language": "python",
   "name": "python3"
  },
  "language_info": {
   "codemirror_mode": {
    "name": "ipython",
    "version": 3
   },
   "file_extension": ".py",
   "mimetype": "text/x-python",
   "name": "python",
   "nbconvert_exporter": "python",
   "pygments_lexer": "ipython3",
   "version": "3.11.9"
  }
 },
 "nbformat": 4,
 "nbformat_minor": 2
}
