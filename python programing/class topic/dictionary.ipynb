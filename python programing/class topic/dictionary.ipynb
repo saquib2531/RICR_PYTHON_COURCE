{
 "cells": [
  {
   "cell_type": "code",
   "execution_count": 1,
   "id": "139f3cc7",
   "metadata": {},
   "outputs": [
    {
     "name": "stdout",
     "output_type": "stream",
     "text": [
      "{1: 'one', 2: 'two'}\n",
      "{'name': 'saquib', 1: ['abc', 'xyz']}\n"
     ]
    }
   ],
   "source": [
    "# empty dictionary\n",
    "x={}\n",
    "y=dict()\n",
    "d={1:'one',2:'two'}\n",
    "#dict with integer keys\n",
    "a={(1,2,3,4):'abc',2:{1:'a',2:'r'}}\n",
    "print(d)\n",
    "#dict with mixed key\n",
    "d={'name':'saquib',1:['abc','xyz']}\n",
    "print(d)\n"
   ]
  },
  {
   "cell_type": "code",
   "execution_count": 3,
   "id": "2b1905fd",
   "metadata": {},
   "outputs": [
    {
     "name": "stdout",
     "output_type": "stream",
     "text": [
      "{1: 2, 2: 3, 3: 4}\n"
     ]
    }
   ],
   "source": [
    "#list of list\n",
    "x=[[1,2],[2,3],[3,4]]\n",
    "x=dict(x)\n",
    "print(x)"
   ]
  },
  {
   "cell_type": "code",
   "execution_count": 4,
   "id": "084ae7d8",
   "metadata": {},
   "outputs": [
    {
     "name": "stdout",
     "output_type": "stream",
     "text": [
      "{1: 2, 2: 3, 3: 4}\n"
     ]
    }
   ],
   "source": [
    "#list of tuple\n",
    "x=[(1,2),(2,3),(3,4)]\n",
    "print(dict(x))"
   ]
  },
  {
   "cell_type": "code",
   "execution_count": 5,
   "id": "97a4d751",
   "metadata": {},
   "outputs": [
    {
     "name": "stdout",
     "output_type": "stream",
     "text": [
      "{1: 2, 2: 3, 3: 4}\n"
     ]
    }
   ],
   "source": [
    "#tuple of list\n",
    "x=([1,2],[2,3],[3,4])\n",
    "print(dict(x))"
   ]
  },
  {
   "cell_type": "code",
   "execution_count": 6,
   "id": "2e91db8b",
   "metadata": {},
   "outputs": [
    {
     "name": "stdout",
     "output_type": "stream",
     "text": [
      "{1: 2, 2: 3, 3: 4}\n"
     ]
    }
   ],
   "source": [
    "#tuple of set\n",
    "x=({1,2},{2,3},{3,4})\n",
    "print(dict(x))"
   ]
  },
  {
   "cell_type": "code",
   "execution_count": 7,
   "id": "65c71c0f",
   "metadata": {},
   "outputs": [
    {
     "name": "stdout",
     "output_type": "stream",
     "text": [
      "{2: 3, 1: 2, 3: 4}\n"
     ]
    }
   ],
   "source": [
    "#set of tuple\n",
    "x={(1,2),(2,3),(3,4)}\n",
    "print(dict(x))"
   ]
  },
  {
   "cell_type": "code",
   "execution_count": 8,
   "id": "c71c1234",
   "metadata": {},
   "outputs": [
    {
     "name": "stdout",
     "output_type": "stream",
     "text": [
      "{1: 2, 2: 3, 3: 4}\n"
     ]
    }
   ],
   "source": [
    "#tuple of tuple\n",
    "x=((1,2),(2,3),(3,4))\n",
    "print(dict(x))"
   ]
  },
  {
   "cell_type": "code",
   "execution_count": 9,
   "id": "31969d21",
   "metadata": {},
   "outputs": [
    {
     "name": "stdout",
     "output_type": "stream",
     "text": [
      "{1: 2, 2: 3, 3: 4}\n"
     ]
    }
   ],
   "source": [
    "#list of set\n",
    "x=[{1,2},{2,3},{3,4}]\n",
    "print(dict(x))"
   ]
  },
  {
   "cell_type": "code",
   "execution_count": 4,
   "id": "cb8a30a7",
   "metadata": {},
   "outputs": [
    {
     "name": "stdout",
     "output_type": "stream",
     "text": [
      "saquib\n"
     ]
    },
    {
     "ename": "KeyError",
     "evalue": "'saquib'",
     "output_type": "error",
     "traceback": [
      "\u001b[1;31m---------------------------------------------------------------------------\u001b[0m",
      "\u001b[1;31mKeyError\u001b[0m                                  Traceback (most recent call last)",
      "Cell \u001b[1;32mIn[4], line 3\u001b[0m\n\u001b[0;32m      1\u001b[0m d\u001b[38;5;241m=\u001b[39m{\u001b[38;5;124m'\u001b[39m\u001b[38;5;124mname\u001b[39m\u001b[38;5;124m'\u001b[39m:\u001b[38;5;124m'\u001b[39m\u001b[38;5;124msaquib\u001b[39m\u001b[38;5;124m'\u001b[39m,\u001b[38;5;241m1\u001b[39m:[\u001b[38;5;124m'\u001b[39m\u001b[38;5;124mabc\u001b[39m\u001b[38;5;124m'\u001b[39m,\u001b[38;5;124m'\u001b[39m\u001b[38;5;124mxyz\u001b[39m\u001b[38;5;124m'\u001b[39m]}\n\u001b[0;32m      2\u001b[0m \u001b[38;5;28mprint\u001b[39m(d[\u001b[38;5;124m'\u001b[39m\u001b[38;5;124mname\u001b[39m\u001b[38;5;124m'\u001b[39m]) \u001b[38;5;66;03m#dict can be  access by their key\u001b[39;00m\n\u001b[1;32m----> 3\u001b[0m \u001b[38;5;28mprint\u001b[39m(\u001b[43md\u001b[49m\u001b[43m[\u001b[49m\u001b[38;5;124;43m'\u001b[39;49m\u001b[38;5;124;43msaquib\u001b[39;49m\u001b[38;5;124;43m'\u001b[39;49m\u001b[43m]\u001b[49m)\n",
      "\u001b[1;31mKeyError\u001b[0m: 'saquib'"
     ]
    }
   ],
   "source": [
    "d={'name':'saquib',1:['abc','xyz']}\n",
    "print(d['name']) #dict can be  access by their key\n",
    "print(d['saquib'])  # if key is not present in dict then it will give keyerro\n"
   ]
  },
  {
   "cell_type": "code",
   "execution_count": 6,
   "id": "a0420aa4",
   "metadata": {},
   "outputs": [
    {
     "name": "stdout",
     "output_type": "stream",
     "text": [
      "saquib\n",
      "None\n"
     ]
    }
   ],
   "source": [
    "# dict.get() method\n",
    "print(d.get('name'))\n",
    "print(d.get('sq'))  # in case key is not present in dict then this method will not give error insted of error it will give none\n",
    "\n"
   ]
  },
  {
   "cell_type": "code",
   "execution_count": 8,
   "id": "173f3e58",
   "metadata": {},
   "outputs": [
    {
     "name": "stdout",
     "output_type": "stream",
     "text": [
      "{'name': 'amisha', 1: ['abc', 'xyz']}\n",
      "{'name': 'amisha', 1: ['abc', 'xyz'], 'class': 10}\n"
     ]
    }
   ],
   "source": [
    "# dict add or modify elements\n",
    "d['name']='amisha'\n",
    "print(d)\n",
    "d['class']=10   # in case if the key during adding is not present in the dict it will make new pare of dict element\n",
    "print(d)   "
   ]
  },
  {
   "cell_type": "code",
   "execution_count": 5,
   "id": "52f65966",
   "metadata": {},
   "outputs": [
    {
     "name": "stdout",
     "output_type": "stream",
     "text": [
      "{'name': 'saquib', 1: ['abc', 'xyz']}\n",
      "['abc', 'xyz']\n",
      "{'name': 'saquib'}\n"
     ]
    }
   ],
   "source": [
    "# pop \n",
    "d={'name':'saquib',1:['abc','xyz']}\n",
    "print(d)\n",
    "print(d.pop(1))\n",
    "print(d)"
   ]
  },
  {
   "cell_type": "code",
   "execution_count": 6,
   "id": "96487dc5",
   "metadata": {},
   "outputs": [
    {
     "name": "stdout",
     "output_type": "stream",
     "text": [
      "(1, ['abc', 'xyz'])\n",
      "{'name': 'saquib'}\n"
     ]
    }
   ],
   "source": [
    "#popitem()\n",
    "d={'name':'saquib',1:['abc','xyz']}\n",
    "#last key value delete karta h\n",
    "print(d.popitem())\n",
    "print(d)"
   ]
  },
  {
   "cell_type": "code",
   "execution_count": 9,
   "id": "694546e4",
   "metadata": {},
   "outputs": [
    {
     "name": "stdout",
     "output_type": "stream",
     "text": [
      "{'name': 'saquib'}\n"
     ]
    },
    {
     "ename": "NameError",
     "evalue": "name 'd' is not defined",
     "output_type": "error",
     "traceback": [
      "\u001b[1;31m---------------------------------------------------------------------------\u001b[0m",
      "\u001b[1;31mNameError\u001b[0m                                 Traceback (most recent call last)",
      "Cell \u001b[1;32mIn[9], line 7\u001b[0m\n\u001b[0;32m      5\u001b[0m d\u001b[38;5;241m=\u001b[39m{\u001b[38;5;124m'\u001b[39m\u001b[38;5;124mname\u001b[39m\u001b[38;5;124m'\u001b[39m:\u001b[38;5;124m'\u001b[39m\u001b[38;5;124msaquib\u001b[39m\u001b[38;5;124m'\u001b[39m,\u001b[38;5;241m1\u001b[39m:[\u001b[38;5;124m'\u001b[39m\u001b[38;5;124mabc\u001b[39m\u001b[38;5;124m'\u001b[39m,\u001b[38;5;124m'\u001b[39m\u001b[38;5;124mxyz\u001b[39m\u001b[38;5;124m'\u001b[39m]}\n\u001b[0;32m      6\u001b[0m \u001b[38;5;28;01mdel\u001b[39;00m (d)\n\u001b[1;32m----> 7\u001b[0m \u001b[38;5;28mprint\u001b[39m(\u001b[43md\u001b[49m)\n",
      "\u001b[1;31mNameError\u001b[0m: name 'd' is not defined"
     ]
    }
   ],
   "source": [
    "# del()\n",
    "d={'name':'saquib',1:['abc','xyz']}\n",
    "del d[1]   # delete items form dict\n",
    "print(d)\n",
    "d={'name':'saquib',1:['abc','xyz']}\n",
    "del (d) # delete whole dict\n",
    "print(d)"
   ]
  },
  {
   "cell_type": "code",
   "execution_count": 10,
   "id": "64e6a415",
   "metadata": {},
   "outputs": [
    {
     "name": "stdout",
     "output_type": "stream",
     "text": [
      "{}\n"
     ]
    }
   ],
   "source": [
    "# clear()\n",
    "d={'name':'saquib',1:['abc','xyz']}\n",
    "d.clear()\n",
    "print(d)"
   ]
  },
  {
   "cell_type": "code",
   "execution_count": 11,
   "id": "ec37a48e",
   "metadata": {},
   "outputs": [
    {
     "name": "stdout",
     "output_type": "stream",
     "text": [
      "{'name': 'saquib', 1: ['abc', 'xyz'], 6: 4}\n",
      "{'name': 'saquib', 1: ['abc', 'xyz']}\n"
     ]
    }
   ],
   "source": [
    "# methods\n",
    "# 1. dict.copy()\n",
    "d={'name':'saquib',1:['abc','xyz']}   # it make dublicate and saprate to each other\n",
    "x=d.copy()   # deep copy \n",
    "d[6]=4\n",
    "print(d)\n",
    "print(x)"
   ]
  },
  {
   "cell_type": "code",
   "execution_count": 12,
   "id": "07b08316",
   "metadata": {},
   "outputs": [
    {
     "name": "stdout",
     "output_type": "stream",
     "text": [
      "{'name': 'saquib', 1: ['abc', 'xyz'], 6: 4}\n",
      "{'name': 'saquib', 1: ['abc', 'xyz'], 6: 4}\n"
     ]
    }
   ],
   "source": [
    "# shallow copy\n",
    "d={'name':'saquib',1:['abc','xyz']} # it changes all  dict\n",
    "x=d\n",
    "d[6]=4\n",
    "print(d)\n",
    "print(x)"
   ]
  },
  {
   "cell_type": "code",
   "execution_count": 16,
   "id": "6ddbbb68",
   "metadata": {},
   "outputs": [
    {
     "name": "stdout",
     "output_type": "stream",
     "text": [
      "{'Maths': None, 'English': None, 'Hindi': None, 100: None}\n",
      "{'Maths': 100, 'English': 100, 'Hindi': 100}\n"
     ]
    }
   ],
   "source": [
    "#2. aisa koi dict jisme keys diffrent ho but values same ho iske liy\n",
    "# fromkeys()\n",
    "s=dict().fromkeys(['Maths',\"English\",'Hindi'],100)\n",
    "x=dict().fromkeys(['Maths',\"English\",'Hindi',100])\n",
    "print(x)\n",
    "print(s)"
   ]
  },
  {
   "cell_type": "code",
   "execution_count": 17,
   "id": "b857fda0",
   "metadata": {},
   "outputs": [
    {
     "name": "stdout",
     "output_type": "stream",
     "text": [
      "dict_items([(2, 4), (3, 9), (4, 16), (5, 25)])\n"
     ]
    }
   ],
   "source": [
    "# dict.items()   return a new view of the dictionary items {key,value}\n",
    "x={2:4,3:9,4:16,5:25}\n",
    "print(x.items())\n"
   ]
  },
  {
   "cell_type": "code",
   "execution_count": 18,
   "id": "2fdf2538",
   "metadata": {},
   "outputs": [
    {
     "name": "stdout",
     "output_type": "stream",
     "text": [
      "dict_keys([2, 3, 4, 5])\n"
     ]
    }
   ],
   "source": [
    "# dict.keys()\n",
    "# returns a new view of the dictionary keys\n",
    "x={2:4,3:9,4:16,5:25}\n",
    "print(x.keys())"
   ]
  },
  {
   "cell_type": "code",
   "execution_count": 19,
   "id": "231732d9",
   "metadata": {},
   "outputs": [
    {
     "name": "stdout",
     "output_type": "stream",
     "text": [
      "dict_values([4, 9, 16, 25])\n"
     ]
    }
   ],
   "source": [
    "# dict.values()\n",
    "# return a new view of the dictionary values\n",
    "x={2:4,3:9,4:16,5:25}\n",
    "print(x.values())"
   ]
  },
  {
   "cell_type": "code",
   "execution_count": 20,
   "id": "8ecd2e0e",
   "metadata": {},
   "outputs": [
    {
     "name": "stdout",
     "output_type": "stream",
     "text": [
      "14 54\n"
     ]
    }
   ],
   "source": [
    "x={2:4,3:9,4:16,5:25} \n",
    "k=0\n",
    "v=0\n",
    "for i in x.keys():\n",
    "    k+=i\n",
    "    v+=x[i]\n",
    "print(k, v)"
   ]
  },
  {
   "cell_type": "code",
   "execution_count": 21,
   "id": "9a8a21a8",
   "metadata": {},
   "outputs": [
    {
     "name": "stdout",
     "output_type": "stream",
     "text": [
      "14 54\n"
     ]
    }
   ],
   "source": [
    "x={2:4,3:9,4:16,5:25}\n",
    "k=0\n",
    "v=0\n",
    "for i in x.items():\n",
    "    k+=i[0]\n",
    "    v+=i[1]\n",
    "print(k,v)\n"
   ]
  },
  {
   "cell_type": "code",
   "execution_count": 1,
   "id": "9feb5bb2",
   "metadata": {},
   "outputs": [
    {
     "name": "stdout",
     "output_type": "stream",
     "text": [
      "{2: 14, 3: 14, 4: 26, 5: 30}\n"
     ]
    }
   ],
   "source": [
    "x={2:4,3:9,4:16,5:25}\n",
    "for i in x.keys():\n",
    "    if x[i]%2==0:\n",
    "        x[i]+=10\n",
    "    else:\n",
    "        x[i]+=5\n",
    "print(x)"
   ]
  },
  {
   "cell_type": "code",
   "execution_count": 3,
   "id": "74a02f97",
   "metadata": {},
   "outputs": [
    {
     "name": "stdout",
     "output_type": "stream",
     "text": [
      "{2: 14, 3: 14, 4: 26, 5: 30}\n"
     ]
    }
   ],
   "source": [
    "x={2:4,3:9,4:16,5:25}\n",
    "for i in x.items():\n",
    "    if i[1]%2==0:\n",
    "        x[i[0]]+=10\n",
    "    else:\n",
    "        x[i[0]]+=5\n",
    "print(x)"
   ]
  },
  {
   "cell_type": "code",
   "execution_count": null,
   "id": "0b1e11fa",
   "metadata": {},
   "outputs": [],
   "source": [
    "# x=dict([[2,4],[3,9],[4,16],[5,25]])\n",
    "x=eval((input()))\n",
    "n=int(input())\n",
    "c=0\n",
    "for i in x.keys():\n",
    "    if n%i==0:\n",
    "        c+=1\n",
    "\n"
   ]
  },
  {
   "cell_type": "code",
   "execution_count": 13,
   "id": "af13e7b5",
   "metadata": {},
   "outputs": [
    {
     "name": "stdout",
     "output_type": "stream",
     "text": [
      "1\n"
     ]
    }
   ],
   "source": [
    "print(c)"
   ]
  },
  {
   "cell_type": "code",
   "execution_count": 4,
   "id": "c711f8fb",
   "metadata": {},
   "outputs": [
    {
     "name": "stdout",
     "output_type": "stream",
     "text": [
      "{3: 2, 5: 3, 7: 3, 2: 2, 9: 1, 8: 1}\n"
     ]
    }
   ],
   "source": [
    "lst=[3,5,7,3,2,5,7,9,2,7,5,8]\n",
    "x={}\n",
    "for i in lst:\n",
    "    for i in lst:\n",
    "        x[i]=lst.count(i)\n",
    "print(x)\n"
   ]
  },
  {
   "cell_type": "code",
   "execution_count": null,
   "id": "31fa5778",
   "metadata": {},
   "outputs": [
    {
     "name": "stdout",
     "output_type": "stream",
     "text": [
      "{3: 21, 8: 27, 14: 20, 13: 28}\n"
     ]
    }
   ],
   "source": [
    "x={3:[5,7,9],8:[7,8,12],14:[4,3,5,8],13:[8,8,7,5]}\n",
    "for i in x.keys():\n",
    "    s=0\n",
    "    for j in x[i]:\n",
    "        s+=j\n",
    "    x[i]=s\n",
    "print(x)"
   ]
  },
  {
   "cell_type": "markdown",
   "id": "882d1229",
   "metadata": {},
   "source": [
    "key agr odd hai to odd value ka sum lena h or even h to even value ka sum lena h"
   ]
  },
  {
   "cell_type": "code",
   "execution_count": 25,
   "id": "a4a022ad",
   "metadata": {},
   "outputs": [
    {
     "name": "stdout",
     "output_type": "stream",
     "text": [
      "{3: 21, 8: 20, 14: 12, 13: 12}\n"
     ]
    }
   ],
   "source": [
    "x={3:[5,7,9],8:[7,8,12],14:[4,3,5,8],13:[8,8,7,5]}\n",
    "for i in x.keys():\n",
    "    if i%2==0:\n",
    "        e=0\n",
    "        \n",
    "        for j in x[i]:\n",
    "            if j%2==0:\n",
    "                e+=j\n",
    "        x[i]=e\n",
    "    else:\n",
    "        d=0\n",
    "        for j in x[i]:\n",
    "            if j%2!=0:\n",
    "                d+=j\n",
    "        x[i]=d\n",
    "print(x)\n"
   ]
  },
  {
   "cell_type": "code",
   "execution_count": null,
   "id": "84ab3fc8",
   "metadata": {},
   "outputs": [
    {
     "name": "stdout",
     "output_type": "stream",
     "text": [
      "{3: 23, 4: 7, 5: 20, 6: 3, 14: 9, 12: 5, 7: 9}\n"
     ]
    }
   ],
   "source": [
    "x={3:5,4:7,5:8,6:3,14:9}\n",
    "y={12:5,7:9,5:12,3:18}\n",
    "for i in y.keys():\n",
    "    if  i in x.keys():\n",
    "        x[i]+=y[i]\n",
    "    else:\n",
    "        x[i]=y[i]       \n",
    "print(x)"
   ]
  },
  {
   "cell_type": "code",
   "execution_count": 1,
   "id": "24396005",
   "metadata": {},
   "outputs": [
    {
     "name": "stdout",
     "output_type": "stream",
     "text": [
      "{3: 23, 4: 7, 5: 20, 6: 3, 14: 9, 12: 5, 7: 9}\n"
     ]
    }
   ],
   "source": [
    "x={3:5,4:7,5:8,6:3,14:9}\n",
    "y={12:5,7:9,5:12,3:18}\n",
    "for  k,v in y.items():\n",
    "    if k in x:\n",
    "        x[k]=v+x[k]\n",
    "    else:\n",
    "        x[k]=v\n",
    "print(x)"
   ]
  },
  {
   "cell_type": "code",
   "execution_count": 14,
   "id": "2611bbf8",
   "metadata": {},
   "outputs": [
    {
     "name": "stdout",
     "output_type": "stream",
     "text": [
      "{'h': 1, 'e': 1, 'l': 2, 'o': 1}\n"
     ]
    }
   ],
   "source": [
    "n=(input())\n",
    "d={}\n",
    "for i in n:\n",
    "    d[i]=n.count(i)\n",
    "print(d)\n"
   ]
  },
  {
   "cell_type": "code",
   "execution_count": 16,
   "id": "c23a2be3",
   "metadata": {},
   "outputs": [
    {
     "name": "stdout",
     "output_type": "stream",
     "text": [
      "{'h': 1, 'e': 1, 'l': 2, 'o': 1}\n"
     ]
    }
   ],
   "source": [
    "n=input()\n",
    "d={i:n.count(i) for i in n}\n",
    "print(d)"
   ]
  },
  {
   "cell_type": "code",
   "execution_count": 2,
   "id": "43111f61",
   "metadata": {},
   "outputs": [
    {
     "name": "stdout",
     "output_type": "stream",
     "text": [
      "{8: 12, 12: 20}\n"
     ]
    }
   ],
   "source": [
    "x={3:5,4:7,8:12,9:5,10:8,12:20}\n",
    "y={k:v for k,v in x.items() if v>10}\n",
    "print(y)"
   ]
  },
  {
   "cell_type": "markdown",
   "id": "5cf4a9c6",
   "metadata": {},
   "source": [
    "Q. har key ke andar 'a' add karna h or value me 5 increase karna h"
   ]
  },
  {
   "cell_type": "code",
   "execution_count": 5,
   "id": "686ba3c3",
   "metadata": {},
   "outputs": [
    {
     "name": "stdout",
     "output_type": "stream",
     "text": [
      "{'aa': 6, 'ba': 7, 'ca': 8, 'da': 9, 'ea': 10}\n"
     ]
    }
   ],
   "source": [
    "d={'a':1,'b':2,'c':3,'d':4,'e':5}\n",
    "x={k+'a':v+5 for k,v in d.items() }\n",
    "print(x)"
   ]
  },
  {
   "cell_type": "markdown",
   "id": "fcd622b9",
   "metadata": {},
   "source": [
    "Q. jaha pe value 2 se jada ho add 'c' to key and value multiply by 2\n"
   ]
  },
  {
   "cell_type": "code",
   "execution_count": 7,
   "id": "f0fe80e7",
   "metadata": {},
   "outputs": [
    {
     "name": "stdout",
     "output_type": "stream",
     "text": [
      "{'cc': 6, 'dc': 8, 'ec': 10}\n"
     ]
    }
   ],
   "source": [
    "d={'a':1,'b':2,'c':3,'d':4,'e':5}\n",
    "x={k+'c':v*2 for k,v in d.items() if v>2}\n",
    "print(x)"
   ]
  },
  {
   "cell_type": "markdown",
   "id": "a4cdc6be",
   "metadata": {},
   "source": [
    "list of strings h jiske str ko keys banana h or uske length ko length lena h"
   ]
  },
  {
   "cell_type": "code",
   "execution_count": 14,
   "id": "38afdd18",
   "metadata": {},
   "outputs": [
    {
     "name": "stdout",
     "output_type": "stream",
     "text": [
      "{'hello': 5, 'how are you': 11, 'hey': 3, 'lets lern python': 16, 'ricr': 4}\n"
     ]
    }
   ],
   "source": [
    "x=['hello','how are you','hey','lets lern python','ricr']\n",
    "y={i:len(i) for i in x}\n",
    "print(y)"
   ]
  },
  {
   "cell_type": "markdown",
   "id": "187ac171",
   "metadata": {},
   "source": [
    "Q. "
   ]
  },
  {
   "cell_type": "code",
   "execution_count": 2,
   "id": "e420ae72",
   "metadata": {},
   "outputs": [
    {
     "name": "stdout",
     "output_type": "stream",
     "text": [
      "{'hello': 'small', 'how are you': 'big', 'hey': 'small', 'lets lern python': 'big', 'ricr': 'small'}\n"
     ]
    }
   ],
   "source": [
    "x=['hello','how are you','hey','lets lern python','ricr']\n",
    "y={i:('big'if len(i)>5  else'small') for i in x} \n",
    "print(y)\n"
   ]
  }
 ],
 "metadata": {
  "kernelspec": {
   "display_name": "Python 3",
   "language": "python",
   "name": "python3"
  },
  "language_info": {
   "codemirror_mode": {
    "name": "ipython",
    "version": 3
   },
   "file_extension": ".py",
   "mimetype": "text/x-python",
   "name": "python",
   "nbconvert_exporter": "python",
   "pygments_lexer": "ipython3",
   "version": "3.11.9"
  }
 },
 "nbformat": 4,
 "nbformat_minor": 5
}
