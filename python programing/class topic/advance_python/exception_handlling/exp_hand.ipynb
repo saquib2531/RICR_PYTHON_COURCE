{
 "cells": [
  {
   "cell_type": "code",
   "execution_count": 1,
   "id": "bc8920f4",
   "metadata": {},
   "outputs": [
    {
     "name": "stdout",
     "output_type": "stream",
     "text": [
      "index is out of range, please enter valid index\n"
     ]
    }
   ],
   "source": [
    "#to handle the exception\n",
    "    # try except block\n",
    "#error raised in try block will redirect to except block\n",
    "try:\n",
    "    lst=[12,3,23,1,34,4]\n",
    "    print(lst[90])\n",
    "except:\n",
    "    print('index is out of range, please enter valid index')\n"
   ]
  },
  {
   "cell_type": "code",
   "execution_count": null,
   "id": "b3829548",
   "metadata": {},
   "outputs": [
    {
     "name": "stdout",
     "output_type": "stream",
     "text": [
      "12\n",
      "[12, 3, 23, 1, 34, 4]\n",
      "5.0\n"
     ]
    }
   ],
   "source": [
    "# multiple exceptions \n",
    "try:\n",
    "    lst=[12,3,23,1,34,4]\n",
    "    print(lst[90]) #indexerror\n",
    "    print(b) #nameerror\n",
    "    print(5/0) #zerodicisionerror\n",
    "except IndexError:\n",
    "    print('index is out of range, please enter valid index')\n",
    "except NameError:\n",
    "    print('variable is not defined')\n",
    "except ZeroDivisionError:\n",
    "    print('cannot dicide ant number with 0.')"
   ]
  },
  {
   "cell_type": "code",
   "execution_count": null,
   "id": "4e55908d",
   "metadata": {},
   "outputs": [
    {
     "name": "stdout",
     "output_type": "stream",
     "text": [
      "list index out of range\n"
     ]
    }
   ],
   "source": [
    "#Generic Exception handling\n",
    "#this is generally used as the last exception whrn you don't know which exception can be raise \n",
    "try:\n",
    "    lst=[12,3,23,1,34,4]\n",
    "    print(lst[90]) #indexerror\n",
    "    print(b) #nameerror\n",
    "    print(5/0) #zerodicisionerror\n",
    "except Exception as e:\n",
    "    print(e)"
   ]
  },
  {
   "cell_type": "code",
   "execution_count": null,
   "id": "53f49713",
   "metadata": {},
   "outputs": [
    {
     "name": "stdout",
     "output_type": "stream",
     "text": [
      "the element at index 3 is: 4\n",
      "try successfully\n"
     ]
    }
   ],
   "source": [
    "#else block - success in try will redirect to else block\n",
    "try:\n",
    "    lst=[1,2,3,4,5]\n",
    "    print('the element at index 3 is:',lst[3]) #no error(else)\n",
    "    # print(lst[50]) # elrror (except)\n",
    "except Exception:\n",
    "    print('code fatt gaya')\n",
    "else:\n",
    "    print('try successfully')"
   ]
  },
  {
   "cell_type": "code",
   "execution_count": 12,
   "id": "db333203",
   "metadata": {},
   "outputs": [
    {
     "name": "stdout",
     "output_type": "stream",
     "text": [
      "code fatt gaya\n",
      "program ends\n"
     ]
    }
   ],
   "source": [
    "#finally block\n",
    "try:\n",
    "    lst=[1,2,3,4,5]\n",
    "    # print('the element at index 3 is:',lst[3]) #no errot\n",
    "    print(lst[30]) #error (except)\n",
    "except Exception:\n",
    "    print('code fatt gaya')\n",
    "else: \n",
    "    print('try successfull')\n",
    "finally:\n",
    "    print('program ends')"
   ]
  },
  {
   "cell_type": "code",
   "execution_count": 15,
   "id": "3edf0e5d",
   "metadata": {},
   "outputs": [
    {
     "name": "stdout",
     "output_type": "stream",
     "text": [
      "positive number do na bhai\n"
     ]
    }
   ],
   "source": [
    "#raise - we can raise an error by own using raise keyword\n",
    "def sum(a,b):\n",
    "    if b<0:\n",
    "        raise Exception('positive number do na bhai')\n",
    "    return (a+b)\n",
    "try:\n",
    "    ans=sum(4,-5)\n",
    "except Exception as e:\n",
    "    print(e)\n",
    "else:\n",
    "    print(ans)"
   ]
  }
 ],
 "metadata": {
  "kernelspec": {
   "display_name": "Python 3",
   "language": "python",
   "name": "python3"
  },
  "language_info": {
   "codemirror_mode": {
    "name": "ipython",
    "version": 3
   },
   "file_extension": ".py",
   "mimetype": "text/x-python",
   "name": "python",
   "nbconvert_exporter": "python",
   "pygments_lexer": "ipython3",
   "version": "3.11.9"
  }
 },
 "nbformat": 4,
 "nbformat_minor": 5
}
