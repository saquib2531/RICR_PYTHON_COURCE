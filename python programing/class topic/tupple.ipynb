{
 "cells": [
  {
   "cell_type": "code",
   "execution_count": 2,
   "metadata": {},
   "outputs": [
    {
     "name": "stdout",
     "output_type": "stream",
     "text": [
      "(1, 2, 3, 4)\n",
      "(1, 'eref', 1, 'dfafd')\n",
      "((1, 2, 3), (4, 5, 6, 7), (5, 6))\n",
      "(('a', 'b', 'c'), ['a', 'b'], [True, False])\n"
     ]
    }
   ],
   "source": [
    "t=()\n",
    "t=(1,2,3,4)\n",
    "print (t)\n",
    "t1=(1,'eref',1,'dfafd')\n",
    "print(t1)\n",
    "nested_tuple=((1,2,3),(4,5,6,7,),(5,6))\n",
    "tuple_of_list=(('a','b','c'),['a','b'],[True,False])\n",
    "print(nested_tuple)\n",
    "print(tuple_of_list)"
   ]
  },
  {
   "cell_type": "code",
   "execution_count": null,
   "metadata": {},
   "outputs": [
    {
     "name": "stdout",
     "output_type": "stream",
     "text": [
      "<class 'str'>\n",
      "<class 'tuple'>\n",
      "<class 'tuple'>\n"
     ]
    }
   ],
   "source": [
    "t= ('a')\n",
    "t1=('4',3)\n",
    "t2='a',  # only paranthesis is not enough\n",
    "\n",
    "print(type(t))\n",
    "print(type(t1))\n",
    "print(type(t2))"
   ]
  },
  {
   "cell_type": "markdown",
   "metadata": {},
   "source": [
    "accessing elements"
   ]
  },
  {
   "cell_type": "code",
   "execution_count": 8,
   "metadata": {},
   "outputs": [
    {
     "name": "stdout",
     "output_type": "stream",
     "text": [
      "<class 'tuple'>\n",
      "<class 'str'>\n",
      "<class 'int'>\n"
     ]
    }
   ],
   "source": [
    "t=('j',(3,4,5,9,12,10))\n",
    "# print(t[-1])\n",
    "# print(t[-11])  # if the index value not lie under the list or tuple then it will give index out of range \n",
    "print(type(t[1]))\n",
    "print(type(t[0]))\n",
    "print(type(t[1][0]))"
   ]
  },
  {
   "cell_type": "code",
   "execution_count": 9,
   "metadata": {},
   "outputs": [
    {
     "name": "stdout",
     "output_type": "stream",
     "text": [
      "()\n",
      "(29, 45, 23, 21, 10, 19, 16, 11, 9, 6, 5, 4, 3, 2, 1)\n",
      "(6,)\n",
      "(4, 16, 45)\n",
      "(29, 21, 16, 6, 3)\n",
      "(6, 9, 11, 16, 19, 10, 21, 23, 45, 29)\n",
      "(6,)\n",
      "(1, 2, 3, 4, 5, 6, 9, 11, 16, 19, 10, 21, 23, 45, 29)\n",
      "(29, 21, 16, 6, 3)\n"
     ]
    }
   ],
   "source": [
    "t=(1,2,3,4,5,6,9,11,16,19,10,21,23,45,29)\n",
    "print(t[-9:-2:-1])\n",
    "print(t[:-22:-1])\n",
    "print(t[5:-2:10])\n",
    "print(t[3::5])\n",
    "print(t[15:-20:-3])\n",
    "print(t[-10:20:])\n",
    "print(t[5:10:20])\n",
    "print(t[:])\n",
    "print(t[::-3])"
   ]
  },
  {
   "cell_type": "markdown",
   "metadata": {},
   "source": [
    "changing tuples\n",
    "as tuples are imutable so that it will not change give error"
   ]
  },
  {
   "cell_type": "code",
   "execution_count": 10,
   "metadata": {},
   "outputs": [
    {
     "ename": "TypeError",
     "evalue": "'tuple' object does not support item assignment",
     "output_type": "error",
     "traceback": [
      "\u001b[1;31m---------------------------------------------------------------------------\u001b[0m",
      "\u001b[1;31mTypeError\u001b[0m                                 Traceback (most recent call last)",
      "Cell \u001b[1;32mIn[10], line 2\u001b[0m\n\u001b[0;32m      1\u001b[0m tpl\u001b[38;5;241m=\u001b[39m(\u001b[38;5;241m1\u001b[39m,\u001b[38;5;241m2\u001b[39m,\u001b[38;5;241m3\u001b[39m,\u001b[38;5;241m4\u001b[39m,\u001b[38;5;241m5\u001b[39m,\u001b[38;5;241m6\u001b[39m,\u001b[38;5;241m7\u001b[39m)\n\u001b[1;32m----> 2\u001b[0m \u001b[43mtpl\u001b[49m\u001b[43m[\u001b[49m\u001b[38;5;241;43m2\u001b[39;49m\u001b[43m]\u001b[49m\u001b[38;5;241m=\u001b[39m\u001b[38;5;124m'\u001b[39m\u001b[38;5;124mx\u001b[39m\u001b[38;5;124m'\u001b[39m\n\u001b[0;32m      3\u001b[0m \u001b[38;5;28mprint\u001b[39m(tpl)\n",
      "\u001b[1;31mTypeError\u001b[0m: 'tuple' object does not support item assignment"
     ]
    }
   ],
   "source": [
    "tpl=(1,2,3,4,5,6,7)\n",
    "tpl[2]='x'\n",
    "print(tpl)"
   ]
  },
  {
   "cell_type": "code",
   "execution_count": null,
   "metadata": {},
   "outputs": [
    {
     "name": "stdout",
     "output_type": "stream",
     "text": [
      "(2, [1, 2, 'python', 4, 5, 'hsdkd'], (1, 23, 3, 45, 5))\n"
     ]
    }
   ],
   "source": [
    "tpl=(2,[1,2,3,4,5,'hsdkd'],(1,23,3,45,5))\n",
    "tpl[1][2]='python'\n",
    "print(tpl)  # tuple is not mutable but if tuple having list then list can be mutable"
   ]
  },
  {
   "cell_type": "markdown",
   "metadata": {},
   "source": []
  },
  {
   "cell_type": "code",
   "execution_count": null,
   "metadata": {},
   "outputs": [],
   "source": [
    "# we cannot change the elements in a tuple.\n",
    "# that also means we cannot delete or remove items from a tuple.\n",
    "# delete entire tuple using del keyword\n",
    "my_tuple=(1,1,2,3,4,)\n",
    "# deleting the tuple\n",
    "del my_tuple\n",
    "\n"
   ]
  },
  {
   "cell_type": "code",
   "execution_count": 12,
   "metadata": {},
   "outputs": [
    {
     "data": {
      "text/plain": [
       "2"
      ]
     },
     "execution_count": 12,
     "metadata": {},
     "output_type": "execute_result"
    }
   ],
   "source": [
    "# tuple count \n",
    "t=(1,2,3,4,5,5,6,67)\n",
    "t.count(5)"
   ]
  },
  {
   "cell_type": "code",
   "execution_count": 5,
   "metadata": {},
   "outputs": [
    {
     "name": "stdout",
     "output_type": "stream",
     "text": [
      "<class 'tuple'>\n"
     ]
    }
   ],
   "source": [
    "t=1,2,3,4,5,6\n",
    "print(type(t))"
   ]
  },
  {
   "cell_type": "code",
   "execution_count": 4,
   "metadata": {},
   "outputs": [
    {
     "name": "stdout",
     "output_type": "stream",
     "text": [
      "True\n",
      "False\n"
     ]
    }
   ],
   "source": [
    "t=(1, 2, 3, 4, 5, 'python', 'language')\n",
    "print(1 in t)\n",
    "print(7 in t)"
   ]
  },
  {
   "cell_type": "code",
   "execution_count": null,
   "metadata": {},
   "outputs": [
    {
     "name": "stdout",
     "output_type": "stream",
     "text": [
      "(1, 2, 3, 4, 5, 'python', 'language')\n",
      "(1, 2, 3, 4, 5, 1, 2, 3, 4, 5)\n"
     ]
    }
   ],
   "source": [
    "# concatination or tuple \n",
    "t=(1,2,3,4,5)\n",
    "t1=('python','language')\n",
    "t3=t+t1\n",
    "print(t3)\n",
    "t4=t*2 # repeatition of tuple\n",
    "print(t4)\n"
   ]
  },
  {
   "cell_type": "code",
   "execution_count": null,
   "metadata": {},
   "outputs": [
    {
     "name": "stdout",
     "output_type": "stream",
     "text": [
      "[1, 2, 3, 4, 5]\n",
      "(1, 2, 3, 4, 5)\n",
      "[5, 4, 3, 2, 1]\n",
      "(5, 4, 3, 2, 1)\n"
     ]
    }
   ],
   "source": [
    "# sorted method \n",
    "t=(1, 2, 3, 4, 5)\n",
    "tn=sorted(t)\n",
    "print(tn)\n",
    "print(t)\n",
    "treverce=sorted(t,reverse=True)# take elements in the tuple and return a new sorted list \n",
    "# does not sor the tuple itself\n",
    "print(treverce)# output will be in list [5, 4, 3, 2, 1]\n",
    "treverce=tuple(treverce)# output will be in tuple (5, 4, 3, 2, 1)\n",
    "print(treverce)# new tuple is created by converting list to tuple\n"
   ]
  },
  {
   "cell_type": "code",
   "execution_count": 20,
   "metadata": {},
   "outputs": [
    {
     "name": "stdout",
     "output_type": "stream",
     "text": [
      "[1, 5, 4]\n",
      "[1, 2, 4, 1, 2, 4, 1, 2, 4]\n"
     ]
    }
   ],
   "source": [
    "lst=[1,2,4]\n",
    "t=lst*3\n",
    "lst[1]=5\n",
    "print(lst)\n",
    "print(t)"
   ]
  },
  {
   "cell_type": "code",
   "execution_count": 16,
   "metadata": {},
   "outputs": [
    {
     "name": "stdout",
     "output_type": "stream",
     "text": [
      "sorted\n"
     ]
    }
   ],
   "source": [
    "x=(3,5,7,11,25,45)\n",
    "for i in range(len(x)-1):\n",
    "    if x[i]>x[i+1]:\n",
    "        print('not sorted')\n",
    "        break\n",
    "else:\n",
    "    print('sorted')"
   ]
  }
 ],
 "metadata": {
  "kernelspec": {
   "display_name": "Python 3",
   "language": "python",
   "name": "python3"
  },
  "language_info": {
   "codemirror_mode": {
    "name": "ipython",
    "version": 3
   },
   "file_extension": ".py",
   "mimetype": "text/x-python",
   "name": "python",
   "nbconvert_exporter": "python",
   "pygments_lexer": "ipython3",
   "version": "3.11.9"
  }
 },
 "nbformat": 4,
 "nbformat_minor": 2
}
