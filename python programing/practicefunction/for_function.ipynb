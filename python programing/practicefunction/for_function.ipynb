{
 "cells": [
  {
   "cell_type": "markdown",
   "id": "efd41341",
   "metadata": {},
   "source": [
    "1. Write a python program that take a number from user then add all \n",
    "the natural number which are divisible by 3 or 5 or  both till that input \n",
    "number. \n",
    "Sample input: \n",
    "Enter a number: 10 \n",
    "Output: 33                             \n",
    "(3+5+6+9+10) "
   ]
  },
  {
   "cell_type": "code",
   "execution_count": 3,
   "id": "c1551bc8",
   "metadata": {},
   "outputs": [
    {
     "data": {
      "text/plain": [
       "33"
      ]
     },
     "execution_count": 3,
     "metadata": {},
     "output_type": "execute_result"
    }
   ],
   "source": [
    "def add_divisible(n):\n",
    "    sum=0\n",
    "    for i in range(1,n+1):\n",
    "        if i%3==0 or i%5==0 :\n",
    "            sum+=i\n",
    "    return sum\n",
    "add_divisible(int(input()))"
   ]
  },
  {
   "cell_type": "markdown",
   "id": "2da85575",
   "metadata": {},
   "source": [
    "2. Write a python program that takes input from user then print the \n",
    "table of the entered number using for loop \n",
    "Example: If user enters ‘5’ then,  \n",
    "Output: 5 x 1 = 5 \n",
    "5 x 2=10 \n",
    "5 x 3 =15 \n",
    "5 x 4 =20 \n",
    "5 x 5 = 25 \n",
    "5 x 6 = 30 \n",
    "5 x 7 = 35  \n",
    "5 x 8 = 40 \n",
    "5 x 9 = 45 \n",
    "5 x 10 =50 "
   ]
  },
  {
   "cell_type": "code",
   "execution_count": 5,
   "id": "050d6540",
   "metadata": {},
   "outputs": [
    {
     "name": "stdout",
     "output_type": "stream",
     "text": [
      "5 * 1 = 5\n",
      "5 * 2 = 10\n",
      "5 * 3 = 15\n",
      "5 * 4 = 20\n",
      "5 * 5 = 25\n",
      "5 * 6 = 30\n",
      "5 * 7 = 35\n",
      "5 * 8 = 40\n",
      "5 * 9 = 45\n",
      "5 * 10 = 50\n"
     ]
    }
   ],
   "source": [
    "def table(n):\n",
    "    for i in range(1,11):\n",
    "        print(f'{n} * {i} = {i*n}')\n",
    "table(int(input()))\n"
   ]
  },
  {
   "cell_type": "markdown",
   "id": "378f3edb",
   "metadata": {},
   "source": [
    "3. Write a python program that print the given series. \n",
    "Expected Output: 20, 16, 12, 8, 4, 0 "
   ]
  },
  {
   "cell_type": "code",
   "execution_count": null,
   "id": "a569f24c",
   "metadata": {},
   "outputs": [
    {
     "name": "stdout",
     "output_type": "stream",
     "text": [
      "20,16,12,8,4,0,"
     ]
    }
   ],
   "source": [
    "def rev_series(n):\n",
    "    for i in range(n,-1,-4):\n",
    "        print(i,end=',')\n",
    "rev_series(int(input()))\n",
    "    "
   ]
  },
  {
   "cell_type": "markdown",
   "id": "4a1a22db",
   "metadata": {},
   "source": [
    "4. Write a python program to generate all the factors of the given \n",
    "number. Using for loop \n",
    "Input: 12 \n",
    "Output: 1, 2, 3, 4,6, 12 "
   ]
  },
  {
   "cell_type": "code",
   "execution_count": 11,
   "id": "5a9bd800",
   "metadata": {},
   "outputs": [
    {
     "name": "stdout",
     "output_type": "stream",
     "text": [
      "1,2,3,4,6,12,"
     ]
    }
   ],
   "source": [
    "def factor(n):\n",
    "    for i in range(1,n+1):\n",
    "        if n%i==0:\n",
    "            print(i,end=',')\n",
    "factor(int(input()))"
   ]
  },
  {
   "cell_type": "markdown",
   "id": "cbd430b5",
   "metadata": {},
   "source": [
    "5. Write a Python program to find the sum of digit of a given number \n",
    "using for loop. (between 100 and 999). \n",
    "Input: 123 \n",
    "Output: 6 "
   ]
  },
  {
   "cell_type": "code",
   "execution_count": 14,
   "id": "af355e04",
   "metadata": {},
   "outputs": [
    {
     "data": {
      "text/plain": [
       "6"
      ]
     },
     "execution_count": 14,
     "metadata": {},
     "output_type": "execute_result"
    }
   ],
   "source": [
    "def sum_digit(n):\n",
    "    s=0\n",
    "    for i in range(3):\n",
    "        s+=n%10 \n",
    "        n//=10\n",
    "    return s\n",
    "sum_digit(int(input()))"
   ]
  },
  {
   "cell_type": "markdown",
   "id": "dff9d39e",
   "metadata": {},
   "source": [
    "6. write a python program that takes number from user then   prints \n",
    "count of even and odd number from 1 to till that number \n",
    "Sample input: \n",
    "Enter a number: 10 \n",
    "Output: \n",
    "Count_of_even_no.s =  5 \n",
    "Count_of_odd_no.s = 5 "
   ]
  },
  {
   "cell_type": "code",
   "execution_count": 17,
   "id": "bb1c95a7",
   "metadata": {},
   "outputs": [
    {
     "name": "stdout",
     "output_type": "stream",
     "text": [
      "count of even = 5 \n",
      "count of odd = 5\n"
     ]
    }
   ],
   "source": [
    "def cout_evn_odd(n):\n",
    "    evn_count=0\n",
    "    odd_count=0\n",
    "    for i in range(1,n+1):\n",
    "        if i%2==0:\n",
    "            evn_count+=1\n",
    "        else:\n",
    "            odd_count+=1\n",
    "    print(f'count of even = {evn_count} \\ncount of odd = {odd_count}')\n",
    "cout_evn_odd(int(input()))\n"
   ]
  },
  {
   "cell_type": "markdown",
   "id": "87ef8ca4",
   "metadata": {},
   "source": [
    "7. Write a Python program to count how many numbers between 1 \n",
    "and 200 are divisible by 5 but not by 2. "
   ]
  },
  {
   "cell_type": "code",
   "execution_count": 21,
   "id": "149ffef7",
   "metadata": {},
   "outputs": [
    {
     "data": {
      "text/plain": [
       "20"
      ]
     },
     "execution_count": 21,
     "metadata": {},
     "output_type": "execute_result"
    }
   ],
   "source": [
    "def count_devisible(n):\n",
    "    count=0\n",
    "    for i in  range(1,n+1):\n",
    "        if i%5==0 and i%2!=0:\n",
    "            count+=1\n",
    "    return count\n",
    "count_devisible(int(input()))\n"
   ]
  },
  {
   "cell_type": "markdown",
   "id": "e160d6ac",
   "metadata": {},
   "source": [
    "8. Write a Python program to find the reverse of a given number \n",
    "using for loop. (between 100 and 999). \n",
    "Input: 897 \n",
    "Output: 798 "
   ]
  },
  {
   "cell_type": "code",
   "execution_count": 1,
   "id": "a04079a5",
   "metadata": {},
   "outputs": [
    {
     "data": {
      "text/plain": [
       "321"
      ]
     },
     "execution_count": 1,
     "metadata": {},
     "output_type": "execute_result"
    }
   ],
   "source": [
    "def reverse(n):\n",
    "    s=0\n",
    "    for i in range(3):\n",
    "        r=n%10\n",
    "        s=s*10+r\n",
    "        n//=10\n",
    "    return s\n",
    "reverse(int(input()))\n"
   ]
  },
  {
   "cell_type": "markdown",
   "id": "7eb65b09",
   "metadata": {},
   "source": [
    "9. Write a python program to input a number and calculate the \n",
    "‘double’ factorial using for loop. \n",
    "Explanation: Double factorial, \n",
    "• For an even integer n, the double factorial is the product of all \n",
    "even integers less than or equal to n. \n",
    "• For an odd integer p, the double factorial is the product of all \n",
    "odd integers less than or equal to p. "
   ]
  },
  {
   "cell_type": "code",
   "execution_count": 8,
   "id": "04e6ead4",
   "metadata": {},
   "outputs": [
    {
     "data": {
      "text/plain": [
       "15"
      ]
     },
     "execution_count": 8,
     "metadata": {},
     "output_type": "execute_result"
    }
   ],
   "source": [
    "def double_factorial(n):\n",
    "    p=1\n",
    "    if n%2==0:\n",
    "        for i in range(1,n+1):\n",
    "            if i%2==0:\n",
    "                p*=i\n",
    "    else:\n",
    "        for i in range(1,n+1):\n",
    "            if i%2!=0:\n",
    "                p*=i\n",
    "    return p\n",
    "double_factorial(int(input()))\n"
   ]
  },
  {
   "cell_type": "markdown",
   "id": "3a02656d",
   "metadata": {},
   "source": [
    "10. Write a python program which takes number as an input and \n",
    "check whether that number is prime or not. \n",
    "Input: 13 \n",
    "Output: prime"
   ]
  },
  {
   "cell_type": "code",
   "execution_count": 24,
   "id": "d61e61c4",
   "metadata": {},
   "outputs": [
    {
     "name": "stdout",
     "output_type": "stream",
     "text": [
      "False\n"
     ]
    }
   ],
   "source": [
    "def is_prime(n):\n",
    "    if n<=1:\n",
    "        print(False)\n",
    "        return\n",
    "    for i in range(2,n):\n",
    "        if n%i==0:\n",
    "            print(False)\n",
    "            break\n",
    "    else:\n",
    "        print(True)\n",
    "is_prime(int(input()))"
   ]
  },
  {
   "cell_type": "markdown",
   "id": "2820020c",
   "metadata": {},
   "source": []
  }
 ],
 "metadata": {
  "kernelspec": {
   "display_name": "Python 3",
   "language": "python",
   "name": "python3"
  },
  "language_info": {
   "codemirror_mode": {
    "name": "ipython",
    "version": 3
   },
   "file_extension": ".py",
   "mimetype": "text/x-python",
   "name": "python",
   "nbconvert_exporter": "python",
   "pygments_lexer": "ipython3",
   "version": "3.11.9"
  }
 },
 "nbformat": 4,
 "nbformat_minor": 5
}
