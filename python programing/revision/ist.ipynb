{
 "cells": [
  {
   "cell_type": "markdown",
   "metadata": {},
   "source": [
    "1. Write a python program that take a number from user then add all \n",
    "the natural number which are divisible by 3 or 5 both till that input \n",
    "number. \n",
    "Sample input: \n",
    "Enter a number: 10 \n",
    "Output: 33                             \n",
    "(3+5+6+9+10) "
   ]
  },
  {
   "cell_type": "code",
   "execution_count": 2,
   "metadata": {},
   "outputs": [
    {
     "name": "stdout",
     "output_type": "stream",
     "text": [
      "33\n"
     ]
    }
   ],
   "source": [
    "n=int(input())\n",
    "add=0\n",
    "for i in range(n+1):\n",
    "    if i%3==0 or i%5==0:\n",
    "        add+=i\n",
    "print(add)"
   ]
  },
  {
   "cell_type": "markdown",
   "metadata": {},
   "source": [
    "2. Write a python program that takes input from user then print the \n",
    "table of the entered number using for loop \n",
    "Example: If user enters ‘5’ then,  \n",
    "Output: 5 x 1 = 5 \n",
    "5 x 2=10 \n",
    "5 x 3 =15 \n",
    "5 x 4 =20 \n",
    "5 x 5 = 25 \n",
    "5 x 6 = 30 \n",
    "5 x 7 = 35  \n",
    "5 x 8 = 40 \n",
    "5 x 9 = 45 \n",
    "5 x 10 =50 \n"
   ]
  },
  {
   "cell_type": "code",
   "execution_count": 3,
   "metadata": {},
   "outputs": [
    {
     "name": "stdout",
     "output_type": "stream",
     "text": [
      "5 * 1 = 5\n",
      "5 * 2 = 10\n",
      "5 * 3 = 15\n",
      "5 * 4 = 20\n",
      "5 * 5 = 25\n",
      "5 * 6 = 30\n",
      "5 * 7 = 35\n",
      "5 * 8 = 40\n",
      "5 * 9 = 45\n",
      "5 * 10 = 50\n"
     ]
    }
   ],
   "source": [
    "n=int(input())\n",
    "for i in range(1,11):\n",
    "    print(n,'*',i,'=',n*i)"
   ]
  },
  {
   "cell_type": "markdown",
   "metadata": {},
   "source": [
    "3. Write a python program that print the given series. \n",
    "Expected Output: 20, 16, 12, 8, 4, 0 "
   ]
  },
  {
   "cell_type": "code",
   "execution_count": 4,
   "metadata": {},
   "outputs": [
    {
     "name": "stdout",
     "output_type": "stream",
     "text": [
      "20,16,12,8,4,0,"
     ]
    }
   ],
   "source": [
    "for i in range(20,-1,-4):\n",
    "    print(i,end=',')"
   ]
  },
  {
   "cell_type": "markdown",
   "metadata": {},
   "source": [
    "4. Write a python program to generate all the factors of the given \n",
    "number. Using for loop \n",
    "Input: 12 \n",
    "Output: 1, 2, 3, 4, 12 "
   ]
  },
  {
   "cell_type": "code",
   "execution_count": 5,
   "metadata": {},
   "outputs": [
    {
     "name": "stdout",
     "output_type": "stream",
     "text": [
      "1,2,3,4,6,12,"
     ]
    }
   ],
   "source": [
    "n= int(input())\n",
    "for i in range(1,n+1):\n",
    "    if n%i==0:\n",
    "        print(i,end=',')"
   ]
  },
  {
   "cell_type": "markdown",
   "metadata": {},
   "source": [
    "5. Write a Python program to find the sum of digit of a given number \n",
    "using for loop. (between 100 and 999). \n",
    "Input: 123 \n",
    "Output: 6 "
   ]
  },
  {
   "cell_type": "code",
   "execution_count": 7,
   "metadata": {},
   "outputs": [
    {
     "name": "stdout",
     "output_type": "stream",
     "text": [
      "6\n"
     ]
    }
   ],
   "source": [
    "n=int(input())\n",
    "s=0\n",
    "for i in range(3):\n",
    "    r=n%10\n",
    "    s+=r\n",
    "    n//=10\n",
    "print(s)\n"
   ]
  },
  {
   "cell_type": "markdown",
   "metadata": {},
   "source": [
    "6. write a python program that takes number from user then   prints \n",
    "count of even and odd number from 1 to till that number \n",
    "Sample input: \n",
    "Enter a number: 10 \n",
    "Output: \n",
    "Count_of_even_no.s =  5 \n",
    "Count_of_odd_no.s = 5 "
   ]
  },
  {
   "cell_type": "markdown",
   "metadata": {},
   "source": [
    "7. Write a Python program to count how many numbers between 1 \n",
    "and 200 are divisible by 5 but not by 2. "
   ]
  },
  {
   "cell_type": "markdown",
   "metadata": {},
   "source": [
    "8. Write a Python program to find the reverse of a given number \n",
    "using for loop. (between 100 and 999). \n",
    "Input: 897 \n",
    "Output: 798 "
   ]
  },
  {
   "cell_type": "markdown",
   "metadata": {},
   "source": [
    "9. Write a python program to input a number and calculate the \n",
    "‘double’ factorial using for loop. \n",
    "Explanation: Double factorial, \n",
    "• For an even integer n, the double factorial is the product of all \n",
    "even integers less than or equal to n. \n",
    "• For an odd integer p, the double factorial is the product of all \n",
    "odd integers less than or equal to p. "
   ]
  },
  {
   "cell_type": "markdown",
   "metadata": {},
   "source": [
    "10. Write a python program which takes number as an input and \n",
    "check whether that number is prime or not. \n",
    "Input: 13 \n",
    "Output: prime"
   ]
  },
  {
   "cell_type": "code",
   "execution_count": 11,
   "metadata": {},
   "outputs": [
    {
     "name": "stdout",
     "output_type": "stream",
     "text": [
      "Name:saquib \n",
      "Age:20 \n",
      "Hight:5.800000 \n",
      "\n"
     ]
    }
   ],
   "source": [
    "name='saquib'\n",
    "age=20\n",
    "hight=5.8\n",
    "print('Name:%s \\nAge:%d \\nHight:%f \\n' %(name,age,hight))"
   ]
  },
  {
   "cell_type": "code",
   "execution_count": 15,
   "metadata": {},
   "outputs": [
    {
     "name": "stdout",
     "output_type": "stream",
     "text": [
      "Name: saquib, Age: 20, Hight: 5.8\n"
     ]
    }
   ],
   "source": [
    "name='saquib'\n",
    "age=20\n",
    "hight=5.8\n",
    "print('Name: {0}, Age: {1}, Hight: {2}'.format(name,age,hight))"
   ]
  },
  {
   "cell_type": "code",
   "execution_count": 20,
   "metadata": {},
   "outputs": [
    {
     "name": "stdout",
     "output_type": "stream",
     "text": [
      "My name is saquib\n",
      "My age is 20\n",
      "My hight is 5.80\n"
     ]
    }
   ],
   "source": [
    "name='saquib'\n",
    "age=20\n",
    "hight=5.8\n",
    "print(f'My name is {name}\\nMy age is {age}\\nMy hight is {hight:.2f}')"
   ]
  },
  {
   "cell_type": "code",
   "execution_count": 4,
   "metadata": {},
   "outputs": [
    {
     "name": "stdout",
     "output_type": "stream",
     "text": [
      "is the person an adult? yes\n"
     ]
    }
   ],
   "source": [
    "adult=True\n",
    "print(f\"is the person an adult? {'yes' if adult else 'no'}\")"
   ]
  },
  {
   "cell_type": "code",
   "execution_count": 2,
   "metadata": {},
   "outputs": [
    {
     "name": "stdout",
     "output_type": "stream",
     "text": [
      "Is the person an adult? Yes\n"
     ]
    }
   ],
   "source": [
    "is_adult = True\n",
    "print(f\"Is the person an adult? {'Yes' if is_adult else 'No'}\")"
   ]
  }
 ],
 "metadata": {
  "kernelspec": {
   "display_name": "Python 3",
   "language": "python",
   "name": "python3"
  },
  "language_info": {
   "codemirror_mode": {
    "name": "ipython",
    "version": 3
   },
   "file_extension": ".py",
   "mimetype": "text/x-python",
   "name": "python",
   "nbconvert_exporter": "python",
   "pygments_lexer": "ipython3",
   "version": "3.11.9"
  }
 },
 "nbformat": 4,
 "nbformat_minor": 2
}
