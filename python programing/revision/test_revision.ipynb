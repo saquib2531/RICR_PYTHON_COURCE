{
 "cells": [
  {
   "cell_type": "markdown",
   "id": "18831baf",
   "metadata": {},
   "source": [
    "Write a Python program to find those numbers which are divisible by 7 and multiples of 5, between 1500 and 2700 (both included)."
   ]
  },
  {
   "cell_type": "code",
   "execution_count": 3,
   "id": "e98dc7b9",
   "metadata": {},
   "outputs": [
    {
     "name": "stdout",
     "output_type": "stream",
     "text": [
      "1505,1512,1519,1526,1533,1540,1547,1554,1561,1568,1575,1582,1589,1596,1603,1610,1617,1624,1631,1638,1645,1652,1659,1666,1673,1680,1687,1694,1701,1708,1715,1722,1729,1736,1743,1750,1757,1764,1771,1778,1785,1792,1799,1806,1813,1820,1827,1834,1841,1848,1855,1862,1869,1876,1883,1890,1897,1904,1911,1918,1925,1932,1939,1946,1953,1960,1967,1974,1981,1988,1995,2002,2009,2016,2023,2030,2037,2044,2051,2058,2065,2072,2079,2086,2093,2100,2107,2114,2121,2128,2135,2142,2149,2156,2163,2170,2177,2184,2191,2198,2205,2212,2219,2226,2233,2240,2247,2254,2261,2268,2275,2282,2289,2296,2303,2310,2317,2324,2331,2338,2345,2352,2359,2366,2373,2380,2387,2394,2401,2408,2415,2422,2429,2436,2443,2450,2457,2464,2471,2478,2485,2492,2499,2506,2513,2520,2527,2534,2541,2548,2555,2562,2569,2576,2583,2590,2597,2604,2611,2618,2625,2632,2639,2646,2653,2660,2667,2674,2681,2688,2695,"
     ]
    }
   ],
   "source": [
    "for i in range(1500,2701,1):\n",
    "    if i%7==0:\n",
    "        print(i, end=',')\n",
    "    elif 5%i==0:\n",
    "        print(i,end=',')"
   ]
  },
  {
   "cell_type": "markdown",
   "id": "a757479a",
   "metadata": {},
   "source": [
    "Write a Python program to convert temperatures to and from Celsius and Fahrenheit.\n",
    "\n",
    "[ Formula : °F = (°C × 9/5) + 32  [ where c = temperature in celsius and f = temperature in fahrenheit ]\n",
    "\n",
    "Expected Output :\n",
    "\n",
    "60°C is 140 in Fahrenheit\n",
    "45°F is 7 in Celsius"
   ]
  },
  {
   "cell_type": "code",
   "execution_count": 1,
   "id": "462b4fa6",
   "metadata": {},
   "outputs": [
    {
     "name": "stdout",
     "output_type": "stream",
     "text": [
      "140.0\n"
     ]
    }
   ],
   "source": [
    "c=eval(input('temperature in celsius'))   # for celsius to fahernheit\n",
    "f1=(c*9/5)+32\n",
    "print(f1)\n"
   ]
  },
  {
   "cell_type": "code",
   "execution_count": 4,
   "id": "22d5b2e3",
   "metadata": {},
   "outputs": [
    {
     "name": "stdout",
     "output_type": "stream",
     "text": [
      "7.222222222222222\n"
     ]
    }
   ],
   "source": [
    "f=eval(input('temperature in fehernheit'))   #°C = (°F - 32) * 5/9. \n",
    "c=(f-32)*(5/9)\n",
    "print(c)"
   ]
  },
  {
   "cell_type": "markdown",
   "id": "4aace659",
   "metadata": {},
   "source": [
    "Write a Python program to guess a number between 1 and 9.\n",
    "\n",
    "Note : User is prompted to enter a guess. If the user guesses wrong then the prompt appears again until the guess is correct, on successful guess, user will get a \"Well guessed!\" message, and the program will exit."
   ]
  },
  {
   "cell_type": "code",
   "execution_count": 23,
   "id": "a4957f35",
   "metadata": {},
   "outputs": [
    {
     "name": "stdout",
     "output_type": "stream",
     "text": [
      "Well gussed!\n"
     ]
    }
   ],
   "source": [
    "n=eval(input())\n",
    "while True:\n",
    "    if n>=1 and n<=9:\n",
    "            print('Well gussed!')\n",
    "            break\n",
    "    else:\n",
    "        n=eval(input())\n"
   ]
  },
  {
   "cell_type": "markdown",
   "id": "5319037c",
   "metadata": {},
   "source": [
    "Write a Python program that accepts a word from the user and reverses it."
   ]
  },
  {
   "cell_type": "code",
   "execution_count": 26,
   "id": "f581a1fc",
   "metadata": {},
   "outputs": [
    {
     "name": "stdout",
     "output_type": "stream",
     "text": [
      "11,10,9,8,7,6,5,4,3,2,1,"
     ]
    }
   ],
   "source": [
    "n=int(input())\n",
    "for i in range(n,0,-1):\n",
    "    print(i,end=',')\n"
   ]
  },
  {
   "cell_type": "markdown",
   "id": "324130b7",
   "metadata": {},
   "source": [
    "Write a Python program to count the number of even and odd numbers in a series of numbers\n",
    "\n",
    "Sample numbers : numbers = (1, 2, 3, 4, 5, 6, 7, 8, 9) \n",
    "\n",
    "Expected Output :\n",
    "\n",
    "Number of even numbers : 5\n",
    "Number of odd numbers : 4"
   ]
  },
  {
   "cell_type": "code",
   "execution_count": 28,
   "id": "43a07391",
   "metadata": {},
   "outputs": [
    {
     "name": "stdout",
     "output_type": "stream",
     "text": [
      "no. of even = 6 \n",
      "no. of odd = 6\n"
     ]
    }
   ],
   "source": [
    "n=int(input())\n",
    "evn=0\n",
    "odd=0\n",
    "for i in range(n+1):\n",
    "    if i%2==0:\n",
    "        evn+=1\n",
    "    else:\n",
    "        odd+=1\n",
    "print(f'no. of even = {evn} \\nno. of odd = {odd}')"
   ]
  },
  {
   "cell_type": "markdown",
   "id": "a79b656e",
   "metadata": {},
   "source": [
    "Write a Python program that prints each item and its corresponding type from the following list.\n",
    "datalist = [1452, 11.23, 1+2j, True, 'w3resource', (0, -1), [5, 12], {\"class\":'V', \"section\":'A'}]"
   ]
  },
  {
   "cell_type": "code",
   "execution_count": 30,
   "id": "cf70d440",
   "metadata": {},
   "outputs": [
    {
     "name": "stdout",
     "output_type": "stream",
     "text": [
      "1452 <class 'int'>\n",
      "11.23 <class 'float'>\n",
      "(1+2j) <class 'complex'>\n",
      "True <class 'bool'>\n",
      "w3resource <class 'str'>\n",
      "(0, -1) <class 'tuple'>\n",
      "[5, 12] <class 'list'>\n",
      "{'class': 'V', 'section': 'A'} <class 'dict'>\n"
     ]
    }
   ],
   "source": [
    "x = [1452, 11.23, 1+2j, True, 'w3resource', (0, -1), [5, 12], {\"class\":'V', \"section\":'A'}]\n",
    "for i in range(len(x)):\n",
    "    print(x[i],type(x[i]))\n"
   ]
  },
  {
   "cell_type": "markdown",
   "id": "f9794e1b",
   "metadata": {},
   "source": [
    "Write a Python program that prints all the numbers from 0 to 6 except 3 and 6.\n",
    "\n",
    "Note : Use 'continue' statement.\n",
    "\n",
    "Expected Output : 0 1 2 4 5"
   ]
  },
  {
   "cell_type": "code",
   "execution_count": 36,
   "id": "5e358c57",
   "metadata": {},
   "outputs": [],
   "source": [
    "n=int(input())\n",
    "for i in range(n+1):\n",
    "    if i==3 and i==6:\n",
    "        print(i,end=' ')\n",
    "        continue\n",
    "    "
   ]
  },
  {
   "cell_type": "markdown",
   "id": "a4ec4d6e",
   "metadata": {},
   "source": [
    "9. Fibonacci Series Between 0 and 50\n",
    "\n",
    "Write a Python program to get the Fibonacci series between 0 and 50.\n",
    "\n",
    "Note : The Fibonacci Sequence is the series of numbers :\n",
    "formula : F(n)=F(n−1)+F(n−2)\n",
    "\n",
    "\n",
    "0, 1, 1, 2, 3, 5, 8, 13, 21, ....\n",
    "Every next number is found by adding up the two numbers before it.\n",
    "\n",
    "Expected Output : 1 1 2 3 5 8 13 21 34\n"
   ]
  },
  {
   "cell_type": "code",
   "execution_count": 5,
   "id": "8f4dc8c1",
   "metadata": {},
   "outputs": [
    {
     "name": "stdout",
     "output_type": "stream",
     "text": [
      "0,1,1,3,5,7,9,11,13,15,17,19,21,23,25,27,29,31,33,35,37,39,41,43,45,47,49,51,53,55,57,59,61,63,65,67,69,71,73,75,77,79,81,83,85,87,89,91,93,95,97,"
     ]
    }
   ],
   "source": [
    "n=50\n",
    "print(0,end=',')\n",
    "print(1,end=',')\n",
    "for i in range(2,n+1):\n",
    "\n",
    "    if i>1:\n",
    "        f=(i-1)+(i-2)\n",
    "        print(f,end=',')\n",
    "\n",
    "\n",
    "    "
   ]
  },
  {
   "cell_type": "markdown",
   "id": "00f567a1",
   "metadata": {},
   "source": [
    "10. FizzBuzz Variation\n",
    "\n",
    "Write a Python program that iterates the integers from 1 to 50. For multiples of three print \"Fizz\" instead of the number and for multiples of five print \"Buzz\". For numbers that are multiples of three and five, print \"FizzBuzz\".\n",
    "\n",
    "Sample Output :\n",
    "\n",
    "fizzbuzz\n",
    "1\n",
    "2\n",
    "fizz\n",
    "4\n",
    "buzz\n"
   ]
  },
  {
   "cell_type": "code",
   "execution_count": 11,
   "id": "432a9c53",
   "metadata": {},
   "outputs": [
    {
     "name": "stdout",
     "output_type": "stream",
     "text": [
      "Buzz\n"
     ]
    }
   ],
   "source": [
    "n=int(input())\n",
    "for i in range(1):\n",
    "    if n%5==0 and n%3==0:\n",
    "        print(\"FizzBuzz\")\n",
    "    elif n%5==0:\n",
    "        print(\"Buzz\")\n",
    "    elif n%3==0:\n",
    "        print(\"Fizz\")"
   ]
  },
  {
   "cell_type": "markdown",
   "id": "ee88db33",
   "metadata": {},
   "source": [
    "11. Two-Dimensional Array (Multiplication Table)\n",
    "\n",
    "Write a Python program that takes two digits m (row) and n (column) as input and generates a two-dimensional array. The element value in the i-th row and j-th column of the array should be i*j.\n",
    "\n",
    "Note :\n",
    "i = 0,1.., m-1\n",
    "j = 0,1, n-1.\n",
    "\n",
    "Test Data : Rows = 3, Columns = 4\n",
    "Expected Result : [[0, 0, 0, 0], [0, 1, 2, 3], [0, 2, 4, 6]]\n",
    "\n"
   ]
  },
  {
   "cell_type": "code",
   "execution_count": 17,
   "id": "0d5b9f07",
   "metadata": {},
   "outputs": [
    {
     "name": "stdout",
     "output_type": "stream",
     "text": [
      "[[0, 0, 0, 0], [0, 1, 2, 3], [0, 2, 4, 6]]\n"
     ]
    }
   ],
   "source": [
    "m=int(input('row'))\n",
    "n=int(input('column'))\n",
    "x=[]\n",
    "for i in range(m):\n",
    "    l=[]\n",
    "    for j in range(n):\n",
    "          \n",
    "        l.append(i*j )\n",
    "    x.append(l)\n",
    "print(x)"
   ]
  },
  {
   "cell_type": "markdown",
   "id": "e9b578f0",
   "metadata": {},
   "source": [
    "12. Sequence of Lines to Lowercase\n",
    "\n",
    "Write a Python program that accepts a sequence of lines (blank line to terminate) as input and prints the lines as output (all characters in lower case).\n"
   ]
  },
  {
   "cell_type": "code",
   "execution_count": null,
   "id": "6cb4de30",
   "metadata": {},
   "outputs": [
    {
     "name": "stdout",
     "output_type": "stream",
     "text": [
      "SAQUIB\n",
      "SOHEL\n",
      "RAHMAT\\\n"
     ]
    }
   ],
   "source": [
    "x=[]\n",
    "while True:\n",
    "    n=input()\n",
    "    if n:\n",
    "        x.append(n.lower())\n",
    "    else:\n",
    "        break\n",
    "for i in x:\n",
    "    print(i)"
   ]
  },
  {
   "cell_type": "markdown",
   "id": "ede59f47",
   "metadata": {},
   "source": [
    "13. Filter 4-Digit Binary Numbers Divisible by 5\n",
    "\n",
    "Write a Python program that accepts a sequence of comma separated 4 digit binary numbers as its input. The program will print the numbers that are divisible by 5 in a comma separated sequence.\n",
    "\n",
    "Sample Data : 0100,0011,1010,1001,1100,1001\n",
    "\n",
    "Expected Output : 1010"
   ]
  },
  {
   "cell_type": "code",
   "execution_count": null,
   "id": "5ee7e6c3",
   "metadata": {},
   "outputs": [
    {
     "name": "stdout",
     "output_type": "stream",
     "text": [
      "['1010', '1100']\n",
      "1010\n",
      "10\n",
      "1100\n",
      "12\n",
      "['1010']\n",
      "1010\n"
     ]
    }
   ],
   "source": [
    "x=[]\n",
    "y=[n for n in input().split(',')]\n",
    "for i in y:\n",
    "    p=int(i,2)\n",
    "    if p%5==0:\n",
    "        x.append(i)\n",
    "print(','.join(x))\n"
   ]
  },
  {
   "cell_type": "markdown",
   "id": "30a7d501",
   "metadata": {},
   "source": [
    "14. Count Digits and Letters in a String\n",
    "\n",
    "Write a Python program that accepts a string and calculates the number of digits and letters. Computer programming coursesLoop analyzer\n",
    "\n",
    "Sample Data : Python 3.2\n",
    "\n",
    "Expected Output :\n",
    "\n",
    "Letters 6\n",
    "Digits 2\n"
   ]
  },
  {
   "cell_type": "code",
   "execution_count": 25,
   "id": "8b5b2778",
   "metadata": {},
   "outputs": [
    {
     "ename": "SyntaxError",
     "evalue": "invalid syntax (<string>, line 1)",
     "output_type": "error",
     "traceback": [
      "Traceback \u001b[1;36m(most recent call last)\u001b[0m:\n",
      "\u001b[0m  File \u001b[0;32m~\\AppData\\Local\\Packages\\PythonSoftwareFoundation.Python.3.11_qbz5n2kfra8p0\\LocalCache\\local-packages\\Python311\\site-packages\\IPython\\core\\interactiveshell.py:3577\u001b[0m in \u001b[0;35mrun_code\u001b[0m\n    exec(code_obj, self.user_global_ns, self.user_ns)\u001b[0m\n",
      "\u001b[1;36m  Cell \u001b[1;32mIn[25], line 1\u001b[1;36m\n\u001b[1;33m    n=eval(input())\u001b[1;36m\n",
      "\u001b[1;36m  File \u001b[1;32m<string>:1\u001b[1;36m\u001b[0m\n\u001b[1;33m    python 3.4\u001b[0m\n\u001b[1;37m           ^\u001b[0m\n\u001b[1;31mSyntaxError\u001b[0m\u001b[1;31m:\u001b[0m invalid syntax\n"
     ]
    }
   ],
   "source": [
    "n=eval(input())\n",
    "if n == type(str):\n",
    "    print(len(n))\n",
    "else:\n",
    "    print(len(n))"
   ]
  },
  {
   "cell_type": "markdown",
   "id": "2b127233",
   "metadata": {},
   "source": [
    "15. Password Validity Checker\n",
    "\n",
    "Write a Python program to check the validity of passwords input by users.\n",
    "\n",
    "Validation :\n",
    "\n",
    "At least 1 letter between [a-z] and 1 letter between [A-Z].\n",
    "At least 1 number between [0-9].\n",
    "At least 1 character from [$#@].\n",
    "Minimum length 6 characters.\n",
    "Maximum length 16 characters."
   ]
  },
  {
   "cell_type": "code",
   "execution_count": null,
   "id": "571e9bf1",
   "metadata": {},
   "outputs": [],
   "source": [
    "n=eval(input())\n",
    "for i in n:\n",
    "    if "
   ]
  },
  {
   "cell_type": "markdown",
   "id": "04eb6f76",
   "metadata": {},
   "source": [
    "16. Numbers with All Even Digits\n",
    "\n",
    "Write a Python program to find numbers between 100 and 400 (both included) where each digit of a number is an even number. The numbers obtained should be printed in a comma-separated sequence.\n"
   ]
  },
  {
   "cell_type": "markdown",
   "id": "3527de92",
   "metadata": {},
   "source": [
    "17. Alphabet Pattern 'A'\n",
    "\n",
    "Write a Python program to print the alphabet pattern 'A'.\n",
    "\n",
    "Expected Output:\n",
    "\n",
    "  ***                                                                   \n",
    " *   *                                                                  \n",
    " *   *                                                                  \n",
    " *****                                                                  \n",
    " *   *                                                                  \n",
    " *   *                                                                  \n",
    " *   *\n"
   ]
  },
  {
   "cell_type": "markdown",
   "id": "e596f239",
   "metadata": {},
   "source": [
    "18. Alphabet Pattern 'D'\n",
    "\n",
    "Write a Python program to print the alphabet pattern 'D'.\n",
    "\n",
    "Expected Output:\n",
    "\n",
    " ****                                                                   \n",
    " *   *                                                                  \n",
    " *   *                                                                  \n",
    " *   *                                                                  \n",
    " *   *                                                                  \n",
    " *   *                                                                  \n",
    " **** \n"
   ]
  },
  {
   "cell_type": "markdown",
   "id": "2e534330",
   "metadata": {},
   "source": [
    "19. Alphabet Pattern 'E'\n",
    "\n",
    "Write a Python program to print the alphabet pattern 'E'.\n",
    "\n",
    "Expected Output:\n",
    "\n",
    " *****                                                                  \n",
    " *                                                                      \n",
    " *                                                                      \n",
    " ****                                                                   \n",
    " *                                                                      \n",
    " *                                                                      \n",
    " *****\n"
   ]
  },
  {
   "cell_type": "markdown",
   "id": "99a68b56",
   "metadata": {},
   "source": [
    "20. Alphabet Pattern 'G'\n",
    "\n",
    "Write a Python program to print the alphabet pattern 'G'.\n",
    "\n",
    "Expected Output:\n",
    "\n",
    "  ***                                                                   \n",
    " *   *                                                                  \n",
    " *                                                                      \n",
    " * ***                                                                  \n",
    " *   *                                                                  \n",
    " *   *                                                                  \n",
    "  *** \n"
   ]
  },
  {
   "cell_type": "markdown",
   "id": "68c25ed6",
   "metadata": {},
   "source": [
    "21. Alphabet Pattern 'L'\n",
    "\n",
    "Write a Python program to print the alphabet pattern 'L'.\n",
    "\n",
    "Expected Output:\n",
    "\n",
    " *                                                                      \n",
    " *                                                                      \n",
    " *                                                                      \n",
    " *                                                                      \n",
    " *                                                                      \n",
    " *                                                                      \n",
    " *****\n"
   ]
  },
  {
   "cell_type": "markdown",
   "id": "32d70ec1",
   "metadata": {},
   "source": [
    "22. Alphabet Pattern 'M'\n",
    "\n",
    "Write a Python program to print the alphabet pattern 'M'.\n",
    "\n",
    "Expected Output:\n",
    "\n",
    "  *       *                                                             \n",
    "  *       *                                                             \n",
    "  * *   * *                                                             \n",
    "  *   *   *                                                             \n",
    "  *       *                                                             \n",
    "  *       *                                                             \n",
    "  *       *\n"
   ]
  },
  {
   "cell_type": "markdown",
   "id": "72121227",
   "metadata": {},
   "source": [
    "23. Alphabet Pattern 'O'\n",
    "\n",
    "Write a Python program to print the alphabet pattern 'O'.\n",
    "\n",
    "Expected Output:\n",
    "\n",
    "  ***                                                                   \n",
    " *   *                                                                  \n",
    " *   *                                                                  \n",
    " *   *                                                                  \n",
    " *   *                                                                  \n",
    " *   *                                                                  \n",
    "  *** \n"
   ]
  },
  {
   "cell_type": "markdown",
   "id": "6105b51e",
   "metadata": {},
   "source": [
    "24. Alphabet Pattern 'P'\n",
    "\n",
    "Write a Python program to print the alphabet pattern 'P'.\n",
    "\n",
    "Expected Output:\n",
    "\n",
    " ****                                                                   \n",
    " *   *                                                                  \n",
    " *   *                                                                  \n",
    " ****                                                                   \n",
    " *                                                                      \n",
    " *                                                                      \n",
    " *  \n"
   ]
  },
  {
   "cell_type": "markdown",
   "id": "4d81ee73",
   "metadata": {},
   "source": [
    "25. Alphabet Pattern 'R'\n",
    "\n",
    "Write a Python program to print the alphabet pattern 'R'.\n",
    "\n",
    "Expected Output:\n",
    "\n",
    " ****                                                                   \n",
    " *   *                                                                  \n",
    " *   *                                                                  \n",
    " ****                                                                   \n",
    " * *                                                                    \n",
    " *  *                                                                   \n",
    " *   *\n"
   ]
  },
  {
   "cell_type": "markdown",
   "id": "faca5457",
   "metadata": {},
   "source": [
    "26. Mixed Patterns\n",
    "\n",
    "Write a Python program to print the following patterns.\n",
    "\n",
    "Expected Output:\n",
    "\n",
    "  ****                                                                  \n",
    " *                                                                      \n",
    " *                                                                      \n",
    "  ***                                                                   \n",
    "     *                                                                  \n",
    "     *                                                                  \n",
    " **** \n",
    " \n",
    " ooooooooooooooooo                                                       \n",
    "ooooooooooooooooo                                                       \n",
    "ooooooooooooooooo                                                       \n",
    "oooo                                                                    \n",
    "oooo                                                                    \n",
    "oooo                                                                    \n",
    "ooooooooooooooooo                                                       \n",
    "ooooooooooooooooo                                                       \n",
    "ooooooooooooooooo                                                       \n",
    "             oooo                                                       \n",
    "             oooo                                                       \n",
    "             oooo                                                       \n",
    "ooooooooooooooooo                                                       \n",
    "ooooooooooooooooo                                                       \n",
    "ooooooooooooooooo \n"
   ]
  },
  {
   "cell_type": "markdown",
   "id": "9d69b90e",
   "metadata": {},
   "source": [
    "27. Alphabet Pattern 'T'\n",
    "\n",
    "Write a Python program to print the alphabet pattern 'T'.\n",
    "\n",
    "Expected Output:\n",
    "\n",
    " *****                                                                  \n",
    "   *                                                                    \n",
    "   *                                                                    \n",
    "   *                                                                    \n",
    "   *                                                                    \n",
    "   *                                                                    \n",
    "   *  \n"
   ]
  },
  {
   "cell_type": "markdown",
   "id": "f624692a",
   "metadata": {},
   "source": [
    "28. Alphabet Pattern 'U'\n",
    "\n",
    "Write a Python program to print the alphabet pattern 'U'.\n",
    "\n",
    "Expected Output:\n",
    "\n",
    " *   *                                                                  \n",
    " *   *                                                                  \n",
    " *   *                                                                  \n",
    " *   *                                                                  \n",
    " *   *                                                                  \n",
    " *   *                                                                  \n",
    "  *** \n",
    "\n"
   ]
  },
  {
   "cell_type": "markdown",
   "id": "3589cb83",
   "metadata": {},
   "source": [
    "29. Alphabet Pattern 'X'\n",
    "\n",
    "Write a Python program to print the alphabet pattern 'X'.\n",
    "\n",
    "Expected Output:\n",
    "\n",
    " *   *                                                                  \n",
    " *   *                                                                  \n",
    "  * *                                                                   \n",
    "   *                                                                    \n",
    "  * *                                                                   \n",
    " *   *                                                                  \n",
    " *   *\n"
   ]
  },
  {
   "cell_type": "markdown",
   "id": "41d4e268",
   "metadata": {},
   "source": [
    "30. Alphabet Pattern 'Z'\n",
    "\n",
    "Write a Python program to print the alphabet pattern 'Z'.\n",
    "\n",
    "Expected Output:\n",
    "\n",
    "*******                                                                 \n",
    "     *                                                                  \n",
    "    *                                                                   \n",
    "   *                                                                    \n",
    "  *                                                                     \n",
    " *                                                                      \n",
    "*******\n"
   ]
  },
  {
   "cell_type": "markdown",
   "id": "3941ef87",
   "metadata": {},
   "source": [
    "31. Dog Age in Dog Years\n",
    "\n",
    "Write a Python program to calculate a dog's age in dog years.\n",
    "\n",
    "Note: For the first two years, a dog year is equal to 10.5 human years. After that, each dog year equals 4 human years.\n",
    "\n",
    "Expected Output:\n",
    "\n",
    "Input a dog's age in human years: 15                                    \n",
    "The dog's age in dog's years is 73\n"
   ]
  },
  {
   "cell_type": "markdown",
   "id": "e72606ae",
   "metadata": {},
   "source": [
    "32. Vowel or Consonant Checker\n",
    "\n",
    "Write a Python program to check whether an alphabet is a vowel or consonant.\n",
    "\n",
    "Expected Output:\n",
    "\n",
    "Input a letter of the alphabet: k                                       \n",
    "k is a consonant.\n"
   ]
  },
  {
   "cell_type": "markdown",
   "id": "53904216",
   "metadata": {},
   "source": [
    "33. Month Name to Number of Days\n",
    "\n",
    "Write a Python program to convert a month name to a number of days.\n",
    "\n",
    "Expected Output:\n",
    "\n",
    "List of months: January, February, March, April, May, June, July, August\n",
    ", September, October, November, December                                \n",
    "Input the name of Month: February                                       \n",
    "No. of days: 28/29 days \n"
   ]
  },
  {
   "cell_type": "markdown",
   "id": "d831aed3",
   "metadata": {},
   "source": [
    "34. Sum with Special Rule\n",
    "\n",
    "Write a Python program to sum two integers. However, if the sum is between 15 and 20 it will return 20.\n"
   ]
  },
  {
   "cell_type": "markdown",
   "id": "4d83ae3a",
   "metadata": {},
   "source": [
    "35. String Represents Integer Checker\n",
    "\n",
    "Write a Python program that checks whether a string represents an integer or not.\n",
    "\n",
    "Expected Output:\n",
    "\n",
    "Input a string: Python                                                  \n",
    "The string is not an integer.  \n"
   ]
  },
  {
   "cell_type": "markdown",
   "id": "ace361ae",
   "metadata": {},
   "source": [
    "36. Triangle Type Checker\n",
    "\n",
    "Write a Python program to check if a triangle is equilateral, isosceles or scalene.\n",
    "\n",
    "Note :\n",
    "\n",
    "An equilateral triangle is a triangle in which all three sides are equal.\n",
    "A scalene triangle is a triangle that has three unequal sides.\n",
    "An isosceles triangle is a triangle with (at least) two equal sides.\n",
    "\n",
    "Expected Output:\n",
    "\n",
    "Input lengths of the triangle sides:                                    \n",
    "x: 6                                                                    \n",
    "y: 8                                                                    \n",
    "z: 12                                                                   \n",
    "Scalene triangle  \n"
   ]
  },
  {
   "cell_type": "markdown",
   "id": "c006da46",
   "metadata": {},
   "source": [
    "37. Season Finder from Date\n",
    "\n",
    "Write a Python program that reads two integers representing a month and day and prints the season for that month and day.\n",
    "\n",
    "Expected Output:\n",
    "\n",
    "Input the month (e.g. January, February etc.): july                     \n",
    "Input the day: 31                                                       \n",
    "Season is autumn  \n"
   ]
  },
  {
   "cell_type": "markdown",
   "id": "e4b8f32b",
   "metadata": {},
   "source": [
    "38. Astrological Sign Finder\n",
    "\n",
    "Write a Python program to display the astrological sign for a given date of birth.\n",
    "\n",
    "Expected Output:\n",
    "\n",
    "Input birthday: 15                                                      \n",
    "Input month of birth (e.g. march, july etc): may                        \n",
    "Your Astrological sign is : Taurus \n"
   ]
  },
  {
   "cell_type": "markdown",
   "id": "96d18249",
   "metadata": {},
   "source": [
    "39. Chinese Zodiac Sign\n",
    "\n",
    "Write a Python program to display the sign of the Chinese Zodiac for the given year in which you were born.\n",
    "\n",
    "Expected Output:\n",
    "\n",
    "Input your birth year: 1973                                             \n",
    "Your Zodiac sign : Ox  "
   ]
  },
  {
   "cell_type": "markdown",
   "id": "e449b4b0",
   "metadata": {},
   "source": [
    "40. Median of Three Values\n",
    "\n",
    "Write a Python program to find the median of three values.\n",
    "\n",
    "Expected Output:\n",
    "\n",
    "Input first number: 15                                                  \n",
    "Input second number: 26                                                 \n",
    "Input third number: 29                                                  \n",
    "The median is 26.0   \n"
   ]
  },
  {
   "cell_type": "markdown",
   "id": "2489d2fa",
   "metadata": {},
   "source": [
    "41. Next Day Calculator\n",
    "\n",
    "Write a Python program to get the next day of a given date.\n",
    "\n",
    "Expected Output:\n",
    "\n",
    "Input a year: 2016                                                      \n",
    "Input a month [1-12]: 08                                                \n",
    "Input a day [1-31]: 23                                                  \n",
    "The next date is [yyyy-mm-dd] 2016-8-24   \n"
   ]
  },
  {
   "cell_type": "markdown",
   "id": "2f161311",
   "metadata": {},
   "source": [
    "42. Sum and Average of n Integers\n",
    "\n",
    "Write a Python program to calculate the sum and average of n integer numbers (input from the user). Input 0 to finish.\n"
   ]
  },
  {
   "cell_type": "markdown",
   "id": "048acfea",
   "metadata": {},
   "source": [
    "43. Multiplication Table\n",
    "\n",
    "Write a Python program to create the multiplication table (from 1 to 10) of a number.\n",
    "\n",
    "Expected Output:\n",
    "\n",
    "Input a number: 6                                                       \n",
    "6 x 1 = 6                                                               \n",
    "6 x 2 = 12                                                              \n",
    "6 x 3 = 18                                                              \n",
    "6 x 4 = 24                                                              \n",
    "6 x 5 = 30                                                              \n",
    "6 x 6 = 36                                                              \n",
    "6 x 7 = 42                                                              \n",
    "6 x 8 = 48                                                              \n",
    "6 x 9 = 54                                                              \n",
    "6 x 10 = 60 \n"
   ]
  },
  {
   "cell_type": "markdown",
   "id": "b031e19d",
   "metadata": {},
   "source": [
    "44. Nested Loop Number Pattern\n",
    "\n",
    "Write a Python program to construct the following pattern, using a nested loop number.\n",
    "\n",
    "Expected Output:\n",
    "\n",
    "1\n",
    "22\n",
    "333\n",
    "4444\n",
    "55555\n",
    "666666\n",
    "7777777\n",
    "88888888\n",
    "999999999"
   ]
  }
 ],
 "metadata": {
  "kernelspec": {
   "display_name": "Python 3",
   "language": "python",
   "name": "python3"
  },
  "language_info": {
   "codemirror_mode": {
    "name": "ipython",
    "version": 3
   },
   "file_extension": ".py",
   "mimetype": "text/x-python",
   "name": "python",
   "nbconvert_exporter": "python",
   "pygments_lexer": "ipython3",
   "version": "3.11.9"
  }
 },
 "nbformat": 4,
 "nbformat_minor": 5
}
