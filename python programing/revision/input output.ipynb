{
 "cells": [
  {
   "cell_type": "markdown",
   "id": "df4a5569",
   "metadata": {},
   "source": [
    "Q1. WAP to accept integer input from user. "
   ]
  },
  {
   "cell_type": "code",
   "execution_count": 2,
   "id": "792f6532",
   "metadata": {},
   "outputs": [
    {
     "name": "stdout",
     "output_type": "stream",
     "text": [
      "5\n"
     ]
    }
   ],
   "source": [
    "n=int(input())\n",
    "print(n)"
   ]
  },
  {
   "cell_type": "markdown",
   "id": "7679dc06",
   "metadata": {},
   "source": [
    "Q2. Write a python program to take input from user age then increase his/her age by 10 years. \n",
    "Sample Input : enter you age : 12 \n",
    "Sample Output : 22 "
   ]
  },
  {
   "cell_type": "code",
   "execution_count": null,
   "id": "a313974b",
   "metadata": {},
   "outputs": [
    {
     "name": "stdout",
     "output_type": "stream",
     "text": [
      "22\n"
     ]
    }
   ],
   "source": [
    "n=int(input('age'))\n",
    "y=n+10\n",
    "print(y)\n",
    "\n"
   ]
  },
  {
   "cell_type": "code",
   "execution_count": 4,
   "id": "20137da0",
   "metadata": {},
   "outputs": [
    {
     "name": "stdout",
     "output_type": "stream",
     "text": [
      "22\n"
     ]
    }
   ],
   "source": [
    "print(int(input())+10)"
   ]
  },
  {
   "cell_type": "code",
   "execution_count": 6,
   "id": "24708aaa",
   "metadata": {},
   "outputs": [
    {
     "name": "stdout",
     "output_type": "stream",
     "text": [
      "22\n"
     ]
    }
   ],
   "source": [
    "n=eval(input())\n",
    "print(n+10)\n"
   ]
  },
  {
   "cell_type": "markdown",
   "id": "2186d081",
   "metadata": {},
   "source": [
    "Q3.  Take input user name ,  age  , height  then print output as “my name is (your name),my age is (you age), and height is (your age)” . \n",
    "sample Input: Enter you name : alice \n",
    "Enter your age : 10 \n",
    "Enter your height : 3.5 \n",
    "Sample Output: \n",
    "My name is alice, my age is 10 and height is 3.5 "
   ]
  },
  {
   "cell_type": "code",
   "execution_count": null,
   "id": "8cb7e39e",
   "metadata": {},
   "outputs": [
    {
     "name": "stdout",
     "output_type": "stream",
     "text": [
      "my name is saquib \n",
      "my age is 23 \n",
      "my height is 234.00\n"
     ]
    }
   ],
   "source": [
    "name=input()\n",
    "age=int(input())\n",
    "height=float(input())\n",
    "# print('my name is %s \\nmy age is %d \\nmy height is %f'%(name,age,height)) #using format specifiyer\n",
    "# print('name: %s'%name, 'age:%d'%age, 'height:%f'%height)\n",
    "# print('my name is %s, my age is %d, my height is %f'%(name,age,height))  \n",
    "# print(\"my name is {} \\nmy age is {} \\nmy height is {:.2f}\" .format(name,age,height))  #using foramt() function\n",
    "print(f'my name is {name} \\nmy age is {age} \\nmy height is {height:.2f}') # using f'formating"
   ]
  },
  {
   "cell_type": "code",
   "execution_count": 34,
   "id": "ea1f0158",
   "metadata": {},
   "outputs": [
    {
     "name": "stdout",
     "output_type": "stream",
     "text": [
      "my name is saquib \n",
      "my age is 23 \n",
      "my height is 234.000000\n"
     ]
    }
   ],
   "source": [
    "name,age,height=input('name'),int(input('age')),float(input('height'))\n",
    "print('my name is %s \\nmy age is %d \\nmy height is %f' %(name,age,height))"
   ]
  },
  {
   "cell_type": "markdown",
   "id": "2776375c",
   "metadata": {},
   "source": [
    "Q4. How do you input a floating-point number from the user and store it in a variable called price? "
   ]
  },
  {
   "cell_type": "code",
   "execution_count": null,
   "id": "b244d873",
   "metadata": {},
   "outputs": [],
   "source": [
    "price=float(input())\n",
    "print(price)\n"
   ]
  },
  {
   "cell_type": "markdown",
   "id": "36333932",
   "metadata": {},
   "source": [
    "Q5. Write a Python program that asks the user for two numbers and then prints their sum \n",
    "\n",
    "Sample Input : Enter 1st numbers : 3 \n",
    "               Enter 2nd number :4 \n",
    "Sampel Output : 7 "
   ]
  },
  {
   "cell_type": "code",
   "execution_count": 43,
   "id": "3099e581",
   "metadata": {},
   "outputs": [
    {
     "name": "stdout",
     "output_type": "stream",
     "text": [
      "saquibmahfuz\n"
     ]
    }
   ],
   "source": [
    "a=eval(input())\n",
    "b=eval(input())\n",
    "x=a+b\n",
    "print(x)\n",
    "\n"
   ]
  },
  {
   "cell_type": "markdown",
   "id": "e19e792a",
   "metadata": {},
   "source": [
    "Q6.Write a Python program that asks the user for their age and then prints a message stating their age. "
   ]
  },
  {
   "cell_type": "code",
   "execution_count": 46,
   "id": "bb5eac8f",
   "metadata": {},
   "outputs": [
    {
     "name": "stdout",
     "output_type": "stream",
     "text": [
      "12 years old\n"
     ]
    }
   ],
   "source": [
    "n=int(input('age'))\n",
    "print('%d years old'%n)"
   ]
  },
  {
   "cell_type": "markdown",
   "id": "960a8857",
   "metadata": {},
   "source": [
    "Q7.Write a Python program that asks the user for the radius of a circle and then prints the area of the circle. "
   ]
  },
  {
   "cell_type": "code",
   "execution_count": 48,
   "id": "31fc5c58",
   "metadata": {},
   "outputs": [
    {
     "name": "stdout",
     "output_type": "stream",
     "text": [
      "100.48\n"
     ]
    }
   ],
   "source": [
    "r=eval(input())\n",
    "pi=3.14\n",
    "area=2*pi*r**2\n",
    "print(area)"
   ]
  },
  {
   "cell_type": "markdown",
   "id": "896c0c39",
   "metadata": {},
   "source": [
    "Q8. How do you take a string input from the user and convert it to an integer? \n",
    "\n",
    "Sample input : ‘234’ \n",
    "Sample output : 234 "
   ]
  },
  {
   "cell_type": "code",
   "execution_count": null,
   "id": "e7769423",
   "metadata": {},
   "outputs": [
    {
     "name": "stdout",
     "output_type": "stream",
     "text": [
      "<class 'str'>\n",
      "123\n",
      "<class 'int'>\n"
     ]
    }
   ],
   "source": [
    "n=input()\n",
    "print(int(n))\n"
   ]
  },
  {
   "cell_type": "markdown",
   "id": "cb725e93",
   "metadata": {},
   "source": [
    "Q9. Write a Python program that asks the user for their height in feet and converts it to meters (1 foot = 0.3048 meters)."
   ]
  },
  {
   "cell_type": "code",
   "execution_count": 61,
   "id": "5193c774",
   "metadata": {},
   "outputs": [
    {
     "name": "stdout",
     "output_type": "stream",
     "text": [
      "1.76784\n"
     ]
    }
   ],
   "source": [
    "h=eval(input('enter your hight in feet'))\n",
    "m=h*0.3048\n",
    "print(m)"
   ]
  },
  {
   "cell_type": "markdown",
   "id": "82242caa",
   "metadata": {},
   "source": [
    "Q10. Write a Python program that takes three inputs from the user: two integers and one floating-point number. Your task is to print these three values in the following format: \n",
    "Integer1  Integer2  Float_Number \n",
    "\n",
    "Sample Input: \n",
    "Enter the first integer: 5 \n",
    "Enter the second integer: 10 \n",
    "Enter the floating-point number: 3.14 \n",
    "Sample output: \n",
    "5 10 3.14 "
   ]
  },
  {
   "cell_type": "code",
   "execution_count": 62,
   "id": "bec926f3",
   "metadata": {},
   "outputs": [
    {
     "name": "stdout",
     "output_type": "stream",
     "text": [
      "1 2 4.0\n"
     ]
    }
   ],
   "source": [
    "a=int(input())\n",
    "b=int(input())\n",
    "c=float(input())\n",
    "print(a, b, c)"
   ]
  }
 ],
 "metadata": {
  "kernelspec": {
   "display_name": "Python 3",
   "language": "python",
   "name": "python3"
  },
  "language_info": {
   "codemirror_mode": {
    "name": "ipython",
    "version": 3
   },
   "file_extension": ".py",
   "mimetype": "text/x-python",
   "name": "python",
   "nbconvert_exporter": "python",
   "pygments_lexer": "ipython3",
   "version": "3.11.9"
  }
 },
 "nbformat": 4,
 "nbformat_minor": 5
}
