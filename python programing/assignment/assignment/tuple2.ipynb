{
 "cells": [
  {
   "cell_type": "markdown",
   "metadata": {},
   "source": [
    "Q1. Write a Python program to check if a specified element appears \n",
    "in a tuple of tuples. \n",
    "Original Tuple: \n",
    "(('Red', 'White', 'Blue'), ('Green', 'Pink', 'Purple'), ('Orange', 'Yellow', \n",
    "'Lime')) \n",
    "Check if White presenet in said tuple of tuples! \n",
    "True \n",
    "Check if White presenet in said tuple of tuples! \n",
    "True \n",
    "Check if Olive presenet in said tuple of tuples! \n",
    "False "
   ]
  },
  {
   "cell_type": "code",
   "execution_count": 2,
   "metadata": {},
   "outputs": [
    {
     "name": "stdout",
     "output_type": "stream",
     "text": [
      "True\n",
      "False\n",
      "False\n"
     ]
    }
   ],
   "source": [
    "tpl=(('Red', 'White', 'Blue'), ('Green', 'Pink', 'Purple'), ('Orange', 'Yellow', 'Lime')) \n",
    "for i in tpl:\n",
    "    if 'White' in i:\n",
    "        print(True)\n",
    "    elif 'Olive' in i:\n",
    "        print(True)\n",
    "    else:\n",
    "        print(False)"
   ]
  },
  {
   "cell_type": "markdown",
   "metadata": {},
   "source": [
    "Q2. WAP to check the tuple contain any duplicate element "
   ]
  },
  {
   "cell_type": "code",
   "execution_count": 20,
   "metadata": {},
   "outputs": [
    {
     "name": "stdout",
     "output_type": "stream",
     "text": [
      "dublicate\n"
     ]
    }
   ],
   "source": [
    "tpl=(1,2,3,3,4,6,8)\n",
    "for i in range(len(tpl)):\n",
    "    if tpl.count(tpl[i]) >1:\n",
    "        print('dublicate')\n",
    "        break\n",
    "else:\n",
    "    \n",
    "    print('not duplicate')"
   ]
  },
  {
   "cell_type": "markdown",
   "metadata": {},
   "source": [
    "Q3. WAP to check if all the element of a tuple are in descending \n",
    "order or not. \n"
   ]
  },
  {
   "cell_type": "code",
   "execution_count": null,
   "metadata": {},
   "outputs": [
    {
     "name": "stdout",
     "output_type": "stream",
     "text": [
      "dec\n"
     ]
    }
   ],
   "source": [
    "x=(8,7,6,5,4,3)\n",
    "for i in range(len(x)-1):\n",
    "    if x[i] < x[i+1]:\n",
    "        print('not dec')\n",
    "        break\n",
    "else:\n",
    "    print('dec')\n",
    "    "
   ]
  },
  {
   "cell_type": "markdown",
   "metadata": {},
   "source": [
    "Q4. WAP to check if the elements in the first half of a tuple are \n",
    "sorted in ascending or not. "
   ]
  },
  {
   "cell_type": "code",
   "execution_count": 13,
   "metadata": {},
   "outputs": [
    {
     "name": "stdout",
     "output_type": "stream",
     "text": [
      "asc.\n"
     ]
    }
   ],
   "source": [
    "x=(1,2,3,4,5,6)\n",
    "first=x[0:len(x)//2]\n",
    "for i in range(len(first)-1):\n",
    "    if x[i]>x[i+1]:\n",
    "        print('not asen.')\n",
    "        break\n",
    "else:\n",
    "    print('asc.')"
   ]
  },
  {
   "cell_type": "markdown",
   "metadata": {},
   "source": [
    "Q5. WAP to inputs name of n students and store them in a tuple . \n",
    "Also, input a name from the user and if this student is present in the \n",
    "tuple or not. Example:  \n",
    "Input:-         \n",
    "How many student?=5 \n",
    "Enter name of student 1: Anaya \n",
    "Enter name of student 2:Ausha \n",
    "Enter name of student 3:Kirat \n",
    "Enter name of student 4:Kyle \n",
    "Enter name of student 5:Suji \n",
    "Output:- \n",
    "Enter name to be Searched for : Suji \n",
    "Suji exists in a tuple "
   ]
  },
  {
   "cell_type": "code",
   "execution_count": 18,
   "metadata": {},
   "outputs": [
    {
     "name": "stdout",
     "output_type": "stream",
     "text": [
      "('anaya', 'ausha', 'kirat', 'kyale', 'suji')\n",
      "True\n"
     ]
    }
   ],
   "source": [
    "x=[]\n",
    "n=int(input('num_of_student'))\n",
    "for i in range(n):\n",
    "    x.append(input('enter name for add'))\n",
    "t=tuple(x)\n",
    "print(t)\n",
    "for i in range(1):\n",
    "    p=input('enter name for search')\n",
    "    if p in t:\n",
    "        print(True)\n",
    "    else:\n",
    "        print(False)\n"
   ]
  },
  {
   "cell_type": "markdown",
   "metadata": {},
   "source": [
    "Q6. Python program to find unique numbers in a given tuple – \n",
    "original tuple: (1, 9, 1, 6, 3, 4, 5, 1, 1, 2, 5, 6, 7, 8, 9, 2) \n",
    "Unique numbers: (1, 9, 6, 3, 4, 5, 2, 7, 8) "
   ]
  },
  {
   "cell_type": "code",
   "execution_count": 20,
   "metadata": {},
   "outputs": [
    {
     "name": "stdout",
     "output_type": "stream",
     "text": [
      "(1, 9, 6, 3, 4, 5, 2, 7, 8)\n"
     ]
    }
   ],
   "source": [
    "tpl=(1, 9, 1, 6, 3, 4, 5, 1, 1, 2, 5, 6, 7, 8, 9, 2) \n",
    "x=[]\n",
    "for i in tpl:\n",
    "    if i not in x:\n",
    "        x.append(i)\n",
    "t=tuple(x)\n",
    "print(t)"
   ]
  },
  {
   "cell_type": "markdown",
   "metadata": {},
   "source": [
    "Q7. Write a Python program to convert a tuple of string values to a \n",
    "tuple of integer values. \n",
    "Original tuple values: \n",
    "(('333', '33'), ('1416', '55')) \n",
    "New tuple values: \n",
    "((333, 33), (1416, 55)) "
   ]
  },
  {
   "cell_type": "code",
   "execution_count": 1,
   "metadata": {},
   "outputs": [
    {
     "name": "stdout",
     "output_type": "stream",
     "text": [
      "((333, 33), (1416, 55))\n"
     ]
    }
   ],
   "source": [
    "tpl=(('333', '33'), ('1416', '55')) \n",
    "x=[]\n",
    "for i in tpl:\n",
    "    x1=[]\n",
    "    for j in i:\n",
    "        x1.append(int(j))\n",
    "    x.append(tuple(x1))\n",
    "x=tuple(x)\n",
    "print(x)"
   ]
  },
  {
   "cell_type": "markdown",
   "metadata": {},
   "source": [
    "Q8.  Write a Python program to calculate the product, multiplying all \n",
    "the numbers in a given tuple. \n",
    "Original Tuple: \n",
    "(4, 3, 2, 2, -1, 18) \n",
    "Product - multiplying all the numbers of the said tuple: -864 \n",
    "Original Tuple: \n",
    "(2, 4, 8, 8, 3, 2, 9) \n",
    "Product - multiplying all the numbers of the said tuple:"
   ]
  },
  {
   "cell_type": "code",
   "execution_count": 77,
   "metadata": {},
   "outputs": [
    {
     "name": "stdout",
     "output_type": "stream",
     "text": [
      "27648\n"
     ]
    }
   ],
   "source": [
    "t=(2, 4, 8, 8, 3, 2, 9) \n",
    "x=list(t)\n",
    "m=1\n",
    "for i in x:\n",
    "    m*=i\n",
    "print(m)"
   ]
  }
 ],
 "metadata": {
  "kernelspec": {
   "display_name": "Python 3",
   "language": "python",
   "name": "python3"
  },
  "language_info": {
   "codemirror_mode": {
    "name": "ipython",
    "version": 3
   },
   "file_extension": ".py",
   "mimetype": "text/x-python",
   "name": "python",
   "nbconvert_exporter": "python",
   "pygments_lexer": "ipython3",
   "version": "3.11.9"
  }
 },
 "nbformat": 4,
 "nbformat_minor": 2
}
