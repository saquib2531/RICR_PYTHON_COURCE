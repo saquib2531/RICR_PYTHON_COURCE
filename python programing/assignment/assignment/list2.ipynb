{
 "cells": [
  {
   "cell_type": "markdown",
   "metadata": {},
   "source": [
    "Q1. Write a python program which iterates the given list prints all \n",
    "the values inside the list via loop . \n",
    "lst = ['mango','apple','banana','ornage','kiwi'] "
   ]
  },
  {
   "cell_type": "code",
   "execution_count": 1,
   "metadata": {},
   "outputs": [
    {
     "name": "stdout",
     "output_type": "stream",
     "text": [
      "mango,apple,banana,ornage,kiwi,"
     ]
    }
   ],
   "source": [
    "lst = ['mango','apple','banana','ornage','kiwi'] \n",
    "for i in range(len(lst)):\n",
    "    print(lst[i],end=',')\n",
    "    "
   ]
  },
  {
   "cell_type": "markdown",
   "metadata": {},
   "source": [
    "Q2. Write a python program which finds the sum to all the elements \n",
    "of the list by iterating that given list. \n",
    "lst = [2,4,6,8,12,10,14,24] "
   ]
  },
  {
   "cell_type": "code",
   "execution_count": 2,
   "metadata": {},
   "outputs": [
    {
     "name": "stdout",
     "output_type": "stream",
     "text": [
      "80\n"
     ]
    }
   ],
   "source": [
    "lst = [2,4,6,8,12,10,14,24] \n",
    "sum=0\n",
    "for i in range(len(lst)):\n",
    "    sum+=lst[i]\n",
    "print(sum)"
   ]
  },
  {
   "cell_type": "markdown",
   "metadata": {},
   "source": [
    "Q3. Write a python program which finds the value (n) in the given list \n",
    "= [4,5,3,2,1,6,8], if present then return True otherwise False. \n",
    "Note: ‘n’ can be any input value. "
   ]
  },
  {
   "cell_type": "code",
   "execution_count": 8,
   "metadata": {},
   "outputs": [
    {
     "name": "stdout",
     "output_type": "stream",
     "text": [
      "True\n"
     ]
    }
   ],
   "source": [
    "x= [4,5,3,2,1,6,8]\n",
    "n=int(input())\n",
    "for i in range(len(x)):\n",
    "    if x[i]==n:\n",
    "        print('True')\n",
    "        break\n",
    "else:\n",
    "    print('False')"
   ]
  },
  {
   "cell_type": "markdown",
   "metadata": {},
   "source": [
    "Q4. Write a python program which update odd indices elements of \n",
    "the list by ‘hii’ through iterating that given list. \n",
    "lst = [2,4,6,8,1] "
   ]
  },
  {
   "cell_type": "code",
   "execution_count": 9,
   "metadata": {},
   "outputs": [
    {
     "name": "stdout",
     "output_type": "stream",
     "text": [
      "['hii', 4, 'hii', 8, 'hii']\n"
     ]
    }
   ],
   "source": [
    "lst = [2,4,6,8,1]\n",
    "for i in range(len(lst)):\n",
    "    if i%2==0:\n",
    "        lst[i]='hii'\n",
    "print(lst)"
   ]
  },
  {
   "cell_type": "markdown",
   "metadata": {},
   "source": [
    "Q5. Write a python program which finds and print the average of \n",
    "elements of the given list of integers. \n",
    "lst = [10,45,23,46,98,56] \n",
    "Note: If list changes your code should work properly. "
   ]
  },
  {
   "cell_type": "code",
   "execution_count": 1,
   "metadata": {},
   "outputs": [
    {
     "name": "stdout",
     "output_type": "stream",
     "text": [
      "46\n"
     ]
    }
   ],
   "source": [
    "lst = [10,45,23,46,98,56] \n",
    "sum=0\n",
    "for i in range(len(lst)):\n",
    "    sum+=lst[i]\n",
    "    i+=1\n",
    "print(sum//i)"
   ]
  },
  {
   "cell_type": "markdown",
   "metadata": {},
   "source": [
    "Q6. Write a python program which finds the sum of squares of all the \n",
    "elements of the given list. \n",
    "lst = [2,4,6,8,1]"
   ]
  },
  {
   "cell_type": "code",
   "execution_count": 1,
   "metadata": {},
   "outputs": [
    {
     "name": "stdout",
     "output_type": "stream",
     "text": [
      "121\n"
     ]
    }
   ],
   "source": [
    "lst = [2,4,6,8,1]\n",
    "sum=0\n",
    "for i in range(len(lst)):\n",
    "    lst[i]=lst[i]**2\n",
    "    sum+=lst[i]\n",
    "print(sum)"
   ]
  }
 ],
 "metadata": {
  "kernelspec": {
   "display_name": "Python 3",
   "language": "python",
   "name": "python3"
  },
  "language_info": {
   "codemirror_mode": {
    "name": "ipython",
    "version": 3
   },
   "file_extension": ".py",
   "mimetype": "text/x-python",
   "name": "python",
   "nbconvert_exporter": "python",
   "pygments_lexer": "ipython3",
   "version": "3.11.9"
  }
 },
 "nbformat": 4,
 "nbformat_minor": 2
}
