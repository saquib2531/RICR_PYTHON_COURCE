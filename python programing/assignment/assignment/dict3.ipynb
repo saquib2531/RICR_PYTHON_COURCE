{
 "cells": [
  {
   "cell_type": "markdown",
   "id": "7d8a3b61",
   "metadata": {},
   "source": [
    "Q1. Write a Python program to create a dictionary named \n",
    "even_squares that contains squares of even numbers between 1 and \n",
    "10 using dictionary comprehension. \n",
    "Expected Output: {2: 4, 4: 16, 6: 36, 8: 64, 10: 100} "
   ]
  },
  {
   "cell_type": "code",
   "execution_count": 4,
   "id": "e61c89db",
   "metadata": {},
   "outputs": [
    {
     "data": {
      "text/plain": [
       "{2: 4, 3: 9, 4: 16, 5: 25, 6: 36, 7: 49, 8: 64, 9: 81, 10: 100}"
      ]
     },
     "execution_count": 4,
     "metadata": {},
     "output_type": "execute_result"
    }
   ],
   "source": [
    "x={i:i**2 for i in range(2,11)}\n",
    "x"
   ]
  },
  {
   "cell_type": "markdown",
   "id": "0b281ac1",
   "metadata": {},
   "source": [
    "Q2. Write a Python program to create a dictionary using dictionary \n",
    "comprehension from a given dictionary, where the new dictionary \n",
    "only includes items with values greater than 10.  \n",
    "Use the dictionary: {'a': 5, 'b': 12, 'c': 7, 'd': 20}. "
   ]
  },
  {
   "cell_type": "code",
   "execution_count": 6,
   "id": "32f9b4aa",
   "metadata": {},
   "outputs": [
    {
     "data": {
      "text/plain": [
       "{'b': 12, 'd': 20}"
      ]
     },
     "execution_count": 6,
     "metadata": {},
     "output_type": "execute_result"
    }
   ],
   "source": [
    "dict1={'a': 5, 'b': 12, 'c': 7, 'd': 20}\n",
    "x={k:v for k,v in dict1.items() if v>10}\n",
    "x"
   ]
  },
  {
   "cell_type": "markdown",
   "id": "bda1396e",
   "metadata": {},
   "source": [
    "Q3. Write a Python program to create a dictionary using dictionary \n",
    "comprehension where the keys are numbers from 1 to 10, and the \n",
    "values are \"even\" or \"odd\" depending on the key value. "
   ]
  },
  {
   "cell_type": "code",
   "execution_count": 26,
   "id": "e12fd11e",
   "metadata": {},
   "outputs": [
    {
     "data": {
      "text/plain": [
       "{1: 'odd',\n",
       " 2: 'even',\n",
       " 3: 'odd',\n",
       " 4: 'even',\n",
       " 5: 'odd',\n",
       " 6: 'even',\n",
       " 7: 'odd',\n",
       " 8: 'even',\n",
       " 9: 'odd',\n",
       " 10: 'even'}"
      ]
     },
     "execution_count": 26,
     "metadata": {},
     "output_type": "execute_result"
    }
   ],
   "source": [
    "x={i:('even' if i % 2==0 else 'odd') for i in range(1,11)}\n",
    "x"
   ]
  },
  {
   "cell_type": "markdown",
   "id": "ee41128a",
   "metadata": {},
   "source": [
    "Q4. Write a Python program to reverse the keys and values of a given \n",
    "dictionary using dictionary comprehension.  \n",
    "Dictionary: {'x': 1, 'y': 2, 'z': 3} \n",
    "Expected Output: {1: 'x', 2: 'y', 3: 'z'}. "
   ]
  },
  {
   "cell_type": "code",
   "execution_count": 9,
   "id": "801bde2b",
   "metadata": {},
   "outputs": [
    {
     "data": {
      "text/plain": [
       "{1: 'x', 2: 'y', 3: 'z'}"
      ]
     },
     "execution_count": 9,
     "metadata": {},
     "output_type": "execute_result"
    }
   ],
   "source": [
    "a={'x': 1, 'y': 2, 'z': 3} \n",
    "x={v:k for k,v in a.items()}\n",
    "x"
   ]
  },
  {
   "cell_type": "markdown",
   "id": "6ebf3dbd",
   "metadata": {},
   "source": [
    "Q5. Write a Python program to create a dictionary using dictionary \n",
    "comprehension that maps each word in a list to its length.  \n",
    "list: ['apple', 'banana', 'cherry', 'date']."
   ]
  },
  {
   "cell_type": "code",
   "execution_count": 10,
   "id": "af5676e1",
   "metadata": {},
   "outputs": [
    {
     "data": {
      "text/plain": [
       "{'apple': 5, 'banana': 6, 'cherry': 6, 'date': 4}"
      ]
     },
     "execution_count": 10,
     "metadata": {},
     "output_type": "execute_result"
    }
   ],
   "source": [
    "list1=['apple', 'banana', 'cherry', 'date']\n",
    "x={i:len(i) for i in list1}\n",
    "x"
   ]
  },
  {
   "cell_type": "markdown",
   "id": "eda07960",
   "metadata": {},
   "source": [
    "Q6. Write a Python program to create a dictionary using dictionary \n",
    "comprehension where the keys are numbers from 1 to 10, and the \n",
    "values are categorized as 'low' if the key is less than 5, 'medium' if \n",
    "between 5 and 7, and 'high' if greater than 7."
   ]
  },
  {
   "cell_type": "code",
   "execution_count": 28,
   "id": "d4ec9ca8",
   "metadata": {},
   "outputs": [
    {
     "data": {
      "text/plain": [
       "{1: 'low',\n",
       " 2: 'low',\n",
       " 3: 'low',\n",
       " 4: 'low',\n",
       " 5: 'medium',\n",
       " 6: 'medium',\n",
       " 7: 'medium',\n",
       " 8: 'high',\n",
       " 9: 'high',\n",
       " 10: 'high'}"
      ]
     },
     "execution_count": 28,
     "metadata": {},
     "output_type": "execute_result"
    }
   ],
   "source": [
    "x={i: ('low' if i < 5 else 'medium' if i <= 7 else 'high') for i in range(1, 11)}\n",
    "x"
   ]
  }
 ],
 "metadata": {
  "kernelspec": {
   "display_name": "Python 3",
   "language": "python",
   "name": "python3"
  },
  "language_info": {
   "codemirror_mode": {
    "name": "ipython",
    "version": 3
   },
   "file_extension": ".py",
   "mimetype": "text/x-python",
   "name": "python",
   "nbconvert_exporter": "python",
   "pygments_lexer": "ipython3",
   "version": "3.11.9"
  }
 },
 "nbformat": 4,
 "nbformat_minor": 5
}
