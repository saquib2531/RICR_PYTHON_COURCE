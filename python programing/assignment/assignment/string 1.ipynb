{
 "cells": [
  {
   "cell_type": "markdown",
   "id": "37e1bb82",
   "metadata": {},
   "source": [
    "Q1. Write a program to check if the word ‘am’ is present \n",
    "within a given string, and if so, return the index of its first \n",
    "occurrence. \n",
    "String = “Hello World, I am Programmer” \n",
    "Output: 15 "
   ]
  },
  {
   "cell_type": "code",
   "execution_count": 3,
   "id": "e090b3b8",
   "metadata": {},
   "outputs": [
    {
     "name": "stdout",
     "output_type": "stream",
     "text": [
      "True\n",
      "15\n"
     ]
    }
   ],
   "source": [
    "st='Hello World, I am Programmer'\n",
    "st.split(st)\n",
    "print('am' in st)\n",
    "print(st.index('am'))\n",
    "        \n"
   ]
  },
  {
   "cell_type": "markdown",
   "id": "6442f10d",
   "metadata": {},
   "source": [
    "Q2. Write a python program which takes string as input and \n",
    "replace every occurrence of input string in the given the list \n",
    "to ‘hii’ and also print list which have length of all the strings \n",
    "inside that list. \n",
    "Sample Input: \n",
    "Input_string : ‘am’ \n",
    "List = [‘I’ , ‘am’ , ‘programmer’ , ‘and’ , ‘I’ , ‘am’ , ‘coder’] \n",
    "Output:  \n",
    "[‘I’ , ‘hii’ , ‘programmer’ , ‘and’ , ‘I’ , ‘hii’ , ‘coder’] \n",
    "[1, 3, 10, 3, 1, 3, 5] "
   ]
  },
  {
   "cell_type": "code",
   "execution_count": 14,
   "id": "675a1db1",
   "metadata": {},
   "outputs": [
    {
     "name": "stdout",
     "output_type": "stream",
     "text": [
      "['I', 'hii', 'progrhiimer', 'and', 'I', 'hii', 'coder']\n",
      "[1, 2, 10, 3, 1, 2, 5]\n"
     ]
    }
   ],
   "source": [
    "lst=['I', 'am', 'programmer', 'and', 'I', 'am', 'coder']\n",
    "y=str(lst)\n",
    "x=y.replace('am','hii')\n",
    "print(x)\n",
    "m=[]\n",
    "for i in lst:   \n",
    "    m.append(len(i))\n",
    "print(m)\n",
    "\n",
    "    \n"
   ]
  },
  {
   "cell_type": "markdown",
   "id": "c0f155a2",
   "metadata": {},
   "source": [
    "Q3. Write a program to take two strings and an integer. The \n",
    "program should slice the first string till the given integer and \n",
    "concatenate the resulting substrings with the second string. "
   ]
  },
  {
   "cell_type": "code",
   "execution_count": null,
   "id": "0df15684",
   "metadata": {},
   "outputs": [],
   "source": []
  },
  {
   "cell_type": "markdown",
   "id": "cbbb2bbc",
   "metadata": {},
   "source": [
    "Q4. Write a python program which convert all occurrences of \n",
    "first character and last character of given string into ‘$’. \n",
    "Sample Input: ‘concatenation’ \n",
    "Output: $o$$ate$atio$ "
   ]
  },
  {
   "cell_type": "code",
   "execution_count": 6,
   "id": "2657c9b8",
   "metadata": {},
   "outputs": [
    {
     "name": "stdout",
     "output_type": "stream",
     "text": [
      "-4\n"
     ]
    }
   ],
   "source": [
    "a=-15\n",
    "b=4\n",
    "y=a//b\n",
    "print(y)"
   ]
  },
  {
   "cell_type": "markdown",
   "id": "a56e8f4c",
   "metadata": {},
   "source": [
    "Q5. Write a program to remove all vowels from a given \n",
    "string. \n",
    "Sample Input: ” concatenate” \n",
    "Output: cnctnt "
   ]
  },
  {
   "cell_type": "markdown",
   "id": "c6eba826",
   "metadata": {},
   "source": [
    "Q6. Write a python program which takes character as a input \n",
    "and count the occurrences of that character into the given \n",
    "string and convert all them into ‘#’. \n",
    "String = ‘programming’ \n",
    "Sample Input: g \n",
    "Output: 2 \n",
    "‘pro#rammin#’ "
   ]
  },
  {
   "cell_type": "markdown",
   "id": "0038be87",
   "metadata": {},
   "source": [
    "Q7. Write a python program which takes string as an input \n",
    "and removes the character at even indices. \n",
    "Sample Input: ‘python’ \n",
    "Output: pto "
   ]
  },
  {
   "cell_type": "markdown",
   "id": "51fbab7f",
   "metadata": {},
   "source": [
    "Q8. Write a program that splits a given string into words, \n",
    "sorts the words in alphabetical order, and joins them back \n",
    "into a single string. \n",
    "String = ‘hello, i am a machine learning engineer’ \n",
    "Output = a am engineer hello, i learning machine "
   ]
  },
  {
   "cell_type": "markdown",
   "id": "4d14aa73",
   "metadata": {},
   "source": [
    "Q9. Write a python program which takes string as input and \n",
    "swap first and last character of that string. \n",
    "Sample Input: ‘hello’ \n",
    "Output: ‘oellh’ "
   ]
  },
  {
   "cell_type": "markdown",
   "id": "dae6a045",
   "metadata": {},
   "source": [
    "Q10. Write a program to check if a given string is a \n",
    "palindrome. \n",
    "Palindrome: The string is palindrome if the sequence of \n",
    "characters is in same order from backward as well as forward \n",
    "reading. \n",
    "Example: wow, rotator, pop, noon. "
   ]
  },
  {
   "cell_type": "markdown",
   "id": "84fcc971",
   "metadata": {},
   "source": [
    "Q11. Write a python program which convert given list into a \n",
    "single string where each name is capitalized and separated by \n",
    "a semicolon. \n",
    "list = ['bhopal' , 'vidisha' , 'rewa' , 'bina']"
   ]
  }
 ],
 "metadata": {
  "kernelspec": {
   "display_name": "Python 3",
   "language": "python",
   "name": "python3"
  },
  "language_info": {
   "codemirror_mode": {
    "name": "ipython",
    "version": 3
   },
   "file_extension": ".py",
   "mimetype": "text/x-python",
   "name": "python",
   "nbconvert_exporter": "python",
   "pygments_lexer": "ipython3",
   "version": "3.11.9"
  }
 },
 "nbformat": 4,
 "nbformat_minor": 5
}
