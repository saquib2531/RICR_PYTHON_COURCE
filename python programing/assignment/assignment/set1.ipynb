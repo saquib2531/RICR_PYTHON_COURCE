{
 "cells": [
  {
   "cell_type": "markdown",
   "id": "a37e295b",
   "metadata": {},
   "source": [
    "Q1. Write a Python program to create two sets, A and B, and find the elements \n",
    "that are common to both sets.  \n",
    "A = {1, 2, 3, 4, 5}  \n",
    "B = {4, 5, 6, 7, 8} "
   ]
  },
  {
   "cell_type": "code",
   "execution_count": 1,
   "id": "09985b5a",
   "metadata": {},
   "outputs": [
    {
     "name": "stdout",
     "output_type": "stream",
     "text": [
      "{4, 5}\n"
     ]
    }
   ],
   "source": [
    "A = {1, 2, 3, 4, 5}  \n",
    "B = {4, 5, 6, 7, 8} \n",
    "x=A&B\n",
    "print(x)"
   ]
  },
  {
   "cell_type": "markdown",
   "id": "1826f532",
   "metadata": {},
   "source": [
    "Q2. Write a Python program to create two sets, X and Y, and find the elements \n",
    "that are unique to each set (not present in both).  \n",
    "X = {10, 20, 30, 40}  \n",
    "Y = {30, 40, 50, 60} "
   ]
  },
  {
   "cell_type": "code",
   "execution_count": 3,
   "id": "9c8212c4",
   "metadata": {},
   "outputs": [
    {
     "name": "stdout",
     "output_type": "stream",
     "text": [
      "{10, 50, 20, 60}\n"
     ]
    }
   ],
   "source": [
    "X = {10, 20, 30, 40}  \n",
    "Y = {30, 40, 50, 60} \n",
    "x=X^Y\n",
    "print(x)"
   ]
  },
  {
   "cell_type": "markdown",
   "id": "ed49545a",
   "metadata": {},
   "source": [
    "Q3. Write a Python program to check if all elements of one set are contained \n",
    "within another set.  \n",
    "S1 = {1, 2, 3}  \n",
    "S2 = {1, 2, 3, 4, 5} "
   ]
  },
  {
   "cell_type": "code",
   "execution_count": 4,
   "id": "3f13b3b1",
   "metadata": {},
   "outputs": [
    {
     "name": "stdout",
     "output_type": "stream",
     "text": [
      "True\n"
     ]
    }
   ],
   "source": [
    "S1 = {1, 2, 3}  \n",
    "S2 = {1, 2, 3, 4, 5} \n",
    "x=S1.issubset(S2)\n",
    "print(x)"
   ]
  },
  {
   "cell_type": "markdown",
   "id": "cf1cb98c",
   "metadata": {},
   "source": [
    "Q4. Write a Python program which create a new set from given two sets have \n",
    "only that elements which are not common.  \n",
    "A = {2, 4, 6}  \n",
    "B = {1, 3, 5} "
   ]
  },
  {
   "cell_type": "code",
   "execution_count": 1,
   "id": "8a798ddb",
   "metadata": {},
   "outputs": [
    {
     "name": "stdout",
     "output_type": "stream",
     "text": [
      "{1, 2, 3, 4, 5, 6}\n"
     ]
    }
   ],
   "source": [
    "A = {2, 4, 6}  \n",
    "B = {1, 3, 5} \n",
    "x=set()\n",
    "x.update(A,B)\n",
    "print(x)"
   ]
  },
  {
   "cell_type": "markdown",
   "id": "6378454a",
   "metadata": {},
   "source": [
    "Q5. Write a Python program to combine all elements from three different sets \n",
    "into one.  \n",
    "Set1 = {1, 2}  \n",
    "Set2 = {2, 3}  \n",
    "Set3 = {3, 4} "
   ]
  },
  {
   "cell_type": "code",
   "execution_count": 3,
   "id": "7922cdc5",
   "metadata": {},
   "outputs": [
    {
     "name": "stdout",
     "output_type": "stream",
     "text": [
      "{1, 2, 3, 4}\n"
     ]
    }
   ],
   "source": [
    "Set1 = {1, 2}  \n",
    "Set2 = {2, 3}  \n",
    "Set3 = {3, 4} \n",
    "x=set()\n",
    "x.update(Set1,Set2,Set3)\n",
    "print(x)"
   ]
  },
  {
   "cell_type": "markdown",
   "id": "7a9f6b20",
   "metadata": {},
   "source": [
    "Q6. Write a Python program to find all elements that are in one set but not in \n",
    "another.  \n",
    "A = {10, 20, 30}  \n",
    "B = {20, 30, 40} "
   ]
  },
  {
   "cell_type": "code",
   "execution_count": 5,
   "id": "28b6b41e",
   "metadata": {},
   "outputs": [
    {
     "name": "stdout",
     "output_type": "stream",
     "text": [
      "{40, 10}\n"
     ]
    }
   ],
   "source": [
    "A = {10, 20, 30}  \n",
    "B = {20, 30, 40} \n",
    "x=A^B\n",
    "print(x)"
   ]
  },
  {
   "cell_type": "markdown",
   "id": "ad34a857",
   "metadata": {},
   "source": [
    "Q7. Write a Python program to remove a specific element(n) from a set, but \n",
    "only if it exists in the set.  \n",
    "S = {1, 2, 3, 4, 5} \n",
    "Test case 1: n = 2 \n",
    "Test case 2: n = 7 "
   ]
  },
  {
   "cell_type": "code",
   "execution_count": 6,
   "id": "db113826",
   "metadata": {},
   "outputs": [
    {
     "name": "stdout",
     "output_type": "stream",
     "text": [
      "{1, 2, 3, 5}\n"
     ]
    }
   ],
   "source": [
    "n=int(input())\n",
    "S = {1, 2, 3, 4, 5} \n",
    "if n in S:\n",
    "    S.remove(n)\n",
    "print(S)"
   ]
  }
 ],
 "metadata": {
  "kernelspec": {
   "display_name": "Python 3",
   "language": "python",
   "name": "python3"
  },
  "language_info": {
   "codemirror_mode": {
    "name": "ipython",
    "version": 3
   },
   "file_extension": ".py",
   "mimetype": "text/x-python",
   "name": "python",
   "nbconvert_exporter": "python",
   "pygments_lexer": "ipython3",
   "version": "3.11.9"
  }
 },
 "nbformat": 4,
 "nbformat_minor": 5
}
