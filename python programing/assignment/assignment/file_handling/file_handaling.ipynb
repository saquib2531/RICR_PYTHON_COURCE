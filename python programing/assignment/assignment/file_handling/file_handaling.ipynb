{
 "cells": [
  {
   "cell_type": "markdown",
   "id": "0829e7f3",
   "metadata": {},
   "source": [
    "1. Create a file named students.txt and write the following text into it:   \n",
    "Alice scored 85 in mathematics.   \n",
    "Bob scored 78 in science.   \n",
    "Charlie scored 92 in English."
   ]
  },
  {
   "cell_type": "code",
   "execution_count": 1,
   "id": "14d120cb",
   "metadata": {},
   "outputs": [],
   "source": [
    "with open('students.txt','w') as file:\n",
    "    file.write('Alice scored 85 in mathematics.\\nBob scored 78 in science.\\nCharlie scored 92 in English.')\n",
    "\n",
    "\n"
   ]
  },
  {
   "cell_type": "markdown",
   "id": "17a7eb17",
   "metadata": {},
   "source": [
    "2. Write a function to replace every occurrence of a score greater than 80 with \n",
    "the word \"Excellent\" in the file students.txt. "
   ]
  },
  {
   "cell_type": "code",
   "execution_count": null,
   "id": "744cf327",
   "metadata": {},
   "outputs": [
    {
     "name": "stdout",
     "output_type": "stream",
     "text": [
      "['Alice scored 85 in mathematics.\\n', 'Bob scored 78 in science.\\n', 'Charlie scored 92 in English.']\n"
     ]
    }
   ],
   "source": [
    "with open('students.txt','r') as file:\n",
    "    temp=file.readlines()\n",
    "print(temp)\n"
   ]
  },
  {
   "cell_type": "markdown",
   "id": "16922398",
   "metadata": {},
   "source": [
    "3. Check whether the word \"science\" exists in the file students.txt. "
   ]
  },
  {
   "cell_type": "markdown",
   "id": "7d228922",
   "metadata": {},
   "source": [
    "4. Write a function to find the first line where the word \"scored\" appears in the \n",
    "file students.txt. Print the line number, or -1 if the word is not found. "
   ]
  },
  {
   "cell_type": "markdown",
   "id": "a1dae83f",
   "metadata": {},
   "source": [
    "5. Create a file grades.txt containing grades separated by spaces (e.g., A B C A \n",
    "D A B). Write a program to count how many times the grade A appears in the \n",
    "file. "
   ]
  },
  {
   "cell_type": "markdown",
   "id": "17c5f43f",
   "metadata": {},
   "source": [
    "6. Create a file named story.txt and write a short story into it. Write a program \n",
    "to calculate the frequency of each word in the file and print the 5 most \n",
    "frequently occurring words. "
   ]
  },
  {
   "cell_type": "markdown",
   "id": "2eebd212",
   "metadata": {},
   "source": [
    "7. Create a file phrases.txt containing several lines of text. Write a function to \n",
    "identify and extract unique lines from the file and save them into a new file \n",
    "unique_phrases.txt. "
   ]
  },
  {
   "cell_type": "markdown",
   "id": "34c89a33",
   "metadata": {},
   "source": [
    "8. Create a file words.txt containing a list of words, one per line. Write a \n",
    "program to identify all palindromic words (e.g., \"madam\") and save them into \n",
    "a new file palindromes.txt. \n"
   ]
  },
  {
   "cell_type": "markdown",
   "id": "94a0bbc2",
   "metadata": {},
   "source": [
    "9. Create a file named inventory.txt with the following lines: \n",
    "Item: Apple, Quantity: 50   \n",
    "Item: Orange, Quantity: 30   \n",
    "Item: Banana, Quantity: 20   "
   ]
  },
  {
   "cell_type": "markdown",
   "id": "8a3daa83",
   "metadata": {},
   "source": [
    "10. Write a program using r+ mode to: \n",
    "Replace the quantity of \"Orange\" with 100. \n",
    "Append a new line: Item: Mango, Quantity: 40. "
   ]
  },
  {
   "cell_type": "markdown",
   "id": "1f0a3e3b",
   "metadata": {},
   "source": [
    "11. Write a program to create a file results.txt using w+ mode. Overwrite the \n",
    "file with the following text: \n",
    "John: 78   \n",
    "Doe: 85   \n",
    "Jane: 92   \n",
    "Then read the file content and print the name of the student with the highest \n",
    "score"
   ]
  }
 ],
 "metadata": {
  "kernelspec": {
   "display_name": "Python 3",
   "language": "python",
   "name": "python3"
  },
  "language_info": {
   "codemirror_mode": {
    "name": "ipython",
    "version": 3
   },
   "file_extension": ".py",
   "mimetype": "text/x-python",
   "name": "python",
   "nbconvert_exporter": "python",
   "pygments_lexer": "ipython3",
   "version": "3.11.9"
  }
 },
 "nbformat": 4,
 "nbformat_minor": 5
}
