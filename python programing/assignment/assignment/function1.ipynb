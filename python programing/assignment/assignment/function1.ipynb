{
 "cells": [
  {
   "cell_type": "markdown",
   "id": "1ec2de1b",
   "metadata": {},
   "source": [
    "Q1. Write a function add_numbers(a, b) that takes two arguments \n",
    "and returns their sum. "
   ]
  },
  {
   "cell_type": "code",
   "execution_count": 15,
   "id": "de46945e",
   "metadata": {},
   "outputs": [
    {
     "name": "stdout",
     "output_type": "stream",
     "text": [
      "7\n"
     ]
    }
   ],
   "source": [
    "def sum(a,b):\n",
    "    x=a+b\n",
    "    return x\n",
    "# a=int(input())\n",
    "# b=int(input())\n",
    "\n",
    "# print(sum(a,b))\n",
    "print(sum(3,4))\n"
   ]
  },
  {
   "cell_type": "markdown",
   "id": "53617403",
   "metadata": {},
   "source": [
    "Q2. Write a function is_even(n) that takes an integer and returns \n",
    "True if the number is even, otherwise False. "
   ]
  },
  {
   "cell_type": "code",
   "execution_count": 18,
   "id": "ba3ebd3b",
   "metadata": {},
   "outputs": [
    {
     "name": "stdout",
     "output_type": "stream",
     "text": [
      "False\n"
     ]
    }
   ],
   "source": [
    "def is_even(n):\n",
    "    if n%2==0:\n",
    "        return True\n",
    "    else:\n",
    "        return False\n",
    "print(is_even(int(input())))\n"
   ]
  },
  {
   "cell_type": "markdown",
   "id": "d323ada1",
   "metadata": {},
   "source": [
    "Q3. Write a function factorial(n) that takes a non-negative integer \n",
    "and returns its factorial. "
   ]
  },
  {
   "cell_type": "code",
   "execution_count": 40,
   "id": "9a6d38d9",
   "metadata": {},
   "outputs": [
    {
     "name": "stdout",
     "output_type": "stream",
     "text": [
      "720\n"
     ]
    }
   ],
   "source": [
    "def factorial(n):\n",
    "    x=1\n",
    "    for i in range(1,n+1):\n",
    "        x*=i\n",
    "    return x\n",
    "a=int(input())\n",
    "print(factorial(a))\n"
   ]
  },
  {
   "cell_type": "markdown",
   "id": "82fabde1",
   "metadata": {},
   "source": [
    "Q4. Write a function max_of_two(a, b) that takes two numbers and \n",
    "returns the larger of the two. "
   ]
  },
  {
   "cell_type": "code",
   "execution_count": 41,
   "id": "913e8eea",
   "metadata": {},
   "outputs": [
    {
     "name": "stdout",
     "output_type": "stream",
     "text": [
      "3\n"
     ]
    }
   ],
   "source": [
    "def max_of_two(a, b):\n",
    "    if a>b:\n",
    "        return a\n",
    "    else:\n",
    "        return b\n",
    "x=int(input())\n",
    "y=int(input())\n",
    "print(max_of_two(x,y))"
   ]
  },
  {
   "cell_type": "markdown",
   "id": "362aae5b",
   "metadata": {},
   "source": [
    "Q5. Write a function celsius_to_fahrenheit(c) that takes a \n",
    "temperature in Celsius and returns the temperature in Fahrenheit. \n",
    "(Formula: F = C * 9/5 + 32) "
   ]
  },
  {
   "cell_type": "code",
   "execution_count": 42,
   "id": "3f9de0f4",
   "metadata": {},
   "outputs": [
    {
     "name": "stdout",
     "output_type": "stream",
     "text": [
      "39.2\n"
     ]
    }
   ],
   "source": [
    "def celsius_to_fahrenheit(c):\n",
    "    f=c*9/5+32\n",
    "    return f\n",
    "\n",
    "print(celsius_to_fahrenheit(float(input())))"
   ]
  },
  {
   "cell_type": "markdown",
   "id": "03b2ab35",
   "metadata": {},
   "source": [
    "Q6. Write a function multiplication_table(n) that takes an integer \n",
    "and prints its multiplication table from 1 to 10."
   ]
  },
  {
   "cell_type": "code",
   "execution_count": 1,
   "id": "77779789",
   "metadata": {},
   "outputs": [
    {
     "name": "stdout",
     "output_type": "stream",
     "text": [
      "4\n",
      "8\n",
      "12\n",
      "16\n",
      "20\n",
      "24\n",
      "28\n",
      "32\n",
      "36\n",
      "40\n"
     ]
    }
   ],
   "source": [
    "def multiplication_table(n):\n",
    "    for i in range(1,11):\n",
    "        print(i*n)\n",
    "multiplication_table(int(input()))"
   ]
  }
 ],
 "metadata": {
  "kernelspec": {
   "display_name": "Python 3",
   "language": "python",
   "name": "python3"
  },
  "language_info": {
   "codemirror_mode": {
    "name": "ipython",
    "version": 3
   },
   "file_extension": ".py",
   "mimetype": "text/x-python",
   "name": "python",
   "nbconvert_exporter": "python",
   "pygments_lexer": "ipython3",
   "version": "3.11.9"
  }
 },
 "nbformat": 4,
 "nbformat_minor": 5
}
