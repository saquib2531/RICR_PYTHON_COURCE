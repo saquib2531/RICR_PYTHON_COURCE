{
 "cells": [
  {
   "cell_type": "markdown",
   "metadata": {},
   "source": [
    "Q1. Write a python program to divide the list into two equal halves \n",
    "and print the sum of each half. \n",
    "lst1 = [2,4,6,8,3,5,8,9] \n",
    "Output:  20, 25 \n",
    "20=(2+4+6+8) \n",
    "25=(3+5+8+9) "
   ]
  },
  {
   "cell_type": "code",
   "execution_count": 64,
   "metadata": {},
   "outputs": [
    {
     "name": "stdout",
     "output_type": "stream",
     "text": [
      "20 25\n"
     ]
    }
   ],
   "source": [
    "x=[2,4,6,8,3,5,8,9] \n",
    "half=len(x)//2\n",
    "first=0\n",
    "last=0\n",
    "for i in range(len(x)):\n",
    "    if i<half:\n",
    "        first+=x[i]\n",
    "    else:\n",
    "        last+=x[i]\n",
    "print(first,last)"
   ]
  },
  {
   "cell_type": "code",
   "execution_count": 2,
   "metadata": {},
   "outputs": [
    {
     "name": "stdout",
     "output_type": "stream",
     "text": [
      "20 25\n"
     ]
    }
   ],
   "source": [
    "lst1 = [2,4,6,8,3,5,8,9] \n",
    "s1=0\n",
    "s2=0\n",
    "for i in range(len(lst1)//2):\n",
    "    s1+=lst1[i]\n",
    "for i in range((len(lst1)//2),(len(lst1))):\n",
    "    s2+=lst1[i]\n",
    "print(s1,s2)"
   ]
  },
  {
   "cell_type": "markdown",
   "metadata": {},
   "source": [
    "Q2. Write a program to delete the element at the index equal to half \n",
    "the length of the given list. Print the list before and after deletion. \n",
    "Before: [2,3,4,5,6,7,8] \n",
    "After: [2,3,4,6,7,8] \n",
    "Note: List can be changed. "
   ]
  },
  {
   "cell_type": "code",
   "execution_count": 68,
   "metadata": {},
   "outputs": [
    {
     "name": "stdout",
     "output_type": "stream",
     "text": [
      "[2, 3, 4, 6, 7, 8]\n"
     ]
    }
   ],
   "source": [
    "x=[2,3,4,5,6,7,8] \n",
    "half=len(x)//2\n",
    "x1=[]\n",
    "for i in range(len(x)):\n",
    "    if i<half:\n",
    "        x1.append(x[i])\n",
    "    elif i>half:\n",
    "        x1.append(x[i])\n",
    "print(x1)"
   ]
  },
  {
   "cell_type": "code",
   "execution_count": 37,
   "metadata": {},
   "outputs": [
    {
     "name": "stdout",
     "output_type": "stream",
     "text": [
      "[2, 3, 4, 6, 7, 8]\n"
     ]
    }
   ],
   "source": [
    "x=[2,3,4,5,6,7,8] \n",
    "y1=[]\n",
    "y2=[]\n",
    "for i in range((len(x)//2)):\n",
    "    y1.append(x[i])\n",
    "for i in range((len(x)//2)+1,len(x)):\n",
    "    y2.append(x[i])\n",
    "print(y1+y2)\n"
   ]
  },
  {
   "cell_type": "markdown",
   "metadata": {},
   "source": [
    "Q3. Write a program to append a new integer to this list, which is the \n",
    "sum of the first and last elements of the list. Print the list before and \n",
    "after appending. \n",
    "Sample List: [23,43,56,87] \n",
    "Output: [23,43,56,87,110] \n",
    "(23+87) "
   ]
  },
  {
   "cell_type": "code",
   "execution_count": 71,
   "metadata": {},
   "outputs": [
    {
     "name": "stdout",
     "output_type": "stream",
     "text": [
      "[23, 43, 56, 87, 110]\n"
     ]
    }
   ],
   "source": [
    "x=[23,43,56,87] \n",
    "sum=0\n",
    "for i in range(len(x)):\n",
    "    if i==0 or i==len(x)-1:\n",
    "        sum+=x[i]\n",
    "x.append(sum)\n",
    "print(x)"
   ]
  },
  {
   "cell_type": "code",
   "execution_count": null,
   "metadata": {},
   "outputs": [
    {
     "name": "stdout",
     "output_type": "stream",
     "text": [
      "[23, 43, 56, 87, 110]\n"
     ]
    }
   ],
   "source": [
    "x=[23,43,56,87] \n",
    "y1=0\n",
    "y2=0\n",
    "for i in range(0,1,len(x)):\n",
    "    y1+=x[i]\n",
    "for i in range(-1,-2,-5):\n",
    "    y2+=x[i]\n",
    "y=y1+y2\n",
    "x.append(y)\n",
    "print(x)"
   ]
  },
  {
   "cell_type": "markdown",
   "metadata": {},
   "source": [
    "Q4. Write a program to insert the product of the first and last \n",
    "elements at the third position in the list. Print the list before and \n",
    "after insertion. \n",
    "Sample list = [34,56,23,76,23,46] \n",
    "Output: [34,56,23,1564,76,23,46] \n",
    "(34 * 46) "
   ]
  },
  {
   "cell_type": "code",
   "execution_count": 74,
   "metadata": {},
   "outputs": [
    {
     "name": "stdout",
     "output_type": "stream",
     "text": [
      "[34, 56, 23, 1564, 76, 23, 46]\n"
     ]
    }
   ],
   "source": [
    "x=[34,56,23,76,23,46] \n",
    "p=1\n",
    "for i in range(len(x)):\n",
    "    if i==0 or i==len(x)-1:\n",
    "        p*=x[i]\n",
    "x.insert(3,p)\n",
    "print(x)"
   ]
  },
  {
   "cell_type": "code",
   "execution_count": 53,
   "metadata": {},
   "outputs": [
    {
     "name": "stdout",
     "output_type": "stream",
     "text": [
      "[34, 56, 23, 1564, 76, 23, 46]\n"
     ]
    }
   ],
   "source": [
    "x=[34,56,23,76,23,46]\n",
    "y1=0\n",
    "y2=0\n",
    "for i in range(0,1,len(x)):\n",
    "    y1+=x[i]\n",
    "for i in range(-1,-2,-5):\n",
    "    y2+=x[i]\n",
    "y=y1*y2\n",
    "x.insert(3,y)\n",
    "print(x)"
   ]
  },
  {
   "cell_type": "markdown",
   "metadata": {},
   "source": [
    "Q5. Write a program to print the list of first and last elements of each \n",
    "list of lists. \n",
    "lst2 = [[23,45,76],[45,3,12],[3,5,20]] \n",
    "Output: [23,76,45,12,3,20] "
   ]
  },
  {
   "cell_type": "code",
   "execution_count": 62,
   "metadata": {},
   "outputs": [
    {
     "name": "stdout",
     "output_type": "stream",
     "text": [
      "[23, 76, 45, 12, 3, 20]\n"
     ]
    }
   ],
   "source": [
    "z = [[23,45,76],[45,3,12],[3,5,20]] \n",
    "x=[]\n",
    "for i in range(len(z)):\n",
    "    for j in range(len(z[i])):\n",
    "        if j==0 or j==len(z[i])-1:\n",
    "            x.append(z[i][j])\n",
    "print(x)"
   ]
  },
  {
   "cell_type": "markdown",
   "metadata": {},
   "source": [
    "Q6. Write a program to calculate and print the sum of max elements \n",
    "of each list of lists. \n",
    "lst3 = [[1,2,4,5],[3,5,4,3],[4,5,3,2]] \n",
    "Output: 15 # 15=(5+5+5) "
   ]
  },
  {
   "cell_type": "code",
   "execution_count": 82,
   "metadata": {},
   "outputs": [
    {
     "name": "stdout",
     "output_type": "stream",
     "text": [
      "15\n"
     ]
    }
   ],
   "source": [
    "x=[[1,2,4,5],[3,5,4,3],[4,5,3,2]]\n",
    "sum=0\n",
    "for i in range(len(x)):\n",
    "    for j in range(len(x[i])):\n",
    "        y=max(x[i])\n",
    "        sum+=y\n",
    "        break\n",
    "print(sum)"
   ]
  },
  {
   "cell_type": "code",
   "execution_count": 83,
   "metadata": {},
   "outputs": [
    {
     "name": "stdout",
     "output_type": "stream",
     "text": [
      "15\n"
     ]
    }
   ],
   "source": [
    "x=[[1,2,4,5],[3,5,4,3],[4,5,3,2]]\n",
    "sum=0\n",
    "for i in range(len(x)):\n",
    "    for j in range(1):\n",
    "        y=max(x[i])\n",
    "        sum+=y\n",
    "print(sum)"
   ]
  },
  {
   "cell_type": "markdown",
   "metadata": {},
   "source": [
    "Q7. Write a program to calculate and print the sum of elements in \n",
    "each list of lists and add the resultant values. Without using sum() \n",
    "function. \n",
    "Sample list = [[1,2,4,5],[3,5,4,3],[4,5,3,2]] \n",
    "Output: [12, 15, 14] \n",
    "41 =(12+15+14) \n",
    "lst = [2,5,7,1,4,6,10,11,6,12] \n"
   ]
  },
  {
   "cell_type": "code",
   "execution_count": 103,
   "metadata": {},
   "outputs": [
    {
     "name": "stdout",
     "output_type": "stream",
     "text": [
      "41\n"
     ]
    }
   ],
   "source": [
    "x=[[1,2,4,5],[3,5,4,3],[4,5,3,2]] \n",
    "sum=0\n",
    "final=0\n",
    "for i in range(len(x)):\n",
    "    for j in range(len(x[i])):\n",
    "        sum+=x[i][j]\n",
    "final+=sum\n",
    "print(final)"
   ]
  },
  {
   "cell_type": "markdown",
   "metadata": {},
   "source": [
    "Q8. Find the largest element of the above given list without using \n",
    "max() and sort() functions. "
   ]
  },
  {
   "cell_type": "code",
   "execution_count": null,
   "metadata": {},
   "outputs": [
    {
     "name": "stdout",
     "output_type": "stream",
     "text": [
      "12\n"
     ]
    }
   ],
   "source": [
    "x = [2,5,7,1,4,6,10,11,6,12]\n",
    "s=0\n",
    "for i in range(len(x)):\n",
    "    if x[i]>s:\n",
    "        s=(x[i])\n",
    "print(s)         "
   ]
  },
  {
   "cell_type": "code",
   "execution_count": 15,
   "metadata": {},
   "outputs": [
    {
     "name": "stdout",
     "output_type": "stream",
     "text": [
      "[5, 5, 5]\n"
     ]
    }
   ],
   "source": [
    "x=[[1,2,4,5],[3,5,4,2],[4,5,3,2]] \n",
    "y=[]\n",
    "s=0\n",
    "for i in range(len(x)):\n",
    "    s=0\n",
    "    for j in range(len(x[i])):\n",
    "        if x[i][j]>s:\n",
    "            s=x[i][j]\n",
    "    y.append(s)\n",
    "print(y)"
   ]
  },
  {
   "cell_type": "code",
   "execution_count": 6,
   "metadata": {},
   "outputs": [
    {
     "name": "stdout",
     "output_type": "stream",
     "text": [
      "[5, 5, 5]\n"
     ]
    }
   ],
   "source": [
    "x=[[1,2,4,5],[3,5,4,2],[4,5,3,2]] \n",
    "y=[]\n",
    "for i in range(len(x)):\n",
    "    for j in range(len(x[i])):\n",
    "        if x[i][0]>x[i][1] and  x[i][0]>x[i][2] and x[i][0]>x[i][3]:\n",
    "            # print(x[i][0])\n",
    "            y.append(x[i][0])\n",
    "            break\n",
    "        elif x[i][1]>x[i][0] and  x[i][1]>x[i][2] and x[i][1]>x[i][3]:\n",
    "            # print(x[i][1])\n",
    "            y.append(x[i][1])\n",
    "            break\n",
    "        elif x[i][2]>x[i][0] and  x[i][2]>x[i][1] and x[i][2]>x[i][3]:\n",
    "            # print(x[i][2])\n",
    "            y.append(x[i][2])\n",
    "            break\n",
    "        elif x[i][3]>x[i][0] and  x[i][3]>x[i][2] and x[i][3]>x[i][1]:\n",
    "            # print(x[i][3])\n",
    "            y.append(x[i][3])\n",
    "            break\n",
    "print(y)\n",
    "    \n",
    "        "
   ]
  },
  {
   "cell_type": "markdown",
   "metadata": {},
   "source": [
    "Q9. Find the Smallest element of the above given list without using \n",
    "min() and sort() functions. "
   ]
  },
  {
   "cell_type": "code",
   "execution_count": 10,
   "metadata": {},
   "outputs": [
    {
     "name": "stdout",
     "output_type": "stream",
     "text": [
      "1\n"
     ]
    }
   ],
   "source": [
    "x = [2,5,7,1,4,6,10,11,6,12]\n",
    "s=999999\n",
    "for i in range(len(x)):\n",
    "    if x[i]<s:\n",
    "        s=x[i]\n",
    "print(s)"
   ]
  },
  {
   "cell_type": "code",
   "execution_count": 49,
   "metadata": {},
   "outputs": [
    {
     "name": "stdout",
     "output_type": "stream",
     "text": [
      "[1, 1, 2]\n"
     ]
    }
   ],
   "source": [
    "x=[[1,2,4,5],[3,5,4,1],[4,5,3,2]] \n",
    "y=[]\n",
    "\n",
    "for i in range(len(x)):\n",
    "    s=99999\n",
    "    for j in range(len(x[i])):\n",
    "        if x[i][j]<s:\n",
    "            s=x[i][j]\n",
    "    y.append(s)\n",
    "print(y)"
   ]
  },
  {
   "cell_type": "code",
   "execution_count": 26,
   "metadata": {},
   "outputs": [
    {
     "name": "stdout",
     "output_type": "stream",
     "text": [
      "[1, 1, 2]\n"
     ]
    }
   ],
   "source": [
    "x=[[1,2,4,5],[3,5,4,1],[4,5,3,2]] \n",
    "y=[]\n",
    "for i in range(len(x)):\n",
    "    for j in range(len(x[i])):\n",
    "        if x[i][0]<x[i][1] and  x[i][0]<x[i][2] and x[i][0]<x[i][3]:\n",
    "            # print(x[i][0])\n",
    "            y.append(x[i][0])\n",
    "            break\n",
    "        elif x[i][1]<x[i][0] and  x[i][1]<x[i][2] and x[i][1]<x[i][3]:\n",
    "            # print(x[i][1])\n",
    "            y.append(x[i][1])\n",
    "            break\n",
    "        elif x[i][2]<x[i][0] and  x[i][2]<x[i][1] and x[i][2]<x[i][3]:\n",
    "            # print(x[i][2])\n",
    "            y.append(x[i][2])\n",
    "            break\n",
    "        elif x[i][3]<x[i][0] and  x[i][3]<x[i][2] and x[i][3]<x[i][1]:\n",
    "            # print(x[i][3])\n",
    "            y.append(x[i][3])\n",
    "            break\n",
    "print(y)"
   ]
  },
  {
   "cell_type": "markdown",
   "metadata": {},
   "source": [
    "Q10. Find the Second largest element of the above given list without \n",
    "using max() and sort() functions. "
   ]
  },
  {
   "cell_type": "code",
   "execution_count": 24,
   "metadata": {},
   "outputs": [
    {
     "name": "stdout",
     "output_type": "stream",
     "text": [
      "11\n"
     ]
    }
   ],
   "source": [
    "x = [2,5,7,1,4,6,10,11,6,12]\n",
    "s=0\n",
    "y=0\n",
    "for i in range(len(x)):\n",
    "    if x[i]>s:\n",
    "        s=x[i]\n",
    "for i in range(len(x)):\n",
    "    if x[i]>y and x[i]<s:\n",
    "        y=x[i]\n",
    "print(y)"
   ]
  },
  {
   "cell_type": "code",
   "execution_count": null,
   "metadata": {},
   "outputs": [
    {
     "name": "stdout",
     "output_type": "stream",
     "text": [
      "[4, 4, 4]\n"
     ]
    }
   ],
   "source": [
    "x=[[1,2,4,5],[3,5,4,2],[4,5,3,2]] \n",
    "y=[]\n",
    "\n",
    "for i in range(len(x)):\n",
    "    s=0\n",
    "    for j in range(len(x[i])):\n",
    "        if x[i][j]>s:\n",
    "            s=x[i][j]\n",
    "l=[]\n",
    "for i in range(len(x)):\n",
    "    r=0\n",
    "    for j in range(len(x[i])):\n",
    "        \n",
    "        if x[i][j]>r and x[i][j]<s:\n",
    "            r=x[i][j]\n",
    "    l.append(r)\n",
    "print(l)"
   ]
  },
  {
   "cell_type": "code",
   "execution_count": 3,
   "metadata": {},
   "outputs": [
    {
     "name": "stdout",
     "output_type": "stream",
     "text": [
      "34\n"
     ]
    }
   ],
   "source": [
    "x=[34,56,23,76]\n",
    "for i in range(len(x)):\n",
    "     if x[i]>x[1] and  x[1]>x[2] or  x[1]>x[3]:\n",
    "          print(x[1])\n",
    "          break\n",
    "     elif x[i]>x[0] and  x[0]>x[2] or x[0]>x[3]:\n",
    "          print(x[0])\n",
    "          break\n",
    "     elif x[i]>x[2] and  x[2]>x[1] and x[2]>x[3]:\n",
    "          print(x[i])\n",
    "          break\n",
    "     elif x[i]>x[3] and  x[3]>x[2] and x[3]>x[1]:\n",
    "          print(x[i])\n",
    "          break"
   ]
  },
  {
   "cell_type": "markdown",
   "metadata": {},
   "source": [
    "Q11. Find the Second Smallest element of the above given list \n",
    "without using min() and sort() functions."
   ]
  },
  {
   "cell_type": "code",
   "execution_count": 13,
   "metadata": {},
   "outputs": [
    {
     "name": "stdout",
     "output_type": "stream",
     "text": [
      "2\n"
     ]
    }
   ],
   "source": [
    "x = [2,5,7,1,4,6,10,11,6,12]\n",
    "s=999999\n",
    "y=999999\n",
    "for i in range(len(x)):\n",
    "    if x[i]<s:\n",
    "        s=x[i]\n",
    "\n",
    "for i in range(len(x)):\n",
    "    \n",
    "    if x[i]<y and x[i]>s:\n",
    "        y=x[i]\n",
    "print(y)"
   ]
  },
  {
   "cell_type": "code",
   "execution_count": 21,
   "metadata": {},
   "outputs": [
    {
     "name": "stdout",
     "output_type": "stream",
     "text": [
      "[1, 2, 2]\n",
      "[2, 3, 3]\n"
     ]
    }
   ],
   "source": [
    "x=[[1,2,4,5],[3,5,4,2],[4,5,3,2]]\n",
    "y=[]\n",
    "\n",
    "for i in range(len(x)):\n",
    "    s=9999999\n",
    "   \n",
    "    for j in range(len(x[i])):\n",
    "        if x[i][j]<s :\n",
    "            s=x[i][j]\n",
    "    y.append(s)\n",
    "print(y)\n",
    "l=[]\n",
    "for i in range(len(x)):\n",
    "    s=99999999\n",
    "    for j in range(len(x[i])):\n",
    "        if x[i][j]<s and x[i][j]>y[i]:\n",
    "            s=x[i][j]\n",
    "    l.append(s)\n",
    "print(l)\n",
    "\n"
   ]
  }
 ],
 "metadata": {
  "kernelspec": {
   "display_name": "Python 3",
   "language": "python",
   "name": "python3"
  },
  "language_info": {
   "codemirror_mode": {
    "name": "ipython",
    "version": 3
   },
   "file_extension": ".py",
   "mimetype": "text/x-python",
   "name": "python",
   "nbconvert_exporter": "python",
   "pygments_lexer": "ipython3",
   "version": "3.11.9"
  }
 },
 "nbformat": 4,
 "nbformat_minor": 2
}
