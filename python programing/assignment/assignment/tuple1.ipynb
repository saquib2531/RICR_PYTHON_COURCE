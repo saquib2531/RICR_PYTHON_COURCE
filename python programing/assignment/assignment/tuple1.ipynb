{
 "cells": [
  {
   "cell_type": "markdown",
   "metadata": {},
   "source": [
    "Q1. Write a python program to create a tuple with elements 'apple', \n",
    "'banana', 'cherry'. Print the first and last elements. "
   ]
  },
  {
   "cell_type": "code",
   "execution_count": 2,
   "metadata": {},
   "outputs": [
    {
     "name": "stdout",
     "output_type": "stream",
     "text": [
      "first element = apple\n",
      "last element = cherry\n"
     ]
    }
   ],
   "source": [
    "x=('apple','banana','cherry')\n",
    "first=x[0]\n",
    "last=x[-1]\n",
    "\n",
    "print('first element =',first)\n",
    "print('last element =',last)"
   ]
  },
  {
   "cell_type": "markdown",
   "metadata": {},
   "source": [
    "Q2. Write a python program which prints the second last element \n",
    "and check if 'blue' is in the given tuple. \n",
    "t = ('red', 'green', 'blue', 'yellow') "
   ]
  },
  {
   "cell_type": "code",
   "execution_count": 5,
   "metadata": {},
   "outputs": [
    {
     "name": "stdout",
     "output_type": "stream",
     "text": [
      "blue\n",
      "True\n"
     ]
    }
   ],
   "source": [
    "t = ('red', 'green', 'blue', 'yellow') \n",
    "print(t[-2])\n",
    "print('blue' in t)"
   ]
  },
  {
   "cell_type": "markdown",
   "metadata": {},
   "source": [
    "Q3. Write a python program in which slice the given tuple to get the \n",
    "elements from the second to the fourth position. Print the sliced \n",
    "tuple and its length. \n",
    "tpl = ('a', 'b', 'c', 'd', 'e') "
   ]
  },
  {
   "cell_type": "code",
   "execution_count": 6,
   "metadata": {},
   "outputs": [
    {
     "name": "stdout",
     "output_type": "stream",
     "text": [
      "('b', 'c', 'd')\n",
      "3\n"
     ]
    }
   ],
   "source": [
    "tpl = ('a', 'b', 'c', 'd', 'e') \n",
    "y= tpl[1:4]\n",
    "print(y)\n",
    "print(len(y))"
   ]
  },
  {
   "cell_type": "markdown",
   "metadata": {},
   "source": [
    "Q4. Write a python program to concatenate the given tuples. Print \n",
    "the result and then sort the tuple and print it. \n",
    "t1 = ('a', 'b', 'c') \n",
    "t2 = ('d', 'e', 'f') \n",
    "Output: ('a', 'b', 'c', 'd', 'e', 'f') \n",
    "('a', 'b', 'c', 'd', 'e', 'f') "
   ]
  },
  {
   "cell_type": "code",
   "execution_count": 8,
   "metadata": {},
   "outputs": [
    {
     "name": "stdout",
     "output_type": "stream",
     "text": [
      "('a', 'b', 'c', 'd', 'e', 'f')\n",
      "['a', 'b', 'c', 'd', 'e', 'f']\n"
     ]
    }
   ],
   "source": [
    "t1 = ('a', 'b', 'c') \n",
    "t2 = ('d', 'e', 'f') \n",
    "x= t1+t2\n",
    "print(x)\n",
    "y=sorted(x)\n",
    "print(y)"
   ]
  },
  {
   "cell_type": "markdown",
   "metadata": {},
   "source": [
    "Q5. Write a program to count how many times 5 appears and find \n",
    "the index of the first occurrence of 3. Print both results. \n",
    "t = (1, 2, 3, 4, 5, 5, 5, 6). "
   ]
  },
  {
   "cell_type": "code",
   "execution_count": 10,
   "metadata": {},
   "outputs": [
    {
     "name": "stdout",
     "output_type": "stream",
     "text": [
      "3\n",
      "2\n"
     ]
    }
   ],
   "source": [
    "t = (1, 2, 3, 4, 5, 5, 5, 6)\n",
    "x=t.count(5)\n",
    "print(x)\n",
    "for i in range(len(t)):\n",
    "    if t[i]==3:\n",
    "        print(i)"
   ]
  },
  {
   "cell_type": "markdown",
   "metadata": {},
   "source": [
    "Q6. Write a program to create a tuple with elements ('cat', 'dog', \n",
    "'mouse', 'elephant'). Slice it to get the first two elements and print \n",
    "them and also print the after sorting the tuple. "
   ]
  },
  {
   "cell_type": "code",
   "execution_count": 11,
   "metadata": {},
   "outputs": [
    {
     "name": "stdout",
     "output_type": "stream",
     "text": [
      "('cat', 'dog')\n",
      "['cat', 'dog', 'elephant', 'mouse']\n"
     ]
    }
   ],
   "source": [
    "tpl=('cat', 'dog', 'mouse', 'elephant')\n",
    "x=tpl[0:2]\n",
    "print(x)\n",
    "y=sorted(tpl)\n",
    "print(y)"
   ]
  },
  {
   "cell_type": "markdown",
   "metadata": {},
   "source": [
    "Q7. Write a python program which prints the last element of given \n",
    "tuple and check if 'Hello' is in the tuple. Print the results. \n",
    "tpl = ('python', 'java', 'c++', 'ruby') \n",
    "Output: ‘ruby’ \n",
    "False "
   ]
  },
  {
   "cell_type": "code",
   "execution_count": 12,
   "metadata": {},
   "outputs": [
    {
     "name": "stdout",
     "output_type": "stream",
     "text": [
      "ruby\n",
      "False\n"
     ]
    }
   ],
   "source": [
    "tpl = ('python', 'java', 'c++', 'ruby') \n",
    "print(tpl[-1])\n",
    "print('Hello' in tpl)\n"
   ]
  },
  {
   "cell_type": "markdown",
   "metadata": {},
   "source": [
    "Q8. Write a python program to create a tuple with elements ('hello', \n",
    "'world', 'python'). Print its length then add ‘3’ as int at the last of \n",
    "tuple and Print \n",
    "Output: 3 \n",
    "[‘hello’,’world’,’python’,3] "
   ]
  },
  {
   "cell_type": "code",
   "execution_count": 15,
   "metadata": {},
   "outputs": [
    {
     "name": "stdout",
     "output_type": "stream",
     "text": [
      "3\n",
      "['hello', 'world', 'python', 3]\n"
     ]
    }
   ],
   "source": [
    "tpl=('hello', 'world', 'python')\n",
    "print(len(tpl))\n",
    "y=list(tpl)\n",
    "y.append(3)\n",
    "print(y)"
   ]
  },
  {
   "cell_type": "markdown",
   "metadata": {},
   "source": [
    "Q9. Write a python program which access first six elements of the \n",
    "given tuple, then count how many times 5 appears in the new tuple. \n",
    "Print both results. \n",
    "t = (1, 2, 5, 5, 6, 3, 4, 5, 5, 5, 6)  "
   ]
  },
  {
   "cell_type": "code",
   "execution_count": 16,
   "metadata": {},
   "outputs": [
    {
     "name": "stdout",
     "output_type": "stream",
     "text": [
      "(1, 2, 5, 5, 6, 3)\n",
      "2\n"
     ]
    }
   ],
   "source": [
    "t = (1, 2, 5, 5, 6, 3, 4, 5, 5, 5, 6)  \n",
    "x=t[0:6]\n",
    "print(x)\n",
    "y=x.count(5)\n",
    "print(y)"
   ]
  },
  {
   "cell_type": "markdown",
   "metadata": {},
   "source": [
    "Q10. Write a python program in which concatenate the given tuples \n",
    "and print the resulting tuple and the third element of generated \n",
    "tuple. \n",
    "t1 = ('java', 'python') \n",
    "t2 = ('c', 'ruby')"
   ]
  },
  {
   "cell_type": "code",
   "execution_count": 17,
   "metadata": {},
   "outputs": [
    {
     "name": "stdout",
     "output_type": "stream",
     "text": [
      "('java', 'python', 'c', 'ruby')\n",
      "c\n"
     ]
    }
   ],
   "source": [
    "t1 = ('java', 'python') \n",
    "t2 = ('c', 'ruby')\n",
    "x=t1+t2\n",
    "print(x)\n",
    "print(x[2])"
   ]
  }
 ],
 "metadata": {
  "kernelspec": {
   "display_name": "Python 3",
   "language": "python",
   "name": "python3"
  },
  "language_info": {
   "codemirror_mode": {
    "name": "ipython",
    "version": 3
   },
   "file_extension": ".py",
   "mimetype": "text/x-python",
   "name": "python",
   "nbconvert_exporter": "python",
   "pygments_lexer": "ipython3",
   "version": "3.11.9"
  }
 },
 "nbformat": 4,
 "nbformat_minor": 2
}
