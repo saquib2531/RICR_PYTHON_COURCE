{
 "cells": [
  {
   "cell_type": "markdown",
   "metadata": {},
   "source": [
    "1. Write a python program that take a number from user then add all \n",
    "the natural number which are divisible by 3 or 5 both till that input \n",
    "number.\n",
    "Sample input:\n",
    "Enter a number: 10\n",
    "Output: 33"
   ]
  },
  {
   "cell_type": "code",
   "execution_count": null,
   "metadata": {},
   "outputs": [],
   "source": [
    "x=0\n",
    "n=int(input('enter the no.'))\n",
    "for i in range(1,n+1):\n",
    "    if i%3==0 or i%5==0:\n",
    "        x+=i\n",
    "print(x,end='')"
   ]
  },
  {
   "cell_type": "markdown",
   "metadata": {},
   "source": [
    "2. Write a python program that takes input from user then print the \n",
    "table of the entered number using for loop\n",
    "Example: If user enters ‘5’ then, \n",
    "Output: 5 x 1 = 5\n",
    " 5 x 2=10\n",
    " 5 x 3 =15\n",
    " 5 x 4 =20\n",
    " 5 x 5 = 25\n",
    " 5 x 6 = 30\n",
    " 5 x 7 = 35 \n",
    " 5 x 8 = 40\n",
    " 5 x 9 = 45\n",
    " 5 x 10 =50"
   ]
  },
  {
   "cell_type": "code",
   "execution_count": null,
   "metadata": {},
   "outputs": [],
   "source": [
    "n=int(input('enter the no.'))\n",
    "for i in range(1,11):\n",
    "    print('5 *',i,'=',n*i)"
   ]
  },
  {
   "cell_type": "markdown",
   "metadata": {},
   "source": [
    "3. Write a python program that print the given series.\n",
    "Expected Output: 20, 16, 12, 8, 4, 0"
   ]
  },
  {
   "cell_type": "code",
   "execution_count": null,
   "metadata": {},
   "outputs": [],
   "source": [
    "for i in range(20,-1,-4):\n",
    "    print(i,end=',')"
   ]
  },
  {
   "cell_type": "markdown",
   "metadata": {},
   "source": [
    "4. Write a python program to generate all the factors of the given \n",
    "number. Using for loop\n",
    "Input: 12\n",
    "Output: 1, 2, 3, 4, 12"
   ]
  },
  {
   "cell_type": "code",
   "execution_count": null,
   "metadata": {},
   "outputs": [],
   "source": [
    "n=int(input('enter the no.'))\n",
    "for i in range(1,n+1):\n",
    "    if n%i==0:\n",
    "        print(i,end=',')"
   ]
  },
  {
   "cell_type": "markdown",
   "metadata": {},
   "source": [
    "5. Write a Python program to find the sum of digit of a given number\n",
    "using for loop. (between 100 and 999).\n",
    "Input: 123\n",
    "Output: 6"
   ]
  },
  {
   "cell_type": "code",
   "execution_count": null,
   "metadata": {},
   "outputs": [],
   "source": [
    "x=0\n",
    "n=int(input('enter the no.'))\n",
    "for i in range(3):\n",
    "    r=n%10\n",
    "    x+=r\n",
    "    n//=10\n",
    "print(x,end=',')"
   ]
  },
  {
   "cell_type": "markdown",
   "metadata": {},
   "source": [
    "6. write a python program that takes number from user then prints \n",
    "count of even and odd number from 1 to till that number\n",
    "Sample input:\n",
    "Enter a number: 10\n",
    "Output:\n",
    "Count_of_even_no.s = 5\n",
    "Count_of_odd_no.s = 5"
   ]
  },
  {
   "cell_type": "code",
   "execution_count": null,
   "metadata": {},
   "outputs": [],
   "source": [
    "evn=0\n",
    "odd=0\n",
    "n=int(input('enter the no.'))\n",
    "for i in range(1,n+1):\n",
    "    if i%2==0:\n",
    "        evn+=1\n",
    "    else:\n",
    "        odd+=1\n",
    "print(' Count_of_even_no.s',evn,'\\n','Count_of_odd_no.s',odd)"
   ]
  },
  {
   "cell_type": "markdown",
   "metadata": {},
   "source": [
    "7. Write a Python program to count how many numbers between 1 \n",
    "and 200 are divisible by 5 but not by 2."
   ]
  },
  {
   "cell_type": "code",
   "execution_count": 1,
   "metadata": {},
   "outputs": [
    {
     "name": "stdout",
     "output_type": "stream",
     "text": [
      "5,15,25,35,45,55,65,75,85,95,105,115,125,135,145,155,165,175,185,195,"
     ]
    }
   ],
   "source": [
    "\n",
    "for i in range(1,201):\n",
    "    if i%5==0 and i%2!=0:\n",
    "        print(i,end=',')"
   ]
  },
  {
   "cell_type": "markdown",
   "metadata": {},
   "source": [
    "8. Write a Python program to find the reverse of a given number\n",
    "using for loop. (between 100 and 999).\n",
    "Input: 897\n",
    "Output: 798\n"
   ]
  },
  {
   "cell_type": "code",
   "execution_count": null,
   "metadata": {},
   "outputs": [],
   "source": [
    "x=0\n",
    "n=int(input('enter the no.'))\n",
    "for i in range(3):\n",
    "    r=n%10\n",
    "    x=x*10+r\n",
    "    n//=10\n",
    "print(x,end=',')"
   ]
  },
  {
   "cell_type": "markdown",
   "metadata": {},
   "source": [
    "9. Write a python program to input a number and calculate the \n",
    "‘double’ factorial using for loop.\n",
    "Explanation: Double factorial,\n",
    "• For an even integer n, the double factorial is the product of all \n",
    "even integers less than or equal to n.\n",
    "• For an odd integer p, the double factorial is the product of all \n",
    "odd integers less than or equal to p."
   ]
  },
  {
   "cell_type": "code",
   "execution_count": null,
   "metadata": {},
   "outputs": [],
   "source": [
    "n=int(input('enter the no.'))\n",
    "ans=1\n",
    "for i in range(n,0,-2):\n",
    "    ans*=i\n",
    "print(ans,end=',')"
   ]
  },
  {
   "cell_type": "markdown",
   "metadata": {},
   "source": [
    "10. Write a python program which takes number as an input and \n",
    "check whether that number is prime or not.\n",
    "Input: 13\n",
    "Output: prime"
   ]
  },
  {
   "cell_type": "code",
   "execution_count": null,
   "metadata": {},
   "outputs": [],
   "source": [
    "n=int(input('enter the no.'))\n",
    "x=n-1\n",
    "for i in range(x,0,-1):\n",
    "    if x%i!=0:\n",
    "        print('prime')\n",
    "    elif x%i==0:\n",
    "        print('not prime')\n"
   ]
  },
  {
   "cell_type": "markdown",
   "metadata": {},
   "source": [
    "basics\n"
   ]
  },
  {
   "cell_type": "markdown",
   "metadata": {},
   "source": [
    "1. How can you use a for loop to print numbers from 5 to 15?"
   ]
  },
  {
   "cell_type": "code",
   "execution_count": null,
   "metadata": {},
   "outputs": [],
   "source": [
    "for i in range(5,16):\n",
    "    print(i,end=',')"
   ]
  },
  {
   "cell_type": "markdown",
   "metadata": {},
   "source": [
    "2. Write a for loop to print the first 12 even numbers."
   ]
  },
  {
   "cell_type": "code",
   "execution_count": null,
   "metadata": {},
   "outputs": [],
   "source": [
    "for i in range(2,25):\n",
    "    if i%2==0:\n",
    "        print(i,end=',')"
   ]
  },
  {
   "cell_type": "markdown",
   "metadata": {},
   "source": [
    "3. How can you print the first 7 odd numbers using a for loop?"
   ]
  },
  {
   "cell_type": "code",
   "execution_count": null,
   "metadata": {},
   "outputs": [],
   "source": [
    "for i in range(1,14):\n",
    "    if i%2!=0:\n",
    "        print(i,end=',')"
   ]
  },
  {
   "cell_type": "markdown",
   "metadata": {},
   "source": [
    "4. Use a for loop to print the numbers from 20 to 1 in reverse order."
   ]
  },
  {
   "cell_type": "code",
   "execution_count": null,
   "metadata": {},
   "outputs": [],
   "source": [
    "for i in range(20,0,-1):\n",
    "    print(i,end=',')"
   ]
  },
  {
   "cell_type": "markdown",
   "metadata": {},
   "source": [
    "5. Write a program using a for loop to print the square of numbers from 2 to 12."
   ]
  },
  {
   "cell_type": "code",
   "execution_count": null,
   "metadata": {},
   "outputs": [],
   "source": [
    "for i in range(2,13):\n",
    "    i*=i\n",
    "    print(i,end=',')"
   ]
  },
  {
   "cell_type": "markdown",
   "metadata": {},
   "source": [
    "6. How can you print the first 6 cubes of natural numbers using a for loop?"
   ]
  },
  {
   "cell_type": "code",
   "execution_count": null,
   "metadata": {},
   "outputs": [],
   "source": [
    "for i in range(1,7):\n",
    "    i=i**3\n",
    "    print(i,end=',')"
   ]
  },
  {
   "cell_type": "markdown",
   "metadata": {},
   "source": [
    "7. Write a for loop that prints multiples of 5 from 1 to 50."
   ]
  },
  {
   "cell_type": "code",
   "execution_count": null,
   "metadata": {},
   "outputs": [],
   "source": [
    "x=1\n",
    "for i in range(1,11):\n",
    "   x=i*5\n",
    "   print('5 *',i,'=',x)"
   ]
  },
  {
   "cell_type": "markdown",
   "metadata": {},
   "source": [
    "8. How can you print numbers from 1 to 30, but only display numbers that are divisible by\n",
    "both 3 and 4?"
   ]
  },
  {
   "cell_type": "code",
   "execution_count": null,
   "metadata": {},
   "outputs": [],
   "source": [
    "for i in range(1,31):\n",
    "    if i%3==0 and i%4==0:\n",
    "        print(i,end=',')"
   ]
  },
  {
   "cell_type": "markdown",
   "metadata": {},
   "source": [
    "9. Write a for loop to print numbers from 1 to 40, but skip numbers that are divisible\n",
    "by 7."
   ]
  },
  {
   "cell_type": "code",
   "execution_count": null,
   "metadata": {},
   "outputs": [],
   "source": [
    "for i in range(1,41):\n",
    "    if i%7==0:\n",
    "        continue\n",
    "    print(i,end=',')"
   ]
  },
  {
   "cell_type": "markdown",
   "metadata": {},
   "source": [
    "10. Write a for loop to find and print the sum of squares of the first 6 natural numbers."
   ]
  },
  {
   "cell_type": "code",
   "execution_count": null,
   "metadata": {},
   "outputs": [],
   "source": [
    "x=0\n",
    "for i in range(1,7):\n",
    "    i=i**2\n",
    "    x+=i\n",
    "print(x)"
   ]
  },
  {
   "cell_type": "markdown",
   "metadata": {},
   "source": [
    "11. WAP to count how many numbers between 1 and 60 are odd using a for loop?"
   ]
  },
  {
   "cell_type": "code",
   "execution_count": null,
   "metadata": {},
   "outputs": [],
   "source": [
    "x=0\n",
    "for i in range(1,61):\n",
    "    if i%2!=0:\n",
    "        x+=1\n",
    "print(x)"
   ]
  },
  {
   "cell_type": "markdown",
   "metadata": {},
   "source": [
    "12. Write a for loop to print numbers from 1 to 30, but replace numbers divisible by 5 with\n",
    "\"Five\"."
   ]
  },
  {
   "cell_type": "code",
   "execution_count": null,
   "metadata": {},
   "outputs": [],
   "source": [
    "for i in range(1,31):\n",
    "    if i%5==0:\n",
    "        i=='Five'\n",
    "        print(i)\n",
    "\n"
   ]
  },
  {
   "cell_type": "markdown",
   "metadata": {},
   "source": [
    "13. How can you calculate the sum of digits of a number (input by user) using a for loop?"
   ]
  },
  {
   "cell_type": "code",
   "execution_count": null,
   "metadata": {},
   "outputs": [],
   "source": [
    "x=0\n",
    "n=int(input('enter the no.'))\n",
    "for i in range(10):\n",
    "    r=n%10\n",
    "    x+=r\n",
    "    n//=10\n",
    "   \n",
    "print(x)\n"
   ]
  },
  {
   "cell_type": "markdown",
   "metadata": {},
   "source": [
    "14. Write a for loop to print the first 8 powers of 3 (3^1 to 3^8)."
   ]
  },
  {
   "cell_type": "code",
   "execution_count": null,
   "metadata": {},
   "outputs": [],
   "source": [
    "for i in range(1,9):\n",
    "    i=3**i\n",
    "    print(i,end=',')"
   ]
  }
 ],
 "metadata": {
  "kernelspec": {
   "display_name": "Python 3",
   "language": "python",
   "name": "python3"
  },
  "language_info": {
   "codemirror_mode": {
    "name": "ipython",
    "version": 3
   },
   "file_extension": ".py",
   "mimetype": "text/x-python",
   "name": "python",
   "nbconvert_exporter": "python",
   "pygments_lexer": "ipython3",
   "version": "3.11.9"
  }
 },
 "nbformat": 4,
 "nbformat_minor": 2
}
