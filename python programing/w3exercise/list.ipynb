{
 "cells": [
  {
   "cell_type": "code",
   "execution_count": null,
   "id": "4331b1cf",
   "metadata": {},
   "outputs": [],
   "source": []
  },
  {
   "cell_type": "markdown",
   "id": "fb73271b",
   "metadata": {},
   "source": [
    "1. Sum Items in List\n",
    "\n",
    "Write a Python program to sum all the items in a list. Computer program development"
   ]
  },
  {
   "cell_type": "code",
   "execution_count": 1,
   "id": "375fead8",
   "metadata": {},
   "outputs": [
    {
     "name": "stdout",
     "output_type": "stream",
     "text": [
      "36\n"
     ]
    }
   ],
   "source": [
    "lst=[1,2,3,4,5,6,7,8]\n",
    "s=0\n",
    "for i in lst:\n",
    "    s+=i\n",
    "print(s)"
   ]
  },
  {
   "cell_type": "markdown",
   "id": "d340d2e6",
   "metadata": {},
   "source": [
    "2. Multiply Items in List\n",
    "\n",
    "Write a Python program to multiply all the items in a list."
   ]
  },
  {
   "cell_type": "code",
   "execution_count": 2,
   "id": "97a081ef",
   "metadata": {},
   "outputs": [
    {
     "name": "stdout",
     "output_type": "stream",
     "text": [
      "40320\n"
     ]
    }
   ],
   "source": [
    "m=1\n",
    "for i in lst:\n",
    "    m*=i\n",
    "print(m)"
   ]
  },
  {
   "cell_type": "markdown",
   "id": "070d0975",
   "metadata": {},
   "source": [
    "3. Get Largest Number in List\n",
    "\n",
    "Write a Python program to get the largest number from a list."
   ]
  },
  {
   "cell_type": "code",
   "execution_count": 3,
   "id": "d0b47899",
   "metadata": {},
   "outputs": [
    {
     "name": "stdout",
     "output_type": "stream",
     "text": [
      "8\n"
     ]
    }
   ],
   "source": [
    "m=max(lst)\n",
    "print(m)"
   ]
  },
  {
   "cell_type": "code",
   "execution_count": 4,
   "id": "42fed544",
   "metadata": {},
   "outputs": [
    {
     "name": "stdout",
     "output_type": "stream",
     "text": [
      "8\n"
     ]
    }
   ],
   "source": [
    "if lst[0]>lst[1]:\n",
    "    largest=lst[0]\n",
    "else:\n",
    "    largest=lst[1]\n",
    "for i in range(2,len(lst)):\n",
    "    if lst[i]>largest:\n",
    "        largest=lst[i]\n",
    "print(largest)"
   ]
  },
  {
   "cell_type": "markdown",
   "id": "28d55022",
   "metadata": {},
   "source": [
    "4. Get Smallest Number in List\n",
    "\n",
    "Write a Python program to get the smallest number from a list."
   ]
  },
  {
   "cell_type": "code",
   "execution_count": 5,
   "id": "2f71b70c",
   "metadata": {},
   "outputs": [
    {
     "name": "stdout",
     "output_type": "stream",
     "text": [
      "1\n"
     ]
    }
   ],
   "source": [
    "print(min(lst))"
   ]
  },
  {
   "cell_type": "code",
   "execution_count": 7,
   "id": "e883f809",
   "metadata": {},
   "outputs": [
    {
     "name": "stdout",
     "output_type": "stream",
     "text": [
      "1\n"
     ]
    }
   ],
   "source": [
    "if lst[0]>lst[1]:\n",
    "    smallest=lst[1]\n",
    "else:\n",
    "    smallest=lst[0]\n",
    "for i in range(2,len(lst)):\n",
    "    if lst[i]<smallest:\n",
    "        smallest=lst[i]\n",
    "print(smallest)"
   ]
  },
  {
   "cell_type": "markdown",
   "id": "e500e4bb",
   "metadata": {},
   "source": [
    "5. Count Strings with Same Start and End\n",
    "\n",
    "Write a Python program to count the number of strings from a given list of strings. The string length is 2 or more and the first and last characters are the same.\n",
    "Sample List : ['abc', 'xyz', 'aba', '1221']\n",
    "Expected Result : 2"
   ]
  },
  {
   "cell_type": "code",
   "execution_count": 9,
   "id": "86b8e48d",
   "metadata": {},
   "outputs": [
    {
     "name": "stdout",
     "output_type": "stream",
     "text": [
      "2\n"
     ]
    }
   ],
   "source": [
    "x=['abc', 'xyz', 'aba', '1221']\n",
    "c=0\n",
    "for i in x:\n",
    "    if len(i)>=2:\n",
    "        if i[0]==i[-1]:\n",
    "            c+=1\n",
    "print(c)"
   ]
  },
  {
   "cell_type": "markdown",
   "id": "2eb3d9b3",
   "metadata": {},
   "source": [
    "6. Sort Tuples by Last Element\n",
    "\n",
    "Write a Python program to get a list, sorted in increasing order by the last element in each tuple from a given list of non-empty tuples.\n",
    "Sample List : [(2, 5), (1, 2), (4, 4), (2, 3), (2, 1)]\n",
    "\n",
    "\n",
    "Expected Result : [(2, 1), (1, 2), (2, 3), (4, 4), (2, 5)]"
   ]
  },
  {
   "cell_type": "code",
   "execution_count": 48,
   "id": "47cceed4",
   "metadata": {},
   "outputs": [
    {
     "name": "stdout",
     "output_type": "stream",
     "text": [
      "[[1, 2], [1, 2], [2, 3], [2, 5], [4, 4]]\n"
     ]
    }
   ],
   "source": [
    "x=[(2, 5), (1, 2), (4, 4), (2, 3), (2, 1)]\n",
    "n=[]\n",
    "for i in x:\n",
    "    l=sorted(i)\n",
    "    n.append(sorted(i))\n",
    "l=sorted(n)\n",
    "print(l)"
   ]
  },
  {
   "cell_type": "markdown",
   "id": "505b02d8",
   "metadata": {},
   "source": [
    "7. Remove Duplicates from List\n",
    "\n",
    "Computer program development\n",
    "Write a Python program to remove duplicates from a list.\n"
   ]
  },
  {
   "cell_type": "code",
   "execution_count": null,
   "id": "86c7598c",
   "metadata": {},
   "outputs": [
    {
     "name": "stdout",
     "output_type": "stream",
     "text": [
      "[1, 2, 3, 6, 4, 5, 7, 8]\n"
     ]
    }
   ],
   "source": [
    "# lst=[1, 2, 3, 4, 5, 6,4,5, 7, 8]\n",
    "for i in lst:\n",
    "    if lst.count(i)>1:\n",
    "        lst.remove(i)\n",
    "print(lst)"
   ]
  },
  {
   "cell_type": "markdown",
   "id": "0e87cbaa",
   "metadata": {},
   "source": [
    "8. Check if List is Empty\n",
    "\n",
    "Write a Python program to check if a list is empty or not."
   ]
  },
  {
   "cell_type": "code",
   "execution_count": 54,
   "id": "55518b6e",
   "metadata": {},
   "outputs": [
    {
     "name": "stdout",
     "output_type": "stream",
     "text": [
      "not empty\n"
     ]
    }
   ],
   "source": [
    "if len(lst)==0:\n",
    "    print('empty')\n",
    "else:\n",
    "    print('not empty')"
   ]
  },
  {
   "cell_type": "markdown",
   "id": "8ad75e7f",
   "metadata": {},
   "source": [
    "9. Clone or Copy a List\n",
    "\n",
    "Write a Python program to clone or copy a list."
   ]
  },
  {
   "cell_type": "code",
   "execution_count": null,
   "id": "10ffc08c",
   "metadata": {},
   "outputs": [
    {
     "name": "stdout",
     "output_type": "stream",
     "text": [
      "[1, 2, 3, 6, 4, 5, 7, 8]\n"
     ]
    }
   ],
   "source": [
    "x=lst.copy()\n",
    "print(x)"
   ]
  },
  {
   "cell_type": "markdown",
   "id": "1f3c54bc",
   "metadata": {},
   "source": [
    "10. Find Words Longer Than n\n",
    "\n",
    "Write a Python program to find the list of words that are longer than n from a given list of words.\n"
   ]
  },
  {
   "cell_type": "code",
   "execution_count": 57,
   "id": "828203fb",
   "metadata": {},
   "outputs": [
    {
     "name": "stdout",
     "output_type": "stream",
     "text": [
      "1221\n"
     ]
    }
   ],
   "source": [
    "n=int(input())\n",
    "x=['abc', 'xyz', 'aba', '1221']\n",
    "for i in x:\n",
    "    if len(i)>n:\n",
    "        print(i)\n"
   ]
  },
  {
   "cell_type": "markdown",
   "id": "10d2b21d",
   "metadata": {},
   "source": [
    "11. Check Common Member Between Two Lists\n",
    "\n",
    "Write a Python function that takes two lists and returns True if they have at least one common member.\n"
   ]
  },
  {
   "cell_type": "code",
   "execution_count": 58,
   "id": "a4546d9a",
   "metadata": {},
   "outputs": [
    {
     "name": "stdout",
     "output_type": "stream",
     "text": [
      "False\n"
     ]
    }
   ],
   "source": [
    "n1=list(eval(input()))\n",
    "n2=list(eval(input()))\n",
    "for i in n1:\n",
    "    if i in n2:\n",
    "        print(True)\n",
    "        break\n",
    "else:\n",
    "    print(False)\n"
   ]
  },
  {
   "cell_type": "markdown",
   "id": "80bd3ac0",
   "metadata": {},
   "source": [
    "12. Remove Specific Elements from List\n",
    "\n",
    "Write a Python program to print a specified list after removing the 0th, 4th and 5th elements.\n",
    "Sample List : ['Red', 'Green', 'White', 'Black', 'Pink', 'Yellow']\n",
    "Expected Output : ['Green', 'White', 'Black']"
   ]
  },
  {
   "cell_type": "code",
   "execution_count": null,
   "id": "dd83103f",
   "metadata": {},
   "outputs": [
    {
     "name": "stdout",
     "output_type": "stream",
     "text": [
      "['Green', 'White', 'Black']\n"
     ]
    }
   ],
   "source": [
    "x=['Red', 'Green', 'White', 'Black', 'Pink', 'Yellow']\n",
    "y=[]\n",
    "for i in range(len(x)):\n",
    "    if i==0:\n",
    "        y.append(x[i])\n",
    "    elif i==4:\n",
    "        y.append(x[i])\n",
    "    elif i==5:\n",
    "        y.append(x[i])\n",
    "for i in y:\n",
    "    if i in x:\n",
    "        x.remove(i)\n",
    "print(x)"
   ]
  },
  {
   "cell_type": "markdown",
   "id": "025ef93f",
   "metadata": {},
   "source": [
    "13. Generate 3D Array\n",
    "\n",
    "Write a Python program to generate a 3*4*6 3D array whose each element is *.\n"
   ]
  },
  {
   "cell_type": "code",
   "execution_count": null,
   "id": "3e8d9ef8",
   "metadata": {},
   "outputs": [],
   "source": []
  },
  {
   "cell_type": "markdown",
   "id": "9dd5b12b",
   "metadata": {},
   "source": [
    "14. Remove Even Numbers from List\n",
    "\n",
    "Write a Python program to print the numbers of a specified list after removing even numbers from it."
   ]
  },
  {
   "cell_type": "code",
   "execution_count": 8,
   "id": "09b42cf9",
   "metadata": {},
   "outputs": [
    {
     "name": "stdout",
     "output_type": "stream",
     "text": [
      "[1, 3, 5, 7]\n"
     ]
    }
   ],
   "source": [
    "lst=[1,2,3,4,5,6,7,8]\n",
    "for i in lst:\n",
    "    if i%2==0:\n",
    "        lst.remove(i)\n",
    "print(lst)"
   ]
  },
  {
   "cell_type": "markdown",
   "id": "6071a3e6",
   "metadata": {},
   "source": [
    "15. Shuffle List\n",
    "\n",
    "Write a Python program to shuffle and print a specified list."
   ]
  },
  {
   "cell_type": "code",
   "execution_count": 10,
   "id": "2c46c80f",
   "metadata": {},
   "outputs": [
    {
     "name": "stdout",
     "output_type": "stream",
     "text": [
      "[7, 1, 5, 3]\n"
     ]
    }
   ],
   "source": [
    "import random\n",
    "x=[1, 3, 5, 7]\n",
    "z=random.shuffle(x)\n",
    "print(x)"
   ]
  },
  {
   "cell_type": "markdown",
   "id": "a5a3c00d",
   "metadata": {},
   "source": [
    "16. Generate Square Numbers in Range\n",
    "\n",
    "Write a Python program to generate and print a list of the first and last 5 elements where the values are square numbers between 1 and 30 (both included)."
   ]
  },
  {
   "cell_type": "code",
   "execution_count": 10,
   "id": "3f462b22",
   "metadata": {},
   "outputs": [
    {
     "name": "stdout",
     "output_type": "stream",
     "text": [
      "1 \n",
      "25\n"
     ]
    }
   ],
   "source": [
    "x=[i**2 for i in range(1,31)]\n",
    "print(f'{x[0]} \\n{x[4]}')\n"
   ]
  },
  {
   "cell_type": "markdown",
   "id": "12447389",
   "metadata": {},
   "source": [
    "17. Check If All Numbers Are Prime\n",
    "\n",
    "Write a Python program to check if each number is prime in a given list of numbers. Return True if all numbers are prime otherwise False.\n",
    "Sample Data:\n",
    "([0, 3, 4, 7, 9]) -> False\n",
    "([3, 5, 7, 13]) -> True\n",
    "([1, 5, 3]) -> False\n"
   ]
  },
  {
   "cell_type": "code",
   "execution_count": null,
   "id": "eb3489d1",
   "metadata": {},
   "outputs": [
    {
     "name": "stdout",
     "output_type": "stream",
     "text": [
      "False\n",
      "False\n"
     ]
    }
   ],
   "source": [
    "x=[0, 3, 4, 7, 9]\n",
    "# x=[3, 5, 7, 13]\n",
    "# x=[1, 5, 3]\n",
    "for i in x:\n",
    "    for j in range(2,i):\n",
    "        if i%j==0:\n",
    "            print(False)\n",
    "            break\n",
    "        \n",
    "    else:\n",
    "        \n",
    "        print(True)"
   ]
  },
  {
   "cell_type": "markdown",
   "id": "d62484c5",
   "metadata": {},
   "source": [
    "18. Generate All List Permutations\n",
    "\n",
    "Write a Python program to generate all permutations of a list in Python."
   ]
  },
  {
   "cell_type": "code",
   "execution_count": 8,
   "id": "e49eb00d",
   "metadata": {},
   "outputs": [
    {
     "name": "stdout",
     "output_type": "stream",
     "text": [
      "(0, 3, 4, 7, 9)\n",
      "(0, 3, 4, 9, 7)\n",
      "(0, 3, 7, 4, 9)\n",
      "(0, 3, 7, 9, 4)\n",
      "(0, 3, 9, 4, 7)\n",
      "(0, 3, 9, 7, 4)\n",
      "(0, 4, 3, 7, 9)\n",
      "(0, 4, 3, 9, 7)\n",
      "(0, 4, 7, 3, 9)\n",
      "(0, 4, 7, 9, 3)\n",
      "(0, 4, 9, 3, 7)\n",
      "(0, 4, 9, 7, 3)\n",
      "(0, 7, 3, 4, 9)\n",
      "(0, 7, 3, 9, 4)\n",
      "(0, 7, 4, 3, 9)\n",
      "(0, 7, 4, 9, 3)\n",
      "(0, 7, 9, 3, 4)\n",
      "(0, 7, 9, 4, 3)\n",
      "(0, 9, 3, 4, 7)\n",
      "(0, 9, 3, 7, 4)\n",
      "(0, 9, 4, 3, 7)\n",
      "(0, 9, 4, 7, 3)\n",
      "(0, 9, 7, 3, 4)\n",
      "(0, 9, 7, 4, 3)\n",
      "(3, 0, 4, 7, 9)\n",
      "(3, 0, 4, 9, 7)\n",
      "(3, 0, 7, 4, 9)\n",
      "(3, 0, 7, 9, 4)\n",
      "(3, 0, 9, 4, 7)\n",
      "(3, 0, 9, 7, 4)\n",
      "(3, 4, 0, 7, 9)\n",
      "(3, 4, 0, 9, 7)\n",
      "(3, 4, 7, 0, 9)\n",
      "(3, 4, 7, 9, 0)\n",
      "(3, 4, 9, 0, 7)\n",
      "(3, 4, 9, 7, 0)\n",
      "(3, 7, 0, 4, 9)\n",
      "(3, 7, 0, 9, 4)\n",
      "(3, 7, 4, 0, 9)\n",
      "(3, 7, 4, 9, 0)\n",
      "(3, 7, 9, 0, 4)\n",
      "(3, 7, 9, 4, 0)\n",
      "(3, 9, 0, 4, 7)\n",
      "(3, 9, 0, 7, 4)\n",
      "(3, 9, 4, 0, 7)\n",
      "(3, 9, 4, 7, 0)\n",
      "(3, 9, 7, 0, 4)\n",
      "(3, 9, 7, 4, 0)\n",
      "(4, 0, 3, 7, 9)\n",
      "(4, 0, 3, 9, 7)\n",
      "(4, 0, 7, 3, 9)\n",
      "(4, 0, 7, 9, 3)\n",
      "(4, 0, 9, 3, 7)\n",
      "(4, 0, 9, 7, 3)\n",
      "(4, 3, 0, 7, 9)\n",
      "(4, 3, 0, 9, 7)\n",
      "(4, 3, 7, 0, 9)\n",
      "(4, 3, 7, 9, 0)\n",
      "(4, 3, 9, 0, 7)\n",
      "(4, 3, 9, 7, 0)\n",
      "(4, 7, 0, 3, 9)\n",
      "(4, 7, 0, 9, 3)\n",
      "(4, 7, 3, 0, 9)\n",
      "(4, 7, 3, 9, 0)\n",
      "(4, 7, 9, 0, 3)\n",
      "(4, 7, 9, 3, 0)\n",
      "(4, 9, 0, 3, 7)\n",
      "(4, 9, 0, 7, 3)\n",
      "(4, 9, 3, 0, 7)\n",
      "(4, 9, 3, 7, 0)\n",
      "(4, 9, 7, 0, 3)\n",
      "(4, 9, 7, 3, 0)\n",
      "(7, 0, 3, 4, 9)\n",
      "(7, 0, 3, 9, 4)\n",
      "(7, 0, 4, 3, 9)\n",
      "(7, 0, 4, 9, 3)\n",
      "(7, 0, 9, 3, 4)\n",
      "(7, 0, 9, 4, 3)\n",
      "(7, 3, 0, 4, 9)\n",
      "(7, 3, 0, 9, 4)\n",
      "(7, 3, 4, 0, 9)\n",
      "(7, 3, 4, 9, 0)\n",
      "(7, 3, 9, 0, 4)\n",
      "(7, 3, 9, 4, 0)\n",
      "(7, 4, 0, 3, 9)\n",
      "(7, 4, 0, 9, 3)\n",
      "(7, 4, 3, 0, 9)\n",
      "(7, 4, 3, 9, 0)\n",
      "(7, 4, 9, 0, 3)\n",
      "(7, 4, 9, 3, 0)\n",
      "(7, 9, 0, 3, 4)\n",
      "(7, 9, 0, 4, 3)\n",
      "(7, 9, 3, 0, 4)\n",
      "(7, 9, 3, 4, 0)\n",
      "(7, 9, 4, 0, 3)\n",
      "(7, 9, 4, 3, 0)\n",
      "(9, 0, 3, 4, 7)\n",
      "(9, 0, 3, 7, 4)\n",
      "(9, 0, 4, 3, 7)\n",
      "(9, 0, 4, 7, 3)\n",
      "(9, 0, 7, 3, 4)\n",
      "(9, 0, 7, 4, 3)\n",
      "(9, 3, 0, 4, 7)\n",
      "(9, 3, 0, 7, 4)\n",
      "(9, 3, 4, 0, 7)\n",
      "(9, 3, 4, 7, 0)\n",
      "(9, 3, 7, 0, 4)\n",
      "(9, 3, 7, 4, 0)\n",
      "(9, 4, 0, 3, 7)\n",
      "(9, 4, 0, 7, 3)\n",
      "(9, 4, 3, 0, 7)\n",
      "(9, 4, 3, 7, 0)\n",
      "(9, 4, 7, 0, 3)\n",
      "(9, 4, 7, 3, 0)\n",
      "(9, 7, 0, 3, 4)\n",
      "(9, 7, 0, 4, 3)\n",
      "(9, 7, 3, 0, 4)\n",
      "(9, 7, 3, 4, 0)\n",
      "(9, 7, 4, 0, 3)\n",
      "(9, 7, 4, 3, 0)\n"
     ]
    }
   ],
   "source": [
    "x=[0, 3, 4, 7, 9]\n",
    "import itertools\n",
    "z=list(itertools.permutations(x))\n",
    "for i in z:\n",
    "    print(i)\n"
   ]
  },
  {
   "cell_type": "markdown",
   "id": "7e7a1080",
   "metadata": {},
   "source": [
    "19. Calculate Difference Between Lists\n",
    "\n",
    "Write a Python program to calculate the difference between the two lists."
   ]
  },
  {
   "cell_type": "code",
   "execution_count": 4,
   "id": "b3ffcc32",
   "metadata": {},
   "outputs": [
    {
     "name": "stdout",
     "output_type": "stream",
     "text": [
      "[-3, -2, -3, -6]\n"
     ]
    }
   ],
   "source": [
    "x=[0, 3, 4, 7]\n",
    "y=[3, 5, 7, 13]\n",
    "z=[]\n",
    "for i in range(len(x)):\n",
    "    z.append(x[i]-y[i])\n",
    "print(z)\n"
   ]
  },
  {
   "cell_type": "markdown",
   "id": "4598a5b5",
   "metadata": {},
   "source": [
    "20. Access List Indices\n",
    "\n",
    "Write a Python program to access the index of a list."
   ]
  },
  {
   "cell_type": "code",
   "execution_count": null,
   "id": "ee65e65e",
   "metadata": {},
   "outputs": [
    {
     "name": "stdout",
     "output_type": "stream",
     "text": [
      "1\n"
     ]
    }
   ],
   "source": [
    "x=[0, 3, 4, 7, 9]\n",
    "n=int(input())\n",
    "\n",
    "if n in x:\n",
    "    print(x.index(n))"
   ]
  },
  {
   "cell_type": "markdown",
   "id": "83b04ca0",
   "metadata": {},
   "source": [
    "21. Convert List to String\n",
    "\n",
    "Write a Python program to convert a list of characters into a string."
   ]
  },
  {
   "cell_type": "code",
   "execution_count": 11,
   "id": "1a019372",
   "metadata": {},
   "outputs": [
    {
     "name": "stdout",
     "output_type": "stream",
     "text": [
      "['0', '3', '4', '7', '9']\n"
     ]
    }
   ],
   "source": [
    "x=[0, 3, 4, 7, 9]\n",
    "s=[]\n",
    "for i in x:\n",
    "    s.append(str(i))\n",
    "print(s)"
   ]
  },
  {
   "cell_type": "markdown",
   "id": "b235a1e6",
   "metadata": {},
   "source": [
    "22. Find Index of List Item\n",
    "\n",
    "Write a Python program to find the index of an item in a specified list.\n"
   ]
  },
  {
   "cell_type": "code",
   "execution_count": 13,
   "id": "73be01b4",
   "metadata": {},
   "outputs": [
    {
     "name": "stdout",
     "output_type": "stream",
     "text": [
      "4\n"
     ]
    }
   ],
   "source": [
    "x=[0, 3, 4, 7, 9]\n",
    "n=eval(input())\n",
    "if n in x:\n",
    "    print(x.index(i))"
   ]
  },
  {
   "cell_type": "markdown",
   "id": "c2244ac1",
   "metadata": {},
   "source": [
    "23. Flatten Shallow List\n",
    "\n",
    "Write a Python program to flatten a shallow list.\n"
   ]
  },
  {
   "cell_type": "code",
   "execution_count": 52,
   "id": "a899a737",
   "metadata": {},
   "outputs": [
    {
     "name": "stdout",
     "output_type": "stream",
     "text": [
      "[[1, 2], [2, 3], [3, 4], [4, 5], [5, 6]]\n"
     ]
    }
   ],
   "source": [
    "\n",
    "# x= [[1, 2], [3, 4], [5, 6]]\n",
    "# z=[]\n",
    "# m=[]\n",
    "# for i in x:\n",
    "#     for j in i:\n",
    "#         z.append(j)\n",
    "# print(z)\n",
    "z=[1, 2, 3, 4, 5, 6]\n",
    "m=[]\n",
    "for i in range(len(z)-1):\n",
    "    for i in range(1):\n",
    "        y=[]\n",
    "        y.append(z[i])\n",
    "        \n",
    "        z.remove(z[i])\n",
    "        y.append(z[i])\n",
    "\n",
    "    m.append(y)\n",
    "\n",
    "print(m)\n",
    "    "
   ]
  },
  {
   "cell_type": "markdown",
   "id": "8ec3363e",
   "metadata": {},
   "source": [
    "24. Append One List to Another\n",
    "\n",
    "Write a Python program to append a list to the second list.\n"
   ]
  },
  {
   "cell_type": "code",
   "execution_count": 1,
   "id": "ae345eef",
   "metadata": {},
   "outputs": [
    {
     "name": "stdout",
     "output_type": "stream",
     "text": [
      "[1, 2, 3, 4, 5, 6, [4, 5, 6, 7, 8]]\n"
     ]
    }
   ],
   "source": [
    "z=[1, 2, 3, 4, 5, 6]\n",
    "y=[4,5,6,7,8]\n",
    "z.append(y)\n",
    "print(z)"
   ]
  },
  {
   "cell_type": "markdown",
   "id": "84c8f9e3",
   "metadata": {},
   "source": [
    "25. Select Random Item from List\n",
    "\n",
    "Write a Python program to select an item randomly from a list."
   ]
  },
  {
   "cell_type": "code",
   "execution_count": 1,
   "id": "67312545",
   "metadata": {},
   "outputs": [
    {
     "name": "stdout",
     "output_type": "stream",
     "text": [
      "4\n"
     ]
    }
   ],
   "source": [
    "import random\n",
    "z=[1, 2, 3, 4, 5, 6]\n",
    "x=random.choice(z)\n",
    "print(x)\n"
   ]
  },
  {
   "cell_type": "code",
   "execution_count": 5,
   "id": "2a01221a",
   "metadata": {},
   "outputs": [
    {
     "name": "stdout",
     "output_type": "stream",
     "text": [
      "6\n"
     ]
    }
   ],
   "source": [
    "import random\n",
    "z=[1, 2, 3, 4, 5, 6]\n",
    "x=random.choice(z)\n",
    "print(x)"
   ]
  },
  {
   "cell_type": "markdown",
   "id": "ae1ed872",
   "metadata": {},
   "source": [
    "26. Check Circularly Identical Lists\n",
    "\n",
    "Write a Python program to check whether two lists are circularly identical."
   ]
  },
  {
   "cell_type": "code",
   "execution_count": null,
   "id": "e07afe2b",
   "metadata": {},
   "outputs": [],
   "source": []
  },
  {
   "cell_type": "markdown",
   "id": "d6a89932",
   "metadata": {},
   "source": [
    "27. Find Second Smallest Number in List\n",
    "\n",
    "Write a Python program to find the second smallest number in a list."
   ]
  },
  {
   "cell_type": "code",
   "execution_count": 19,
   "id": "e3ab0f5e",
   "metadata": {},
   "outputs": [
    {
     "name": "stdout",
     "output_type": "stream",
     "text": [
      "0\n"
     ]
    }
   ],
   "source": [
    "z=[1,0, 2, 3, 4, 5, 6]\n",
    "if z[0]>z[1]:\n",
    "    zs=z[1]\n",
    "else:\n",
    "    zs=z[0]\n",
    "for i in range(2,len(z)):\n",
    "    if z[i]<zs:\n",
    "        zs=z[i]\n",
    "print(zs)"
   ]
  },
  {
   "cell_type": "markdown",
   "id": "b7ed52db",
   "metadata": {},
   "source": [
    "28. Find Second Largest Number in List\n",
    "\n",
    "Write a Python program to find the second largest number in a list."
   ]
  },
  {
   "cell_type": "code",
   "execution_count": 25,
   "id": "53cf2235",
   "metadata": {},
   "outputs": [
    {
     "name": "stdout",
     "output_type": "stream",
     "text": [
      "5\n"
     ]
    }
   ],
   "source": [
    "z=[1, 2, 3, 4, 5, 6]\n",
    "if z[0]>z[1]:\n",
    "    lg=z[0]\n",
    "    slg=z[1]\n",
    "else:\n",
    "    lg=z[1]\n",
    "    slg=z[0]\n",
    "for i in range(2,len(z)):\n",
    "    if z[i]>lg:\n",
    "        slg=lg\n",
    "        lg=z[i]\n",
    "    elif z[i]>slg and z[i]<lg:\n",
    "        slg=x[i]\n",
    "print(slg)"
   ]
  },
  {
   "cell_type": "markdown",
   "id": "bdba3244",
   "metadata": {},
   "source": [
    "29. Get Unique Values from List\n",
    "\n",
    "Write a Python program to get unique values from a list."
   ]
  },
  {
   "cell_type": "code",
   "execution_count": null,
   "id": "940f3bc2",
   "metadata": {},
   "outputs": [
    {
     "name": "stdout",
     "output_type": "stream",
     "text": [
      "3,8,34,"
     ]
    }
   ],
   "source": [
    "x=[1, 2, 3, 6, 4, 5, 7, 8,1,2,34,4,5,6,7]\n",
    "\n",
    "for i in x:\n",
    "    if x.count(i)==1:\n",
    "        print(i,end=',')"
   ]
  },
  {
   "cell_type": "markdown",
   "id": "0bdc8a39",
   "metadata": {},
   "source": [
    "30. Count Frequency of List Elements\n",
    "\n",
    "Write a Python program to get the frequency of elements in a list."
   ]
  },
  {
   "cell_type": "code",
   "execution_count": null,
   "id": "6231be23",
   "metadata": {},
   "outputs": [
    {
     "name": "stdout",
     "output_type": "stream",
     "text": [
      "1:frequency=2\n",
      "2:frequency=2\n",
      "3:frequency=1\n",
      "6:frequency=2\n",
      "4:frequency=2\n",
      "5:frequency=2\n",
      "7:frequency=2\n",
      "8:frequency=1\n",
      "34:frequency=1\n",
      "[1, 2, 3, 6, 4, 5, 7, 8, 34]\n"
     ]
    }
   ],
   "source": [
    "x=[1, 2, 3, 6, 4, 5, 7, 8,1,2,34,4,5,6,7]\n",
    "z=[]\n",
    "\n",
    "for i in x:\n",
    "    if i not in z:\n",
    "        z.append(i)\n",
    "for i in z:\n",
    "    \n",
    "    print(f'{i}:frequency={x.count(i)}')\n"
   ]
  },
  {
   "cell_type": "markdown",
   "id": "e5a82449",
   "metadata": {},
   "source": [
    "31. Count Elements in List Within Range\n",
    "\n",
    "Write a Python program to count the number of elements in a list within a specified range."
   ]
  },
  {
   "cell_type": "code",
   "execution_count": 36,
   "id": "c5ced338",
   "metadata": {},
   "outputs": [
    {
     "name": "stdout",
     "output_type": "stream",
     "text": [
      "1: count=1\n",
      "2: count=1\n",
      "3: count=1\n",
      "4: count=1\n",
      "5: count=1\n",
      "6: count=1\n",
      "7: count=1\n"
     ]
    }
   ],
   "source": [
    "x,y=int(input()),int(input())\n",
    "m=[1, 2, 3, 6, 4, 5, 7, 8, 34]\n",
    "for i in range(x,y):\n",
    "    print(f'{i}: count={m.count(i)}')"
   ]
  },
  {
   "cell_type": "markdown",
   "id": "46087f3e",
   "metadata": {},
   "source": [
    "32. Check if List Contains Sublist\n",
    "\n",
    "Write a Python program to check whether a list contains a sublist."
   ]
  },
  {
   "cell_type": "code",
   "execution_count": 39,
   "id": "1fdd6e8b",
   "metadata": {},
   "outputs": [
    {
     "name": "stdout",
     "output_type": "stream",
     "text": [
      "False\n"
     ]
    }
   ],
   "source": [
    "x=[1, 2, 3, 6, 4,10, 7, 8, 34]\n",
    "z=[1, 2, 3, 6, 4, 5, 7, 8,1,2,34,4,5,6,7]\n",
    "for i in x:\n",
    "    if i not in z:\n",
    "        print(False)\n",
    "        break\n",
    "else:\n",
    "    print(True)"
   ]
  },
  {
   "cell_type": "markdown",
   "id": "532cefe7",
   "metadata": {},
   "source": [
    "33. Generate All Sublists\n",
    "\n",
    "Write a Python program to generate all sublists of a list."
   ]
  },
  {
   "cell_type": "code",
   "execution_count": 8,
   "id": "390bf68d",
   "metadata": {},
   "outputs": [
    {
     "name": "stdout",
     "output_type": "stream",
     "text": [
      "subblist :(1, 2, 3)\n",
      "subblist :(1, 3, 2)\n",
      "subblist :(2, 1, 3)\n",
      "subblist :(2, 3, 1)\n",
      "subblist :(3, 1, 2)\n",
      "subblist :(3, 2, 1)\n"
     ]
    }
   ],
   "source": [
    "import itertools\n",
    "x=[1,2,3]\n",
    "z=list(itertools.permutations(x))\n",
    "for i in z:\n",
    "    print(f'subblist :{i}')\n"
   ]
  },
  {
   "cell_type": "markdown",
   "id": "b4e505aa",
   "metadata": {},
   "source": [
    "34. Compute Primes Using Sieve of Eratosthenes\n",
    "\n",
    "Write a Python program that uses the Sieve of Eratosthenes method to compute prime numbers up to a specified number.\n",
    "Note: In mathematics, the sieve of Eratosthenes, (Ancient Greek: κόσκινον Ἐρατοσθένους, kóskinon Eratosthénous) one of a number of prime number sieves, is a simple, ancient algorithm for finding all prime numbers up to any given limit."
   ]
  },
  {
   "cell_type": "code",
   "execution_count": null,
   "id": "f38af832",
   "metadata": {},
   "outputs": [],
   "source": []
  },
  {
   "cell_type": "markdown",
   "id": "83024b1f",
   "metadata": {},
   "source": [
    "35. Create List with Range Concatenation\n",
    "\n",
    "Write a Python program to create a list by concatenating a given list with a range from 1 to n.\n",
    "Sample list : ['p', 'q']\n",
    "n =5\n",
    "Sample Output : ['p1', 'q1', 'p2', 'q2', 'p3', 'q3', 'p4', 'q4', 'p5', 'q5']"
   ]
  },
  {
   "cell_type": "code",
   "execution_count": 15,
   "id": "39edc4ec",
   "metadata": {},
   "outputs": [
    {
     "name": "stdout",
     "output_type": "stream",
     "text": [
      "['p1', 'q1', 'p2', 'q2', 'p3', 'q3', 'p4', 'q4', 'p5', 'q5']\n"
     ]
    }
   ],
   "source": [
    "x=['p','q']\n",
    "z=[]\n",
    "n=int(input())\n",
    "for i in range(1,n+1):\n",
    "    z.append(x[0]+str(i))\n",
    "    z.append(x[1]+str(i))\n",
    "print(z)\n"
   ]
  },
  {
   "cell_type": "code",
   "execution_count": 14,
   "id": "b6836fee",
   "metadata": {},
   "outputs": [
    {
     "name": "stdout",
     "output_type": "stream",
     "text": [
      "['p1', 'p2', 'p3', 'p4', 'p5', 'q1', 'q2', 'q3', 'q4', 'q5']\n"
     ]
    }
   ],
   "source": [
    "x=['p','q']\n",
    "n=int(input())\n",
    "z=[x[0]+str(i) for i in range(1,n+1)]\n",
    "y=[x[1]+str(i) for i in range(1,n+1)]\n",
    "print(z+y)"
   ]
  },
  {
   "cell_type": "markdown",
   "id": "2ba531d5",
   "metadata": {},
   "source": [
    "36. Get Variable ID or String\n",
    "\n",
    "Write a Python program to get a variable with an identification number or string."
   ]
  },
  {
   "cell_type": "code",
   "execution_count": 19,
   "id": "f40d412e",
   "metadata": {},
   "outputs": [
    {
     "name": "stdout",
     "output_type": "stream",
     "text": [
      "7ff836107f88\n",
      "26e28d6fd70\n"
     ]
    }
   ],
   "source": [
    "x=100\n",
    "s='saquib'\n",
    "print(format(id(x),'x'))\n",
    "print(format(id(s),'x'))"
   ]
  },
  {
   "cell_type": "markdown",
   "id": "7d7031a0",
   "metadata": {},
   "source": [
    "37. Find Common Items in Lists\n",
    "\n",
    "Write a Python program to find common items in two lists."
   ]
  },
  {
   "cell_type": "code",
   "execution_count": 23,
   "id": "4f66ff79",
   "metadata": {},
   "outputs": [
    {
     "name": "stdout",
     "output_type": "stream",
     "text": [
      "comman item : [1, 2, 6, 4, 5, 7]\n"
     ]
    }
   ],
   "source": [
    "z=[1, 2, 3, 6, 4, 5, 7, 8,1,2,34,4,5,6,7]\n",
    "x=[]\n",
    "for i in z:\n",
    "    if z.count(i)>1:\n",
    "        if i not  in x:\n",
    "            x.append(i)\n",
    "print(f'comman item : {x}')"
   ]
  },
  {
   "cell_type": "markdown",
   "id": "91d8f0e3",
   "metadata": {},
   "source": [
    "38. Swap Every n-th and (n+1)th Values\n",
    "\n",
    "Write a Python program to change the position of every n-th value to the (n+1)th in a list.\n",
    "Sample list: [0,1,2,3,4,5]\n",
    "Expected Output: [1, 0, 3, 2, 5, 4]"
   ]
  },
  {
   "cell_type": "code",
   "execution_count": 8,
   "id": "ad0acb1a",
   "metadata": {},
   "outputs": [
    {
     "name": "stdout",
     "output_type": "stream",
     "text": [
      "[1, 0, 2, 3, 5, 4]\n"
     ]
    }
   ],
   "source": [
    "x=[0,1,2,3,4,5]\n",
    "\n",
    "x[-1],x[-2]=x[-2],x[-1]\n",
    "x[0],x[1]=x[1],x[0]\n",
    "print(x)\n"
   ]
  },
  {
   "cell_type": "markdown",
   "id": "f15586ac",
   "metadata": {},
   "source": [
    "39. Convert Integers List to Single Integer\n",
    "\n",
    "Write a Python program to convert a list of multiple integers into a single integer.\n",
    "Sample list: [11, 33, 50]\n",
    "Expected Output: 113350"
   ]
  },
  {
   "cell_type": "code",
   "execution_count": null,
   "id": "90dd8094",
   "metadata": {},
   "outputs": [
    {
     "name": "stdout",
     "output_type": "stream",
     "text": [
      "113350\n"
     ]
    }
   ],
   "source": [
    "x=[11, 33, 50]\n",
    "y=[]\n",
    "r=0\n",
    "for i in x:\n",
    "    r=r*100\n",
    "    r+=i\n",
    "print(r)"
   ]
  },
  {
   "cell_type": "markdown",
   "id": "403e2aed",
   "metadata": {},
   "source": [
    "40. Split List by First Character\n",
    "\n",
    "Write a Python program to split a list based on the first character of a word.\n",
    "lst= ['be', 'have', 'do', 'say', 'get', 'make', 'go', 'know', 'take', 'see', 'come', 'think', 'look', 'want', 'give', 'use', 'find', 'tell', 'ask', 'work', 'seem', 'feel', 'leave', 'call']\n",
    "output:\n",
    "a                                                                                                             \n",
    "ask                                                                                                           \n",
    "b                                                                                                             \n",
    "be                                                                                                            \n",
    "c                                                                                                             \n",
    "call                                                                                                          \n",
    "come                                                                                                          \n",
    "d                                                                                                             \n",
    "do        \n",
    "w                                                                                                             \n",
    "want                                                                                                          \n",
    "work    "
   ]
  },
  {
   "cell_type": "code",
   "execution_count": 30,
   "id": "d1fa2ecc",
   "metadata": {},
   "outputs": [
    {
     "name": "stdout",
     "output_type": "stream",
     "text": [
      "['', 'bc']\n",
      "['', 'yz']\n",
      "['', 'b', '']\n",
      "['', '22', '']\n"
     ]
    }
   ],
   "source": [
    "x=['abc', 'xyz', 'aba', '1221']\n",
    "for i in range(len(x)):\n",
    "    s=x[i].split(x[i][0])\n",
    "    print(s)\n",
    "    "
   ]
  }
 ],
 "metadata": {
  "kernelspec": {
   "display_name": "Python 3",
   "language": "python",
   "name": "python3"
  },
  "language_info": {
   "codemirror_mode": {
    "name": "ipython",
    "version": 3
   },
   "file_extension": ".py",
   "mimetype": "text/x-python",
   "name": "python",
   "nbconvert_exporter": "python",
   "pygments_lexer": "ipython3",
   "version": "3.11.9"
  }
 },
 "nbformat": 4,
 "nbformat_minor": 5
}
