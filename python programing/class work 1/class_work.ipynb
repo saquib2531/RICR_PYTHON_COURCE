{
 "cells": [
  {
   "cell_type": "markdown",
   "metadata": {},
   "source": [
    "date-01/02/2025\n"
   ]
  },
  {
   "cell_type": "markdown",
   "metadata": {},
   "source": [
    "- type()\n",
    "    =command use to know the data type"
   ]
  },
  {
   "cell_type": "code",
   "execution_count": null,
   "metadata": {},
   "outputs": [],
   "source": [
    "x=30\n",
    "y=\"hello\"\n",
    "print(type(x),type(y))\n",
    "x=3.5\n",
    "print(type(x),type(y))"
   ]
  },
  {
   "cell_type": "markdown",
   "metadata": {},
   "source": [
    "- id()\n",
    "    =command use to know the address of data "
   ]
  },
  {
   "cell_type": "code",
   "execution_count": null,
   "metadata": {},
   "outputs": [],
   "source": [
    "x=5\n",
    "y=7\n",
    "z=5\n",
    "print(id(x),id(y),id(z))\n",
    "z=9\n",
    "print(id(x),id(y),id(z))"
   ]
  },
  {
   "cell_type": "markdown",
   "metadata": {},
   "source": [
    "- input()\n",
    "= command use for taking input from the user\n",
    "- input(\"\")\n",
    "=input me jo v chaiy hoga uske liy\n",
    "- x= input(\"\")\n",
    "= command to store input \n",
    "- input ko string ki tarh store karta hai agr integer me chaiy to uske liy type kasting ka use karte hai uska command kuch aisa hoga\n",
    "- x= int(input(\"massage\")) \n",
    "= for input\n"
   ]
  },
  {
   "cell_type": "code",
   "execution_count": null,
   "metadata": {},
   "outputs": [],
   "source": [
    "name=input(\"Enter your name\")\n",
    "age=int(input(\"Enter your age\"))\n",
    "hight=float(input(\"Enter your hight\"))\n",
    "print(name,age,hight)"
   ]
  },
  {
   "cell_type": "markdown",
   "metadata": {},
   "source": [
    "date - 03/02/2025"
   ]
  },
  {
   "cell_type": "markdown",
   "metadata": {},
   "source": [
    "output"
   ]
  },
  {
   "cell_type": "code",
   "execution_count": null,
   "metadata": {},
   "outputs": [],
   "source": [
    "name=input(\"Enter your name\")\n",
    "age=int(input(\"Enter your age\"))\n",
    "hight=float(input(\"Enter your hight\"))\n",
    "\n",
    "print(\"my name is \", name,\"\\n\",\"my age is\",age,\"my hight is \",hight)\n",
    "print(name,end=\"@@@\")\n",
    "print(hight)\n"
   ]
  },
  {
   "cell_type": "markdown",
   "metadata": {},
   "source": [
    "1.WAP to calculate the area of rectangle \n",
    "input: lengt = 5, width = 10\n",
    "output:50\n",
    "formula= length*width"
   ]
  },
  {
   "cell_type": "code",
   "execution_count": null,
   "metadata": {},
   "outputs": [],
   "source": [
    "length=float(input(\"Enter length\"))\n",
    "width=float(input(\"Enter the width\"))\n",
    "print(length*width)"
   ]
  },
  {
   "cell_type": "code",
   "execution_count": null,
   "metadata": {},
   "outputs": [],
   "source": [
    "length=float(input(\"Enter length\"))\n",
    "width=float(input(\"Enter the width\"))\n",
    "a=length*width\n",
    "print(a)"
   ]
  },
  {
   "cell_type": "markdown",
   "metadata": {},
   "source": [
    "2.WAP to convert temperature from celsius to fahrenhit.\n",
    "test case:\n",
    "input:calsius=25\n",
    "output:77\n",
    "formula: f=c*9/5+32"
   ]
  },
  {
   "cell_type": "code",
   "execution_count": 5,
   "metadata": {},
   "outputs": [
    {
     "name": "stdout",
     "output_type": "stream",
     "text": [
      "77.0\n"
     ]
    }
   ],
   "source": [
    "c=float(input())\n",
    "a=c*(9/5)+32\n",
    "\n",
    "print(a)"
   ]
  },
  {
   "cell_type": "markdown",
   "metadata": {},
   "source": [
    "3.WAP to calculate the total price of items,including tax.\n",
    "test case:\n",
    "input:price=1000,tax rate= 18\n",
    "output:1180\n",
    "formula= p+(p*r)/100"
   ]
  },
  {
   "cell_type": "code",
   "execution_count": null,
   "metadata": {},
   "outputs": [],
   "source": [
    "p=float(input())\n",
    "t=float(input())\n",
    "a=(((p*t)/100)+p)\n",
    "print(a)"
   ]
  },
  {
   "cell_type": "markdown",
   "metadata": {},
   "source": [
    "4.WAP program to calculate the perimeter of a square.\n",
    "test case:\n",
    "input:side=7\n",
    "output:28\n",
    "formula=4*side"
   ]
  },
  {
   "cell_type": "code",
   "execution_count": null,
   "metadata": {},
   "outputs": [],
   "source": [
    "s=float(input())\n",
    "a=4*s\n",
    "print(a)"
   ]
  },
  {
   "cell_type": "markdown",
   "metadata": {},
   "source": [
    "5.WAP to find the remainder when dividing a number by 7.\n",
    "test case:\n",
    "input:number=7\n",
    "output:6\n"
   ]
  },
  {
   "cell_type": "code",
   "execution_count": null,
   "metadata": {},
   "outputs": [],
   "source": [
    "n=float(input())\n",
    "a=n%7\n",
    "print(a)"
   ]
  },
  {
   "cell_type": "markdown",
   "metadata": {},
   "source": [
    "6. Write a Python program to find the average of five numbers.\n",
    "Test case:\n",
    "Input: Num1 = 10, Num2 = 20, Num3 = 30, Num4 = 40, Num5 = 50\n",
    "Output: 30.0\n",
    "formula = sum of all numbers/total cout of no."
   ]
  },
  {
   "cell_type": "code",
   "execution_count": null,
   "metadata": {},
   "outputs": [],
   "source": [
    "a=float(input())\n",
    "b=float(input())\n",
    "c=float(input())\n",
    "d=float(input())\n",
    "e=float(input())\n",
    "ans=(a+b+c+d+e)/5\n",
    "print(ans)"
   ]
  },
  {
   "cell_type": "markdown",
   "metadata": {},
   "source": [
    "7. Write a Python program to calculate the simple interest.\n",
    "Test case:\n",
    "Input: Principal = 1000, Rate = 5, Time = 2\n",
    "Output: 100.0\n",
    "formula: SI=P*R*T/100\n"
   ]
  },
  {
   "cell_type": "code",
   "execution_count": null,
   "metadata": {},
   "outputs": [],
   "source": [
    "p=float(input())\n",
    "r=float(input())\n",
    "t=float(input())\n",
    "a=(p*r*t)/100\n",
    "print(a)"
   ]
  },
  {
   "cell_type": "markdown",
   "metadata": {},
   "source": [
    "8. Write a Python program to calculate the total marks and\n",
    "percentage from marks of five subjects.\n",
    "Test case:\n",
    "Input: Subject1 = 85, Subject2 = 90, Subject3 = 78, Subject4 = 88,\n",
    "Subject5 = 92\n",
    "Output: Total Marks = 433, Percentage = 86.6"
   ]
  },
  {
   "cell_type": "code",
   "execution_count": null,
   "metadata": {},
   "outputs": [],
   "source": [
    "s1=float(input())\n",
    "s2=float(input())\n",
    "s3=float(input())\n",
    "s4=float(input())\n",
    "s5=float(input())\n",
    "a=s1+s2+s3+s4+s5\n",
    "print(\"total marks =\", a)\n",
    "b=(a/500)*100\n",
    "print(\"percentage =\",  b)"
   ]
  },
  {
   "cell_type": "markdown",
   "metadata": {},
   "source": [
    "Q9. Write a Python program to convert minutes into hours and\n",
    "minutes.\n",
    "Test case:\n",
    "Input: Minutes = 135\n",
    "Output: Hours = 2, Remaining Minutes = 15\n"
   ]
  },
  {
   "cell_type": "code",
   "execution_count": null,
   "metadata": {},
   "outputs": [],
   "source": [
    "m=int(input())\n",
    "a=m%60\n",
    "h=(m-a)/60\n",
    "print(\"hours =\",h, \"minutes\", a)"
   ]
  },
  {
   "cell_type": "markdown",
   "metadata": {},
   "source": [
    "Q10. Write a Python program to calculate the total salary after\n",
    "adding bonus.\n",
    "Test case:\n",
    "Input: Salary = 50000, Bonus = 10%\n",
    "Output: 55000.0"
   ]
  },
  {
   "cell_type": "code",
   "execution_count": null,
   "metadata": {},
   "outputs": [],
   "source": [
    "s=float(input())\n",
    "b=float(input())\n",
    "a=s+s*0.1\n",
    "print(a)"
   ]
  },
  {
   "cell_type": "code",
   "execution_count": null,
   "metadata": {},
   "outputs": [],
   "source": [
    "a=100%10\n",
    "b=10%10\n",
    "c=1%10\n",
    "print(a)\n",
    "print(b)\n",
    "print(c)\n",
    "print(a,b,c,end=\"\")"
   ]
  },
  {
   "cell_type": "code",
   "execution_count": null,
   "metadata": {},
   "outputs": [],
   "source": [
    "print((3+5)*2-4/2%3)"
   ]
  },
  {
   "cell_type": "code",
   "execution_count": null,
   "metadata": {},
   "outputs": [],
   "source": [
    "print((7**2+6//3)*(8%3-2))"
   ]
  },
  {
   "cell_type": "code",
   "execution_count": null,
   "metadata": {},
   "outputs": [],
   "source": [
    "age = int(input(\"Enter your age:\"))\n",
    "if age>=18 :\n",
    "    print(\"you are eligible for vote\")\n",
    "else:\n",
    "    print(\"you are not eligible for vote\")"
   ]
  },
  {
   "cell_type": "markdown",
   "metadata": {},
   "source": [
    "WAp take input form user and check wether the input can form a valid "
   ]
  },
  {
   "cell_type": "code",
   "execution_count": null,
   "metadata": {},
   "outputs": [],
   "source": [
    "angleA=int(input(\"Enter angleA\"))\n",
    "angleB=int(input(\"Enter angleB\"))\n",
    "angleC=int(input(\"Enter angleC\"))\n",
    "if angleA+angleA+angleC == 180 :\n",
    "    print(\"valid input\")\n",
    "else:\n",
    "    print(\"invalid angle\")\n",
    "    "
   ]
  },
  {
   "cell_type": "code",
   "execution_count": null,
   "metadata": {},
   "outputs": [],
   "source": [
    "age=int(input(\"Enter age =\"))\n",
    "if age>=45 :\n",
    "    print(\"senior\")\n",
    "elif age>=20 :\n",
    "    print(\"adult\")\n",
    "elif age>=13 :\n",
    "    print(\"teen\")\n",
    "else:\n",
    "    print(\"Child\")\n",
    "    "
   ]
  },
  {
   "cell_type": "code",
   "execution_count": null,
   "metadata": {},
   "outputs": [],
   "source": [
    "x=int(input(\"Enter your no.\"))\n",
    "if x%2 == 0 :\n",
    "    print(\"Even no.\")\n",
    "else:\n",
    "    print(\"odd no.\")"
   ]
  },
  {
   "cell_type": "code",
   "execution_count": null,
   "metadata": {},
   "outputs": [],
   "source": [
    "age=int(input(\"Enter age =\"))\n",
    "if 0<=age<=12 :\n",
    "    print(\"Child\")\n",
    "elif 13<=age<=19 :\n",
    "    print(\"teen\")\n",
    "elif 20<=age<=45 :\n",
    "    print(\"adult\")\n",
    "else:\n",
    "    print(\"senior\")"
   ]
  },
  {
   "cell_type": "code",
   "execution_count": null,
   "metadata": {},
   "outputs": [],
   "source": [
    "a=int(input(\"Enter 1st side\"))\n",
    "b=int(input(\"Enter 2nd side\"))\n",
    "c=int(input(\"Enter 3rd side\"))\n",
    "if a==b and b==c and c==a :\n",
    "    print(\"Equilateral triangle\")\n",
    "elif a==b or b==c or c==a :\n",
    "    print(\"Isocalcellous triangle\")\n",
    "else:\n",
    "    print(\"scalen triangle\")"
   ]
  },
  {
   "cell_type": "code",
   "execution_count": null,
   "metadata": {},
   "outputs": [],
   "source": [
    "a=int(input(\"Enter 1st side\"))\n",
    "b=int(input(\"Enter 2nd side\"))\n",
    "c=int(input(\"Enter 3rd side\"))\n",
    "if a+b>c and b+c>a and c+a>b :\n",
    "    print(\"valid\")\n",
    "else :\n",
    "    print(\"not valid\")"
   ]
  },
  {
   "cell_type": "code",
   "execution_count": null,
   "metadata": {},
   "outputs": [],
   "source": [
    "a=int(input(\"Enter 1st no.\"))\n",
    "b=int(input(\"Enter 2nd no.\"))\n",
    "c=int(input(\"Enter 3rd no.\"))\n",
    "if a>b and a>c :\n",
    "    print(a)\n",
    "elif b>a and b>c :\n",
    "    print(b)\n",
    "else:\n",
    "    print(c)"
   ]
  },
  {
   "cell_type": "code",
   "execution_count": null,
   "metadata": {},
   "outputs": [],
   "source": [
    "a=int(input(\"Enter 1st no.\"))\n",
    "b=int(input(\"Enter 2nd no.\"))\n",
    "c=int(input(\"Enter 3rd no.\"))\n",
    "if c>a<b and a<b<c and a<c>b :\n",
    "    print(a,b,c)\n",
    "elif c>b<a and b<a<c and a<c>b :\n",
    "    print(b,a,c)\n",
    "elif c>b<a and b<c<a and b<a>c :\n",
    "    print(b,c,a)\n",
    "elif c>a<b and a<c<b and a<b>c :\n",
    "    print(a,c,b)\n",
    "elif b>c<a and c<a<b and c<b>a :\n",
    "    print(c,a,b)\n",
    "elif b>c<a and c<b<a and c<a>b :\n",
    "    print(c,b,a)"
   ]
  },
  {
   "cell_type": "markdown",
   "metadata": {},
   "source": [
    "wap which will print sum of all the even no. btw 1-20 "
   ]
  },
  {
   "cell_type": "code",
   "execution_count": null,
   "metadata": {},
   "outputs": [],
   "source": [
    "x=0\n",
    "for i in range(2,21,2):\n",
    "    x+=i\n",
    "print(i)"
   ]
  },
  {
   "cell_type": "markdown",
   "metadata": {},
   "source": [
    "wap which will print sum of all the odd no. btw 1-30"
   ]
  },
  {
   "cell_type": "code",
   "execution_count": null,
   "metadata": {},
   "outputs": [],
   "source": [
    "x=0\n",
    "for i in range(1,31,2):\n",
    "    x+=i\n",
    "print(x)"
   ]
  },
  {
   "cell_type": "code",
   "execution_count": null,
   "metadata": {},
   "outputs": [],
   "source": [
    "evn=0\n",
    "odd=0\n",
    "for i in range(21):\n",
    "    if i%2==0:\n",
    "        evn+=i\n",
    "    else:\n",
    "        odd+=i\n",
    "print(evn, odd)\n",
    "print(evn+odd)\n"
   ]
  },
  {
   "cell_type": "code",
   "execution_count": null,
   "metadata": {},
   "outputs": [],
   "source": [
    "y=0\n",
    "x=int(input('Enter the no.'))\n",
    "for i in range(1,x+1):\n",
    "    if i%3==0 or i%5==0:\n",
    "        y+=i\n",
    "print(y)\n",
    "    \n",
    "\n",
    "print(y)\n"
   ]
  },
  {
   "cell_type": "markdown",
   "metadata": {},
   "source": [
    "wap which will take a number as an unput from user and print first two factor of that number "
   ]
  },
  {
   "cell_type": "code",
   "execution_count": null,
   "metadata": {},
   "outputs": [],
   "source": [
    "n=int(input('enter the no.'))\n",
    "count=0\n",
    "for i in range(1,n+1):\n",
    "    if count==2:\n",
    "        break\n",
    "    elif n%i==0:\n",
    "        print(i,end=',')\n",
    "        count+=1"
   ]
  },
  {
   "cell_type": "code",
   "execution_count": null,
   "metadata": {},
   "outputs": [],
   "source": [
    "x=[2,3,4,6,'hii']\n",
    "print (type(x))\n",
    "empty_list=[]\n",
    "print(type(empty_list))\n",
    "list_str=['one','two','three']\n",
    "print(type(list_str))\n",
    "list_int=[1,2,3,4,5]\n",
    "print(type(list_int))\n",
    "list_list=[[1,2,3,5,6,],[2,3,4]]\n",
    "print(type(list_list))\n",
    "lst_mixed=[1,'ramu',-1]\n",
    "print(lst_mixed)"
   ]
  },
  {
   "cell_type": "code",
   "execution_count": null,
   "metadata": {},
   "outputs": [],
   "source": [
    "lst=['q','c','r','e','x']\n",
    "print(lst[0])\n",
    "print(lst[2])\n",
    "print(lst[4])\n",
    "print(lst[-1])"
   ]
  },
  {
   "cell_type": "code",
   "execution_count": null,
   "metadata": {},
   "outputs": [],
   "source": [
    "x=[3,5,7,17,11,15,12,9]\n",
    "print(x[2:6:2])\n",
    "print(x[6:1:-3])\n",
    "\n",
    "print(x[-7:6:3])\n",
    "print(x[6:-6:2])\n"
   ]
  },
  {
   "cell_type": "code",
   "execution_count": null,
   "metadata": {},
   "outputs": [],
   "source": [
    "#changing of list element\n",
    "x=[1,2,3,4,5,6,7,12,[1,3,4,6]]\n",
    "print(x)\n",
    "x[4]=19\n",
    "print(x)\n",
    "#append add the value in last of the list\n",
    "x.append(859)\n",
    "print(x)\n",
    "#for specific position we use insert.in negative the index will add ex if you are given on -2 it will be add on -3\n",
    "#it works n two part 1st it will step the index wich is on it and then add eg. given below\n",
    "x.insert(3,36628)\n",
    "print(x)\n",
    "x.insert(-2,555)\n",
    "print(x)\n",
    "#extend method:one by one element add karne ke liy use karte hai.\n",
    "l1=[1,2,3,[4,5,6]]\n",
    "l2=[8,9,0,3,5]\n",
    "l1.extend(l2)\n",
    "print(l1)\n",
    "l2.extend(l1)\n",
    "print(l2)\n"
   ]
  },
  {
   "cell_type": "code",
   "execution_count": null,
   "metadata": {},
   "outputs": [],
   "source": [
    "x=[3,5,7,8,3,2,1]\n",
    "x.append([5,7,9])\n",
    "print(x)\n",
    "x.append(7)\n",
    "print(x)\n",
    "x.insert(3,[5,7,8])\n",
    "print(x)\n",
    "x.insert(-3,[2,5])\n",
    "print(x)"
   ]
  },
  {
   "cell_type": "markdown",
   "metadata": {},
   "source": []
  }
 ],
 "metadata": {
  "kernelspec": {
   "display_name": "Python 3",
   "language": "python",
   "name": "python3"
  },
  "language_info": {
   "codemirror_mode": {
    "name": "ipython",
    "version": 3
   },
   "file_extension": ".py",
   "mimetype": "text/x-python",
   "name": "python",
   "nbconvert_exporter": "python",
   "pygments_lexer": "ipython3",
   "version": "3.11.9"
  }
 },
 "nbformat": 4,
 "nbformat_minor": 2
}
