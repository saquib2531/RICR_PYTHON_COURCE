{
 "cells": [
  {
   "cell_type": "code",
   "execution_count": null,
   "id": "98c69644",
   "metadata": {},
   "outputs": [
    {
     "name": "stdout",
     "output_type": "stream",
     "text": [
      "2\n"
     ]
    }
   ],
   "source": [
    "def boadmas():\n",
    "    output= '='\n",
    "    num1=int(input('enter your no.'))\n",
    "    result=num1\n",
    "    while True:\n",
    "        operator=input('enter your operator')\n",
    "        if operator!='=':\n",
    "            num2=int(input('enter your no.'))\n",
    "        if operator=='+':\n",
    "            result+=num2\n",
    "        elif operator=='-':\n",
    "            result-=num2\n",
    "        elif operator=='*':\n",
    "            result*=num2\n",
    "        elif operator=='/':\n",
    "            result/=num2\n",
    "        elif operator=='//':\n",
    "            result//=num2\n",
    "        elif operator=='^':\n",
    "            result**=num2\n",
    "        elif operator=='root':\n",
    "            result**=1/num2\n",
    "        elif operator==output:\n",
    "            print(result)\n",
    "            break\n",
    "boadmas()\n",
    "def sum(a,b):\n",
    "    return a+b\n",
    "# a=int(input('enter your no.'))\n",
    "# b=int(input('enter your no.'))\n",
    "# sum(a,b)\n",
    "def sub(a,b):\n",
    "    return a-b\n",
    "def product(a,b):\n",
    "    return a*b\n",
    "def divide(a,b):\n",
    "    return a/b\n",
    "def flore_division(a,b):\n",
    "    return a//b\n",
    "def exponent(a,b):\n",
    "    return a**b\n",
    "def root(a,b):\n",
    "    return a**(1/b)\n",
    "def mode(a):\n",
    "    if a<0:\n",
    "        a=-a\n",
    "    return a\n",
    "\n",
    "\n"
   ]
  }
 ],
 "metadata": {
  "kernelspec": {
   "display_name": "Python 3",
   "language": "python",
   "name": "python3"
  },
  "language_info": {
   "codemirror_mode": {
    "name": "ipython",
    "version": 3
   },
   "file_extension": ".py",
   "mimetype": "text/x-python",
   "name": "python",
   "nbconvert_exporter": "python",
   "pygments_lexer": "ipython3",
   "version": "3.11.9"
  }
 },
 "nbformat": 4,
 "nbformat_minor": 5
}
