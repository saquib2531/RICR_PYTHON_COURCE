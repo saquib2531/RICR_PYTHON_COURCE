{
 "cells": [
  {
   "cell_type": "markdown",
   "metadata": {},
   "source": [
    "Assignment-1"
   ]
  },
  {
   "cell_type": "markdown",
   "metadata": {},
   "source": [
    "1. Write a Python expression that adds two numbers: 7 and 5.\n",
    "a= 7\n",
    "b= 5\n",
    "2. Subtract 4 from 9 using Python.\n",
    "a= 9\n",
    "b =4\n",
    "3. Multiply 6 by 8 in Python.\n",
    " a= 6\n",
    " b =8"
   ]
  },
  {
   "cell_type": "code",
   "execution_count": 1,
   "metadata": {},
   "outputs": [
    {
     "name": "stdout",
     "output_type": "stream",
     "text": [
      "12\n",
      "5\n",
      "48\n"
     ]
    }
   ],
   "source": [
    "print(7+5)\n",
    "print(9-4)\n",
    "print(6*8)"
   ]
  },
  {
   "cell_type": "markdown",
   "metadata": {},
   "source": [
    "4. Perform floor division (integer division) on 15 by 2. \n",
    "5. Find the remainder when 22 is divided by 5.\n",
    "6. Find the remainder when -22 is divided by 8.\n",
    "7. Find the remainder when 2 is divided by 7."
   ]
  },
  {
   "cell_type": "code",
   "execution_count": 2,
   "metadata": {},
   "outputs": [
    {
     "name": "stdout",
     "output_type": "stream",
     "text": [
      "7\n",
      "2\n",
      "2\n",
      "2\n"
     ]
    }
   ],
   "source": [
    "print(15//2)\n",
    "print(22%5)\n",
    "print(-22%8)\n",
    "print(2%7)\n"
   ]
  },
  {
   "cell_type": "markdown",
   "metadata": {},
   "source": [
    "8. Addition Assignment,\n",
    "If x = 10, add 5 to x using an assignment operator.\n",
    "9. Subtraction Assignment,\n",
    "If y = 20, subtract 3 from y using an assignment operator.\n",
    "10. Multiplication Assignment,\n",
    "If z = 7, multiply z by 2 using an assignment operator.\n",
    "11. Division Assignment\n",
    " If w = 40, divide w by 4 using an assignment operator."
   ]
  },
  {
   "cell_type": "code",
   "execution_count": 3,
   "metadata": {},
   "outputs": [
    {
     "name": "stdout",
     "output_type": "stream",
     "text": [
      "15\n",
      "17\n",
      "14\n",
      "10.0\n"
     ]
    }
   ],
   "source": [
    "x=10\n",
    "x+=5\n",
    "print(x)\n",
    "\n",
    "y=20\n",
    "y-=3\n",
    "print(y)\n",
    "z=7\n",
    "z*=2\n",
    "print(z)\n",
    "w=40\n",
    "w/=4\n",
    "print(w)\n"
   ]
  },
  {
   "cell_type": "markdown",
   "metadata": {},
   "source": [
    "12. Determine if 8 is greater than 6.\n",
    "13. Determine if 5 is less than 10. \n",
    "14. Check if 7 is greater than or equal to 7.\n",
    "15. Calculate the result of (3 + 5) * 2 - 4 / 2 % 3 using python \n",
    "operators (Use pen copy to solve question)\n",
    "16. Evaluate the expression (7 ** 2 + 6 // 3) * (8 % 3 - 2)\n"
   ]
  },
  {
   "cell_type": "code",
   "execution_count": 4,
   "metadata": {},
   "outputs": [
    {
     "name": "stdout",
     "output_type": "stream",
     "text": [
      "True\n",
      "True\n",
      "True\n",
      "14.0\n",
      "0\n"
     ]
    }
   ],
   "source": [
    "print(8>6)\n",
    "print(5<10)\n",
    "print(7>=7)\n",
    "print((3 + 5) * 2 - 4 / 2 % 3)\n",
    "print((7 ** 2 + 6 // 3) * (8 % 3 - 2))"
   ]
  },
  {
   "cell_type": "markdown",
   "metadata": {},
   "source": [
    "17. a = 8\n",
    " b = a * 2\n",
    " c = b // 3 + a\n",
    " print(a, b, c)\n",
    "18. p = 10\n",
    " q = p - 4\n",
    " r = q + p * 2\n",
    " print(p, q, r)\n",
    "19. m = 3\n",
    " n = m ** 2\n",
    " o = n % m + 1\n",
    " print(m, n, o)\n",
    "20. a = 12\n",
    " b = a / 3\n",
    " c = b ** 2\n",
    " d = (a + b + c) % 5\n",
    " print(a, b, c, d)\n",
    "21. c, d = 12, 6\n",
    " c, d = d + 4, c - 2\n",
    " d, c = c // 3, d * 3\n",
    " print(c, d +1)\n",
    "22. m, n a = 8, 3,-4\n",
    " m, n = n * 2, m+ a - 5\n",
    " n, m = m + 4, n // 2\n",
    " print(m, n)\n",
    "23. a, b = 5, 8\n",
    " a += b\n",
    " b -= 2\n",
    " a, b = b, a - 4\n",
    " print(a, b)\n",
    "24. x, y = 12, 3\n",
    " y = x // 2\n",
    " x *= 3\n",
    " x, y = y + 1, x - 5\n",
    " print(x, y)\n",
    "25. c, d = 8, 20\n",
    " d = c * 2\n",
    " c += 5\n",
    " c, d = d - 7, c // 3\n",
    " print(c, d)"
   ]
  },
  {
   "cell_type": "code",
   "execution_count": 5,
   "metadata": {},
   "outputs": [
    {
     "name": "stdout",
     "output_type": "stream",
     "text": [
      "8 16 13\n",
      "10 6 26\n",
      "3 9 1\n",
      "12 4.0 16.0 2.0\n",
      "30 4\n",
      "-1 10\n",
      "6 9\n",
      "7 31\n",
      "9 4\n"
     ]
    }
   ],
   "source": [
    "a = 8\n",
    "b = a * 2\n",
    "c = b // 3 + a\n",
    "print(a, b, c)\n",
    "\n",
    "p = 10\n",
    "q = p - 4\n",
    "r = q + p * 2\n",
    "print(p, q, r)\n",
    "\n",
    "m = 3\n",
    "n = m ** 2\n",
    "o = n % m + 1\n",
    "print(m, n, o)\n",
    "\n",
    "a = 12\n",
    "b = a / 3\n",
    "c = b ** 2\n",
    "d = (a + b + c) % 5\n",
    "print(a, b, c, d)\n",
    "\n",
    "c, d = 12, 6\n",
    "c, d = d + 4, c - 2\n",
    "d, c = c // 3, d * 3\n",
    "print(c, d +1)\n",
    "\n",
    "m, n, a = 8, 3,-4\n",
    "m, n = n * 2, m+ a - 5\n",
    "n, m = m + 4, n // 2\n",
    "print(m, n)\n",
    "\n",
    "a, b = 5, 8\n",
    "a += b\n",
    "b -= 2\n",
    "a, b = b, a - 4\n",
    "print(a, b)\n",
    "\n",
    "x, y = 12, 3\n",
    "y = x // 2\n",
    "x *= 3\n",
    "x, y = y + 1, x - 5\n",
    "print(x, y)\n",
    "\n",
    "c, d = 8, 20\n",
    "d = c * 2\n",
    "c += 5\n",
    "c, d = d - 7, c // 3\n",
    "print(c, d)"
   ]
  },
  {
   "cell_type": "markdown",
   "metadata": {},
   "source": [
    "Input- output "
   ]
  },
  {
   "cell_type": "markdown",
   "metadata": {},
   "source": [
    "Q1. WAP to accept integer input from user. "
   ]
  },
  {
   "cell_type": "code",
   "execution_count": null,
   "metadata": {},
   "outputs": [],
   "source": [
    "x= int(input())"
   ]
  },
  {
   "cell_type": "markdown",
   "metadata": {},
   "source": [
    "Q2. Write a python program to take input from user age then increase his/her age by 10 years. \n",
    "Sample Input : enter you age : 12 \n",
    "Sample Output : 22 "
   ]
  },
  {
   "cell_type": "code",
   "execution_count": 18,
   "metadata": {},
   "outputs": [
    {
     "name": "stdout",
     "output_type": "stream",
     "text": [
      "22.0\n"
     ]
    }
   ],
   "source": [
    "x=float(input('enter your age'))\n",
    "y=x+10\n",
    "print(y)"
   ]
  },
  {
   "cell_type": "markdown",
   "metadata": {},
   "source": [
    "Q3.  Take input user name ,  age  , height  then print output as “my name is (your name),my age is (you age), and height is (your age)” . \n",
    "sample Input: Enter you name : alice \n",
    "Enter your age : 10 \n",
    "Enter your height : 3.5 \n",
    "Sample Output: \n",
    "My name is alice, my age is 10 and height is 3.5 "
   ]
  },
  {
   "cell_type": "code",
   "execution_count": 17,
   "metadata": {},
   "outputs": [
    {
     "name": "stdout",
     "output_type": "stream",
     "text": [
      "My name is saquib , My age is 21 and hight is 5.9\n"
     ]
    }
   ],
   "source": [
    "x=input(\"enter your name\")\n",
    "y=int(input('enter your age'))\n",
    "z=float(input('enter your hight'))\n",
    "print('My name is',x,',','My age is',y,'and hight is',z)"
   ]
  },
  {
   "cell_type": "markdown",
   "metadata": {},
   "source": [
    "Q4. How do you input a floating-point number from the user and store it in a variable called price? "
   ]
  },
  {
   "cell_type": "code",
   "execution_count": 14,
   "metadata": {},
   "outputs": [
    {
     "name": "stdout",
     "output_type": "stream",
     "text": [
      "2203065264368 2203065264368\n"
     ]
    }
   ],
   "source": [
    "x=float(input('enter the no.'))\n",
    "Price=x\n",
    "print(id(x),id(Price))"
   ]
  },
  {
   "cell_type": "markdown",
   "metadata": {},
   "source": [
    "Q5. Write a Python program that asks the user for two numbers and then prints their sum \n",
    "\n",
    "Sample Input : Enter 1st numbers : 3 \n",
    "               Enter 2nd number :4 \n",
    "Sampel Output : 7 "
   ]
  },
  {
   "cell_type": "code",
   "execution_count": 12,
   "metadata": {},
   "outputs": [
    {
     "name": "stdout",
     "output_type": "stream",
     "text": [
      "7\n"
     ]
    }
   ],
   "source": [
    "x=int(input('enter first no.'))\n",
    "y=int(input('enter second no.'))\n",
    "print(x+y)"
   ]
  },
  {
   "cell_type": "markdown",
   "metadata": {},
   "source": [
    "Q6.Write a Python program that asks the user for their age and then prints a message stating their age. "
   ]
  },
  {
   "cell_type": "code",
   "execution_count": 10,
   "metadata": {},
   "outputs": [
    {
     "name": "stdout",
     "output_type": "stream",
     "text": [
      "age is 5\n"
     ]
    }
   ],
   "source": [
    "x=int(input(\"enter your age\"))\n",
    "print('age is', x)"
   ]
  },
  {
   "cell_type": "markdown",
   "metadata": {},
   "source": [
    "Q7.Write a Python program that asks the user for the radius of a circle and then prints the area of the circle. "
   ]
  },
  {
   "cell_type": "code",
   "execution_count": 9,
   "metadata": {},
   "outputs": [
    {
     "name": "stdout",
     "output_type": "stream",
     "text": [
      "78.5\n"
     ]
    }
   ],
   "source": [
    "x=float(input(\"Enter radius\"))\n",
    "y=3.14*(x**2)\n",
    "print(y)"
   ]
  },
  {
   "cell_type": "markdown",
   "metadata": {},
   "source": [
    "Q8. How do you take a string input from the user and convert it to an integer? \n",
    "\n",
    "Sample input : ‘234’ \n",
    "Sample output : 234 "
   ]
  },
  {
   "cell_type": "code",
   "execution_count": 8,
   "metadata": {},
   "outputs": [
    {
     "name": "stdout",
     "output_type": "stream",
     "text": [
      "123\n"
     ]
    }
   ],
   "source": [
    "x=input(\"enter the value\")\n",
    "y=int(x)\n",
    "print(y)"
   ]
  },
  {
   "cell_type": "markdown",
   "metadata": {},
   "source": [
    "Q9. Write a Python program that asks the user for their height in feet and converts it to meters (1 foot = 0.3048 meters)."
   ]
  },
  {
   "cell_type": "code",
   "execution_count": 4,
   "metadata": {},
   "outputs": [
    {
     "name": "stdout",
     "output_type": "stream",
     "text": [
      "1.524 meters\n"
     ]
    }
   ],
   "source": [
    "x=float(input(\"Enter hight in feet\"))\n",
    "y=x*0.3048\n",
    "print(y,\"meters\")"
   ]
  },
  {
   "cell_type": "markdown",
   "metadata": {},
   "source": [
    "Q10. Write a Python program that takes three inputs from the user: two integers and one floating-point number. Your task is to print these three values in the following format: \n",
    "Integer1  Integer2  Float_Number \n",
    "\n",
    "Sample Input: \n",
    "Enter the first integer: 5 \n",
    "Enter the second integer: 10 \n",
    "Enter the floating-point number: 3.14 \n",
    "Sample output: \n",
    "5 10 3.14 "
   ]
  },
  {
   "cell_type": "code",
   "execution_count": 3,
   "metadata": {},
   "outputs": [
    {
     "name": "stdout",
     "output_type": "stream",
     "text": [
      "5 10 3.14\n"
     ]
    }
   ],
   "source": [
    "x=int(input(\"Enter first integer\"))\n",
    "y=int(input(\"Enter second integer\"))\n",
    "z=float(input(\"Enter the floating-point number\"))\n",
    "print(x,y,z)"
   ]
  },
  {
   "cell_type": "markdown",
   "metadata": {},
   "source": [
    "if else assignment 1"
   ]
  },
  {
   "cell_type": "markdown",
   "metadata": {},
   "source": [
    "\n",
    "\n",
    "Q1. W.A.P  to check if a number is positive, negative. \n",
    "\n",
    "Input: enter a number : 8 \n",
    "Output : positive  \n",
    "\n",
    "\n",
    "  "
   ]
  },
  {
   "cell_type": "code",
   "execution_count": 3,
   "metadata": {},
   "outputs": [
    {
     "name": "stdout",
     "output_type": "stream",
     "text": [
      "Zero\n"
     ]
    }
   ],
   "source": [
    "x=int(input(\"Enter the number\"))\n",
    "if x<0 :\n",
    "    print(\"Negative\")\n",
    "elif x>0 :\n",
    "    print(\"Positive\")\n",
    "else:\n",
    "    print(\"Zero\")"
   ]
  },
  {
   "cell_type": "markdown",
   "metadata": {},
   "source": [
    "Q2 W.A.P that takes 2 numbers input from user check their sum is greater then 10 or not . if greater than 10 print ‘greater’ otherwise print ‘less’ \n",
    "\n",
    "Input \n",
    "Enter 1 number: 3 \n",
    "Enter 2 number : 5 \n",
    "Output: \n",
    "less  \n",
    "\n"
   ]
  },
  {
   "cell_type": "code",
   "execution_count": 7,
   "metadata": {},
   "outputs": [
    {
     "name": "stdout",
     "output_type": "stream",
     "text": [
      "less\n"
     ]
    }
   ],
   "source": [
    "x=int(input(\"Enter first no.\"))\n",
    "y=int(input(\"Enter second no\"))\n",
    "z=x+y\n",
    "if z>10 :\n",
    "    print(\"greater\")\n",
    "else:\n",
    "    print(\"less\")"
   ]
  },
  {
   "cell_type": "markdown",
   "metadata": {},
   "source": [
    "Q3. WAP that takes 2 numbers from user and print largest number \n",
    "\n",
    "Input \n",
    "Enter a number: 78 \n",
    "Enter a number:  98 \n",
    "Output: \n",
    "98 \n",
    "\n"
   ]
  },
  {
   "cell_type": "code",
   "execution_count": null,
   "metadata": {},
   "outputs": [],
   "source": [
    "x=int(input(\"Enter first no.\"))\n",
    "y=int(input(\"Enter second no\"))\n",
    "if x>y :\n",
    "    print(x)\n",
    "else:\n",
    "    print(y)"
   ]
  },
  {
   "cell_type": "markdown",
   "metadata": {},
   "source": [
    "Q4. W.A.P  that takes a number check  it is divisible by 5 or not \n",
    "\n",
    "Input  \n",
    "Enter a number : 90 \n",
    "Output: \n",
    "Divisible  \n",
    "\n",
    "\n"
   ]
  },
  {
   "cell_type": "code",
   "execution_count": 10,
   "metadata": {},
   "outputs": [
    {
     "name": "stdout",
     "output_type": "stream",
     "text": [
      "not divisible by 5\n"
     ]
    }
   ],
   "source": [
    "x=int(input(\"Enter the no.\"))\n",
    "if x%5==0 :\n",
    "    print(\"divisible by 5\")\n",
    "else:\n",
    "    print(\"not divisible by 5\")"
   ]
  },
  {
   "cell_type": "markdown",
   "metadata": {},
   "source": [
    "Q5. w.a.p that 4 angles checks whether it can form quadrilateral or not. \n",
    "Sum of all four angle is 360  \n",
    "\n"
   ]
  },
  {
   "cell_type": "code",
   "execution_count": 13,
   "metadata": {},
   "outputs": [
    {
     "name": "stdout",
     "output_type": "stream",
     "text": [
      "valid input\n"
     ]
    }
   ],
   "source": [
    "a=int(input(\"Enter angleA\"))\n",
    "b=int(input(\"Enter angleB\"))\n",
    "c=int(input(\"Enter angleC\"))\n",
    "d=int(input(\"Enter angleD\"))\n",
    "z=a+b+c+d\n",
    "if z==360 :\n",
    "    print(\"valid input\")\n",
    "else:\n",
    "    print(\"not valid input\")"
   ]
  },
  {
   "cell_type": "markdown",
   "metadata": {},
   "source": [
    "Q6.  Determine the season based on month taken from user \n",
    "\n",
    "3 <= month <= 5; print \"Spring\" \n",
    "6 <= month <= 8 then print \"Summer\" \n",
    "9 <= month <= 11, then print \"Autumn\" \n",
    "12<= moth <= 2 then print \"Winter\" "
   ]
  },
  {
   "cell_type": "code",
   "execution_count": null,
   "metadata": {},
   "outputs": [
    {
     "name": "stdout",
     "output_type": "stream",
     "text": [
      "Winter\n"
     ]
    }
   ],
   "source": [
    "m=int(input(\"Enter month in no.\"))\n",
    "if 3<=m and m<=5 :\n",
    "    print(\"Spring\")\n",
    "elif 6<=m and m<=8 :\n",
    "    print(\"Summer\") \n",
    "elif 9<=m and m<=11 :\n",
    "    print(\"Autumn\") \n",
    "else:\n",
    "    print(\"Winter\")"
   ]
  },
  {
   "cell_type": "markdown",
   "metadata": {},
   "source": [
    "If else Assignment - 2\n",
    "Q1. W.A.P to check if a number is positive, negative, or zero.\n",
    "Input: enter a number: 8\n",
    "Output: positive"
   ]
  },
  {
   "cell_type": "code",
   "execution_count": 19,
   "metadata": {},
   "outputs": [
    {
     "name": "stdout",
     "output_type": "stream",
     "text": [
      "Zero\n"
     ]
    }
   ],
   "source": [
    "x=int(input(\"Enter the number\"))\n",
    "if x>0 :\n",
    "    print(\"positive\")\n",
    "elif x<0:\n",
    "    print(\"Negative\")\n",
    "else :\n",
    "    print(\"Zero\")"
   ]
  },
  {
   "cell_type": "markdown",
   "metadata": {},
   "source": [
    "Q2. W.A.P to check if a number is even or odd.\n",
    "Input: 9\n",
    "Output: odd"
   ]
  },
  {
   "cell_type": "code",
   "execution_count": 21,
   "metadata": {},
   "outputs": [
    {
     "name": "stdout",
     "output_type": "stream",
     "text": [
      "even no\n"
     ]
    }
   ],
   "source": [
    "x=int(input(\"Enter the number\"))\n",
    "if x%2 == 0:\n",
    "    print(\"even no\")\n",
    "else:\n",
    "    print(\"odd no.\")"
   ]
  },
  {
   "cell_type": "markdown",
   "metadata": {},
   "source": [
    "Q3. W.A.P to Determine grade based on marks.\n",
    "marks >= 90: Grade A\n",
    " marks >= 80: Grade: B\n",
    " Marks >= 70: Grade C\n",
    " marks >= 60: Grade: D\n",
    " otherwise,\n",
    " Grade: E\n",
    "Test Case 1:\n",
    "Input: 50\n",
    "Output: E\n",
    "21 September 2024"
   ]
  },
  {
   "cell_type": "code",
   "execution_count": 26,
   "metadata": {},
   "outputs": [
    {
     "name": "stdout",
     "output_type": "stream",
     "text": [
      "GradeD\n"
     ]
    }
   ],
   "source": [
    "x=int(input(\"Enter percentage\"))\n",
    "if 90<=x<=100 :\n",
    "    print(\"GradeA\")\n",
    "elif x>=80 :\n",
    "    print(\"GradeB\")\n",
    "elif x>=70 :\n",
    "    print(\"GradeC\")\n",
    "elif x>=60 :\n",
    "    print(\"GradeD\")\n",
    "else:\n",
    "    print(\"GradeE\")"
   ]
  },
  {
   "cell_type": "markdown",
   "metadata": {},
   "source": [
    "Q4. W.A.P to Check if a number is divisible by both 3 and 5.\n",
    "Input: 15 \n",
    "Output: Divisible"
   ]
  },
  {
   "cell_type": "code",
   "execution_count": 35,
   "metadata": {},
   "outputs": [
    {
     "name": "stdout",
     "output_type": "stream",
     "text": [
      "Divisible by 3\n"
     ]
    }
   ],
   "source": [
    "x=int(input(\"Enter the no.\"))\n",
    "y=x%3\n",
    "z=x%5\n",
    "l=y==0 and z==0\n",
    "if l  :\n",
    "    print(\"divisible by both\")\n",
    "elif y==0 :\n",
    "    print(\"Divisible by 3\")\n",
    "elif z==0 :\n",
    "    print(\"Divisible by 3\")\n",
    "else:\n",
    "    print(\"not divisible by 3 or 5\")\n"
   ]
  },
  {
   "cell_type": "markdown",
   "metadata": {},
   "source": [
    "Q5. program to determine if a person is a child, teenager, adult, or \n",
    "senior based on their age\n",
    "age <= 12:\"Child\"\n",
    "age <= 19: \"Teenager\" \n",
    "age <= 64: \"Adult\" \n",
    "age > = 64:\"Senior\"\n",
    "Test Case 1:\n",
    "Enter age: 8\n",
    "Child\n",
    "Test Case 2:\n",
    "Enter age: 16\n",
    "Teenager"
   ]
  },
  {
   "cell_type": "code",
   "execution_count": 40,
   "metadata": {},
   "outputs": [
    {
     "name": "stdout",
     "output_type": "stream",
     "text": [
      "senior\n"
     ]
    }
   ],
   "source": [
    "age= int(input(\"Enter your age\"))\n",
    "if age>= 64 :\n",
    "    print(\"senior\")\n",
    "elif age>=20 :\n",
    "    print(\"Adult\")\n",
    "elif age>=12 :\n",
    "    print(\"teenager\")\n",
    "else:\n",
    "    print(\"child\")"
   ]
  },
  {
   "cell_type": "markdown",
   "metadata": {},
   "source": [
    "Q6. Check if a year is a leap year.\n",
    "Test case 1:\n",
    "Input: 1600\n",
    "Output: Leap year\n",
    "Test Case 2:\n",
    "Input: 1900\n",
    "Output: Not a leap year."
   ]
  },
  {
   "cell_type": "code",
   "execution_count": 53,
   "metadata": {},
   "outputs": [
    {
     "name": "stdout",
     "output_type": "stream",
     "text": [
      "leap year\n"
     ]
    }
   ],
   "source": [
    "x=int(input(\"Enter year\"))\n",
    "if x%4==0 :\n",
    "    print(\"leap year\")\n",
    "else:\n",
    "    print(\"not leap year\")"
   ]
  },
  {
   "cell_type": "markdown",
   "metadata": {},
   "source": [
    "Q7. W.A.P to find the largest of three numbers. \n",
    "Input: enter 3 number: 78, 56, 100\n",
    "Output: greatest out of 3: 100\n"
   ]
  },
  {
   "cell_type": "code",
   "execution_count": 28,
   "metadata": {},
   "outputs": [
    {
     "name": "stdout",
     "output_type": "stream",
     "text": [
      "345678\n"
     ]
    }
   ],
   "source": [
    "x=int(input(\"Enter the first no.\"))\n",
    "y=int(input(\"Enter the second no.\"))\n",
    "z=int(input(\"Enter the third no.\"))\n",
    "if x>y and x>z :\n",
    "    print(x)\n",
    "elif y>x and y>z :\n",
    "    print(y)\n",
    "elif z>x and z>y :\n",
    "    print(z)"
   ]
  },
  {
   "cell_type": "markdown",
   "metadata": {},
   "source": [
    "Q8. W.A.P Determine if a triangle is equilateral, isosceles, or scalene.\n",
    "Input: enter 3 sides of a triangle 7, 7, 1 \n",
    "Output: isosceles\n"
   ]
  },
  {
   "cell_type": "code",
   "execution_count": 57,
   "metadata": {},
   "outputs": [
    {
     "name": "stdout",
     "output_type": "stream",
     "text": [
      "isosceles triangle\n"
     ]
    }
   ],
   "source": [
    "a=int(input(\"Enter sideA\"))\n",
    "b=int(input(\"Enter sideB\"))\n",
    "c=int(input(\"Enter sideC\"))\n",
    "if a==b==c :\n",
    "    print(\"equilateral triangle\")\n",
    "elif a==b!=c or a==c!=b or c==b!=a :\n",
    "    print(\"isosceles triangle\")\n",
    "else:\n",
    "    print(\"scalene triange\")"
   ]
  },
  {
   "cell_type": "markdown",
   "metadata": {},
   "source": [
    "Q9. Determine if a year is a century year.\n",
    "Example of century year 1800, 2000, 2100 many more…"
   ]
  },
  {
   "cell_type": "code",
   "execution_count": 58,
   "metadata": {},
   "outputs": [
    {
     "name": "stdout",
     "output_type": "stream",
     "text": [
      "Century year\n"
     ]
    }
   ],
   "source": [
    "x=int(input(\"Enter year\"))\n",
    "if x%100==0 :\n",
    "    print(\"Century year\")\n",
    "else:\n",
    "    print(\"not century\")"
   ]
  },
  {
   "cell_type": "markdown",
   "metadata": {},
   "source": [
    "Q10.Write a Python program that accepts three numbers and check \n",
    "All numbers are equal or not.\n"
   ]
  },
  {
   "cell_type": "code",
   "execution_count": null,
   "metadata": {},
   "outputs": [],
   "source": [
    "x=int(input(\"Enter 1st number\"))\n",
    "y=int(input(\"Enter 2nd number\"))\n",
    "z=int(input(\"Enter 3rd number\"))\n",
    "if x==y==z :\n",
    "    print(\"all are equal\")\n",
    "else:\n",
    "    print(\"No. are not equal\")"
   ]
  },
  {
   "cell_type": "markdown",
   "metadata": {},
   "source": [
    "Q10. Write a python program which takes x and y as a input and \n",
    "determine the quadrant of a point in a coordinate system as per the \n",
    "given information below:\n",
    " x> 0, y> 0: first quadrant\n",
    " x < 0, y > 0: second quadrant\n",
    " x< 0, y<0: third quadrant\n",
    " x> 0, y < 0: fourth quadrant\n",
    "Test Case 1:\n",
    "Input: x = 8 and y = -1\n",
    "Output: fourth quadrant"
   ]
  },
  {
   "cell_type": "code",
   "execution_count": 59,
   "metadata": {},
   "outputs": [
    {
     "name": "stdout",
     "output_type": "stream",
     "text": [
      "fourth quadrant\n"
     ]
    }
   ],
   "source": [
    "x=int(input(\"Enter value of x\"))\n",
    "y=int(input(\"Enter value of y\"))\n",
    "if x>0 and y>0 :\n",
    "    print(\"First quadrant\")\n",
    "elif x<0 and y>0:\n",
    "    print(\"second quadrant\")\n",
    "elif x<0 and y<0 :\n",
    "    print(\"third quadrant\")\n",
    "elif x>0 and y<0 :\n",
    "    print(\"fourth quadrant\")"
   ]
  },
  {
   "cell_type": "markdown",
   "metadata": {},
   "source": [
    "Q12. Write a python program which takes three input and check if \n",
    "third number is within a given range between first and second \n",
    "number.\n",
    "INPUT: LOWER RANGE: 10\n",
    " UPPER RANGE: 89\n",
    " INPUT_NUMBER: 77\n",
    "OUTPUT: ‘YES’"
   ]
  },
  {
   "cell_type": "code",
   "execution_count": 57,
   "metadata": {},
   "outputs": [
    {
     "name": "stdout",
     "output_type": "stream",
     "text": [
      "upper case = 70 lowr case = 55\n"
     ]
    }
   ],
   "source": [
    "a=int(input(\"Enter 1st value\"))\n",
    "b=int(input(\"Enter 2nd value\"))\n",
    "c=int(input(\"Enter 3rd value\"))\n",
    "if b<a<c :\n",
    "    print(\"upper case =\",c,\"lowr case =\",b)\n",
    "elif c<a<b:\n",
    "    print(\"upper case =\",b,\"lowr case =\",c)\n",
    "elif a<b<c :\n",
    "    print(\"upper case =\",c,\"lowr case =\",a)\n",
    "elif c<b<a :\n",
    "    print(\"upper case =\",a,\"lowr case =\",c)\n",
    "elif b<c<a :\n",
    "    print(\"upper case =\",a,\"lowr case =\",b)\n",
    "elif a<c<b :\n",
    "    print(\"upper case =\",b,\"lowr case =\",a)"
   ]
  },
  {
   "cell_type": "markdown",
   "metadata": {},
   "source": [
    "Q13. Input 3 angle and determine if they form a triangle or not."
   ]
  },
  {
   "cell_type": "code",
   "execution_count": null,
   "metadata": {},
   "outputs": [],
   "source": [
    "a=int(input(\"Enter 1st side\"))\n",
    "b=int(input(\"Enter 2nd side\"))\n",
    "c=int(input(\"Enter 3rd side\"))\n",
    "if a+b>c and b+c>a and c+a>b :\n",
    "    print(\"valid\")\n",
    "else :\n",
    "    print(\"not valid\")\n",
    "    "
   ]
  },
  {
   "cell_type": "markdown",
   "metadata": {},
   "source": [
    "Q14. program that reads 2 numbers and an arithmetic operator like \n",
    "+, -, *, /, % and display the computed result:\n",
    "Example \n",
    "Enter the 1 number: 5\n",
    "Enter the 2 number: 2\n",
    "Enter the operator: *\n",
    "Output: 10.0"
   ]
  },
  {
   "cell_type": "code",
   "execution_count": null,
   "metadata": {},
   "outputs": [
    {
     "name": "stdout",
     "output_type": "stream",
     "text": [
      "-3.0\n"
     ]
    }
   ],
   "source": [
    "x=float(input(\"Enter first value\"))\n",
    "z=(input(\"enter operator = +,-,*,/,%\"))\n",
    "y=float(input(\"Enter second value\"))\n",
    "if z== \"+\" :\n",
    "    print(x+y)\n",
    "elif z=='-' :\n",
    "    print(x-y)\n",
    "elif z=='*' :\n",
    "    print(x*y)\n",
    "elif z=='/' :\n",
    "    print(x/y)\n",
    "elif z=='%' :\n",
    "    print(x%y)\n",
    "else:\n",
    "    print(\"not valid operator\")"
   ]
  },
  {
   "cell_type": "markdown",
   "metadata": {},
   "source": [
    "Q15. Write a python program to input cost price and selling price of a \n",
    "product and check profit or loss. Also calculate total profit or loss \n",
    "using if else.\n",
    "Test case 1:\n",
    "input cost price: 1000\n",
    "Input selling price: 1500\n",
    "Output:\n",
    "Profit is 500"
   ]
  },
  {
   "cell_type": "code",
   "execution_count": 63,
   "metadata": {},
   "outputs": [
    {
     "name": "stdout",
     "output_type": "stream",
     "text": [
      "loss\n",
      "loss amount : 40.0\n"
     ]
    }
   ],
   "source": [
    "cp=float(input(\"Enter cost price\"))\n",
    "sp=float(input(\"Selling price\"))\n",
    "z=sp -cp\n",
    "if sp>cp:\n",
    "    print(\"profit\")\n",
    "    print(\"profit amout :\",z)\n",
    "else:\n",
    "    print(\"loss\")\n",
    "    print(\"loss amount :\", -z)"
   ]
  },
  {
   "cell_type": "markdown",
   "metadata": {},
   "source": [
    "Q16. Write a python program to input week number and print week \n",
    "day.\n",
    "Test case 1:\n",
    "Input: 1\n",
    "Output: Monday\n",
    "Test case 2:\n",
    "Input: 7\n",
    "Output: Sunday"
   ]
  },
  {
   "cell_type": "code",
   "execution_count": 65,
   "metadata": {},
   "outputs": [
    {
     "name": "stdout",
     "output_type": "stream",
     "text": [
      "Sunday\n"
     ]
    }
   ],
   "source": [
    "w=int(input(\"Enter week no. from 1 to 7\"))\n",
    "if w==1:\n",
    "    print(\"Monday\")\n",
    "elif w==2:\n",
    "    print(\"Tuesday\")\n",
    "elif w==3:\n",
    "    print(\"Wednesday\")\n",
    "elif w==4:\n",
    "    print(\"Thrusday\")\n",
    "elif w==5:\n",
    "    print(\"Friday\")\n",
    "elif w==6:\n",
    "    print(\"Saturday\")\n",
    "elif w==7:\n",
    "    print(\"Sunday\")"
   ]
  },
  {
   "cell_type": "markdown",
   "metadata": {},
   "source": [
    "Q17. Write a python program that accepts three numbers from the \n",
    "user and check if numbers are in \"increasing\" or \"decreasing\" order.\n",
    "Test Case 1:\n",
    "Input: 10,17,20\n",
    "Output: Increasing Order.\n",
    "Test case 2:\n",
    "Input: 90,69,36\n",
    "Output: Decreasing Order"
   ]
  },
  {
   "cell_type": "code",
   "execution_count": 66,
   "metadata": {},
   "outputs": [
    {
     "name": "stdout",
     "output_type": "stream",
     "text": [
      "Increasing order\n"
     ]
    }
   ],
   "source": [
    "x=int(input(\"Enter 1st number\"))\n",
    "y=int(input(\"Enter 2nd number\"))\n",
    "z=int(input(\"Enter 3rd number\"))\n",
    "if x>y>z :\n",
    "    print(\"Decreasing order\")\n",
    "elif x<y<z :\n",
    "    print(\"Increasing order\")\n",
    "else:\n",
    "    print(\"not in order \")"
   ]
  },
  {
   "cell_type": "markdown",
   "metadata": {},
   "source": [
    "Q18. While purchasing certain items, a discount of 10% is offered if \n",
    "the quantity purchased is more than 100. If quantity and price per \n",
    "item are input through the keyboard, write a program to calculate \n",
    "the total expenses."
   ]
  },
  {
   "cell_type": "code",
   "execution_count": 73,
   "metadata": {},
   "outputs": [
    {
     "name": "stdout",
     "output_type": "stream",
     "text": [
      "no discount applied\n"
     ]
    }
   ],
   "source": [
    "x=int(input(\"product 1st price\"))\n",
    "y=int(input(\"product 2nd price\"))\n",
    "z=int(input(\"product 3rd price\"))\n",
    "t= x+y+z\n",
    "\n",
    "tp=t-(t*(10/100))\n",
    "\n",
    "\n",
    "if t>=100:\n",
    "    print(\"10% discount applied\")\n",
    "    print(\"payable price :\", tp)\n",
    "else:\n",
    "    print(\"no discount applied\")"
   ]
  },
  {
   "cell_type": "markdown",
   "metadata": {},
   "source": [
    "Q19. Write a program to input electricity unit charges and calculate \n",
    "total electricity bill \n",
    "according to the given condition:\n",
    "• For first 50 units Rs. 0.50/unit\n",
    "• For next 150 units Rs. 0.75/unit\n",
    "• For next 250 units Rs. 1.20/unit\n",
    "• For unit above 450 Rs. 1.50/unit\n",
    "• An additional surcharge of 20% is added to the bill\n",
    "Test Case 1:\n",
    "Input: 100 units\n",
    "Expected Output:\n",
    "Rs. 62.5\n",
    "With Surcharge: Rs. 75\n",
    "Test Case 3:\n",
    "Input: 300 units\n",
    "Expected Output:\n",
    "Rs. 257.5\n",
    "With Surcharge: Rs. 309"
   ]
  },
  {
   "cell_type": "code",
   "execution_count": 9,
   "metadata": {},
   "outputs": [
    {
     "name": "stdout",
     "output_type": "stream",
     "text": [
      "Electricity bill : 257.5\n",
      "with surcharge : 309.0\n"
     ]
    }
   ],
   "source": [
    "u=float(input(\"Enter unit of electricity \"))\n",
    "if u<=50 :\n",
    "    a=u*0.50\n",
    "    sa=a+(a*(20/100))\n",
    "    print(\"Electricity bill :\", a)\n",
    "    print(\"with surcharge :\", sa)\n",
    "elif 50<u and u<=200 :\n",
    "    b=(50*0.50)+((u-50)*0.75)\n",
    "    sb=b+(b*(20/100))\n",
    "    print(\"Electricity bill :\", b)\n",
    "    print(\"with surcharge :\", sb)\n",
    "elif 200<u and u<=450 :\n",
    "    c=(50*0.50)+(150*0.75)+((u-200)*1.20)\n",
    "    sc=c+(c*(20/100))\n",
    "    print(\"Electricity bill :\", c)\n",
    "    print(\"with surcharge :\", sc)\n",
    "else:\n",
    "    d=(50*0.50)+(150*0.75)+(250*1.50)+((u-450)*1.50)\n",
    "    sd=d+(d*(20/100))\n",
    "    print(\"Electricity bill :\", d)\n",
    "    print(\"with surcharge :\", sd)"
   ]
  },
  {
   "cell_type": "code",
   "execution_count": null,
   "metadata": {},
   "outputs": [
    {
     "name": "stdout",
     "output_type": "stream",
     "text": [
      "309.0\n"
     ]
    }
   ],
   "source": [
    "u=int(input(\"Enter the no of units \"))\n",
    "if u<=50:\n",
    "    c=u*0.50\n",
    "    print(\"Electricity bill :\", c)\n",
    "elif u<=200:\n",
    "    c=25+(u-50)*0.75\n",
    "elif u<=450:\n",
    "    c=25+150*0.75+(u-200)*1.20\n",
    "else:\n",
    "    c=25+150*0.75+250*1.20+(u-450)*1.50\n",
    "\n",
    "final_amt=c+c*0.2\n",
    "print(final_amt)"
   ]
  },
  {
   "cell_type": "markdown",
   "metadata": {},
   "source": [
    "Q20. Write a python program which accept the kilometres covered \n",
    "and calculate the bill according to the following criteria:\n",
    "First 10 Km -> Rs11/km\n",
    "Next 90Km -> Rs 10/km\n",
    "After that -> Rs9/km\n",
    "Test Case 1: \n",
    "Input: 50\n",
    "Output: 510\n",
    "Test Case 2:\n",
    "Input: 100\n",
    "Output: 1010"
   ]
  },
  {
   "cell_type": "code",
   "execution_count": 8,
   "metadata": {},
   "outputs": [
    {
     "name": "stdout",
     "output_type": "stream",
     "text": [
      "bill =  510.0\n"
     ]
    }
   ],
   "source": [
    "x=float(input('Enter kilometer'))\n",
    "if  x<=10:\n",
    "    a=x*11\n",
    "    print('bill =',a)\n",
    "elif x>10 and x<=100 :\n",
    "    b=a+((x-10)*10)\n",
    "    print('bill = ', b)\n",
    "else:\n",
    "    c=a+b+((x-100)*9)\n",
    "    print('bill =',c)\n",
    "    "
   ]
  },
  {
   "cell_type": "markdown",
   "metadata": {},
   "source": [
    "for loop assignment-1"
   ]
  },
  {
   "cell_type": "markdown",
   "metadata": {},
   "source": [
    "1. Write a python program that take a number from user then add all \n",
    "the natural number which are divisible by 3 or 5 both till that input \n",
    "number.\n",
    "Sample input:\n",
    "Enter a number: 10\n",
    "Output: 33"
   ]
  },
  {
   "cell_type": "code",
   "execution_count": 3,
   "metadata": {},
   "outputs": [
    {
     "name": "stdout",
     "output_type": "stream",
     "text": [
      "33\n"
     ]
    }
   ],
   "source": [
    "y=0\n",
    "x=int(input('Enter the no.'))\n",
    "for i in range(1,x+1):\n",
    "    if i%3==0 or i%5==0:\n",
    "        y+=i\n",
    "print(y)"
   ]
  },
  {
   "cell_type": "markdown",
   "metadata": {},
   "source": [
    "2. Write a python program that takes input from user then print the \n",
    "table of the entered number using for loop\n",
    "Example: If user enters ‘5’ then, \n",
    "Output: 5 x 1 = 5\n",
    " 5 x 2=10\n",
    " 5 x 3 =15\n",
    " 5 x 4 =20\n",
    " 5 x 5 = 25\n",
    " 5 x 6 = 30\n",
    " 5 x 7 = 35 \n",
    " 5 x 8 = 40\n",
    " 5 x 9 = 45\n",
    " 5 x 10 =50\n"
   ]
  },
  {
   "cell_type": "code",
   "execution_count": 9,
   "metadata": {},
   "outputs": [
    {
     "name": "stdout",
     "output_type": "stream",
     "text": [
      "5 * 1 = 5\n",
      "5 * 2 = 10\n",
      "5 * 3 = 15\n",
      "5 * 4 = 20\n",
      "5 * 5 = 25\n",
      "5 * 6 = 30\n",
      "5 * 7 = 35\n",
      "5 * 8 = 40\n",
      "5 * 9 = 45\n",
      "5 * 10 = 50\n"
     ]
    }
   ],
   "source": [
    "x=int(input('Enter the no.'))\n",
    "for i in range(1,11):\n",
    "    print(x,'*',i,'=',x*i)"
   ]
  },
  {
   "cell_type": "markdown",
   "metadata": {},
   "source": [
    "3. Write a python program that print the given series.\n",
    "Expected Output: 20, 16, 12, 8, 4, 0"
   ]
  },
  {
   "cell_type": "code",
   "execution_count": 13,
   "metadata": {},
   "outputs": [
    {
     "name": "stdout",
     "output_type": "stream",
     "text": [
      "20 16 12 8 4 0 "
     ]
    }
   ],
   "source": [
    "for i in range(20,-1,-4):\n",
    "    print(i,end=\" \")"
   ]
  },
  {
   "cell_type": "markdown",
   "metadata": {},
   "source": [
    "4. Write a python program to generate all the factors of the given \n",
    "number. Using for loop\n",
    "Input: 12\n",
    "Output: 1, 2, 3, 4, 12"
   ]
  },
  {
   "cell_type": "code",
   "execution_count": 17,
   "metadata": {},
   "outputs": [
    {
     "name": "stdout",
     "output_type": "stream",
     "text": [
      "1,2,3,4,6,12,"
     ]
    }
   ],
   "source": [
    "x=int(input('enter the no.'))\n",
    "for i in range(1,x+1):\n",
    "    if x%i==0:\n",
    "        print(i,end=',')"
   ]
  },
  {
   "cell_type": "markdown",
   "metadata": {},
   "source": [
    "6. write a python program that takes number from user then prints \n",
    "count of even and odd number from 1 to till that number\n",
    "Sample input:\n",
    "Enter a number: 10\n",
    "Output:\n",
    "Count_of_even_no.s = 5\n",
    "Count_of_odd_no.s = 5"
   ]
  },
  {
   "cell_type": "code",
   "execution_count": 1,
   "metadata": {},
   "outputs": [
    {
     "name": "stdout",
     "output_type": "stream",
     "text": [
      " Count_of_even_no.s 5 \n",
      " Count_of_even_no.s 5\n"
     ]
    }
   ],
   "source": [
    "evn=0\n",
    "odd=0\n",
    "x=int(input('Enter the no.'))\n",
    "for i in range(1,x+1):\n",
    "    if i%2==0:\n",
    "        evn+=1\n",
    "\n",
    "    else:\n",
    "        odd+=1 \n",
    "print(' Count_of_even_no.s',evn,'\\n','Count_of_even_no.s',odd)\n",
    "        \n"
   ]
  },
  {
   "cell_type": "markdown",
   "metadata": {},
   "source": [
    "7. Write a Python program to count how many numbers between 1 \n",
    "and 200 are divisible by 5 but not by 2."
   ]
  },
  {
   "cell_type": "code",
   "execution_count": 11,
   "metadata": {},
   "outputs": [
    {
     "name": "stdout",
     "output_type": "stream",
     "text": [
      "20\n"
     ]
    }
   ],
   "source": [
    "x=0\n",
    "for i in range(1,201):\n",
    "    if i%5==0 and i%2!=0:\n",
    "        x+=1\n",
    "print(x)"
   ]
  },
  {
   "cell_type": "markdown",
   "metadata": {},
   "source": [
    "8. Write a Python program to find the reverse of a given number\n",
    "using for loop. (between 100 and 999).\n",
    "Input: 897\n",
    "Output: 798"
   ]
  },
  {
   "cell_type": "code",
   "execution_count": 1,
   "metadata": {},
   "outputs": [
    {
     "name": "stdout",
     "output_type": "stream",
     "text": [
      "321\n"
     ]
    }
   ],
   "source": [
    "y=0\n",
    "x=int(input('enter your no.'))\n",
    "for i in range(3):\n",
    "    r=x%10\n",
    "    y=y*10+r\n",
    "    x//=10\n",
    "print(y)"
   ]
  },
  {
   "cell_type": "markdown",
   "metadata": {},
   "source": [
    "5. Write a Python program to find the sum of digit of a given number\n",
    "using for loop. (between 100 and 999).\n",
    "Input: 123\n",
    "Output: 6"
   ]
  },
  {
   "cell_type": "code",
   "execution_count": 22,
   "metadata": {},
   "outputs": [
    {
     "name": "stdout",
     "output_type": "stream",
     "text": [
      "18\n"
     ]
    }
   ],
   "source": [
    "z=0\n",
    "x=int(input('enter the no.'))\n",
    "for i in range(3):\n",
    "    r=x%10\n",
    "    \n",
    "    z+=r\n",
    "    x//=10\n",
    "print(z)"
   ]
  },
  {
   "cell_type": "markdown",
   "metadata": {},
   "source": [
    "9. Write a python program to input a number and calculate the \n",
    "‘double’ factorial using for loop.\n",
    "Explanation: Double factorial,\n",
    "• For an even integer n, the double factorial is the product of all \n",
    "even integers less than or equal to n.\n",
    "• For an odd integer p, the double factorial is the product of all \n",
    "odd integers less than or equal to p."
   ]
  },
  {
   "cell_type": "code",
   "execution_count": 18,
   "metadata": {},
   "outputs": [
    {
     "name": "stdout",
     "output_type": "stream",
     "text": [
      "105\n"
     ]
    }
   ],
   "source": [
    "x=1\n",
    "n=int (input('enter your no.'))\n",
    "for i in range(1,n+1):\n",
    "    if n%2==0 and i%2==0:\n",
    "        x*=i\n",
    "        \n",
    "    elif n%2!=0 and i%2!=0:\n",
    "        x*=i\n",
    "print(x)\n"
   ]
  },
  {
   "cell_type": "code",
   "execution_count": 26,
   "metadata": {},
   "outputs": [
    {
     "name": "stdout",
     "output_type": "stream",
     "text": [
      "15\n"
     ]
    }
   ],
   "source": [
    "x=int(input('enter your no.'))\n",
    "ans=1\n",
    "for i in range(x,0,-2):\n",
    "    ans*=i\n",
    "print(ans)"
   ]
  },
  {
   "cell_type": "markdown",
   "metadata": {},
   "source": [
    "basic question "
   ]
  },
  {
   "cell_type": "code",
   "execution_count": 3,
   "metadata": {},
   "outputs": [
    {
     "name": "stdout",
     "output_type": "stream",
     "text": [
      "5,6,7,8,9,10,11,12,13,14,15,"
     ]
    }
   ],
   "source": [
    "for i in range(5,16):\n",
    "    print(i,end=',')"
   ]
  },
  {
   "cell_type": "code",
   "execution_count": 6,
   "metadata": {},
   "outputs": [
    {
     "name": "stdout",
     "output_type": "stream",
     "text": [
      "2,4,6,8,10,12,14,16,18,20,22,24,"
     ]
    }
   ],
   "source": [
    "for i in range(2,25):\n",
    "    if i%2==0 :\n",
    "        print(i,end=',')"
   ]
  },
  {
   "cell_type": "code",
   "execution_count": 7,
   "metadata": {},
   "outputs": [
    {
     "name": "stdout",
     "output_type": "stream",
     "text": [
      "1,3,5,7,9,11,13,"
     ]
    }
   ],
   "source": [
    "for i in range(1,14):\n",
    "    if i%2!=0:\n",
    "        print(i,end=',')"
   ]
  },
  {
   "cell_type": "code",
   "execution_count": 8,
   "metadata": {},
   "outputs": [
    {
     "name": "stdout",
     "output_type": "stream",
     "text": [
      "1,2,3,4,5,6,7,8,9,10,11,12,13,14,15,16,17,18,19,20,"
     ]
    }
   ],
   "source": [
    "for i in range(1,21):\n",
    "    print(i,end=',')"
   ]
  },
  {
   "cell_type": "code",
   "execution_count": 11,
   "metadata": {},
   "outputs": [
    {
     "name": "stdout",
     "output_type": "stream",
     "text": [
      "20,19,18,17,16,15,14,13,12,11,10,9,8,7,6,5,4,3,2,1,"
     ]
    }
   ],
   "source": [
    "for i in range(20,0,-1):\n",
    "    print(i,end=',')"
   ]
  },
  {
   "cell_type": "code",
   "execution_count": 15,
   "metadata": {},
   "outputs": [
    {
     "name": "stdout",
     "output_type": "stream",
     "text": [
      "4,9,16,25,36,49,64,81,100,121,144,"
     ]
    }
   ],
   "source": [
    "x=1\n",
    "for i in range(2,13):\n",
    "    x=i**2\n",
    "    print(x,end=',')"
   ]
  },
  {
   "cell_type": "code",
   "execution_count": 16,
   "metadata": {},
   "outputs": [
    {
     "name": "stdout",
     "output_type": "stream",
     "text": [
      "1,8,27,64,125,216,"
     ]
    }
   ],
   "source": [
    "x=1\n",
    "for i in range(1,7):\n",
    "    x=i**3\n",
    "    print(x,end=',')"
   ]
  },
  {
   "cell_type": "code",
   "execution_count": 20,
   "metadata": {},
   "outputs": [
    {
     "name": "stdout",
     "output_type": "stream",
     "text": [
      "1 2 3 4 5\n",
      "2 4 6 8 10\n",
      "6 12 18 24 30\n",
      "24 48 72 96 120\n",
      "120 240 360 480 600\n",
      "720 1440 2160 2880 3600\n",
      "5040 10080 15120 20160 25200\n",
      "40320 80640 120960 161280 201600\n",
      "362880 725760 1088640 1451520 1814400\n",
      "3628800 7257600 10886400 14515200 18144000\n",
      "39916800 79833600 119750400 159667200 199584000\n",
      "479001600 958003200 1437004800 1916006400 2395008000\n",
      "6227020800 12454041600 18681062400 24908083200 31135104000\n",
      "87178291200 174356582400 261534873600 348713164800 435891456000\n",
      "1307674368000 2615348736000 3923023104000 5230697472000 6538371840000\n",
      "20922789888000 41845579776000 62768369664000 83691159552000 104613949440000\n",
      "355687428096000 711374856192000 1067062284288000 1422749712384000 1778437140480000\n",
      "6402373705728000 12804747411456000 19207121117184000 25609494822912000 32011868528640000\n",
      "121645100408832000 243290200817664000 364935301226496000 486580401635328000 608225502044160000\n",
      "2432902008176640000 4865804016353280000 7298706024529920000 9731608032706560000 12164510040883200000\n",
      "51090942171709440000 102181884343418880000 153272826515128320000 204363768686837760000 255454710858547200000\n",
      "1124000727777607680000 2248001455555215360000 3372002183332823040000 4496002911110430720000 5620003638888038400000\n",
      "25852016738884976640000 51704033477769953280000 77556050216654929920000 103408066955539906560000 129260083694424883200000\n",
      "620448401733239439360000 1240896803466478878720000 1861345205199718318080000 2481793606932957757440000 3102242008666197196800000\n",
      "15511210043330985984000000 31022420086661971968000000 46533630129992957952000000 62044840173323943936000000 77556050216654929920000000\n",
      "403291461126605635584000000 806582922253211271168000000 1209874383379816906752000000 1613165844506422542336000000 2016457305633028177920000000\n",
      "10888869450418352160768000000 21777738900836704321536000000 32666608351255056482304000000 43555477801673408643072000000 54444347252091760803840000000\n",
      "304888344611713860501504000000 609776689223427721003008000000 914665033835141581504512000000 1219553378446855442006016000000 1524441723058569302507520000000\n",
      "8841761993739701954543616000000 17683523987479403909087232000000 26525285981219105863630848000000 35367047974958807818174464000000 44208809968698509772718080000000\n",
      "265252859812191058636308480000000 530505719624382117272616960000000 795758579436573175908925440000000 1061011439248764234545233920000000 1326264299060955293181542400000000\n",
      "8222838654177922817725562880000000 16445677308355845635451125760000000 24668515962533768453176688640000000 32891354616711691270902251520000000 41114193270889614088627814400000000\n",
      "263130836933693530167218012160000000 526261673867387060334436024320000000 789392510801080590501654036480000000 1052523347734774120668872048640000000 1315654184668467650836090060800000000\n",
      "8683317618811886495518194401280000000 17366635237623772991036388802560000000 26049952856435659486554583203840000000 34733270475247545982072777605120000000 43416588094059432477590972006400000000\n",
      "295232799039604140847618609643520000000 590465598079208281695237219287040000000 885698397118812422542855828930560000000 1180931196158416563390474438574080000000 1476163995198020704238093048217600000000\n",
      "10333147966386144929666651337523200000000 20666295932772289859333302675046400000000 30999443899158434788999954012569600000000 41332591865544579718666605350092800000000 51665739831930724648333256687616000000000\n",
      "371993326789901217467999448150835200000000 743986653579802434935998896301670400000000 1115979980369703652403998344452505600000000 1487973307159604869871997792603340800000000 1859966633949506087339997240754176000000000\n",
      "13763753091226345046315979581580902400000000 27527506182452690092631959163161804800000000 41291259273679035138947938744742707200000000 55055012364905380185263918326323609600000000 68818765456131725231579897907904512000000000\n",
      "523022617466601111760007224100074291200000000 1046045234933202223520014448200148582400000000 1569067852399803335280021672300222873600000000 2092090469866404447040028896400297164800000000 2615113087333005558800036120500371456000000000\n",
      "20397882081197443358640281739902897356800000000 40795764162394886717280563479805794713600000000 61193646243592330075920845219708692070400000000 81591528324789773434561126959611589427200000000 101989410405987216793201408699514486784000000000\n",
      "815915283247897734345611269596115894272000000000 1631830566495795468691222539192231788544000000000 2447745849743693203036833808788347682816000000000 3263661132991590937382445078384463577088000000000 4079576416239488671728056347980579471360000000000\n",
      "33452526613163807108170062053440751665152000000000 66905053226327614216340124106881503330304000000000 100357579839491421324510186160322254995456000000000 133810106452655228432680248213763006660608000000000 167262633065819035540850310267203758325760000000000\n",
      "1405006117752879898543142606244511569936384000000000 2810012235505759797086285212489023139872768000000000 4215018353258639695629427818733534709809152000000000 5620024471011519594172570424978046279745536000000000 7025030588764399492715713031222557849681920000000000\n",
      "60415263063373835637355132068513997507264512000000000 120830526126747671274710264137027995014529024000000000 181245789190121506912065396205541992521793536000000000 241661052253495342549420528274055990029058048000000000 302076315316869178186775660342569987536322560000000000\n",
      "2658271574788448768043625811014615890319638528000000000 5316543149576897536087251622029231780639277056000000000 7974814724365346304130877433043847670958915584000000000 10633086299153795072174503244058463561278554112000000000 13291357873942243840218129055073079451598192640000000000\n",
      "119622220865480194561963161495657715064383733760000000000 239244441730960389123926322991315430128767467520000000000 358866662596440583685889484486973145193151201280000000000 478488883461920778247852645982630860257534935040000000000 598111104327400972809815807478288575321918668800000000000\n",
      "5502622159812088949850305428800254892961651752960000000000 11005244319624177899700610857600509785923303505920000000000 16507866479436266849550916286400764678884955258880000000000 22010488639248355799401221715201019571846607011840000000000 27513110799060444749251527144001274464808258764800000000000\n",
      "258623241511168180642964355153611979969197632389120000000000 517246483022336361285928710307223959938395264778240000000000 775869724533504541928893065460835939907592897167360000000000 1034492966044672722571857420614447919876790529556480000000000 1293116207555840903214821775768059899845988161945600000000000\n",
      "12413915592536072670862289047373375038521486354677760000000000 24827831185072145341724578094746750077042972709355520000000000 37241746777608218012586867142120125115564459064033280000000000 49655662370144290683449156189493500154085945418711040000000000 62069577962680363354311445236866875192607431773388800000000000\n",
      "608281864034267560872252163321295376887552831379210240000000000 1216563728068535121744504326642590753775105662758420480000000000 1824845592102802682616756489963886130662658494137630720000000000 2433127456137070243489008653285181507550211325516840960000000000 3041409320171337804361260816606476884437764156896051200000000000\n",
      "30414093201713378043612608166064768844377641568960512000000000000 60828186403426756087225216332129537688755283137921024000000000000 91242279605140134130837824498194306533132924706881536000000000000 121656372806853512174450432664259075377510566275842048000000000000 152070466008566890218063040830323844221888207844802560000000000000\n"
     ]
    }
   ],
   "source": [
    "a=1\n",
    "b=2\n",
    "c=3\n",
    "d=4\n",
    "e=5\n",
    "for i in range(1,51):\n",
    "    a=i*a\n",
    "    b=i*b\n",
    "    c=i*c\n",
    "    d=i*d\n",
    "    e=i*e\n",
    "    print(a,b,c,d,e)"
   ]
  },
  {
   "cell_type": "code",
   "execution_count": 24,
   "metadata": {},
   "outputs": [
    {
     "name": "stdout",
     "output_type": "stream",
     "text": [
      "3,4,6,8,9,12,15,16,18,20,21,24,27,28,30,"
     ]
    }
   ],
   "source": [
    "for i in range(1,31):\n",
    "    if i%3==0 or i%4==0:\n",
    "        print(i,end=',')"
   ]
  },
  {
   "cell_type": "markdown",
   "metadata": {},
   "source": [
    "9. Write a for loop to print numbers from 1 to 40, but skip numbers that are divisible\n",
    "by 7.\n"
   ]
  },
  {
   "cell_type": "code",
   "execution_count": 8,
   "metadata": {},
   "outputs": [
    {
     "name": "stdout",
     "output_type": "stream",
     "text": [
      "prime\n"
     ]
    }
   ],
   "source": [
    "n=int(input())\n",
    "if n%n>1==0 and n%n<n==0:\n",
    "    print('not prime')\n",
    "else:\n",
    "    print('prime')"
   ]
  },
  {
   "cell_type": "code",
   "execution_count": 5,
   "metadata": {},
   "outputs": [
    {
     "data": {
      "text/plain": [
       "1"
      ]
     },
     "execution_count": 5,
     "metadata": {},
     "output_type": "execute_result"
    }
   ],
   "source": [
    "4%3"
   ]
  }
 ],
 "metadata": {
  "kernelspec": {
   "display_name": "Python 3",
   "language": "python",
   "name": "python3"
  },
  "language_info": {
   "codemirror_mode": {
    "name": "ipython",
    "version": 3
   },
   "file_extension": ".py",
   "mimetype": "text/x-python",
   "name": "python",
   "nbconvert_exporter": "python",
   "pygments_lexer": "ipython3",
   "version": "3.11.9"
  }
 },
 "nbformat": 4,
 "nbformat_minor": 2
}
