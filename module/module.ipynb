{
 "cells": [
  {
   "cell_type": "code",
   "execution_count": 1,
   "id": "6dab4622",
   "metadata": {},
   "outputs": [
    {
     "name": "stdout",
     "output_type": "stream",
     "text": [
      "monthly emi =  2224.444768490176\n"
     ]
    }
   ],
   "source": [
    "from task1.emi_calculator import emi\n",
    "\n",
    "p=int(input('enter your principal amount'))\n",
    "r=int(input('enter your yearly intrest rate '))\n",
    "n=int(input('enter no. of year for installment'))\n",
    "# emi = p*r*((1+r)**n)\n",
    "    # where p= principle amount\n",
    "    # r = monthly intrest rate \n",
    "    # n =  number of month installment\n",
    "emi(p,r,n)\n"
   ]
  },
  {
   "cell_type": "code",
   "execution_count": 2,
   "id": "4ce871f1",
   "metadata": {},
   "outputs": [
    {
     "name": "stdout",
     "output_type": "stream",
     "text": [
      "tax amount =  2000.0\n",
      "total amount =  22000.0\n"
     ]
    }
   ],
   "source": [
    "from task1.tax_calculator import tax\n",
    "# tax amount = taxable amount * rate /100\n",
    "# total amount = tax amount + taxable amount\n",
    "taxable_amount = int(input('enter your amount'))\n",
    "rate = int(input('enter your rate of percentage'))\n",
    "tax(taxable_amount,rate)"
   ]
  }
 ],
 "metadata": {
  "kernelspec": {
   "display_name": "Python 3",
   "language": "python",
   "name": "python3"
  },
  "language_info": {
   "codemirror_mode": {
    "name": "ipython",
    "version": 3
   },
   "file_extension": ".py",
   "mimetype": "text/x-python",
   "name": "python",
   "nbconvert_exporter": "python",
   "pygments_lexer": "ipython3",
   "version": "3.11.9"
  }
 },
 "nbformat": 4,
 "nbformat_minor": 5
}
