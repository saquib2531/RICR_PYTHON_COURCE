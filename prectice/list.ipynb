{
 "cells": [
  {
   "cell_type": "markdown",
   "metadata": {},
   "source": [
    "1. Access List Items:\n",
    "\n",
    "Problem: You have a list fruits = [\"apple\", \"banana\", \"cherry\", \"date\"]. Write code to print the fruit at the third position (index 2).\n",
    "Problem: Given numbers = [10, 20, 30, 40, 50], print the last number in the list using negative indexing.\n",
    "Problem: Create a list even_numbers containing the first 10 even numbers. Print the first five elements of the list.\n",
    "Problem: You have matrix = [[1, 2, 3], [4, 5, 6], [7, 8, 9]]. Access and print the element at the second row and third column.\n",
    "Problem: Given names = [\"Alice\", \"Bob\", \"Charlie\"], print each name along with its index using a for loop.\n",
    "Problem: You have mixed_list = [1, \"hello\", 3.14, True]. Print the string element from this list.\n",
    "Problem: Create a list numbers = [1, 2, 3, 4, 5, 6, 7, 8, 9, 10]. Print every other number using slicing.\n",
    "Problem: Write a function get_element(lst, index) that takes a list lst and an integer index as input. The function should return the element at the given index. Handle the case where the index is out of range by returning \"Index out of range\".\n",
    "Problem: Given numbers = [1, 2, 3, 4, 5], print the elements in reverse order using negative slicing.\n",
    "Problem: Create a list my_list = [1, 2, 3, 4, 5]. Access the sublist from index 1 to 3, and then print the element at index 1 of that sublist.\n",
    "2. Change List Items:\n",
    "\n",
    "Problem: You have colors = [\"red\", \"green\", \"blue\"]. Change the second color to \"teal\".\n",
    "Problem: Given values = [1, 2, 3, 4, 5], change the last element to 0.\n",
    "Problem: Create words = [\"apple\", \"banana\", \"cherry\"]. Change the first three elements to uppercase.\n",
    "Problem: Write a function change_element(lst, index, new_value) that changes the element at the given index in the list lst to new_value.\n",
    "Problem: Given numbers = [1, 2, 3, 4, 5], change all odd-indexed elements to their squares.\n",
    "Problem: You have matrix = [[1, 2, 3], [4, 5, 6], [7, 8, 9]]. Change the element in the second row and first column to 10.\n",
    "Problem: Create numbers = [1, 2, 3, 4, 5]. Change the elements from index 1 to 3 to [10, 20, 30].\n",
    "Problem: Given words = [\"apple\", \"banana\", \"ant\", \"cherry\"], change all words containing the letter \"a\" to \"replaced\".\n",
    "Problem: Create numbers = [1, 2, 3, 4, 5, 6, 7]. Change the first 3 elements to 0.\n",
    "Problem: Given my_list = [1, 2, 3, 4, 5], change the elements from index 1 to 3 to the values [10, 20, 30].\n",
    "3. Replace Values in a List:\n",
    "\n",
    "Problem: You have numbers = [5, 10, 5, 15, 5]. Replace all occurrences of 5 with 10.\n",
    "Problem: Given values = [-1, 2, -3, 4, -5], replace all negative numbers with 0.\n",
    "Problem: Create fruits = [\"apple\", \"banana\", \"apple\", \"cherry\"]. Replace all occurrences of \"apple\" with \"orange\".\n",
    "Problem: Write a function replace_values(lst, old_value, new_value) that replaces all occurrences of old_value with new_value in the list lst.\n",
    "Problem: Given numbers = [1, 2, 3, 4, 5, 6], replace all even numbers with their doubled values.\n",
    "Problem: Given numbers = [1, 2, 3, 2, 4], replace the first occurrence of 2 with 10.\n",
    "Problem: Given numbers = [1, 2, 3, 2, 4], replace the last occurrence of 2 with 10.\n",
    "Problem: Given numbers = [5, 15, 25, 35, 45], replace all elements greater than 20 with 100.\n",
    "Problem: Given list1 = [1, 2, 3, 4] and list2 = [10, 20], replace the elements at index 0 and 1 of list1 with the elements of list2.\n",
    "Problem: Given my_list = [1, 2, 3, 4, 5], replace the elements from index 1 to 3 with the values [10, 20, 30].\n",
    "4. Append Items to a List:\n",
    "\n",
    "Problem: Create an empty list numbers. Append the numbers 1 through 5 to it.\n",
    "Problem: Given list1 = [1, 2, 3] and list2 = [4, 5, 6], append list2 to list1.\n",
    "Problem: Create fruits = [\"apple\", \"banana\"]. Append \"cherry\" to the list.\n",
    "Problem: Write a function append_unique(lst, value) that appends value to lst if it's not already present.\n",
    "Problem: Create numbers = []. Append the squares of numbers from 1 to 3 to numbers.\n",
    "Problem: Given numbers = [1, 2], append the elements of the tuple (3, 4, 5) to numbers.\n",
    "Problem: Write a function square(x) that returns x*x. Create a list results = []. Append the result of square(i) for i in range(1, 4) to results.\n",
    "Problem: Create an empty list user_input. Append user input to the list until the user enters \"done\".\n",
    "Problem: Given list1 = [[1, 2], [3, 4]] and list2 = [[5, 6], [7, 8]], append list2 to list1.\n",
    "Problem: Create a list numbers = []. Append the numbers from 10 to 15 to the list using the range function.\n",
    "5. Insert Items to a List:\n",
    "\n",
    "Problem: Given numbers = [1, 2, 4, 5], insert the value 3 at index 2.\n",
    "Problem: Given list1 = [1, 2, 5] and list2 = [3, 4], insert list2 at index 2 of list1.\n",
    "Problem: Create fruits = [\"banana\", \"cherry\"]. Insert \"apple\" at the beginning of the list.\n",
    "Problem: Write a function insert_unique(lst, index, value) that inserts value at index in lst only if it's not already present.\n",
    "Problem: Given numbers = [1, 2, 3, 4, 5], insert 0 at every even index.\n",
    "Problem: Given strings = [\"a\", \"b\", \"c\"], insert [\"d\", \"e\"] at the end of the list.\n",
    "Problem: Write a function square(x) that returns x*x. Given numbers = [1, 2, 3], insert the result of square(i) at index i for each i.\n",
    "Problem: Given numbers = [1, 2, 3], insert `"
   ]
  },
  {
   "cell_type": "markdown",
   "metadata": {},
   "source": [
    "Great! Let's create 10 specific and practical questions for each of these string list operations.\n",
    "\n",
    "1. To Convert a List to String:\n",
    "\n",
    "Problem: Given words = [\"Hello\", \"World\", \"Python\"], convert this list into a single string with spaces between the words.\n",
    "Problem: Given numbers = [1, 2, 3, 4, 5], convert this list into a string where the numbers are separated by commas.\n",
    "Problem: Given chars = ['a', 'b', 'c', 'd'], convert this list into a single string without any separators.\n",
    "Problem: Write a function list_to_string(lst, separator) that takes a list lst and a string separator as input, and returns a single string with the elements of the list joined by the separator.\n",
    "Problem: Convert the list sentence = [\"This\", \"is\", \"a\", \"sentence.\"] into a string with spaces, but remove the period at the end.\n",
    "Problem: Convert the list data = [10, \"apples\", 3.14, True] into a string, separating each element with a hyphen.\n",
    "Problem: Convert a list of words into a string, but capitalize the first letter of each word.\n",
    "Problem: Convert a list of numbers to a string, but only include even numbers.\n",
    "Problem: Convert a list of strings into a single string, but reverse the order of the words.\n",
    "Problem: Given words = [\"Hello\", \"World\"] and separator = \"---\", convert the list to a string using the provided separator.\n",
    "2. To Reverse All Strings in String List:\n",
    "\n",
    "Problem: Given words = [\"apple\", \"banana\", \"cherry\"], reverse each string in the list.\n",
    "Problem: Given phrases = [\"hello world\", \"python rocks\"], reverse each phrase in the list.\n",
    "Problem: Write a function reverse_strings(lst) that takes a list of strings lst and returns a new list with each string reversed.\n",
    "Problem: Given data = [\"123\", \"abc\", \"xyz1\"], reverse each string in the list.\n",
    "Problem: Reverse only the strings that contain more than 5 characters in the list words = [\"short\", \"longerword\", \"tiny\"].\n",
    "Problem: Reverse each string in the list words = [\"level\", \"radar\", \"python\"], and check if any of the reversed strings are palindromes.\n",
    "Problem: Reverse each string in the list words = [\"one two\", \"three four\", \"five six\"], but only reverse the words within each string, not the order of the strings themselves.\n",
    "Problem: Reverse each string in the list words = [\"1a2b\", \"3c4d\"], preserving the original order of characters and numbers.\n",
    "Problem: Given mixed = [\"123a\", \"b456\"], reverse the characters of each string.\n",
    "Problem: Reverse the strings in the list words = [\"A man\", \"a plan\", \"a canal\", \"Panama\"].\n",
    "3. To Find the Character Position of Kth Word from a List of Strings:\n",
    "\n",
    "Problem: Given sentence = [\"This\", \"is\", \"a\", \"test\"] and k = 2, find the starting character position of the 2nd word (\"is\").\n",
    "Problem: Given long_sentence = [\"The\", \"quick\", \"brown\", \"fox\", \"jumps\"] and k = 4, find the starting character position of the 4th word (\"fox\").\n",
    "Problem: Write a function find_kth_word_position(lst, k) that takes a list of strings lst and an integer k as input and returns the starting character position of the kth word.\n",
    "Problem: Given words = [\"one\", \"two\", \"three\", \"four\", \"five\"] and k = 5, find the starting character position of the 5th word.\n",
    "Problem: Find the starting position of the 3rd word in the string list [\"Hello\", \"there\", \"world\", \"from\", \"python\"].\n",
    "Problem: Find the position of the 1st word in [\"First\", \"second\"].\n",
    "Problem: Given sentence = [\"A\", \"long\", \"sentence\", \"with\", \"many\", \"words\"] and k = 6, find the starting position of the 6th word.\n",
    "Problem: Given words = [\"short\", \"medium\", \"longer\", \"verylong\"] and k=3, find the starting character position of the third word.\n",
    "Problem: Given words = [\"1\", \"22\", \"333\"] and k = 2, find the character position of the second word.\n",
    "Problem: Find the character position of the 4th word in [\"This\", \"is\", \"a\", \"very\", \"long\", \"sentence\"].\n",
    "4. Extract Words Starting with K in String List:\n",
    "\n",
    "Problem: Given words = [\"kite\", \"apple\", \"king\", \"ball\"] and k = \"k\", extract the words starting with \"k\".\n",
    "Problem: Given names = [\"Alice\", \"Bob\", \"Charlie\", \"David\"] and k = \"C\", extract the names starting with \"C\".\n",
    "Problem: Write a function extract_words_starting_with_k(lst, k) that takes a list of strings lst and a character k as input and returns a list of words starting with k.\n",
    "Problem: Given data = [\"keyboard\", \"mouse\", \"monitor\", \"keypad\"] and k = \"key\", extract the words starting with \"key\".\n",
    "Problem: Extract words starting with \"a\" from the list [\"ant\", \"bear\", \"apple\", \"cat\"].\n",
    "Problem: Given words = [\"Python\", \"java\", \"Javascript\", \"php\"] and k = \"j\", extract the words starting with 'j' (case insensitive).\n",
    "Problem: Extract words starting with \"1\" from the list [\"10\", \"20\", \"1apple\", \"1banana\"].\n",
    "Problem: Given words = [\"kite\", \"king\", \"queen\", \"key\"] and k = \"ki\", extract the words starting with \"ki\".\n",
    "Problem: Given words = [\"car\", \"cat\", \"dog\", \"cow\"] and k = \"c\", extract the words starting with 'c'.\n",
    "Problem: Extract words starting with \"P\" from [\"Python\", \"Programming\", \"Java\", \"PHP\"].\n",
    "5. Prefix Frequency in String List:\n",
    "\n",
    "Problem: Given words = [\"apple\", \"apricot\", \"banana\", \"apply\"] and prefix = \"ap\", find the frequency of words starting with \"ap\".\n",
    "Problem: Given names = [\"Alice\", \"Alex\", \"Bob\", \"Amy\"] and prefix = \"A\", find the frequency of names starting with \"A\".\n",
    "Problem: Write a function prefix_frequency(lst, prefix) that takes a list of strings lst and a string prefix as input and returns the frequency of words starting with the prefix.\n",
    "Problem: Given data = [\"keyboard\", \"keypad\", \"monitor\", \"key\"] and prefix = \"key\", find the frequency of words starting with \"key\".\n",
    "Problem: Find the prefix frequency of \"an\" in the list [\"ant\", \"animal\", \"bear\", \"apple\"].\n",
    "Problem: Given words = [\"Python\", \"javascript\", \"java\", \"jungle\"] and prefix = \"ja\", find the frequency of words starting with \"ja\" (case-insensitive).\n",
    "Problem: Find the prefix frequency of \"1\" in the list [\"10\", \"123\", \"20\", \"1apple\"].\n",
    "Problem: Given words = [\"kiwi\", \"king\", \"key\", \"kite\"] and prefix = \"ki\", find the prefix frequency.\n",
    "Problem: Given words = [\"car\", \"cat\", \"cow\", \"cup\"] and prefix = \"c\", find the prefix frequency.\n",
    "Problem: Find the frequency of words starting with \"pr\" in [\"programming\", \"project\", \"java\", \"python\"].\n",
    "6. Split String of List on K Character:\n",
    "\n",
    "Problem: Given strings = [\"apple,banana\", \"cherry,date\"] and k = \",\", split each string on the comma, resulting in a list of lists.\n",
    "Problem: Given data = [\"1-2-3\", \"4-5-6\"] and k = \"-\", split each string on the hyphen.\n",
    "Problem: Write a function split_strings_on_k(lst, k) that takes a list of strings lst and a character k as input and returns a list of lists, where each inner list is the result of splitting the corresponding string on k.\n",
    "Problem: Given urls = [\"www.example.com/page1\", \"www.example.com/page2\"] and k = \"/\", split each URL on the forward slash.\n",
    "Problem: Split the strings in [\"a:b:c\", \"d:e:f\"] on the colon (:) character.\n",
    "Problem: Given logs = [\"user1;login\", \"user2;logout\"] and k = \";\", split each log entry on the semicolon.\n",
    "Problem: Split the strings in [\"12,34,56\", \"78,90\"] on the comma, and convert the resulting substrings to integers.\n",
    "Problem: Given data = [\"abc.def.ghi\", \"jkl.mno\"] and k = \".\", split each string on the dot.\n",
    "Problem: Split the strings in [\"name=John\", \"age=30\"] on the equals sign (=).\n",
    "Problem: Given data = [\"apple|banana|cherry\", \"date|fig\"] and k = \"|\", split each string on the pipe character."
   ]
  },
  {
   "cell_type": "markdown",
   "metadata": {},
   "source": [
    "Maximum of two numbers: Refined Questions\n",
    "\n",
    "Problem: Write a Python function that takes two integer arguments, num1 and num2, and returns the larger of the two. If they are equal, return either one. Example: find_max(15, 20) should return 20.\n",
    "Problem: Given a list data = [35, 12], write code to extract the two numbers and print the maximum value.\n",
    "Problem: Implement a function get_maximum(x, y) in Python. The function should accept two numerical inputs (x and y) and return the larger of the two. Example: get_maximum(10.5, 7.2) should return 10.5.\n",
    "Problem: Write a function that accepts two integer inputs representing negative numbers and returns the larger (closer to zero) of the two. Example: max_negative(-10, -5) should return -5.\n",
    "Problem: Create a function that accepts one positive integer and one negative integer. The function should return the positive integer. Example: max_mixed(10, -20) should return 10.\n",
    "Problem: Write a function that takes two integer inputs. If the inputs are equal, the function should return the value of either input. Example: max_equal(25, 25) should return 25.\n",
    "Problem: Implement a function that takes two floating-point numbers as input and returns the larger of the two. Example: max_float(3.14, 2.71) should return 3.14.\n",
    "Problem: Write a function that takes two string inputs, each representing an integer. Convert the strings to integers and return the maximum of the two. Example: max_strings(\"42\", \"18\") should return 42.\n",
    "Problem: Create a program that prompts the user to input a number. Then, compare the user's input with the number 50 and print the larger of the two.\n",
    "Problem: Write a Python script that reads two numbers from a file named \"numbers.txt\" (assume the file contains two numbers, each on a separate line). The script should then print the maximum of the two numbers to the console."
   ]
  },
  {
   "cell_type": "markdown",
   "metadata": {},
   "source": [
    "Ways to find length of list: Refined Questions\n",
    "\n",
    "Problem: Given a list data = [1, 2, 3, 4, 5], write code to find and print its length using the built-in len() function.\n",
    "Problem: Write a function get_list_length(lst) that takes a list lst as input and returns its length using the len() function.\n",
    "Problem: Given a nested list nested_list = [[1, 2], [3, 4, 5], [6]], find the length of the outer list and the length of each inner list.\n",
    "Problem: Implement a function count_elements(lst) that iterates through a list lst and returns the number of elements without using the len() function.\n",
    "Problem: Given a list of strings words = [\"apple\", \"banana\", \"cherry\"], find the length of the list and print it along with the list itself.\n",
    "Problem: Create a list from user input (e.g., comma-separated values). Then, find and print the length of the created list.\n",
    "Problem: Write a function that takes a list as input and uses a while loop to find the length of the list, without using len().\n",
    "Problem: Given a very large list (e.g., containing 1 million elements), demonstrate how to efficiently find its length using len().\n",
    "Problem: Write a function that accepts a list and returns a tuple containing the list and its length.\n",
    "Problem: Read a list of numbers from a file (assume the file contains comma-separated numbers on a single line). Find and print the length of the list."
   ]
  },
  {
   "cell_type": "markdown",
   "metadata": {},
   "source": []
  },
  {
   "cell_type": "code",
   "execution_count": 9,
   "metadata": {},
   "outputs": [
    {
     "name": "stdout",
     "output_type": "stream",
     "text": [
      "5 1 2 43 54 "
     ]
    }
   ],
   "source": [
    "x=[54,43,2,1,5]\n",
    "for i in range(-1,-len(x)-1,-1):\n",
    "    print(x[i],end=' ')"
   ]
  },
  {
   "cell_type": "markdown",
   "metadata": {},
   "source": [
    "[-12, 8, -7, 6, 12, -9, 14]"
   ]
  },
  {
   "cell_type": "code",
   "execution_count": 11,
   "metadata": {},
   "outputs": [],
   "source": [
    "def nonNegativeAverage(arr):\n",
    "    a=0\n",
    "    b=0\n",
    "    for i in arr:\n",
    "        a+=i\n",
    "        b+=1\n",
    "    print(a//b)"
   ]
  },
  {
   "cell_type": "code",
   "execution_count": 13,
   "metadata": {},
   "outputs": [
    {
     "name": "stdout",
     "output_type": "stream",
     "text": [
      "9\n"
     ]
    }
   ],
   "source": [
    "x=[12, 8, 7, 6, 12, 9, 14]\n",
    "a=0\n",
    "b=0\n",
    "for i in x:\n",
    "    a+=i\n",
    "    b+=1\n",
    "print(a//b)"
   ]
  },
  {
   "cell_type": "code",
   "execution_count": 15,
   "metadata": {},
   "outputs": [
    {
     "name": "stdout",
     "output_type": "stream",
     "text": [
      "[4, 5, 3, 8, 2, 1, 7]\n"
     ]
    }
   ],
   "source": [
    "arr = [4, 4, 5, 4, 3, 8, 4, 2, 4, 8, 1, 7]\n",
    "x=[]\n",
    "for i in arr:\n",
    "    if i not in x:\n",
    "        x.append(i)\n",
    "print(x)\n"
   ]
  }
 ],
 "metadata": {
  "kernelspec": {
   "display_name": "Python 3",
   "language": "python",
   "name": "python3"
  },
  "language_info": {
   "codemirror_mode": {
    "name": "ipython",
    "version": 3
   },
   "file_extension": ".py",
   "mimetype": "text/x-python",
   "name": "python",
   "nbconvert_exporter": "python",
   "pygments_lexer": "ipython3",
   "version": "3.11.9"
  }
 },
 "nbformat": 4,
 "nbformat_minor": 2
}
