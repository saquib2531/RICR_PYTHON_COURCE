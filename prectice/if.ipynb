{
 "cells": [
  {
   "cell_type": "markdown",
   "metadata": {},
   "source": [
    "Q1. W.A.P  to check if a number is positive, negative. \n",
    "\n",
    "Input: enter a number : 8 \n",
    "Output : positive  \n"
   ]
  },
  {
   "cell_type": "code",
   "execution_count": 3,
   "metadata": {},
   "outputs": [
    {
     "name": "stdout",
     "output_type": "stream",
     "text": [
      "positive\n"
     ]
    }
   ],
   "source": [
    "n=int(input('enter a number'))\n",
    "if n>=0:\n",
    "    print('positive')\n",
    "else:\n",
    "    print('negative')"
   ]
  },
  {
   "cell_type": "markdown",
   "metadata": {},
   "source": [
    "Q2 W.A.P that takes 2 numbers input from user check their sum is greater then 10 or not . if greater than 10 print ‘greater’ otherwise print ‘less’ \n",
    "\n",
    "Input \n",
    "Enter 1 number: 3 \n",
    "Enter 2 number : 5 \n",
    "Output: \n",
    "less  \n",
    "\n"
   ]
  },
  {
   "cell_type": "code",
   "execution_count": 5,
   "metadata": {},
   "outputs": [
    {
     "name": "stdout",
     "output_type": "stream",
     "text": [
      "greater\n"
     ]
    }
   ],
   "source": [
    "x=int(input('enter 1st no,'))\n",
    "y=int(input('enter 2nd no,'))\n",
    "z=x+y\n",
    "if z>10:\n",
    "    print('greater')\n",
    "else:\n",
    "    print('less')"
   ]
  },
  {
   "cell_type": "markdown",
   "metadata": {},
   "source": [
    "Q3. WAP that takes 2 numbers from user and print largest number \n",
    "\n",
    "Input \n",
    "Enter a number: 78 \n",
    "Enter a number:  98 \n",
    "Output: \n",
    "98 \n",
    "\n"
   ]
  },
  {
   "cell_type": "code",
   "execution_count": 6,
   "metadata": {},
   "outputs": [
    {
     "name": "stdout",
     "output_type": "stream",
     "text": [
      "98\n"
     ]
    }
   ],
   "source": [
    "x=int(input('enter 1st no,'))\n",
    "y=int(input('enter 2nd no,'))\n",
    "if x>y:\n",
    "    print(x)\n",
    "else:\n",
    "    print(y)"
   ]
  },
  {
   "cell_type": "markdown",
   "metadata": {},
   "source": [
    "Q4. W.A.P  that takes a number check  it is divisible by 5 or not \n",
    "\n",
    "Input  \n",
    "Enter a number : 90 \n",
    "Output: \n",
    "Divisible  \n",
    "\n",
    "\n"
   ]
  },
  {
   "cell_type": "code",
   "execution_count": 8,
   "metadata": {},
   "outputs": [
    {
     "name": "stdout",
     "output_type": "stream",
     "text": [
      "not divisible\n"
     ]
    }
   ],
   "source": [
    "x=int(input('enter the no,'))\n",
    "if x%5==0:\n",
    "    print('divisible')\n",
    "else:\n",
    "    print('not divisible')\n"
   ]
  },
  {
   "cell_type": "markdown",
   "metadata": {},
   "source": [
    "Q5. w.a.p that 4 angles checks whether it can form quadrilateral or not. \n",
    "Sum of all four angle is 360  \n",
    "\n"
   ]
  },
  {
   "cell_type": "code",
   "execution_count": 9,
   "metadata": {},
   "outputs": [
    {
     "name": "stdout",
     "output_type": "stream",
     "text": [
      "not quadrilateral\n"
     ]
    }
   ],
   "source": [
    "a=int(input('enter 1st angle,'))\n",
    "b=int(input('enter 2nd angle'))\n",
    "c=int(input('enter 3rd angle,'))\n",
    "d=int(input('enter 4th angle,'))\n",
    "if (a+b+c+d)==360:\n",
    "    print('quadrilateral')\n",
    "else:\n",
    "    print('not quadrilateral')"
   ]
  },
  {
   "cell_type": "markdown",
   "metadata": {},
   "source": [
    "Q6.  Determine the season based on month taken from user \n",
    "\n",
    "3 <= month <= 5; print \"Spring\" \n",
    "6 <= month <= 8 then print \"Summer\" \n",
    "9 <= month <= 11, then print \"Autumn\" \n",
    "12<= moth <= 2 then print \"Winter\" "
   ]
  },
  {
   "cell_type": "code",
   "execution_count": 14,
   "metadata": {},
   "outputs": [
    {
     "name": "stdout",
     "output_type": "stream",
     "text": [
      "autumn\n"
     ]
    }
   ],
   "source": [
    "n=int(input('enter a month'))\n",
    "if 3<=n and n<=5:\n",
    "    print('Spring')\n",
    "elif 6<=n and n<=8:\n",
    "    print('summer')\n",
    "elif 9<=n and n<=11:\n",
    "    print('autumn')\n",
    "else:\n",
    "    print('winter')"
   ]
  },
  {
   "cell_type": "markdown",
   "metadata": {},
   "source": [
    "If else Assignment - 2\n",
    "Q1. W.A.P to check if a number is positive, negative, or zero.\n",
    "Input: enter a number: 8\n",
    "Output: positive"
   ]
  },
  {
   "cell_type": "code",
   "execution_count": 17,
   "metadata": {},
   "outputs": [
    {
     "name": "stdout",
     "output_type": "stream",
     "text": [
      "zero\n"
     ]
    }
   ],
   "source": [
    "n=int(input('enter the no.'))\n",
    "if n>0:\n",
    "    print('positve')\n",
    "elif n<0:\n",
    "    print('negative')\n",
    "else:\n",
    "    print('zero')"
   ]
  },
  {
   "cell_type": "markdown",
   "metadata": {},
   "source": [
    "Q2. W.A.P to check if a number is even or odd.\n",
    "Input: 9\n",
    "Output: odd"
   ]
  },
  {
   "cell_type": "code",
   "execution_count": 21,
   "metadata": {},
   "outputs": [
    {
     "name": "stdout",
     "output_type": "stream",
     "text": [
      "even\n"
     ]
    }
   ],
   "source": [
    "n=int(input('enter the no.'))\n",
    "if n%2==0:\n",
    "    print('even')\n",
    "else:\n",
    "    print('odd')"
   ]
  },
  {
   "cell_type": "markdown",
   "metadata": {},
   "source": [
    "Q3. W.A.P to Determine grade based on marks.\n",
    "marks >= 90: Grade A\n",
    " marks >= 80: Grade: B\n",
    " Marks >= 70: Grade C\n",
    " marks >= 60: Grade: D\n",
    " otherwise,\n",
    " Grade: E\n",
    "Test Case 1:\n",
    "Input: 50\n",
    "Output: E\n"
   ]
  },
  {
   "cell_type": "code",
   "execution_count": 22,
   "metadata": {},
   "outputs": [
    {
     "name": "stdout",
     "output_type": "stream",
     "text": [
      "grade E\n"
     ]
    }
   ],
   "source": [
    "n=int(input('enter the persentage.'))\n",
    "if n>=90:\n",
    "    print('grade A')\n",
    "elif n>=80:\n",
    "    print('grade B')\n",
    "elif n>=70:\n",
    "    print('grade C')\n",
    "elif n>=60:\n",
    "    print('grade D')\n",
    "else:\n",
    "    print('grade E')"
   ]
  },
  {
   "cell_type": "markdown",
   "metadata": {},
   "source": [
    "Q4. W.A.P to Check if a number is divisible by both 3 and 5.\n",
    "Input: 15 \n",
    "Output: Divisible"
   ]
  },
  {
   "cell_type": "code",
   "execution_count": 26,
   "metadata": {},
   "outputs": [
    {
     "name": "stdout",
     "output_type": "stream",
     "text": [
      "not divisible by 3 and 5 both\n"
     ]
    }
   ],
   "source": [
    "n=int(input('enter the no.'))\n",
    "if n%3==0 and n%5==0:\n",
    "    print('divisible by 3 and 5 both')\n",
    "else:\n",
    "    print('not divisible by 3 and 5 both')"
   ]
  },
  {
   "cell_type": "markdown",
   "metadata": {},
   "source": [
    "Q5. program to determine if a person is a child, teenager, adult, or \n",
    "senior based on their age\n",
    "age <= 12:\"Child\"\n",
    "age <= 19: \"Teenager\" \n",
    "age <= 64: \"Adult\" \n",
    "age > = 64:\"Senior\"\n",
    "Test Case 1:\n",
    "Enter age: 8\n",
    "Child\n",
    "Test Case 2:\n",
    "Enter age: 16\n",
    "Teenager"
   ]
  },
  {
   "cell_type": "code",
   "execution_count": 28,
   "metadata": {},
   "outputs": [
    {
     "name": "stdout",
     "output_type": "stream",
     "text": [
      "teenager\n"
     ]
    }
   ],
   "source": [
    "n=int(input('enter the age'))\n",
    "if n>=64:\n",
    "    print('senior')\n",
    "elif n>=20:\n",
    "    print('adult')\n",
    "elif n>=13:\n",
    "    print('teenager')\n",
    "else:\n",
    "    print('child')"
   ]
  },
  {
   "cell_type": "markdown",
   "metadata": {},
   "source": [
    "Q6. Check if a year is a leap year.\n",
    "Test case 1:\n",
    "Input: 1600\n",
    "Output: Leap year\n",
    "Test Case 2:\n",
    "Input: 1900\n",
    "Output: Not a leap year."
   ]
  },
  {
   "cell_type": "code",
   "execution_count": 32,
   "metadata": {},
   "outputs": [
    {
     "name": "stdout",
     "output_type": "stream",
     "text": [
      "not leap year\n"
     ]
    }
   ],
   "source": [
    "n=int(input('enter the year'))\n",
    "if (n%4==0 and n%100!=0) or (n%400 ==0):\n",
    "    print('leap year')\n",
    "else:\n",
    "    print('not leap year')"
   ]
  },
  {
   "cell_type": "markdown",
   "metadata": {},
   "source": [
    "Q7. W.A.P to find the largest of three numbers. \n",
    "Input: enter 3 number: 78, 56, 100\n",
    "Output: greatest out of 3: 100\n"
   ]
  },
  {
   "cell_type": "code",
   "execution_count": 2,
   "metadata": {},
   "outputs": [
    {
     "name": "stdout",
     "output_type": "stream",
     "text": [
      "100\n"
     ]
    }
   ],
   "source": [
    "x=int(input('enter 1st no,'))\n",
    "y=int(input('enter 2nd no,'))\n",
    "z=int(input('enter 3rd no,'))\n",
    "if x>y and x>z:\n",
    "    print(x)\n",
    "elif y>x and y>z:\n",
    "    print(y)\n",
    "else:\n",
    "    print(z)\n"
   ]
  },
  {
   "cell_type": "markdown",
   "metadata": {},
   "source": [
    "Q8. W.A.P Determine if a triangle is equilateral, isosceles, or scalene.\n",
    "Input: enter 3 sides of a triangle 7, 7, 1 \n",
    "Output: isosceles\n"
   ]
  },
  {
   "cell_type": "code",
   "execution_count": 5,
   "metadata": {},
   "outputs": [
    {
     "name": "stdout",
     "output_type": "stream",
     "text": [
      "scalene\n"
     ]
    }
   ],
   "source": [
    "x=int(input('enter 1st side'))\n",
    "y=int(input('enter 2nd side'))\n",
    "z=int(input('enter 3rd side'))\n",
    "if x==y and x==z and y==z :\n",
    "    print('equilatral ')\n",
    "elif x==y or y==z or x==z:\n",
    "    print('isoscelles')\n",
    "else:\n",
    "    print('scalene')"
   ]
  },
  {
   "cell_type": "markdown",
   "metadata": {},
   "source": [
    "Q9. Determine if a year is a century year.\n",
    "Example of century year 1800, 2000, 2100 many more…"
   ]
  },
  {
   "cell_type": "code",
   "execution_count": 7,
   "metadata": {},
   "outputs": [
    {
     "name": "stdout",
     "output_type": "stream",
     "text": [
      "not century year\n"
     ]
    }
   ],
   "source": [
    "n=int(input('enter year'))\n",
    "if n%100==0:\n",
    "    print('century year')\n",
    "else:\n",
    "    print('not century year')"
   ]
  },
  {
   "cell_type": "markdown",
   "metadata": {},
   "source": [
    "Q10.Write a Python program that accepts three numbers and check \n",
    "All numbers are equal or not.\n"
   ]
  },
  {
   "cell_type": "code",
   "execution_count": 9,
   "metadata": {},
   "outputs": [
    {
     "name": "stdout",
     "output_type": "stream",
     "text": [
      "not equal\n"
     ]
    }
   ],
   "source": [
    "x=int(input('enter 1st no,'))\n",
    "y=int(input('enter 2nd no,'))\n",
    "z=int(input('enter 3rd no,'))\n",
    "if x==y and y==z and z==x:\n",
    "    print('equal ')\n",
    "else:\n",
    "    print('not equal')"
   ]
  },
  {
   "cell_type": "markdown",
   "metadata": {},
   "source": [
    "Q10. Write a python program which takes x and y as a input and \n",
    "determine the quadrant of a point in a coordinate system as per the \n",
    "given information below:\n",
    " x> 0, y> 0: first quadrant\n",
    " x < 0, y > 0: second quadrant\n",
    " x< 0, y<0: third quadrant\n",
    " x> 0, y < 0: fourth quadrant\n",
    "Test Case 1:\n",
    "Input: x = 8 and y = -1\n",
    "Output: fourth quadrant"
   ]
  },
  {
   "cell_type": "code",
   "execution_count": 10,
   "metadata": {},
   "outputs": [
    {
     "name": "stdout",
     "output_type": "stream",
     "text": [
      "4th quadrant\n"
     ]
    }
   ],
   "source": [
    "x=int(input('enter 1st no,'))\n",
    "y=int(input('enter 2nd no,'))\n",
    "if x>0 and y>0:\n",
    "    print('1st quadrant')\n",
    "elif x<0 and y>0:\n",
    "    print('2nd quadrant')\n",
    "elif x<0 and y<0:\n",
    "    print('3rd quadrant')\n",
    "else:\n",
    "    print('4th quadrant')"
   ]
  },
  {
   "cell_type": "markdown",
   "metadata": {},
   "source": [
    "Q12. Write a python program which takes three input and check if \n",
    "third number is within a given range between first and second \n",
    "number.\n",
    "INPUT: LOWER RANGE: 10\n",
    " UPPER RANGE: 89\n",
    " INPUT_NUMBER: 77\n",
    "OUTPUT: ‘YES’"
   ]
  },
  {
   "cell_type": "code",
   "execution_count": 15,
   "metadata": {},
   "outputs": [
    {
     "name": "stdout",
     "output_type": "stream",
     "text": [
      "upper range = 89\n",
      "lower range  10\n",
      "yes\n"
     ]
    }
   ],
   "source": [
    "x=int(input('enter 1st no,'))\n",
    "y=int(input('enter 2nd no,'))\n",
    "z=int(input('enter 3rd no,'))\n",
    "print('upper range =',y)\n",
    "print('lower range ',x)\n",
    "if (z>=x and z<=y) :\n",
    "    print('yes')\n",
    "else:\n",
    "    print('not')\n"
   ]
  },
  {
   "cell_type": "markdown",
   "metadata": {},
   "source": [
    "Q13. Input 3 angle and determine if they form a triangle or not."
   ]
  },
  {
   "cell_type": "code",
   "execution_count": 16,
   "metadata": {},
   "outputs": [
    {
     "name": "stdout",
     "output_type": "stream",
     "text": [
      "form a trianle\n"
     ]
    }
   ],
   "source": [
    "x=int(input('enter 1st angle'))\n",
    "y=int(input('enter 2nd angle'))\n",
    "z=int(input('enter 3rd angle'))\n",
    "if (x+y)>z or (y+z)>x or (x+z)>y:\n",
    "    print('form a trianle')\n",
    "else:\n",
    "    print('not form a triange')\n"
   ]
  },
  {
   "cell_type": "markdown",
   "metadata": {},
   "source": [
    "Q14. program that reads 2 numbers and an arithmetic operator like \n",
    "+, -, *, /, % and display the computed result:\n",
    "Example \n",
    "Enter the 1 number: 5\n",
    "Enter the 2 number: 2\n",
    "Enter the operator: *\n",
    "Output: 10.0"
   ]
  },
  {
   "cell_type": "code",
   "execution_count": 21,
   "metadata": {},
   "outputs": [
    {
     "name": "stdout",
     "output_type": "stream",
     "text": [
      "15\n"
     ]
    }
   ],
   "source": [
    "x=int(input('enter 1st no,'))\n",
    "y=int(input('enter 2nd no,'))\n",
    "z=input('enter the operator')\n",
    "if z=='+':\n",
    "    print(x+y)\n",
    "elif z=='-':\n",
    "    print(x-y)\n",
    "elif z=='*':\n",
    "    print(x*y)\n",
    "elif z=='/':\n",
    "    print(x/y)\n",
    "elif z=='%':\n",
    "    print(x%y)\n",
    "elif z=='//':\n",
    "    print(x//y)\n",
    "else:\n",
    "    print('not a valid operator')\n"
   ]
  },
  {
   "cell_type": "markdown",
   "metadata": {},
   "source": [
    "Q15. Write a python program to input cost price and selling price of a \n",
    "product and check profit or loss. Also calculate total profit or loss \n",
    "using if else.\n",
    "Test case 1:\n",
    "input cost price: 1000\n",
    "Input selling price: 1500\n",
    "Output:\n",
    "Profit is 500"
   ]
  },
  {
   "cell_type": "code",
   "execution_count": 24,
   "metadata": {},
   "outputs": [
    {
     "name": "stdout",
     "output_type": "stream",
     "text": [
      "loss = 14000\n"
     ]
    }
   ],
   "source": [
    "cp=int(input('cost price'))\n",
    "sp=int(input('selling prince'))\n",
    "if cp>sp:\n",
    "    print('loss =',cp-sp)\n",
    "else:\n",
    "    print('profit =',sp-cp)\n"
   ]
  },
  {
   "cell_type": "markdown",
   "metadata": {},
   "source": [
    "Q16. Write a python program to input week number and print week \n",
    "day.\n",
    "Test case 1:\n",
    "Input: 1\n",
    "Output: Monday\n",
    "Test case 2:\n",
    "Input: 7\n",
    "Output: Sunday"
   ]
  },
  {
   "cell_type": "code",
   "execution_count": null,
   "metadata": {},
   "outputs": [
    {
     "name": "stdout",
     "output_type": "stream",
     "text": [
      "Sunday\n"
     ]
    }
   ],
   "source": [
    "n=int(input('enter no 1 to 7'))\n",
    "if n==1:\n",
    "    print('Monday')\n",
    "elif n==2:\n",
    "    print('Tuesday')\n",
    "elif n==3:\n",
    "    print('Wednesday')\n",
    "elif n==4:\n",
    "    print('Thrusday')\n",
    "elif n==5:\n",
    "    print('Friday')\n",
    "elif n==6:\n",
    "    print('Saturday')\n",
    "elif n==7:\n",
    "    print('Sunday')\n",
    "else:\n",
    "    print('not valid input')"
   ]
  },
  {
   "cell_type": "markdown",
   "metadata": {},
   "source": [
    "Q17. Write a python program that accepts three numbers from the \n",
    "user and check if numbers are in \"increasing\" or \"decreasing\" order.\n",
    "Test Case 1:\n",
    "Input: 10,17,20\n",
    "Output: Increasing Order.\n",
    "Test case 2:\n",
    "Input: 90,69,36\n",
    "Output: Decreasing Order"
   ]
  },
  {
   "cell_type": "code",
   "execution_count": 28,
   "metadata": {},
   "outputs": [
    {
     "name": "stdout",
     "output_type": "stream",
     "text": [
      "36 69 90\n"
     ]
    }
   ],
   "source": [
    "x=int(input('enter 1st no,'))\n",
    "y=int(input('enter 2nd no,'))\n",
    "z=int(input('enter 3rd no,'))\n",
    "if ( x<y and y<z):\n",
    "    print(x,y,z)\n",
    "elif x<z and z<y:\n",
    "    print(x,z,y)\n",
    "elif z<x and x<y:\n",
    "    print(z,x,y)\n",
    "elif z<y and y<x:\n",
    "    print(z,y,x)\n",
    "elif y<x and x<z:\n",
    "    print(y,x,z)\n",
    "else:\n",
    "    print(y,z,x)"
   ]
  },
  {
   "cell_type": "markdown",
   "metadata": {},
   "source": [
    "Q18. While purchasing certain items, a discount of 10% is offered if \n",
    "the quantity purchased is more than 100. If quantity and price per \n",
    "item are input through the keyboard, write a program to calculate \n",
    "the total expenses."
   ]
  },
  {
   "cell_type": "code",
   "execution_count": 29,
   "metadata": {},
   "outputs": [
    {
     "name": "stdout",
     "output_type": "stream",
     "text": [
      "99.0\n"
     ]
    }
   ],
   "source": [
    "x=float(input('enter 1st item'))\n",
    "y=float(input('enter 2nd item'))\n",
    "z=float(input('enter 3rd item'))\n",
    "a=x+y+z\n",
    "if a>=100:\n",
    "    a-=(a*0.1)\n",
    "    print(a)\n",
    "else:\n",
    "    print('discount not applied')\n",
    "\n"
   ]
  },
  {
   "cell_type": "markdown",
   "metadata": {},
   "source": [
    "Q19. Write a program to input electricity unit charges and calculate \n",
    "total electricity bill \n",
    "according to the given condition:\n",
    "• For first 50 units Rs. 0.50/unit\n",
    "• For next 150 units Rs. 0.75/unit\n",
    "• For next 250 units Rs. 1.20/unit\n",
    "• For unit above 450 Rs. 1.50/unit\n",
    "• An additional surcharge of 20% is added to the bill\n",
    "Test Case 1:\n",
    "Input: 100 units\n",
    "Expected Output:\n",
    "Rs. 62.5\n",
    "With Surcharge: Rs. 75\n",
    "Test Case 3:\n",
    "Input: 300 units\n",
    "Expected Output:\n",
    "Rs. 257.5\n",
    "With Surcharge: Rs. 309"
   ]
  },
  {
   "cell_type": "code",
   "execution_count": 31,
   "metadata": {},
   "outputs": [
    {
     "name": "stdout",
     "output_type": "stream",
     "text": [
      "Rs = 257.5\n",
      "with surcharges 309.0\n"
     ]
    }
   ],
   "source": [
    "n=float(input('enter the unit'))\n",
    "if n<=50:\n",
    "    x=n*0.50\n",
    "elif n<=200:\n",
    "    x=(50*0.50)+((n-50)*0.75)\n",
    "elif n<=450:\n",
    "    x=(50*0.50)+(150*0.75)+((n-200)*1.20)\n",
    "else:\n",
    "    x=(50*0.50)+(150*0.75)+(250*1.20)+((n-450)*1.50)\n",
    "print('Rs =',x)\n",
    "s=x*0.2\n",
    "surcharges=x+s\n",
    "print('with surcharges',surcharges)\n"
   ]
  },
  {
   "cell_type": "markdown",
   "metadata": {},
   "source": [
    "Q20. Write a python program which accept the kilometres covered \n",
    "and calculate the bill according to the following criteria:\n",
    "First 10 Km -> Rs11/km\n",
    "Next 90Km -> Rs 10/km\n",
    "After that -> Rs9/km\n",
    "Test Case 1: \n",
    "Input: 50\n",
    "Output: 510\n",
    "Test Case 2:\n",
    "Input: 100\n",
    "Output: 1010"
   ]
  },
  {
   "cell_type": "code",
   "execution_count": 34,
   "metadata": {},
   "outputs": [
    {
     "name": "stdout",
     "output_type": "stream",
     "text": [
      "1100.0\n"
     ]
    }
   ],
   "source": [
    "n=float(input('enter kilometers covered'))\n",
    "if n<=10:\n",
    "    x=n*11\n",
    "elif n<=100:\n",
    "    x=(10*11)+((n-10)*10)\n",
    "elif n>100:\n",
    "    x=(10*11)+(90*10)+((n-100)*9)\n",
    "print(x)"
   ]
  }
 ],
 "metadata": {
  "kernelspec": {
   "display_name": "Python 3",
   "language": "python",
   "name": "python3"
  },
  "language_info": {
   "codemirror_mode": {
    "name": "ipython",
    "version": 3
   },
   "file_extension": ".py",
   "mimetype": "text/x-python",
   "name": "python",
   "nbconvert_exporter": "python",
   "pygments_lexer": "ipython3",
   "version": "3.11.9"
  }
 },
 "nbformat": 4,
 "nbformat_minor": 2
}
