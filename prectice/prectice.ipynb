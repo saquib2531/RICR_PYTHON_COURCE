{
 "cells": [
  {
   "cell_type": "markdown",
   "metadata": {},
   "source": [
    "Set 1: Basic Arithmetic\n",
    "\n",
    "1.Calculate the sum of 123 and 456.\n",
    "2.Find the difference between 789 and 321.\n",
    "3.Calculate the product of 15 and 25.\n",
    "4.Find the quotient when 100 is divided by 5.\n",
    "5.Calculate the remainder when 47 is divided by 9."
   ]
  },
  {
   "cell_type": "code",
   "execution_count": 1,
   "metadata": {},
   "outputs": [
    {
     "name": "stdout",
     "output_type": "stream",
     "text": [
      "579\n",
      "468\n",
      "375\n",
      "20.0\n",
      "2\n"
     ]
    }
   ],
   "source": [
    "print(123+456)\n",
    "print(789-321)\n",
    "print(15*25)\n",
    "print(100/5)\n",
    "print(47%9)"
   ]
  },
  {
   "cell_type": "markdown",
   "metadata": {},
   "source": [
    "Set 2: Exponents and Roots\n",
    "\n",
    "1.Calculate 3 raised to the power of 4.\n",
    "2.Find the square root of 225.\n",
    "3.Calculate the cube root of 64.\n",
    "4.Calculate 2 to the power of 10.\n",
    "5.Find the square root of 300 (you can use a library function or approximate)."
   ]
  },
  {
   "cell_type": "code",
   "execution_count": 1,
   "metadata": {},
   "outputs": [
    {
     "name": "stdout",
     "output_type": "stream",
     "text": [
      "81\n",
      "15.0\n",
      "3.9999999999999996\n",
      "1024\n",
      "17.320508075688775\n"
     ]
    }
   ],
   "source": [
    "print(3**4)\n",
    "print(225**(1/2))\n",
    "print(64**(1/3))\n",
    "print(2**10)\n",
    "print(300**(1/2))\n"
   ]
  },
  {
   "cell_type": "markdown",
   "metadata": {},
   "source": [
    "Set 3: Order of Operations (PEMDAS/BODMAS)\n",
    "\n",
    "1.Evaluate: 10 + 5 * 2\n",
    "2.Evaluate: (10 + 5) * 2\n",
    "3.Evaluate: 20 - 10 / 2 + 5\n",
    "4.Evaluate: 16 / 4 * 2 - 1\n",
    "5.Evaluate: 3 * (4 + 2) / 2"
   ]
  },
  {
   "cell_type": "code",
   "execution_count": 6,
   "metadata": {},
   "outputs": [
    {
     "name": "stdout",
     "output_type": "stream",
     "text": [
      "20\n",
      "30\n",
      "20.0\n",
      "7.0\n",
      "9.0\n"
     ]
    }
   ],
   "source": [
    "print(10+5*2)\n",
    "print((10 + 5) * 2)\n",
    "print(20 - 10 / 2 + 5)\n",
    "print(16 / 4 * 2 - 1)\n",
    "print(3 * (4 + 2) / 2)\n"
   ]
  },
  {
   "cell_type": "markdown",
   "metadata": {},
   "source": [
    "Set 4: Working with Decimals\n",
    "\n",
    "1.Calculate the sum of 3.14 and 2.71.\n",
    "2.Find the product of 1.5 and 2.5.\n",
    "3.Divide 10.0 by 3.0.\n",
    "4.Calculate 2.5  to the power of 2.\n",
    "5.Find the square root of 6.25."
   ]
  },
  {
   "cell_type": "code",
   "execution_count": 7,
   "metadata": {},
   "outputs": [
    {
     "name": "stdout",
     "output_type": "stream",
     "text": [
      "5.85\n"
     ]
    }
   ],
   "source": [
    "a=float(input())\n",
    "b=float(input())\n",
    "x=a+b\n",
    "print(x)\n"
   ]
  },
  {
   "cell_type": "code",
   "execution_count": 8,
   "metadata": {},
   "outputs": [
    {
     "name": "stdout",
     "output_type": "stream",
     "text": [
      "3.75\n"
     ]
    }
   ],
   "source": [
    "a=float(input())\n",
    "b=float(input())\n",
    "x=a*b\n",
    "print(x)"
   ]
  },
  {
   "cell_type": "code",
   "execution_count": 9,
   "metadata": {},
   "outputs": [
    {
     "name": "stdout",
     "output_type": "stream",
     "text": [
      "3.3333333333333335\n"
     ]
    }
   ],
   "source": [
    "a=float(input())\n",
    "b=float(input())\n",
    "x=a/b\n",
    "print(x)"
   ]
  },
  {
   "cell_type": "code",
   "execution_count": 10,
   "metadata": {},
   "outputs": [
    {
     "name": "stdout",
     "output_type": "stream",
     "text": [
      "6.25\n"
     ]
    }
   ],
   "source": [
    "a=float(input())\n",
    "b=float(input())\n",
    "x=a**b\n",
    "print(x)"
   ]
  },
  {
   "cell_type": "code",
   "execution_count": 11,
   "metadata": {},
   "outputs": [
    {
     "name": "stdout",
     "output_type": "stream",
     "text": [
      "2.5\n"
     ]
    }
   ],
   "source": [
    "a=float(input())\n",
    "x=a**(1/2)\n",
    "print(x)"
   ]
  },
  {
   "cell_type": "markdown",
   "metadata": {},
   "source": [
    "Set 5: Mixed Operations\n",
    "\n",
    "1.Evaluate: 5 * 2 + 10 / 2 - 3\n",
    "2.Evaluate: (8 + 4) / 2 * 3 - 1\n",
    "3.Evaluate: 15 - 3 * (2 + 1) + 7\n",
    "4.Evaluate: 20 / 4 + 2 * 5 - 6\n",
    "5.Evaluate: 4 * (6 - 2) / 8 + 3"
   ]
  },
  {
   "cell_type": "code",
   "execution_count": 12,
   "metadata": {},
   "outputs": [
    {
     "name": "stdout",
     "output_type": "stream",
     "text": [
      "12.0\n",
      "17.0\n",
      "13\n",
      "9.0\n",
      "5.0\n"
     ]
    }
   ],
   "source": [
    "print(5 * 2 + 10 / 2 - 3)\n",
    "print((8 + 4) / 2 * 3 - 1)\n",
    "print(15 - 3 * (2 + 1) + 7)\n",
    "print(20 / 4 + 2 * 5 - 6)\n",
    "print(4 * (6 - 2) / 8 + 3)"
   ]
  },
  {
   "cell_type": "markdown",
   "metadata": {},
   "source": [
    "Set 6: More Practice\n",
    "\n",
    "1.Calculate the area of a triangle with base 10 and height 5. (Area = 0.5 * base * height)\n",
    "2.Calculate the volume of a sphere with radius 4. (Volume = (4/3) * pi * radius^3. Use pi ≈ 3.14159)\n",
    "3.Convert 100 degrees Celsius to Fahrenheit. (Fahrenheit = (Celsius * 9/5) + 32)\n",
    "4.Convert 68 degrees Fahrenheit to Celsius.\n",
    "5.Calculate the circumference of a circle with diameter 12. (Circumference = pi * diameter)"
   ]
  },
  {
   "cell_type": "code",
   "execution_count": 13,
   "metadata": {},
   "outputs": [
    {
     "name": "stdout",
     "output_type": "stream",
     "text": [
      "25.0\n"
     ]
    }
   ],
   "source": [
    "b=float(input())\n",
    "h=float(input())\n",
    "a=1/2*b*h\n",
    "print(a)"
   ]
  },
  {
   "cell_type": "code",
   "execution_count": 14,
   "metadata": {},
   "outputs": [
    {
     "name": "stdout",
     "output_type": "stream",
     "text": [
      "268.08234666666664\n"
     ]
    }
   ],
   "source": [
    "r=float(input())\n",
    "v=4/3*3.14159*(r**3)\n",
    "print(v)\n"
   ]
  },
  {
   "cell_type": "code",
   "execution_count": 15,
   "metadata": {},
   "outputs": [
    {
     "name": "stdout",
     "output_type": "stream",
     "text": [
      "212.0\n"
     ]
    }
   ],
   "source": [
    "c=float(input())\n",
    "a=(c*9/5)+32\n",
    "print(a)"
   ]
  },
  {
   "cell_type": "code",
   "execution_count": 16,
   "metadata": {},
   "outputs": [
    {
     "name": "stdout",
     "output_type": "stream",
     "text": [
      "20.0\n"
     ]
    }
   ],
   "source": [
    "f=float(input())\n",
    "a=(f-32)/(9/5)\n",
    "print(a)"
   ]
  },
  {
   "cell_type": "code",
   "execution_count": 17,
   "metadata": {},
   "outputs": [
    {
     "name": "stdout",
     "output_type": "stream",
     "text": [
      "37.68\n"
     ]
    }
   ],
   "source": [
    "d=float(input())\n",
    "a=3.14*d\n",
    "print(a)"
   ]
  },
  {
   "cell_type": "markdown",
   "metadata": {},
   "source": [
    "Set 7: Integer Division and Modulus\n",
    "\n",
    "1.Find the quotient and remainder when 17 is divided by 3. (Use the / and % operators)\n",
    "2.Find the quotient and remainder when 25 is divided by 6.\n",
    "3.Is 12 divisible by 4? (Use the modulus operator)\n",
    "4.Is 15 divisible by 2?\n",
    "5.What is the result of 10 // 3 (floor division)?"
   ]
  },
  {
   "cell_type": "code",
   "execution_count": 33,
   "metadata": {},
   "outputs": [
    {
     "name": "stdout",
     "output_type": "stream",
     "text": [
      "quotient 5.666666666666667 \n",
      " remainder 2.0\n"
     ]
    }
   ],
   "source": [
    "a=float(input())\n",
    "b=float(input())\n",
    "x=a/b\n",
    "y=a%b\n",
    "print(\"quotient\",x,\"\\n\",\"remainder\", y)"
   ]
  },
  {
   "cell_type": "code",
   "execution_count": 23,
   "metadata": {},
   "outputs": [
    {
     "name": "stdout",
     "output_type": "stream",
     "text": [
      "1.0\n"
     ]
    }
   ],
   "source": [
    "a=float(input())\n",
    "b=float(input())\n",
    "x=a%b\n",
    "print(x)"
   ]
  },
  {
   "cell_type": "code",
   "execution_count": 24,
   "metadata": {},
   "outputs": [
    {
     "name": "stdout",
     "output_type": "stream",
     "text": [
      "3\n"
     ]
    }
   ],
   "source": [
    "print(10//3)"
   ]
  },
  {
   "cell_type": "markdown",
   "metadata": {},
   "source": [
    "Set 8:  Challenging Problems\n",
    "\n",
    "1.A rectangle has a length of 8 and a width of 5. Calculate its area and perimeter.(area=length*width, perimeter= 2*(length+width))\n",
    "2.A circle has a radius of 7. Calculate its area and circumference.(area=3.14*radius square , circuference = 2*3.14*radius)\n",
    "3.A car travels at a speed of 60 km/h. How far will it travel in 2.5 hours?(distance=speed*time)\n",
    "4.A store offers a 20% discount on all items. If an item costs $50, what is the discounted price?(price -(p*(discount/100)))\n",
    "5.Calculate the average of 10, 20, 30, 40, and 50.(sum of all no./count of all no.      eg: 10+20+30/3)"
   ]
  },
  {
   "cell_type": "code",
   "execution_count": 30,
   "metadata": {},
   "outputs": [
    {
     "name": "stdout",
     "output_type": "stream",
     "text": [
      "area =  40.0 perimeter =  26.0\n"
     ]
    }
   ],
   "source": [
    "l=float(input())\n",
    "b=float(input())\n",
    "a=l*b\n",
    "p=2*(l+b)\n",
    "print(\"area = \", a, \"perimeter = \", p)"
   ]
  },
  {
   "cell_type": "code",
   "execution_count": 31,
   "metadata": {},
   "outputs": [
    {
     "name": "stdout",
     "output_type": "stream",
     "text": [
      "area  = 153.86 circuference = 43.96\n"
     ]
    }
   ],
   "source": [
    "r=float(input())\n",
    "a=3.14*(r**2)\n",
    "c=2*r*3.14\n",
    "print(\"area  =\",a, \"circuference =\", c)"
   ]
  },
  {
   "cell_type": "code",
   "execution_count": 36,
   "metadata": {},
   "outputs": [
    {
     "name": "stdout",
     "output_type": "stream",
     "text": [
      "150.0\n"
     ]
    }
   ],
   "source": [
    "s=float(input())\n",
    "t=float(input())\n",
    "d=s*t\n",
    "print(d)"
   ]
  },
  {
   "cell_type": "code",
   "execution_count": 38,
   "metadata": {},
   "outputs": [
    {
     "name": "stdout",
     "output_type": "stream",
     "text": [
      "40.0\n"
     ]
    }
   ],
   "source": [
    "p=float(input())\n",
    "d=float(input())\n",
    "dp=p-(p*(d/100))\n",
    "print(dp)"
   ]
  },
  {
   "cell_type": "code",
   "execution_count": 39,
   "metadata": {},
   "outputs": [
    {
     "name": "stdout",
     "output_type": "stream",
     "text": [
      "30.0\n"
     ]
    }
   ],
   "source": [
    "a=float(input())\n",
    "b=float(input())\n",
    "c=float(input())\n",
    "d=float(input())\n",
    "e=float(input())\n",
    "x=(a+b+c+d+e)/5\n",
    "print(x)"
   ]
  },
  {
   "cell_type": "markdown",
   "metadata": {},
   "source": [
    "Set 9:  More Challenges\n",
    "\n",
    "1.A train travels 360 km in 4 hours. What is its average speed?(avg speed= distance/time)\n",
    "2.A shopkeeper buys 20 apples for $1 each and sells them for $1.5 each. What is his profit?(profit =selling cost =buying cost )\n",
    "3.Calculate the simple interest on a principal of $1000 at a rate of 5% per annum for 3 years. (Simple Interest = Principal * Rate * Time)\n",
    "4.Convert 2.5 meters to centimeters. (1 meter = 100 centimeters)\n",
    "5.Convert 1.5 kilograms to grams. (1 kilogram = 1000 grams)"
   ]
  },
  {
   "cell_type": "code",
   "execution_count": 40,
   "metadata": {},
   "outputs": [
    {
     "name": "stdout",
     "output_type": "stream",
     "text": [
      "90.0\n"
     ]
    }
   ],
   "source": [
    "d=float(input())\n",
    "t=float(input())\n",
    "s=d/t\n",
    "print(s)"
   ]
  },
  {
   "cell_type": "code",
   "execution_count": 41,
   "metadata": {},
   "outputs": [
    {
     "name": "stdout",
     "output_type": "stream",
     "text": [
      "10.0\n"
     ]
    }
   ],
   "source": [
    "am=float(input(\"amount\"))\n",
    "bc=float(input(\"buying price\"))\n",
    "sp=float(input(\"selling price\"))\n",
    "tbc=am*bc\n",
    "tsp=sp*am\n",
    "p=tsp-tbc\n",
    "print(p)"
   ]
  },
  {
   "cell_type": "code",
   "execution_count": 43,
   "metadata": {},
   "outputs": [
    {
     "name": "stdout",
     "output_type": "stream",
     "text": [
      "150.0\n"
     ]
    }
   ],
   "source": [
    "p=float(input())\n",
    "r=float(input())\n",
    "t=float(input())\n",
    "si=(p*r*t)/100\n",
    "print(si)"
   ]
  },
  {
   "cell_type": "code",
   "execution_count": 44,
   "metadata": {},
   "outputs": [
    {
     "name": "stdout",
     "output_type": "stream",
     "text": [
      "250.0\n"
     ]
    }
   ],
   "source": [
    "m=float(input())\n",
    "cm=m*100\n",
    "print(cm)"
   ]
  },
  {
   "cell_type": "code",
   "execution_count": 45,
   "metadata": {},
   "outputs": [
    {
     "name": "stdout",
     "output_type": "stream",
     "text": [
      "1500.0\n"
     ]
    }
   ],
   "source": [
    "km=float(input())\n",
    "g=km*1000\n",
    "print(g)"
   ]
  },
  {
   "cell_type": "markdown",
   "metadata": {},
   "source": [
    "Set 10:  Final Set\n",
    "\n",
    "1.Calculate the area of a trapezoid with bases 10 and 12 and height 6. (Area = 0.5 * (base1 + base2) * height)\n",
    "2.Calculate the volume of a cylinder with radius 5 and height 10. (Volume = pi * radius^2 * height)\n",
    "3.A person invests $5000 at an interest rate of 4% compounded annually. How much will they have after 2 years? (Use the formula for compound interest)\n",
    "4.Calculate the distance between two points (x1, y1) and (x2, y2) in a 2D plane. (Distance = sqrt((x2 - x1)^2 + (y2 - y1)^2)) Assume the points are (1, 2) and (4, 6).\n",
    "5.A ball is thrown upwards with an initial velocity of 20 m/s. Calculate the maximum height it reaches. (Use the formula: h = (v^2) / (2 * g), where v is the initial velocity and g is the acceleration due to gravity, approximately 9.8 m/s^2)"
   ]
  },
  {
   "cell_type": "code",
   "execution_count": 46,
   "metadata": {},
   "outputs": [
    {
     "name": "stdout",
     "output_type": "stream",
     "text": [
      "66.0\n"
     ]
    }
   ],
   "source": [
    "b1=float(input(\"base2\"))\n",
    "b2=float(input(\"base1\"))\n",
    "h=float(input(\"hight\"))\n",
    "a=0.5*(b1+b2)*h\n",
    "print(a)"
   ]
  },
  {
   "cell_type": "code",
   "execution_count": 47,
   "metadata": {},
   "outputs": [
    {
     "name": "stdout",
     "output_type": "stream",
     "text": [
      "785.0\n"
     ]
    }
   ],
   "source": [
    "r=float(input(\"radius\"))\n",
    "h=float(input(\"hight\"))\n",
    "v=3.14*(r**2)*h\n",
    "print(v)"
   ]
  },
  {
   "cell_type": "code",
   "execution_count": 2,
   "metadata": {},
   "outputs": [
    {
     "name": "stdout",
     "output_type": "stream",
     "text": [
      "5408.000000000001\n"
     ]
    }
   ],
   "source": [
    "p=float(input(\"price\"))\n",
    "r=float(input(\"rate\"))\n",
    "t=float(input(\"Time\"))\n",
    "n=float(input(\"no. of term\"))\n",
    "a= p *(1 + (r/100)/n)**(n*t)\n",
    "print(a)"
   ]
  },
  {
   "cell_type": "code",
   "execution_count": 48,
   "metadata": {},
   "outputs": [
    {
     "name": "stdout",
     "output_type": "stream",
     "text": [
      "5.0\n"
     ]
    }
   ],
   "source": [
    "x1=float(input(\"x1\"))\n",
    "x2=float(input(\"x2\"))\n",
    "y1=float(input(\"y1\"))\n",
    "y2=float(input(\"Y2\"))\n",
    "d=((x2-x1)**2+(y2-y1)**2)**(1/2)\n",
    "print(d)"
   ]
  },
  {
   "cell_type": "code",
   "execution_count": 49,
   "metadata": {},
   "outputs": [
    {
     "name": "stdout",
     "output_type": "stream",
     "text": [
      "20.408163265306122\n"
     ]
    }
   ],
   "source": [
    "v=float(input(\"velocity\"))\n",
    "h=(v**2) / (2 * 9.8)\n",
    "print(h)"
   ]
  },
  {
   "cell_type": "markdown",
   "metadata": {},
   "source": [
    "Set 2: Word Problems - Distance, Speed, Time (10 Questions)\n",
    "\n",
    "A car travels at 60 km/h for 2.5 hours. How far does it travel?\n",
    "A train travels 420 km in 7 hours. What is its average speed?\n",
    "A plane flies at 800 km/h for 1.5 hours. How far does it fly?\n",
    "A cyclist rides at 20 km/h for 3 hours. How far does the cyclist travel?\n",
    "A boat sails at 15 knots for 4 hours. How far does the boat travel? (1 knot ≈ 1.852 km/h)\n",
    "A car travels 300 km at an average speed of 75 km/h. How long does the journey take?\n",
    "A train travels 560 km at an average speed of 80 km/h. How long does the journey take?\n",
    "A plane flies 1200 km at an average speed of 600 km/h. How long does the flight take?\n",
    "A cyclist rides 45 km at an average speed of 15 km/h. How long does the ride take?\n",
    "A boat sails 60 nautical miles at an average speed of 10 knots. How long does the journey take?\n",
    "Set 3: Word Problems - Cost and Profit (10 Questions)\n",
    "output:\n",
    "\n",
    "150 km\n",
    "60 km/h\n",
    "1200 km\n",
    "60 km\n",
    "111.12 km (approximately)\n",
    "4 hours\n",
    "7 hours\n",
    "2 hours\n",
    "3 hours\n",
    "6 hours\n"
   ]
  },
  {
   "cell_type": "code",
   "execution_count": 4,
   "metadata": {},
   "outputs": [
    {
     "name": "stdout",
     "output_type": "stream",
     "text": [
      "speed =  60.0\n"
     ]
    }
   ],
   "source": [
    "d=float(input(\"distance\"))\n",
    "t=float(input(\"time\"))\n",
    "speed=d/t\n",
    "print(\"speed = \", speed, \"km/h\")"
   ]
  },
  {
   "cell_type": "code",
   "execution_count": 5,
   "metadata": {},
   "outputs": [
    {
     "name": "stdout",
     "output_type": "stream",
     "text": [
      "distance =  1200.0 km\n"
     ]
    }
   ],
   "source": [
    "s=float(input(\"speed\"))\n",
    "t=float(input(\"time\"))\n",
    "distance=s*t\n",
    "print(\"distance = \", distance, \"km\")"
   ]
  },
  {
   "cell_type": "code",
   "execution_count": null,
   "metadata": {},
   "outputs": [],
   "source": [
    "s=float(input(\"speed\"))\n",
    "d=float(input(\"distance\"))\n",
    "time=d/s\n",
    "print(\"time = \", time, \"hours\")\n"
   ]
  },
  {
   "cell_type": "markdown",
   "metadata": {},
   "source": [
    "Set 3: Word Problems - Cost and Profit\n",
    "1.A shopkeeper buys 40 apples for $0.5 each and sells them for $0.75 each. What is his profit?\n",
    "2.A store sells oranges for $0.6 each. If you buy 12 oranges, what is the total cost?\n",
    "3.A person buys 3 shirts for $15 each and 2 pairs of pants for $25 each. What is the total cost?\n",
    "4.A baker makes 24 cakes at a cost of $3 each and sells them for $5 each. What is his profit?\n",
    "5.A farmer sells 50 kg of potatoes for $0.8 per kg. How much money does he make?\n",
    "6.A shopkeeper buys 60 pens for $0.25 each and sells them for $0.5 each. What is his profit?\n",
    "7.A store sells notebooks for $1.5 each. If you buy 8 notebooks, what is the total cost?\n",
    "8.A person buys 4 books for $12 each and 3 DVDs for $18 each. What is the total cost?\n",
    "9.A fruit seller buys 80 mangoes for $0.4 each and sells them for $0.7 each. What is his profit?\n",
    "10.A store sells t-shirts for $10 each. If you buy 5 t-shirts, what is the total cost?\n",
    "\n",
    "output:\n",
    "Set 3: Word Problems - Cost and Profit\n",
    "\n",
    "$10\n",
    "$7.2\n",
    "$95\n",
    "$48\n",
    "$40\n",
    "$15\n",
    "$12\n",
    "$102\n",
    "$24\n",
    "$50"
   ]
  },
  {
   "cell_type": "code",
   "execution_count": 13,
   "metadata": {},
   "outputs": [
    {
     "name": "stdout",
     "output_type": "stream",
     "text": [
      "profit =  24.0\n"
     ]
    }
   ],
   "source": [
    "am=float(input(\"amount\"))\n",
    "bc=float(input(\"buying price\"))\n",
    "sc=float(input(\"selling price\"))\n",
    "tbc=am*bc\n",
    "tsc=am*sc\n",
    "p=tsc-tbc\n",
    "print(\"profit = \", p)"
   ]
  },
  {
   "cell_type": "code",
   "execution_count": 10,
   "metadata": {},
   "outputs": [
    {
     "name": "stdout",
     "output_type": "stream",
     "text": [
      "total cost price 12.0\n"
     ]
    }
   ],
   "source": [
    "am=float(input(\"amount\"))\n",
    "bc=float(input(\"buying price\"))\n",
    "tbc=am*bc\n",
    "print(\"total cost price\" , tbc)"
   ]
  },
  {
   "cell_type": "code",
   "execution_count": 12,
   "metadata": {},
   "outputs": [
    {
     "name": "stdout",
     "output_type": "stream",
     "text": [
      "total cost =  102.0\n"
     ]
    }
   ],
   "source": [
    "ams=float(input(\"amount of shirt\"))\n",
    "amp=float(input(\"amount of pant\"))\n",
    "bcs=float(input(\"buying price of shirt\"))\n",
    "bcp=float(input(\"buying price of pant\"))\n",
    "tbcs=ams*bcs\n",
    "tbcp=amp*bcp\n",
    "total=tbcs+tbcp\n",
    "print(\"total cost = \", total)"
   ]
  },
  {
   "cell_type": "markdown",
   "metadata": {},
   "source": [
    "Set 4: Word Problems - Area, Perimeter, Volume (10 Questions)\n",
    "\n",
    "1.A rectangle has a length of 12 cm and a width of 8 cm. What is its area and perimeter?\n",
    "2.A square has a side length of 7 meters. What is its area and perimeter?\n",
    "3.A circle has a radius of 6 cm. What is its area and circumference? (use π ≈ 3.14)\n",
    "4.A triangle has a base of 10 cm and a height of 8 cm. What is its area?\n",
    "5.A cube has a side length of 5 meters. What is its volume?\n",
    "6.A rectangular prism has a length of 8 cm, a width of 4 cm, and a height of 3 cm. What is its volume?\n",
    "7.A sphere has a radius of 4 cm. What is its volume? (use π ≈ 3.14)\n",
    "8.A cylinder has a radius of 3 cm and a height of 10 cm. What is its volume? (use π ≈ 3.14)\n",
    "9.A cone has a radius of 5 cm and a height of 12 cm. What is its volume? (use π ≈ 3.14) (Volume of cone = (1/3)πr²h)\n",
    "10.A pyramid has a square base with side length 6 cm and a height of 8 cm. What is its volume? (Volume of pyramid = (1/3) * base area * height)\n",
    "\n",
    "output:\n",
    "Set 4: Word Problems - Area, Perimeter, Volume\n",
    "\n",
    "Area: 96 cm², Perimeter: 40 cm\n",
    "Area: 49 m², Perimeter: 28 m\n",
    "Area: 113.04 cm², Circumference: 37.68 cm\n",
    "40 cm²\n",
    "125 m³\n",
    "96 cm³\n",
    "267.94 cm³ (approximately)\n",
    "282.6 cm³ (approximately)\n",
    "314.16 cm³ (approximately)\n",
    "72 cm³"
   ]
  },
  {
   "cell_type": "markdown",
   "metadata": {},
   "source": [
    "rectangle,area and perimeter"
   ]
  },
  {
   "cell_type": "code",
   "execution_count": 2,
   "metadata": {},
   "outputs": [
    {
     "name": "stdout",
     "output_type": "stream",
     "text": [
      "area =  96.0 cm²\n",
      " perimeter =  40.0 cm\n"
     ]
    }
   ],
   "source": [
    "l=float(input(\"length\"))\n",
    "w=float(input(\"width\"))\n",
    "a=l*w\n",
    "p=2*(l+w)\n",
    "print(\"area = \", a,\"cm²\" \"\\n\",\"perimeter = \", p,\"cm\")"
   ]
  },
  {
   "cell_type": "markdown",
   "metadata": {},
   "source": [
    "square ,area and perimeter"
   ]
  },
  {
   "cell_type": "code",
   "execution_count": 3,
   "metadata": {},
   "outputs": [
    {
     "name": "stdout",
     "output_type": "stream",
     "text": [
      "area =  49.0 cm² \n",
      " perimeter =  28.0 cm\n"
     ]
    }
   ],
   "source": [
    "s=float(input(\"length \"))\n",
    "P=4*s\n",
    "a=s**2\n",
    "print(\"area = \", a,\"m²\",   \"\\n\",\"perimeter = \", P,\"m\")"
   ]
  },
  {
   "cell_type": "markdown",
   "metadata": {},
   "source": [
    "circle,area and circumference"
   ]
  },
  {
   "cell_type": "code",
   "execution_count": 4,
   "metadata": {},
   "outputs": [
    {
     "name": "stdout",
     "output_type": "stream",
     "text": [
      "area =  113.04 cm² \n",
      " circumference =  37.68 cm\n"
     ]
    }
   ],
   "source": [
    "r= float(input(\"radius\"))\n",
    "a=3.14*(r**2)\n",
    "c=2*3.14*r\n",
    "print(\"area = \",a,\"cm²\",\"\\n\",\"circumference = \",c,\"cm\")"
   ]
  },
  {
   "cell_type": "markdown",
   "metadata": {},
   "source": [
    "triangle,area "
   ]
  },
  {
   "cell_type": "code",
   "execution_count": 6,
   "metadata": {},
   "outputs": [
    {
     "name": "stdout",
     "output_type": "stream",
     "text": [
      "area =  40.0 cm²\n"
     ]
    }
   ],
   "source": [
    "b=float(input(\"base\"))\n",
    "h=float(input(\"hight\"))\n",
    "a=0.5*b*h\n",
    "print(\"area = \",a,\"cm²\")"
   ]
  },
  {
   "cell_type": "markdown",
   "metadata": {},
   "source": [
    "cube,volume"
   ]
  },
  {
   "cell_type": "code",
   "execution_count": 7,
   "metadata": {},
   "outputs": [
    {
     "name": "stdout",
     "output_type": "stream",
     "text": [
      "volume =  125.0\n"
     ]
    }
   ],
   "source": [
    "s=float(input(\"side\"))\n",
    "v=s**3\n",
    "print(\"volume = \",v)\n"
   ]
  },
  {
   "cell_type": "markdown",
   "metadata": {},
   "source": [
    "rectangular prism,volume"
   ]
  },
  {
   "cell_type": "code",
   "execution_count": 8,
   "metadata": {},
   "outputs": [
    {
     "name": "stdout",
     "output_type": "stream",
     "text": [
      "volume =  96.0 m³\n"
     ]
    }
   ],
   "source": [
    "l=float(input(\"length\"))\n",
    "w=float(input(\"width\"))\n",
    "h=float(input(\"hight\"))\n",
    "v=l*w*h\n",
    "print(\"volume = \",v,\"m³\")\n"
   ]
  },
  {
   "cell_type": "markdown",
   "metadata": {},
   "source": [
    "sphere"
   ]
  },
  {
   "cell_type": "code",
   "execution_count": 9,
   "metadata": {},
   "outputs": [
    {
     "name": "stdout",
     "output_type": "stream",
     "text": [
      "volume =  267.94666666666666 cm³\n"
     ]
    }
   ],
   "source": [
    "r=float(input(\"radius\"))\n",
    "v=(4/3)*3.14*(r**3)\n",
    "print(\"volume = \",v,\"cm³\")\n"
   ]
  },
  {
   "cell_type": "markdown",
   "metadata": {},
   "source": [
    "cylinder,volume =  𝜋r**2h\n"
   ]
  },
  {
   "cell_type": "code",
   "execution_count": 11,
   "metadata": {},
   "outputs": [
    {
     "name": "stdout",
     "output_type": "stream",
     "text": [
      "volume =  282.6 cm³\n"
     ]
    }
   ],
   "source": [
    "r=float(input(\"radius\"))\n",
    "h=float(input(\"hight\"))\n",
    "v=3.14*(r**2)*h\n",
    "print(\"volume = \",v,\"cm³\")"
   ]
  },
  {
   "cell_type": "markdown",
   "metadata": {},
   "source": [
    "cone, volume=(1/3)*π*(r**2)*h"
   ]
  },
  {
   "cell_type": "code",
   "execution_count": 12,
   "metadata": {},
   "outputs": [
    {
     "name": "stdout",
     "output_type": "stream",
     "text": [
      "volume =  314.0 cm³\n"
     ]
    }
   ],
   "source": [
    "r=float(input(\"radius\"))\n",
    "h=float(input(\"hight\"))\n",
    "v=(1/3)*3.14*(r**2)*h\n",
    "print(\"volume = \",v,\"cm³\")"
   ]
  },
  {
   "cell_type": "markdown",
   "metadata": {},
   "source": [
    "pyramid, volume= (1/3)*(s**2)*h"
   ]
  },
  {
   "cell_type": "code",
   "execution_count": 16,
   "metadata": {},
   "outputs": [
    {
     "name": "stdout",
     "output_type": "stream",
     "text": [
      "volume =  96.0 cm³\n"
     ]
    }
   ],
   "source": [
    "s=float(input(\"length\"))\n",
    "h=float(input(\"hight\"))\n",
    "v=(1/3)*(s**2)*h\n",
    "print(\"volume = \",v,\"cm³\")"
   ]
  },
  {
   "cell_type": "markdown",
   "metadata": {},
   "source": [
    "Set 5: Mixed Word Problems (10 Questions)\n",
    "\n",
    "1.A person invests $2500 at a simple interest rate of 5% per annum for 3 years. How much interest will they earn?\n",
    "2.A car travels 360 km in 4 hours. What is its average speed in m/s?\n",
    "3.A store offers a 15% discount on all items. If an item costs $80, what is the discounted price?\n",
    "4.A recipe calls for 2 cups of flour, 1 cup of sugar, and 1/2 cup of butter. If you want to make 2.5 times the recipe, how much of each ingredient do you need?\n",
    "5.A ball is thrown upwards with an initial velocity of 18 m/s. What is the approximate maximum height it reaches? (g ≈ 10 m/s²)\n",
    "A ladder is 5 meters long and leans against a wall. The base of the ladder is 3 meters away from the wall. How high up the wall does the ladder reach?\n",
    "A person buys 6 notebooks for $2 each and 4 pens for $1.5 each. What is the total cost?\n",
    "A rectangular garden is 15 meters long and 10 meters wide. What is its area and perimeter?\n",
    "A circle has a diameter of 14 cm. What is its circumference and area?\n",
    "A train travels at 90 km/h for 2 hours and then at 60 km/h for 1.5 hours. What is the total distance traveled?\n",
    "\n",
    "output:\n",
    "Set 5: Mixed Word Problems\n",
    "\n",
    "$375\n",
    "16.67 m/s (approximately)\n",
    "$68\n",
    "Flour: 5 cups, Sugar: 2.5 cups, Butter: 1.25 cups\n",
    "16.2 meters (approximately)\n",
    "4 meters\n",
    "$16\n",
    "Area: 150 m², Perimeter: 50 m\n",
    "Circumference: 43.98 cm, Area: 153.94 cm²\n",
    "270 km"
   ]
  },
  {
   "cell_type": "code",
   "execution_count": 1,
   "metadata": {},
   "outputs": [
    {
     "name": "stdout",
     "output_type": "stream",
     "text": [
      "intrest =  375.0\n"
     ]
    }
   ],
   "source": [
    "p=float(input(\"price\"))\n",
    "r=float(input(\"rate\"))\n",
    "t=float(input(\"Time\"))\n",
    "si=p*(r/100)*t\n",
    "print(\"intrest = \",si)"
   ]
  },
  {
   "cell_type": "code",
   "execution_count": null,
   "metadata": {},
   "outputs": [
    {
     "name": "stdout",
     "output_type": "stream",
     "text": [
      "total discount 68.0\n"
     ]
    }
   ],
   "source": [
    "c=float(input(\"cost\"))\n",
    "d=float(input(\"discount\"))\n",
    "di=(c*d)/100\n",
    "td=c-di\n",
    "print(\"total discount\",td)"
   ]
  },
  {
   "cell_type": "code",
   "execution_count": 7,
   "metadata": {},
   "outputs": [
    {
     "name": "stdout",
     "output_type": "stream",
     "text": [
      " flout =  5.0 \n",
      " sugger =  2.5 \n",
      " butter =  1.25\n"
     ]
    }
   ],
   "source": [
    "n=float(input(\"amount of recipe\"))\n",
    "f=n*2\n",
    "s=n*1\n",
    "b=n*(1/2)\n",
    "print(\" flout = \",f,\"\\n\",\"sugger = \",s,\"\\n\",\"butter = \",b)\n"
   ]
  },
  {
   "cell_type": "code",
   "execution_count": 2,
   "metadata": {},
   "outputs": [
    {
     "name": "stdout",
     "output_type": "stream",
     "text": [
      "72\n"
     ]
    }
   ],
   "source": [
    "x=int(input())\n",
    "y=int(input())\n",
    "z=(x*y)+1\n",
    "for i in range(1,z):\n",
    "    if i%x==0 and i%y==0:\n",
    "        print(i)\n",
    "        break\n"
   ]
  },
  {
   "cell_type": "code",
   "execution_count": 10,
   "metadata": {},
   "outputs": [
    {
     "name": "stdout",
     "output_type": "stream",
     "text": [
      "3\n"
     ]
    }
   ],
   "source": [
    "x=int(input())\n",
    "y=int(input())\n",
    "if x>y:\n",
    "    z=y\n",
    "else:\n",
    "    z=x\n",
    "for i in range(z,0,-1):\n",
    "    if x%i==0 and y%i==0:\n",
    "        print(i)\n",
    "        break\n",
    "    "
   ]
  }
 ],
 "metadata": {
  "kernelspec": {
   "display_name": "Python 3",
   "language": "python",
   "name": "python3"
  },
  "language_info": {
   "codemirror_mode": {
    "name": "ipython",
    "version": 3
   },
   "file_extension": ".py",
   "mimetype": "text/x-python",
   "name": "python",
   "nbconvert_exporter": "python",
   "pygments_lexer": "ipython3",
   "version": "3.11.9"
  }
 },
 "nbformat": 4,
 "nbformat_minor": 2
}
