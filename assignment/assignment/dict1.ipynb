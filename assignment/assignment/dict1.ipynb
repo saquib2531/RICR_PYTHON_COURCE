{
 "cells": [
  {
   "cell_type": "markdown",
   "id": "ff0f87a7",
   "metadata": {},
   "source": [
    "Note: Dictionary for all the questions, \n",
    "\n",
    "Q1: Write a Python program to create a dictionary named \n",
    "student_grades with the following key-value pairs: 'Alice': 85, 'Bob': \n",
    "90, 'Charlie': 78 and also print the dictionary. "
   ]
  },
  {
   "cell_type": "code",
   "execution_count": null,
   "id": "f2f7656d",
   "metadata": {},
   "outputs": [],
   "source": [
    "student_grade = {'Alice': 85, 'Bob': 90, 'Charlie': 78} "
   ]
  },
  {
   "cell_type": "code",
   "execution_count": 1,
   "id": "eb3fdc2e",
   "metadata": {},
   "outputs": [
    {
     "name": "stdout",
     "output_type": "stream",
     "text": [
      "{'Alice': 85, 'Bob': 90, 'Charlie': 78}\n"
     ]
    }
   ],
   "source": [
    "student_grade = {'Alice': 85, 'Bob': 90, 'Charlie': 78} \n",
    "print(student_grade)"
   ]
  },
  {
   "cell_type": "markdown",
   "id": "09659ac2",
   "metadata": {},
   "source": [
    "Q2: Write a Python program to access and print the grade of 'Bob' \n",
    "from the given dictionary.   \n",
    "Sample Output: 90 "
   ]
  },
  {
   "cell_type": "code",
   "execution_count": 7,
   "id": "3e214a0a",
   "metadata": {},
   "outputs": [
    {
     "name": "stdout",
     "output_type": "stream",
     "text": [
      "90\n"
     ]
    }
   ],
   "source": [
    "\n",
    "x=student_grade['Bob']\n",
    "print(x)"
   ]
  },
  {
   "cell_type": "markdown",
   "id": "eebb6866",
   "metadata": {},
   "source": [
    "Q3: Write a Python program to add a new student 'David' with a \n",
    "grade of 92 to the given dictionary and print it. \n",
    "Output: {'Alice': 85, 'Bob': 90, 'Charlie': 78, 'David': 92} \n"
   ]
  },
  {
   "cell_type": "code",
   "execution_count": 8,
   "id": "7a0c2c0d",
   "metadata": {},
   "outputs": [
    {
     "name": "stdout",
     "output_type": "stream",
     "text": [
      "{'Alice': 85, 'Bob': 90, 'Charlie': 78, 'David': 92}\n"
     ]
    }
   ],
   "source": [
    "student_grade['David']=92\n",
    "print(student_grade)"
   ]
  },
  {
   "cell_type": "markdown",
   "id": "d87d4ee8",
   "metadata": {},
   "source": [
    "Q4: Write a Python program to update the grade of 'Charlie' to 80 in \n",
    "the given dictionary and print the dictionary. \n",
    "Output: {'Alice': 85, 'Bob': 90, 'Charlie': 80, 'David': 92} \n"
   ]
  },
  {
   "cell_type": "code",
   "execution_count": 9,
   "id": "3ce362a0",
   "metadata": {},
   "outputs": [
    {
     "name": "stdout",
     "output_type": "stream",
     "text": [
      "{'Alice': 85, 'Bob': 90, 'Charlie': 80, 'David': 92}\n"
     ]
    }
   ],
   "source": [
    "student_grade['Charlie']=80\n",
    "print(student_grade)"
   ]
  },
  {
   "cell_type": "markdown",
   "id": "ba8ea118",
   "metadata": {},
   "source": [
    "Q5: Write a Python program to delete the student 'David' from the \n",
    "given dictionary using the del keyword, also print the updated \n",
    "dictionary. \n",
    "Output: {'Alice': 85, 'Bob': 90, 'Charlie': 80} "
   ]
  },
  {
   "cell_type": "code",
   "execution_count": 11,
   "id": "5449f20d",
   "metadata": {},
   "outputs": [
    {
     "name": "stdout",
     "output_type": "stream",
     "text": [
      "{'Alice': 85, 'Bob': 90, 'Charlie': 80}\n"
     ]
    }
   ],
   "source": [
    "student_grade.pop('David')\n",
    "print(student_grade)"
   ]
  },
  {
   "cell_type": "markdown",
   "id": "7ca7a0d6",
   "metadata": {},
   "source": [
    "Q6: Write a Python program to check if the key 'Eve' is present in the \n",
    "given dictionary, if not then print “Eve is not present in the \n",
    "dictionary”. "
   ]
  },
  {
   "cell_type": "code",
   "execution_count": 12,
   "id": "f3c59677",
   "metadata": {},
   "outputs": [
    {
     "name": "stdout",
     "output_type": "stream",
     "text": [
      "Eve is not present in the dictionary\n"
     ]
    }
   ],
   "source": [
    "\n",
    "if 'Eve' not in student_grade:\n",
    "    print('Eve is not present in the dictionary')"
   ]
  },
  {
   "cell_type": "markdown",
   "id": "7d9cbc48",
   "metadata": {},
   "source": [
    "Q7: Write a Python program to print all the student names in the \n",
    "given dictionary. \n",
    "Output:       \n",
    "Alice \n",
    "Bob \n",
    "Charlie "
   ]
  },
  {
   "cell_type": "code",
   "execution_count": 13,
   "id": "06d83e5a",
   "metadata": {},
   "outputs": [
    {
     "name": "stdout",
     "output_type": "stream",
     "text": [
      "Alice\n",
      "Bob\n",
      "Charlie\n"
     ]
    }
   ],
   "source": [
    "for i in student_grade:\n",
    "    print(i)"
   ]
  },
  {
   "cell_type": "markdown",
   "id": "294a4c19",
   "metadata": {},
   "source": [
    "Q8: Write a Python program to print all the grades in the given \n",
    "dictionary. \n",
    "Output: \n",
    "85 \n",
    "90 \n",
    "80 "
   ]
  },
  {
   "cell_type": "code",
   "execution_count": 14,
   "id": "37e94a92",
   "metadata": {},
   "outputs": [
    {
     "name": "stdout",
     "output_type": "stream",
     "text": [
      "85\n",
      "90\n",
      "80\n"
     ]
    }
   ],
   "source": [
    "for i in student_grade.values():\n",
    "    print(i)"
   ]
  },
  {
   "cell_type": "markdown",
   "id": "a1395c18",
   "metadata": {},
   "source": [
    "Q9: Write a Python program to print all key-value pairs in the given \n",
    "dictionary in the format “Student: Grade”. \n",
    "Alice: 85 \n",
    "Bob: 90 \n",
    "Charlie: 80 \n",
    "Output: "
   ]
  },
  {
   "cell_type": "code",
   "execution_count": 17,
   "id": "7ae0ed20",
   "metadata": {},
   "outputs": [
    {
     "name": "stdout",
     "output_type": "stream",
     "text": [
      "Alice : 85\n",
      "Bob : 90\n",
      "Charlie : 80\n"
     ]
    }
   ],
   "source": [
    "for i in student_grade.keys():\n",
    "    print(f'{i} : {student_grade[i]}')"
   ]
  },
  {
   "cell_type": "markdown",
   "id": "d52008e3",
   "metadata": {},
   "source": [
    "Q10: Write a Python program to clear all elements from the given \n",
    "dictionary. \n"
   ]
  },
  {
   "cell_type": "code",
   "execution_count": 18,
   "id": "31d54311",
   "metadata": {},
   "outputs": [
    {
     "name": "stdout",
     "output_type": "stream",
     "text": [
      "{}\n"
     ]
    }
   ],
   "source": [
    "x = {'Alice': 85, 'Bob': 90, 'Charlie': 78} \n",
    "x.clear()\n",
    "print(x)"
   ]
  },
  {
   "cell_type": "markdown",
   "id": "91e4fa91",
   "metadata": {},
   "source": [
    "Q11. Write a python program to count, how many key-value pairs \n",
    "are present in the dictionary by traversing on the given dictionary. \n",
    "student_grade = {'Alice': 85, 'Bob': 90, 'Charlie': 78} "
   ]
  },
  {
   "cell_type": "code",
   "execution_count": 19,
   "id": "ebf433dd",
   "metadata": {},
   "outputs": [
    {
     "name": "stdout",
     "output_type": "stream",
     "text": [
      "3\n"
     ]
    }
   ],
   "source": [
    "count=0\n",
    "for i in student_grade.keys():\n",
    "    count+=1\n",
    "print(count)\n"
   ]
  },
  {
   "cell_type": "markdown",
   "id": "1c337280",
   "metadata": {},
   "source": [
    "Q12.  Write a Python program to check if a dictionary is empty or \n",
    "not. \n",
    "D = {} \n",
    "Output: True "
   ]
  },
  {
   "cell_type": "code",
   "execution_count": 4,
   "id": "40161857",
   "metadata": {},
   "outputs": [
    {
     "name": "stdout",
     "output_type": "stream",
     "text": [
      "False\n"
     ]
    }
   ],
   "source": [
    "x = {'Alice': 85, 'Bob': 90, 'Charlie': 78} \n",
    "count=0\n",
    "for i in x.keys():\n",
    "    count+=1\n",
    "if count>0:\n",
    "    print(False)\n",
    "else:\n",
    "    print(True)"
   ]
  },
  {
   "cell_type": "code",
   "execution_count": 20,
   "id": "147aaa45",
   "metadata": {},
   "outputs": [
    {
     "name": "stdout",
     "output_type": "stream",
     "text": [
      "False\n"
     ]
    }
   ],
   "source": [
    "x=0\n",
    "for i in student_grade.keys():\n",
    "    x+=1\n",
    "if x>0:\n",
    "    print(False)\n",
    "else:\n",
    "    print(True)"
   ]
  },
  {
   "cell_type": "markdown",
   "id": "b27d8c19",
   "metadata": {},
   "source": [
    "Q13. Write a Python program to access dictionary key's element by \n",
    "index (user input). \n",
    "student_grade = {'Alice': 85, 'Bob': 90, 'Charlie': 78} \n",
    "Sample Input: 2 \n",
    "Expected Output: bob"
   ]
  },
  {
   "cell_type": "code",
   "execution_count": 4,
   "id": "a3a16a7d",
   "metadata": {},
   "outputs": [
    {
     "name": "stdout",
     "output_type": "stream",
     "text": [
      "Charlie\n"
     ]
    }
   ],
   "source": [
    "n=int(input())\n",
    "y= {'Alice': 85, 'Bob': 90, 'Charlie': 78} \n",
    "x=1\n",
    "for i in y.keys():\n",
    "    if n==x:\n",
    "        print(i)\n",
    "        break\n",
    "    x+=1"
   ]
  }
 ],
 "metadata": {
  "kernelspec": {
   "display_name": "Python 3",
   "language": "python",
   "name": "python3"
  },
  "language_info": {
   "codemirror_mode": {
    "name": "ipython",
    "version": 3
   },
   "file_extension": ".py",
   "mimetype": "text/x-python",
   "name": "python",
   "nbconvert_exporter": "python",
   "pygments_lexer": "ipython3",
   "version": "3.11.9"
  }
 },
 "nbformat": 4,
 "nbformat_minor": 5
}
