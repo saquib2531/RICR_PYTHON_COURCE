{
 "cells": [
  {
   "cell_type": "markdown",
   "metadata": {},
   "source": [
    "Q1. Create a new list which have the squares of every element of the \n",
    "given list using list comprehension. \n",
    "lst = [2,3,4,5,6,7]  \n",
    "Output = [4,9,16,25,36,49] "
   ]
  },
  {
   "cell_type": "code",
   "execution_count": 9,
   "metadata": {},
   "outputs": [
    {
     "name": "stdout",
     "output_type": "stream",
     "text": [
      "[4, 9, 16, 25, 36, 49]\n"
     ]
    }
   ],
   "source": [
    "lst = [2,3,4,5,6,7] \n",
    "x=[lst[i]**2 for i in range(len(lst)) ]\n",
    "print(x)"
   ]
  },
  {
   "cell_type": "markdown",
   "metadata": {},
   "source": [
    "Q2. Write a Python program using a list comprehension to create a \n",
    "list of even numbers less than 8 from 1 to 20."
   ]
  },
  {
   "cell_type": "code",
   "execution_count": 11,
   "metadata": {},
   "outputs": [
    {
     "name": "stdout",
     "output_type": "stream",
     "text": [
      "[2, 4, 6]\n"
     ]
    }
   ],
   "source": [
    "x=[i for i in range(2,20,2) if i%2==0 and i<8]\n",
    "print(x)"
   ]
  },
  {
   "cell_type": "markdown",
   "metadata": {},
   "source": [
    "Q3. Write a Python program using a list comprehension to create a \n",
    "list of numbers from 1 to 10, but only include numbers that are \n",
    "greater than 5. "
   ]
  },
  {
   "cell_type": "code",
   "execution_count": 12,
   "metadata": {},
   "outputs": [
    {
     "name": "stdout",
     "output_type": "stream",
     "text": [
      "[6, 7, 8, 9, 10]\n"
     ]
    }
   ],
   "source": [
    "x=[i for i in range(1,11) if  i>5]\n",
    "print(x)"
   ]
  },
  {
   "cell_type": "markdown",
   "metadata": {},
   "source": [
    "Q4. Write a Python program using a list comprehension to create a \n",
    "list of the first letters of each word in the given list. \n",
    "lst = ['apple', 'banana', 'cherry']. "
   ]
  },
  {
   "cell_type": "code",
   "execution_count": 18,
   "metadata": {},
   "outputs": [
    {
     "name": "stdout",
     "output_type": "stream",
     "text": [
      "['a', 'b', 'c']\n"
     ]
    }
   ],
   "source": [
    "lst = ['apple', 'banana', 'cherry']\n",
    "x=[lst[i][0] for i in range(len(lst)) ]\n",
    "print(x)"
   ]
  },
  {
   "cell_type": "markdown",
   "metadata": {},
   "source": [
    "Q5. Write a Python program using a list comprehension to create a \n",
    "list of the lengths of each word in the given list. \n",
    "lst = ['python', 'java', 'c++']. "
   ]
  },
  {
   "cell_type": "code",
   "execution_count": 2,
   "metadata": {},
   "outputs": [
    {
     "name": "stdout",
     "output_type": "stream",
     "text": [
      "[6, 4, 3]\n"
     ]
    }
   ],
   "source": [
    "lst = ['python', 'java', 'c++']\n",
    "x=[len(lst[i]) for i in range(len(lst))]\n",
    "print(x)"
   ]
  },
  {
   "cell_type": "markdown",
   "metadata": {},
   "source": [
    "Q6. Write a Python program using a nested list comprehension to \n",
    "flatten the given list. \n",
    "Input list: [[1, 2, 3], [4, 5], [6, 7, 8]]. \n",
    "Output: [1, 2, 3, 4, 5, 6, 7, 8]"
   ]
  },
  {
   "cell_type": "code",
   "execution_count": 7,
   "metadata": {},
   "outputs": [
    {
     "name": "stdout",
     "output_type": "stream",
     "text": [
      "[1, 2, 3, 4, 5, 6, 7, 8]\n"
     ]
    }
   ],
   "source": [
    "a=[[1, 2, 3], [4, 5], [6, 7, 8]]\n",
    "x=[j for i in a for j in i]\n",
    "print(x)"
   ]
  },
  {
   "cell_type": "markdown",
   "metadata": {},
   "source": [
    "Q7. Write a Python program using a list comprehension to create a \n",
    "list of numbers from 1 to 20 that are divisible by both 2 and 3."
   ]
  },
  {
   "cell_type": "code",
   "execution_count": 8,
   "metadata": {},
   "outputs": [
    {
     "name": "stdout",
     "output_type": "stream",
     "text": [
      "[6, 12, 18]\n"
     ]
    }
   ],
   "source": [
    "x=[i for i in range(1,21) if i%2==0 and i%3==0]\n",
    "print(x)"
   ]
  },
  {
   "cell_type": "markdown",
   "metadata": {},
   "source": [
    "Q8. Write a Python program using a list comprehension to create a \n",
    "list of the sums of corresponding elements from the lists [1, 2, 3] and \n",
    "[4, 5, 6]. \n",
    "Output: [5, 7, 9] "
   ]
  },
  {
   "cell_type": "code",
   "execution_count": 25,
   "metadata": {},
   "outputs": [
    {
     "name": "stdout",
     "output_type": "stream",
     "text": [
      "[5, 7, 9]\n"
     ]
    }
   ],
   "source": [
    "a= [1, 2, 3]\n",
    "b=[4, 5, 6]\n",
    "x=[a[i]+b[i] for i in range(len(a))]\n",
    "print(x)"
   ]
  },
  {
   "cell_type": "markdown",
   "metadata": {},
   "source": [
    "Q9. Write a python program using list comprehension to create a list \n",
    "which has the sums of elements of list of given list. \n",
    "lst = [[1,2,3],[3,4,5],[3,4,5],[5,7,3,2]] \n",
    "Output: [6,12,12,17]  "
   ]
  },
  {
   "cell_type": "code",
   "execution_count": 29,
   "metadata": {},
   "outputs": [
    {
     "name": "stdout",
     "output_type": "stream",
     "text": [
      "[6, 12, 12, 17]\n"
     ]
    }
   ],
   "source": [
    "lst = [[1,2,3],[3,4,5],[3,4,5],[5,7,3,2]]\n",
    "x=[sum(lst[i]) for i in range(len(lst))]\n",
    "print(x)"
   ]
  },
  {
   "cell_type": "markdown",
   "metadata": {},
   "source": [
    "Q10. Write a python program using list comprehension to create a \n",
    "list which has the min of elements of list of given list. \n",
    "lst = [[1,2,3],[3,4,5],[3,4,5],[5,7,3,2]] \n",
    "Output: [1,3,3,2]"
   ]
  },
  {
   "cell_type": "code",
   "execution_count": 31,
   "metadata": {},
   "outputs": [
    {
     "name": "stdout",
     "output_type": "stream",
     "text": [
      "[1, 3, 3, 2]\n"
     ]
    }
   ],
   "source": [
    "lst = [[1,2,3],[3,4,5],[3,4,5],[5,7,3,2]] \n",
    "x=[min(lst[i]) for i in range(len(lst))]\n",
    "print(x)"
   ]
  }
 ],
 "metadata": {
  "kernelspec": {
   "display_name": "Python 3",
   "language": "python",
   "name": "python3"
  },
  "language_info": {
   "codemirror_mode": {
    "name": "ipython",
    "version": 3
   },
   "file_extension": ".py",
   "mimetype": "text/x-python",
   "name": "python",
   "nbconvert_exporter": "python",
   "pygments_lexer": "ipython3",
   "version": "3.11.9"
  }
 },
 "nbformat": 4,
 "nbformat_minor": 2
}
