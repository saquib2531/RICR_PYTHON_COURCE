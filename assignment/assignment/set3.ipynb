{
 "cells": [
  {
   "cell_type": "markdown",
   "id": "4834adb3",
   "metadata": {},
   "source": [
    "Q1. Given two sets, A and B. \n",
    "Write a python program which find all elements that are in either A or B, \n",
    "but not in both. Create a third set with these elements. \n",
    "A = {1, 2, 3, 4}  \n",
    "B = {3, 4, 5, 6} "
   ]
  },
  {
   "cell_type": "code",
   "execution_count": 1,
   "id": "64f1d812",
   "metadata": {},
   "outputs": [
    {
     "name": "stdout",
     "output_type": "stream",
     "text": [
      "{1, 2, 5, 6}\n"
     ]
    }
   ],
   "source": [
    "A = {1, 2, 3, 4}  \n",
    "B = {3, 4, 5, 6} \n",
    "s=set(A^B)\n",
    "print(s)"
   ]
  },
  {
   "cell_type": "markdown",
   "id": "c0df5c97",
   "metadata": {},
   "source": [
    "Q2. Given two sets, X and Y. \n",
    "Write a python program which check if all elements of X are present \n",
    "within Y. If present, then remove those elements from Y; otherwise, add the \n",
    "elements of X to Y. \n",
    "Test case 1: X = {2, 4} \n",
    "Y = {1, 2, 3, 4, 5} \n",
    "Test case 2: X = {6, 7} \n",
    "Y = {1, 2, 3, 4, 5} "
   ]
  },
  {
   "cell_type": "code",
   "execution_count": null,
   "id": "8a303fa8",
   "metadata": {},
   "outputs": [
    {
     "name": "stdout",
     "output_type": "stream",
     "text": [
      "{2, 4}\n",
      "{1, 3, 5}\n"
     ]
    }
   ],
   "source": [
    "x=set(eval(input()))\n",
    "y=set(eval(input()))\n",
    "\n",
    "for i in x:\n",
    "    if  i in y:\n",
    "        y.discard(i)\n",
    "    else:\n",
    "        y.add(i)\n",
    "print(x)\n",
    "print(y)\n",
    "\n"
   ]
  },
  {
   "cell_type": "code",
   "execution_count": 9,
   "id": "44033aeb",
   "metadata": {},
   "outputs": [
    {
     "name": "stdout",
     "output_type": "stream",
     "text": [
      "{1, 3, 5, 6, 7}\n"
     ]
    }
   ],
   "source": [
    "x=set(eval(input()))\n",
    "y=set(eval(input()))\n",
    "z=x.symmetric_difference(y)\n",
    "print(z)"
   ]
  },
  {
   "cell_type": "markdown",
   "id": "e84f649c",
   "metadata": {},
   "source": [
    "Q3. You are given three lists, L1, L2, and L3.  \n",
    "Write a python program which combine all unique elements from these \n",
    "lists into a set.  After that, remove any elements that appear in all three lists.  \n",
    "L1 = [1, 2, 3, 4]  \n",
    "L2 = [3, 4, 5, 6]  \n",
    "L3 = [1, 4, 6, 7] \n",
    "Hint: Use the concept of ‘set’ "
   ]
  },
  {
   "cell_type": "code",
   "execution_count": 1,
   "id": "9908134e",
   "metadata": {},
   "outputs": [
    {
     "name": "stdout",
     "output_type": "stream",
     "text": [
      "{1, 2, 3, 5, 6, 7}\n"
     ]
    }
   ],
   "source": [
    "L1 = [1, 2, 3, 4]  \n",
    "L2 = [3, 4, 5, 6]  \n",
    "L3 = [1, 4, 6, 7] \n",
    "s=set()\n",
    "s.update(L1,L2,L3)\n",
    "s=list(s)\n",
    "for i in s:\n",
    "    if i in L1 and i in L2 and i in L3:\n",
    "        s.remove(i)\n",
    "print(set(s))"
   ]
  },
  {
   "cell_type": "markdown",
   "id": "8f37214c",
   "metadata": {},
   "source": [
    "Q4. Write a python program if a set and list is given then, for each element     \n",
    "in L, if it's not already in S, add it; otherwise, remove it from S and then print S.  \n",
    "S = {1, 2, 3}  \n",
    "L = [2, 3, 4, 5] \n",
    "Output: {1, 4, 5} "
   ]
  },
  {
   "cell_type": "code",
   "execution_count": 11,
   "id": "82ab836c",
   "metadata": {},
   "outputs": [
    {
     "name": "stdout",
     "output_type": "stream",
     "text": [
      "{1, 4, 5}\n"
     ]
    }
   ],
   "source": [
    "S = {1, 2, 3}  \n",
    "L = [2, 3, 4, 5] \n",
    "L=set(L)\n",
    "x=S.symmetric_difference(L)\n",
    "print(x)"
   ]
  },
  {
   "cell_type": "markdown",
   "id": "00e2e005",
   "metadata": {},
   "source": [
    "Q5. Write a python program which combine three sets, A, B, and C. Then, if any \n",
    "number in the set is greater than 10, remove all such numbers. \n",
    "A = {2, 3, 5}  \n",
    "B = {5, 7, 11}  \n",
    "C = {11, 13, 17} "
   ]
  },
  {
   "cell_type": "markdown",
   "id": "6958fe1d",
   "metadata": {},
   "source": [
    "dought: 1. Set changed size during iteration\n",
    "agr set me for loop chal sakta h to ye error q \n",
    "2.set ko list me change kar ke chala rahe h to last wale element ko check q ni kar raha "
   ]
  },
  {
   "cell_type": "code",
   "execution_count": 1,
   "id": "f41b7f23",
   "metadata": {},
   "outputs": [
    {
     "name": "stdout",
     "output_type": "stream",
     "text": [
      "{2, 3, 5, 7}\n"
     ]
    }
   ],
   "source": [
    "A = {2, 3, 5}  \n",
    "B = {5, 7, 11}  \n",
    "C = {11, 13, 17} \n",
    "s=A|B|C\n",
    "x=set()\n",
    "for i in s:\n",
    "    if i<10:\n",
    "        x.add(i)\n",
    "print(x)"
   ]
  },
  {
   "cell_type": "markdown",
   "id": "4c130c5b",
   "metadata": {},
   "source": [
    "Q6. Given two sets, X and Y,\n",
    "Write a python program which find the common elements and store \n",
    "them in a new set. Then, create another set with elements that are unique to \n",
    "either X or Y, but not both.   \n",
    "X = {10, 20, 30, 40}  \n",
    "Y = {30, 40, 50, 60}"
   ]
  },
  {
   "cell_type": "code",
   "execution_count": 21,
   "id": "0bbcf43e",
   "metadata": {},
   "outputs": [
    {
     "name": "stdout",
     "output_type": "stream",
     "text": [
      "{40, 30}\n",
      "{10, 50, 20, 60}\n"
     ]
    }
   ],
   "source": [
    "X = {10, 20, 30, 40}  \n",
    "Y = {30, 40, 50, 60}\n",
    "s=set(X&Y)\n",
    "# s.update(X&Y)\n",
    "print(s)\n",
    "x=set(X^Y)\n",
    "print(x)"
   ]
  }
 ],
 "metadata": {
  "kernelspec": {
   "display_name": "Python 3",
   "language": "python",
   "name": "python3"
  },
  "language_info": {
   "codemirror_mode": {
    "name": "ipython",
    "version": 3
   },
   "file_extension": ".py",
   "mimetype": "text/x-python",
   "name": "python",
   "nbconvert_exporter": "python",
   "pygments_lexer": "ipython3",
   "version": "3.11.9"
  }
 },
 "nbformat": 4,
 "nbformat_minor": 5
}
