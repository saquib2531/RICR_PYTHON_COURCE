{
 "cells": [
  {
   "cell_type": "code",
   "execution_count": 1,
   "id": "dd8380ad",
   "metadata": {},
   "outputs": [],
   "source": [
    "fruit_prices = {'apple': 30, 'banana': 10, 'cherry': 25} "
   ]
  },
  {
   "cell_type": "markdown",
   "id": "b28bba34",
   "metadata": {},
   "source": [
    "\n",
    "Q1: Write a Python program to update the price of 'apple' to 35 and 'banana' \n",
    "to 12 in the given dictionary. \n",
    "Output: {'apple': 35, 'banana': 12, 'cherry': 25} "
   ]
  },
  {
   "cell_type": "code",
   "execution_count": 3,
   "id": "7b5002f5",
   "metadata": {},
   "outputs": [
    {
     "name": "stdout",
     "output_type": "stream",
     "text": [
      "{'apple': 35, 'banana': 12, 'cherry': 25}\n"
     ]
    }
   ],
   "source": [
    "fruit_prices['apple']=35\n",
    "fruit_prices['banana']=12\n",
    "print(fruit_prices)"
   ]
  },
  {
   "cell_type": "markdown",
   "id": "fc459d5d",
   "metadata": {},
   "source": [
    "Q2: Write a Python program to delete the key 'cherry' from the given \n",
    "dictionary and print the updated dictionary and removed value. \n",
    "Output: {'apple': 35, 'banana': 12} \n",
    "25 "
   ]
  },
  {
   "cell_type": "code",
   "execution_count": 4,
   "id": "4bc90f3a",
   "metadata": {},
   "outputs": [
    {
     "name": "stdout",
     "output_type": "stream",
     "text": [
      "{'apple': 35, 'banana': 12}\n"
     ]
    }
   ],
   "source": [
    "fruit_prices.pop('cherry')\n",
    "print(fruit_prices)"
   ]
  },
  {
   "cell_type": "markdown",
   "id": "8b92b24a",
   "metadata": {},
   "source": [
    "Q3: Write a Python program to remove the last key-value pair from the given \n",
    "dictionary and print the removed pair. \n",
    "Output: ('banana', 12) "
   ]
  },
  {
   "cell_type": "code",
   "execution_count": 1,
   "id": "58a08ce4",
   "metadata": {},
   "outputs": [
    {
     "name": "stdout",
     "output_type": "stream",
     "text": [
      "['apple', 35, 'banana', 12]\n"
     ]
    }
   ],
   "source": [
    "fruit_prices={'apple': 35, 'banana': 12}\n",
    "x=[]\n",
    "for k,v in fruit_prices.items():\n",
    "    x.append(k)\n",
    "    x.append(v)\n",
    "print(x)\n"
   ]
  },
  {
   "cell_type": "code",
   "execution_count": null,
   "id": "88e0add7",
   "metadata": {},
   "outputs": [
    {
     "name": "stdout",
     "output_type": "stream",
     "text": [
      "banana\n"
     ]
    }
   ],
   "source": [
    "fruit_prices={'apple': 35, 'banana': 12}\n",
    "x=list(fruit_prices.copy())\n",
    "for k,v in fruit_prices.items():\n",
    "    if k==x[-1]:\n",
    "        \n",
    "        \n"
   ]
  },
  {
   "cell_type": "code",
   "execution_count": 2,
   "id": "edfd2f88",
   "metadata": {},
   "outputs": [
    {
     "name": "stdout",
     "output_type": "stream",
     "text": [
      "('banana', 12)\n"
     ]
    }
   ],
   "source": [
    "fruit_prices={'apple': 35, 'banana': 12}\n",
    "x=fruit_prices.copy()\n",
    "x=list(x)\n",
    "z=list()\n",
    "for i in range(-1,len(x)-1):\n",
    "    if i == -1:\n",
    "        y=fruit_prices.pop(x[i])\n",
    "        z.append(x[i])\n",
    "        z.append(y)\n",
    "print(tuple(z))"
   ]
  },
  {
   "cell_type": "markdown",
   "id": "d64843c1",
   "metadata": {},
   "source": [
    "Q4: Write a Python program to create a shallow copy of the given dictionary \n",
    "and name it copied_prices and print both dictionaries. "
   ]
  },
  {
   "cell_type": "code",
   "execution_count": 15,
   "id": "3d6a45f1",
   "metadata": {},
   "outputs": [
    {
     "name": "stdout",
     "output_type": "stream",
     "text": [
      "{'apple': 30, 'banana': 10, 'cherry': 25}\n",
      "{'apple': 30, 'banana': 10, 'cherry': 25}\n"
     ]
    }
   ],
   "source": [
    "fruit_prices = {'apple': 30, 'banana': 10, 'cherry': 25} \n",
    "copied_price=fruit_prices\n",
    "print(fruit_prices)\n",
    "print(copied_price)"
   ]
  },
  {
   "cell_type": "markdown",
   "id": "bf8b2e92",
   "metadata": {},
   "source": [
    "Q5: Write a Python program to create and print all possible combinations of \n",
    "characters, where each character is taken from a different key of a dictionary. \n",
    "Example dictionary: {'A': ['x', 'y'], 'B': ['1', '2']} \n",
    "Expected Output: \n",
    "x1   \n",
    "x2   \n",
    "y1   \n",
    "y2 "
   ]
  },
  {
   "cell_type": "code",
   "execution_count": 6,
   "id": "ca3d444b",
   "metadata": {},
   "outputs": [
    {
     "name": "stdout",
     "output_type": "stream",
     "text": [
      "x1\n",
      "x2\n",
      "y1\n",
      "y2\n"
     ]
    }
   ],
   "source": [
    "x={'A': ['x', 'y'], 'B': ['1', '2']} \n",
    "a=x['A']\n",
    "b=x['B']\n",
    "for i in a:\n",
    "    for j in b:\n",
    "        print(i+j)"
   ]
  },
  {
   "cell_type": "code",
   "execution_count": null,
   "id": "7b6e6a44",
   "metadata": {},
   "outputs": [
    {
     "name": "stdout",
     "output_type": "stream",
     "text": [
      "x1\n",
      "x2\n",
      "y1\n",
      "y2\n"
     ]
    }
   ],
   "source": [
    "x={'A': ['x', 'y'], 'B': ['1', '2']} \n",
    "z=[]\n",
    "for k,v in x.items():\n",
    "    z+=v\n",
    "for i in range(0,len(z)//2):\n",
    "   for j in range(len(z)//2,len(z)):\n",
    "       print(z[i]+z[j])"
   ]
  },
  {
   "cell_type": "code",
   "execution_count": 83,
   "id": "9d7e5020",
   "metadata": {},
   "outputs": [
    {
     "name": "stdout",
     "output_type": "stream",
     "text": [
      "x1\n",
      "x2\n",
      "y1\n",
      "y2\n"
     ]
    }
   ],
   "source": [
    "x={'A': ['x', 'y'], 'B': ['1', '2']} \n",
    "y=[]\n",
    "for k,v in x.items():\n",
    "    y.append(v)\n",
    "for i in range(len(y)):\n",
    "    if i==0:\n",
    "        a=y[i]\n",
    "    elif i==1:\n",
    "        b=y[i]\n",
    "for i in range(len(a)):\n",
    "    print(a[0]+b[i])\n",
    "for j in range(len(b)):\n",
    "    print(a[1]+b[j])\n",
    "    "
   ]
  },
  {
   "cell_type": "markdown",
   "id": "7e097144",
   "metadata": {},
   "source": [
    "Q6: Write a Python program to add values of the same key from a list of \n",
    "dictionaries. \n",
    "Example list: [{'item': 'pen', 'amount': 100}, {'item': 'pencil', 'amount': 200}, \n",
    "{'item': 'pen', 'amount': 150}] \n",
    "Expected Output: {'pen': 250, 'pencil': 200} "
   ]
  },
  {
   "cell_type": "code",
   "execution_count": 12,
   "id": "e8c85136",
   "metadata": {},
   "outputs": [
    {
     "name": "stdout",
     "output_type": "stream",
     "text": [
      "{'pen': 250, 'pencil': 200}\n"
     ]
    }
   ],
   "source": [
    "x=[{'item': 'pen', 'amount': 100}, {'item': 'pencil', 'amount': 200}, {'item': 'pen', 'amount': 150}] \n",
    "d=dict()\n",
    "for i in x:\n",
    "    k=i['item']\n",
    "    v=i['amount']\n",
    "    if k not in d:\n",
    "        d[k]=v\n",
    "    else:\n",
    "        d[k]+=v\n",
    "print(d)\n",
    "    \n"
   ]
  },
  {
   "cell_type": "markdown",
   "id": "092d02b8",
   "metadata": {},
   "source": [
    "Q7: Write a Python program to count how many times each letter appears in a \n",
    "given string and store it in a dictionary. \n",
    "Sample string: 'datascience' \n",
    "Expected Output: {'d': 1, 'a': 2, 't': 1, 's': 1, 'c': 2, 'i': 1, 'e': 2, 'n': 1} "
   ]
  },
  {
   "cell_type": "code",
   "execution_count": 115,
   "id": "c902c5ea",
   "metadata": {},
   "outputs": [
    {
     "name": "stdout",
     "output_type": "stream",
     "text": [
      "{'d': 1, 's': 2, 't': 1, 'a': 1, 'c': 2, 'i': 1, 'e': 2, 'n': 1}\n"
     ]
    }
   ],
   "source": [
    "n=input()\n",
    "d={i:n.count(i) for i in n}\n",
    "print(d)"
   ]
  },
  {
   "cell_type": "code",
   "execution_count": 116,
   "id": "a43b6269",
   "metadata": {},
   "outputs": [
    {
     "name": "stdout",
     "output_type": "stream",
     "text": [
      "{'d': 1, 'a': 2, 't': 1, 's': 1, 'c': 2, 'i': 1, 'e': 2, 'n': 1}\n"
     ]
    }
   ],
   "source": [
    "n=input()\n",
    "d={}\n",
    "for i in n:\n",
    "    d[i]=n.count(i)\n",
    "print(d)"
   ]
  },
  {
   "cell_type": "markdown",
   "id": "b8bab0d5",
   "metadata": {},
   "source": [
    "Q8: Write a Python program to create a dictionary from two lists. If the same \n",
    "value appears for different keys, keep it as a set. \n",
    "Sample lists: ['Section-A', 'Section-B', 'Section-C', 'Section-D'], [5, 6, 6, 7] \n",
    "Expected Output: {'Section-A': {5}, 'Section-B': {6}, 'Section-C': {6}, 'Section-D': \n",
    "{7}} "
   ]
  },
  {
   "cell_type": "code",
   "execution_count": 132,
   "id": "721746d0",
   "metadata": {},
   "outputs": [
    {
     "name": "stdout",
     "output_type": "stream",
     "text": [
      "{'Section-A': 5, 'Section-B': 6, 'Section-C': 6, 'Section-D': 7}\n"
     ]
    }
   ],
   "source": [
    "x=dict.fromkeys(['Section-A','Section-B', 'Section-C', 'Section-D'])\n",
    "x['Section-A']=5\n",
    "x['Section-B']=6\n",
    "x['Section-C']=6\n",
    "x['Section-D']=7\n",
    "print(x)"
   ]
  },
  {
   "cell_type": "markdown",
   "id": "1a453272",
   "metadata": {},
   "source": [
    "Q9: Write a Python program to group a list of (key, value) pairs into a \n",
    "dictionary where each key maps to a list of values. \n",
    "Original list: [('apple', 1), ('banana', 2), ('apple', 3), ('banana', 4), ('cherry', 1)] \n",
    "Expected Output: {'apple': [1, 3], 'banana': [2, 4], 'cherry': [1]} "
   ]
  },
  {
   "cell_type": "code",
   "execution_count": null,
   "id": "695a8c88",
   "metadata": {},
   "outputs": [
    {
     "name": "stdout",
     "output_type": "stream",
     "text": [
      "{'apple': [1, 3], 'banana': [2, 4], 'cherry': [1]}\n"
     ]
    }
   ],
   "source": [
    "x=[('apple', 1), ('banana', 2), ('apple', 3), ('banana', 4), ('cherry', 1)] \n",
    "d=dict()\n",
    "for i in x:\n",
    "    k=i[0]\n",
    "    v=i[1]\n",
    "    if k  not in d:\n",
    "        l=[]\n",
    "        l.append(v)\n",
    "        d[k]=l\n",
    "    else:\n",
    "        l=[]\n",
    "        l.append(v)\n",
    "        d[k]+=l\n",
    "print(d)       "
   ]
  },
  {
   "cell_type": "code",
   "execution_count": 30,
   "id": "e041ad7f",
   "metadata": {},
   "outputs": [
    {
     "name": "stdout",
     "output_type": "stream",
     "text": [
      "{'apple': [1, 3], 'banana': [2, 4], 'cherry': [1]}\n"
     ]
    }
   ],
   "source": [
    "x=[('apple', 1), ('banana', 2), ('apple', 3), ('banana', 4), ('cherry', 1)] \n",
    "d=dict()\n",
    "for i in x:\n",
    "    k=i[0]\n",
    "    v=i[1]\n",
    "    if k  not in d:\n",
    "        d[k]=[v]\n",
    "    else:\n",
    "        d[k].append(v)\n",
    "print(d)"
   ]
  },
  {
   "cell_type": "markdown",
   "id": "1d590fe0",
   "metadata": {},
   "source": [
    "Q10: Write a Python program to get all values of a specific key from a list of \n",
    "dictionaries. \n",
    "List of dictionaries: [{'English': 85, 'Hindi': 80}, {'English': 88, 'Hindi': 90}, \n",
    "{'English': 92, 'Hindi': 84}] \n",
    "Input key: Hindi \n",
    "Expected Output: [80, 90, 84] "
   ]
  },
  {
   "cell_type": "code",
   "execution_count": null,
   "id": "a941d30a",
   "metadata": {},
   "outputs": [
    {
     "name": "stdout",
     "output_type": "stream",
     "text": [
      "[80, 90, 84]\n"
     ]
    }
   ],
   "source": [
    "x=[{'English': 85, 'Hindi': 80}, {'English': 88, 'Hindi': 90}, {'English': 92, 'Hindi': 84}] \n",
    "l=[]\n",
    "n=input()\n",
    "for i in x:\n",
    "    for k,v in i.items():\n",
    "        if k==n:\n",
    "            l.append(v)\n",
    "print(l)"
   ]
  },
  {
   "cell_type": "markdown",
   "id": "83d57614",
   "metadata": {},
   "source": [
    "Q11: Write a Python program to find all the keys in a dictionary where the \n",
    "length of the value list is equal to a given number. \n",
    "Dictionary: {'One': [5], 'Two': [6, 7], 'Three': [7, 8, 9, 10], 'Four': [1], 'Five': [3, 4, \n",
    "5, 6], 'Six': [2]} \n",
    "Input: 1 \n",
    "Expected Output: ['One', 'Four', 'Six'] "
   ]
  },
  {
   "cell_type": "code",
   "execution_count": 49,
   "id": "26e81671",
   "metadata": {},
   "outputs": [
    {
     "name": "stdout",
     "output_type": "stream",
     "text": [
      "['One', 'Four', 'Six']\n"
     ]
    }
   ],
   "source": [
    "n=int(input())\n",
    "l=[]\n",
    "x={'One': [5], 'Two': [6, 7], 'Three': [7, 8, 9, 10], 'Four': [1], 'Five': [3, 4, 5, 6], 'Six': [2]} \n",
    "for k,v in x.items():\n",
    "    if len(v)==n:\n",
    "        l.append(k)\n",
    "print(l)\n"
   ]
  },
  {
   "cell_type": "markdown",
   "id": "8bc6c161",
   "metadata": {},
   "source": [
    "Q12: Write a Python program to find the key with the maximum and minimum \n",
    "value in a dictionary. \n",
    "Dictionary: {'Alice': 45, 'Bob': 50, 'Charlie': 48, 'Daisy': 42} \n",
    "Expected Output: ('Bob', 'Daisy')"
   ]
  },
  {
   "cell_type": "code",
   "execution_count": null,
   "id": "388dbbc2",
   "metadata": {},
   "outputs": [
    {
     "name": "stdout",
     "output_type": "stream",
     "text": [
      "('Bob', 'Daisy')\n"
     ]
    }
   ],
   "source": [
    "x={'Alice': 45, 'Bob': 50, 'Charlie': 48, 'Daisy': 41} \n",
    "mxk='Alice'\n",
    "mnk='Alice'\n",
    "mnv=x['Alice']\n",
    "mxv=x['Alice']\n",
    "n=list()\n",
    "for k,v in x.items():\n",
    "    if v>mxv:\n",
    "        mxv=v  \n",
    "        mxk=k \n",
    "    elif v<mnv:\n",
    "        mnv=v\n",
    "        mnk=k   \n",
    "print((mxk,mnk))"
   ]
  },
  {
   "cell_type": "code",
   "execution_count": 45,
   "id": "4bced975",
   "metadata": {},
   "outputs": [
    {
     "name": "stdout",
     "output_type": "stream",
     "text": [
      "('Bob', 'Daisy')\n"
     ]
    }
   ],
   "source": [
    "x={'Alice': 45, 'Bob': 50, 'Charlie': 48, 'Daisy': 41} \n",
    "mx=max(x.values())\n",
    "mn=min(x.values())\n",
    "mxk='Alice'\n",
    "mnk='Alice'\n",
    "for k,v in x.items():\n",
    "    if v==mx:\n",
    "        mxk=k\n",
    "    elif v==mn:\n",
    "        mnk=k\n",
    "print((mxk,mnk))"
   ]
  }
 ],
 "metadata": {
  "kernelspec": {
   "display_name": "Python 3",
   "language": "python",
   "name": "python3"
  },
  "language_info": {
   "codemirror_mode": {
    "name": "ipython",
    "version": 3
   },
   "file_extension": ".py",
   "mimetype": "text/x-python",
   "name": "python",
   "nbconvert_exporter": "python",
   "pygments_lexer": "ipython3",
   "version": "3.11.9"
  }
 },
 "nbformat": 4,
 "nbformat_minor": 5
}
