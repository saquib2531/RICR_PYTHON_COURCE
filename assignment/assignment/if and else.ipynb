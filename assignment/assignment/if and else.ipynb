{
 "cells": [
  {
   "cell_type": "markdown",
   "metadata": {},
   "source": [
    "\n",
    "\n",
    "Q1. W.A.P  to check if a number is positive, negative. \n",
    "\n",
    "Input: enter a number : 8 \n",
    "Output : positive  \n",
    "\n",
    "\n",
    "  "
   ]
  },
  {
   "cell_type": "code",
   "execution_count": null,
   "metadata": {},
   "outputs": [],
   "source": [
    "x=int(input(\"Enter the number\"))\n",
    "if x<0 :\n",
    "    print(\"Negative\")\n",
    "elif x>0 :\n",
    "    print(\"Positive\")\n",
    "else:\n",
    "    print(\"Zero\")"
   ]
  },
  {
   "cell_type": "markdown",
   "metadata": {},
   "source": [
    "Q2 W.A.P that takes 2 numbers input from user check their sum is greater then 10 or not . if greater than 10 print ‘greater’ otherwise print ‘less’ \n",
    "\n",
    "Input \n",
    "Enter 1 number: 3 \n",
    "Enter 2 number : 5 \n",
    "Output: \n",
    "less  \n",
    "\n"
   ]
  },
  {
   "cell_type": "code",
   "execution_count": null,
   "metadata": {},
   "outputs": [],
   "source": [
    "x=int(input(\"Enter first no.\"))\n",
    "y=int(input(\"Enter second no\"))\n",
    "z=x+y\n",
    "if z>10 :\n",
    "    print(\"greater\")\n",
    "else:\n",
    "    print(\"less\")"
   ]
  },
  {
   "cell_type": "markdown",
   "metadata": {},
   "source": [
    "Q3. WAP that takes 2 numbers from user and print largest number \n",
    "\n",
    "Input \n",
    "Enter a number: 78 \n",
    "Enter a number:  98 \n",
    "Output: \n",
    "98 \n",
    "\n"
   ]
  },
  {
   "cell_type": "code",
   "execution_count": null,
   "metadata": {},
   "outputs": [],
   "source": [
    "x=int(input(\"Enter first no.\"))\n",
    "y=int(input(\"Enter second no\"))\n",
    "if x>y :\n",
    "    print(x)\n",
    "else:\n",
    "    print(y)"
   ]
  },
  {
   "cell_type": "markdown",
   "metadata": {},
   "source": [
    "Q4. W.A.P  that takes a number check  it is divisible by 5 or not \n",
    "\n",
    "Input  \n",
    "Enter a number : 90 \n",
    "Output: \n",
    "Divisible  \n",
    "\n",
    "\n"
   ]
  },
  {
   "cell_type": "code",
   "execution_count": null,
   "metadata": {},
   "outputs": [],
   "source": [
    "x=int(input(\"Enter the no.\"))\n",
    "if x%5==0 :\n",
    "    print(\"divisible by 5\")\n",
    "else:\n",
    "    print(\"not divisible by 5\")"
   ]
  },
  {
   "cell_type": "markdown",
   "metadata": {},
   "source": [
    "Q5. w.a.p that 4 angles checks whether it can form quadrilateral or not. \n",
    "Sum of all four angle is 360  \n",
    "\n"
   ]
  },
  {
   "cell_type": "code",
   "execution_count": null,
   "metadata": {},
   "outputs": [],
   "source": [
    "a=int(input(\"Enter angleA\"))\n",
    "b=int(input(\"Enter angleB\"))\n",
    "c=int(input(\"Enter angleC\"))\n",
    "d=int(input(\"Enter angleD\"))\n",
    "z=a+b+c+d\n",
    "if z==360 :\n",
    "    print(\"valid input\")\n",
    "else:\n",
    "    print(\"not valid input\")"
   ]
  },
  {
   "cell_type": "markdown",
   "metadata": {},
   "source": [
    "Q6.  Determine the season based on month taken from user \n",
    "\n",
    "3 <= month <= 5; print \"Spring\" \n",
    "6 <= month <= 8 then print \"Summer\" \n",
    "9 <= month <= 11, then print \"Autumn\" \n",
    "12<= moth <= 2 then print \"Winter\" "
   ]
  },
  {
   "cell_type": "code",
   "execution_count": null,
   "metadata": {},
   "outputs": [],
   "source": [
    "m=int(input(\"Enter month in no.\"))\n",
    "if 3<=m and m<=5 :\n",
    "    print(\"Spring\")\n",
    "elif 6<=m and m<=8 :\n",
    "    print(\"Summer\") \n",
    "elif 9<=m and m<=11 :\n",
    "    print(\"Autumn\") \n",
    "else:\n",
    "    print(\"Winter\")"
   ]
  },
  {
   "cell_type": "markdown",
   "metadata": {},
   "source": [
    "If else Assignment - 2\n",
    "Q1. W.A.P to check if a number is positive, negative, or zero.\n",
    "Input: enter a number: 8\n",
    "Output: positive"
   ]
  },
  {
   "cell_type": "code",
   "execution_count": null,
   "metadata": {},
   "outputs": [],
   "source": [
    "x=int(input(\"Enter the number\"))\n",
    "if x>0 :\n",
    "    print(\"positive\")\n",
    "elif x<0:\n",
    "    print(\"Negative\")\n",
    "else :\n",
    "    print(\"Zero\")"
   ]
  },
  {
   "cell_type": "markdown",
   "metadata": {},
   "source": [
    "Q2. W.A.P to check if a number is even or odd.\n",
    "Input: 9\n",
    "Output: odd"
   ]
  },
  {
   "cell_type": "code",
   "execution_count": null,
   "metadata": {},
   "outputs": [],
   "source": [
    "x=int(input(\"Enter the number\"))\n",
    "if x%2 == 0:\n",
    "    print(\"even no\")\n",
    "else:\n",
    "    print(\"odd no.\")"
   ]
  },
  {
   "cell_type": "markdown",
   "metadata": {},
   "source": [
    "Q3. W.A.P to Determine grade based on marks.\n",
    "marks >= 90: Grade A\n",
    " marks >= 80: Grade: B\n",
    " Marks >= 70: Grade C\n",
    " marks >= 60: Grade: D\n",
    " otherwise,\n",
    " Grade: E\n",
    "Test Case 1:\n",
    "Input: 50\n",
    "Output: E\n",
    "21 September 2024"
   ]
  },
  {
   "cell_type": "code",
   "execution_count": null,
   "metadata": {},
   "outputs": [],
   "source": [
    "x=int(input(\"Enter percentage\"))\n",
    "if 90<=x<=100 :\n",
    "    print(\"GradeA\")\n",
    "elif x>=80 :\n",
    "    print(\"GradeB\")\n",
    "elif x>=70 :\n",
    "    print(\"GradeC\")\n",
    "elif x>=60 :\n",
    "    print(\"GradeD\")\n",
    "else:\n",
    "    print(\"GradeE\")"
   ]
  },
  {
   "cell_type": "markdown",
   "metadata": {},
   "source": [
    "Q4. W.A.P to Check if a number is divisible by both 3 and 5.\n",
    "Input: 15 \n",
    "Output: Divisible"
   ]
  },
  {
   "cell_type": "code",
   "execution_count": null,
   "metadata": {},
   "outputs": [],
   "source": [
    "x=int(input(\"Enter the no.\"))\n",
    "y=x%3\n",
    "z=x%5\n",
    "l=y==0 and z==0\n",
    "if l  :\n",
    "    print(\"divisible by both\")\n",
    "elif y==0 :\n",
    "    print(\"Divisible by 3\")\n",
    "elif z==0 :\n",
    "    print(\"Divisible by 3\")\n",
    "else:\n",
    "    print(\"not divisible by 3 or 5\")\n"
   ]
  },
  {
   "cell_type": "markdown",
   "metadata": {},
   "source": [
    "Q5. program to determine if a person is a child, teenager, adult, or \n",
    "senior based on their age\n",
    "age <= 12:\"Child\"\n",
    "age <= 19: \"Teenager\" \n",
    "age <= 64: \"Adult\" \n",
    "age > = 64:\"Senior\"\n",
    "Test Case 1:\n",
    "Enter age: 8\n",
    "Child\n",
    "Test Case 2:\n",
    "Enter age: 16\n",
    "Teenager"
   ]
  },
  {
   "cell_type": "code",
   "execution_count": null,
   "metadata": {},
   "outputs": [],
   "source": [
    "age= int(input(\"Enter your age\"))\n",
    "if age>= 64 :\n",
    "    print(\"senior\")\n",
    "elif age>=20 :\n",
    "    print(\"Adult\")\n",
    "elif age>=12 :\n",
    "    print(\"teenager\")\n",
    "else:\n",
    "    print(\"child\")"
   ]
  },
  {
   "cell_type": "markdown",
   "metadata": {},
   "source": [
    "Q6. Check if a year is a leap year.\n",
    "Test case 1:\n",
    "Input: 1600\n",
    "Output: Leap year\n",
    "Test Case 2:\n",
    "Input: 1900\n",
    "Output: Not a leap year."
   ]
  },
  {
   "cell_type": "code",
   "execution_count": null,
   "metadata": {},
   "outputs": [],
   "source": [
    "x=int(input(\"Enter year\"))\n",
    "if (x%4==0 and x%100!=0) or x%400==0:\n",
    "    print(\"leap year\")\n",
    "else:\n",
    "    print(\"not leap year\")"
   ]
  },
  {
   "cell_type": "markdown",
   "metadata": {},
   "source": [
    "Q7. W.A.P to find the largest of three numbers. \n",
    "Input: enter 3 number: 78, 56, 100\n",
    "Output: greatest out of 3: 100\n"
   ]
  },
  {
   "cell_type": "code",
   "execution_count": null,
   "metadata": {},
   "outputs": [],
   "source": [
    "x=int(input(\"Enter the first no.\"))\n",
    "y=int(input(\"Enter the second no.\"))\n",
    "z=int(input(\"Enter the third no.\"))\n",
    "if x>y and x>z :\n",
    "    print(x)\n",
    "elif y>x and y>z :\n",
    "    print(y)\n",
    "elif z>x and z>y :\n",
    "    print(z)"
   ]
  },
  {
   "cell_type": "markdown",
   "metadata": {},
   "source": [
    "Q8. W.A.P Determine if a triangle is equilateral, isosceles, or scalene.\n",
    "Input: enter 3 sides of a triangle 7, 7, 1 \n",
    "Output: isosceles\n"
   ]
  },
  {
   "cell_type": "code",
   "execution_count": null,
   "metadata": {},
   "outputs": [],
   "source": [
    "a=int(input(\"Enter sideA\"))\n",
    "b=int(input(\"Enter sideB\"))\n",
    "c=int(input(\"Enter sideC\"))\n",
    "if a==b==c :\n",
    "    print(\"equilateral triangle\")\n",
    "elif a==b!=c or a==c!=b or c==b!=a :\n",
    "    print(\"isosceles triangle\")\n",
    "else:\n",
    "    print(\"scalene triange\")"
   ]
  },
  {
   "cell_type": "markdown",
   "metadata": {},
   "source": [
    "Q9. Determine if a year is a century year.\n",
    "Example of century year 1800, 2000, 2100 many more…"
   ]
  },
  {
   "cell_type": "code",
   "execution_count": null,
   "metadata": {},
   "outputs": [],
   "source": [
    "x=int(input(\"Enter year\"))\n",
    "if x%100==0 :\n",
    "    print(\"Century year\")\n",
    "else:\n",
    "    print(\"not century\")"
   ]
  },
  {
   "cell_type": "markdown",
   "metadata": {},
   "source": [
    "Q10.Write a Python program that accepts three numbers and check \n",
    "All numbers are equal or not.\n"
   ]
  },
  {
   "cell_type": "code",
   "execution_count": null,
   "metadata": {},
   "outputs": [],
   "source": [
    "x=int(input(\"Enter 1st number\"))\n",
    "y=int(input(\"Enter 2nd number\"))\n",
    "z=int(input(\"Enter 3rd number\"))\n",
    "if x==y==z :\n",
    "    print(\"all are equal\")\n",
    "else:\n",
    "    print(\"No. are not equal\")"
   ]
  },
  {
   "cell_type": "markdown",
   "metadata": {},
   "source": [
    "Q10. Write a python program which takes x and y as a input and \n",
    "determine the quadrant of a point in a coordinate system as per the \n",
    "given information below:\n",
    " x> 0, y> 0: first quadrant\n",
    " x < 0, y > 0: second quadrant\n",
    " x< 0, y<0: third quadrant\n",
    " x> 0, y < 0: fourth quadrant\n",
    "Test Case 1:\n",
    "Input: x = 8 and y = -1\n",
    "Output: fourth quadrant"
   ]
  },
  {
   "cell_type": "code",
   "execution_count": null,
   "metadata": {},
   "outputs": [],
   "source": [
    "x=int(input(\"Enter value of x\"))\n",
    "y=int(input(\"Enter value of y\"))\n",
    "if x>0 and y>0 :\n",
    "    print(\"First quadrant\")\n",
    "elif x<0 and y>0:\n",
    "    print(\"second quadrant\")\n",
    "elif x<0 and y<0 :\n",
    "    print(\"third quadrant\")\n",
    "elif x>0 and y<0 :\n",
    "    print(\"fourth quadrant\")"
   ]
  },
  {
   "cell_type": "markdown",
   "metadata": {},
   "source": [
    "Q12. Write a python program which takes three input and check if \n",
    "third number is within a given range between first and second \n",
    "number.\n",
    "INPUT: LOWER RANGE: 10\n",
    " UPPER RANGE: 89\n",
    " INPUT_NUMBER: 77\n",
    "OUTPUT: ‘YES’"
   ]
  },
  {
   "cell_type": "code",
   "execution_count": null,
   "metadata": {},
   "outputs": [],
   "source": [
    "a=int(input(\"Enter 1st value\"))\n",
    "b=int(input(\"Enter 2nd value\"))\n",
    "c=int(input(\"Enter 3rd value\"))\n",
    "if b<a<c :\n",
    "    print(\"upper case =\",c,\"lowr case =\",b)\n",
    "elif c<a<b:\n",
    "    print(\"upper case =\",b,\"lowr case =\",c)\n",
    "elif a<b<c :\n",
    "    print(\"upper case =\",c,\"lowr case =\",a)\n",
    "elif c<b<a :\n",
    "    print(\"upper case =\",a,\"lowr case =\",c)\n",
    "elif b<c<a :\n",
    "    print(\"upper case =\",a,\"lowr case =\",b)\n",
    "elif a<c<b :\n",
    "    print(\"upper case =\",b,\"lowr case =\",a)"
   ]
  },
  {
   "cell_type": "markdown",
   "metadata": {},
   "source": [
    "Q13. Input 3 angle and determine if they form a triangle or not."
   ]
  },
  {
   "cell_type": "code",
   "execution_count": null,
   "metadata": {},
   "outputs": [],
   "source": [
    "a=int(input(\"Enter 1st side\"))\n",
    "b=int(input(\"Enter 2nd side\"))\n",
    "c=int(input(\"Enter 3rd side\"))\n",
    "if a+b>c and b+c>a and c+a>b :\n",
    "    print(\"valid\")\n",
    "else :\n",
    "    print(\"not valid\")\n",
    "    "
   ]
  },
  {
   "cell_type": "markdown",
   "metadata": {},
   "source": [
    "Q14. program that reads 2 numbers and an arithmetic operator like \n",
    "+, -, *, /, % and display the computed result:\n",
    "Example \n",
    "Enter the 1 number: 5\n",
    "Enter the 2 number: 2\n",
    "Enter the operator: *\n",
    "Output: 10.0"
   ]
  },
  {
   "cell_type": "code",
   "execution_count": null,
   "metadata": {},
   "outputs": [],
   "source": [
    "x=float(input(\"Enter first value\"))\n",
    "z=(input(\"enter operator = +,-,*,/,%\"))\n",
    "y=float(input(\"Enter second value\"))\n",
    "if z== \"+\" :\n",
    "    print(x+y)\n",
    "elif z=='-' :\n",
    "    print(x-y)\n",
    "elif z=='*' :\n",
    "    print(x*y)\n",
    "elif z=='/' :\n",
    "    print(x/y)\n",
    "elif z=='%' :\n",
    "    print(x%y)\n",
    "else:\n",
    "    print(\"not valid operator\")"
   ]
  },
  {
   "cell_type": "markdown",
   "metadata": {},
   "source": [
    "Q15. Write a python program to input cost price and selling price of a \n",
    "product and check profit or loss. Also calculate total profit or loss \n",
    "using if else.\n",
    "Test case 1:\n",
    "input cost price: 1000\n",
    "Input selling price: 1500\n",
    "Output:\n",
    "Profit is 500"
   ]
  },
  {
   "cell_type": "code",
   "execution_count": null,
   "metadata": {},
   "outputs": [],
   "source": [
    "cp=float(input(\"Enter cost price\"))\n",
    "sp=float(input(\"Selling price\"))\n",
    "z=sp -cp\n",
    "if sp>cp:\n",
    "    print(\"profit\")\n",
    "    print(\"profit amout :\",z)\n",
    "else:\n",
    "    print(\"loss\")\n",
    "    print(\"loss amount :\", -z)"
   ]
  },
  {
   "cell_type": "markdown",
   "metadata": {},
   "source": [
    "Q16. Write a python program to input week number and print week \n",
    "day.\n",
    "Test case 1:\n",
    "Input: 1\n",
    "Output: Monday\n",
    "Test case 2:\n",
    "Input: 7\n",
    "Output: Sunday"
   ]
  },
  {
   "cell_type": "code",
   "execution_count": null,
   "metadata": {},
   "outputs": [],
   "source": [
    "w=int(input(\"Enter week no. from 1 to 7\"))\n",
    "if w==1:\n",
    "    print(\"Monday\")\n",
    "elif w==2:\n",
    "    print(\"Tuesday\")\n",
    "elif w==3:\n",
    "    print(\"Wednesday\")\n",
    "elif w==4:\n",
    "    print(\"Thrusday\")\n",
    "elif w==5:\n",
    "    print(\"Friday\")\n",
    "elif w==6:\n",
    "    print(\"Saturday\")\n",
    "elif w==7:\n",
    "    print(\"Sunday\")"
   ]
  },
  {
   "cell_type": "markdown",
   "metadata": {},
   "source": [
    "Q17. Write a python program that accepts three numbers from the \n",
    "user and check if numbers are in \"increasing\" or \"decreasing\" order.\n",
    "Test Case 1:\n",
    "Input: 10,17,20\n",
    "Output: Increasing Order.\n",
    "Test case 2:\n",
    "Input: 90,69,36\n",
    "Output: Decreasing Order"
   ]
  },
  {
   "cell_type": "code",
   "execution_count": null,
   "metadata": {},
   "outputs": [],
   "source": [
    "x=int(input(\"Enter 1st number\"))\n",
    "y=int(input(\"Enter 2nd number\"))\n",
    "z=int(input(\"Enter 3rd number\"))\n",
    "if x>y>z :\n",
    "    print(\"Decreasing order\")\n",
    "elif x<y<z :\n",
    "    print(\"Increasing order\")\n",
    "else:\n",
    "    print(\"not in order \")"
   ]
  },
  {
   "cell_type": "markdown",
   "metadata": {},
   "source": [
    "Q18. While purchasing certain items, a discount of 10% is offered if \n",
    "the quantity purchased is more than 100. If quantity and price per \n",
    "item are input through the keyboard, write a program to calculate \n",
    "the total expenses."
   ]
  },
  {
   "cell_type": "code",
   "execution_count": null,
   "metadata": {},
   "outputs": [],
   "source": [
    "x=int(input(\"product 1st price\"))\n",
    "y=int(input(\"product 2nd price\"))\n",
    "z=int(input(\"product 3rd price\"))\n",
    "t= x+y+z\n",
    "\n",
    "tp=t-(t*(10/100))\n",
    "\n",
    "\n",
    "if t>=100:\n",
    "    print(\"10% discount applied\")\n",
    "    print(\"payable price :\", tp)\n",
    "else:\n",
    "    print(\"no discount applied\")"
   ]
  },
  {
   "cell_type": "markdown",
   "metadata": {},
   "source": [
    "Q19. Write a program to input electricity unit charges and calculate \n",
    "total electricity bill \n",
    "according to the given condition:\n",
    "• For first 50 units Rs. 0.50/unit\n",
    "• For next 150 units Rs. 0.75/unit\n",
    "• For next 250 units Rs. 1.20/unit\n",
    "• For unit above 450 Rs. 1.50/unit\n",
    "• An additional surcharge of 20% is added to the bill\n",
    "Test Case 1:\n",
    "Input: 100 units\n",
    "Expected Output:\n",
    "Rs. 62.5\n",
    "With Surcharge: Rs. 75\n",
    "Test Case 3:\n",
    "Input: 300 units\n",
    "Expected Output:\n",
    "Rs. 257.5\n",
    "With Surcharge: Rs. 309"
   ]
  },
  {
   "cell_type": "code",
   "execution_count": null,
   "metadata": {},
   "outputs": [],
   "source": [
    "u=float(input(\"Enter unit of electricity \"))\n",
    "if u<=50 :\n",
    "    a=u*0.50\n",
    "    sa=a+(a*(20/100))\n",
    "    print(\"Electricity bill :\", a)\n",
    "    print(\"with surcharge :\", sa)\n",
    "elif 50<u and u<=200 :\n",
    "    b=(50*0.50)+((u-50)*0.75)\n",
    "    sb=b+(b*(20/100))\n",
    "    print(\"Electricity bill :\", b)\n",
    "    print(\"with surcharge :\", sb)\n",
    "elif 200<u and u<=450 :\n",
    "    c=(50*0.50)+(150*0.75)+((u-200)*1.20)\n",
    "    sc=c+(c*(20/100))\n",
    "    print(\"Electricity bill :\", c)\n",
    "    print(\"with surcharge :\", sc)\n",
    "else:\n",
    "    d=(50*0.50)+(150*0.75)+(250*1.50)+((u-450)*1.50)\n",
    "    sd=d+(d*(20/100))\n",
    "    print(\"Electricity bill :\", d)\n",
    "    print(\"with surcharge :\", sd)"
   ]
  },
  {
   "cell_type": "code",
   "execution_count": null,
   "metadata": {},
   "outputs": [],
   "source": [
    "u=int(input(\"Enter the no of units \"))\n",
    "if u<=50:\n",
    "    c=u*0.50\n",
    "    print(\"Electricity bill :\", c)\n",
    "elif u<=200:\n",
    "    c=25+(u-50)*0.75\n",
    "elif u<=450:\n",
    "    c=25+150*0.75+(u-200)*1.20\n",
    "else:\n",
    "    c=25+150*0.75+250*1.20+(u-450)*1.50\n",
    "\n",
    "final_amt=c+c*0.2\n",
    "print(final_amt)"
   ]
  },
  {
   "cell_type": "markdown",
   "metadata": {},
   "source": [
    "Q20. Write a python program which accept the kilometres covered \n",
    "and calculate the bill according to the following criteria:\n",
    "First 10 Km -> Rs11/km\n",
    "Next 90Km -> Rs 10/km\n",
    "After that -> Rs9/km\n",
    "Test Case 1: \n",
    "Input: 50\n",
    "Output: 510\n",
    "Test Case 2:\n",
    "Input: 100\n",
    "Output: 1010"
   ]
  },
  {
   "cell_type": "code",
   "execution_count": null,
   "metadata": {},
   "outputs": [],
   "source": [
    "x=float(input('Enter kilometer'))\n",
    "if  x<=10:\n",
    "    a=x*11\n",
    "    print('bill =',a)\n",
    "elif x>10 and x<=100 :\n",
    "    b=a+((x-10)*10)\n",
    "    print('bill = ', b)\n",
    "else:\n",
    "    c=a+b+((x-100)*9)\n",
    "    print('bill =',c)\n",
    "    "
   ]
  }
 ],
 "metadata": {
  "kernelspec": {
   "display_name": "Python 3",
   "language": "python",
   "name": "python3"
  },
  "language_info": {
   "codemirror_mode": {
    "name": "ipython",
    "version": 3
   },
   "file_extension": ".py",
   "mimetype": "text/x-python",
   "name": "python",
   "nbconvert_exporter": "python",
   "pygments_lexer": "ipython3",
   "version": "3.11.9"
  }
 },
 "nbformat": 4,
 "nbformat_minor": 2
}
