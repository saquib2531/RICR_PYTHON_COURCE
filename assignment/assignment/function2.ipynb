{
 "cells": [
  {
   "cell_type": "markdown",
   "id": "9973802d",
   "metadata": {},
   "source": [
    "Q1.  Write a Python function to find the maximum of three numbers "
   ]
  },
  {
   "cell_type": "code",
   "execution_count": 4,
   "id": "ec5bc2df",
   "metadata": {},
   "outputs": [
    {
     "name": "stdout",
     "output_type": "stream",
     "text": [
      "4\n"
     ]
    }
   ],
   "source": [
    "def max_three_no(a,b,c):\n",
    "    maximum=a\n",
    "    if a>b and a>c:\n",
    "        maximum=a\n",
    "    elif b>a and b>c:\n",
    "        maximum=b\n",
    "    else:\n",
    "        maximum=c\n",
    "    return maximum\n",
    "# a=int(input())\n",
    "# b=int(input())\n",
    "# c=int(input())\n",
    "# print(max_three_no(a,b,c))\n",
    "print(max_three_no(int(input()),int(input()),int(input())))"
   ]
  },
  {
   "cell_type": "markdown",
   "id": "ec736199",
   "metadata": {},
   "source": [
    "Q2. Write a Python function that takes a number as a parameter and checks \n",
    "whether the number is prime or not. "
   ]
  },
  {
   "cell_type": "code",
   "execution_count": 60,
   "id": "c168494d",
   "metadata": {},
   "outputs": [
    {
     "name": "stdout",
     "output_type": "stream",
     "text": [
      "prime no.\n"
     ]
    }
   ],
   "source": [
    "def prime_check(n):\n",
    "    if n<=1:\n",
    "        print('not prime')\n",
    "        return\n",
    "    for i in range(2,n):\n",
    "\n",
    "        if n%i==0:\n",
    "            print('not prime')\n",
    "            break\n",
    "    else:\n",
    "        print('prime no.')\n",
    "    \n",
    "prime_check(int(input()))"
   ]
  },
  {
   "cell_type": "markdown",
   "id": "30b990c1",
   "metadata": {},
   "source": [
    "Q3. Write a Python function that takes a list and returns a new list with distinct \n",
    "elements from the first list. \n",
    "Sample List: [1,2,3,3,3,3,4,5] \n",
    "Unique List: [1, 2, 3, 4, 5] "
   ]
  },
  {
   "cell_type": "code",
   "execution_count": 72,
   "id": "e0e6571b",
   "metadata": {},
   "outputs": [
    {
     "data": {
      "text/plain": [
       "[1, 2, 3, 4, 5, 6]"
      ]
     },
     "execution_count": 72,
     "metadata": {},
     "output_type": "execute_result"
    }
   ],
   "source": [
    "\n",
    "def uniqu_element_list(x):\n",
    "   \n",
    "    for i in x:\n",
    "        x=set(x)\n",
    "        x=list(x)\n",
    "    return x\n",
    "m=[1,2,3,3,3,3,4,5,6]\n",
    "uniqu_element_list(m)"
   ]
  },
  {
   "cell_type": "markdown",
   "id": "b4203d7e",
   "metadata": {},
   "source": [
    "Q4. Write a function intreverse(n) that takes as input a positive integer n and \n",
    "returns the integer obtained by reversing the digits in n. \n",
    "Here are some examples of how your function should work. \n",
    "Test Case 1: \n",
    "Input: intreverse(546) \n",
    "Output: 645 \n",
    "Test Case 2: \n",
    "Input: intreverse(3) \n",
    "Output: 3 "
   ]
  },
  {
   "cell_type": "code",
   "execution_count": 85,
   "id": "97703db3",
   "metadata": {},
   "outputs": [
    {
     "name": "stdout",
     "output_type": "stream",
     "text": [
      "321\n"
     ]
    }
   ],
   "source": [
    "n=int(input())\n",
    "x=0\n",
    "for i in range(3):\n",
    "    r=n%10\n",
    "    x=x*10+r\n",
    "    n//=10\n",
    "print(x)"
   ]
  },
  {
   "cell_type": "markdown",
   "id": "1601b4e1",
   "metadata": {},
   "source": [
    "Q5. Write a function sumprimes(l) that takes as input a list of integers l and \n",
    "retuns the sum of all the prime numbers in l. \n",
    "Here are some examples to show how your function should work. \n",
    "Test Cases: \n",
    "Input: sumprimes([3,3,1,13]) \n",
    "Output: 19 \n",
    "Input: sumprimes([2,4,6,9,11]) \n",
    "Output: 13 "
   ]
  },
  {
   "cell_type": "code",
   "execution_count": null,
   "id": "81d901e5",
   "metadata": {},
   "outputs": [
    {
     "data": {
      "text/plain": [
       "2"
      ]
     },
     "execution_count": 91,
     "metadata": {},
     "output_type": "execute_result"
    }
   ],
   "source": [
    "def sumprimes(l):\n",
    "    m=0\n",
    "    for i in l:\n",
    "        if i>=2:\n",
    "            for j in range(2,i):\n",
    "                if i%j==0:\n",
    "                    continue\n",
    "            else:\n",
    "                m+=i\n",
    "    return m\n",
    "x=[2,4,6,9,11]\n",
    "sumprimes(x)\n"
   ]
  },
  {
   "cell_type": "markdown",
   "id": "6e1cf50f",
   "metadata": {},
   "source": [
    "Q6. Write a function that calculates the nth terms in an arithmetic sequence, \n",
    "which takes first term, common difference and value of n as an argument and \n",
    "default value of n is 10. \n",
    "an=a+(n−1)d"
   ]
  },
  {
   "cell_type": "code",
   "execution_count": null,
   "id": "450c2f28",
   "metadata": {},
   "outputs": [
    {
     "data": {
      "text/plain": [
       "10"
      ]
     },
     "execution_count": 7,
     "metadata": {},
     "output_type": "execute_result"
    }
   ],
   "source": [
    "def nt_term(x):\n",
    "    a=x[0]\n",
    "    d=x[1]-x[0]\n",
    "    n=10\n",
    "    return (a+(n-1)*d)\n",
    "lst=[1,2,3,4,5,6,7,8,9,10]\n",
    "nt_term(lst)"
   ]
  },
  {
   "cell_type": "markdown",
   "id": "b38c30bd",
   "metadata": {},
   "source": [
    "Q7. Create a function that returns the list of factorials of each element of a given list as argument. \n",
    "Test Case 1: \n",
    "Input as argument: [2,3,4,5] \n",
    "Ouput: [2, 6, 24, 120] "
   ]
  },
  {
   "cell_type": "code",
   "execution_count": null,
   "id": "538a40c5",
   "metadata": {},
   "outputs": [
    {
     "data": {
      "text/plain": [
       "[2, 6, 24, 120]"
      ]
     },
     "execution_count": 10,
     "metadata": {},
     "output_type": "execute_result"
    }
   ],
   "source": [
    "def factorial(n):\n",
    "    lst1=[]\n",
    "    for i in n:\n",
    "        p=1\n",
    "        for j in range(1,i+1):\n",
    "            p*=j\n",
    "        lst1.append(p)\n",
    "    return lst1\n",
    "x=[2,3,4,5] \n",
    "factorial(x)"
   ]
  },
  {
   "cell_type": "markdown",
   "id": "cbf71191",
   "metadata": {},
   "source": [
    "Q8. Write a python function that accepts a list of numbers and returns the sum \n",
    "of the squares of only the prime numbers."
   ]
  },
  {
   "cell_type": "code",
   "execution_count": 12,
   "id": "69b59849",
   "metadata": {},
   "outputs": [
    {
     "data": {
      "text/plain": [
       "38"
      ]
     },
     "execution_count": 12,
     "metadata": {},
     "output_type": "execute_result"
    }
   ],
   "source": [
    "def sum_prime(n):\n",
    "    s=0\n",
    "    for i in n:\n",
    "        if i<1:\n",
    "            pass\n",
    "        for j in range(2,i):\n",
    "            if i%j==0:\n",
    "                break\n",
    "        else:\n",
    "            s+=i**2\n",
    "    return s\n",
    "x=[2,3,4,5] \n",
    "sum_prime(x)"
   ]
  },
  {
   "cell_type": "markdown",
   "id": "d62bfb4e",
   "metadata": {},
   "source": [
    "Q9. Write a function list_intersection(list1, list2) that returns a list of elements that are present in both list1 and list2 "
   ]
  },
  {
   "cell_type": "code",
   "execution_count": 6,
   "id": "4cd67afa",
   "metadata": {},
   "outputs": [
    {
     "data": {
      "text/plain": [
       "{1, 3, 5, 7, 9}"
      ]
     },
     "execution_count": 6,
     "metadata": {},
     "output_type": "execute_result"
    }
   ],
   "source": [
    "def list_intersection(list1, list2):\n",
    "    list1=set(list1)\n",
    "    list2=set(list2)\n",
    "    x=list1 & list2\n",
    "    return x\n",
    "a=[1,2,3,4,5,6,7,8,9,10]\n",
    "b=[1,3,5,7,9,11,13,15,17]\n",
    "list_intersection(a,b)"
   ]
  },
  {
   "cell_type": "markdown",
   "id": "9d3e8889",
   "metadata": {},
   "source": [
    "Q10. Write a Python function that takes a list of strings as input and returns a tuple containing the shortest and longest word from the list, in that order. If there are multiple words of the same shortest or longest length, return the first shortest/longest word found.  \n",
    "Input:- \n",
    "words = [\"apple\", \"banana\", \"kiwi\", \"grapefruit\", \"orange\"] \n",
    "Output:- ('kiwi', 'grapefruit')"
   ]
  },
  {
   "cell_type": "code",
   "execution_count": 7,
   "id": "9e241165",
   "metadata": {},
   "outputs": [
    {
     "ename": "TypeError",
     "evalue": "'int' object is not iterable",
     "output_type": "error",
     "traceback": [
      "\u001b[1;31m---------------------------------------------------------------------------\u001b[0m",
      "\u001b[1;31mTypeError\u001b[0m                                 Traceback (most recent call last)",
      "Cell \u001b[1;32mIn[7], line 7\u001b[0m\n\u001b[0;32m      5\u001b[0m     \u001b[38;5;28;01mreturn\u001b[39;00m (x,y)\n\u001b[0;32m      6\u001b[0m lst\u001b[38;5;241m=\u001b[39m[\u001b[38;5;124m\"\u001b[39m\u001b[38;5;124mapple\u001b[39m\u001b[38;5;124m\"\u001b[39m, \u001b[38;5;124m\"\u001b[39m\u001b[38;5;124mbanana\u001b[39m\u001b[38;5;124m\"\u001b[39m, \u001b[38;5;124m\"\u001b[39m\u001b[38;5;124mkiwi\u001b[39m\u001b[38;5;124m\"\u001b[39m, \u001b[38;5;124m\"\u001b[39m\u001b[38;5;124mgrapefruit\u001b[39m\u001b[38;5;124m\"\u001b[39m, \u001b[38;5;124m\"\u001b[39m\u001b[38;5;124morange\u001b[39m\u001b[38;5;124m\"\u001b[39m] \n\u001b[1;32m----> 7\u001b[0m \u001b[43mshortesg_longest\u001b[49m\u001b[43m(\u001b[49m\u001b[43mlst\u001b[49m\u001b[43m)\u001b[49m\n",
      "Cell \u001b[1;32mIn[7], line 3\u001b[0m, in \u001b[0;36mshortesg_longest\u001b[1;34m(n)\u001b[0m\n\u001b[0;32m      1\u001b[0m \u001b[38;5;28;01mdef\u001b[39;00m\u001b[38;5;250m \u001b[39m\u001b[38;5;21mshortesg_longest\u001b[39m(n):\n\u001b[0;32m      2\u001b[0m     \u001b[38;5;28;01mfor\u001b[39;00m i \u001b[38;5;129;01min\u001b[39;00m n:\n\u001b[1;32m----> 3\u001b[0m         x\u001b[38;5;241m=\u001b[39m\u001b[38;5;28;43mmin\u001b[39;49m\u001b[43m(\u001b[49m\u001b[38;5;28;43mlen\u001b[39;49m\u001b[43m(\u001b[49m\u001b[43mi\u001b[49m\u001b[43m)\u001b[49m\u001b[43m)\u001b[49m\n\u001b[0;32m      4\u001b[0m         y\u001b[38;5;241m=\u001b[39m\u001b[38;5;28mmax\u001b[39m(\u001b[38;5;28mlen\u001b[39m(i))\n\u001b[0;32m      5\u001b[0m     \u001b[38;5;28;01mreturn\u001b[39;00m (x,y)\n",
      "\u001b[1;31mTypeError\u001b[0m: 'int' object is not iterable"
     ]
    }
   ],
   "source": [
    "def shortesg_longest(n):\n",
    "    for i in n:\n",
    "        x=min(len(i))\n",
    "        y=max(len(i))\n",
    "    return (x,y)\n",
    "lst=[\"apple\", \"banana\", \"kiwi\", \"grapefruit\", \"orange\"] \n",
    "shortesg_longest(lst)\n"
   ]
  }
 ],
 "metadata": {
  "kernelspec": {
   "display_name": "Python 3",
   "language": "python",
   "name": "python3"
  },
  "language_info": {
   "codemirror_mode": {
    "name": "ipython",
    "version": 3
   },
   "file_extension": ".py",
   "mimetype": "text/x-python",
   "name": "python",
   "nbconvert_exporter": "python",
   "pygments_lexer": "ipython3",
   "version": "3.11.9"
  }
 },
 "nbformat": 4,
 "nbformat_minor": 5
}
