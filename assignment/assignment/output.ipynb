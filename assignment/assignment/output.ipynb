{
 "cells": [
  {
   "cell_type": "markdown",
   "metadata": {},
   "source": [
    "Q1. WAP to accept integer input from user. "
   ]
  },
  {
   "cell_type": "code",
   "execution_count": null,
   "metadata": {},
   "outputs": [],
   "source": [
    "x= int(input())"
   ]
  },
  {
   "cell_type": "markdown",
   "metadata": {},
   "source": [
    "Q2. Write a python program to take input from user age then increase his/her age by 10 years. \n",
    "Sample Input : enter you age : 12 \n",
    "Sample Output : 22 "
   ]
  },
  {
   "cell_type": "code",
   "execution_count": null,
   "metadata": {},
   "outputs": [],
   "source": [
    "x=float(input('enter your age'))\n",
    "y=x+10\n",
    "print(y)"
   ]
  },
  {
   "cell_type": "markdown",
   "metadata": {},
   "source": [
    "Q3.  Take input user name ,  age  , height  then print output as “my name is (your name),my age is (you age), and height is (your age)” . \n",
    "sample Input: Enter you name : alice \n",
    "Enter your age : 10 \n",
    "Enter your height : 3.5 \n",
    "Sample Output: \n",
    "My name is alice, my age is 10 and height is 3.5 "
   ]
  },
  {
   "cell_type": "code",
   "execution_count": null,
   "metadata": {},
   "outputs": [],
   "source": [
    "x=input(\"enter your name\")\n",
    "y=int(input('enter your age'))\n",
    "z=float(input('enter your hight'))\n",
    "print('My name is',x,',','My age is',y,'and hight is',z)"
   ]
  },
  {
   "cell_type": "markdown",
   "metadata": {},
   "source": [
    "Q4. How do you input a floating-point number from the user and store it in a variable called price? "
   ]
  },
  {
   "cell_type": "code",
   "execution_count": null,
   "metadata": {},
   "outputs": [],
   "source": [
    "x=float(input('enter the no.'))\n",
    "Price=x\n",
    "print(id(x),id(Price))"
   ]
  },
  {
   "cell_type": "markdown",
   "metadata": {},
   "source": [
    "Q5. Write a Python program that asks the user for two numbers and then prints their sum \n",
    "\n",
    "Sample Input : Enter 1st numbers : 3 \n",
    "               Enter 2nd number :4 \n",
    "Sampel Output : 7 "
   ]
  },
  {
   "cell_type": "code",
   "execution_count": null,
   "metadata": {},
   "outputs": [],
   "source": [
    "x=int(input('enter first no.'))\n",
    "y=int(input('enter second no.'))\n",
    "print(x+y)"
   ]
  },
  {
   "cell_type": "markdown",
   "metadata": {},
   "source": [
    "Q6.Write a Python program that asks the user for their age and then prints a message stating their age. "
   ]
  },
  {
   "cell_type": "code",
   "execution_count": 1,
   "metadata": {},
   "outputs": [
    {
     "name": "stdout",
     "output_type": "stream",
     "text": [
      "age is 5\n"
     ]
    }
   ],
   "source": [
    "x=int(input(\"enter your age\"))\n",
    "print('age is', x)"
   ]
  },
  {
   "cell_type": "markdown",
   "metadata": {},
   "source": [
    "Q7.Write a Python program that asks the user for the radius of a circle and then prints the area of the circle. "
   ]
  },
  {
   "cell_type": "code",
   "execution_count": null,
   "metadata": {},
   "outputs": [],
   "source": [
    "x=float(input(\"Enter radius\"))\n",
    "y=3.14*(x**2)\n",
    "print(y)"
   ]
  },
  {
   "cell_type": "markdown",
   "metadata": {},
   "source": [
    "Q8. How do you take a string input from the user and convert it to an integer? \n",
    "\n",
    "Sample input : ‘234’ \n",
    "Sample output : 234 "
   ]
  },
  {
   "cell_type": "code",
   "execution_count": null,
   "metadata": {},
   "outputs": [],
   "source": [
    "x=input(\"enter the value\")\n",
    "y=int(x)\n",
    "print(y)"
   ]
  },
  {
   "cell_type": "markdown",
   "metadata": {},
   "source": [
    "Q9. Write a Python program that asks the user for their height in feet and converts it to meters (1 foot = 0.3048 meters)."
   ]
  },
  {
   "cell_type": "code",
   "execution_count": null,
   "metadata": {},
   "outputs": [],
   "source": [
    "x=float(input(\"Enter hight in feet\"))\n",
    "y=x*0.3048\n",
    "print(y,\"meters\")"
   ]
  },
  {
   "cell_type": "markdown",
   "metadata": {},
   "source": [
    "Q10. Write a Python program that takes three inputs from the user: two integers and one floating-point number. Your task is to print these three values in the following format: \n",
    "Integer1  Integer2  Float_Number \n",
    "\n",
    "Sample Input: \n",
    "Enter the first integer: 5 \n",
    "Enter the second integer: 10 \n",
    "Enter the floating-point number: 3.14 \n",
    "Sample output: \n",
    "5 10 3.14 "
   ]
  },
  {
   "cell_type": "code",
   "execution_count": null,
   "metadata": {},
   "outputs": [],
   "source": [
    "x=int(input(\"Enter first integer\"))\n",
    "y=int(input(\"Enter second integer\"))\n",
    "z=float(input(\"Enter the floating-point number\"))\n",
    "print(x,y,z)"
   ]
  }
 ],
 "metadata": {
  "kernelspec": {
   "display_name": "Python 3",
   "language": "python",
   "name": "python3"
  },
  "language_info": {
   "codemirror_mode": {
    "name": "ipython",
    "version": 3
   },
   "file_extension": ".py",
   "mimetype": "text/x-python",
   "name": "python",
   "nbconvert_exporter": "python",
   "pygments_lexer": "ipython3",
   "version": "3.11.9"
  }
 },
 "nbformat": 4,
 "nbformat_minor": 2
}
