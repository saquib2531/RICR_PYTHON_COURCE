{
 "cells": [
  {
   "cell_type": "markdown",
   "id": "cb05b894",
   "metadata": {},
   "source": [
    "Q1. Write a program to multiply all the float element in the set. set should be \n",
    "taken as input such that a set should contain integer float and string element. \n",
    "Input:- Enter a set:-{5, 'abc', 7, 8.0, 'def', '10.0', 11, 12.0, '123', 14.0} \n",
    "Output:- 1344.0 "
   ]
  },
  {
   "cell_type": "code",
   "execution_count": 1,
   "id": "67e4051e",
   "metadata": {},
   "outputs": [
    {
     "name": "stdout",
     "output_type": "stream",
     "text": [
      "1344.0\n"
     ]
    }
   ],
   "source": [
    "n=set(eval(input('enter a set')))\n",
    "\n",
    "x=1\n",
    "for i in n:\n",
    "    if type(i)==float:\n",
    "        x*=i\n",
    "print(x)"
   ]
  },
  {
   "cell_type": "markdown",
   "id": "8ff313b6",
   "metadata": {},
   "source": [
    "Q2. Write a program to add all the integer element in a set and set should be \n",
    "taken as input such that a set should contain integer float and string element. \n",
    "Input:- Enter a set:-{5, 'abc', 7, 8.0, 'def', '10.0', 11, 12.0, '123', 14.0} \n",
    "Output:- 23 "
   ]
  },
  {
   "cell_type": "code",
   "execution_count": 3,
   "id": "ee55cbbe",
   "metadata": {},
   "outputs": [
    {
     "name": "stdout",
     "output_type": "stream",
     "text": [
      "23\n"
     ]
    }
   ],
   "source": [
    "n=set(eval(input('enter a set')))\n",
    "\n",
    "x=0\n",
    "for i in n:\n",
    "    if type(i)==int:\n",
    "        x+=i\n",
    "print(x)"
   ]
  },
  {
   "cell_type": "markdown",
   "id": "284d0115",
   "metadata": {},
   "source": [
    "Q3. Write a Python program to convert all the even number of a set into a \n",
    "string and set should be user defined. \n",
    "Input:- Enter a set:-{5, 6, 7, 8, 9, 10, 11, 12, 13, 14} \n",
    "Output:- {'10', 5, 7, 9, 11, 13, '14', '6', '8', '12'} "
   ]
  },
  {
   "cell_type": "code",
   "execution_count": 5,
   "id": "afb3fdb0",
   "metadata": {},
   "outputs": [
    {
     "name": "stdout",
     "output_type": "stream",
     "text": [
      "{'10', '6', 5, 7, 9, '12', 11, 13, '8', '14'}\n"
     ]
    }
   ],
   "source": [
    "n=set(eval(input('enter a set')))\n",
    "x=set()\n",
    "for i in n:\n",
    "    if i%2==0:\n",
    "        x.add(str(i))\n",
    "    else:\n",
    "        x.add(i)\n",
    "print(x)"
   ]
  },
  {
   "cell_type": "markdown",
   "id": "645a3f76",
   "metadata": {},
   "source": [
    "Q4. Write a Python program to convert all the odd number of a set into a float \n",
    "and set should be user defined. \n",
    "Input:- Enter a set:-{5, 6, 7, 8, 9, 10, 11, 12, 13, 14} \n",
    "Output:-{5.0, 6, 7.0, 8, 9.0, 10, 11.0, 12, 13.0, 14} "
   ]
  },
  {
   "cell_type": "code",
   "execution_count": 6,
   "id": "39bbab58",
   "metadata": {},
   "outputs": [
    {
     "name": "stdout",
     "output_type": "stream",
     "text": [
      "{5.0, 6, 7.0, 8, 9.0, 10, 11.0, 12, 13.0, 14}\n"
     ]
    }
   ],
   "source": [
    "n=set(eval(input('enter a set')))\n",
    "x=set()\n",
    "for i in n:\n",
    "    if i%2!=0:\n",
    "        x.add(float(i))\n",
    "    else:\n",
    "        x.add(i)\n",
    "print(x)"
   ]
  },
  {
   "cell_type": "markdown",
   "id": "5ee9633d",
   "metadata": {},
   "source": [
    "Q5. Write a program to convert all the integer element of a set into float and \n",
    "the float element of a set into integer and set should be user defined \n",
    "Input:- {5.0, 6, 7.0, 8, 9.0, 10, 11.0, 12, 13.0, 14} \n",
    "Output:- {5, 6.0, 7, 8.0, 9, 10.0, 11, 12.0, 13, 14.0}"
   ]
  },
  {
   "cell_type": "code",
   "execution_count": 8,
   "id": "dfbb29e8",
   "metadata": {},
   "outputs": [
    {
     "name": "stdout",
     "output_type": "stream",
     "text": [
      "{5, 6.0, 7, 8.0, 9, 10.0, 11, 12.0, 13, 14.0}\n"
     ]
    }
   ],
   "source": [
    "n=set(eval(input('enter a set')))\n",
    "x=set()\n",
    "for i in n:\n",
    "    if type(i)==int:\n",
    "        x.add(float(i))\n",
    "    elif type(i)==float:\n",
    "        x.add(int(i))\n",
    "print(x)"
   ]
  }
 ],
 "metadata": {
  "kernelspec": {
   "display_name": "Python 3",
   "language": "python",
   "name": "python3"
  },
  "language_info": {
   "codemirror_mode": {
    "name": "ipython",
    "version": 3
   },
   "file_extension": ".py",
   "mimetype": "text/x-python",
   "name": "python",
   "nbconvert_exporter": "python",
   "pygments_lexer": "ipython3",
   "version": "3.11.9"
  }
 },
 "nbformat": 4,
 "nbformat_minor": 5
}
