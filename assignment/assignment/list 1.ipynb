{
 "cells": [
  {
   "cell_type": "markdown",
   "metadata": {},
   "source": [
    "Q1. Write a program which add the element 13 to the end of the list \n",
    "numbers = [10, 22, 35, 45, 53] after that Print the list. "
   ]
  },
  {
   "cell_type": "code",
   "execution_count": 1,
   "metadata": {},
   "outputs": [
    {
     "name": "stdout",
     "output_type": "stream",
     "text": [
      "[10, 22, 35, 45, 53, 13]\n"
     ]
    }
   ],
   "source": [
    "numbers = [10, 22, 35, 45, 53]\n",
    "numbers.append(13)\n",
    "print(numbers)"
   ]
  },
  {
   "cell_type": "markdown",
   "metadata": {},
   "source": [
    "Q2.  Write a program which insert the element 20 at index 2 in the \n",
    "list numbers = [5, 2, 6, 4, 9]. Print the list after inserting. "
   ]
  },
  {
   "cell_type": "code",
   "execution_count": 2,
   "metadata": {},
   "outputs": [
    {
     "name": "stdout",
     "output_type": "stream",
     "text": [
      "[5, 2, 20, 6, 4, 9]\n"
     ]
    }
   ],
   "source": [
    "numbers = [5, 2, 6, 4, 9]\n",
    "numbers.insert(2,20)\n",
    "print(numbers)"
   ]
  },
  {
   "cell_type": "markdown",
   "metadata": {},
   "source": [
    "Q3. If List1 = [1,2,3,4] and List2 = [8,6,7,5] then what should be the \n",
    "code for the output: [1,2,3,4,8,6,7,5] "
   ]
  },
  {
   "cell_type": "code",
   "execution_count": 3,
   "metadata": {},
   "outputs": [
    {
     "name": "stdout",
     "output_type": "stream",
     "text": [
      "[1, 2, 3, 4, 8, 6, 7, 5]\n"
     ]
    }
   ],
   "source": [
    "List1 = [1,2,3,4]\n",
    "List2 = [8,6,7,5]\n",
    "List1.extend(List2)\n",
    "print(List1)"
   ]
  },
  {
   "cell_type": "markdown",
   "metadata": {},
   "source": [
    "Q4. Delete the element at index 3 from the list numbers = [10, 2, 36, \n",
    "41, 5]. Print the list after deletion. "
   ]
  },
  {
   "cell_type": "code",
   "execution_count": 7,
   "metadata": {},
   "outputs": [
    {
     "name": "stdout",
     "output_type": "stream",
     "text": [
      "[10, 2, 36, 5]\n"
     ]
    }
   ],
   "source": [
    "numbers = [10, 2, 36, 41, 5]\n",
    "del numbers[3]\n",
    "print(numbers)"
   ]
  },
  {
   "cell_type": "markdown",
   "metadata": {},
   "source": [
    "Q5. Delete the element at index 4 from the list Lst = ['apple' , \n",
    "'banana' , 'orange' , 'kiwi' , 'guava']   and Print the list after deletion \n",
    "and also print that deleted element. "
   ]
  },
  {
   "cell_type": "code",
   "execution_count": 9,
   "metadata": {},
   "outputs": [
    {
     "name": "stdout",
     "output_type": "stream",
     "text": [
      "['apple', 'banana', 'orange', 'guava']\n",
      "kiwi\n"
     ]
    }
   ],
   "source": [
    "Lst = ['apple' , 'banana' , 'orange' , 'kiwi' , 'guava']\n",
    "a=Lst.pop(3)\n",
    "print(Lst)\n",
    "print(a)\n"
   ]
  },
  {
   "cell_type": "markdown",
   "metadata": {},
   "source": [
    "Q6. Remove the first occurrence of the element 3 from the list \n",
    "numbers = [1, 25, 3, 44, 33, 56]. Print the list after removing. "
   ]
  },
  {
   "cell_type": "code",
   "execution_count": 10,
   "metadata": {},
   "outputs": [
    {
     "name": "stdout",
     "output_type": "stream",
     "text": [
      "[1, 25, 44, 33, 56]\n"
     ]
    }
   ],
   "source": [
    "numbers = [1, 25, 3, 44, 33, 56]\n",
    "numbers.remove(3)\n",
    "print(numbers)"
   ]
  },
  {
   "cell_type": "markdown",
   "metadata": {},
   "source": [
    "Q7. Count the number of times the element 2 appears in the list Lst = \n",
    "[15, 2, 2, 3, 4, 2 ,7 ,8 ,45 ,2 ,2]. Print the count. "
   ]
  },
  {
   "cell_type": "code",
   "execution_count": 12,
   "metadata": {},
   "outputs": [
    {
     "name": "stdout",
     "output_type": "stream",
     "text": [
      "5\n"
     ]
    }
   ],
   "source": [
    "Lst = [15, 2, 2, 3, 4, 2 ,7 ,8 ,45 ,2 ,2]\n",
    "a=Lst.count(2)\n",
    "print(a)"
   ]
  },
  {
   "cell_type": "markdown",
   "metadata": {},
   "source": [
    "Q8. Write a program which prints the reverse list of the given list: \n",
    "Lst = [15, 22, 35, 24, 65] "
   ]
  },
  {
   "cell_type": "code",
   "execution_count": 14,
   "metadata": {},
   "outputs": [
    {
     "name": "stdout",
     "output_type": "stream",
     "text": [
      "[65, 24, 35, 22, 15]\n"
     ]
    }
   ],
   "source": [
    "Lst = [15, 22, 35, 24, 65]\n",
    "Lst.reverse()\n",
    "print(Lst)"
   ]
  },
  {
   "cell_type": "markdown",
   "metadata": {},
   "source": [
    "Q9. Write a program to which add the element 7 at the last of list Lst \n",
    "= [4, 2, 5, 1, 3, 6, 8, 10, 3, 5], then sort the list. Print the list after \n",
    "these operations. "
   ]
  },
  {
   "cell_type": "code",
   "execution_count": 15,
   "metadata": {},
   "outputs": [
    {
     "name": "stdout",
     "output_type": "stream",
     "text": [
      "[4, 2, 5, 1, 3, 6, 8, 10, 3, 5, 7]\n"
     ]
    }
   ],
   "source": [
    "Lst = [4, 2, 5, 1, 3, 6, 8, 10, 3, 5]\n",
    "Lst.append(7)\n",
    "print(Lst)"
   ]
  },
  {
   "cell_type": "markdown",
   "metadata": {},
   "source": [
    "Q10. Write a program which insert the element 10 at index 1 in the \n",
    "list Lst = [12, 24, 35, 24, 45], then remove the element 35. Print the \n",
    "list after these operations."
   ]
  },
  {
   "cell_type": "code",
   "execution_count": 16,
   "metadata": {},
   "outputs": [
    {
     "name": "stdout",
     "output_type": "stream",
     "text": [
      "[12, 10, 24, 24, 45]\n"
     ]
    }
   ],
   "source": [
    "Lst = [12, 24, 35, 24, 45]\n",
    "Lst.insert(1,10)\n",
    "Lst.remove(35)\n",
    "print(Lst)"
   ]
  }
 ],
 "metadata": {
  "kernelspec": {
   "display_name": "Python 3",
   "language": "python",
   "name": "python3"
  },
  "language_info": {
   "codemirror_mode": {
    "name": "ipython",
    "version": 3
   },
   "file_extension": ".py",
   "mimetype": "text/x-python",
   "name": "python",
   "nbconvert_exporter": "python",
   "pygments_lexer": "ipython3",
   "version": "3.11.9"
  }
 },
 "nbformat": 4,
 "nbformat_minor": 2
}
