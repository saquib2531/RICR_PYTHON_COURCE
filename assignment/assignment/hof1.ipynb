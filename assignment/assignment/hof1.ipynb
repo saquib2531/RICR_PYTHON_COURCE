{
 "cells": [
  {
   "cell_type": "markdown",
   "id": "97891fad",
   "metadata": {},
   "source": [
    "Q1. Write a lambda function that computes the maximum element from two numbers.  \n",
    "Test Case 1: \n",
    "Arguments: 4,5 \n",
    "Output: 5 "
   ]
  },
  {
   "cell_type": "code",
   "execution_count": 11,
   "id": "f545887d",
   "metadata": {},
   "outputs": [
    {
     "name": "stdout",
     "output_type": "stream",
     "text": [
      "5\n"
     ]
    }
   ],
   "source": [
    "x=lambda a,b:a if a>b else b\n",
    "print(x(4,5))"
   ]
  },
  {
   "cell_type": "markdown",
   "id": "5d75105a",
   "metadata": {},
   "source": [
    "Q2. Write a lambda function that computes the sum of two numbers. \n",
    "If the second number is not provided, use a default value of 10. \n",
    "Test Case 1: \n",
    "Argument: 5 \n",
    "Output: 15 \n",
    "Test Case 2: \n",
    "Arguments: 5,6 \n",
    "Output: 11 "
   ]
  },
  {
   "cell_type": "code",
   "execution_count": 14,
   "id": "a0234f24",
   "metadata": {},
   "outputs": [
    {
     "name": "stdout",
     "output_type": "stream",
     "text": [
      "11\n"
     ]
    }
   ],
   "source": [
    "a=5\n",
    "b=6\n",
    "x=lambda a,b=10:a+b\n",
    "print(x(a,b))"
   ]
  },
  {
   "cell_type": "markdown",
   "id": "244ced31",
   "metadata": {},
   "source": [
    "Q3. Write a lambda function to check if the input is a list. If it's not a \n",
    "list, return \"Invalid Input, otherwise return the length of that list. \n",
    "Test Case 1: \n",
    "Argument: [1, 2, 3, 4, 5] \n",
    "Output: 5 \n",
    "Test Case 2: \n",
    "Argument: ‘String’ \n",
    "Output: Invalid Input. \n"
   ]
  },
  {
   "cell_type": "code",
   "execution_count": 2,
   "id": "3901cb12",
   "metadata": {},
   "outputs": [
    {
     "name": "stdout",
     "output_type": "stream",
     "text": [
      "5\n",
      "invalid input\n"
     ]
    }
   ],
   "source": [
    "x=lambda x:len(x) if type(x)==list else 'invalid input'\n",
    "y=[1, 2, 3, 4, 5] \n",
    "print(x(y))\n",
    "z='String'\n",
    "print(x(z))\n"
   ]
  },
  {
   "cell_type": "markdown",
   "id": "17eff474",
   "metadata": {},
   "source": [
    "Q4. Write a lambda function that checks if a string is a palindrome, ignoring case sensitivity. \n",
    "Note: Without using if-else concept. \n",
    "Test Case 1: \n",
    "Argument: ‘Racecar’ \n",
    "Output: True \n",
    "Test Case 2: \n",
    "Argument: ‘this’ \n",
    "Output: False. "
   ]
  },
  {
   "cell_type": "code",
   "execution_count": 15,
   "id": "f68af79b",
   "metadata": {},
   "outputs": [
    {
     "name": "stdout",
     "output_type": "stream",
     "text": [
      "False\n"
     ]
    }
   ],
   "source": [
    "a=input().lower()\n",
    "x=lambda x:True if x[0]==x[-1] else False\n",
    "print(x(a))\n"
   ]
  },
  {
   "cell_type": "markdown",
   "id": "2122df96",
   "metadata": {},
   "source": [
    "Q5. Write a lambda function that checks if a number is a multiple of both 3 and 5. If true, return \"Multiple of 3 and 5\", otherwise return \"Not a multiple\" \n",
    "Test Case 1: \n",
    "Argument: 15 \n",
    "Output: \"Multiple of 3 and 5\" \n",
    "Test Case 2: \n",
    "Argument: 10 \n",
    "Output: \"Not a multiple\" "
   ]
  },
  {
   "cell_type": "code",
   "execution_count": 4,
   "id": "5f6c1bbd",
   "metadata": {},
   "outputs": [
    {
     "name": "stdout",
     "output_type": "stream",
     "text": [
      "not Multiple of 3 and 5\n"
     ]
    }
   ],
   "source": [
    "a=int(input())\n",
    "x=lambda x:\"Multiple of 3 and 5\" if x%3==0 and x%5==0 else \"not Multiple of 3 and 5\"\n",
    "print(x(a))"
   ]
  },
  {
   "cell_type": "markdown",
   "id": "b4e90cc6",
   "metadata": {},
   "source": [
    "Q6. Write a python program to generate a lambda function to check whether a given string is a number or not. (True or False) \n",
    "The output is: \n",
    "Example of Expected Answer: \n",
    "Is the given (3687) a number: True \n",
    "Is the given (Python) a number: False "
   ]
  },
  {
   "cell_type": "code",
   "execution_count": null,
   "id": "23021503",
   "metadata": {},
   "outputs": [
    {
     "data": {
      "text/plain": [
       "<function __main__.check.<locals>.<lambda>(i)>"
      ]
     },
     "execution_count": 14,
     "metadata": {},
     "output_type": "execute_result"
    }
   ],
   "source": [
    "a='Is the given (3687) a number'\n",
    "b='Is the given (Python) a number'\n",
    "a=a.split(' ')\n",
    "b=b.split(' ')"
   ]
  },
  {
   "cell_type": "markdown",
   "id": "5faea9a2",
   "metadata": {},
   "source": [
    "Q7. Create a higher order function which accept a lamda function and a list, then compute the sum of all the negative numbers of that list. \n",
    "Note: Without using sum function. \n",
    "Lst = [1, -2, 3, -4, -5] \n",
    "Expected Output: -11 "
   ]
  },
  {
   "cell_type": "code",
   "execution_count": 15,
   "id": "6c917894",
   "metadata": {},
   "outputs": [
    {
     "data": {
      "text/plain": [
       "-11"
      ]
     },
     "execution_count": 15,
     "metadata": {},
     "output_type": "execute_result"
    }
   ],
   "source": [
    "def sum(n):\n",
    "    s=0\n",
    "    for i in n:\n",
    "        if i<0:\n",
    "            s+=i\n",
    "    return s\n",
    "lst=[1, -2, 3, -4, -5]\n",
    "sum(lst)"
   ]
  },
  {
   "cell_type": "markdown",
   "id": "a19abf90",
   "metadata": {},
   "source": [
    "Q8. Write a Python program to reverse strings in a given list of string values using lambda. \n",
    "Test Case: \n",
    "Input: ['Red', 'Green', 'Blue', 'White', 'Black'] \n",
    "Output: ['deR', 'neerG', 'eulB', 'etihW', 'kcalB'] "
   ]
  },
  {
   "cell_type": "code",
   "execution_count": 22,
   "id": "98c949ea",
   "metadata": {},
   "outputs": [
    {
     "name": "stdout",
     "output_type": "stream",
     "text": [
      "['deR', 'neerG', 'eulB', 'etihW', 'kcalB']\n"
     ]
    }
   ],
   "source": [
    "y=['Red', 'Green', 'Blue', 'White', 'Black'] \n",
    "x=list(map(lambda x:x[-1:-len(x)-1:-1],y))\n",
    "print(x)"
   ]
  },
  {
   "cell_type": "markdown",
   "id": "201ff06b",
   "metadata": {},
   "source": [
    "Q9. Write a Python program to square and cube every number in a given list of integers using Lambda. \n",
    "Test Case: \n",
    "List: [1, 2, 3, 4, 5, 6, 7, 8, 9, 10] \n",
    "Output:  \n",
    "[1, 4, 9, 16, 25, 36, 49, 64, 81, 100] \n",
    "[1, 8, 27, 64, 125, 216, 343, 512, 729, 1000] "
   ]
  },
  {
   "cell_type": "code",
   "execution_count": 25,
   "id": "4f454b0c",
   "metadata": {},
   "outputs": [
    {
     "name": "stdout",
     "output_type": "stream",
     "text": [
      "[1, 8, 27, 64, 125, 216, 343, 512, 729, 1000]\n",
      "[1, 4, 9, 16, 25, 36, 49, 64, 81, 100]\n"
     ]
    }
   ],
   "source": [
    "lst=[1, 2, 3, 4, 5, 6, 7, 8, 9, 10] \n",
    "cube=list(map(lambda x:x**3,lst))\n",
    "square=list(map(lambda x:x**2,lst))\n",
    "print(cube)\n",
    "print(square)"
   ]
  },
  {
   "cell_type": "code",
   "execution_count": null,
   "id": "9e4d5f80",
   "metadata": {},
   "outputs": [
    {
     "name": "stdout",
     "output_type": "stream",
     "text": [
      "[1, 8, 27, 64, 125, 216, 343, 512, 729, 1000]\n",
      "[1, 4, 9, 16, 25, 36, 49, 64, 81, 100]\n"
     ]
    }
   ],
   "source": [
    "lst=[1, 2, 3, 4, 5, 6, 7, 8, 9, 10] \n",
    "def cube(n):\n",
    "    return n**3\n",
    "def square(n):\n",
    "    return n**2\n",
    "def transform(fun,seq):\n",
    "    lst1=[]\n",
    "    for i in seq:\n",
    "        lst1.append(fun(i))\n",
    "    return lst1\n",
    "print(transform(cube,lst))\n",
    "print(transform(square,lst))"
   ]
  },
  {
   "cell_type": "markdown",
   "id": "3046f68f",
   "metadata": {},
   "source": [
    "Q10. Write a Python program to remove None values from a given list using the lambda function. \n",
    "Test Case: \n",
    "Input: [12, 0, None, 23, None, -55, 234, 89, None, 0, 6, -12] \n",
    "Output: [12, 0, 23, -55, 234, 89, 0, 6, -12] \n",
    " "
   ]
  },
  {
   "cell_type": "code",
   "execution_count": 7,
   "id": "9d3a8ae2",
   "metadata": {},
   "outputs": [
    {
     "name": "stdout",
     "output_type": "stream",
     "text": [
      "[12, 0, 23, -55, 234, 89, 0, 6, -12]\n"
     ]
    }
   ],
   "source": [
    "lst=[12,0,None,23,None,-55,234,89,None,0,6,-12] \n",
    "x=list(filter(lambda x:type(x)==int,lst))\n",
    "print(x)"
   ]
  },
  {
   "cell_type": "markdown",
   "id": "3924cfa2",
   "metadata": {},
   "source": [
    "Q11. Use reduce function to find the sum of squares of the given list. \n",
    "Expected Output: 1172\n",
    "Lst = [1, 2, 3, 4]."
   ]
  },
  {
   "cell_type": "code",
   "execution_count": null,
   "id": "d5f1138d",
   "metadata": {},
   "outputs": [
    {
     "name": "stdout",
     "output_type": "stream",
     "text": [
      "1172\n"
     ]
    }
   ],
   "source": [
    "from functools import reduce\n",
    "lst=[1,2,3,4]\n",
    "y=reduce(lambda x,y:x**2+y**2,lst)\n",
    "print(y)"
   ]
  }
 ],
 "metadata": {
  "kernelspec": {
   "display_name": "Python 3",
   "language": "python",
   "name": "python3"
  },
  "language_info": {
   "codemirror_mode": {
    "name": "ipython",
    "version": 3
   },
   "file_extension": ".py",
   "mimetype": "text/x-python",
   "name": "python",
   "nbconvert_exporter": "python",
   "pygments_lexer": "ipython3",
   "version": "3.11.9"
  }
 },
 "nbformat": 4,
 "nbformat_minor": 5
}
