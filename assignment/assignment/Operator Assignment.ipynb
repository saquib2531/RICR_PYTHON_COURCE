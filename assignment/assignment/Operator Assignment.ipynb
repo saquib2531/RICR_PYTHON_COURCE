{
 "cells": [
  {
   "cell_type": "markdown",
   "metadata": {},
   "source": [
    "1. Write a Python expression that adds two numbers: 7 and 5.\n",
    "a= 7\n",
    "b= 5\n",
    "2. Subtract 4 from 9 using Python.\n",
    "a= 9\n",
    "b =4\n",
    "3. Multiply 6 by 8 in Python.\n",
    " a= 6\n",
    " b =8"
   ]
  },
  {
   "cell_type": "code",
   "execution_count": null,
   "metadata": {},
   "outputs": [],
   "source": [
    "print(7+5)\n",
    "print(9-4)\n",
    "print(6*8)"
   ]
  },
  {
   "cell_type": "markdown",
   "metadata": {},
   "source": [
    "4. Perform floor division (integer division) on 15 by 2. \n",
    "5. Find the remainder when 22 is divided by 5.\n",
    "6. Find the remainder when -22 is divided by 8.\n",
    "7. Find the remainder when 2 is divided by 7."
   ]
  },
  {
   "cell_type": "code",
   "execution_count": 2,
   "metadata": {},
   "outputs": [
    {
     "data": {
      "text/plain": [
       "1"
      ]
     },
     "execution_count": 2,
     "metadata": {},
     "output_type": "execute_result"
    }
   ],
   "source": [
    "x = 10\n",
    "y = 5\n",
    "x ** y % 3"
   ]
  },
  {
   "cell_type": "code",
   "execution_count": 1,
   "metadata": {},
   "outputs": [
    {
     "name": "stdout",
     "output_type": "stream",
     "text": [
      "7\n",
      "2\n",
      "2\n",
      "2\n"
     ]
    }
   ],
   "source": [
    "print(15//2)\n",
    "print(22%5)\n",
    "print(-22%8)\n",
    "print(2%7)\n"
   ]
  },
  {
   "cell_type": "markdown",
   "metadata": {},
   "source": [
    "8. Addition Assignment,\n",
    "If x = 10, add 5 to x using an assignment operator.\n",
    "9. Subtraction Assignment,\n",
    "If y = 20, subtract 3 from y using an assignment operator.\n",
    "10. Multiplication Assignment,\n",
    "If z = 7, multiply z by 2 using an assignment operator.\n",
    "11. Division Assignment\n",
    " If w = 40, divide w by 4 using an assignment operator."
   ]
  },
  {
   "cell_type": "code",
   "execution_count": null,
   "metadata": {},
   "outputs": [],
   "source": [
    "x=10\n",
    "x+=5\n",
    "print(x)\n",
    "\n",
    "y=20\n",
    "y-=3\n",
    "print(y)\n",
    "z=7\n",
    "z*=2\n",
    "print(z)\n",
    "w=40\n",
    "w/=4\n",
    "print(w)\n"
   ]
  },
  {
   "cell_type": "markdown",
   "metadata": {},
   "source": [
    "12. Determine if 8 is greater than 6.\n",
    "13. Determine if 5 is less than 10. \n",
    "14. Check if 7 is greater than or equal to 7.\n",
    "15. Calculate the result of (3 + 5) * 2 - 4 / 2 % 3 using python \n",
    "operators (Use pen copy to solve question)\n",
    "16. Evaluate the expression (7 ** 2 + 6 // 3) * (8 % 3 - 2)\n"
   ]
  },
  {
   "cell_type": "code",
   "execution_count": 2,
   "metadata": {},
   "outputs": [
    {
     "name": "stdout",
     "output_type": "stream",
     "text": [
      "True\n",
      "True\n",
      "True\n",
      "14.0\n",
      "0\n"
     ]
    }
   ],
   "source": [
    "print(8>6)\n",
    "print(5<10)\n",
    "print(7>=7)\n",
    "print((3 + 5) * 2 - 4 / 2 % 3)\n",
    "print((7 ** 2 + 6 // 3) * (8 % 3 - 2))"
   ]
  },
  {
   "cell_type": "markdown",
   "metadata": {},
   "source": [
    "17. a = 8\n",
    " b = a * 2\n",
    " c = b // 3 + a\n",
    " print(a, b, c)\n",
    "18. p = 10\n",
    " q = p - 4\n",
    " r = q + p * 2\n",
    " print(p, q, r)\n",
    "19. m = 3\n",
    " n = m ** 2\n",
    " o = n % m + 1\n",
    " print(m, n, o)\n",
    "20. a = 12\n",
    " b = a / 3\n",
    " c = b ** 2\n",
    " d = (a + b + c) % 5\n",
    " print(a, b, c, d)\n",
    "21. c, d = 12, 6\n",
    " c, d = d + 4, c - 2\n",
    " d, c = c // 3, d * 3\n",
    " print(c, d +1)\n",
    "22. m, n a = 8, 3,-4\n",
    " m, n = n * 2, m+ a - 5\n",
    " n, m = m + 4, n // 2\n",
    " print(m, n)\n",
    "23. a, b = 5, 8\n",
    " a += b\n",
    " b -= 2\n",
    " a, b = b, a - 4\n",
    " print(a, b)\n",
    "24. x, y = 12, 3\n",
    " y = x // 2\n",
    " x *= 3\n",
    " x, y = y + 1, x - 5\n",
    " print(x, y)\n",
    "25. c, d = 8, 20\n",
    " d = c * 2\n",
    " c += 5\n",
    " c, d = d - 7, c // 3\n",
    " print(c, d)"
   ]
  },
  {
   "cell_type": "code",
   "execution_count": 3,
   "metadata": {},
   "outputs": [
    {
     "name": "stdout",
     "output_type": "stream",
     "text": [
      "8 16 13\n",
      "10 6 26\n",
      "3 9 1\n",
      "12 4.0 16.0 2.0\n",
      "30 4\n",
      "-1 10\n",
      "6 9\n",
      "7 31\n",
      "9 4\n"
     ]
    }
   ],
   "source": [
    "a = 8\n",
    "b = a * 2\n",
    "c = b // 3 + a\n",
    "print(a, b, c)\n",
    "\n",
    "p = 10\n",
    "q = p - 4\n",
    "r = q + p * 2\n",
    "print(p, q, r)\n",
    "\n",
    "m = 3\n",
    "n = m ** 2\n",
    "o = n % m + 1\n",
    "print(m, n, o)\n",
    "\n",
    "a = 12\n",
    "b = a / 3\n",
    "c = b ** 2\n",
    "d = (a + b + c) % 5\n",
    "print(a, b, c, d)\n",
    "\n",
    "c, d = 12, 6\n",
    "c, d = d + 4, c - 2\n",
    "d, c = c // 3, d * 3\n",
    "print(c, d +1)\n",
    "\n",
    "m, n, a = 8, 3,-4\n",
    "m, n = n * 2, m+ a - 5\n",
    "n, m = m + 4, n // 2\n",
    "print(m, n)\n",
    "\n",
    "a, b = 5, 8\n",
    "a += b\n",
    "b -= 2\n",
    "a, b = b, a - 4\n",
    "print(a, b)\n",
    "\n",
    "x, y = 12, 3\n",
    "y = x // 2\n",
    "x *= 3\n",
    "x, y = y + 1, x - 5\n",
    "print(x, y)\n",
    "\n",
    "c, d = 8, 20\n",
    "d = c * 2\n",
    "c += 5\n",
    "c, d = d - 7, c // 3\n",
    "print(c, d)"
   ]
  }
 ],
 "metadata": {
  "kernelspec": {
   "display_name": "Python 3",
   "language": "python",
   "name": "python3"
  },
  "language_info": {
   "codemirror_mode": {
    "name": "ipython",
    "version": 3
   },
   "file_extension": ".py",
   "mimetype": "text/x-python",
   "name": "python",
   "nbconvert_exporter": "python",
   "pygments_lexer": "ipython3",
   "version": "3.11.9"
  }
 },
 "nbformat": 4,
 "nbformat_minor": 2
}
