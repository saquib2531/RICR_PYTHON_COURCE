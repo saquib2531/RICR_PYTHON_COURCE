{
 "cells": [
  {
   "cell_type": "markdown",
   "id": "0644e36e",
   "metadata": {},
   "source": [
    "Q1. Write a program that prints number from 1 to 10 number with \n",
    "their square."
   ]
  },
  {
   "cell_type": "code",
   "execution_count": 10,
   "id": "1bfbda17",
   "metadata": {},
   "outputs": [
    {
     "name": "stdout",
     "output_type": "stream",
     "text": [
      "1,4,9,16,25,36,49,64,81,100,"
     ]
    }
   ],
   "source": [
    "def sequare(n):\n",
    "    i=1\n",
    "    while i<=n:\n",
    "        print(i**2,end=',')\n",
    "        i+=1\n",
    "sequare(int(input()))"
   ]
  },
  {
   "cell_type": "markdown",
   "id": "c08fbdaa",
   "metadata": {},
   "source": [
    "Q2. Write a program that prints a table of a number, take that \n",
    "number from the user.\n",
    "Sample input:\n",
    "Enter a number: 5\n",
    "Output:\n",
    "5 x 1 = 5\n",
    "5 x 2 = 10\n",
    "5 x 3 = 15\n",
    "5 x 4 = 20\n",
    "5 x 5 = 25\n",
    "5 x 6 = 30\n",
    "5 x 7 = 35\n",
    "5 x 8 = 40\n",
    "5 x 9 = 45\n",
    "5 x 10 = 50"
   ]
  },
  {
   "cell_type": "code",
   "execution_count": 16,
   "id": "a0249ea2",
   "metadata": {},
   "outputs": [
    {
     "name": "stdout",
     "output_type": "stream",
     "text": [
      "5 * 1 = 5\n",
      "5 * 2 = 10\n",
      "5 * 3 = 15\n",
      "5 * 4 = 20\n",
      "5 * 5 = 25\n",
      "5 * 6 = 30\n",
      "5 * 7 = 35\n",
      "5 * 8 = 40\n",
      "5 * 9 = 45\n",
      "5 * 10 = 50\n"
     ]
    }
   ],
   "source": [
    "def table(n):\n",
    "    i=1\n",
    "    while i<=10:\n",
    "        print(f'{n} * {i} = {i*n}')\n",
    "        i+=1\n",
    "table(int(input()))"
   ]
  },
  {
   "cell_type": "markdown",
   "id": "5038a656",
   "metadata": {},
   "source": [
    "Q3. Write a program that calculates the product of all numbers \n",
    "between 1 to 10 using a while loop."
   ]
  },
  {
   "cell_type": "code",
   "execution_count": 26,
   "id": "10985f44",
   "metadata": {},
   "outputs": [
    {
     "data": {
      "text/plain": [
       "120"
      ]
     },
     "execution_count": 26,
     "metadata": {},
     "output_type": "execute_result"
    }
   ],
   "source": [
    "def product_sequance(n):\n",
    "    i=1\n",
    "    p=1\n",
    "    while i<=n:\n",
    "        p*=i\n",
    "        i+=1\n",
    "    return p\n",
    "product_sequance(int(input()))\n"
   ]
  },
  {
   "cell_type": "markdown",
   "id": "6bf45660",
   "metadata": {},
   "source": [
    "Q4. Write a program that prints numbers divisible of 7 between 1 to \n",
    "70 "
   ]
  },
  {
   "cell_type": "code",
   "execution_count": 29,
   "id": "c0b31323",
   "metadata": {},
   "outputs": [
    {
     "name": "stdout",
     "output_type": "stream",
     "text": [
      "7,14,21,28,35,42,49,56,63,70,"
     ]
    }
   ],
   "source": [
    "def divisibal_7(n):\n",
    "    i=1\n",
    "    while i<=n:\n",
    "        if i%7==0:\n",
    "            print(i,end=',')\n",
    "        i+=1\n",
    "divisibal_7(int(input()))"
   ]
  },
  {
   "cell_type": "markdown",
   "id": "984c390d",
   "metadata": {},
   "source": [
    "Q5. Write a program that takes input from the user and print the \n",
    "reverse counting of that number.\n",
    "Sample Input: 5\n",
    "Sample output: 5 4 3 2 1\n",
    "Note: Write the dry run and generate output of all the below \n",
    "programs by using paper and pen in your notebook."
   ]
  },
  {
   "cell_type": "code",
   "execution_count": 7,
   "id": "8e00a0ae",
   "metadata": {},
   "outputs": [
    {
     "name": "stdout",
     "output_type": "stream",
     "text": [
      "5,4,3,2,1,"
     ]
    }
   ],
   "source": [
    "def reverse(n):\n",
    "    while n>=1:\n",
    "        print(n,end=',')\n",
    "        n-=1\n",
    "reverse(int(input()))"
   ]
  },
  {
   "cell_type": "markdown",
   "id": "a4d2c1c1",
   "metadata": {},
   "source": [
    "assignment 2"
   ]
  },
  {
   "cell_type": "markdown",
   "id": "37ea94f3",
   "metadata": {},
   "source": [
    "Q10. Write a program to print Multiples of 3 and 5 between 1 to 30.\n",
    "Output: 15, 30\n"
   ]
  },
  {
   "cell_type": "code",
   "execution_count": 14,
   "id": "03b50266",
   "metadata": {},
   "outputs": [
    {
     "name": "stdout",
     "output_type": "stream",
     "text": [
      "15,30,"
     ]
    }
   ],
   "source": [
    "def multiples(n):\n",
    "    i=1\n",
    "    while i<=n:\n",
    "        if i%3==0 and i%5==0:\n",
    "            print(i,end=',')\n",
    "        i+=1\n",
    "multiples(int(input()))"
   ]
  },
  {
   "cell_type": "markdown",
   "id": "279f3536",
   "metadata": {},
   "source": [
    "Q11. Write a program to calculate the sum of numbers from 1 to 10 using a while\n",
    "loop.\n",
    "Output: 55"
   ]
  },
  {
   "cell_type": "code",
   "execution_count": 15,
   "id": "0e4e4958",
   "metadata": {},
   "outputs": [
    {
     "data": {
      "text/plain": [
       "55"
      ]
     },
     "execution_count": 15,
     "metadata": {},
     "output_type": "execute_result"
    }
   ],
   "source": [
    "def sum(n):\n",
    "    i=1\n",
    "    s=0\n",
    "    while i<=n:\n",
    "        s+=i\n",
    "        i+=1\n",
    "    return s\n",
    "sum(int(input()))\n"
   ]
  },
  {
   "cell_type": "markdown",
   "id": "e2f8a294",
   "metadata": {},
   "source": [
    "Q12. Write a program to calculate Sum of Odd Numbers up to 30 using while loop"
   ]
  },
  {
   "cell_type": "code",
   "execution_count": 16,
   "id": "08bff41b",
   "metadata": {},
   "outputs": [
    {
     "name": "stdout",
     "output_type": "stream",
     "text": [
      "1,3,5,7,9,11,13,15,17,19,21,23,25,27,29,"
     ]
    }
   ],
   "source": [
    "def sum_odd(n):\n",
    "    i=1\n",
    "    while i<=n:\n",
    "        if i%2!=0:\n",
    "            print(i,end=',')\n",
    "        i+=1\n",
    "sum_odd(int(input()))"
   ]
  },
  {
   "cell_type": "markdown",
   "id": "ce6ea9c1",
   "metadata": {},
   "source": [
    "assignment-3"
   ]
  },
  {
   "cell_type": "markdown",
   "id": "5a219868",
   "metadata": {},
   "source": [
    "Q1. Write a python program to find the Sum of the Digits of a given \n",
    "number as an input.\n",
    "Input Output Explanation\n",
    "123 6 1+2+3 = 6\n",
    "456 15 4+5+6 = 15\n",
    "789 24 7+8+9 = 24"
   ]
  },
  {
   "cell_type": "code",
   "execution_count": 17,
   "id": "b80094f4",
   "metadata": {},
   "outputs": [
    {
     "data": {
      "text/plain": [
       "6"
      ]
     },
     "execution_count": 17,
     "metadata": {},
     "output_type": "execute_result"
    }
   ],
   "source": [
    "def sum_digit(n):\n",
    "    i=1\n",
    "    s=0\n",
    "    while i<=3:\n",
    "        s+=n%10\n",
    "        n//=10\n",
    "        i+=1\n",
    "    return s\n",
    "sum_digit(int(input()))\n"
   ]
  },
  {
   "cell_type": "markdown",
   "id": "1f65fc26",
   "metadata": {},
   "source": [
    "Q2. Write a python program which finds the reverse of a given \n",
    "number.\n",
    "Input Output Explanation\n",
    "123 321 Reverse of 123 is 321.\n",
    "456 654 Reverse of 456 is 654.\n",
    "789 987 Reverse of 789 is 987.\n"
   ]
  },
  {
   "cell_type": "code",
   "execution_count": 18,
   "id": "f57b0a61",
   "metadata": {},
   "outputs": [
    {
     "data": {
      "text/plain": [
       "321"
      ]
     },
     "execution_count": 18,
     "metadata": {},
     "output_type": "execute_result"
    }
   ],
   "source": [
    "def revers_digit(n):\n",
    "    i=1\n",
    "    s=0\n",
    "    while i<=3:\n",
    "        s=s*10+n%10\n",
    "        n//=10\n",
    "        i+=1\n",
    "    return s\n",
    "revers_digit(int(input()))\n"
   ]
  },
  {
   "cell_type": "markdown",
   "id": "250d2d57",
   "metadata": {},
   "source": [
    "Q3. Write a python program which find the Factors of a given number\n",
    "as an input.\n",
    "Explanation: Given an integer input, the objective is to find all the factors\n",
    "ofthe number by checking divisibility.\n",
    "Input Output Explanation\n",
    "12 1, 2, 3, 4, 6, 12 Factors of 12 are 1, 2, 3, 4, 6, and 12.\n",
    "15 1, 3, 5, 15 Factors of 15 are 1, 3, 5, and 15.\n",
    "18 1, 2, 3, 6, 9, 18 Factors of 18 are 1, 2, 3, 6, 9, and 18.\n"
   ]
  },
  {
   "cell_type": "code",
   "execution_count": 19,
   "id": "72b67f93",
   "metadata": {},
   "outputs": [
    {
     "name": "stdout",
     "output_type": "stream",
     "text": [
      "1,2,3,4,6,12,"
     ]
    }
   ],
   "source": [
    "def fact(n):\n",
    "    i=1\n",
    "    while i<=n:\n",
    "        if n%i==0:\n",
    "            print(i,end=',')\n",
    "        i+=1\n",
    "fact(int(input()))\n",
    "    \n"
   ]
  },
  {
   "cell_type": "markdown",
   "id": "85f5f025",
   "metadata": {},
   "source": [
    "Q5. Write a python program which check Whether the given number\n",
    "as an input is a Palindrome or not.\n",
    "Explanation: palindrome numbers are those whose reverse is equal to the \n",
    "original number.\n",
    "Input Output Explanation\n",
    "121 Palindrome Reverse of 121 is 121, so it’s a palindrome.\n",
    "123 Not a Palindrome Reverse of 123 is 321, so it’s not a palindrome.\n",
    "1331 Palindrome Reverse of 1331 is 1331, so it’s a palindrome"
   ]
  },
  {
   "cell_type": "code",
   "execution_count": 22,
   "id": "f3a71a94",
   "metadata": {},
   "outputs": [
    {
     "name": "stdout",
     "output_type": "stream",
     "text": [
      "True\n"
     ]
    }
   ],
   "source": [
    "def is_palindrome(n):\n",
    "    s=0\n",
    "    x=n\n",
    "    i=1\n",
    "    while i<=3:\n",
    "        s=s*10+n%10\n",
    "        n//=10\n",
    "        i+=1\n",
    "    if s==x:\n",
    "        print(True)\n",
    "    else:\n",
    "        print(False)\n",
    "is_palindrome(int(input()))"
   ]
  },
  {
   "cell_type": "markdown",
   "id": "ca6fde0d",
   "metadata": {},
   "source": [
    "Q6. Write a python program which finds Factorial of a Number.\n",
    "Input Output Explanation\n",
    "5 120 Factorial of 5 is 5! = 5×4×3×2×1 = 120.\n",
    "6 720 Factorial of 6 is 6! = 6×5×4×3×2×1 = 720.\n",
    "0 1 Factorial of 0 is 1 (by definition).\n"
   ]
  },
  {
   "cell_type": "code",
   "execution_count": 23,
   "id": "74fbaf00",
   "metadata": {},
   "outputs": [
    {
     "data": {
      "text/plain": [
       "120"
      ]
     },
     "execution_count": 23,
     "metadata": {},
     "output_type": "execute_result"
    }
   ],
   "source": [
    "def factoral(n):\n",
    "    p=1\n",
    "    i=1\n",
    "    while i<=n:\n",
    "        p*=i\n",
    "        i+=1\n",
    "    return p\n",
    "factoral(int(input()))"
   ]
  },
  {
   "cell_type": "markdown",
   "id": "2ced856b",
   "metadata": {},
   "source": [
    "Q7. Check Whether or Not the Number is an Armstrong Number.\n",
    "Explanation: An Armstrong number is a number that equals the sum of its \n",
    "digits, each raised to a power (length of that number or count of digit in that \n",
    "number).\n",
    "Input Output Explanation\n",
    "153 Armstrong 1³ + 5³ + 3³ = 153.\n",
    "123 Not Armstrong 1³ + 2³ + 3³ ≠ 123.\n",
    "370 Armstrong 3³ + 7³ + 0³ = 370."
   ]
  },
  {
   "cell_type": "code",
   "execution_count": 25,
   "id": "4d4594b9",
   "metadata": {},
   "outputs": [
    {
     "name": "stdout",
     "output_type": "stream",
     "text": [
      "False\n"
     ]
    }
   ],
   "source": [
    "def is_armstrong(n):\n",
    "    x=n\n",
    "    s=0\n",
    "    i=1\n",
    "    while i<=3:\n",
    "        r=n%10\n",
    "        s+=r**3\n",
    "        n//=10\n",
    "        i+=1\n",
    "    if s==x:\n",
    "        print(True)\n",
    "    else:\n",
    "        print(False)\n",
    "is_armstrong(int(input()))\n",
    "\n"
   ]
  }
 ],
 "metadata": {
  "kernelspec": {
   "display_name": "Python 3",
   "language": "python",
   "name": "python3"
  },
  "language_info": {
   "codemirror_mode": {
    "name": "ipython",
    "version": 3
   },
   "file_extension": ".py",
   "mimetype": "text/x-python",
   "name": "python",
   "nbconvert_exporter": "python",
   "pygments_lexer": "ipython3",
   "version": "3.11.9"
  }
 },
 "nbformat": 4,
 "nbformat_minor": 5
}
