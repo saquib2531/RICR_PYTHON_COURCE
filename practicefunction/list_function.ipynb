{
 "cells": [
  {
   "cell_type": "markdown",
   "id": "3509aadf",
   "metadata": {},
   "source": [
    "Q1. Write a program which add the element 13 to the end of the list \n",
    "numbers = [10, 22, 35, 45, 53] after that Print the list. "
   ]
  },
  {
   "cell_type": "code",
   "execution_count": null,
   "id": "7cfb8f93",
   "metadata": {},
   "outputs": [
    {
     "data": {
      "text/plain": [
       "[10, 22, 35, 45, 53, 13]"
      ]
     },
     "execution_count": 1,
     "metadata": {},
     "output_type": "execute_result"
    }
   ],
   "source": [
    "def add_element(n):\n",
    "    n.append(13)\n",
    "    return n\n",
    "x=[10, 22, 35, 45, 53] \n",
    "add_element(x)"
   ]
  },
  {
   "cell_type": "markdown",
   "id": "c3d5e11c",
   "metadata": {},
   "source": [
    "Q2.  Write a program which insert the element 20 at index 2 in the \n",
    "list numbers = [5, 2, 6, 4, 9]. Print the list after inserting. "
   ]
  },
  {
   "cell_type": "code",
   "execution_count": 4,
   "id": "82315def",
   "metadata": {},
   "outputs": [
    {
     "data": {
      "text/plain": [
       "[5, 2, 20, 6, 4, 9]"
      ]
     },
     "execution_count": 4,
     "metadata": {},
     "output_type": "execute_result"
    }
   ],
   "source": [
    "def insert_element(n):\n",
    "    n.insert(2,20)\n",
    "    return n\n",
    "x=[5, 2, 6, 4, 9]\n",
    "insert_element(x)"
   ]
  },
  {
   "cell_type": "markdown",
   "id": "ed3defe5",
   "metadata": {},
   "source": [
    "Q3. If List1 = [1,2,3,4] and List2 = [8,6,7,5] then what should be the \n",
    "code for the output: [1,2,3,4,8,6,7,5] "
   ]
  },
  {
   "cell_type": "code",
   "execution_count": 5,
   "id": "4f6c9b93",
   "metadata": {},
   "outputs": [
    {
     "data": {
      "text/plain": [
       "[1, 2, 3, 4, 8, 6, 7, 5]"
      ]
     },
     "execution_count": 5,
     "metadata": {},
     "output_type": "execute_result"
    }
   ],
   "source": [
    "def lst_add(a,b):\n",
    "    return (a+b)\n",
    "x=[1,2,3,4]\n",
    "y=[8,6,7,5]\n",
    "lst_add(x,y)"
   ]
  },
  {
   "cell_type": "markdown",
   "id": "52e6c13d",
   "metadata": {},
   "source": [
    "Q4. Delete the element at index 3 from the list numbers = [10, 2, 36, 41, 5]. Print the list after deletion. "
   ]
  },
  {
   "cell_type": "code",
   "execution_count": 9,
   "id": "ba14ce86",
   "metadata": {},
   "outputs": [
    {
     "name": "stdout",
     "output_type": "stream",
     "text": [
      "41 \n",
      "[10, 2, 36, 5]\n"
     ]
    }
   ],
   "source": [
    "def del_element(n):\n",
    "    a=n.pop(3)\n",
    "    print(f'{a} \\n{n}')\n",
    "x=[10, 2, 36, 41, 5]\n",
    "del_element(x)"
   ]
  },
  {
   "cell_type": "markdown",
   "id": "1c7c47b5",
   "metadata": {},
   "source": [
    "Q5. Delete the element at index 4 from the list Lst = ['apple' , 'banana' , 'orange' , 'kiwi' , 'guava']   and Print the list after deletion and also print that deleted element. "
   ]
  },
  {
   "cell_type": "code",
   "execution_count": 1,
   "id": "d221713f",
   "metadata": {},
   "outputs": [
    {
     "name": "stdout",
     "output_type": "stream",
     "text": [
      "kiwi \n",
      " ['apple', 'banana', 'orange', 'guava']\n"
     ]
    }
   ],
   "source": [
    "def del_element(n):\n",
    "    a=n.pop(3)\n",
    "    print(f'{a} \\n {n}')\n",
    "x=['apple' , 'banana' , 'orange' , 'kiwi' , 'guava']\n",
    "del_element(x)"
   ]
  },
  {
   "cell_type": "markdown",
   "id": "cd459f45",
   "metadata": {},
   "source": [
    "Q6. Remove the first occurrence of the element 3 from the list \n",
    "numbers = [1, 25, 3, 44, 33, 56]. Print the list after removing."
   ]
  },
  {
   "cell_type": "code",
   "execution_count": 2,
   "id": "59c299d1",
   "metadata": {},
   "outputs": [
    {
     "name": "stdout",
     "output_type": "stream",
     "text": [
      "[1, 25, 44, 33, 56]\n"
     ]
    }
   ],
   "source": [
    "def remove(n):\n",
    "    a=n.remove(3)\n",
    "    print(n)\n",
    "x=[1, 25, 3, 44, 33, 56]\n",
    "remove(x)"
   ]
  },
  {
   "cell_type": "markdown",
   "id": "43b29e49",
   "metadata": {},
   "source": [
    "Q7. Count the number of times the element 2 appears in the list Lst = \n",
    "[15, 2, 2, 3, 4, 2 ,7 ,8 ,45 ,2 ,2]. Print the count. "
   ]
  },
  {
   "cell_type": "code",
   "execution_count": 2,
   "id": "a90b52d2",
   "metadata": {},
   "outputs": [
    {
     "data": {
      "text/plain": [
       "5"
      ]
     },
     "execution_count": 2,
     "metadata": {},
     "output_type": "execute_result"
    }
   ],
   "source": [
    "def count(x):\n",
    "    n=int(input())\n",
    "    for i in x:\n",
    "        s=x.count(n)\n",
    "    return s\n",
    "y=[15, 2, 2, 3, 4, 2 ,7 ,8 ,45 ,2 ,2]\n",
    "count(y)"
   ]
  },
  {
   "cell_type": "markdown",
   "id": "c9066caa",
   "metadata": {},
   "source": [
    "Q8. Write a program which prints the reverse list of the given list: \n",
    "Lst = [15, 22, 35, 24, 65]"
   ]
  },
  {
   "cell_type": "code",
   "execution_count": 13,
   "id": "7bdf9658",
   "metadata": {},
   "outputs": [
    {
     "data": {
      "text/plain": [
       "[65, 24, 35, 22, 15]"
      ]
     },
     "execution_count": 13,
     "metadata": {},
     "output_type": "execute_result"
    }
   ],
   "source": [
    "def reverse(n):\n",
    "    n.reverse()\n",
    "    return n\n",
    "Lst = [15, 22, 35, 24, 65]\n",
    "reverse(Lst)"
   ]
  },
  {
   "cell_type": "markdown",
   "id": "f5f3b6ac",
   "metadata": {},
   "source": [
    "Q9. Write a program to which add the element 7 at the last of list Lst = [4, 2, 5, 1, 3, 6, 8, 10, 3, 5], then sort the list. Print the list after these operations. "
   ]
  },
  {
   "cell_type": "code",
   "execution_count": 14,
   "id": "b013bf9a",
   "metadata": {},
   "outputs": [
    {
     "data": {
      "text/plain": [
       "[4, 2, 5, 1, 3, 6, 8, 10, 3, 5, 7]"
      ]
     },
     "execution_count": 14,
     "metadata": {},
     "output_type": "execute_result"
    }
   ],
   "source": [
    "def add(n):\n",
    "    n.append(int(input()))\n",
    "    return n\n",
    "x=[4, 2, 5, 1, 3, 6, 8, 10, 3, 5]\n",
    "add(x)"
   ]
  },
  {
   "cell_type": "markdown",
   "id": "5547e614",
   "metadata": {},
   "source": [
    "Q10. Write a program which insert the element 10 at index 1 in the list Lst = [12, 24, 35, 24, 45], then remove the element 35. Print the list after these operations."
   ]
  },
  {
   "cell_type": "code",
   "execution_count": 15,
   "id": "874b2b20",
   "metadata": {},
   "outputs": [
    {
     "data": {
      "text/plain": [
       "[12, 10, 24, 24, 45]"
      ]
     },
     "execution_count": 15,
     "metadata": {},
     "output_type": "execute_result"
    }
   ],
   "source": [
    "def add_remove(n):\n",
    "    n.insert(1,int(input()))\n",
    "    n.remove(int(input()))\n",
    "    return n\n",
    "x=[12, 24, 35, 24, 45]\n",
    "add_remove(x)"
   ]
  },
  {
   "cell_type": "markdown",
   "id": "8bbff9c2",
   "metadata": {},
   "source": [
    "assignment- 2"
   ]
  },
  {
   "cell_type": "markdown",
   "id": "c95be602",
   "metadata": {},
   "source": [
    "Q1. Write a python program which iterates the given list prints all \n",
    "the values inside the list via loop . \n",
    "lst = ['mango','apple','banana','ornage','kiwi'] "
   ]
  },
  {
   "cell_type": "code",
   "execution_count": 20,
   "id": "eb382a96",
   "metadata": {},
   "outputs": [
    {
     "name": "stdout",
     "output_type": "stream",
     "text": [
      "mango,apple,banana,ornage,kiwi,"
     ]
    }
   ],
   "source": [
    "def iterates(n):\n",
    "    for i in n:\n",
    "        print(i , end=',')\n",
    "lst = ['mango','apple','banana','ornage','kiwi'] \n",
    "iterates(lst)"
   ]
  },
  {
   "cell_type": "markdown",
   "id": "a925e651",
   "metadata": {},
   "source": [
    "Q2. Write a python program which finds the sum to all the elements of the list by iterating that given list. \n",
    "lst = [2,4,6,8,12,10,14,24] "
   ]
  },
  {
   "cell_type": "code",
   "execution_count": 21,
   "id": "9dd2e79c",
   "metadata": {},
   "outputs": [
    {
     "data": {
      "text/plain": [
       "80"
      ]
     },
     "execution_count": 21,
     "metadata": {},
     "output_type": "execute_result"
    }
   ],
   "source": [
    "def sum(n):\n",
    "    s=0\n",
    "    for i in n:\n",
    "        s+=i\n",
    "    return s\n",
    "lst = [2,4,6,8,12,10,14,24] \n",
    "sum(lst)"
   ]
  },
  {
   "cell_type": "markdown",
   "id": "1a9a80a7",
   "metadata": {},
   "source": [
    "Q3. Write a python program which finds the value (n) in the given list = [4,5,3,2,1,6,8], if present then return True otherwise False. \n",
    "Note: ‘n’ can be any input value. "
   ]
  },
  {
   "cell_type": "code",
   "execution_count": 23,
   "id": "d4479910",
   "metadata": {},
   "outputs": [
    {
     "name": "stdout",
     "output_type": "stream",
     "text": [
      "False\n"
     ]
    }
   ],
   "source": [
    "def is_present(n):\n",
    "    x=int(input())\n",
    "    if x in n:\n",
    "        print(True)\n",
    "    else:\n",
    "        print(False)\n",
    "y=[4,5,3,2,1,6,8]\n",
    "is_present(y)"
   ]
  },
  {
   "cell_type": "markdown",
   "id": "c4160a5b",
   "metadata": {},
   "source": [
    "Q4. Write a python program which update odd indices elements of the list by ‘hii’ through iterating that given list. \n",
    "lst = [2,4,6,8,1] "
   ]
  },
  {
   "cell_type": "code",
   "execution_count": 24,
   "id": "ebf12b59",
   "metadata": {},
   "outputs": [
    {
     "data": {
      "text/plain": [
       "[2, 'hii', 6, 'hii', 1]"
      ]
     },
     "execution_count": 24,
     "metadata": {},
     "output_type": "execute_result"
    }
   ],
   "source": [
    "def update(n):\n",
    "    for i in range(0,len(n)):\n",
    "        if i%2!=0:\n",
    "            n[i]='hii'\n",
    "    return n\n",
    "x=[2,4,6,8,1]\n",
    "update(x)"
   ]
  },
  {
   "cell_type": "markdown",
   "id": "71cc876f",
   "metadata": {},
   "source": [
    "Q5. Write a python program which finds and print the average of elements of the given list of integers. \n",
    "lst = [10,45,23,46,98,56] \n",
    "Note: If list changes your code should work properly. "
   ]
  },
  {
   "cell_type": "code",
   "execution_count": 25,
   "id": "7029af10",
   "metadata": {},
   "outputs": [
    {
     "data": {
      "text/plain": [
       "46.333333333333336"
      ]
     },
     "execution_count": 25,
     "metadata": {},
     "output_type": "execute_result"
    }
   ],
   "source": [
    "def avg(n):\n",
    "    s=0\n",
    "    for i in n:\n",
    "        s+=i\n",
    "    return s/len(n)\n",
    "lst = [10,45,23,46,98,56] \n",
    "avg(lst)\n"
   ]
  },
  {
   "cell_type": "markdown",
   "id": "89e38030",
   "metadata": {},
   "source": [
    "Q6. Write a python program which finds the sum of squares of all the elements of the given list. \n",
    "lst = [2,4,6,8,1]"
   ]
  },
  {
   "cell_type": "code",
   "execution_count": 26,
   "id": "3d2a4849",
   "metadata": {},
   "outputs": [
    {
     "data": {
      "text/plain": [
       "121"
      ]
     },
     "execution_count": 26,
     "metadata": {},
     "output_type": "execute_result"
    }
   ],
   "source": [
    "def sum_square(n):\n",
    "    s=0\n",
    "    for i in n:\n",
    "        s+=i**2\n",
    "    return s\n",
    "lst = [2,4,6,8,1]\n",
    "sum_square(lst)"
   ]
  },
  {
   "cell_type": "markdown",
   "id": "9e9f3266",
   "metadata": {},
   "source": [
    "assignment - 3"
   ]
  },
  {
   "cell_type": "markdown",
   "id": "7f847ecc",
   "metadata": {},
   "source": [
    "Q1. Write a python program to divide the list into two equal halves and print the sum of each half. \n",
    "lst1 = [2,4,6,8,3,5,8,9] \n",
    "Output:  20 = (2+4+6+8) , 25 =(3+5+8+9) "
   ]
  },
  {
   "cell_type": "code",
   "execution_count": 29,
   "id": "217aed32",
   "metadata": {},
   "outputs": [
    {
     "name": "stdout",
     "output_type": "stream",
     "text": [
      "20\n",
      "25\n"
     ]
    }
   ],
   "source": [
    "def two_equal_sum(n):\n",
    "    s=0\n",
    "    x=0\n",
    "    a=n[0:len(n)//2]\n",
    "    b=n[len(n)//2:len(n)]\n",
    "    for i in a:\n",
    "        s+=i\n",
    "    print(s)\n",
    "    for i in b:\n",
    "        x+=i\n",
    "    print(x)\n",
    "lst1 = [2,4,6,8,3,5,8,9] \n",
    "two_equal_sum(lst1)\n",
    "\n"
   ]
  },
  {
   "cell_type": "markdown",
   "id": "c1c2f8ab",
   "metadata": {},
   "source": [
    "Q2. Write a program to delete the element at the index equal to half the length of the given list. Print the list before and after deletion. \n",
    "Before: [2,3,4,5,6,7,8] \n",
    "After: [2,3,4,6,7,8] \n",
    "Note: List can be changed. "
   ]
  },
  {
   "cell_type": "code",
   "execution_count": 31,
   "id": "d26f6c0d",
   "metadata": {},
   "outputs": [
    {
     "data": {
      "text/plain": [
       "[2, 3, 4, 6, 7, 8]"
      ]
     },
     "execution_count": 31,
     "metadata": {},
     "output_type": "execute_result"
    }
   ],
   "source": [
    "def del_element(n):\n",
    "    n.pop(len(n)//2)\n",
    "    return n\n",
    "x=[2,3,4,5,6,7,8] \n",
    "del_element(x)"
   ]
  },
  {
   "cell_type": "markdown",
   "id": "ebf8c44c",
   "metadata": {},
   "source": [
    "Q3. Write a program to append a new integer to this list, which is the sum of the first and last elements of the list. Print the list before and after appending. \n",
    "Sample List: [23,43,56,87] \n",
    "Output: [23,43,56,87,110] \n",
    "(23+87) "
   ]
  },
  {
   "cell_type": "code",
   "execution_count": 34,
   "id": "b440e7fc",
   "metadata": {},
   "outputs": [
    {
     "data": {
      "text/plain": [
       "[23, 43, 56, 87, 110]"
      ]
     },
     "execution_count": 34,
     "metadata": {},
     "output_type": "execute_result"
    }
   ],
   "source": [
    "def add_sum(n):\n",
    "    for i in n:\n",
    "        s=n[0]+n[-1]\n",
    "    n.append(s)\n",
    "    return n\n",
    "x=[23,43,56,87]\n",
    "add_sum(x)\n"
   ]
  },
  {
   "cell_type": "markdown",
   "id": "99f76f50",
   "metadata": {},
   "source": [
    "Q4. Write a program to insert the product of the first and last elements at the third position in the list. Print the list before and after insertion. \n",
    "Sample list = [34,56,23,76,23,46] \n",
    "Output: [34,56,23,1564,76,23,46] \n",
    "(34 * 46) "
   ]
  },
  {
   "cell_type": "code",
   "execution_count": 36,
   "id": "3572993d",
   "metadata": {},
   "outputs": [
    {
     "data": {
      "text/plain": [
       "[34, 56, 23, 1564, 76, 23, 46]"
      ]
     },
     "execution_count": 36,
     "metadata": {},
     "output_type": "execute_result"
    }
   ],
   "source": [
    "def product(n):\n",
    "    p=n[0]*n[-1]\n",
    "    n.insert(3,p)\n",
    "    return n\n",
    "x=[34,56,23,76,23,46] \n",
    "product(x)"
   ]
  },
  {
   "cell_type": "markdown",
   "id": "ec094209",
   "metadata": {},
   "source": [
    "Q5. Write a program to print the list of first and last elements of each list of lists. \n",
    "lst2 = [[23,45,76],[45,3,12],[3,5,20]] \n",
    "Output: [23,76,45,12,3,20] \n"
   ]
  },
  {
   "cell_type": "code",
   "execution_count": 37,
   "id": "cf5a94f3",
   "metadata": {},
   "outputs": [
    {
     "data": {
      "text/plain": [
       "[23, 76, 45, 12, 3, 20]"
      ]
     },
     "execution_count": 37,
     "metadata": {},
     "output_type": "execute_result"
    }
   ],
   "source": [
    "def add_element(n):\n",
    "    s=[]\n",
    "    for i in n:\n",
    "        s.append(i[0])\n",
    "        s.append(i[-1])\n",
    "    return s\n",
    "y=[[23,45,76],[45,3,12],[3,5,20]] \n",
    "add_element(y)"
   ]
  },
  {
   "cell_type": "markdown",
   "id": "7586ffdb",
   "metadata": {},
   "source": [
    "Q6. Write a program to calculate and print the sum of max elements of each list of lists. \n",
    "lst3 = [[1,2,4,5],[3,5,4,3],[4,5,3,2]] \n",
    "Output: 15 =(5+5+5) "
   ]
  },
  {
   "cell_type": "code",
   "execution_count": 42,
   "id": "e54eec52",
   "metadata": {},
   "outputs": [
    {
     "data": {
      "text/plain": [
       "15"
      ]
     },
     "execution_count": 42,
     "metadata": {},
     "output_type": "execute_result"
    }
   ],
   "source": [
    "def add_max(n):\n",
    "    s=0\n",
    "    for i in n:\n",
    "        s+=max(i)\n",
    "    return s\n",
    "x=[[1,2,4,5],[3,5,4,3],[4,5,3,2]] \n",
    "add_max(x)"
   ]
  },
  {
   "cell_type": "markdown",
   "id": "07453206",
   "metadata": {},
   "source": [
    "Q7. Write a program to calculate and print the sum of elements in each list of lists and add the resultant values. Without using sum() function. \n",
    "Sample list = [[1,2,4,5],[3,5,4,3],[4,5,3,2]] \n",
    "Output: [12, 15, 14] \n",
    "41 =(12+15+14) "
   ]
  },
  {
   "cell_type": "code",
   "execution_count": 48,
   "id": "2a1fef4f",
   "metadata": {},
   "outputs": [
    {
     "data": {
      "text/plain": [
       "[12, 15, 14]"
      ]
     },
     "execution_count": 48,
     "metadata": {},
     "output_type": "execute_result"
    }
   ],
   "source": [
    "def sum(n):\n",
    "    x=[]\n",
    "    for i in n:\n",
    "        s=0\n",
    "        for j in i: \n",
    "            s+=j\n",
    "        x.append(s)\n",
    "    return x\n",
    "y=[[1,2,4,5],[3,5,4,3],[4,5,3,2]] \n",
    "sum(y)\n",
    "        "
   ]
  },
  {
   "cell_type": "code",
   "execution_count": null,
   "id": "c6f2231f",
   "metadata": {},
   "outputs": [],
   "source": [
    "lst = [2,5,7,1,4,6,10,11,6,12] "
   ]
  },
  {
   "cell_type": "markdown",
   "id": "cf24a459",
   "metadata": {},
   "source": [
    "Q8. Find the largest element of the above given list without using \n",
    "max() and sort() functions. "
   ]
  },
  {
   "cell_type": "markdown",
   "id": "cecc0b07",
   "metadata": {},
   "source": [
    "Q9. Find the Smallest element of the above given list without using \n",
    "min() and sort() functions. "
   ]
  },
  {
   "cell_type": "markdown",
   "id": "f466f0f6",
   "metadata": {},
   "source": [
    "Q10. Find the Second largest element of the above given list without \n",
    "using max() and sort() functions."
   ]
  },
  {
   "cell_type": "markdown",
   "id": "6b43b4ec",
   "metadata": {},
   "source": [
    "Q11. Find the Second Smallest element of the above given list \n",
    "without using min() and sort() functions."
   ]
  },
  {
   "cell_type": "markdown",
   "id": "ce773a93",
   "metadata": {},
   "source": [
    "assignment = 4"
   ]
  },
  {
   "cell_type": "markdown",
   "id": "ba0c463f",
   "metadata": {},
   "source": [
    "Q1. Create a new list which have the squares of every element of the \n",
    "given list using list comprehension. \n",
    "lst = [2,3,4,5,6,7]  \n",
    "Output = [4,9,16,25,36,49] "
   ]
  },
  {
   "cell_type": "markdown",
   "id": "ec671455",
   "metadata": {},
   "source": [
    "Q2. Write a Python program using a list comprehension to create a \n",
    "list of even numbers less than 8 from 1 to 20. "
   ]
  },
  {
   "cell_type": "markdown",
   "id": "6894768e",
   "metadata": {},
   "source": [
    "Q3. Write a Python program using a list comprehension to create a \n",
    "list of numbers from 1 to 10, but only include numbers that are \n",
    "greater than 5. "
   ]
  },
  {
   "cell_type": "markdown",
   "id": "f4a0797a",
   "metadata": {},
   "source": [
    "Q4. Write a Python program using a list comprehension to create a \n",
    "list of the first letters of each word in the given list. \n",
    "lst = ['apple', 'banana', 'cherry']. "
   ]
  },
  {
   "cell_type": "markdown",
   "id": "026474ed",
   "metadata": {},
   "source": [
    "Q5. Write a Python program using a list comprehension to create a \n",
    "list of the lengths of each word in the given list. \n",
    "lst = ['python', 'java', 'c++']. "
   ]
  },
  {
   "cell_type": "markdown",
   "id": "0641eafb",
   "metadata": {},
   "source": [
    "Q6. Write a Python program using a nested list comprehension to \n",
    "flatten the given list. \n",
    "Input list: [[1, 2, 3], [4, 5], [6, 7, 8]]. \n",
    "Output: [1, 2, 3, 4, 5, 6, 7, 8] "
   ]
  },
  {
   "cell_type": "markdown",
   "id": "e3965c9d",
   "metadata": {},
   "source": [
    "Q7. Write a Python program using a list comprehension to create a \n",
    "list of numbers from 1 to 20 that are divisible by both 2 and 3. "
   ]
  },
  {
   "cell_type": "markdown",
   "id": "d30b50bd",
   "metadata": {},
   "source": [
    "Q8. Write a Python program using a list comprehension to create a \n",
    "list of the sums of corresponding elements from the lists [1, 2, 3] and \n",
    "[4, 5, 6]. \n",
    "Output: [5, 7, 9] "
   ]
  },
  {
   "cell_type": "markdown",
   "id": "6452c180",
   "metadata": {},
   "source": [
    "Q9. Write a python program using list comprehension to create a list \n",
    "which has the sums of elements of list of given list. \n",
    "lst = [[1,2,3],[3,4,5],[3,4,5],[5,7,3,2]] \n",
    "Output: [6,12,12,17] "
   ]
  },
  {
   "cell_type": "markdown",
   "id": "6a568a18",
   "metadata": {},
   "source": [
    "Q10. Write a python program using list comprehension to create a \n",
    "list which has the min of elements of list of given list. \n",
    "lst = [[1,2,3],[3,4,5],[3,4,5],[5,7,3,2]] \n",
    "Output: [1,3,3,2]"
   ]
  }
 ],
 "metadata": {
  "kernelspec": {
   "display_name": "Python 3",
   "language": "python",
   "name": "python3"
  },
  "language_info": {
   "codemirror_mode": {
    "name": "ipython",
    "version": 3
   },
   "file_extension": ".py",
   "mimetype": "text/x-python",
   "name": "python",
   "nbconvert_exporter": "python",
   "pygments_lexer": "ipython3",
   "version": "3.11.9"
  }
 },
 "nbformat": 4,
 "nbformat_minor": 5
}
