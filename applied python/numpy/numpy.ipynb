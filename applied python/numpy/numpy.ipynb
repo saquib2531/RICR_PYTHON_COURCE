{
 "cells": [
  {
   "cell_type": "code",
   "execution_count": 1,
   "id": "b4b1635c",
   "metadata": {},
   "outputs": [
    {
     "name": "stdout",
     "output_type": "stream",
     "text": [
      "Requirement already satisfied: numpy in c:\\users\\miras\\appdata\\local\\packages\\pythonsoftwarefoundation.python.3.11_qbz5n2kfra8p0\\localcache\\local-packages\\python311\\site-packages (2.2.5)\n"
     ]
    },
    {
     "name": "stderr",
     "output_type": "stream",
     "text": [
      "\n",
      "[notice] A new release of pip is available: 25.0.1 -> 25.1.1\n",
      "[notice] To update, run: C:\\Users\\Miras\\AppData\\Local\\Microsoft\\WindowsApps\\PythonSoftwareFoundation.Python.3.11_qbz5n2kfra8p0\\python.exe -m pip install --upgrade pip\n"
     ]
    }
   ],
   "source": [
    "! pip3 install numpy\n"
   ]
  },
  {
   "cell_type": "code",
   "execution_count": 2,
   "id": "dcb1b8d0",
   "metadata": {},
   "outputs": [],
   "source": [
    "import numpy as np"
   ]
  },
  {
   "cell_type": "code",
   "execution_count": null,
   "id": "a3df0a3e",
   "metadata": {},
   "outputs": [
    {
     "data": {
      "text/plain": [
       "(4,)"
      ]
     },
     "execution_count": 6,
     "metadata": {},
     "output_type": "execute_result"
    }
   ],
   "source": [
    "a=np.array([1,2,3,4])\n",
    "a.ndim # dimention of the array\n",
    "a.shape # no. rows and no. of column"
   ]
  },
  {
   "cell_type": "code",
   "execution_count": 15,
   "id": "4a2e88e3",
   "metadata": {},
   "outputs": [
    {
     "data": {
      "text/plain": [
       "(array(['1', '2', '3', '4'], dtype='<U1'),)"
      ]
     },
     "execution_count": 15,
     "metadata": {},
     "output_type": "execute_result"
    }
   ],
   "source": [
    "# return me string chaiy to dtype use karenge\n",
    "a=np.array([1,2,3,4],dtype=str)\n",
    "a,\n"
   ]
  },
  {
   "cell_type": "code",
   "execution_count": null,
   "id": "3dc2aa2f",
   "metadata": {},
   "outputs": [
    {
     "data": {
      "text/plain": [
       "2"
      ]
     },
     "execution_count": 9,
     "metadata": {},
     "output_type": "execute_result"
    }
   ],
   "source": [
    "# two dimentional array\n",
    "b=np.array([[1,2,3,4],[5,6,7,8]])\n",
    "b.shape\n"
   ]
  },
  {
   "cell_type": "code",
   "execution_count": 10,
   "id": "59ebd0f9",
   "metadata": {},
   "outputs": [
    {
     "data": {
      "text/plain": [
       "2"
      ]
     },
     "execution_count": 10,
     "metadata": {},
     "output_type": "execute_result"
    }
   ],
   "source": [
    "b.ndim"
   ]
  },
  {
   "cell_type": "code",
   "execution_count": 14,
   "id": "4feb08ea",
   "metadata": {},
   "outputs": [
    {
     "data": {
      "text/plain": [
       "(array([[[ 1,  2,  3],\n",
       "         [ 4,  5,  6]],\n",
       " \n",
       "        [[ 7,  8,  9],\n",
       "         [10, 11, 12]]]),)"
      ]
     },
     "execution_count": 14,
     "metadata": {},
     "output_type": "execute_result"
    }
   ],
   "source": [
    "# three dimentional array\n",
    "c=np.array([[[1,2,3],[4,5,6]],[[7,8,9],[10,11,12]]])\n",
    "c,"
   ]
  },
  {
   "cell_type": "code",
   "execution_count": null,
   "id": "bf8aa5c6",
   "metadata": {},
   "outputs": [
    {
     "data": {
      "text/plain": [
       "array([ 1.        ,  1.2244898 ,  1.44897959,  1.67346939,  1.89795918,\n",
       "        2.12244898,  2.34693878,  2.57142857,  2.79591837,  3.02040816,\n",
       "        3.24489796,  3.46938776,  3.69387755,  3.91836735,  4.14285714,\n",
       "        4.36734694,  4.59183673,  4.81632653,  5.04081633,  5.26530612,\n",
       "        5.48979592,  5.71428571,  5.93877551,  6.16326531,  6.3877551 ,\n",
       "        6.6122449 ,  6.83673469,  7.06122449,  7.28571429,  7.51020408,\n",
       "        7.73469388,  7.95918367,  8.18367347,  8.40816327,  8.63265306,\n",
       "        8.85714286,  9.08163265,  9.30612245,  9.53061224,  9.75510204,\n",
       "        9.97959184, 10.20408163, 10.42857143, 10.65306122, 10.87755102,\n",
       "       11.10204082, 11.32653061, 11.55102041, 11.7755102 , 12.        ])"
      ]
     },
     "execution_count": 16,
     "metadata": {},
     "output_type": "execute_result"
    }
   ],
   "source": [
    "x=np.linspace(1,12)"
   ]
  },
  {
   "cell_type": "code",
   "execution_count": 23,
   "id": "d7cbdf01",
   "metadata": {},
   "outputs": [],
   "source": [
    "y=np.linspace(1,100,num=30,dtype=int)"
   ]
  },
  {
   "cell_type": "code",
   "execution_count": null,
   "id": "fb21171b",
   "metadata": {},
   "outputs": [
    {
     "data": {
      "text/plain": [
       "(array([[1, 1, 2],\n",
       "        [2, 3, 4],\n",
       "        [4, 5, 6],\n",
       "        [6, 7, 8]]),)"
      ]
     },
     "execution_count": 28,
     "metadata": {},
     "output_type": "execute_result"
    }
   ],
   "source": [
    "y.reshape(5,6) # used to reshape the current into the matrix \n",
    "#0r\n",
    "m=np.linspace(1,8,num=12,dtype=int).reshape(4,3) # direct 2d formation in the form of matrix\n",
    "m,"
   ]
  },
  {
   "cell_type": "markdown",
   "id": "f389e663",
   "metadata": {},
   "source": [
    "create a 2d arry and find shape size and dimention"
   ]
  },
  {
   "cell_type": "code",
   "execution_count": 31,
   "id": "3281d9f8",
   "metadata": {},
   "outputs": [
    {
     "name": "stdout",
     "output_type": "stream",
     "text": [
      "(2, 3)\n",
      "2\n"
     ]
    }
   ],
   "source": [
    "x=np.array([[1,2,3],[4,5,6]])\n",
    "x,\n",
    "print(x.shape)\n",
    "print(x.ndim)\n"
   ]
  },
  {
   "cell_type": "markdown",
   "id": "5f6e2638",
   "metadata": {},
   "source": [
    "create 3d array "
   ]
  },
  {
   "cell_type": "code",
   "execution_count": 34,
   "id": "ac46d60f",
   "metadata": {},
   "outputs": [
    {
     "data": {
      "text/plain": [
       "(array([[[ 1,  2,  3],\n",
       "         [ 4,  5,  6]],\n",
       " \n",
       "        [[ 7,  8,  9],\n",
       "         [10, 11, 12]]]),)"
      ]
     },
     "execution_count": 34,
     "metadata": {},
     "output_type": "execute_result"
    }
   ],
   "source": [
    "x=np.array([[[1,2,3],[4,5,6]],[[7,8,9],[10,11,12]]])\n",
    "x,"
   ]
  },
  {
   "cell_type": "markdown",
   "id": "556df96a",
   "metadata": {},
   "source": [
    "create numpy array with values from 1 to 16 and reshap in the 4X4 matrix by using np.arange and np.reshap "
   ]
  },
  {
   "cell_type": "code",
   "execution_count": 36,
   "id": "3e4617e9",
   "metadata": {},
   "outputs": [
    {
     "data": {
      "text/plain": [
       "(array([[ 1,  2,  3,  4],\n",
       "        [ 5,  6,  7,  8],\n",
       "        [ 9, 10, 11, 12],\n",
       "        [13, 14, 15, 16]]),)"
      ]
     },
     "execution_count": 36,
     "metadata": {},
     "output_type": "execute_result"
    }
   ],
   "source": [
    "x=np.arange(1,17).reshape(4,4)\n",
    "x,"
   ]
  },
  {
   "cell_type": "code",
   "execution_count": null,
   "id": "b6cfcf52",
   "metadata": {},
   "outputs": [],
   "source": []
  },
  {
   "cell_type": "markdown",
   "id": "a1a32b03",
   "metadata": {},
   "source": [
    "matrixs operation"
   ]
  },
  {
   "cell_type": "markdown",
   "id": "df70e33f",
   "metadata": {},
   "source": [
    "eigon vector :\n",
    "the direction for the movement of a specific vactor is known by eigon vactor "
   ]
  },
  {
   "cell_type": "code",
   "execution_count": 2,
   "id": "9a4d84c3",
   "metadata": {},
   "outputs": [],
   "source": [
    "import numpy as np"
   ]
  },
  {
   "cell_type": "code",
   "execution_count": 22,
   "id": "433c3249",
   "metadata": {},
   "outputs": [
    {
     "data": {
      "text/plain": [
       "(array([[ 1,  2,  3,  4,  5],\n",
       "        [ 6,  7,  8,  9, 10],\n",
       "        [11, 12, 13, 14, 15],\n",
       "        [16, 17, 18, 19, 20],\n",
       "        [21, 22, 23, 24, 25]]),)"
      ]
     },
     "execution_count": 22,
     "metadata": {},
     "output_type": "execute_result"
    }
   ],
   "source": [
    "x=np.linspace(1,25,num=25,dtype=int).reshape(5,5)# bidefult ye float element leta h isily hm dtype= keyword ka use karte hai \n",
    "x,"
   ]
  },
  {
   "cell_type": "code",
   "execution_count": 12,
   "id": "8dc03844",
   "metadata": {},
   "outputs": [
    {
     "data": {
      "text/plain": [
       "np.int64(2)"
      ]
     },
     "execution_count": 12,
     "metadata": {},
     "output_type": "execute_result"
    }
   ],
   "source": [
    "# rank of the matrix\n",
    "#keyword= matrix_rank()\n",
    "np.linalg.matrix_rank(x)"
   ]
  },
  {
   "cell_type": "code",
   "execution_count": 13,
   "id": "5a40f414",
   "metadata": {},
   "outputs": [
    {
     "data": {
      "text/plain": [
       "array([ 6.86420807e+01+0.00000000e+00j, -3.64208074e+00+0.00000000e+00j,\n",
       "       -2.90915693e-15+2.38171334e-15j, -2.90915693e-15-2.38171334e-15j,\n",
       "        1.97408863e-16+0.00000000e+00j])"
      ]
     },
     "execution_count": 13,
     "metadata": {},
     "output_type": "execute_result"
    }
   ],
   "source": [
    "#eigon value\n",
    "#keyword= eigvals()\n",
    "np.linalg.eigvals(x)\n"
   ]
  },
  {
   "cell_type": "code",
   "execution_count": 14,
   "id": "c564efc6",
   "metadata": {},
   "outputs": [
    {
     "data": {
      "text/plain": [
       "EigResult(eigenvalues=array([ 6.86420807e+01+0.00000000e+00j, -3.64208074e+00+0.00000000e+00j,\n",
       "       -2.90915693e-15+2.38171334e-15j, -2.90915693e-15-2.38171334e-15j,\n",
       "        1.97408863e-16+0.00000000e+00j]), eigenvectors=array([[-0.10797496+0.j        ,  0.67495283+0.j        ,\n",
       "         0.14670174+0.1909791j ,  0.14670174-0.1909791j ,\n",
       "        -0.07390125+0.j        ],\n",
       "       [-0.25277499+0.j        ,  0.3603897 +0.j        ,\n",
       "         0.3294084 -0.26685261j,  0.3294084 +0.26685261j,\n",
       "        -0.19697337+0.j        ],\n",
       "       [-0.39757502+0.j        ,  0.04582657+0.j        ,\n",
       "        -0.59267376+0.j        , -0.59267376-0.j        ,\n",
       "         0.74972491+0.j        ],\n",
       "       [-0.54237506+0.j        , -0.26873656+0.j        ,\n",
       "        -0.38968465+0.03664144j, -0.38968465-0.03664144j,\n",
       "        -0.61292471+0.j        ],\n",
       "       [-0.68717509+0.j        , -0.58329969+0.j        ,\n",
       "         0.50624827+0.03923207j,  0.50624827-0.03923207j,\n",
       "         0.13407442+0.j        ]]))"
      ]
     },
     "execution_count": 14,
     "metadata": {},
     "output_type": "execute_result"
    }
   ],
   "source": [
    "# if we use eig() keywords then we will get both eigon value and eigon vector at same time \n",
    "np.linalg.eig(x)\n"
   ]
  },
  {
   "cell_type": "code",
   "execution_count": 20,
   "id": "1ccd60eb",
   "metadata": {},
   "outputs": [
    {
     "data": {
      "text/plain": [
       "array([ 6.86420807e+01+0.00000000e+00j, -3.64208074e+00+0.00000000e+00j,\n",
       "       -2.90915693e-15+2.38171334e-15j, -2.90915693e-15-2.38171334e-15j,\n",
       "        1.97408863e-16+0.00000000e+00j])"
      ]
     },
     "execution_count": 20,
     "metadata": {},
     "output_type": "execute_result"
    }
   ],
   "source": [
    "#if we want eigon value and vector seprate so that we have to store both of them \n",
    "eigon_value, eigon_vactor = np.linalg.eig(x)\n",
    "# eigon_vactor\n",
    "eigon_value"
   ]
  },
  {
   "cell_type": "code",
   "execution_count": 23,
   "id": "33c9dd5e",
   "metadata": {},
   "outputs": [
    {
     "data": {
      "text/plain": [
       "np.float64(0.0)"
      ]
     },
     "execution_count": 23,
     "metadata": {},
     "output_type": "execute_result"
    }
   ],
   "source": [
    "# diterminant : measures the scaling factor and to find the rotations and shareing we use diterminant\n",
    "np.linalg.det(x)"
   ]
  },
  {
   "cell_type": "code",
   "execution_count": 24,
   "id": "c9df59d3",
   "metadata": {},
   "outputs": [
    {
     "ename": "LinAlgError",
     "evalue": "Singular matrix",
     "output_type": "error",
     "traceback": [
      "\u001b[1;31m---------------------------------------------------------------------------\u001b[0m",
      "\u001b[1;31mLinAlgError\u001b[0m                               Traceback (most recent call last)",
      "Cell \u001b[1;32mIn[24], line 2\u001b[0m\n\u001b[0;32m      1\u001b[0m \u001b[38;5;66;03m# invers \u001b[39;00m\n\u001b[1;32m----> 2\u001b[0m \u001b[43mnp\u001b[49m\u001b[38;5;241;43m.\u001b[39;49m\u001b[43mlinalg\u001b[49m\u001b[38;5;241;43m.\u001b[39;49m\u001b[43minv\u001b[49m\u001b[43m(\u001b[49m\u001b[43mx\u001b[49m\u001b[43m)\u001b[49m\n",
      "File \u001b[1;32m~\\AppData\\Local\\Packages\\PythonSoftwareFoundation.Python.3.11_qbz5n2kfra8p0\\LocalCache\\local-packages\\Python311\\site-packages\\numpy\\linalg\\_linalg.py:609\u001b[0m, in \u001b[0;36minv\u001b[1;34m(a)\u001b[0m\n\u001b[0;32m    606\u001b[0m signature \u001b[38;5;241m=\u001b[39m \u001b[38;5;124m'\u001b[39m\u001b[38;5;124mD->D\u001b[39m\u001b[38;5;124m'\u001b[39m \u001b[38;5;28;01mif\u001b[39;00m isComplexType(t) \u001b[38;5;28;01melse\u001b[39;00m \u001b[38;5;124m'\u001b[39m\u001b[38;5;124md->d\u001b[39m\u001b[38;5;124m'\u001b[39m\n\u001b[0;32m    607\u001b[0m \u001b[38;5;28;01mwith\u001b[39;00m errstate(call\u001b[38;5;241m=\u001b[39m_raise_linalgerror_singular, invalid\u001b[38;5;241m=\u001b[39m\u001b[38;5;124m'\u001b[39m\u001b[38;5;124mcall\u001b[39m\u001b[38;5;124m'\u001b[39m,\n\u001b[0;32m    608\u001b[0m               over\u001b[38;5;241m=\u001b[39m\u001b[38;5;124m'\u001b[39m\u001b[38;5;124mignore\u001b[39m\u001b[38;5;124m'\u001b[39m, divide\u001b[38;5;241m=\u001b[39m\u001b[38;5;124m'\u001b[39m\u001b[38;5;124mignore\u001b[39m\u001b[38;5;124m'\u001b[39m, under\u001b[38;5;241m=\u001b[39m\u001b[38;5;124m'\u001b[39m\u001b[38;5;124mignore\u001b[39m\u001b[38;5;124m'\u001b[39m):\n\u001b[1;32m--> 609\u001b[0m     ainv \u001b[38;5;241m=\u001b[39m \u001b[43m_umath_linalg\u001b[49m\u001b[38;5;241;43m.\u001b[39;49m\u001b[43minv\u001b[49m\u001b[43m(\u001b[49m\u001b[43ma\u001b[49m\u001b[43m,\u001b[49m\u001b[43m \u001b[49m\u001b[43msignature\u001b[49m\u001b[38;5;241;43m=\u001b[39;49m\u001b[43msignature\u001b[49m\u001b[43m)\u001b[49m\n\u001b[0;32m    610\u001b[0m \u001b[38;5;28;01mreturn\u001b[39;00m wrap(ainv\u001b[38;5;241m.\u001b[39mastype(result_t, copy\u001b[38;5;241m=\u001b[39m\u001b[38;5;28;01mFalse\u001b[39;00m))\n",
      "File \u001b[1;32m~\\AppData\\Local\\Packages\\PythonSoftwareFoundation.Python.3.11_qbz5n2kfra8p0\\LocalCache\\local-packages\\Python311\\site-packages\\numpy\\linalg\\_linalg.py:104\u001b[0m, in \u001b[0;36m_raise_linalgerror_singular\u001b[1;34m(err, flag)\u001b[0m\n\u001b[0;32m    103\u001b[0m \u001b[38;5;28;01mdef\u001b[39;00m\u001b[38;5;250m \u001b[39m\u001b[38;5;21m_raise_linalgerror_singular\u001b[39m(err, flag):\n\u001b[1;32m--> 104\u001b[0m     \u001b[38;5;28;01mraise\u001b[39;00m LinAlgError(\u001b[38;5;124m\"\u001b[39m\u001b[38;5;124mSingular matrix\u001b[39m\u001b[38;5;124m\"\u001b[39m)\n",
      "\u001b[1;31mLinAlgError\u001b[0m: Singular matrix"
     ]
    }
   ],
   "source": [
    "# invers \n",
    "np.linalg.inv(x) # inverse will not determine due to the det of x is 00\n"
   ]
  },
  {
   "cell_type": "code",
   "execution_count": 25,
   "id": "3ec274d3",
   "metadata": {},
   "outputs": [
    {
     "data": {
      "text/plain": [
       "array([[ 1,  6, 11, 16, 21],\n",
       "       [ 2,  7, 12, 17, 22],\n",
       "       [ 3,  8, 13, 18, 23],\n",
       "       [ 4,  9, 14, 19, 24],\n",
       "       [ 5, 10, 15, 20, 25]])"
      ]
     },
     "execution_count": 25,
     "metadata": {},
     "output_type": "execute_result"
    }
   ],
   "source": [
    "# transpose \n",
    "np.linalg.matrix_transpose(x)"
   ]
  },
  {
   "cell_type": "markdown",
   "id": "81861ced",
   "metadata": {},
   "source": [
    "make a matrix "
   ]
  },
  {
   "cell_type": "code",
   "execution_count": 52,
   "id": "60f8d19b",
   "metadata": {},
   "outputs": [
    {
     "name": "stdout",
     "output_type": "stream",
     "text": [
      "[[1 2 3]\n",
      " [4 5 6]\n",
      " [7 8 9]]\n",
      "[[0 9 8]\n",
      " [7 6 5]\n",
      " [4 3 2]]\n"
     ]
    }
   ],
   "source": [
    "a=np.array([[1,2,3],[4,5,6],[7,8,9]])\n",
    "b=np.array([[0,9,8],[7,6,5],[4,3,2]])\n",
    "print(a)\n",
    "print(b)"
   ]
  },
  {
   "cell_type": "code",
   "execution_count": 33,
   "id": "9b1ce002",
   "metadata": {},
   "outputs": [
    {
     "data": {
      "text/plain": [
       "array([[ 26,  30,  24],\n",
       "       [ 59,  84,  69],\n",
       "       [ 92, 138, 114]])"
      ]
     },
     "execution_count": 33,
     "metadata": {},
     "output_type": "execute_result"
    }
   ],
   "source": [
    "np.dot(a,b) # dot product of the given two matrix"
   ]
  },
  {
   "cell_type": "code",
   "execution_count": 34,
   "id": "38484930",
   "metadata": {},
   "outputs": [
    {
     "data": {
      "text/plain": [
       "array([[-11,  -8,   9],\n",
       "       [-11,  22, -11],\n",
       "       [-11,  22, -11]])"
      ]
     },
     "execution_count": 34,
     "metadata": {},
     "output_type": "execute_result"
    }
   ],
   "source": [
    "np.cross(a,b) # cross product of the given two matrix"
   ]
  },
  {
   "cell_type": "code",
   "execution_count": 49,
   "id": "984b2aa6",
   "metadata": {},
   "outputs": [
    {
     "data": {
      "text/plain": [
       "array([[ 1, 11, 11],\n",
       "       [11, 11, 11],\n",
       "       [11, 11, 11]])"
      ]
     },
     "execution_count": 49,
     "metadata": {},
     "output_type": "execute_result"
    }
   ],
   "source": [
    "np.add(a,b) # addition of given two matrix"
   ]
  },
  {
   "cell_type": "code",
   "execution_count": null,
   "id": "46e26027",
   "metadata": {},
   "outputs": [
    {
     "data": {
      "text/plain": [
       "array([0, 6, 2])"
      ]
     },
     "execution_count": 39,
     "metadata": {},
     "output_type": "execute_result"
    }
   ],
   "source": [
    "r=np.diagonal(a)\n",
    "s=np.diagonal(b)"
   ]
  },
  {
   "cell_type": "code",
   "execution_count": 54,
   "id": "678200ed",
   "metadata": {},
   "outputs": [
    {
     "data": {
      "text/plain": [
       "array([[1, 2, 3],\n",
       "       [4, 5, 6],\n",
       "       [7, 8, 9],\n",
       "       [0, 9, 8],\n",
       "       [7, 6, 5],\n",
       "       [4, 3, 2]])"
      ]
     },
     "execution_count": 54,
     "metadata": {},
     "output_type": "execute_result"
    }
   ],
   "source": [
    "# vstack() is used for stack in vertically \n",
    "np.vstack([a,b])"
   ]
  },
  {
   "cell_type": "code",
   "execution_count": 55,
   "id": "78df9350",
   "metadata": {},
   "outputs": [
    {
     "data": {
      "text/plain": [
       "array([[1, 2, 3, 0, 9, 8],\n",
       "       [4, 5, 6, 7, 6, 5],\n",
       "       [7, 8, 9, 4, 3, 2]])"
      ]
     },
     "execution_count": 55,
     "metadata": {},
     "output_type": "execute_result"
    }
   ],
   "source": [
    "# hstack() is used for stack in horizontally \n",
    "np.hstack([a,b])"
   ]
  },
  {
   "cell_type": "code",
   "execution_count": 58,
   "id": "af851d82",
   "metadata": {},
   "outputs": [
    {
     "name": "stdout",
     "output_type": "stream",
     "text": [
      "[[ 7  8  9]\n",
      " [10 11 12]\n",
      " [13 14 15]]\n",
      "[[ 6 12 18]\n",
      " [24 30 36]\n",
      " [42 48 54]]\n",
      "[[-5 -4 -3]\n",
      " [-2 -1  0]\n",
      " [ 1  2  3]]\n",
      "[[0.16666667 0.33333333 0.5       ]\n",
      " [0.66666667 0.83333333 1.        ]\n",
      " [1.16666667 1.33333333 1.5       ]]\n",
      "[[ 0 18 24]\n",
      " [28 30 30]\n",
      " [28 24 18]]\n"
     ]
    }
   ],
   "source": [
    "# we can perfom all the matematic calculation which  could be applied on matix\n",
    "#addition of element in a matrix\n",
    "print(a+6)\n",
    "#multiplication of element in a matrix\n",
    "print(a*6)\n",
    "#substraction of element in a matrix\n",
    "print(a-6)\n",
    "#division of element in a matrix\n",
    "print(a/6)\n",
    "#dot multiplication of two mateix \n",
    "print(a*b)\n"
   ]
  },
  {
   "cell_type": "markdown",
   "id": "cbc9f4f5",
   "metadata": {},
   "source": [
    "create a 6x6 matrix by using arange() function and find eigon value ,eigon vactor, rank , determenant and diagonal of the elements"
   ]
  },
  {
   "cell_type": "code",
   "execution_count": 45,
   "id": "f61ba39c",
   "metadata": {},
   "outputs": [
    {
     "data": {
      "text/plain": [
       "array([[ 1,  2,  3,  4,  5,  6],\n",
       "       [ 7,  8,  9, 10, 11, 12],\n",
       "       [13, 14, 15, 16, 17, 18],\n",
       "       [19, 20, 21, 22, 23, 24],\n",
       "       [25, 26, 27, 28, 29, 30],\n",
       "       [31, 32, 33, 34, 35, 36]])"
      ]
     },
     "execution_count": 45,
     "metadata": {},
     "output_type": "execute_result"
    }
   ],
   "source": [
    "ele= np.arange(1,37,dtype=int).reshape(6,6)\n",
    "ele"
   ]
  },
  {
   "cell_type": "code",
   "execution_count": 47,
   "id": "5af4c955",
   "metadata": {},
   "outputs": [
    {
     "name": "stdout",
     "output_type": "stream",
     "text": [
      "eigon vactor = [ 1.16411822e+02+0.00000000e+00j -5.41182151e+00+0.00000000e+00j\n",
      " -1.29522752e-15+3.03403945e-15j -1.29522752e-15-3.03403945e-15j\n",
      " -3.36522484e-15+0.00000000e+00j  1.73182808e-15+0.00000000e+00j]\n",
      "\n",
      "eigon value = [[-0.08190341+0.j          0.63110943+0.j         -0.22481244+0.23752107j\n",
      "  -0.22481244-0.23752107j  0.32514027+0.j          0.02966602+0.j        ]\n",
      " [-0.19353989+0.j          0.39298443+0.j          0.68634984+0.j\n",
      "   0.68634984-0.j         -0.62687855+0.j          0.28386664+0.j        ]\n",
      " [-0.30517638+0.j          0.15485944+0.j         -0.35278768-0.40954769j\n",
      "  -0.35278768+0.40954769j  0.56403408+0.j         -0.45282174+0.j        ]\n",
      " [-0.41681286+0.j         -0.08326555+0.j         -0.2747546 -0.03214635j\n",
      "  -0.2747546 +0.03214635j -0.40243915+0.j         -0.32864799+0.j        ]\n",
      " [-0.52844934+0.j         -0.32139055+0.j         -0.01346493+0.1053304j\n",
      "  -0.01346493-0.1053304j  -0.0054111 +0.j          0.73196456+0.j        ]\n",
      " [-0.64008582+0.j         -0.55951554+0.j          0.17946981+0.09884256j\n",
      "   0.17946981-0.09884256j  0.14555445+0.j         -0.26402749+0.j        ]]\n",
      "\n",
      "rank = 2\n",
      "\n",
      "determinant = 0.0\n",
      "\n",
      "diagonal = [ 1  8 15 22 29 36]\n"
     ]
    }
   ],
   "source": [
    "eigon_vactor_ele, eigon_value_ele =np.linalg.eig(ele)\n",
    "print('eigon vactor =',eigon_vactor_ele)\n",
    "print()\n",
    "print('eigon value =',eigon_value_ele)\n",
    "print()\n",
    "rank=np.linalg.matrix_rank(ele)\n",
    "print('rank =',rank)\n",
    "print()\n",
    "determinant= np.linalg.det(ele)\n",
    "print('determinant =',determinant)\n",
    "print()\n",
    "diag=np.linalg.diagonal(ele)\n",
    "print('diagonal =',diag)"
   ]
  },
  {
   "cell_type": "code",
   "execution_count": null,
   "id": "51c929c1",
   "metadata": {},
   "outputs": [
    {
     "ename": "TypeError",
     "evalue": "vstack() takes 1 positional argument but 2 were given",
     "output_type": "error",
     "traceback": [
      "\u001b[1;31m---------------------------------------------------------------------------\u001b[0m",
      "\u001b[1;31mTypeError\u001b[0m                                 Traceback (most recent call last)",
      "Cell \u001b[1;32mIn[50], line 2\u001b[0m\n\u001b[0;32m      1\u001b[0m \u001b[38;5;66;03m# vstack() is used for stack in vertically \u001b[39;00m\n\u001b[1;32m----> 2\u001b[0m \u001b[43mnp\u001b[49m\u001b[38;5;241;43m.\u001b[39;49m\u001b[43mvstack\u001b[49m\u001b[43m(\u001b[49m\u001b[43ma\u001b[49m\u001b[43m,\u001b[49m\u001b[43mb\u001b[49m\u001b[43m)\u001b[49m\n",
      "\u001b[1;31mTypeError\u001b[0m: vstack() takes 1 positional argument but 2 were given"
     ]
    }
   ],
   "source": []
  },
  {
   "cell_type": "code",
   "execution_count": 1,
   "id": "5ba79e41",
   "metadata": {},
   "outputs": [
    {
     "ename": "NameError",
     "evalue": "name 'np' is not defined",
     "output_type": "error",
     "traceback": [
      "\u001b[1;31m---------------------------------------------------------------------------\u001b[0m",
      "\u001b[1;31mNameError\u001b[0m                                 Traceback (most recent call last)",
      "Cell \u001b[1;32mIn[1], line 1\u001b[0m\n\u001b[1;32m----> 1\u001b[0m a\u001b[38;5;241m=\u001b[39m\u001b[43mnp\u001b[49m\u001b[38;5;241m.\u001b[39marray([[\u001b[38;5;241m1\u001b[39m,\u001b[38;5;241m2\u001b[39m,\u001b[38;5;241m3\u001b[39m],[\u001b[38;5;241m4\u001b[39m,\u001b[38;5;241m5\u001b[39m,\u001b[38;5;241m6\u001b[39m]])\n\u001b[0;32m      2\u001b[0m b\u001b[38;5;241m=\u001b[39mnp\u001b[38;5;241m.\u001b[39marray([\u001b[38;5;241m1\u001b[39m,\u001b[38;5;241m2\u001b[39m,\u001b[38;5;241m3\u001b[39m])\n\u001b[0;32m      3\u001b[0m x\u001b[38;5;241m=\u001b[39ma\u001b[38;5;241m+\u001b[39mb\n",
      "\u001b[1;31mNameError\u001b[0m: name 'np' is not defined"
     ]
    }
   ],
   "source": [
    "a=np.array([[1,2,3],[4,5,6]])\n",
    "b=np.array([1,2,3])\n",
    "x=a+b\n",
    "print(x)"
   ]
  },
  {
   "cell_type": "code",
   "execution_count": null,
   "id": "19340599",
   "metadata": {},
   "outputs": [
    {
     "name": "stdout",
     "output_type": "stream",
     "text": [
      "[[2 4 6]\n",
      " [5 7 9]]\n"
     ]
    }
   ],
   "source": [
    "#broadcasting : set of rule for aline array with different shape so that they can be use for operation, \n",
    "# it allow us to perform operations on array with diffrent no. of diration or different sizes in one or more dimentions\n",
    "a=np.array([[1,2,3],[4,5,6]])\n",
    "b=np.array([1,2,3])\n",
    "x=a+b\n",
    "print(x)"
   ]
  },
  {
   "cell_type": "markdown",
   "id": "1ef42d33",
   "metadata": {},
   "source": [
    "pandas : to do : data cleaning, data visualisation, data mining, data wrangling\n",
    "        features: series: one dimentional \n",
    "            data frame : 2 dimentional\n",
    "            panal : 3 dimentional "
   ]
  },
  {
   "cell_type": "code",
   "execution_count": null,
   "id": "32067cb1",
   "metadata": {},
   "outputs": [],
   "source": [
    "# series: it is the one dimentional labeled array of the values that can be use to represent a column of data in a data frame\n"
   ]
  }
 ],
 "metadata": {
  "kernelspec": {
   "display_name": "Python 3",
   "language": "python",
   "name": "python3"
  },
  "language_info": {
   "codemirror_mode": {
    "name": "ipython",
    "version": 3
   },
   "file_extension": ".py",
   "mimetype": "text/x-python",
   "name": "python",
   "nbconvert_exporter": "python",
   "pygments_lexer": "ipython3",
   "version": "3.11.9"
  }
 },
 "nbformat": 4,
 "nbformat_minor": 5
}
