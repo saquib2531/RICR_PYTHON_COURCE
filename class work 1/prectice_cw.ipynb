{
 "cells": [
  {
   "cell_type": "code",
   "execution_count": null,
   "metadata": {},
   "outputs": [],
   "source": [
    "x=[3,2,1,56,1000,167]\n",
    "for i in range(len(x)):\n",
    "    r=max(x)\n",
    "    n=min(x)\n",
    "print(r)\n",
    "print(n)"
   ]
  },
  {
   "cell_type": "code",
   "execution_count": null,
   "metadata": {},
   "outputs": [],
   "source": [
    "x=[3,2,1,56,1000,167]\n",
    "a=x[0]\n",
    "for i in range(len(x)):\n",
    "    if x[i]>a:\n",
    "        a=x[i]\n",
    "print(a)\n",
    "for i in range(len(x)):\n",
    "    if x[i]<a:\n",
    "        a=x[i]\n",
    "print(a)\n"
   ]
  },
  {
   "cell_type": "code",
   "execution_count": 14,
   "metadata": {},
   "outputs": [
    {
     "name": "stdout",
     "output_type": "stream",
     "text": [
      "[85, 25, 1, 32, 54, 6, 2]\n",
      "7\n"
     ]
    }
   ],
   "source": [
    "x=[85,25,1,32,54,6]\n",
    "y=[85,2]\n",
    "a=[]\n",
    "for i in range(len(x)):\n",
    "    if x[i]not in a:\n",
    "        a.append(x[i])\n",
    "for i in range(len(y)):\n",
    "    if y[i] not in a:\n",
    "        a.append(y[i])\n",
    "print(a)\n",
    "print(len(a))\n",
    "\n"
   ]
  }
 ],
 "metadata": {
  "kernelspec": {
   "display_name": "Python 3",
   "language": "python",
   "name": "python3"
  },
  "language_info": {
   "codemirror_mode": {
    "name": "ipython",
    "version": 3
   },
   "file_extension": ".py",
   "mimetype": "text/x-python",
   "name": "python",
   "nbconvert_exporter": "python",
   "pygments_lexer": "ipython3",
   "version": "3.11.9"
  }
 },
 "nbformat": 4,
 "nbformat_minor": 2
}
