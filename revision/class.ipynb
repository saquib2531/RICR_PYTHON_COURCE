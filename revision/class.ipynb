{
 "cells": [
  {
   "cell_type": "markdown",
   "id": "abb0aacc",
   "metadata": {},
   "source": []
  },
  {
   "cell_type": "code",
   "execution_count": null,
   "id": "11fb01ef",
   "metadata": {},
   "outputs": [
    {
     "name": "stdout",
     "output_type": "stream",
     "text": [
      "[35, 30, 25, 24, 23, 10, 5]\n"
     ]
    }
   ],
   "source": [
    "x=[35,4,30,7,17,25,24,23,10,5]\n",
    "y=[]\n",
    "x.reverse()\n",
    "max=x[0]\n",
    "y.append(max)\n",
    "for i in range(len(x)):\n",
    "    if x[i]>max:\n",
    "        max=x[i]\n",
    "        y.append(max)\n",
    "y.reverse()\n",
    "print(y)\n"
   ]
  },
  {
   "cell_type": "code",
   "execution_count": 14,
   "id": "9fc701b4",
   "metadata": {},
   "outputs": [
    {
     "data": {
      "text/plain": [
       "[35, 30, 25, 24, 23, 10, 5]"
      ]
     },
     "execution_count": 14,
     "metadata": {},
     "output_type": "execute_result"
    }
   ],
   "source": [
    "def find_max(x):\n",
    "    y=[]\n",
    "    x.reverse()\n",
    "    max=x[0]\n",
    "    y.append(max)\n",
    "    for i in range(len(x)):\n",
    "        if x[i]>max:\n",
    "            max=x[i]\n",
    "            y.append(max)\n",
    "    y.reverse()\n",
    "    return y\n",
    "x=[35,4,30,7,17,25,24,23,10,5]\n",
    "find_max(x)"
   ]
  },
  {
   "cell_type": "code",
   "execution_count": 17,
   "id": "f5b35fa9",
   "metadata": {},
   "outputs": [
    {
     "name": "stdout",
     "output_type": "stream",
     "text": [
      "[30, -31, 23, -23, -8, 1, -1, -1, -13, -30]\n"
     ]
    }
   ],
   "source": [
    "x=[35,4,30,7,17,25,24,23,10,5]\n",
    "y=[]\n",
    "for i in range(len(x)-1):\n",
    "    if x[i-1]>x[i+1]:\n",
    "        z=x[i]-x[i-1]\n",
    "        y.append(z)\n",
    "    else:\n",
    "        z=x[i]-x[i+1]\n",
    "        y.append(z)\n",
    "if x[0]>x[-2]:\n",
    "    z=x[-1]-x[0]\n",
    "    y.append(z)\n",
    "else:\n",
    "    z=x[-1]-x[-2]\n",
    "    y.append(z)\n",
    "print(y)"
   ]
  },
  {
   "cell_type": "code",
   "execution_count": 18,
   "id": "25a7ae07",
   "metadata": {},
   "outputs": [
    {
     "data": {
      "text/plain": [
       "[30, -31, 23, -23, -8, 1, -1, -1, -13, -30]"
      ]
     },
     "execution_count": 18,
     "metadata": {},
     "output_type": "execute_result"
    }
   ],
   "source": [
    "def add_sub_list(x):\n",
    "    y=[]\n",
    "    for i in range(len(x)-1):\n",
    "        if x[i-1]>x[i+1]:\n",
    "            z=x[i]-x[i-1]\n",
    "            y.append(z)\n",
    "        else:\n",
    "            z=x[i]-x[i+1]\n",
    "            y.append(z)\n",
    "    if x[0]>x[-2]:\n",
    "        z=x[-1]-x[0]\n",
    "        y.append(z)\n",
    "    else:\n",
    "        z=x[-1]-x[-2]\n",
    "        y.append(z)\n",
    "    return y\n",
    "x=[35,4,30,7,17,25,24,23,10,5]\n",
    "add_sub_list(x)"
   ]
  },
  {
   "cell_type": "code",
   "execution_count": 1,
   "id": "dc06bf8e",
   "metadata": {},
   "outputs": [
    {
     "name": "stdout",
     "output_type": "stream",
     "text": [
      "2,4,6,8,10,12,14,16,18,20,"
     ]
    }
   ],
   "source": [
    "i=2\n",
    "while i<=20:\n",
    "    print(i,end=',')\n",
    "    i+=2\n",
    "    "
   ]
  },
  {
   "cell_type": "code",
   "execution_count": 2,
   "id": "5398ef8d",
   "metadata": {},
   "outputs": [
    {
     "name": "stdout",
     "output_type": "stream",
     "text": [
      "even=110\n",
      "odd=99\n"
     ]
    }
   ],
   "source": [
    "i=2\n",
    "evn=0\n",
    "odd=0\n",
    "while i<=20:\n",
    "    if i%2==0:\n",
    "        evn+=i\n",
    "        i+=1\n",
    "    else:\n",
    "        odd+=i\n",
    "        i+=1\n",
    "print(f'even={evn}\\nodd={odd}')"
   ]
  },
  {
   "cell_type": "markdown",
   "id": "5e5dab1a",
   "metadata": {},
   "source": [
    "wap which will take a no. as an input and print count of digit in this no."
   ]
  },
  {
   "cell_type": "code",
   "execution_count": 23,
   "id": "7a308291",
   "metadata": {},
   "outputs": [
    {
     "name": "stdout",
     "output_type": "stream",
     "text": [
      "2\n"
     ]
    }
   ],
   "source": [
    "x=int(input())\n",
    "count=0\n",
    "while x!=0:\n",
    "    x//=10\n",
    "    count+=1  \n",
    "print(count)"
   ]
  },
  {
   "cell_type": "markdown",
   "id": "9730ffce",
   "metadata": {},
   "source": [
    "wap sum of digit"
   ]
  },
  {
   "cell_type": "code",
   "execution_count": 30,
   "id": "a133e17c",
   "metadata": {},
   "outputs": [
    {
     "name": "stdout",
     "output_type": "stream",
     "text": [
      "12\n"
     ]
    }
   ],
   "source": [
    "n=int(input())\n",
    "s=0\n",
    "while n!=0:\n",
    "    s+=n%10\n",
    "    n//=10\n",
    "print(s)\n"
   ]
  },
  {
   "cell_type": "code",
   "execution_count": 32,
   "id": "20212e9d",
   "metadata": {},
   "outputs": [
    {
     "name": "stdout",
     "output_type": "stream",
     "text": [
      "not pelimdrom\n"
     ]
    }
   ],
   "source": [
    "n=int(input())\n",
    "s=0\n",
    "x=n\n",
    "while n!=0:\n",
    "    r=n%10\n",
    "    s=s*10+r\n",
    "    n//=10\n",
    "if s==x:\n",
    "    print('pelimdrom')\n",
    "else:\n",
    "    print('not pelimdrom')"
   ]
  },
  {
   "cell_type": "markdown",
   "id": "4fc7a563",
   "metadata": {},
   "source": []
  },
  {
   "cell_type": "code",
   "execution_count": null,
   "id": "1473ad64",
   "metadata": {},
   "outputs": [],
   "source": []
  }
 ],
 "metadata": {
  "kernelspec": {
   "display_name": "Python 3",
   "language": "python",
   "name": "python3"
  },
  "language_info": {
   "codemirror_mode": {
    "name": "ipython",
    "version": 3
   },
   "file_extension": ".py",
   "mimetype": "text/x-python",
   "name": "python",
   "nbconvert_exporter": "python",
   "pygments_lexer": "ipython3",
   "version": "3.11.9"
  }
 },
 "nbformat": 4,
 "nbformat_minor": 5
}
