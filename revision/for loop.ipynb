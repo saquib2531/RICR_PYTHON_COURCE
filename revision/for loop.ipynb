{
 "cells": [
  {
   "cell_type": "markdown",
   "metadata": {},
   "source": [
    "1. Write a python program that take a number from user then add all \n",
    "the natural number which are divisible by 3 or 5 both till that input \n",
    "number. \n",
    "Sample input: \n",
    "Enter a number: 10 \n",
    "Output: 33                             \n",
    "(3+5+6+9+10) "
   ]
  },
  {
   "cell_type": "code",
   "execution_count": null,
   "metadata": {},
   "outputs": [
    {
     "name": "stdout",
     "output_type": "stream",
     "text": [
      "33\n"
     ]
    }
   ],
   "source": [
    "n=int(input())\n",
    "add=0\n",
    "for i in range(1,n+1):\n",
    "    if i%3==0:\n",
    "        add+=i\n",
    "    elif i%5==0:\n",
    "        add+=i\n",
    "print(add)\n"
   ]
  },
  {
   "cell_type": "markdown",
   "metadata": {},
   "source": [
    "2. Write a python program that takes input from user then print the \n",
    "table of the entered number using for loop \n",
    "Example: If user enters ‘5’ then,  \n",
    "Output: 5 x 1 = 5 \n",
    "5 x 2=10 \n",
    "5 x 3 =15 \n",
    "5 x 4 =20 \n",
    "5 x 5 = 25 \n",
    "5 x 6 = 30 \n",
    "5 x 7 = 35  \n",
    "5 x 8 = 40 \n",
    "5 x 9 = 45 \n",
    "5 x 10 =50 "
   ]
  },
  {
   "cell_type": "code",
   "execution_count": null,
   "metadata": {},
   "outputs": [
    {
     "name": "stdout",
     "output_type": "stream",
     "text": [
      "5 * 1  = 5\n",
      "5 * 2  = 10\n",
      "5 * 3  = 15\n",
      "5 * 4  = 20\n",
      "5 * 5  = 25\n",
      "5 * 6  = 30\n",
      "5 * 7  = 35\n",
      "5 * 8  = 40\n",
      "5 * 9  = 45\n",
      "5 * 10  = 50\n"
     ]
    }
   ],
   "source": [
    "n=int(input())\n",
    "for i in range(1,11):\n",
    "        z=i*n\n",
    "        print(n,'*',i,'=', z)"
   ]
  },
  {
   "cell_type": "markdown",
   "metadata": {},
   "source": [
    "3. Write a python program that print the given series. \n",
    "Expected Output: 20, 16, 12, 8, 4, 0 "
   ]
  },
  {
   "cell_type": "code",
   "execution_count": 6,
   "metadata": {},
   "outputs": [
    {
     "name": "stdout",
     "output_type": "stream",
     "text": [
      "20,16,12,8,4,0,"
     ]
    }
   ],
   "source": [
    "for i in range(20,-1,-4):\n",
    "    print(i,end=',')"
   ]
  },
  {
   "cell_type": "markdown",
   "metadata": {},
   "source": [
    "4. Write a python program to generate all the factors of the given \n",
    "number. Using for loop \n",
    "Input: 12 \n",
    "Output: 1, 2, 3, 4, 12 "
   ]
  },
  {
   "cell_type": "code",
   "execution_count": 7,
   "metadata": {},
   "outputs": [
    {
     "name": "stdout",
     "output_type": "stream",
     "text": [
      "1,2,3,4,6,12,"
     ]
    }
   ],
   "source": [
    "n=int(input())\n",
    "for i in range(1,n+1):\n",
    "    if n%i==0:\n",
    "        print(i,end=',')"
   ]
  },
  {
   "cell_type": "markdown",
   "metadata": {},
   "source": [
    "5. Write a Python program to find the sum of digit of a given number \n",
    "using for loop. (between 100 and 999). \n",
    "Input: 123 \n",
    "Output: 6 "
   ]
  },
  {
   "cell_type": "code",
   "execution_count": null,
   "metadata": {},
   "outputs": [
    {
     "name": "stdout",
     "output_type": "stream",
     "text": [
      "45\n"
     ]
    }
   ],
   "source": [
    "n=int(input())\n",
    "add=0\n",
    "for i in range(10):#for addition upto 10 digit no.\n",
    "    r=n%10\n",
    "    add+=r\n",
    "    n//=10\n",
    "print(add)\n"
   ]
  },
  {
   "cell_type": "markdown",
   "metadata": {},
   "source": [
    "6. write a python program that takes number from user then   prints \n",
    "count of even and odd number from 1 to till that number \n",
    "Sample input: \n",
    "Enter a number: 10 \n",
    "Output: \n",
    "Count_of_even_no.s =  5 \n",
    "Count_of_odd_no.s = 5 "
   ]
  },
  {
   "cell_type": "code",
   "execution_count": 22,
   "metadata": {},
   "outputs": [
    {
     "name": "stdout",
     "output_type": "stream",
     "text": [
      "Count_of_even_no.s =  5\n",
      "Count_of_odd_no.s = 5\n"
     ]
    }
   ],
   "source": [
    "n=int(input())\n",
    "evn=0\n",
    "odd=0\n",
    "for i in range(1,n+1):\n",
    "    if i%2==0:\n",
    "        evn+=1\n",
    "    else:\n",
    "        odd+=1\n",
    "print('Count_of_even_no.s = ',evn)\n",
    "print('Count_of_odd_no.s =',odd)\n"
   ]
  },
  {
   "cell_type": "markdown",
   "metadata": {},
   "source": [
    "7. Write a Python program to count how many numbers between 1 \n",
    "and 200 are divisible by 5 but not by 2. "
   ]
  },
  {
   "cell_type": "code",
   "execution_count": 26,
   "metadata": {},
   "outputs": [
    {
     "name": "stdout",
     "output_type": "stream",
     "text": [
      "30\n"
     ]
    }
   ],
   "source": [
    "n=int(input())\n",
    "x=0\n",
    "for i in range(1,n+1):\n",
    "    if i%5==0 and i%2!=0:\n",
    "        x+=1\n",
    "print(x)\n"
   ]
  },
  {
   "cell_type": "markdown",
   "metadata": {},
   "source": [
    "8. Write a Python program to find the reverse of a given number \n",
    "using for loop. (between 100 and 999). \n",
    "Input: 897 \n",
    "Output: 798 "
   ]
  },
  {
   "cell_type": "code",
   "execution_count": 29,
   "metadata": {},
   "outputs": [
    {
     "name": "stdout",
     "output_type": "stream",
     "text": [
      "798\n"
     ]
    }
   ],
   "source": [
    "n=int(input())\n",
    "x=0\n",
    "for i in range(3):\n",
    "    r=n%10\n",
    "    x=x*10+r\n",
    "    n//=10\n",
    "print(x)\n"
   ]
  },
  {
   "cell_type": "markdown",
   "metadata": {},
   "source": [
    "9. Write a python program to input a number and calculate the \n",
    "‘double’ factorial using for loop. \n",
    "Explanation: Double factorial, \n",
    "• For an even integer n, the double factorial is the product of all \n",
    "even integers less than or equal to n. \n",
    "• For an odd integer p, the double factorial is the product of all \n",
    "odd integers less than or equal to p."
   ]
  },
  {
   "cell_type": "code",
   "execution_count": null,
   "metadata": {},
   "outputs": [
    {
     "name": "stdout",
     "output_type": "stream",
     "text": [
      "24\n"
     ]
    }
   ],
   "source": [
    "x=int(input())\n",
    "p=1\n",
    "for i in range(1,x+1):\n",
    "    if x%2==0:\n",
    "        p*=i    \n",
    "    elif x%2!=0:\n",
    "        p*=i\n",
    "print(p)  "
   ]
  },
  {
   "cell_type": "markdown",
   "metadata": {},
   "source": [
    "10. Write a python program which takes number as an input and \n",
    "check whether that number is prime or not. \n",
    "Input: 13 \n",
    "Output: prime"
   ]
  },
  {
   "cell_type": "code",
   "execution_count": 15,
   "metadata": {},
   "outputs": [
    {
     "name": "stdout",
     "output_type": "stream",
     "text": [
      "prime no.\n"
     ]
    }
   ],
   "source": [
    "n=int(input())\n",
    "for i in range(2,n-1):\n",
    "    if n%i==0:\n",
    "        print('not prim ')\n",
    "        break\n",
    "else: \n",
    "    print('prime no.')\n",
    "        "
   ]
  }
 ],
 "metadata": {
  "kernelspec": {
   "display_name": "Python 3",
   "language": "python",
   "name": "python3"
  },
  "language_info": {
   "codemirror_mode": {
    "name": "ipython",
    "version": 3
   },
   "file_extension": ".py",
   "mimetype": "text/x-python",
   "name": "python",
   "nbconvert_exporter": "python",
   "pygments_lexer": "ipython3",
   "version": "3.11.9"
  }
 },
 "nbformat": 4,
 "nbformat_minor": 2
}
