{
 "cells": [
  {
   "cell_type": "markdown",
   "id": "55180f2e",
   "metadata": {},
   "source": [
    "Q1. Write a program that prints number from 1 to 10 number with \n",
    "their square. "
   ]
  },
  {
   "cell_type": "code",
   "execution_count": 4,
   "id": "7b863e13",
   "metadata": {},
   "outputs": [
    {
     "name": "stdout",
     "output_type": "stream",
     "text": [
      "1 : 1\n",
      "2 : 4\n",
      "3 : 9\n",
      "4 : 16\n",
      "5 : 25\n",
      "6 : 36\n",
      "7 : 49\n",
      "8 : 64\n",
      "9 : 81\n",
      "10 : 100\n"
     ]
    }
   ],
   "source": [
    "i=1\n",
    "while i<=10:\n",
    "    print(f'{i} : {i**2}')\n",
    "    i+=1"
   ]
  },
  {
   "cell_type": "markdown",
   "id": "88359813",
   "metadata": {},
   "source": [
    "\n",
    "Q2. Write a program that prints a table of a number, take that \n",
    "number from the user. \n",
    "Sample input: \n",
    "Enter a number:  5 \n",
    "Output: \n",
    "5 x 1 = 5 \n",
    "5 x 2 = 10 \n",
    "5 x 3 = 15 \n",
    "5 x 4 = 20 \n",
    "5 x 5 = 25 \n",
    "5 x 6 = 30 \n",
    "5 x 7 = 35 \n",
    "5 x 8 = 40 \n",
    "5 x 9 = 45 \n",
    "5 x 10 = 50 \n",
    "\n",
    "\n"
   ]
  },
  {
   "cell_type": "code",
   "execution_count": 7,
   "id": "ad3d4990",
   "metadata": {},
   "outputs": [
    {
     "name": "stdout",
     "output_type": "stream",
     "text": [
      "5 x 1 =5\n",
      "5 x 2 =10\n",
      "5 x 3 =15\n",
      "5 x 4 =20\n",
      "5 x 5 =25\n",
      "5 x 6 =30\n",
      "5 x 7 =35\n",
      "5 x 8 =40\n",
      "5 x 9 =45\n",
      "5 x 10 =50\n"
     ]
    }
   ],
   "source": [
    "i=1\n",
    "while i<=10:\n",
    "    print(f'5 x {i} ={5*i}')\n",
    "    i+=1"
   ]
  },
  {
   "cell_type": "markdown",
   "id": "8c998777",
   "metadata": {},
   "source": [
    "Q3. Write a program that calculates the product of all numbers \n",
    "between 1 to 10 using a while loop. "
   ]
  },
  {
   "cell_type": "code",
   "execution_count": 8,
   "id": "c5ede4e3",
   "metadata": {},
   "outputs": [
    {
     "name": "stdout",
     "output_type": "stream",
     "text": [
      "3628800\n"
     ]
    }
   ],
   "source": [
    "i=1\n",
    "x=1\n",
    "while i<=10:\n",
    "    x*=i\n",
    "    i+=1\n",
    "print(x)\n"
   ]
  },
  {
   "cell_type": "markdown",
   "id": "095dd597",
   "metadata": {},
   "source": [
    "Q4. Write a program that prints numbers divisible of 7 between 1 to 70  "
   ]
  },
  {
   "cell_type": "code",
   "execution_count": 9,
   "id": "16600312",
   "metadata": {},
   "outputs": [
    {
     "name": "stdout",
     "output_type": "stream",
     "text": [
      "7\n",
      "14\n",
      "21\n",
      "28\n",
      "35\n",
      "42\n",
      "49\n",
      "56\n",
      "63\n",
      "70\n"
     ]
    }
   ],
   "source": [
    "i=1\n",
    "while i<=70:\n",
    "    if i%7==0:\n",
    "        print(i)\n",
    "    i+=1\n",
    "    "
   ]
  },
  {
   "cell_type": "markdown",
   "id": "61ffe225",
   "metadata": {},
   "source": [
    "Q5. Write a program that takes input from the user and print the \n",
    "reverse counting of that number. \n",
    "Sample Input: 5 \n",
    "Sample output: 5 4 3 2 1 "
   ]
  },
  {
   "cell_type": "code",
   "execution_count": 11,
   "id": "e55dfd61",
   "metadata": {},
   "outputs": [
    {
     "name": "stdout",
     "output_type": "stream",
     "text": [
      "6 5 4 3 2 1 "
     ]
    }
   ],
   "source": [
    "n=int(input())\n",
    "while n>=1:\n",
    "    print(n,end=' ')\n",
    "    n-=1"
   ]
  },
  {
   "cell_type": "markdown",
   "id": "7d1e0166",
   "metadata": {},
   "source": [
    "Q9. Write a program to generate squares of even numbers between 1 to 10. \n",
    "Output: 4,16,36,64,100 "
   ]
  },
  {
   "cell_type": "code",
   "execution_count": 13,
   "id": "ed45cc55",
   "metadata": {},
   "outputs": [
    {
     "name": "stdout",
     "output_type": "stream",
     "text": [
      "4,16,36,64,100,"
     ]
    }
   ],
   "source": [
    "i=1\n",
    "while i<=10:\n",
    "    if i%2==0:\n",
    "        print(i**2,end=',')\n",
    "    i+=1\n"
   ]
  },
  {
   "cell_type": "markdown",
   "id": "2cf735a1",
   "metadata": {},
   "source": [
    "Q10. Write a program to print Multiples of 3 and 5 between 1 to 30. \n",
    " Output: 15, 30 "
   ]
  },
  {
   "cell_type": "code",
   "execution_count": 18,
   "id": "3592d268",
   "metadata": {},
   "outputs": [
    {
     "name": "stdout",
     "output_type": "stream",
     "text": [
      "15,30,"
     ]
    }
   ],
   "source": [
    "i=1\n",
    "while  i<=30:\n",
    "    if i%3==0 and i%5==0:\n",
    "        print(i,end=',')\n",
    "    i+=1"
   ]
  },
  {
   "cell_type": "markdown",
   "id": "ce3e448c",
   "metadata": {},
   "source": [
    "Q11. Write a program to calculate the sum of numbers from 1 to 10 using a while \n",
    "loop. \n",
    " Output: 55 "
   ]
  },
  {
   "cell_type": "code",
   "execution_count": 19,
   "id": "8e28cbe6",
   "metadata": {},
   "outputs": [
    {
     "name": "stdout",
     "output_type": "stream",
     "text": [
      "55\n"
     ]
    }
   ],
   "source": [
    "i=1\n",
    "s=0\n",
    "while i<=10:\n",
    "    s+=i\n",
    "    i+=1\n",
    "print(s)"
   ]
  },
  {
   "cell_type": "markdown",
   "id": "2024355c",
   "metadata": {},
   "source": [
    "Q12. Write a program to calculate Sum of Odd Numbers up to 30 using while loop"
   ]
  },
  {
   "cell_type": "code",
   "execution_count": 20,
   "id": "f8d6d679",
   "metadata": {},
   "outputs": [
    {
     "name": "stdout",
     "output_type": "stream",
     "text": [
      "25\n"
     ]
    }
   ],
   "source": [
    "i=1\n",
    "s=0\n",
    "while i<=10:\n",
    "    if i%2!=0:\n",
    "        s+=i\n",
    "    i+=1\n",
    "print(s)"
   ]
  },
  {
   "cell_type": "markdown",
   "id": "3de4b004",
   "metadata": {},
   "source": [
    "Q1. Write a python program to find the Sum of the Digits of a given \n",
    "number as an input. \n",
    "123 \n",
    "6 = 1+2+3 = 6 "
   ]
  },
  {
   "cell_type": "code",
   "execution_count": 22,
   "id": "fc569d6a",
   "metadata": {},
   "outputs": [
    {
     "name": "stdout",
     "output_type": "stream",
     "text": [
      "6\n"
     ]
    }
   ],
   "source": [
    "n=int(input())\n",
    "i=1\n",
    "s=0\n",
    "while i<=3:\n",
    "    r=n%10\n",
    "    s+=r\n",
    "    n//=10\n",
    "    i+=1\n",
    "print(s)\n"
   ]
  },
  {
   "cell_type": "markdown",
   "id": "6ef522f5",
   "metadata": {},
   "source": [
    "Q2. Write a python program which finds the reverse of a given \n",
    "number. \n",
    "123 reverce =321\n"
   ]
  },
  {
   "cell_type": "code",
   "execution_count": 24,
   "id": "8e29ea24",
   "metadata": {},
   "outputs": [
    {
     "name": "stdout",
     "output_type": "stream",
     "text": [
      "321\n"
     ]
    }
   ],
   "source": [
    "n=int(input())\n",
    "i=1\n",
    "s=0\n",
    "while i<=3:\n",
    "    r=n%10\n",
    "    s=s*10+r\n",
    "    n//=10\n",
    "    i+=1\n",
    "print(s)"
   ]
  },
  {
   "cell_type": "markdown",
   "id": "1bdd9e2e",
   "metadata": {},
   "source": [
    "Q3. Write a python program which find the Factors of a given number \n",
    "as an input. "
   ]
  },
  {
   "cell_type": "code",
   "execution_count": 25,
   "id": "85568fa8",
   "metadata": {},
   "outputs": [
    {
     "name": "stdout",
     "output_type": "stream",
     "text": [
      "1,2,3,4,6,12,"
     ]
    }
   ],
   "source": [
    "n=int(input())\n",
    "i=1\n",
    "while i<=n:\n",
    "    if n%i==0:\n",
    "        print(i,end=',')\n",
    "    i+=1\n",
    "    "
   ]
  },
  {
   "cell_type": "markdown",
   "id": "1b14ebd4",
   "metadata": {},
   "source": [
    "Q5. Write a python program which check Whether the given number \n",
    "as an input is a Palindrome or not. "
   ]
  },
  {
   "cell_type": "code",
   "execution_count": 31,
   "id": "8a807e5c",
   "metadata": {},
   "outputs": [
    {
     "name": "stdout",
     "output_type": "stream",
     "text": [
      "not palindrome\n"
     ]
    }
   ],
   "source": [
    "n=int(input())\n",
    "x=n\n",
    "i=1\n",
    "s=0\n",
    "while i<=3:\n",
    "    r=n%10\n",
    "    s=s*10+r\n",
    "    n//=10\n",
    "    i+=1\n",
    "if s==x:\n",
    "    print('palindrome')\n",
    "else:\n",
    "    print('not palindrome')"
   ]
  },
  {
   "cell_type": "markdown",
   "id": "831ed063",
   "metadata": {},
   "source": [
    "Q6. Write a python program which finds Factorial of a Number. \n",
    "Input \n",
    "5 \n",
    "120 Factorial of 5 is 5! = 5×4×3×2×1 = 120. \n",
    "6 \n",
    "720 Factorial of 6 is 6! = 6×5×4×3×2×1 = 720. 6\n",
    "0 \n",
    "1 Factorial of 0 is 1 (by definition). "
   ]
  },
  {
   "cell_type": "code",
   "execution_count": 35,
   "id": "24cd34ca",
   "metadata": {},
   "outputs": [
    {
     "name": "stdout",
     "output_type": "stream",
     "text": [
      "720\n"
     ]
    }
   ],
   "source": [
    "n=int(input())\n",
    "x=1\n",
    "while n>=1:\n",
    "    x*=n\n",
    "    n-=1\n",
    "print(x)\n",
    "    "
   ]
  },
  {
   "cell_type": "markdown",
   "id": "68fdd34c",
   "metadata": {},
   "source": [
    "Q7. Check Whether or Not the Number is an Armstrong Number. \n",
    "Explanation: An Armstrong number is a number that equals the sum of its \n",
    "digits, each raised to a power (length of that number or count of digit in that \n",
    "number). \n",
    "Input Output \n",
    "Explanation \n",
    "153 Armstrong 1³ + 5³ + 3³ = 153. \n",
    "123 Not Armstrong 1³ + 2³ + 3³ ≠ 123. \n",
    "\n",
    "370 Armstrong 3³ + 7³ + 0³ = 370. \n"
   ]
  },
  {
   "cell_type": "code",
   "execution_count": 46,
   "id": "772aec30",
   "metadata": {},
   "outputs": [
    {
     "name": "stdout",
     "output_type": "stream",
     "text": [
      "36\n",
      "not armstrong\n"
     ]
    }
   ],
   "source": [
    "n=int(input())\n",
    "x=n\n",
    "i=1\n",
    "s=0\n",
    "while i<=3:\n",
    "    r=n%10\n",
    "    r=r**3\n",
    "    n//=10\n",
    "    s+=r\n",
    "    i+=1\n",
    "print(s)\n",
    "if s==x:\n",
    "    print('armstrong')\n",
    "else:\n",
    "    print('not armstrong')"
   ]
  },
  {
   "cell_type": "markdown",
   "id": "1b86b0b3",
   "metadata": {},
   "source": [
    "Q8. Write a python program to check whether or Not the given \n",
    "number is a Perfect Number. \n",
    "Explanation: Given an integer input, the objective is to check whether the sum of its factors (excluding the number itself) equals the number. If so, the \n",
    "number is a Perfect Number. \n",
    " \n",
    "Input   Output      Explanation \n",
    "6       Perfect     Factors of 6 are 1, 2, 3. Sum = 1+2+3 = 6. \n",
    "28      Perfect     Factors of 28 are 1, 2, 4, 7, 14. Sum = 28. \n",
    "10      Not Perfect     Factors of 10 are 1, 2, 5. Sum = 8 ≠ 10. "
   ]
  },
  {
   "cell_type": "code",
   "execution_count": 53,
   "id": "b7ca4878",
   "metadata": {},
   "outputs": [
    {
     "name": "stdout",
     "output_type": "stream",
     "text": [
      "not perfect\n"
     ]
    }
   ],
   "source": [
    "n=int(input())\n",
    "s=0\n",
    "i=1\n",
    "while i<n:\n",
    "    if n%i==0:\n",
    "        s+=i\n",
    "    \n",
    "    i+=1\n",
    "if s==n:\n",
    "    print('perfect no.')\n",
    "else:\n",
    "    print('not perfect')\n"
   ]
  },
  {
   "cell_type": "markdown",
   "id": "2e23cd87",
   "metadata": {},
   "source": [
    "Q9. Write a program to enter the number till the user enters 0 and \n",
    "at the end it should display the sum of all the numbers entered.  \n",
    "Example: \n",
    "Enter a number: 5 \n",
    "Enter a number: 8 \n",
    "Enter a number: 1 \n",
    "Enter a number: -6 \n",
    "Enter a number: 0 \n",
    "Output: 8 "
   ]
  },
  {
   "cell_type": "code",
   "execution_count": 55,
   "id": "85eb45fe",
   "metadata": {},
   "outputs": [
    {
     "name": "stdout",
     "output_type": "stream",
     "text": [
      "6\n"
     ]
    }
   ],
   "source": [
    "n=int(input())\n",
    "s=0\n",
    "while True:\n",
    "    if n==0:\n",
    "        print(s)\n",
    "        break\n",
    "    else:\n",
    "        s+=n\n",
    "        n=int(input())"
   ]
  }
 ],
 "metadata": {
  "kernelspec": {
   "display_name": "Python 3",
   "language": "python",
   "name": "python3"
  },
  "language_info": {
   "codemirror_mode": {
    "name": "ipython",
    "version": 3
   },
   "file_extension": ".py",
   "mimetype": "text/x-python",
   "name": "python",
   "nbconvert_exporter": "python",
   "pygments_lexer": "ipython3",
   "version": "3.11.9"
  }
 },
 "nbformat": 4,
 "nbformat_minor": 5
}
