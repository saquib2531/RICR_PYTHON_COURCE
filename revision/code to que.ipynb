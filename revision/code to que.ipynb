{
 "cells": [
  {
   "cell_type": "code",
   "execution_count": null,
   "metadata": {},
   "outputs": [],
   "source": []
  },
  {
   "cell_type": "code",
   "execution_count": null,
   "metadata": {},
   "outputs": [],
   "source": [
    "x=int(input(\"Enter the number\"))\n",
    "if x<0 :\n",
    "    print(\"Negative\")\n",
    "elif x>0 :\n",
    "    print(\"Positive\")\n",
    "else:\n",
    "    print(\"Zero\")"
   ]
  },
  {
   "cell_type": "code",
   "execution_count": null,
   "metadata": {},
   "outputs": [],
   "source": [
    "x=int(input(\"Enter first no.\"))\n",
    "y=int(input(\"Enter second no\"))\n",
    "z=x+y\n",
    "if z>10 :\n",
    "    print(\"greater\")\n",
    "else:\n",
    "    print(\"less\")"
   ]
  },
  {
   "cell_type": "code",
   "execution_count": null,
   "metadata": {},
   "outputs": [],
   "source": [
    "x=int(input(\"Enter first no.\"))\n",
    "y=int(input(\"Enter second no\"))\n",
    "if x>y :\n",
    "    print(x)\n",
    "else:\n",
    "    print(y)"
   ]
  },
  {
   "cell_type": "code",
   "execution_count": null,
   "metadata": {},
   "outputs": [],
   "source": [
    "x=int(input(\"Enter the no.\"))\n",
    "if x%5==0 :\n",
    "    print(\"divisible by 5\")\n",
    "else:\n",
    "    print(\"not divisible by 5\")"
   ]
  },
  {
   "cell_type": "code",
   "execution_count": null,
   "metadata": {},
   "outputs": [],
   "source": [
    "a=int(input(\"Enter angleA\"))\n",
    "b=int(input(\"Enter angleB\"))\n",
    "c=int(input(\"Enter angleC\"))\n",
    "d=int(input(\"Enter angleD\"))\n",
    "z=a+b+c+d\n",
    "if z==360 :\n",
    "    print(\"valid input\")\n",
    "else:\n",
    "    print(\"not valid input\")"
   ]
  },
  {
   "cell_type": "code",
   "execution_count": null,
   "metadata": {},
   "outputs": [],
   "source": [
    "m=int(input(\"Enter month in no.\"))\n",
    "if 3<=m and m<=5 :\n",
    "    print(\"Spring\")\n",
    "elif 6<=m and m<=8 :\n",
    "    print(\"Summer\") \n",
    "elif 9<=m and m<=11 :\n",
    "    print(\"Autumn\") \n",
    "else:\n",
    "    print(\"Winter\")"
   ]
  },
  {
   "cell_type": "code",
   "execution_count": null,
   "metadata": {},
   "outputs": [],
   "source": [
    "x=int(input(\"Enter the number\"))\n",
    "if x>0 :\n",
    "    print(\"positive\")\n",
    "elif x<0:\n",
    "    print(\"Negative\")\n",
    "else :\n",
    "    print(\"Zero\")"
   ]
  },
  {
   "cell_type": "code",
   "execution_count": null,
   "metadata": {},
   "outputs": [],
   "source": [
    "x=int(input(\"Enter the number\"))\n",
    "if x%2 == 0:\n",
    "    print(\"even no\")\n",
    "else:\n",
    "    print(\"odd no.\")"
   ]
  },
  {
   "cell_type": "code",
   "execution_count": null,
   "metadata": {},
   "outputs": [],
   "source": [
    "x=int(input(\"Enter percentage\"))\n",
    "if 90<=x<=100 :\n",
    "    print(\"GradeA\")\n",
    "elif x>=80 :\n",
    "    print(\"GradeB\")\n",
    "elif x>=70 :\n",
    "    print(\"GradeC\")\n",
    "elif x>=60 :\n",
    "    print(\"GradeD\")\n",
    "else:\n",
    "    print(\"GradeE\")"
   ]
  },
  {
   "cell_type": "code",
   "execution_count": null,
   "metadata": {},
   "outputs": [],
   "source": [
    "x=int(input(\"Enter the no.\"))\n",
    "y=x%3\n",
    "z=x%5\n",
    "l=y==0 and z==0\n",
    "if l  :\n",
    "    print(\"divisible by both\")\n",
    "elif y==0 :\n",
    "    print(\"Divisible by 3\")\n",
    "elif z==0 :\n",
    "    print(\"Divisible by 3\")\n",
    "else:\n",
    "    print(\"not divisible by 3 or 5\")\n"
   ]
  },
  {
   "cell_type": "code",
   "execution_count": null,
   "metadata": {},
   "outputs": [],
   "source": [
    "age= int(input(\"Enter your age\"))\n",
    "if age>= 64 :\n",
    "    print(\"senior\")\n",
    "elif age>=20 :\n",
    "    print(\"Adult\")\n",
    "elif age>=12 :\n",
    "    print(\"teenager\")\n",
    "else:\n",
    "    print(\"child\")"
   ]
  },
  {
   "cell_type": "code",
   "execution_count": null,
   "metadata": {},
   "outputs": [],
   "source": [
    "x=int(input(\"Enter year\"))\n",
    "if (x%4==0 and x%100!=0) or x%400==0:\n",
    "    print(\"leap year\")\n",
    "else:\n",
    "    print(\"not leap year\")"
   ]
  },
  {
   "cell_type": "code",
   "execution_count": null,
   "metadata": {},
   "outputs": [],
   "source": [
    "x=int(input(\"Enter the first no.\"))\n",
    "y=int(input(\"Enter the second no.\"))\n",
    "z=int(input(\"Enter the third no.\"))\n",
    "if x>y and x>z :\n",
    "    print(x)\n",
    "elif y>x and y>z :\n",
    "    print(y)\n",
    "elif z>x and z>y :\n",
    "    print(z)"
   ]
  },
  {
   "cell_type": "code",
   "execution_count": null,
   "metadata": {},
   "outputs": [],
   "source": [
    "a=int(input(\"Enter sideA\"))\n",
    "b=int(input(\"Enter sideB\"))\n",
    "c=int(input(\"Enter sideC\"))\n",
    "if a==b==c :\n",
    "    print(\"equilateral triangle\")\n",
    "elif a==b!=c or a==c!=b or c==b!=a :\n",
    "    print(\"isosceles triangle\")\n",
    "else:\n",
    "    print(\"scalene triange\")"
   ]
  },
  {
   "cell_type": "code",
   "execution_count": null,
   "metadata": {},
   "outputs": [],
   "source": [
    "x=int(input(\"Enter year\"))\n",
    "if x%100==0 :\n",
    "    print(\"Century year\")\n",
    "else:\n",
    "    print(\"not century\")"
   ]
  },
  {
   "cell_type": "code",
   "execution_count": null,
   "metadata": {},
   "outputs": [],
   "source": [
    "x=int(input(\"Enter 1st number\"))\n",
    "y=int(input(\"Enter 2nd number\"))\n",
    "z=int(input(\"Enter 3rd number\"))\n",
    "if x==y==z :\n",
    "    print(\"all are equal\")\n",
    "else:\n",
    "    print(\"No. are not equal\")"
   ]
  },
  {
   "cell_type": "code",
   "execution_count": null,
   "metadata": {},
   "outputs": [],
   "source": [
    "x=int(input(\"Enter value of x\"))\n",
    "y=int(input(\"Enter value of y\"))\n",
    "if x>0 and y>0 :\n",
    "    print(\"First quadrant\")\n",
    "elif x<0 and y>0:\n",
    "    print(\"second quadrant\")\n",
    "elif x<0 and y<0 :\n",
    "    print(\"third quadrant\")\n",
    "elif x>0 and y<0 :\n",
    "    print(\"fourth quadrant\")"
   ]
  },
  {
   "cell_type": "code",
   "execution_count": null,
   "metadata": {},
   "outputs": [],
   "source": [
    "a=int(input(\"Enter 1st value\"))\n",
    "b=int(input(\"Enter 2nd value\"))\n",
    "c=int(input(\"Enter 3rd value\"))\n",
    "if b<a<c :\n",
    "    print(\"upper case =\",c,\"lowr case =\",b)\n",
    "elif c<a<b:\n",
    "    print(\"upper case =\",b,\"lowr case =\",c)\n",
    "elif a<b<c :\n",
    "    print(\"upper case =\",c,\"lowr case =\",a)\n",
    "elif c<b<a :\n",
    "    print(\"upper case =\",a,\"lowr case =\",c)\n",
    "elif b<c<a :\n",
    "    print(\"upper case =\",a,\"lowr case =\",b)\n",
    "elif a<c<b :\n",
    "    print(\"upper case =\",b,\"lowr case =\",a)"
   ]
  },
  {
   "cell_type": "code",
   "execution_count": null,
   "metadata": {},
   "outputs": [],
   "source": [
    "a=int(input(\"Enter 1st side\"))\n",
    "b=int(input(\"Enter 2nd side\"))\n",
    "c=int(input(\"Enter 3rd side\"))\n",
    "if a+b>c and b+c>a and c+a>b :\n",
    "    print(\"valid\")\n",
    "else :\n",
    "    print(\"not valid\")\n",
    "    "
   ]
  },
  {
   "cell_type": "code",
   "execution_count": null,
   "metadata": {},
   "outputs": [],
   "source": [
    "x=float(input(\"Enter first value\"))\n",
    "z=(input(\"enter operator = +,-,*,/,%\"))\n",
    "y=float(input(\"Enter second value\"))\n",
    "if z== \"+\" :\n",
    "    print(x+y)\n",
    "elif z=='-' :\n",
    "    print(x-y)\n",
    "elif z=='*' :\n",
    "    print(x*y)\n",
    "elif z=='/' :\n",
    "    print(x/y)\n",
    "elif z=='%' :\n",
    "    print(x%y)\n",
    "else:\n",
    "    print(\"not valid operator\")"
   ]
  },
  {
   "cell_type": "code",
   "execution_count": null,
   "metadata": {},
   "outputs": [],
   "source": [
    "cp=float(input(\"Enter cost price\"))\n",
    "sp=float(input(\"Selling price\"))\n",
    "z=sp -cp\n",
    "if sp>cp:\n",
    "    print(\"profit\")\n",
    "    print(\"profit amout :\",z)\n",
    "else:\n",
    "    print(\"loss\")\n",
    "    print(\"loss amount :\", -z)"
   ]
  },
  {
   "cell_type": "code",
   "execution_count": null,
   "metadata": {},
   "outputs": [],
   "source": [
    "w=int(input(\"Enter week no. from 1 to 7\"))\n",
    "if w==1:\n",
    "    print(\"Monday\")\n",
    "elif w==2:\n",
    "    print(\"Tuesday\")\n",
    "elif w==3:\n",
    "    print(\"Wednesday\")\n",
    "elif w==4:\n",
    "    print(\"Thrusday\")\n",
    "elif w==5:\n",
    "    print(\"Friday\")\n",
    "elif w==6:\n",
    "    print(\"Saturday\")\n",
    "elif w==7:\n",
    "    print(\"Sunday\")"
   ]
  },
  {
   "cell_type": "code",
   "execution_count": null,
   "metadata": {},
   "outputs": [],
   "source": [
    "x=int(input(\"Enter 1st number\"))\n",
    "y=int(input(\"Enter 2nd number\"))\n",
    "z=int(input(\"Enter 3rd number\"))\n",
    "if x>y>z :\n",
    "    print(\"Decreasing order\")\n",
    "elif x<y<z :\n",
    "    print(\"Increasing order\")\n",
    "else:\n",
    "    print(\"not in order \")"
   ]
  },
  {
   "cell_type": "code",
   "execution_count": null,
   "metadata": {},
   "outputs": [],
   "source": [
    "x=int(input(\"product 1st price\"))\n",
    "y=int(input(\"product 2nd price\"))\n",
    "z=int(input(\"product 3rd price\"))\n",
    "t= x+y+z\n",
    "\n",
    "tp=t-(t*(10/100))\n",
    "\n",
    "\n",
    "if t>=100:\n",
    "    print(\"10% discount applied\")\n",
    "    print(\"payable price :\", tp)\n",
    "else:\n",
    "    print(\"no discount applied\")"
   ]
  },
  {
   "cell_type": "code",
   "execution_count": null,
   "metadata": {},
   "outputs": [],
   "source": [
    "u=float(input(\"Enter unit of electricity \"))\n",
    "if u<=50 :\n",
    "    a=u*0.50\n",
    "    sa=a+(a*(20/100))\n",
    "    print(\"Electricity bill :\", a)\n",
    "    print(\"with surcharge :\", sa)\n",
    "elif 50<u and u<=200 :\n",
    "    b=(50*0.50)+((u-50)*0.75)\n",
    "    sb=b+(b*(20/100))\n",
    "    print(\"Electricity bill :\", b)\n",
    "    print(\"with surcharge :\", sb)\n",
    "elif 200<u and u<=450 :\n",
    "    c=(50*0.50)+(150*0.75)+((u-200)*1.20)\n",
    "    sc=c+(c*(20/100))\n",
    "    print(\"Electricity bill :\", c)\n",
    "    print(\"with surcharge :\", sc)\n",
    "else:\n",
    "    d=(50*0.50)+(150*0.75)+(250*1.50)+((u-450)*1.50)\n",
    "    sd=d+(d*(20/100))\n",
    "    print(\"Electricity bill :\", d)\n",
    "    print(\"with surcharge :\", sd)"
   ]
  },
  {
   "cell_type": "code",
   "execution_count": null,
   "metadata": {},
   "outputs": [],
   "source": [
    "u=int(input(\"Enter the no of units \"))\n",
    "if u<=50:\n",
    "    c=u*0.50\n",
    "    print(\"Electricity bill :\", c)\n",
    "elif u<=200:\n",
    "    c=25+(u-50)*0.75\n",
    "elif u<=450:\n",
    "    c=25+150*0.75+(u-200)*1.20\n",
    "else:\n",
    "    c=25+150*0.75+250*1.20+(u-450)*1.50\n",
    "\n",
    "final_amt=c+c*0.2\n",
    "print(final_amt)"
   ]
  },
  {
   "cell_type": "code",
   "execution_count": null,
   "metadata": {},
   "outputs": [],
   "source": [
    "x=float(input('Enter kilometer'))\n",
    "if  x<=10:\n",
    "    a=x*11\n",
    "    print('bill =',a)\n",
    "elif x>10 and x<=100 :\n",
    "    b=a+((x-10)*10)\n",
    "    print('bill = ', b)\n",
    "else:\n",
    "    c=a+b+((x-100)*9)\n",
    "    print('bill =',c)\n",
    "    "
   ]
  },
  {
   "cell_type": "code",
   "execution_count": null,
   "metadata": {},
   "outputs": [],
   "source": [
    "x=0\n",
    "n=int(input('enter the no.'))\n",
    "for i in range(1,n+1):\n",
    "    if i%3==0 or i%5==0:\n",
    "        x+=i\n",
    "print(x,end='')"
   ]
  },
  {
   "cell_type": "code",
   "execution_count": null,
   "metadata": {},
   "outputs": [],
   "source": [
    "n=int(input('enter the no.'))\n",
    "for i in range(1,11):\n",
    "    print('5 *',i,'=',n*i)"
   ]
  },
  {
   "cell_type": "code",
   "execution_count": null,
   "metadata": {},
   "outputs": [],
   "source": [
    "for i in range(20,-1,-4):\n",
    "    print(i,end=',')"
   ]
  },
  {
   "cell_type": "code",
   "execution_count": null,
   "metadata": {},
   "outputs": [],
   "source": [
    "n=int(input('enter the no.'))\n",
    "for i in range(1,n+1):\n",
    "    if n%i==0:\n",
    "        print(i,end=',')"
   ]
  },
  {
   "cell_type": "code",
   "execution_count": null,
   "metadata": {},
   "outputs": [],
   "source": [
    "x=0\n",
    "n=int(input('enter the no.'))\n",
    "for i in range(3):\n",
    "    r=n%10\n",
    "    x+=r\n",
    "    n//=10\n",
    "print(x,end=',')"
   ]
  },
  {
   "cell_type": "code",
   "execution_count": null,
   "metadata": {},
   "outputs": [],
   "source": [
    "evn=0\n",
    "odd=0\n",
    "n=int(input('enter the no.'))\n",
    "for i in range(1,n+1):\n",
    "    if i%2==0:\n",
    "        evn+=1\n",
    "    else:\n",
    "        odd+=1\n",
    "print(' Count_of_even_no.s',evn,'\\n','Count_of_odd_no.s',odd)"
   ]
  },
  {
   "cell_type": "code",
   "execution_count": null,
   "metadata": {},
   "outputs": [],
   "source": [
    "\n",
    "for i in range(1,201):\n",
    "    if i%5==0 and i%2!=0:\n",
    "        print(i,end=',')"
   ]
  },
  {
   "cell_type": "code",
   "execution_count": null,
   "metadata": {},
   "outputs": [],
   "source": [
    "x=0\n",
    "n=int(input('enter the no.'))\n",
    "for i in range(3):\n",
    "    r=n%10\n",
    "    x=x*10+r\n",
    "    n//=10\n",
    "print(x,end=',')"
   ]
  },
  {
   "cell_type": "code",
   "execution_count": null,
   "metadata": {},
   "outputs": [],
   "source": [
    "n=int(input('enter the no.'))\n",
    "ans=1\n",
    "for i in range(n,0,-2):\n",
    "    ans*=i\n",
    "print(ans,end=',')"
   ]
  },
  {
   "cell_type": "code",
   "execution_count": null,
   "metadata": {},
   "outputs": [],
   "source": [
    "n=int(input('enter the no.'))\n",
    "x=n-1\n",
    "for i in range(x,0,-1):\n",
    "    if x%i!=0:\n",
    "        print('prime')\n",
    "    elif x%i==0:\n",
    "        print('not prime')\n"
   ]
  },
  {
   "cell_type": "code",
   "execution_count": null,
   "metadata": {},
   "outputs": [],
   "source": [
    "for i in range(5,16):\n",
    "    print(i,end=',')"
   ]
  },
  {
   "cell_type": "code",
   "execution_count": null,
   "metadata": {},
   "outputs": [],
   "source": [
    "for i in range(2,25):\n",
    "    if i%2==0:\n",
    "        print(i,end=',')"
   ]
  },
  {
   "cell_type": "code",
   "execution_count": null,
   "metadata": {},
   "outputs": [],
   "source": [
    "for i in range(1,14):\n",
    "    if i%2!=0:\n",
    "        print(i,end=',')"
   ]
  },
  {
   "cell_type": "code",
   "execution_count": null,
   "metadata": {},
   "outputs": [],
   "source": [
    "for i in range(20,0,-1):\n",
    "    print(i,end=',')"
   ]
  },
  {
   "cell_type": "code",
   "execution_count": null,
   "metadata": {},
   "outputs": [],
   "source": [
    "for i in range(2,13):\n",
    "    i*=i\n",
    "    print(i,end=',')"
   ]
  },
  {
   "cell_type": "code",
   "execution_count": null,
   "metadata": {},
   "outputs": [],
   "source": [
    "for i in range(1,7):\n",
    "    i=i**3\n",
    "    print(i,end=',')"
   ]
  },
  {
   "cell_type": "code",
   "execution_count": null,
   "metadata": {},
   "outputs": [],
   "source": [
    "x=1\n",
    "for i in range(1,11):\n",
    "   x=i*5\n",
    "   print('5 *',i,'=',x)"
   ]
  },
  {
   "cell_type": "code",
   "execution_count": null,
   "metadata": {},
   "outputs": [],
   "source": [
    "for i in range(1,31):\n",
    "    if i%3==0 and i%4==0:\n",
    "        print(i,end=',')"
   ]
  },
  {
   "cell_type": "code",
   "execution_count": null,
   "metadata": {},
   "outputs": [],
   "source": [
    "for i in range(1,41):\n",
    "    if i%7==0:\n",
    "        continue\n",
    "    print(i,end=',')"
   ]
  },
  {
   "cell_type": "code",
   "execution_count": null,
   "metadata": {},
   "outputs": [],
   "source": [
    "x=0\n",
    "for i in range(1,7):\n",
    "    i=i**2\n",
    "    x+=i\n",
    "print(x)"
   ]
  },
  {
   "cell_type": "code",
   "execution_count": null,
   "metadata": {},
   "outputs": [],
   "source": [
    "x=0\n",
    "for i in range(1,61):\n",
    "    if i%2!=0:\n",
    "        x+=1\n",
    "print(x)"
   ]
  },
  {
   "cell_type": "code",
   "execution_count": null,
   "metadata": {},
   "outputs": [],
   "source": [
    "for i in range(1,31):\n",
    "    if i%5==0:\n",
    "        i=='Five'\n",
    "        print(i)\n",
    "\n"
   ]
  },
  {
   "cell_type": "code",
   "execution_count": null,
   "metadata": {},
   "outputs": [],
   "source": [
    "x=0\n",
    "n=int(input('enter the no.'))\n",
    "for i in range(10):\n",
    "    r=n%10\n",
    "    x+=r\n",
    "    n//=10\n",
    "   \n",
    "print(x)\n"
   ]
  },
  {
   "cell_type": "code",
   "execution_count": null,
   "metadata": {},
   "outputs": [],
   "source": [
    "for i in range(1,9):\n",
    "    i=3**i\n",
    "    print(i,end=',')"
   ]
  }
 ],
 "metadata": {
  "language_info": {
   "name": "python"
  }
 },
 "nbformat": 4,
 "nbformat_minor": 2
}
