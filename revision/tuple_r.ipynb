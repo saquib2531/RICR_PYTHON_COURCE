{
 "cells": [
  {
   "cell_type": "markdown",
   "id": "66560c36",
   "metadata": {},
   "source": [
    "Q1. Write a python program to create a tuple with elements 'apple', \n",
    "'banana', 'cherry'. Print the first and last elements. "
   ]
  },
  {
   "cell_type": "code",
   "execution_count": 1,
   "id": "3c45d668",
   "metadata": {},
   "outputs": [
    {
     "name": "stdout",
     "output_type": "stream",
     "text": [
      "apple cherry\n"
     ]
    }
   ],
   "source": [
    "tpl=('apple', 'banana', 'cherry')\n",
    "print(tpl[0],tpl[-1])"
   ]
  },
  {
   "cell_type": "markdown",
   "id": "326d8dbc",
   "metadata": {},
   "source": [
    "Q2. Write a python program which prints the second last element \n",
    "and check if 'blue' is in the given tuple. \n",
    "t = ('red', 'green', 'blue', 'yellow') "
   ]
  },
  {
   "cell_type": "code",
   "execution_count": 3,
   "id": "f9046391",
   "metadata": {},
   "outputs": [
    {
     "name": "stdout",
     "output_type": "stream",
     "text": [
      "blue\n",
      "True\n"
     ]
    }
   ],
   "source": [
    "t = ('red', 'green', 'blue', 'yellow') \n",
    "x=t[-2]\n",
    "print(x)\n",
    "print(x =='blue')"
   ]
  },
  {
   "cell_type": "markdown",
   "id": "73c2353c",
   "metadata": {},
   "source": [
    "Q3. Write a python program in which slice the given tuple to get the \n",
    "elements from the second to the fourth position. Print the sliced \n",
    "tuple and its length. \n",
    "tpl = ('a', 'b', 'c', 'd', 'e') "
   ]
  },
  {
   "cell_type": "code",
   "execution_count": 4,
   "id": "bade0c9d",
   "metadata": {},
   "outputs": [
    {
     "name": "stdout",
     "output_type": "stream",
     "text": [
      "('c', 'd', 'e') \n",
      " length: 3\n"
     ]
    }
   ],
   "source": [
    "tpl = ('a', 'b', 'c', 'd', 'e') \n",
    "s=tpl[2:5]\n",
    "print(f'{s} \\n length: {len(s)}')"
   ]
  },
  {
   "cell_type": "markdown",
   "id": "7b426e92",
   "metadata": {},
   "source": [
    "Q4. Write a python program to concatenate the given tuples. Print \n",
    "the result and then sort the tuple and print it. \n",
    "t1 = ('a', 'b', 'c') \n",
    "t2 = ('d', 'e', 'f') \n",
    "Output: ('a', 'b', 'c', 'd', 'e', 'f') \n",
    "('a', 'b', 'c', 'd', 'e', 'f') "
   ]
  },
  {
   "cell_type": "code",
   "execution_count": 8,
   "id": "5da41e02",
   "metadata": {},
   "outputs": [
    {
     "name": "stdout",
     "output_type": "stream",
     "text": [
      "('a', 'b', 'c', 'd', 'e', 'f') \n",
      "('a', 'b', 'c', 'd', 'e', 'f')\n"
     ]
    }
   ],
   "source": [
    "t1 = ('a', 'b', 'c') \n",
    "t2 = ('d', 'e', 'f') \n",
    "s=t1+t2\n",
    "x=sorted(s)\n",
    "x=tuple(s)\n",
    "print(f'{s} \\n{x}')"
   ]
  },
  {
   "cell_type": "markdown",
   "id": "65fb9c17",
   "metadata": {},
   "source": [
    "Q5. Write a program to count how many times 5 appears and find \n",
    "the index of the first occurrence of 3. Print both results. \n",
    "t = (1, 2, 3, 4, 5, 5, 5, 6). "
   ]
  },
  {
   "cell_type": "code",
   "execution_count": 9,
   "id": "26e2fea7",
   "metadata": {},
   "outputs": [
    {
     "name": "stdout",
     "output_type": "stream",
     "text": [
      "3\n",
      "2\n"
     ]
    }
   ],
   "source": [
    "t = (1, 2, 3, 4, 5, 5, 5, 6)\n",
    "print(t.count(5))\n",
    "print(t.index(3))"
   ]
  },
  {
   "cell_type": "markdown",
   "id": "37eadb9d",
   "metadata": {},
   "source": [
    "Q6. Write a program to create a tuple with elements ('cat', 'dog', \n",
    "'mouse', 'elephant'). Slice it to get the first two elements and print \n",
    "them and also print the after sorting the tuple. "
   ]
  },
  {
   "cell_type": "code",
   "execution_count": 10,
   "id": "0672ac8f",
   "metadata": {},
   "outputs": [
    {
     "name": "stdout",
     "output_type": "stream",
     "text": [
      "('cat', 'dog') \n",
      "('cat', 'dog')\n"
     ]
    }
   ],
   "source": [
    "t=('cat', 'dog', 'mouse', 'elephant')\n",
    "s=t[0:2]\n",
    "x=sorted(s)\n",
    "print(f'{s} \\n{tuple(x)}')"
   ]
  },
  {
   "cell_type": "markdown",
   "id": "f87a9c63",
   "metadata": {},
   "source": [
    "Q7. Write a python program which prints the last element of given \n",
    "tuple and check if 'Hello' is in the tuple. Print the results. \n",
    "tpl = ('python', 'java', 'c++', 'ruby') \n",
    "Output: ‘ruby’ \n",
    "False "
   ]
  },
  {
   "cell_type": "code",
   "execution_count": 14,
   "id": "8be7c2cb",
   "metadata": {},
   "outputs": [
    {
     "name": "stdout",
     "output_type": "stream",
     "text": [
      "ruby\n",
      "False\n"
     ]
    }
   ],
   "source": [
    "tpl = ('python', 'java', 'c++', 'ruby') \n",
    "print(tpl[-1])\n",
    "x='hello' in tpl\n",
    "print(x)"
   ]
  },
  {
   "cell_type": "markdown",
   "id": "0cf5a10a",
   "metadata": {},
   "source": [
    "Q8. Write a python program to create a tuple with elements ('hello', \n",
    "'world', 'python'). Print its length then add ‘3’ as int at the last of \n",
    "tuple and Print \n",
    "Output: 3 \n",
    "[‘hello’,’world’,’python’,3] "
   ]
  },
  {
   "cell_type": "code",
   "execution_count": 16,
   "id": "a793e5f3",
   "metadata": {},
   "outputs": [
    {
     "name": "stdout",
     "output_type": "stream",
     "text": [
      "['hello', 'world', 'python', 3]\n"
     ]
    }
   ],
   "source": [
    "t=('hello', 'world', 'python')\n",
    "x=list(t)\n",
    "x.append(3)\n",
    "print(x)"
   ]
  },
  {
   "cell_type": "markdown",
   "id": "fe2b6310",
   "metadata": {},
   "source": [
    "Q9. Write a python program which access first six elements of the \n",
    "given tuple, then count how many times 5 appears in the new tuple. \n",
    "Print both results. \n",
    "t = (1, 2, 5, 5, 6, 3, 4, 5, 5, 5, 6) "
   ]
  },
  {
   "cell_type": "code",
   "execution_count": 18,
   "id": "31c62f72",
   "metadata": {},
   "outputs": [
    {
     "name": "stdout",
     "output_type": "stream",
     "text": [
      "new tupple: (1, 2, 5, 5, 6, 3, 4) \n",
      "2\n",
      "old tupple: (1, 2, 5, 5, 6, 3, 4, 5, 5, 5, 6)\n"
     ]
    }
   ],
   "source": [
    "t = (1, 2, 5, 5, 6, 3, 4, 5, 5, 5, 6) \n",
    "x=t[0:7]\n",
    "print(f'new tupple: {x} \\n{x.count(5)}')\n",
    "print('old tupple:',t)"
   ]
  },
  {
   "cell_type": "markdown",
   "id": "14ea479b",
   "metadata": {},
   "source": [
    "Q10. Write a python program in which concatenate the given tuples \n",
    "and print the resulting tuple and the third element of generated \n",
    "tuple. \n",
    "t1 = ('java', 'python') \n",
    "t2 = ('c', 'ruby')"
   ]
  },
  {
   "cell_type": "code",
   "execution_count": 19,
   "id": "d136efff",
   "metadata": {},
   "outputs": [
    {
     "name": "stdout",
     "output_type": "stream",
     "text": [
      "('java', 'python', 'c', 'ruby') \n",
      "c\n"
     ]
    }
   ],
   "source": [
    "t1 = ('java', 'python') \n",
    "t2 = ('c', 'ruby')\n",
    "t=t1+t2\n",
    "print(f'{t} \\n{t[2]}')"
   ]
  },
  {
   "cell_type": "markdown",
   "id": "9e51d83b",
   "metadata": {},
   "source": [
    "Q1. Write a Python program to check if a specified element appears \n",
    "in a tuple of tuples. \n",
    "Original Tuple: \n",
    "(('Red', 'White', 'Blue'), ('Green', 'Pink', 'Purple'), ('Orange', 'Yellow', \n",
    "'Lime')) \n",
    "Check if White presenet in said tuple of tuples! \n",
    "True \n",
    "Check if White presenet in said tuple of tuples! \n",
    "True \n",
    "Check if Olive presenet in said tuple of tuples! \n",
    "False \n",
    "\n",
    "\n",
    "\n",
    "\n",
    "\n"
   ]
  },
  {
   "cell_type": "code",
   "execution_count": 3,
   "id": "cfb15afb",
   "metadata": {},
   "outputs": [
    {
     "name": "stdout",
     "output_type": "stream",
     "text": [
      "True\n",
      "False\n"
     ]
    }
   ],
   "source": [
    "t=(('Red', 'White', 'Blue'), ('Green', 'Pink', 'Purple'), ('Orange', 'Yellow', 'Lime'))\n",
    "for i in t:\n",
    "    if 'White' in i:\n",
    "        print(True)\n",
    "    elif 'Olive' in i:\n",
    "        print(True)\n",
    "else:\n",
    "    print(False)"
   ]
  },
  {
   "cell_type": "markdown",
   "id": "e1b231c9",
   "metadata": {},
   "source": [
    "Q2. WAP to check the tuple contain any duplicate element "
   ]
  },
  {
   "cell_type": "code",
   "execution_count": 7,
   "id": "6188fc0e",
   "metadata": {},
   "outputs": [
    {
     "name": "stdout",
     "output_type": "stream",
     "text": [
      "False\n"
     ]
    }
   ],
   "source": [
    "t=(1, 9, 1, 6, 3, 4, 5, 1, 1, 2, 5, 6, 7, 8, 9, 2) \n",
    "if t.count(t)>1:\n",
    "    print(True)\n",
    "else:\n",
    "    print(False)"
   ]
  },
  {
   "cell_type": "markdown",
   "id": "3d95608e",
   "metadata": {},
   "source": [
    "Q3. WAP to check if all the element of a tuple are in descending \n",
    "order or not. "
   ]
  },
  {
   "cell_type": "code",
   "execution_count": null,
   "id": "4fc5c828",
   "metadata": {},
   "outputs": [
    {
     "name": "stdout",
     "output_type": "stream",
     "text": [
      "not dec\n"
     ]
    }
   ],
   "source": [
    "t=( 9,8,7,6,8,9) \n",
    "\n",
    "for i in range(len(t)-1):\n",
    "    if t[i]<t[i+1]:\n",
    "        print('not dec')\n",
    "        break\n",
    "    t[i]==t[i+1]\n",
    "else:\n",
    "    \n",
    "    print('dec')\n",
    "#9, 1, 6, 3, 4, 5, 1, 1, 2, 5, 6, 7, 8, 9, 2\n",
    "    "
   ]
  },
  {
   "cell_type": "markdown",
   "id": "4d24a879",
   "metadata": {},
   "source": [
    "\n",
    "Q4. WAP to check if the elements in the first half of a tuple are \n",
    "sorted in ascending or not. "
   ]
  },
  {
   "cell_type": "code",
   "execution_count": 13,
   "id": "d2cbec43",
   "metadata": {},
   "outputs": [
    {
     "name": "stdout",
     "output_type": "stream",
     "text": [
      "not sorted\n"
     ]
    }
   ],
   "source": [
    "t=(1, 9, 1, 6, 3, 4, 5, 1, 1, 2, 5, 6, 7, 8, 9, 2) \n",
    "fhalf=t[0:len(t)//2]\n",
    "if fhalf == sorted(fhalf):\n",
    "    print('sorted')\n",
    "else:\n",
    "    print('not sorted')\n"
   ]
  },
  {
   "cell_type": "markdown",
   "id": "fc5301b0",
   "metadata": {},
   "source": [
    "Q5. WAP to inputs name of n students and store them in a tuple . \n",
    "Also, input a name from the user and if this student is present in the \n",
    "tuple or not. Example:  \n",
    "Input:-         \n",
    "How many student?=5 \n",
    "Enter name of student 1: Anaya \n",
    "Enter name of student 2:Ausha \n",
    "Enter name of student 3:Kirat \n",
    "Enter name of student 4:Kyle \n",
    "Enter name of student 5:Suji \n",
    "Output:- \n",
    "Enter name to be Searched for : Suji \n",
    "Suji exists in a tuple "
   ]
  },
  {
   "cell_type": "code",
   "execution_count": 20,
   "id": "9024a53e",
   "metadata": {},
   "outputs": [
    {
     "name": "stdout",
     "output_type": "stream",
     "text": [
      "('ayana', 'ayusha', 'kirat', 'kyle', 'sujit')\n",
      "not exists in a tuple\n"
     ]
    }
   ],
   "source": [
    "n=int(input('how many students ?'))\n",
    "t=[]\n",
    "for i in range(n):\n",
    "    \n",
    "    x=str(input('enter name of student'))\n",
    "    t.append(x)\n",
    "t=tuple(t)\n",
    "print(t)\n",
    "y=str(input('enter name to be searched'))\n",
    "if y in t:\n",
    "    print(y,'exists in a tuple')\n",
    "else:\n",
    "    print('not exists in a tuple')\n"
   ]
  },
  {
   "cell_type": "markdown",
   "id": "ba5e2b46",
   "metadata": {},
   "source": [
    "Q6. Python program to find unique numbers in a given tuple – \n",
    "original tuple: (1, 9, 1, 6, 3, 4, 5, 1, 1, 2, 5, 6, 7, 8, 9, 2) \n",
    "Unique numbers: (1, 9, 6, 3, 4, 5, 2, 7, 8) "
   ]
  },
  {
   "cell_type": "code",
   "execution_count": 22,
   "id": "cfcd749a",
   "metadata": {},
   "outputs": [
    {
     "name": "stdout",
     "output_type": "stream",
     "text": [
      "(1, 9, 6, 3, 4, 5, 2, 7, 8)\n"
     ]
    }
   ],
   "source": [
    "t=(1, 9, 1, 6, 3, 4, 5, 1, 1, 2, 5, 6, 7, 8, 9, 2) \n",
    "x=[]\n",
    "for i in t:\n",
    "    if i not in x:\n",
    "        x.append(i)\n",
    "x=tuple(x)\n",
    "print(x)"
   ]
  },
  {
   "cell_type": "markdown",
   "id": "a47353d2",
   "metadata": {},
   "source": [
    "Q7. Write a Python program to convert a tuple of string values to a \n",
    "tuple of integer values. \n",
    "Original tuple values: \n",
    "(('333', '33'), ('1416', '55')) \n",
    "New tuple values: \n",
    "((333, 33), (1416, 55)) "
   ]
  },
  {
   "cell_type": "code",
   "execution_count": null,
   "id": "e629c8a8",
   "metadata": {},
   "outputs": [
    {
     "name": "stdout",
     "output_type": "stream",
     "text": [
      "((333, 33), (1416, 55))\n"
     ]
    }
   ],
   "source": [
    "t=(('333', '33'), ('1416', '55')) \n",
    "x=[]\n",
    "for i in t:\n",
    "    l=[]\n",
    "    for j in i:\n",
    "        if type(j)==str:\n",
    "            r=int(j)\n",
    "        l.append(r)\n",
    "    l=tuple(l)\n",
    "    x.append(l)\n",
    "x=tuple(x)\n",
    "print(x)"
   ]
  },
  {
   "cell_type": "markdown",
   "id": "748740cf",
   "metadata": {},
   "source": [
    "Q8.  Write a Python program to calculate the product, multiplying all \n",
    "the numbers in a given tuple. \n",
    "Original Tuple: \n",
    "(4, 3, 2, 2, -1, 18) \n",
    "Product - multiplying all the numbers of the said tuple: -864 \n",
    "Original Tuple: \n",
    "(2, 4, 8, 8, 3, 2, 9) \n",
    "Product - multiplying all the numbers of the said tuple:"
   ]
  }
 ],
 "metadata": {
  "kernelspec": {
   "display_name": "Python 3",
   "language": "python",
   "name": "python3"
  },
  "language_info": {
   "codemirror_mode": {
    "name": "ipython",
    "version": 3
   },
   "file_extension": ".py",
   "mimetype": "text/x-python",
   "name": "python",
   "nbconvert_exporter": "python",
   "pygments_lexer": "ipython3",
   "version": "3.11.9"
  }
 },
 "nbformat": 4,
 "nbformat_minor": 5
}
