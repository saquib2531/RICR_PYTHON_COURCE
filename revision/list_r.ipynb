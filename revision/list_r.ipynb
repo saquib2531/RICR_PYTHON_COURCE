{
 "cells": [
  {
   "cell_type": "markdown",
   "id": "f971a3e8",
   "metadata": {},
   "source": [
    "Q1. Write a program which add the element 13 to the end of the list \n",
    "numbers = [10, 22, 35, 45, 53] after that Print the list. "
   ]
  },
  {
   "cell_type": "code",
   "execution_count": 1,
   "id": "0269b16f",
   "metadata": {},
   "outputs": [
    {
     "name": "stdout",
     "output_type": "stream",
     "text": [
      "[10, 22, 35, 45, 53, 13]\n"
     ]
    }
   ],
   "source": [
    "numbers = [10, 22, 35, 45, 53]\n",
    "numbers.append(13)\n",
    "print(numbers)"
   ]
  },
  {
   "cell_type": "markdown",
   "id": "423af48c",
   "metadata": {},
   "source": [
    "Q2.  Write a program which insert the element 20 at index 2 in the \n",
    "list numbers = [5, 2, 6, 4, 9]. Print the list after inserting. "
   ]
  },
  {
   "cell_type": "code",
   "execution_count": 3,
   "id": "8b03873c",
   "metadata": {},
   "outputs": [
    {
     "name": "stdout",
     "output_type": "stream",
     "text": [
      "[5, 2, 20, 6, 4, 9]\n"
     ]
    }
   ],
   "source": [
    "numbers = [5, 2, 6, 4, 9]\n",
    "numbers.insert(2,20)\n",
    "print(numbers)"
   ]
  },
  {
   "cell_type": "markdown",
   "id": "3c7078dd",
   "metadata": {},
   "source": [
    "Q3. If List1 = [1,2,3,4] and List2 = [8,6,7,5] then what should be the \n",
    "code for the output: [1,2,3,4,8,6,7,5] "
   ]
  },
  {
   "cell_type": "code",
   "execution_count": 4,
   "id": "4755e07c",
   "metadata": {},
   "outputs": [
    {
     "name": "stdout",
     "output_type": "stream",
     "text": [
      "[1, 2, 3, 4, 8, 6, 7, 5]\n"
     ]
    }
   ],
   "source": [
    "List1 = [1,2,3,4]\n",
    "List2 = [8,6,7,5]\n",
    "print(List1+List2)"
   ]
  },
  {
   "cell_type": "markdown",
   "id": "4d721a9f",
   "metadata": {},
   "source": [
    "Q4. Delete the element at index 3 from the list numbers = [10, 2, 36, \n",
    "41, 5]. Print the list after deletion. "
   ]
  },
  {
   "cell_type": "code",
   "execution_count": 5,
   "id": "a189337d",
   "metadata": {},
   "outputs": [
    {
     "name": "stdout",
     "output_type": "stream",
     "text": [
      "[10, 2, 36, 5]\n"
     ]
    }
   ],
   "source": [
    "numbers = [10, 2, 36, 41, 5]\n",
    "numbers.pop(3)\n",
    "print(numbers)"
   ]
  },
  {
   "cell_type": "markdown",
   "id": "2f643bee",
   "metadata": {},
   "source": [
    "Q5. Delete the element at index 4 from the list Lst = ['apple' , \n",
    "'banana' , 'orange' , 'kiwi' , 'guava']   and Print the list after deletion \n",
    "and also print that deleted element. "
   ]
  },
  {
   "cell_type": "code",
   "execution_count": 6,
   "id": "57f2fbb2",
   "metadata": {},
   "outputs": [
    {
     "name": "stdout",
     "output_type": "stream",
     "text": [
      "['apple', 'banana', 'orange', 'kiwi']\n",
      "guava\n"
     ]
    }
   ],
   "source": [
    "lst = ['apple' , 'banana' , 'orange' , 'kiwi' , 'guava']\n",
    "a=lst.pop(4)\n",
    "print(lst)\n",
    "print(a)"
   ]
  },
  {
   "cell_type": "markdown",
   "id": "98c46e09",
   "metadata": {},
   "source": [
    "Q6. Remove the first occurrence of the element 3 from the list \n",
    "numbers = [1, 25, 3, 44, 33, 56]. Print the list after removing."
   ]
  },
  {
   "cell_type": "code",
   "execution_count": 7,
   "id": "79c79086",
   "metadata": {},
   "outputs": [
    {
     "name": "stdout",
     "output_type": "stream",
     "text": [
      "[1, 25, 44, 33, 56]\n"
     ]
    }
   ],
   "source": [
    "numbers = [1, 25, 3, 44, 33, 56]\n",
    "numbers.remove(3)\n",
    "print(numbers)"
   ]
  },
  {
   "cell_type": "markdown",
   "id": "eac24a51",
   "metadata": {},
   "source": [
    "Q7. Count the number of times the element 2 appears in the list Lst = \n",
    "[15, 2, 2, 3, 4, 2 ,7 ,8 ,45 ,2 ,2]. Print the count. \n"
   ]
  },
  {
   "cell_type": "code",
   "execution_count": 8,
   "id": "540cc40a",
   "metadata": {},
   "outputs": [
    {
     "name": "stdout",
     "output_type": "stream",
     "text": [
      "5\n"
     ]
    }
   ],
   "source": [
    "Lst = [15, 2, 2, 3, 4, 2 ,7 ,8 ,45 ,2 ,2]\n",
    "a=Lst.count(2)\n",
    "print(a)"
   ]
  },
  {
   "cell_type": "markdown",
   "id": "c448d673",
   "metadata": {},
   "source": [
    "Q8. Write a program which prints the reverse list of the given list: \n",
    "Lst = [15, 22, 35, 24, 65] "
   ]
  },
  {
   "cell_type": "code",
   "execution_count": 15,
   "id": "3babc710",
   "metadata": {},
   "outputs": [
    {
     "name": "stdout",
     "output_type": "stream",
     "text": [
      "[65, 24, 35, 22, 15]\n"
     ]
    }
   ],
   "source": [
    "Lst = [15, 22, 35, 24, 65] \n",
    "a=Lst[len(Lst)::-1]\n",
    "print(a)\n"
   ]
  },
  {
   "cell_type": "markdown",
   "id": "df615e94",
   "metadata": {},
   "source": [
    "Q9. Write a program to which add the element 7 at the last of list Lst \n",
    "= [4, 2, 5, 1, 3, 6, 8, 10, 3, 5], then sort the list. Print the list after \n",
    "these operations. "
   ]
  },
  {
   "cell_type": "code",
   "execution_count": 24,
   "id": "a5365e64",
   "metadata": {},
   "outputs": [
    {
     "name": "stdout",
     "output_type": "stream",
     "text": [
      "[1, 2, 3, 3, 4, 5, 5, 6, 7, 8, 10]\n",
      "None\n"
     ]
    }
   ],
   "source": [
    "lst = [4, 2, 5, 1, 3, 6, 8, 10, 3, 5]\n",
    "lst.append(7)\n",
    "a=sorted(lst)\n",
    "print(a)\n",
    "print(lst.sort())\n"
   ]
  },
  {
   "cell_type": "markdown",
   "id": "3d6d4691",
   "metadata": {},
   "source": [
    "Q10. Write a program which insert the element 10 at index 1 in the \n",
    "list Lst = [12, 24, 35, 24, 45], then remove the element 35. Print the \n",
    "list after these operations."
   ]
  },
  {
   "cell_type": "code",
   "execution_count": 25,
   "id": "018fab6b",
   "metadata": {},
   "outputs": [
    {
     "name": "stdout",
     "output_type": "stream",
     "text": [
      "[12, 10, 24, 24, 45]\n"
     ]
    }
   ],
   "source": [
    "lst = [12, 24, 35, 24, 45]\n",
    "lst.insert(1,10)\n",
    "lst.remove(35)\n",
    "print(lst)"
   ]
  },
  {
   "cell_type": "markdown",
   "id": "ef39ff5d",
   "metadata": {},
   "source": [
    "ass-2"
   ]
  },
  {
   "cell_type": "markdown",
   "id": "6b8a6f42",
   "metadata": {},
   "source": [
    "Q1. Write a python program which iterates the given list prints all \n",
    "the values inside the list via loop . \n",
    "lst = ['mango','apple','banana','ornage','kiwi'] "
   ]
  },
  {
   "cell_type": "code",
   "execution_count": 2,
   "id": "063097d3",
   "metadata": {},
   "outputs": [
    {
     "name": "stdout",
     "output_type": "stream",
     "text": [
      "mango,apple,banana,ornage,kiwi,"
     ]
    }
   ],
   "source": [
    "lst = ['mango','apple','banana','ornage','kiwi']\n",
    "for i in lst:\n",
    "    print(i,end=',')"
   ]
  },
  {
   "cell_type": "markdown",
   "id": "08905076",
   "metadata": {},
   "source": [
    "Q2. Write a python program which finds the sum to all the elements \n",
    "of the list by iterating that given list. \n",
    "lst = [2,4,6,8,12,10,14,24] "
   ]
  },
  {
   "cell_type": "code",
   "execution_count": 3,
   "id": "203ecfa8",
   "metadata": {},
   "outputs": [
    {
     "name": "stdout",
     "output_type": "stream",
     "text": [
      "80\n"
     ]
    }
   ],
   "source": [
    "lst = [2,4,6,8,12,10,14,24] \n",
    "s=0\n",
    "for i in lst:\n",
    "    s+=i\n",
    "print(s)"
   ]
  },
  {
   "cell_type": "markdown",
   "id": "2527c94d",
   "metadata": {},
   "source": [
    "Q3. Write a python program which finds the value (n) in the given list \n",
    "= [4,5,3,2,1,6,8], if present then return True otherwise False. \n",
    "Note: ‘n’ can be any input value. "
   ]
  },
  {
   "cell_type": "code",
   "execution_count": 5,
   "id": "0009f01e",
   "metadata": {},
   "outputs": [
    {
     "name": "stdout",
     "output_type": "stream",
     "text": [
      "True\n"
     ]
    }
   ],
   "source": [
    "lst= [4,5,3,2,1,6,8]\n",
    "n=int(input())\n",
    "if n in lst:\n",
    "    print(True)\n",
    "else:\n",
    "    print(False)"
   ]
  },
  {
   "cell_type": "markdown",
   "id": "40a28250",
   "metadata": {},
   "source": [
    "Q4. Write a python program which update odd indices elements of \n",
    "the list by ‘hii’ through iterating that given list. \n",
    "lst = [2,4,6,8,1] "
   ]
  },
  {
   "cell_type": "code",
   "execution_count": 12,
   "id": "3033626d",
   "metadata": {},
   "outputs": [
    {
     "name": "stdout",
     "output_type": "stream",
     "text": [
      "[2, 'hii', 6, 'hii', 1]\n"
     ]
    }
   ],
   "source": [
    "lst = [2,4,6,8,1] \n",
    "\n",
    "for i in range(len(lst)):\n",
    "    if i%2!=0:\n",
    "        lst[i]='hii'\n",
    "print(lst)\n"
   ]
  },
  {
   "cell_type": "markdown",
   "id": "8583fb11",
   "metadata": {},
   "source": [
    "Q5. Write a python program which finds and print the average of \n",
    "elements of the given list of integers. \n",
    "lst = [10,45,23,46,98,56] \n",
    "Note: If list changes your code should work properly. "
   ]
  },
  {
   "cell_type": "code",
   "execution_count": 15,
   "id": "9ce3e875",
   "metadata": {},
   "outputs": [
    {
     "name": "stdout",
     "output_type": "stream",
     "text": [
      "46.333333333333336\n"
     ]
    }
   ],
   "source": [
    "lst = [10,45,23,46,98,56] \n",
    "s=0\n",
    "for i in lst:\n",
    "    s+=i\n",
    "print(s/len(lst))\n"
   ]
  },
  {
   "cell_type": "markdown",
   "id": "1bf14d56",
   "metadata": {},
   "source": [
    "Q6. Write a python program which finds the sum of squares of all the \n",
    "elements of the given list. \n",
    "lst = [2,4,6,8,1]"
   ]
  },
  {
   "cell_type": "code",
   "execution_count": 17,
   "id": "1b51a41b",
   "metadata": {},
   "outputs": [
    {
     "name": "stdout",
     "output_type": "stream",
     "text": [
      "121\n"
     ]
    }
   ],
   "source": [
    "lst = [2,4,6,8,1]\n",
    "s=0\n",
    "for i in lst:\n",
    "    r=i**2\n",
    "    s+=r\n",
    "\n",
    "print(s)"
   ]
  },
  {
   "cell_type": "markdown",
   "id": "a18c8804",
   "metadata": {},
   "source": [
    "Q1. Write a python program to divide the list into two equal halves \n",
    "and print the sum of each half. \n",
    "lst1 = [2,4,6,8,3,5,8,9] \n",
    "Output:  20, 25 \n",
    "20= (2+4+6+8) \n",
    "25= (3+5+8+9) "
   ]
  },
  {
   "cell_type": "code",
   "execution_count": 24,
   "id": "14a5b425",
   "metadata": {},
   "outputs": [
    {
     "name": "stdout",
     "output_type": "stream",
     "text": [
      "20 25\n"
     ]
    }
   ],
   "source": [
    "lst1 = [2,4,6,8,3,5,8,9] \n",
    "fhalf=lst1[0:len(lst1)//2]\n",
    "shalf=lst1[len(lst1)//2:len(lst1)]\n",
    "f=0\n",
    "s=0\n",
    "for i in fhalf:\n",
    "    f+=i\n",
    "for i in shalf:\n",
    "    s+=i\n",
    "print(f,s)"
   ]
  },
  {
   "cell_type": "markdown",
   "id": "e7a4cdb5",
   "metadata": {},
   "source": [
    "Q2. Write a program to delete the element at the index equal to half \n",
    "the length of the given list. Print the list before and after deletion. \n",
    "Before: [2,3,4,5,6,7,8] \n",
    "After: [2,3,4,6,7,8] \n",
    "Note: List can be changed. "
   ]
  },
  {
   "cell_type": "code",
   "execution_count": 25,
   "id": "85a70382",
   "metadata": {},
   "outputs": [
    {
     "name": "stdout",
     "output_type": "stream",
     "text": [
      "[2, 3, 4, 6, 7, 8]\n"
     ]
    }
   ],
   "source": [
    "x=[2,3,4,5,6,7,8] \n",
    "x.pop(len(x)//2)\n",
    "print(x)"
   ]
  },
  {
   "cell_type": "markdown",
   "id": "8fcce17d",
   "metadata": {},
   "source": [
    "Q3. Write a program to append a new integer to this list, which is the \n",
    "sum of the first and last elements of the list. Print the list before and \n",
    "after appending. \n",
    "Sample List: [23,43,56,87] \n",
    "Output: [23,43,56,87,110] \n",
    "110= (23+87) "
   ]
  },
  {
   "cell_type": "code",
   "execution_count": 26,
   "id": "ec842dbd",
   "metadata": {},
   "outputs": [
    {
     "name": "stdout",
     "output_type": "stream",
     "text": [
      "[23, 43, 56, 87, 110]\n"
     ]
    }
   ],
   "source": [
    "x=[23,43,56,87] \n",
    "s=x[0]+x[-1]\n",
    "x.append(s)\n",
    "print(x)"
   ]
  },
  {
   "cell_type": "markdown",
   "id": "b242c400",
   "metadata": {},
   "source": [
    "Q4. Write a program to insert the product of the first and last \n",
    "elements at the third position in the list. Print the list before and \n",
    "after insertion. \n",
    "Sample list = [34,56,23,76,23,46] \n",
    "Output: [34,56,23,1564,76,23,46] \n",
    "1564=(34 * 46) "
   ]
  },
  {
   "cell_type": "code",
   "execution_count": 28,
   "id": "969a1d92",
   "metadata": {},
   "outputs": [
    {
     "name": "stdout",
     "output_type": "stream",
     "text": [
      "[34, 56, 23, 1564, 76, 23, 46]\n"
     ]
    }
   ],
   "source": [
    "x=[34,56,23,76,23,46] \n",
    "m=x[0]*x[-1]\n",
    "x.insert(3,m)\n",
    "print(x)"
   ]
  },
  {
   "cell_type": "markdown",
   "id": "3f953c27",
   "metadata": {},
   "source": [
    "Q5. Write a program to print the list of first and last elements of each \n",
    "list of lists. \n",
    "lst2 = [[23,45,76],[45,3,12],[3,5,20]] \n",
    "Output: [23,76,45,12,3,20] "
   ]
  },
  {
   "cell_type": "code",
   "execution_count": 30,
   "id": "6c1e55f5",
   "metadata": {},
   "outputs": [
    {
     "name": "stdout",
     "output_type": "stream",
     "text": [
      "[23, 45, 76, 3, 5, 20]\n"
     ]
    }
   ],
   "source": [
    "x=[[23,45,76],[45,3,12],[3,5,20]] \n",
    "print(x[0]+x[-1])"
   ]
  },
  {
   "cell_type": "markdown",
   "id": "c56bb109",
   "metadata": {},
   "source": [
    "Q6. Write a program to calculate and print the sum of max elements \n",
    "of each list of lists. \n",
    "lst3 = [[1,2,4,5],[3,5,4,3],[4,5,3,2]] \n",
    "Output: 15 (5+5+5) "
   ]
  },
  {
   "cell_type": "code",
   "execution_count": 31,
   "id": "2afa0075",
   "metadata": {},
   "outputs": [
    {
     "name": "stdout",
     "output_type": "stream",
     "text": [
      "15\n"
     ]
    }
   ],
   "source": [
    "x=[[1,2,4,5],[3,5,4,3],[4,5,3,2]] \n",
    "s=0\n",
    "for i in x:\n",
    "    r=max(i)\n",
    "    s+=r\n",
    "print(s)\n"
   ]
  },
  {
   "cell_type": "markdown",
   "id": "32c29f84",
   "metadata": {},
   "source": [
    "Q7. Write a program to calculate and print the sum of elements in \n",
    "each list of lists and add the resultant values. Without using sum() \n",
    "function. \n",
    "Sample list = [[1,2,4,5],[3,5,4,3],[4,5,3,2]] \n",
    "Output: [12, 15, 14] \n",
    "41 (12+15+14) \n"
   ]
  },
  {
   "cell_type": "code",
   "execution_count": 32,
   "id": "c2f781a5",
   "metadata": {},
   "outputs": [
    {
     "name": "stdout",
     "output_type": "stream",
     "text": [
      "[12, 15, 14]\n"
     ]
    }
   ],
   "source": [
    "x= [[1,2,4,5],[3,5,4,3],[4,5,3,2]]\n",
    "y=[]\n",
    "for i in x:\n",
    "    s=0\n",
    "    for j in i:\n",
    "        s+=j\n",
    "    y.append(s)\n",
    "print(y)\n"
   ]
  },
  {
   "cell_type": "markdown",
   "id": "29552ca7",
   "metadata": {},
   "source": [
    "Q8. Find the largest element of the above given list without using \n",
    "max() and sort() functions. \n",
    "lst = [2,5,7,1,4,6,10,11,6,12] "
   ]
  },
  {
   "cell_type": "code",
   "execution_count": 36,
   "id": "a289fc30",
   "metadata": {},
   "outputs": [
    {
     "name": "stdout",
     "output_type": "stream",
     "text": [
      "15\n"
     ]
    }
   ],
   "source": [
    "lst = [2,5,7,1,4,6,10,11,6,12,15] \n",
    "if lst[0]>lst[1]:\n",
    "    largest=lst[0]\n",
    "else:\n",
    "    largest=lst[1]\n",
    "for i in range(2,len(lst)):\n",
    "    if lst[i]>largest:\n",
    "        largest=lst[i]\n",
    "print(largest)\n",
    "    "
   ]
  },
  {
   "cell_type": "markdown",
   "id": "4f44bbf1",
   "metadata": {},
   "source": [
    "Q9. Find the Smallest element of the above given list without using \n",
    "min() and sort() functions. "
   ]
  },
  {
   "cell_type": "code",
   "execution_count": null,
   "id": "398dcfb2",
   "metadata": {},
   "outputs": [
    {
     "name": "stdout",
     "output_type": "stream",
     "text": [
      "0\n"
     ]
    }
   ],
   "source": [
    "lst = [2,5,7,1,4,6,10,11,6,12] \n",
    "if lst[0]<lst[1]:\n",
    "    smallest=lst[0]\n",
    "else:\n",
    "    smallest=lst[1]\n",
    "for i in range(2,len(lst)):\n",
    "    if lst[i]<smallest:\n",
    "        smallest=lst[i]\n",
    "print(smallest)"
   ]
  },
  {
   "cell_type": "markdown",
   "id": "8229df89",
   "metadata": {},
   "source": [
    "Q10. Find the Second largest element of the above given list without \n",
    "using max() and sort() functions. "
   ]
  },
  {
   "cell_type": "code",
   "execution_count": 42,
   "id": "d1218e03",
   "metadata": {},
   "outputs": [
    {
     "name": "stdout",
     "output_type": "stream",
     "text": [
      "11\n"
     ]
    }
   ],
   "source": [
    "lst = [2,5,7,1,4,6,10,11,6,12] \n",
    "if lst[0]>lst[1]:\n",
    "    slargest=lst[1]\n",
    "    largest=lst[0]\n",
    "else:\n",
    "    slargest=lst[0]\n",
    "    largest=lst[1]\n",
    "for i in range(2,len(lst)):\n",
    "    if lst[i]>largest:\n",
    "        slargest=largest\n",
    "        largest=lst[i]\n",
    "\n",
    "    elif lst[i] <largest and lst[i]>slargest:\n",
    "        slargest=lst[i]\n",
    "\n",
    "    \n",
    "    \n",
    "print(slargest)"
   ]
  },
  {
   "cell_type": "markdown",
   "id": "c5600b98",
   "metadata": {},
   "source": [
    "Q11. Find the Second Smallest element of the above given list \n",
    "without using min() and sort() functions."
   ]
  },
  {
   "cell_type": "code",
   "execution_count": 43,
   "id": "63de5d00",
   "metadata": {},
   "outputs": [
    {
     "name": "stdout",
     "output_type": "stream",
     "text": [
      "2\n"
     ]
    }
   ],
   "source": [
    "lst = [2,5,7,1,4,6,10,11,6,12] \n",
    "if lst[0]<lst[1]:\n",
    "    smallest=lst[0]\n",
    "    ssmallet=lst[1]\n",
    "else:\n",
    "    smallest=lst[1]\n",
    "    ssmallet=lst[0]\n",
    "for i in range(2,len(lst)):\n",
    "    if lst[i]<smallest:\n",
    "        ssmallet=smallest\n",
    "        smallest=lst[i]\n",
    "    elif lst[i]> smallest and lst[i]<ssmallet:\n",
    "        ssmallet=lst[i]\n",
    "print(ssmallet)"
   ]
  },
  {
   "cell_type": "markdown",
   "id": "c63b23f4",
   "metadata": {},
   "source": [
    "Q1. Create a new list which have the squares of every element of the \n",
    "given list using list comprehension. \n",
    "lst = [2,3,4,5,6,7]  \n",
    "Output = [4,9,16,25,36,49] "
   ]
  },
  {
   "cell_type": "code",
   "execution_count": 1,
   "id": "c864a284",
   "metadata": {},
   "outputs": [
    {
     "name": "stdout",
     "output_type": "stream",
     "text": [
      "[4, 9, 16, 25, 36, 49]\n"
     ]
    }
   ],
   "source": [
    "lst = [2,3,4,5,6,7] \n",
    "x=[i**2 for i in lst]\n",
    "print(x)"
   ]
  },
  {
   "cell_type": "markdown",
   "id": "d1296ce8",
   "metadata": {},
   "source": [
    "Q2. Write a Python program using a list comprehension to create a \n",
    "list of even numbers less than 8 from 1 to 20. "
   ]
  },
  {
   "cell_type": "code",
   "execution_count": 3,
   "id": "bef3c2a6",
   "metadata": {},
   "outputs": [
    {
     "name": "stdout",
     "output_type": "stream",
     "text": [
      "[2, 4, 6]\n"
     ]
    }
   ],
   "source": [
    "x=[i for i in range(2,8,2) ]\n",
    "print(x)"
   ]
  },
  {
   "cell_type": "markdown",
   "id": "5440f061",
   "metadata": {},
   "source": [
    "Q3. Write a Python program using a list comprehension to create a \n",
    "list of numbers from 1 to 10, but only include numbers that are \n",
    "greater than 5. "
   ]
  },
  {
   "cell_type": "code",
   "execution_count": 6,
   "id": "c144147f",
   "metadata": {},
   "outputs": [
    {
     "name": "stdout",
     "output_type": "stream",
     "text": [
      "[6, 7, 8, 9, 10]\n"
     ]
    }
   ],
   "source": [
    "x=[i for i in range(11) if i>5]\n",
    "print(x)"
   ]
  },
  {
   "cell_type": "markdown",
   "id": "d9a327be",
   "metadata": {},
   "source": [
    "Q4. Write a Python program using a list comprehension to create a \n",
    "list of the first letters of each word in the given list. \n",
    "lst = ['apple', 'banana', 'cherry']. "
   ]
  },
  {
   "cell_type": "code",
   "execution_count": 8,
   "id": "3e822555",
   "metadata": {},
   "outputs": [
    {
     "name": "stdout",
     "output_type": "stream",
     "text": [
      "['a', 'b', 'c']\n"
     ]
    }
   ],
   "source": [
    "lst = ['apple', 'banana', 'cherry']\n",
    "x=[lst[i][0] for i in range(len(lst))  ]\n",
    "print(x)"
   ]
  },
  {
   "cell_type": "markdown",
   "id": "0be9f1a5",
   "metadata": {},
   "source": [
    "Q5. Write a Python program using a list comprehension to create a \n",
    "list of the lengths of each word in the given list. \n",
    "lst = ['python', 'java', 'c++']. "
   ]
  },
  {
   "cell_type": "code",
   "execution_count": 9,
   "id": "9e4a15b8",
   "metadata": {},
   "outputs": [
    {
     "name": "stdout",
     "output_type": "stream",
     "text": [
      "[6, 4, 3]\n"
     ]
    }
   ],
   "source": [
    "lst = ['python', 'java', 'c++']\n",
    "x=[len(i) for i in lst]\n",
    "print(x)"
   ]
  },
  {
   "cell_type": "markdown",
   "id": "585efabc",
   "metadata": {},
   "source": [
    "Q6. Write a Python program using a nested list comprehension to \n",
    "flatten the given list. \n",
    "Input list: [[1, 2, 3], [4, 5], [6, 7, 8]]. \n",
    "Output: [1, 2, 3, 4, 5, 6, 7, 8] "
   ]
  },
  {
   "cell_type": "code",
   "execution_count": 12,
   "id": "2738b589",
   "metadata": {},
   "outputs": [
    {
     "name": "stdout",
     "output_type": "stream",
     "text": [
      "[1, 2, 3, 4, 5, 6, 7, 8]\n"
     ]
    }
   ],
   "source": [
    "lst=[[1, 2, 3], [4, 5], [6, 7, 8]]\n",
    "x=[j for i in lst for j in i]\n",
    "print(x)"
   ]
  },
  {
   "cell_type": "markdown",
   "id": "a390c52b",
   "metadata": {},
   "source": [
    "Q7. Write a Python program using a list comprehension to create a \n",
    "list of numbers from 1 to 20 that are divisible by both 2 and 3."
   ]
  },
  {
   "cell_type": "code",
   "execution_count": 13,
   "id": "0611ede7",
   "metadata": {},
   "outputs": [
    {
     "name": "stdout",
     "output_type": "stream",
     "text": [
      "[6, 12, 18]\n"
     ]
    }
   ],
   "source": [
    "x=[i for i in range(1,21) if i%2==0 and i%3==0]\n",
    "print(x)"
   ]
  },
  {
   "cell_type": "markdown",
   "id": "3a39b751",
   "metadata": {},
   "source": [
    "Q8. Write a Python program using a list comprehension to create a \n",
    "list of the sums of corresponding elements from the lists [1, 2, 3] and \n",
    "[4, 5, 6]. \n",
    "Output: [5, 7, 9] "
   ]
  },
  {
   "cell_type": "code",
   "execution_count": 18,
   "id": "45dc95d6",
   "metadata": {},
   "outputs": [
    {
     "name": "stdout",
     "output_type": "stream",
     "text": [
      "[5, 7, 9]\n"
     ]
    }
   ],
   "source": [
    "a=[1, 2, 3]\n",
    "b=[4, 5, 6]\n",
    "x=[a[i]+b[j] for i in range(len(a)) for j in range(len(b)) if i==j ]\n",
    "print(x)"
   ]
  },
  {
   "cell_type": "markdown",
   "id": "70280c58",
   "metadata": {},
   "source": [
    "Q9. Write a python program using list comprehension to create a list \n",
    "which has the sums of elements of list of given list. \n",
    "lst = [[1,2,3],[3,4,5],[3,4,5],[5,7,3,2]] \n",
    "Output: [6,12,12,17]"
   ]
  },
  {
   "cell_type": "code",
   "execution_count": 19,
   "id": "d7b4016f",
   "metadata": {},
   "outputs": [
    {
     "name": "stdout",
     "output_type": "stream",
     "text": [
      "[6, 12, 12, 17]\n"
     ]
    }
   ],
   "source": [
    "lst = [[1,2,3],[3,4,5],[3,4,5],[5,7,3,2]] \n",
    "x=[sum(i) for i in lst]\n",
    "print(x)"
   ]
  },
  {
   "cell_type": "markdown",
   "id": "88e742da",
   "metadata": {},
   "source": [
    "Q10. Write a python program using list comprehension to create a \n",
    "list which has the min of elements of list of given list. \n",
    "lst = [[1,2,3],[3,4,5],[3,4,5],[5,7,3,2]] \n",
    "Output: [1,3,3,2]"
   ]
  },
  {
   "cell_type": "code",
   "execution_count": 20,
   "id": "0546645e",
   "metadata": {},
   "outputs": [
    {
     "name": "stdout",
     "output_type": "stream",
     "text": [
      "[1, 3, 3, 2]\n"
     ]
    }
   ],
   "source": [
    "lst = [[1,2,3],[3,4,5],[3,4,5],[5,7,3,2]] \n",
    "x=[min(i) for i in lst]\n",
    "print(x)"
   ]
  }
 ],
 "metadata": {
  "kernelspec": {
   "display_name": "Python 3",
   "language": "python",
   "name": "python3"
  },
  "language_info": {
   "codemirror_mode": {
    "name": "ipython",
    "version": 3
   },
   "file_extension": ".py",
   "mimetype": "text/x-python",
   "name": "python",
   "nbconvert_exporter": "python",
   "pygments_lexer": "ipython3",
   "version": "3.11.9"
  }
 },
 "nbformat": 4,
 "nbformat_minor": 5
}
